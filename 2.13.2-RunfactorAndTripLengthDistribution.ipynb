{
 "cells": [
  {
   "cell_type": "code",
   "execution_count": 35,
   "metadata": {},
   "outputs": [],
   "source": [
    "import os\n",
    "import pandas as pd\n",
    "import plotly\n",
    "import numpy as np\n",
    "import plotly.express as px\n",
    "import plotly.graph_objects as go\n",
    "import plotly as pys\n",
    "import ipywidgets as widgets\n",
    "from ipywidgets import Layout\n",
    "\n",
    "import _global_scripts as gs"
   ]
  },
  {
   "cell_type": "markdown",
   "metadata": {},
   "source": [
    "## Purpose"
   ]
  },
  {
   "cell_type": "markdown",
   "metadata": {},
   "source": [
    "E2.13 - Investigation #13: Implement dCRT ASC for distance bins\n",
    "- E2.13.1 - Single TLF, RUNFACTOR = 1.5\n",
    "- E2.13.2 - Single TLF, RUNFACTOR = 2.5\n",
    "- E2.13.3 - \n"
   ]
  },
  {
   "cell_type": "markdown",
   "metadata": {},
   "source": [
    "## Inputs"
   ]
  },
  {
   "cell_type": "code",
   "execution_count": 36,
   "metadata": {},
   "outputs": [],
   "source": [
    "# set whether you want PA or OD analysis\n",
    "pa_od = 'PA'\n",
    "pa_od_function = 'pa'"
   ]
  },
  {
   "cell_type": "code",
   "execution_count": 37,
   "metadata": {},
   "outputs": [],
   "source": [
    "df_tdm_obs = pd.read_csv(f\"_data/base_observed_summary_{pa_od_function}.csv\").sort_values(by=['Source','station'], ascending=True).reset_index(drop=True)\n",
    "if(pa_od == 'PA'):\n",
    "        df_tdm_obs = df_tdm_obs.drop(columns={'Alt_PA','Alt_Direct_PA','Alt_Transfer_PA'})\n",
    "\n",
    "# read in results for e2.13.1 before recalibration\n",
    "path_brding_summary_2131 = r\"_data/E2.13/E2.13.1_node.csv\"\n",
    "path_rider_summary_2131  = r\"_data/E2.13/E2.13.1_link.csv\"\n",
    "path_brding_summary_2132 = r\"_data/E2.13/E2.13.2_node.csv\"\n",
    "path_rider_summary_2132  = r\"_data/E2.13/E2.13.2_link.csv\""
   ]
  },
  {
   "cell_type": "code",
   "execution_count": null,
   "metadata": {},
   "outputs": [
    {
     "name": "stderr",
     "output_type": "stream",
     "text": [
      "e:\\GitHub\\WF-TDM-v9x\\_scripts\\_global_scripts.py:27: DtypeWarning:\n",
      "\n",
      "Columns (3) have mixed types. Specify dtype option on import or set low_memory=False.\n",
      "\n",
      "e:\\GitHub\\WF-TDM-v9x\\_scripts\\_global_scripts.py:27: DtypeWarning:\n",
      "\n",
      "Columns (3) have mixed types. Specify dtype option on import or set low_memory=False.\n",
      "\n"
     ]
    },
    {
     "data": {
      "application/vnd.microsoft.datawrangler.viewer.v0+json": {
       "columns": [
        {
         "name": "index",
         "rawType": "int64",
         "type": "integer"
        },
        {
         "name": "Source",
         "rawType": "object",
         "type": "string"
        },
        {
         "name": "station",
         "rawType": "object",
         "type": "string"
        },
        {
         "name": "AccessMode",
         "rawType": "object",
         "type": "string"
        },
        {
         "name": "Brd_PA",
         "rawType": "float64",
         "type": "float"
        },
        {
         "name": "Brd_Direct_PA",
         "rawType": "float64",
         "type": "float"
        },
        {
         "name": "Brd_Transfer_PA",
         "rawType": "float64",
         "type": "float"
        }
       ],
       "conversionMethod": "pd.DataFrame",
       "ref": "782da7a2-c6b3-4aaa-9a08-f26f298318fd",
       "rows": [
        [
         "0",
         "OBS",
         "01-PROVO CENTRAL STATION",
         "drive",
         "2283.379",
         "0.0",
         "0.0"
        ],
        [
         "1",
         "OBS",
         "01-PROVO CENTRAL STATION",
         "walk",
         "945.908",
         "0.0",
         "0.0"
        ],
        [
         "2",
         "OBS",
         "02-OREM CENTRAL STATION",
         "drive",
         "1475.024",
         "0.0",
         "0.0"
        ],
        [
         "3",
         "OBS",
         "02-OREM CENTRAL STATION",
         "walk",
         "371.804",
         "0.0",
         "0.0"
        ],
        [
         "4",
         "OBS",
         "03-AMERICAN FORK STATION",
         "drive",
         "1423.768",
         "0.0",
         "0.0"
        ],
        [
         "5",
         "OBS",
         "03-AMERICAN FORK STATION",
         "walk",
         "136.077",
         "0.0",
         "0.0"
        ],
        [
         "6",
         "OBS",
         "04-LEHI STATION",
         "drive",
         "1128.372",
         "0.0",
         "0.0"
        ],
        [
         "7",
         "OBS",
         "04-LEHI STATION",
         "walk",
         "292.189",
         "0.0",
         "0.0"
        ],
        [
         "8",
         "OBS",
         "05-DRAPER STATION",
         "drive",
         "935.648",
         "0.0",
         "0.0"
        ],
        [
         "9",
         "OBS",
         "05-DRAPER STATION",
         "walk",
         "144.648",
         "0.0",
         "0.0"
        ],
        [
         "10",
         "OBS",
         "06-SOUTH JORDAN STATION",
         "drive",
         "985.477",
         "0.0",
         "0.0"
        ],
        [
         "11",
         "OBS",
         "06-SOUTH JORDAN STATION",
         "walk",
         "206.56",
         "0.0",
         "0.0"
        ],
        [
         "12",
         "OBS",
         "07-MURRAY CENTRAL STATION",
         "drive",
         "1029.668",
         "0.0",
         "0.0"
        ],
        [
         "13",
         "OBS",
         "07-MURRAY CENTRAL STATION",
         "walk",
         "805.649",
         "0.0",
         "0.0"
        ],
        [
         "14",
         "OBS",
         "08-SALT LAKE CENTRAL STATION",
         "drive",
         "367.738",
         "0.0",
         "0.0"
        ],
        [
         "15",
         "OBS",
         "08-SALT LAKE CENTRAL STATION",
         "walk",
         "529.444",
         "0.0",
         "0.0"
        ],
        [
         "16",
         "OBS",
         "09-NORTH TEMPLE STATION",
         "drive",
         "335.673",
         "0.0",
         "0.0"
        ],
        [
         "17",
         "OBS",
         "09-NORTH TEMPLE STATION",
         "walk",
         "661.147",
         "0.0",
         "0.0"
        ],
        [
         "18",
         "OBS",
         "10-WOODS CROSS STATION",
         "drive",
         "594.331",
         "0.0",
         "0.0"
        ],
        [
         "19",
         "OBS",
         "10-WOODS CROSS STATION",
         "walk",
         "173.169",
         "0.0",
         "0.0"
        ],
        [
         "20",
         "OBS",
         "11-FARMINGTON STATION",
         "drive",
         "385.481",
         "0.0",
         "0.0"
        ],
        [
         "21",
         "OBS",
         "11-FARMINGTON STATION",
         "walk",
         "120.055",
         "0.0",
         "0.0"
        ],
        [
         "22",
         "OBS",
         "12-LAYTON STATION",
         "drive",
         "1113.116",
         "0.0",
         "0.0"
        ],
        [
         "23",
         "OBS",
         "12-LAYTON STATION",
         "walk",
         "384.134",
         "0.0",
         "0.0"
        ],
        [
         "24",
         "OBS",
         "13-CLEARFIELD STATION",
         "drive",
         "745.345",
         "0.0",
         "0.0"
        ],
        [
         "25",
         "OBS",
         "13-CLEARFIELD STATION",
         "walk",
         "238.296",
         "0.0",
         "0.0"
        ],
        [
         "26",
         "OBS",
         "14-ROY STATION",
         "drive",
         "699.224",
         "0.0",
         "0.0"
        ],
        [
         "27",
         "OBS",
         "14-ROY STATION",
         "walk",
         "168.575",
         "0.0",
         "0.0"
        ],
        [
         "28",
         "OBS",
         "15-OGDEN STATION",
         "drive",
         "1452.874",
         "0.0",
         "0.0"
        ],
        [
         "29",
         "OBS",
         "15-OGDEN STATION",
         "walk",
         "495.237",
         "0.0",
         "0.0"
        ],
        [
         "30",
         "TDM",
         "01-PROVO CENTRAL STATION",
         "drive",
         "211.96",
         "211.42",
         "0.54"
        ],
        [
         "31",
         "TDM",
         "01-PROVO CENTRAL STATION",
         "walk",
         "1214.89",
         "159.2",
         "1055.69"
        ],
        [
         "32",
         "TDM",
         "02-OREM CENTRAL STATION",
         "drive",
         "1121.42",
         "1121.2",
         "0.22"
        ],
        [
         "33",
         "TDM",
         "02-OREM CENTRAL STATION",
         "walk",
         "232.46",
         "130.72",
         "101.74"
        ],
        [
         "34",
         "TDM",
         "03-AMERICAN FORK STATION",
         "drive",
         "1518.54",
         "1518.51",
         "0.03"
        ],
        [
         "35",
         "TDM",
         "03-AMERICAN FORK STATION",
         "walk",
         "80.6",
         "80.6",
         "0.0"
        ],
        [
         "36",
         "TDM",
         "04-LEHI STATION",
         "drive",
         "1304.19",
         "1304.08",
         "0.11"
        ],
        [
         "37",
         "TDM",
         "04-LEHI STATION",
         "walk",
         "346.14",
         "209.31",
         "136.83"
        ],
        [
         "38",
         "TDM",
         "05-DRAPER STATION",
         "drive",
         "1109.81",
         "1109.74",
         "0.07"
        ],
        [
         "39",
         "TDM",
         "05-DRAPER STATION",
         "walk",
         "178.98",
         "149.63",
         "29.35"
        ],
        [
         "40",
         "TDM",
         "06-SOUTH JORDAN STATION",
         "drive",
         "1353.07",
         "1353.08",
         "-0.01"
        ],
        [
         "41",
         "TDM",
         "06-SOUTH JORDAN STATION",
         "walk",
         "318.14",
         "256.61",
         "61.53"
        ],
        [
         "42",
         "TDM",
         "07-MURRAY CENTRAL STATION",
         "drive",
         "786.39",
         "786.34",
         "0.05"
        ],
        [
         "43",
         "TDM",
         "07-MURRAY CENTRAL STATION",
         "walk",
         "695.62",
         "132.21",
         "563.41"
        ],
        [
         "44",
         "TDM",
         "08-SALT LAKE CENTRAL STATION",
         "drive",
         "149.31",
         "149.3",
         "0.01"
        ],
        [
         "45",
         "TDM",
         "08-SALT LAKE CENTRAL STATION",
         "walk",
         "597.45",
         "10.87",
         "586.58"
        ],
        [
         "46",
         "TDM",
         "09-NORTH TEMPLE STATION",
         "drive",
         "74.4",
         "74.25",
         "0.15"
        ],
        [
         "47",
         "TDM",
         "09-NORTH TEMPLE STATION",
         "walk",
         "229.97",
         "174.58",
         "55.39"
        ],
        [
         "48",
         "TDM",
         "10-WOODS CROSS STATION",
         "drive",
         "948.08",
         "948.07",
         "0.01"
        ],
        [
         "49",
         "TDM",
         "10-WOODS CROSS STATION",
         "walk",
         "384.88",
         "296.84",
         "88.04"
        ]
       ],
       "shape": {
        "columns": 6,
        "rows": 120
       }
      },
      "text/html": [
       "<div>\n",
       "<style scoped>\n",
       "    .dataframe tbody tr th:only-of-type {\n",
       "        vertical-align: middle;\n",
       "    }\n",
       "\n",
       "    .dataframe tbody tr th {\n",
       "        vertical-align: top;\n",
       "    }\n",
       "\n",
       "    .dataframe thead th {\n",
       "        text-align: right;\n",
       "    }\n",
       "</style>\n",
       "<table border=\"1\" class=\"dataframe\">\n",
       "  <thead>\n",
       "    <tr style=\"text-align: right;\">\n",
       "      <th></th>\n",
       "      <th>Source</th>\n",
       "      <th>station</th>\n",
       "      <th>AccessMode</th>\n",
       "      <th>Brd_PA</th>\n",
       "      <th>Brd_Direct_PA</th>\n",
       "      <th>Brd_Transfer_PA</th>\n",
       "    </tr>\n",
       "  </thead>\n",
       "  <tbody>\n",
       "    <tr>\n",
       "      <th>0</th>\n",
       "      <td>OBS</td>\n",
       "      <td>01-PROVO CENTRAL STATION</td>\n",
       "      <td>drive</td>\n",
       "      <td>2283.379</td>\n",
       "      <td>0.00</td>\n",
       "      <td>0.00</td>\n",
       "    </tr>\n",
       "    <tr>\n",
       "      <th>1</th>\n",
       "      <td>OBS</td>\n",
       "      <td>01-PROVO CENTRAL STATION</td>\n",
       "      <td>walk</td>\n",
       "      <td>945.908</td>\n",
       "      <td>0.00</td>\n",
       "      <td>0.00</td>\n",
       "    </tr>\n",
       "    <tr>\n",
       "      <th>2</th>\n",
       "      <td>OBS</td>\n",
       "      <td>02-OREM CENTRAL STATION</td>\n",
       "      <td>drive</td>\n",
       "      <td>1475.024</td>\n",
       "      <td>0.00</td>\n",
       "      <td>0.00</td>\n",
       "    </tr>\n",
       "    <tr>\n",
       "      <th>3</th>\n",
       "      <td>OBS</td>\n",
       "      <td>02-OREM CENTRAL STATION</td>\n",
       "      <td>walk</td>\n",
       "      <td>371.804</td>\n",
       "      <td>0.00</td>\n",
       "      <td>0.00</td>\n",
       "    </tr>\n",
       "    <tr>\n",
       "      <th>4</th>\n",
       "      <td>OBS</td>\n",
       "      <td>03-AMERICAN FORK STATION</td>\n",
       "      <td>drive</td>\n",
       "      <td>1423.768</td>\n",
       "      <td>0.00</td>\n",
       "      <td>0.00</td>\n",
       "    </tr>\n",
       "    <tr>\n",
       "      <th>...</th>\n",
       "      <td>...</td>\n",
       "      <td>...</td>\n",
       "      <td>...</td>\n",
       "      <td>...</td>\n",
       "      <td>...</td>\n",
       "      <td>...</td>\n",
       "    </tr>\n",
       "    <tr>\n",
       "      <th>115</th>\n",
       "      <td>TDM_2.13.1</td>\n",
       "      <td>11-FARMINGTON STATION</td>\n",
       "      <td>walk</td>\n",
       "      <td>196.720</td>\n",
       "      <td>135.59</td>\n",
       "      <td>61.13</td>\n",
       "    </tr>\n",
       "    <tr>\n",
       "      <th>116</th>\n",
       "      <td>TDM_2.13.1</td>\n",
       "      <td>12-LAYTON STATION</td>\n",
       "      <td>walk</td>\n",
       "      <td>362.360</td>\n",
       "      <td>140.23</td>\n",
       "      <td>222.13</td>\n",
       "    </tr>\n",
       "    <tr>\n",
       "      <th>117</th>\n",
       "      <td>TDM_2.13.1</td>\n",
       "      <td>13-CLEARFIELD STATION</td>\n",
       "      <td>walk</td>\n",
       "      <td>633.370</td>\n",
       "      <td>504.98</td>\n",
       "      <td>128.39</td>\n",
       "    </tr>\n",
       "    <tr>\n",
       "      <th>118</th>\n",
       "      <td>TDM_2.13.1</td>\n",
       "      <td>14-ROY STATION</td>\n",
       "      <td>walk</td>\n",
       "      <td>386.180</td>\n",
       "      <td>349.84</td>\n",
       "      <td>36.34</td>\n",
       "    </tr>\n",
       "    <tr>\n",
       "      <th>119</th>\n",
       "      <td>TDM_2.13.1</td>\n",
       "      <td>15-OGDEN STATION</td>\n",
       "      <td>walk</td>\n",
       "      <td>638.570</td>\n",
       "      <td>51.80</td>\n",
       "      <td>586.77</td>\n",
       "    </tr>\n",
       "  </tbody>\n",
       "</table>\n",
       "<p>120 rows × 6 columns</p>\n",
       "</div>"
      ],
      "text/plain": [
       "         Source                   station AccessMode    Brd_PA  Brd_Direct_PA  \\\n",
       "0           OBS  01-PROVO CENTRAL STATION      drive  2283.379           0.00   \n",
       "1           OBS  01-PROVO CENTRAL STATION       walk   945.908           0.00   \n",
       "2           OBS   02-OREM CENTRAL STATION      drive  1475.024           0.00   \n",
       "3           OBS   02-OREM CENTRAL STATION       walk   371.804           0.00   \n",
       "4           OBS  03-AMERICAN FORK STATION      drive  1423.768           0.00   \n",
       "..          ...                       ...        ...       ...            ...   \n",
       "115  TDM_2.13.1     11-FARMINGTON STATION       walk   196.720         135.59   \n",
       "116  TDM_2.13.1         12-LAYTON STATION       walk   362.360         140.23   \n",
       "117  TDM_2.13.1     13-CLEARFIELD STATION       walk   633.370         504.98   \n",
       "118  TDM_2.13.1            14-ROY STATION       walk   386.180         349.84   \n",
       "119  TDM_2.13.1          15-OGDEN STATION       walk   638.570          51.80   \n",
       "\n",
       "     Brd_Transfer_PA  \n",
       "0               0.00  \n",
       "1               0.00  \n",
       "2               0.00  \n",
       "3               0.00  \n",
       "4               0.00  \n",
       "..               ...  \n",
       "115            61.13  \n",
       "116           222.13  \n",
       "117           128.39  \n",
       "118            36.34  \n",
       "119           586.77  \n",
       "\n",
       "[120 rows x 6 columns]"
      ]
     },
     "metadata": {},
     "output_type": "display_data"
    }
   ],
   "source": [
    "# read in stations and summarize tdm results\n",
    "df_stations1 = gs.df_stations[['station','N']]\n",
    "df_tdm_2131 = gs.summarize_tdm_stats(path_brding_summary_2131,path_rider_summary_2131, df_stations1, 'TDM_2.13.1', pa_od_function)\n",
    "df_tdm_2132 = gs.summarize_tdm_stats(path_brding_summary_2132,path_rider_summary_2132, df_stations1, 'TDM_2.13.2', pa_od_function)\n",
    "\n",
    "\n",
    "# concat dataframes\n",
    "df_tdm_obs_new = pd.concat([\n",
    "        df_tdm_obs,\n",
    "        df_tdm_2131,\n",
    "        df_tdm_2132\n",
    "    ]).reset_index()\n",
    "df_tdm_obs_new = df_tdm_obs_new.round(3).fillna(0)\n",
    "df_tdm_obs_new = df_tdm_obs_new.drop(columns='index')\n",
    "df_tdm_obs_new = df_tdm_obs_new.loc[:, ~df_tdm_obs_new.columns.str.contains('^Unnamed')]\n",
    "\n",
    "# rename\n",
    "sumStats = df_tdm_obs_new.copy()\n",
    "display(df_tdm_obs_new)"
   ]
  },
  {
   "cell_type": "code",
   "execution_count": 39,
   "metadata": {},
   "outputs": [
    {
     "data": {
      "application/vnd.microsoft.datawrangler.viewer.v0+json": {
       "columns": [
        {
         "name": "index",
         "rawType": "int64",
         "type": "integer"
        },
        {
         "name": "Source",
         "rawType": "object",
         "type": "string"
        },
        {
         "name": "station",
         "rawType": "object",
         "type": "string"
        },
        {
         "name": "AccessMode",
         "rawType": "object",
         "type": "string"
        },
        {
         "name": "Brd_PA",
         "rawType": "float64",
         "type": "float"
        },
        {
         "name": "Brd_Direct_PA",
         "rawType": "float64",
         "type": "float"
        },
        {
         "name": "Brd_Transfer_PA",
         "rawType": "float64",
         "type": "float"
        },
        {
         "name": "Source_Brd_PA",
         "rawType": "float64",
         "type": "float"
        },
        {
         "name": "Source_Brd_Direct_PA",
         "rawType": "float64",
         "type": "float"
        },
        {
         "name": "Source_Brd_Transfer_PA",
         "rawType": "float64",
         "type": "float"
        },
        {
         "name": "Brd_PA_Perc",
         "rawType": "float64",
         "type": "float"
        },
        {
         "name": "Brd_Direct_PA_Perc",
         "rawType": "float64",
         "type": "float"
        },
        {
         "name": "Brd_Transfer_PA_Perc",
         "rawType": "float64",
         "type": "float"
        }
       ],
       "conversionMethod": "pd.DataFrame",
       "ref": "a4de1581-96db-48dc-996e-bbeb9324b471",
       "rows": [
        [
         "0",
         "OBS",
         "01-PROVO CENTRAL STATION",
         "drive",
         "2283.379",
         "0.0",
         "0.0",
         "14955.118",
         "0.0",
         "0.0",
         "0.15268211190309564",
         null,
         null
        ],
        [
         "1",
         "OBS",
         "01-PROVO CENTRAL STATION",
         "walk",
         "945.908",
         "0.0",
         "0.0",
         "5672.892",
         "0.0",
         "0.0",
         "0.16674176063989937",
         null,
         null
        ],
        [
         "2",
         "OBS",
         "02-OREM CENTRAL STATION",
         "drive",
         "1475.024",
         "0.0",
         "0.0",
         "14955.118",
         "0.0",
         "0.0",
         "0.0986300475863848",
         null,
         null
        ],
        [
         "3",
         "OBS",
         "02-OREM CENTRAL STATION",
         "walk",
         "371.804",
         "0.0",
         "0.0",
         "5672.892",
         "0.0",
         "0.0",
         "0.06554046860049513",
         null,
         null
        ],
        [
         "4",
         "OBS",
         "03-AMERICAN FORK STATION",
         "drive",
         "1423.768",
         "0.0",
         "0.0",
         "14955.118",
         "0.0",
         "0.0",
         "0.09520272591630503",
         null,
         null
        ],
        [
         "5",
         "OBS",
         "03-AMERICAN FORK STATION",
         "walk",
         "136.077",
         "0.0",
         "0.0",
         "5672.892",
         "0.0",
         "0.0",
         "0.023987236139873632",
         null,
         null
        ],
        [
         "6",
         "OBS",
         "04-LEHI STATION",
         "drive",
         "1128.372",
         "0.0",
         "0.0",
         "14955.118",
         "0.0",
         "0.0",
         "0.07545055812999937",
         null,
         null
        ],
        [
         "7",
         "OBS",
         "04-LEHI STATION",
         "walk",
         "292.189",
         "0.0",
         "0.0",
         "5672.892",
         "0.0",
         "0.0",
         "0.051506180621806306",
         null,
         null
        ],
        [
         "8",
         "OBS",
         "05-DRAPER STATION",
         "drive",
         "935.648",
         "0.0",
         "0.0",
         "14955.118",
         "0.0",
         "0.0",
         "0.0625637323623926",
         null,
         null
        ],
        [
         "9",
         "OBS",
         "05-DRAPER STATION",
         "walk",
         "144.648",
         "0.0",
         "0.0",
         "5672.892",
         "0.0",
         "0.0",
         "0.025498105728083666",
         null,
         null
        ],
        [
         "10",
         "OBS",
         "06-SOUTH JORDAN STATION",
         "drive",
         "985.477",
         "0.0",
         "0.0",
         "14955.118",
         "0.0",
         "0.0",
         "0.06589563519324956",
         null,
         null
        ],
        [
         "11",
         "OBS",
         "06-SOUTH JORDAN STATION",
         "walk",
         "206.56",
         "0.0",
         "0.0",
         "5672.892",
         "0.0",
         "0.0",
         "0.03641176317123612",
         null,
         null
        ],
        [
         "12",
         "OBS",
         "07-MURRAY CENTRAL STATION",
         "drive",
         "1029.668",
         "0.0",
         "0.0",
         "14955.118",
         "0.0",
         "0.0",
         "0.06885054333907628",
         null,
         null
        ],
        [
         "13",
         "OBS",
         "07-MURRAY CENTRAL STATION",
         "walk",
         "805.649",
         "0.0",
         "0.0",
         "5672.892",
         "0.0",
         "0.0",
         "0.14201733436843147",
         null,
         null
        ],
        [
         "14",
         "OBS",
         "08-SALT LAKE CENTRAL STATION",
         "drive",
         "367.738",
         "0.0",
         "0.0",
         "14955.118",
         "0.0",
         "0.0",
         "0.024589441554389607",
         null,
         null
        ],
        [
         "15",
         "OBS",
         "08-SALT LAKE CENTRAL STATION",
         "walk",
         "529.444",
         "0.0",
         "0.0",
         "5672.892",
         "0.0",
         "0.0",
         "0.09332876423524368",
         null,
         null
        ],
        [
         "16",
         "OBS",
         "09-NORTH TEMPLE STATION",
         "drive",
         "335.673",
         "0.0",
         "0.0",
         "14955.118",
         "0.0",
         "0.0",
         "0.022445359508363624",
         null,
         null
        ],
        [
         "17",
         "OBS",
         "09-NORTH TEMPLE STATION",
         "walk",
         "661.147",
         "0.0",
         "0.0",
         "5672.892",
         "0.0",
         "0.0",
         "0.11654496507248861",
         null,
         null
        ],
        [
         "18",
         "OBS",
         "10-WOODS CROSS STATION",
         "drive",
         "594.331",
         "0.0",
         "0.0",
         "14955.118",
         "0.0",
         "0.0",
         "0.039740976968553506",
         null,
         null
        ],
        [
         "19",
         "OBS",
         "10-WOODS CROSS STATION",
         "walk",
         "173.169",
         "0.0",
         "0.0",
         "5672.892",
         "0.0",
         "0.0",
         "0.030525700119092697",
         null,
         null
        ],
        [
         "20",
         "OBS",
         "11-FARMINGTON STATION",
         "drive",
         "385.481",
         "0.0",
         "0.0",
         "14955.118",
         "0.0",
         "0.0",
         "0.025775858137662304",
         null,
         null
        ],
        [
         "21",
         "OBS",
         "11-FARMINGTON STATION",
         "walk",
         "120.055",
         "0.0",
         "0.0",
         "5672.892",
         "0.0",
         "0.0",
         "0.021162927127821227",
         null,
         null
        ],
        [
         "22",
         "OBS",
         "12-LAYTON STATION",
         "drive",
         "1113.116",
         "0.0",
         "0.0",
         "14955.118",
         "0.0",
         "0.0",
         "0.07443043913127265",
         null,
         null
        ],
        [
         "23",
         "OBS",
         "12-LAYTON STATION",
         "walk",
         "384.134",
         "0.0",
         "0.0",
         "5672.892",
         "0.0",
         "0.0",
         "0.06771396317786413",
         null,
         null
        ],
        [
         "24",
         "OBS",
         "13-CLEARFIELD STATION",
         "drive",
         "745.345",
         "0.0",
         "0.0",
         "14955.118",
         "0.0",
         "0.0",
         "0.049838790974434305",
         null,
         null
        ],
        [
         "25",
         "OBS",
         "13-CLEARFIELD STATION",
         "walk",
         "238.296",
         "0.0",
         "0.0",
         "5672.892",
         "0.0",
         "0.0",
         "0.04200608790013982",
         null,
         null
        ],
        [
         "26",
         "OBS",
         "14-ROY STATION",
         "drive",
         "699.224",
         "0.0",
         "0.0",
         "14955.118",
         "0.0",
         "0.0",
         "0.0467548300187267",
         null,
         null
        ],
        [
         "27",
         "OBS",
         "14-ROY STATION",
         "walk",
         "168.575",
         "0.0",
         "0.0",
         "5672.892",
         "0.0",
         "0.0",
         "0.029715883891320335",
         null,
         null
        ],
        [
         "28",
         "OBS",
         "15-OGDEN STATION",
         "drive",
         "1452.874",
         "0.0",
         "0.0",
         "14955.118",
         "0.0",
         "0.0",
         "0.09714894927609398",
         null,
         null
        ],
        [
         "29",
         "OBS",
         "15-OGDEN STATION",
         "walk",
         "495.237",
         "0.0",
         "0.0",
         "5672.892",
         "0.0",
         "0.0",
         "0.08729885920620382",
         null,
         null
        ],
        [
         "30",
         "TDM",
         "01-PROVO CENTRAL STATION",
         "drive",
         "211.96",
         "211.42",
         "0.54",
         "12159.62",
         "12158.18",
         "1.44",
         "0.017431465785937388",
         "0.017389115805161625",
         "0.37500000000000006"
        ],
        [
         "31",
         "TDM",
         "01-PROVO CENTRAL STATION",
         "walk",
         "1214.89",
         "159.2",
         "1055.69",
         "6415.66",
         "2707.98",
         "3707.6800000000003",
         "0.18936321438480222",
         "0.05878920819208413",
         "0.28473061321365384"
        ],
        [
         "32",
         "TDM",
         "02-OREM CENTRAL STATION",
         "drive",
         "1121.42",
         "1121.2",
         "0.22",
         "12159.62",
         "12158.18",
         "1.44",
         "0.09222492150248117",
         "0.09221774969608938",
         "0.1527777777777778"
        ],
        [
         "33",
         "TDM",
         "02-OREM CENTRAL STATION",
         "walk",
         "232.46",
         "130.72",
         "101.74",
         "6415.66",
         "2707.98",
         "3707.6800000000003",
         "0.036233216847526215",
         "0.048272143811992706",
         "0.027440340050921327"
        ],
        [
         "34",
         "TDM",
         "03-AMERICAN FORK STATION",
         "drive",
         "1518.54",
         "1518.51",
         "0.03",
         "12159.62",
         "12158.18",
         "1.44",
         "0.12488383683042725",
         "0.12489616044506661",
         "0.020833333333333332"
        ],
        [
         "35",
         "TDM",
         "03-AMERICAN FORK STATION",
         "walk",
         "80.6",
         "80.6",
         "0.0",
         "6415.66",
         "2707.98",
         "3707.6800000000003",
         "0.012563009885187182",
         "0.029763883041972243",
         "0.0"
        ],
        [
         "36",
         "TDM",
         "04-LEHI STATION",
         "drive",
         "1304.19",
         "1304.08",
         "0.11",
         "12159.62",
         "12158.18",
         "1.44",
         "0.10725581884960221",
         "0.1072594746911133",
         "0.0763888888888889"
        ],
        [
         "37",
         "TDM",
         "04-LEHI STATION",
         "walk",
         "346.14",
         "209.31",
         "136.83",
         "6415.66",
         "2707.98",
         "3707.6800000000003",
         "0.05395236031834605",
         "0.0772937761726453",
         "0.0369044793509688"
        ],
        [
         "38",
         "TDM",
         "05-DRAPER STATION",
         "drive",
         "1109.81",
         "1109.74",
         "0.07",
         "12159.62",
         "12158.18",
         "1.44",
         "0.09127012192815236",
         "0.09127517440932771",
         "0.04861111111111112"
        ],
        [
         "39",
         "TDM",
         "05-DRAPER STATION",
         "walk",
         "178.98",
         "149.63",
         "29.35",
         "6415.66",
         "2707.98",
         "3707.6800000000003",
         "0.027897363638347418",
         "0.05525520867953234",
         "0.007916001380917448"
        ],
        [
         "40",
         "TDM",
         "06-SOUTH JORDAN STATION",
         "drive",
         "1353.07",
         "1353.08",
         "-0.01",
         "12159.62",
         "12158.18",
         "1.44",
         "0.11127568131240942",
         "0.11128968315981502",
         "-0.006944444444444445"
        ],
        [
         "41",
         "TDM",
         "06-SOUTH JORDAN STATION",
         "walk",
         "318.14",
         "256.61",
         "61.53",
         "6415.66",
         "2707.98",
         "3707.6800000000003",
         "0.04958803926641998",
         "0.09476067031514265",
         "0.01659528330384499"
        ],
        [
         "42",
         "TDM",
         "07-MURRAY CENTRAL STATION",
         "drive",
         "786.39",
         "786.34",
         "0.05",
         "12159.62",
         "12158.18",
         "1.44",
         "0.0646722512710101",
         "0.06467579851589629",
         "0.034722222222222224"
        ],
        [
         "43",
         "TDM",
         "07-MURRAY CENTRAL STATION",
         "walk",
         "695.62",
         "132.21",
         "563.41",
         "6415.66",
         "2707.98",
         "3707.6800000000003",
         "0.10842532179074328",
         "0.04882236944142867",
         "0.15195755836533895"
        ],
        [
         "44",
         "TDM",
         "08-SALT LAKE CENTRAL STATION",
         "drive",
         "149.31",
         "149.3",
         "0.01",
         "12159.62",
         "12158.18",
         "1.44",
         "0.012279166618693675",
         "0.012279798456676904",
         "0.006944444444444445"
        ],
        [
         "45",
         "TDM",
         "08-SALT LAKE CENTRAL STATION",
         "walk",
         "597.45",
         "10.87",
         "586.58",
         "6415.66",
         "2707.98",
         "3707.6800000000003",
         "0.0931237004454725",
         "0.004014062142261021",
         "0.15820674923402236"
        ],
        [
         "46",
         "TDM",
         "09-NORTH TEMPLE STATION",
         "drive",
         "74.4",
         "74.25",
         "0.15",
         "12159.62",
         "12158.18",
         "1.44",
         "0.006118612259264681",
         "0.006106999567369458",
         "0.10416666666666667"
        ],
        [
         "47",
         "TDM",
         "09-NORTH TEMPLE STATION",
         "walk",
         "229.97",
         "174.58",
         "55.39",
         "6415.66",
         "2707.98",
         "3707.6800000000003",
         "0.035845104011122786",
         "0.06446871838049026",
         "0.014939261209165838"
        ],
        [
         "48",
         "TDM",
         "10-WOODS CROSS STATION",
         "drive",
         "948.08",
         "948.07",
         "0.01",
         "12159.62",
         "12158.18",
         "1.44",
         "0.0779695418113395",
         "0.07797795393718468",
         "0.006944444444444445"
        ],
        [
         "49",
         "TDM",
         "10-WOODS CROSS STATION",
         "walk",
         "384.88",
         "296.84",
         "88.04",
         "6415.66",
         "2707.98",
         "3707.6800000000003",
         "0.05999071023090376",
         "0.10961676230991366",
         "0.02374530703836361"
        ]
       ],
       "shape": {
        "columns": 12,
        "rows": 165
       }
      },
      "text/html": [
       "<div>\n",
       "<style scoped>\n",
       "    .dataframe tbody tr th:only-of-type {\n",
       "        vertical-align: middle;\n",
       "    }\n",
       "\n",
       "    .dataframe tbody tr th {\n",
       "        vertical-align: top;\n",
       "    }\n",
       "\n",
       "    .dataframe thead th {\n",
       "        text-align: right;\n",
       "    }\n",
       "</style>\n",
       "<table border=\"1\" class=\"dataframe\">\n",
       "  <thead>\n",
       "    <tr style=\"text-align: right;\">\n",
       "      <th></th>\n",
       "      <th>Source</th>\n",
       "      <th>station</th>\n",
       "      <th>AccessMode</th>\n",
       "      <th>Brd_PA</th>\n",
       "      <th>Brd_Direct_PA</th>\n",
       "      <th>Brd_Transfer_PA</th>\n",
       "      <th>Source_Brd_PA</th>\n",
       "      <th>Source_Brd_Direct_PA</th>\n",
       "      <th>Source_Brd_Transfer_PA</th>\n",
       "      <th>Brd_PA_Perc</th>\n",
       "      <th>Brd_Direct_PA_Perc</th>\n",
       "      <th>Brd_Transfer_PA_Perc</th>\n",
       "    </tr>\n",
       "  </thead>\n",
       "  <tbody>\n",
       "    <tr>\n",
       "      <th>0</th>\n",
       "      <td>OBS</td>\n",
       "      <td>01-PROVO CENTRAL STATION</td>\n",
       "      <td>drive</td>\n",
       "      <td>2283.379</td>\n",
       "      <td>0.00</td>\n",
       "      <td>0.00</td>\n",
       "      <td>14955.118</td>\n",
       "      <td>0.00</td>\n",
       "      <td>0.00</td>\n",
       "      <td>0.152682</td>\n",
       "      <td>NaN</td>\n",
       "      <td>NaN</td>\n",
       "    </tr>\n",
       "    <tr>\n",
       "      <th>1</th>\n",
       "      <td>OBS</td>\n",
       "      <td>01-PROVO CENTRAL STATION</td>\n",
       "      <td>walk</td>\n",
       "      <td>945.908</td>\n",
       "      <td>0.00</td>\n",
       "      <td>0.00</td>\n",
       "      <td>5672.892</td>\n",
       "      <td>0.00</td>\n",
       "      <td>0.00</td>\n",
       "      <td>0.166742</td>\n",
       "      <td>NaN</td>\n",
       "      <td>NaN</td>\n",
       "    </tr>\n",
       "    <tr>\n",
       "      <th>2</th>\n",
       "      <td>OBS</td>\n",
       "      <td>02-OREM CENTRAL STATION</td>\n",
       "      <td>drive</td>\n",
       "      <td>1475.024</td>\n",
       "      <td>0.00</td>\n",
       "      <td>0.00</td>\n",
       "      <td>14955.118</td>\n",
       "      <td>0.00</td>\n",
       "      <td>0.00</td>\n",
       "      <td>0.098630</td>\n",
       "      <td>NaN</td>\n",
       "      <td>NaN</td>\n",
       "    </tr>\n",
       "    <tr>\n",
       "      <th>3</th>\n",
       "      <td>OBS</td>\n",
       "      <td>02-OREM CENTRAL STATION</td>\n",
       "      <td>walk</td>\n",
       "      <td>371.804</td>\n",
       "      <td>0.00</td>\n",
       "      <td>0.00</td>\n",
       "      <td>5672.892</td>\n",
       "      <td>0.00</td>\n",
       "      <td>0.00</td>\n",
       "      <td>0.065540</td>\n",
       "      <td>NaN</td>\n",
       "      <td>NaN</td>\n",
       "    </tr>\n",
       "    <tr>\n",
       "      <th>4</th>\n",
       "      <td>OBS</td>\n",
       "      <td>03-AMERICAN FORK STATION</td>\n",
       "      <td>drive</td>\n",
       "      <td>1423.768</td>\n",
       "      <td>0.00</td>\n",
       "      <td>0.00</td>\n",
       "      <td>14955.118</td>\n",
       "      <td>0.00</td>\n",
       "      <td>0.00</td>\n",
       "      <td>0.095203</td>\n",
       "      <td>NaN</td>\n",
       "      <td>NaN</td>\n",
       "    </tr>\n",
       "    <tr>\n",
       "      <th>...</th>\n",
       "      <td>...</td>\n",
       "      <td>...</td>\n",
       "      <td>...</td>\n",
       "      <td>...</td>\n",
       "      <td>...</td>\n",
       "      <td>...</td>\n",
       "      <td>...</td>\n",
       "      <td>...</td>\n",
       "      <td>...</td>\n",
       "      <td>...</td>\n",
       "      <td>...</td>\n",
       "      <td>...</td>\n",
       "    </tr>\n",
       "    <tr>\n",
       "      <th>160</th>\n",
       "      <td>TDM_2.13.1</td>\n",
       "      <td>11-FARMINGTON STATION</td>\n",
       "      <td>All</td>\n",
       "      <td>1285.230</td>\n",
       "      <td>1166.00</td>\n",
       "      <td>119.23</td>\n",
       "      <td>39691.420</td>\n",
       "      <td>32369.91</td>\n",
       "      <td>7321.51</td>\n",
       "      <td>0.032381</td>\n",
       "      <td>0.036021</td>\n",
       "      <td>0.016285</td>\n",
       "    </tr>\n",
       "    <tr>\n",
       "      <th>161</th>\n",
       "      <td>TDM_2.13.1</td>\n",
       "      <td>12-LAYTON STATION</td>\n",
       "      <td>All</td>\n",
       "      <td>3518.660</td>\n",
       "      <td>3068.93</td>\n",
       "      <td>449.73</td>\n",
       "      <td>39691.420</td>\n",
       "      <td>32369.91</td>\n",
       "      <td>7321.51</td>\n",
       "      <td>0.088650</td>\n",
       "      <td>0.094808</td>\n",
       "      <td>0.061426</td>\n",
       "    </tr>\n",
       "    <tr>\n",
       "      <th>162</th>\n",
       "      <td>TDM_2.13.1</td>\n",
       "      <td>13-CLEARFIELD STATION</td>\n",
       "      <td>All</td>\n",
       "      <td>3259.450</td>\n",
       "      <td>3006.37</td>\n",
       "      <td>253.08</td>\n",
       "      <td>39691.420</td>\n",
       "      <td>32369.91</td>\n",
       "      <td>7321.51</td>\n",
       "      <td>0.082120</td>\n",
       "      <td>0.092875</td>\n",
       "      <td>0.034567</td>\n",
       "    </tr>\n",
       "    <tr>\n",
       "      <th>163</th>\n",
       "      <td>TDM_2.13.1</td>\n",
       "      <td>14-ROY STATION</td>\n",
       "      <td>All</td>\n",
       "      <td>3194.240</td>\n",
       "      <td>3121.95</td>\n",
       "      <td>72.29</td>\n",
       "      <td>39691.420</td>\n",
       "      <td>32369.91</td>\n",
       "      <td>7321.51</td>\n",
       "      <td>0.080477</td>\n",
       "      <td>0.096446</td>\n",
       "      <td>0.009874</td>\n",
       "    </tr>\n",
       "    <tr>\n",
       "      <th>164</th>\n",
       "      <td>TDM_2.13.1</td>\n",
       "      <td>15-OGDEN STATION</td>\n",
       "      <td>All</td>\n",
       "      <td>3432.590</td>\n",
       "      <td>2246.72</td>\n",
       "      <td>1185.87</td>\n",
       "      <td>39691.420</td>\n",
       "      <td>32369.91</td>\n",
       "      <td>7321.51</td>\n",
       "      <td>0.086482</td>\n",
       "      <td>0.069408</td>\n",
       "      <td>0.161971</td>\n",
       "    </tr>\n",
       "  </tbody>\n",
       "</table>\n",
       "<p>165 rows × 12 columns</p>\n",
       "</div>"
      ],
      "text/plain": [
       "         Source                   station AccessMode    Brd_PA  Brd_Direct_PA  \\\n",
       "0           OBS  01-PROVO CENTRAL STATION      drive  2283.379           0.00   \n",
       "1           OBS  01-PROVO CENTRAL STATION       walk   945.908           0.00   \n",
       "2           OBS   02-OREM CENTRAL STATION      drive  1475.024           0.00   \n",
       "3           OBS   02-OREM CENTRAL STATION       walk   371.804           0.00   \n",
       "4           OBS  03-AMERICAN FORK STATION      drive  1423.768           0.00   \n",
       "..          ...                       ...        ...       ...            ...   \n",
       "160  TDM_2.13.1     11-FARMINGTON STATION        All  1285.230        1166.00   \n",
       "161  TDM_2.13.1         12-LAYTON STATION        All  3518.660        3068.93   \n",
       "162  TDM_2.13.1     13-CLEARFIELD STATION        All  3259.450        3006.37   \n",
       "163  TDM_2.13.1            14-ROY STATION        All  3194.240        3121.95   \n",
       "164  TDM_2.13.1          15-OGDEN STATION        All  3432.590        2246.72   \n",
       "\n",
       "     Brd_Transfer_PA  Source_Brd_PA  Source_Brd_Direct_PA  \\\n",
       "0               0.00      14955.118                  0.00   \n",
       "1               0.00       5672.892                  0.00   \n",
       "2               0.00      14955.118                  0.00   \n",
       "3               0.00       5672.892                  0.00   \n",
       "4               0.00      14955.118                  0.00   \n",
       "..               ...            ...                   ...   \n",
       "160           119.23      39691.420              32369.91   \n",
       "161           449.73      39691.420              32369.91   \n",
       "162           253.08      39691.420              32369.91   \n",
       "163            72.29      39691.420              32369.91   \n",
       "164          1185.87      39691.420              32369.91   \n",
       "\n",
       "     Source_Brd_Transfer_PA  Brd_PA_Perc  Brd_Direct_PA_Perc  \\\n",
       "0                      0.00     0.152682                 NaN   \n",
       "1                      0.00     0.166742                 NaN   \n",
       "2                      0.00     0.098630                 NaN   \n",
       "3                      0.00     0.065540                 NaN   \n",
       "4                      0.00     0.095203                 NaN   \n",
       "..                      ...          ...                 ...   \n",
       "160                 7321.51     0.032381            0.036021   \n",
       "161                 7321.51     0.088650            0.094808   \n",
       "162                 7321.51     0.082120            0.092875   \n",
       "163                 7321.51     0.080477            0.096446   \n",
       "164                 7321.51     0.086482            0.069408   \n",
       "\n",
       "     Brd_Transfer_PA_Perc  \n",
       "0                     NaN  \n",
       "1                     NaN  \n",
       "2                     NaN  \n",
       "3                     NaN  \n",
       "4                     NaN  \n",
       "..                    ...  \n",
       "160              0.016285  \n",
       "161              0.061426  \n",
       "162              0.034567  \n",
       "163              0.009874  \n",
       "164              0.161971  \n",
       "\n",
       "[165 rows x 12 columns]"
      ]
     },
     "execution_count": 39,
     "metadata": {},
     "output_type": "execute_result"
    }
   ],
   "source": [
    "# add a few more columns regarding percentage of boardings in relation to total boardings\n",
    "\n",
    "# sum by source and station \n",
    "station_sum = sumStats.groupby([\"Source\", \"station\"], as_index=False).agg({\n",
    "    f\"Brd_{pa_od}\": \"sum\",\n",
    "    f\"Brd_Direct_{pa_od}\": \"sum\",\n",
    "    f\"Brd_Transfer_{pa_od}\": \"sum\"\n",
    "})\n",
    "\n",
    "# add All accessMode\n",
    "station_sum[\"AccessMode\"] = \"All\"\n",
    "sumStats2 = pd.concat([sumStats, station_sum], ignore_index=True) \n",
    "\n",
    "accessmode_sum = sumStats2.groupby([\"Source\", \"AccessMode\"], as_index=False).agg({\n",
    "    f\"Brd_{pa_od}\": \"sum\",\n",
    "    f\"Brd_Direct_{pa_od}\": \"sum\",\n",
    "    f\"Brd_Transfer_{pa_od}\": \"sum\"\n",
    "})\n",
    "\n",
    "accessmode_sum.rename(columns={\n",
    "    f\"Brd_{pa_od}\": f\"Source_Brd_{pa_od}\", \n",
    "    f\"Brd_Direct_{pa_od}\": f\"Source_Brd_Direct_{pa_od}\", \n",
    "    f\"Brd_Transfer_{pa_od}\": f\"Source_Brd_Transfer_{pa_od}\"}, inplace=True)\n",
    "sumStatsP = sumStats2.merge(accessmode_sum, on=[\"Source\", \"AccessMode\"], how=\"left\")\n",
    "\n",
    "sumStatsP[f\"Brd_{pa_od}_Perc\"]          = sumStatsP[f\"Brd_{pa_od}\"] / sumStatsP[f\"Source_Brd_{pa_od}\"]\n",
    "sumStatsP[f\"Brd_Direct_{pa_od}_Perc\"]   = sumStatsP[f\"Brd_Direct_{pa_od}\"] / sumStatsP[f\"Source_Brd_Direct_{pa_od}\"]\n",
    "sumStatsP[f\"Brd_Transfer_{pa_od}_Perc\"] = sumStatsP[f\"Brd_Transfer_{pa_od}\"] / sumStatsP[f\"Source_Brd_Transfer_{pa_od}\"]\n",
    "sumStatsP\n"
   ]
  },
  {
   "cell_type": "code",
   "execution_count": 40,
   "metadata": {},
   "outputs": [],
   "source": [
    "def plotit(variable, access_mode):\n",
    "    output.clear_output()  # Clear previous output before displaying new content\n",
    "    global firstTime\n",
    "    if firstTime:\n",
    "    \n",
    "        filtered_data = sumStatsP[sumStatsP['AccessMode'] == access_mode]\n",
    "            \n",
    "        # Create histogram\n",
    "        fig = px.histogram(\n",
    "            filtered_data, \n",
    "            x=\"station\", \n",
    "            y=variable, \n",
    "            text_auto='.2s',\n",
    "            color='Source', \n",
    "            barmode='group',\n",
    "            height=400\n",
    "        )\n",
    "        fig.update_layout(\n",
    "            xaxis_title=\"Station Name\",\n",
    "            yaxis_title=str(variable),\n",
    "            legend_title=\"Model Version\"\n",
    "        )\n",
    "        \n",
    "        # Display the plot\n",
    "        fig.show()\n",
    "    \n",
    "    else:\n",
    "        firstTime = True"
   ]
  },
  {
   "cell_type": "code",
   "execution_count": 41,
   "metadata": {},
   "outputs": [
    {
     "data": {
      "application/vnd.jupyter.widget-view+json": {
       "model_id": "ac4255c2ae0549c281d7634e829949b6",
       "version_major": 2,
       "version_minor": 0
      },
      "text/plain": [
       "HBox(children=(Select(description='Select Variable', options=('Brd_PA', 'Brd_Direct_PA', 'Brd_Transfer_PA', 'B…"
      ]
     },
     "metadata": {},
     "output_type": "display_data"
    },
    {
     "data": {
      "application/vnd.jupyter.widget-view+json": {
       "model_id": "1460e61281e44193bcefd4e01863a063",
       "version_major": 2,
       "version_minor": 0
      },
      "text/plain": [
       "Output()"
      ]
     },
     "metadata": {},
     "output_type": "display_data"
    },
    {
     "data": {
      "application/vnd.plotly.v1+json": {
       "config": {
        "plotlyServerURL": "https://plot.ly"
       },
       "data": [
        {
         "alignmentgroup": "True",
         "bingroup": "x",
         "histfunc": "sum",
         "hovertemplate": "Source=OBS<br>station=%{x}<br>sum of Brd_PA=%{y}<extra></extra>",
         "legendgroup": "OBS",
         "marker": {
          "color": "#636efa",
          "pattern": {
           "shape": ""
          }
         },
         "name": "OBS",
         "offsetgroup": "OBS",
         "orientation": "v",
         "showlegend": true,
         "texttemplate": "%{value:.2s}",
         "type": "histogram",
         "x": [
          "01-PROVO CENTRAL STATION",
          "02-OREM CENTRAL STATION",
          "03-AMERICAN FORK STATION",
          "04-LEHI STATION",
          "05-DRAPER STATION",
          "06-SOUTH JORDAN STATION",
          "07-MURRAY CENTRAL STATION",
          "08-SALT LAKE CENTRAL STATION",
          "09-NORTH TEMPLE STATION",
          "10-WOODS CROSS STATION",
          "11-FARMINGTON STATION",
          "12-LAYTON STATION",
          "13-CLEARFIELD STATION",
          "14-ROY STATION",
          "15-OGDEN STATION"
         ],
         "xaxis": "x",
         "y": [
          3229.287,
          1846.828,
          1559.845,
          1420.5610000000001,
          1080.296,
          1192.037,
          1835.317,
          897.182,
          996.82,
          767.5,
          505.536,
          1497.25,
          983.6410000000001,
          867.799,
          1948.111
         ],
         "yaxis": "y"
        },
        {
         "alignmentgroup": "True",
         "bingroup": "x",
         "histfunc": "sum",
         "hovertemplate": "Source=TDM<br>station=%{x}<br>sum of Brd_PA=%{y}<extra></extra>",
         "legendgroup": "TDM",
         "marker": {
          "color": "#EF553B",
          "pattern": {
           "shape": ""
          }
         },
         "name": "TDM",
         "offsetgroup": "TDM",
         "orientation": "v",
         "showlegend": true,
         "texttemplate": "%{value:.2s}",
         "type": "histogram",
         "x": [
          "01-PROVO CENTRAL STATION",
          "02-OREM CENTRAL STATION",
          "03-AMERICAN FORK STATION",
          "04-LEHI STATION",
          "05-DRAPER STATION",
          "06-SOUTH JORDAN STATION",
          "07-MURRAY CENTRAL STATION",
          "08-SALT LAKE CENTRAL STATION",
          "09-NORTH TEMPLE STATION",
          "10-WOODS CROSS STATION",
          "11-FARMINGTON STATION",
          "12-LAYTON STATION",
          "13-CLEARFIELD STATION",
          "14-ROY STATION",
          "15-OGDEN STATION"
         ],
         "xaxis": "x",
         "y": [
          1426.8500000000001,
          1353.88,
          1599.1399999999999,
          1650.33,
          1288.79,
          1671.21,
          1482.01,
          746.76,
          304.37,
          1332.96,
          581.11,
          1202.07,
          1259.98,
          1408.62,
          1267.2
         ],
         "yaxis": "y"
        },
        {
         "alignmentgroup": "True",
         "bingroup": "x",
         "histfunc": "sum",
         "hovertemplate": "Source=TDM_2.13.1<br>station=%{x}<br>sum of Brd_PA=%{y}<extra></extra>",
         "legendgroup": "TDM_2.13.1",
         "marker": {
          "color": "#00cc96",
          "pattern": {
           "shape": ""
          }
         },
         "name": "TDM_2.13.1",
         "offsetgroup": "TDM_2.13.1",
         "orientation": "v",
         "showlegend": true,
         "texttemplate": "%{value:.2s}",
         "type": "histogram",
         "x": [
          "01-PROVO CENTRAL STATION",
          "02-OREM CENTRAL STATION",
          "03-AMERICAN FORK STATION",
          "04-LEHI STATION",
          "05-DRAPER STATION",
          "06-SOUTH JORDAN STATION",
          "07-MURRAY CENTRAL STATION",
          "08-SALT LAKE CENTRAL STATION",
          "09-NORTH TEMPLE STATION",
          "10-WOODS CROSS STATION",
          "11-FARMINGTON STATION",
          "12-LAYTON STATION",
          "13-CLEARFIELD STATION",
          "14-ROY STATION",
          "15-OGDEN STATION"
         ],
         "xaxis": "x",
         "y": [
          3200.47,
          2355.19,
          3006.51,
          3261.06,
          2586.18,
          2670.01,
          3038.2200000000003,
          1551.45,
          621.5699999999999,
          2710.59,
          1285.23,
          3518.66,
          3259.45,
          3194.2400000000002,
          3432.59
         ],
         "yaxis": "y"
        }
       ],
       "layout": {
        "barmode": "group",
        "height": 400,
        "legend": {
         "title": {
          "text": "Model Version"
         },
         "tracegroupgap": 0
        },
        "margin": {
         "t": 60
        },
        "template": {
         "data": {
          "bar": [
           {
            "error_x": {
             "color": "#2a3f5f"
            },
            "error_y": {
             "color": "#2a3f5f"
            },
            "marker": {
             "line": {
              "color": "#E5ECF6",
              "width": 0.5
             },
             "pattern": {
              "fillmode": "overlay",
              "size": 10,
              "solidity": 0.2
             }
            },
            "type": "bar"
           }
          ],
          "barpolar": [
           {
            "marker": {
             "line": {
              "color": "#E5ECF6",
              "width": 0.5
             },
             "pattern": {
              "fillmode": "overlay",
              "size": 10,
              "solidity": 0.2
             }
            },
            "type": "barpolar"
           }
          ],
          "carpet": [
           {
            "aaxis": {
             "endlinecolor": "#2a3f5f",
             "gridcolor": "white",
             "linecolor": "white",
             "minorgridcolor": "white",
             "startlinecolor": "#2a3f5f"
            },
            "baxis": {
             "endlinecolor": "#2a3f5f",
             "gridcolor": "white",
             "linecolor": "white",
             "minorgridcolor": "white",
             "startlinecolor": "#2a3f5f"
            },
            "type": "carpet"
           }
          ],
          "choropleth": [
           {
            "colorbar": {
             "outlinewidth": 0,
             "ticks": ""
            },
            "type": "choropleth"
           }
          ],
          "contour": [
           {
            "colorbar": {
             "outlinewidth": 0,
             "ticks": ""
            },
            "colorscale": [
             [
              0,
              "#0d0887"
             ],
             [
              0.1111111111111111,
              "#46039f"
             ],
             [
              0.2222222222222222,
              "#7201a8"
             ],
             [
              0.3333333333333333,
              "#9c179e"
             ],
             [
              0.4444444444444444,
              "#bd3786"
             ],
             [
              0.5555555555555556,
              "#d8576b"
             ],
             [
              0.6666666666666666,
              "#ed7953"
             ],
             [
              0.7777777777777778,
              "#fb9f3a"
             ],
             [
              0.8888888888888888,
              "#fdca26"
             ],
             [
              1,
              "#f0f921"
             ]
            ],
            "type": "contour"
           }
          ],
          "contourcarpet": [
           {
            "colorbar": {
             "outlinewidth": 0,
             "ticks": ""
            },
            "type": "contourcarpet"
           }
          ],
          "heatmap": [
           {
            "colorbar": {
             "outlinewidth": 0,
             "ticks": ""
            },
            "colorscale": [
             [
              0,
              "#0d0887"
             ],
             [
              0.1111111111111111,
              "#46039f"
             ],
             [
              0.2222222222222222,
              "#7201a8"
             ],
             [
              0.3333333333333333,
              "#9c179e"
             ],
             [
              0.4444444444444444,
              "#bd3786"
             ],
             [
              0.5555555555555556,
              "#d8576b"
             ],
             [
              0.6666666666666666,
              "#ed7953"
             ],
             [
              0.7777777777777778,
              "#fb9f3a"
             ],
             [
              0.8888888888888888,
              "#fdca26"
             ],
             [
              1,
              "#f0f921"
             ]
            ],
            "type": "heatmap"
           }
          ],
          "heatmapgl": [
           {
            "colorbar": {
             "outlinewidth": 0,
             "ticks": ""
            },
            "colorscale": [
             [
              0,
              "#0d0887"
             ],
             [
              0.1111111111111111,
              "#46039f"
             ],
             [
              0.2222222222222222,
              "#7201a8"
             ],
             [
              0.3333333333333333,
              "#9c179e"
             ],
             [
              0.4444444444444444,
              "#bd3786"
             ],
             [
              0.5555555555555556,
              "#d8576b"
             ],
             [
              0.6666666666666666,
              "#ed7953"
             ],
             [
              0.7777777777777778,
              "#fb9f3a"
             ],
             [
              0.8888888888888888,
              "#fdca26"
             ],
             [
              1,
              "#f0f921"
             ]
            ],
            "type": "heatmapgl"
           }
          ],
          "histogram": [
           {
            "marker": {
             "pattern": {
              "fillmode": "overlay",
              "size": 10,
              "solidity": 0.2
             }
            },
            "type": "histogram"
           }
          ],
          "histogram2d": [
           {
            "colorbar": {
             "outlinewidth": 0,
             "ticks": ""
            },
            "colorscale": [
             [
              0,
              "#0d0887"
             ],
             [
              0.1111111111111111,
              "#46039f"
             ],
             [
              0.2222222222222222,
              "#7201a8"
             ],
             [
              0.3333333333333333,
              "#9c179e"
             ],
             [
              0.4444444444444444,
              "#bd3786"
             ],
             [
              0.5555555555555556,
              "#d8576b"
             ],
             [
              0.6666666666666666,
              "#ed7953"
             ],
             [
              0.7777777777777778,
              "#fb9f3a"
             ],
             [
              0.8888888888888888,
              "#fdca26"
             ],
             [
              1,
              "#f0f921"
             ]
            ],
            "type": "histogram2d"
           }
          ],
          "histogram2dcontour": [
           {
            "colorbar": {
             "outlinewidth": 0,
             "ticks": ""
            },
            "colorscale": [
             [
              0,
              "#0d0887"
             ],
             [
              0.1111111111111111,
              "#46039f"
             ],
             [
              0.2222222222222222,
              "#7201a8"
             ],
             [
              0.3333333333333333,
              "#9c179e"
             ],
             [
              0.4444444444444444,
              "#bd3786"
             ],
             [
              0.5555555555555556,
              "#d8576b"
             ],
             [
              0.6666666666666666,
              "#ed7953"
             ],
             [
              0.7777777777777778,
              "#fb9f3a"
             ],
             [
              0.8888888888888888,
              "#fdca26"
             ],
             [
              1,
              "#f0f921"
             ]
            ],
            "type": "histogram2dcontour"
           }
          ],
          "mesh3d": [
           {
            "colorbar": {
             "outlinewidth": 0,
             "ticks": ""
            },
            "type": "mesh3d"
           }
          ],
          "parcoords": [
           {
            "line": {
             "colorbar": {
              "outlinewidth": 0,
              "ticks": ""
             }
            },
            "type": "parcoords"
           }
          ],
          "pie": [
           {
            "automargin": true,
            "type": "pie"
           }
          ],
          "scatter": [
           {
            "fillpattern": {
             "fillmode": "overlay",
             "size": 10,
             "solidity": 0.2
            },
            "type": "scatter"
           }
          ],
          "scatter3d": [
           {
            "line": {
             "colorbar": {
              "outlinewidth": 0,
              "ticks": ""
             }
            },
            "marker": {
             "colorbar": {
              "outlinewidth": 0,
              "ticks": ""
             }
            },
            "type": "scatter3d"
           }
          ],
          "scattercarpet": [
           {
            "marker": {
             "colorbar": {
              "outlinewidth": 0,
              "ticks": ""
             }
            },
            "type": "scattercarpet"
           }
          ],
          "scattergeo": [
           {
            "marker": {
             "colorbar": {
              "outlinewidth": 0,
              "ticks": ""
             }
            },
            "type": "scattergeo"
           }
          ],
          "scattergl": [
           {
            "marker": {
             "colorbar": {
              "outlinewidth": 0,
              "ticks": ""
             }
            },
            "type": "scattergl"
           }
          ],
          "scattermapbox": [
           {
            "marker": {
             "colorbar": {
              "outlinewidth": 0,
              "ticks": ""
             }
            },
            "type": "scattermapbox"
           }
          ],
          "scatterpolar": [
           {
            "marker": {
             "colorbar": {
              "outlinewidth": 0,
              "ticks": ""
             }
            },
            "type": "scatterpolar"
           }
          ],
          "scatterpolargl": [
           {
            "marker": {
             "colorbar": {
              "outlinewidth": 0,
              "ticks": ""
             }
            },
            "type": "scatterpolargl"
           }
          ],
          "scatterternary": [
           {
            "marker": {
             "colorbar": {
              "outlinewidth": 0,
              "ticks": ""
             }
            },
            "type": "scatterternary"
           }
          ],
          "surface": [
           {
            "colorbar": {
             "outlinewidth": 0,
             "ticks": ""
            },
            "colorscale": [
             [
              0,
              "#0d0887"
             ],
             [
              0.1111111111111111,
              "#46039f"
             ],
             [
              0.2222222222222222,
              "#7201a8"
             ],
             [
              0.3333333333333333,
              "#9c179e"
             ],
             [
              0.4444444444444444,
              "#bd3786"
             ],
             [
              0.5555555555555556,
              "#d8576b"
             ],
             [
              0.6666666666666666,
              "#ed7953"
             ],
             [
              0.7777777777777778,
              "#fb9f3a"
             ],
             [
              0.8888888888888888,
              "#fdca26"
             ],
             [
              1,
              "#f0f921"
             ]
            ],
            "type": "surface"
           }
          ],
          "table": [
           {
            "cells": {
             "fill": {
              "color": "#EBF0F8"
             },
             "line": {
              "color": "white"
             }
            },
            "header": {
             "fill": {
              "color": "#C8D4E3"
             },
             "line": {
              "color": "white"
             }
            },
            "type": "table"
           }
          ]
         },
         "layout": {
          "annotationdefaults": {
           "arrowcolor": "#2a3f5f",
           "arrowhead": 0,
           "arrowwidth": 1
          },
          "autotypenumbers": "strict",
          "coloraxis": {
           "colorbar": {
            "outlinewidth": 0,
            "ticks": ""
           }
          },
          "colorscale": {
           "diverging": [
            [
             0,
             "#8e0152"
            ],
            [
             0.1,
             "#c51b7d"
            ],
            [
             0.2,
             "#de77ae"
            ],
            [
             0.3,
             "#f1b6da"
            ],
            [
             0.4,
             "#fde0ef"
            ],
            [
             0.5,
             "#f7f7f7"
            ],
            [
             0.6,
             "#e6f5d0"
            ],
            [
             0.7,
             "#b8e186"
            ],
            [
             0.8,
             "#7fbc41"
            ],
            [
             0.9,
             "#4d9221"
            ],
            [
             1,
             "#276419"
            ]
           ],
           "sequential": [
            [
             0,
             "#0d0887"
            ],
            [
             0.1111111111111111,
             "#46039f"
            ],
            [
             0.2222222222222222,
             "#7201a8"
            ],
            [
             0.3333333333333333,
             "#9c179e"
            ],
            [
             0.4444444444444444,
             "#bd3786"
            ],
            [
             0.5555555555555556,
             "#d8576b"
            ],
            [
             0.6666666666666666,
             "#ed7953"
            ],
            [
             0.7777777777777778,
             "#fb9f3a"
            ],
            [
             0.8888888888888888,
             "#fdca26"
            ],
            [
             1,
             "#f0f921"
            ]
           ],
           "sequentialminus": [
            [
             0,
             "#0d0887"
            ],
            [
             0.1111111111111111,
             "#46039f"
            ],
            [
             0.2222222222222222,
             "#7201a8"
            ],
            [
             0.3333333333333333,
             "#9c179e"
            ],
            [
             0.4444444444444444,
             "#bd3786"
            ],
            [
             0.5555555555555556,
             "#d8576b"
            ],
            [
             0.6666666666666666,
             "#ed7953"
            ],
            [
             0.7777777777777778,
             "#fb9f3a"
            ],
            [
             0.8888888888888888,
             "#fdca26"
            ],
            [
             1,
             "#f0f921"
            ]
           ]
          },
          "colorway": [
           "#636efa",
           "#EF553B",
           "#00cc96",
           "#ab63fa",
           "#FFA15A",
           "#19d3f3",
           "#FF6692",
           "#B6E880",
           "#FF97FF",
           "#FECB52"
          ],
          "font": {
           "color": "#2a3f5f"
          },
          "geo": {
           "bgcolor": "white",
           "lakecolor": "white",
           "landcolor": "#E5ECF6",
           "showlakes": true,
           "showland": true,
           "subunitcolor": "white"
          },
          "hoverlabel": {
           "align": "left"
          },
          "hovermode": "closest",
          "mapbox": {
           "style": "light"
          },
          "paper_bgcolor": "white",
          "plot_bgcolor": "#E5ECF6",
          "polar": {
           "angularaxis": {
            "gridcolor": "white",
            "linecolor": "white",
            "ticks": ""
           },
           "bgcolor": "#E5ECF6",
           "radialaxis": {
            "gridcolor": "white",
            "linecolor": "white",
            "ticks": ""
           }
          },
          "scene": {
           "xaxis": {
            "backgroundcolor": "#E5ECF6",
            "gridcolor": "white",
            "gridwidth": 2,
            "linecolor": "white",
            "showbackground": true,
            "ticks": "",
            "zerolinecolor": "white"
           },
           "yaxis": {
            "backgroundcolor": "#E5ECF6",
            "gridcolor": "white",
            "gridwidth": 2,
            "linecolor": "white",
            "showbackground": true,
            "ticks": "",
            "zerolinecolor": "white"
           },
           "zaxis": {
            "backgroundcolor": "#E5ECF6",
            "gridcolor": "white",
            "gridwidth": 2,
            "linecolor": "white",
            "showbackground": true,
            "ticks": "",
            "zerolinecolor": "white"
           }
          },
          "shapedefaults": {
           "line": {
            "color": "#2a3f5f"
           }
          },
          "ternary": {
           "aaxis": {
            "gridcolor": "white",
            "linecolor": "white",
            "ticks": ""
           },
           "baxis": {
            "gridcolor": "white",
            "linecolor": "white",
            "ticks": ""
           },
           "bgcolor": "#E5ECF6",
           "caxis": {
            "gridcolor": "white",
            "linecolor": "white",
            "ticks": ""
           }
          },
          "title": {
           "x": 0.05
          },
          "xaxis": {
           "automargin": true,
           "gridcolor": "white",
           "linecolor": "white",
           "ticks": "",
           "title": {
            "standoff": 15
           },
           "zerolinecolor": "white",
           "zerolinewidth": 2
          },
          "yaxis": {
           "automargin": true,
           "gridcolor": "white",
           "linecolor": "white",
           "ticks": "",
           "title": {
            "standoff": 15
           },
           "zerolinecolor": "white",
           "zerolinewidth": 2
          }
         }
        },
        "xaxis": {
         "anchor": "y",
         "domain": [
          0,
          1
         ],
         "title": {
          "text": "Station Name"
         }
        },
        "yaxis": {
         "anchor": "x",
         "domain": [
          0,
          1
         ],
         "title": {
          "text": "Brd_PA"
         }
        }
       }
      }
     },
     "metadata": {},
     "output_type": "display_data"
    },
    {
     "data": {
      "application/vnd.jupyter.widget-view+json": {
       "model_id": "7f32f5c640d946d3953a6e6358b77917",
       "version_major": 2,
       "version_minor": 0
      },
      "text/plain": [
       "Output()"
      ]
     },
     "metadata": {},
     "output_type": "display_data"
    }
   ],
   "source": [
    "lstValues = list([\n",
    "    f'Brd_{pa_od}',\n",
    "    f'Brd_Direct_{pa_od}',\n",
    "    f'Brd_Transfer_{pa_od}',\n",
    "    f'Brd_{pa_od}_Perc',\n",
    "    f'Brd_Direct_{pa_od}_Perc',\n",
    "    f'Brd_Transfer_{pa_od}_Perc'])\n",
    "accessModeOptions = ['drive', 'walk', 'All']\n",
    "\n",
    "selectValues = widgets.Select(options=lstValues, value=(f'Brd_{pa_od}' ), description = 'Select Variable')\n",
    "selectAccessMode = widgets.Dropdown(options=accessModeOptions, value='All', description='Access Mode')\n",
    "\n",
    "# Set up a global variable to track whether the widgets have been changed\n",
    "firstTime = False\n",
    "\n",
    "# create output widget to display filtered DataFrame\n",
    "output = widgets.Output()\n",
    "hbox = widgets.HBox([selectValues, selectAccessMode])\n",
    "\n",
    "# create interactive widget\n",
    "interactive_output = widgets.interactive_output(plotit, {'variable':selectValues, 'access_mode': selectAccessMode})\n",
    "\n",
    "display(hbox)\n",
    "display(interactive_output)\n",
    "display(output)"
   ]
  },
  {
   "cell_type": "markdown",
   "metadata": {},
   "source": [
    "## Trip Length Distribution"
   ]
  },
  {
   "cell_type": "code",
   "execution_count": 42,
   "metadata": {},
   "outputs": [],
   "source": [
    "# Files to copy to _large-files\\WF-TDM-v9x-v920-E2\\E2.12\n",
    "\n",
    "#  2_DetailedTripMatrices\\AllTrips_pkok.omx\n",
    "#  2_DetailedTripMatrices\\AllTrips_Pk.omx\n",
    "#  2_DetailedTripMatrices\\AllTrips_Ok.omx\n",
    "#  1a_Skims\\skm_d8_Pk.omx\n",
    "#  1a_Skims\\skm_d8_Ok.omx\n",
    "#  1a_Skims\\skm_w8_Pk.omx\n",
    "#  1a_Skims\\skm_w8_Ok.omx"
   ]
  },
  {
   "cell_type": "code",
   "execution_count": 43,
   "metadata": {},
   "outputs": [
    {
     "data": {
      "application/vnd.microsoft.datawrangler.viewer.v0+json": {
       "columns": [
        {
         "name": "index",
         "rawType": "int64",
         "type": "integer"
        },
        {
         "name": "Source",
         "rawType": "object",
         "type": "string"
        },
        {
         "name": "station",
         "rawType": "object",
         "type": "string"
        },
        {
         "name": "AccessMode",
         "rawType": "object",
         "type": "string"
        },
        {
         "name": "Brd_PA",
         "rawType": "float64",
         "type": "float"
        },
        {
         "name": "Brd_Direct_PA",
         "rawType": "float64",
         "type": "float"
        },
        {
         "name": "Brd_Transfer_PA",
         "rawType": "float64",
         "type": "float"
        },
        {
         "name": "Source_Brd_PA",
         "rawType": "float64",
         "type": "float"
        },
        {
         "name": "Source_Brd_Direct_PA",
         "rawType": "float64",
         "type": "float"
        },
        {
         "name": "Source_Brd_Transfer_PA",
         "rawType": "float64",
         "type": "float"
        },
        {
         "name": "Brd_PA_Perc",
         "rawType": "float64",
         "type": "float"
        },
        {
         "name": "Brd_Direct_PA_Perc",
         "rawType": "float64",
         "type": "float"
        },
        {
         "name": "Brd_Transfer_PA_Perc",
         "rawType": "float64",
         "type": "float"
        }
       ],
       "conversionMethod": "pd.DataFrame",
       "ref": "8f41f18b-18b7-4e81-b163-98a90657ae27",
       "rows": [
        [
         "0",
         "OBS",
         "01-PROVO CENTRAL STATION",
         "drive",
         "2283.379",
         "0.0",
         "0.0",
         "14955.118",
         "0.0",
         "0.0",
         "0.15268211190309564",
         null,
         null
        ],
        [
         "1",
         "OBS",
         "01-PROVO CENTRAL STATION",
         "walk",
         "945.908",
         "0.0",
         "0.0",
         "5672.892",
         "0.0",
         "0.0",
         "0.16674176063989937",
         null,
         null
        ],
        [
         "2",
         "OBS",
         "02-OREM CENTRAL STATION",
         "drive",
         "1475.024",
         "0.0",
         "0.0",
         "14955.118",
         "0.0",
         "0.0",
         "0.0986300475863848",
         null,
         null
        ],
        [
         "3",
         "OBS",
         "02-OREM CENTRAL STATION",
         "walk",
         "371.804",
         "0.0",
         "0.0",
         "5672.892",
         "0.0",
         "0.0",
         "0.06554046860049513",
         null,
         null
        ],
        [
         "4",
         "OBS",
         "03-AMERICAN FORK STATION",
         "drive",
         "1423.768",
         "0.0",
         "0.0",
         "14955.118",
         "0.0",
         "0.0",
         "0.09520272591630503",
         null,
         null
        ],
        [
         "5",
         "OBS",
         "03-AMERICAN FORK STATION",
         "walk",
         "136.077",
         "0.0",
         "0.0",
         "5672.892",
         "0.0",
         "0.0",
         "0.023987236139873632",
         null,
         null
        ],
        [
         "6",
         "OBS",
         "04-LEHI STATION",
         "drive",
         "1128.372",
         "0.0",
         "0.0",
         "14955.118",
         "0.0",
         "0.0",
         "0.07545055812999937",
         null,
         null
        ],
        [
         "7",
         "OBS",
         "04-LEHI STATION",
         "walk",
         "292.189",
         "0.0",
         "0.0",
         "5672.892",
         "0.0",
         "0.0",
         "0.051506180621806306",
         null,
         null
        ],
        [
         "8",
         "OBS",
         "05-DRAPER STATION",
         "drive",
         "935.648",
         "0.0",
         "0.0",
         "14955.118",
         "0.0",
         "0.0",
         "0.0625637323623926",
         null,
         null
        ],
        [
         "9",
         "OBS",
         "05-DRAPER STATION",
         "walk",
         "144.648",
         "0.0",
         "0.0",
         "5672.892",
         "0.0",
         "0.0",
         "0.025498105728083666",
         null,
         null
        ],
        [
         "10",
         "OBS",
         "06-SOUTH JORDAN STATION",
         "drive",
         "985.477",
         "0.0",
         "0.0",
         "14955.118",
         "0.0",
         "0.0",
         "0.06589563519324956",
         null,
         null
        ],
        [
         "11",
         "OBS",
         "06-SOUTH JORDAN STATION",
         "walk",
         "206.56",
         "0.0",
         "0.0",
         "5672.892",
         "0.0",
         "0.0",
         "0.03641176317123612",
         null,
         null
        ],
        [
         "12",
         "OBS",
         "07-MURRAY CENTRAL STATION",
         "drive",
         "1029.668",
         "0.0",
         "0.0",
         "14955.118",
         "0.0",
         "0.0",
         "0.06885054333907628",
         null,
         null
        ],
        [
         "13",
         "OBS",
         "07-MURRAY CENTRAL STATION",
         "walk",
         "805.649",
         "0.0",
         "0.0",
         "5672.892",
         "0.0",
         "0.0",
         "0.14201733436843147",
         null,
         null
        ],
        [
         "14",
         "OBS",
         "08-SALT LAKE CENTRAL STATION",
         "drive",
         "367.738",
         "0.0",
         "0.0",
         "14955.118",
         "0.0",
         "0.0",
         "0.024589441554389607",
         null,
         null
        ],
        [
         "15",
         "OBS",
         "08-SALT LAKE CENTRAL STATION",
         "walk",
         "529.444",
         "0.0",
         "0.0",
         "5672.892",
         "0.0",
         "0.0",
         "0.09332876423524368",
         null,
         null
        ],
        [
         "16",
         "OBS",
         "09-NORTH TEMPLE STATION",
         "drive",
         "335.673",
         "0.0",
         "0.0",
         "14955.118",
         "0.0",
         "0.0",
         "0.022445359508363624",
         null,
         null
        ],
        [
         "17",
         "OBS",
         "09-NORTH TEMPLE STATION",
         "walk",
         "661.147",
         "0.0",
         "0.0",
         "5672.892",
         "0.0",
         "0.0",
         "0.11654496507248861",
         null,
         null
        ],
        [
         "18",
         "OBS",
         "10-WOODS CROSS STATION",
         "drive",
         "594.331",
         "0.0",
         "0.0",
         "14955.118",
         "0.0",
         "0.0",
         "0.039740976968553506",
         null,
         null
        ],
        [
         "19",
         "OBS",
         "10-WOODS CROSS STATION",
         "walk",
         "173.169",
         "0.0",
         "0.0",
         "5672.892",
         "0.0",
         "0.0",
         "0.030525700119092697",
         null,
         null
        ],
        [
         "20",
         "OBS",
         "11-FARMINGTON STATION",
         "drive",
         "385.481",
         "0.0",
         "0.0",
         "14955.118",
         "0.0",
         "0.0",
         "0.025775858137662304",
         null,
         null
        ],
        [
         "21",
         "OBS",
         "11-FARMINGTON STATION",
         "walk",
         "120.055",
         "0.0",
         "0.0",
         "5672.892",
         "0.0",
         "0.0",
         "0.021162927127821227",
         null,
         null
        ],
        [
         "22",
         "OBS",
         "12-LAYTON STATION",
         "drive",
         "1113.116",
         "0.0",
         "0.0",
         "14955.118",
         "0.0",
         "0.0",
         "0.07443043913127265",
         null,
         null
        ],
        [
         "23",
         "OBS",
         "12-LAYTON STATION",
         "walk",
         "384.134",
         "0.0",
         "0.0",
         "5672.892",
         "0.0",
         "0.0",
         "0.06771396317786413",
         null,
         null
        ],
        [
         "24",
         "OBS",
         "13-CLEARFIELD STATION",
         "drive",
         "745.345",
         "0.0",
         "0.0",
         "14955.118",
         "0.0",
         "0.0",
         "0.049838790974434305",
         null,
         null
        ],
        [
         "25",
         "OBS",
         "13-CLEARFIELD STATION",
         "walk",
         "238.296",
         "0.0",
         "0.0",
         "5672.892",
         "0.0",
         "0.0",
         "0.04200608790013982",
         null,
         null
        ],
        [
         "26",
         "OBS",
         "14-ROY STATION",
         "drive",
         "699.224",
         "0.0",
         "0.0",
         "14955.118",
         "0.0",
         "0.0",
         "0.0467548300187267",
         null,
         null
        ],
        [
         "27",
         "OBS",
         "14-ROY STATION",
         "walk",
         "168.575",
         "0.0",
         "0.0",
         "5672.892",
         "0.0",
         "0.0",
         "0.029715883891320335",
         null,
         null
        ],
        [
         "28",
         "OBS",
         "15-OGDEN STATION",
         "drive",
         "1452.874",
         "0.0",
         "0.0",
         "14955.118",
         "0.0",
         "0.0",
         "0.09714894927609398",
         null,
         null
        ],
        [
         "29",
         "OBS",
         "15-OGDEN STATION",
         "walk",
         "495.237",
         "0.0",
         "0.0",
         "5672.892",
         "0.0",
         "0.0",
         "0.08729885920620382",
         null,
         null
        ],
        [
         "30",
         "TDM",
         "01-PROVO CENTRAL STATION",
         "drive",
         "211.96",
         "211.42",
         "0.54",
         "12159.62",
         "12158.18",
         "1.44",
         "0.017431465785937388",
         "0.017389115805161625",
         "0.37500000000000006"
        ],
        [
         "31",
         "TDM",
         "01-PROVO CENTRAL STATION",
         "walk",
         "1214.89",
         "159.2",
         "1055.69",
         "6415.66",
         "2707.98",
         "3707.6800000000003",
         "0.18936321438480222",
         "0.05878920819208413",
         "0.28473061321365384"
        ],
        [
         "32",
         "TDM",
         "02-OREM CENTRAL STATION",
         "drive",
         "1121.42",
         "1121.2",
         "0.22",
         "12159.62",
         "12158.18",
         "1.44",
         "0.09222492150248117",
         "0.09221774969608938",
         "0.1527777777777778"
        ],
        [
         "33",
         "TDM",
         "02-OREM CENTRAL STATION",
         "walk",
         "232.46",
         "130.72",
         "101.74",
         "6415.66",
         "2707.98",
         "3707.6800000000003",
         "0.036233216847526215",
         "0.048272143811992706",
         "0.027440340050921327"
        ],
        [
         "34",
         "TDM",
         "03-AMERICAN FORK STATION",
         "drive",
         "1518.54",
         "1518.51",
         "0.03",
         "12159.62",
         "12158.18",
         "1.44",
         "0.12488383683042725",
         "0.12489616044506661",
         "0.020833333333333332"
        ],
        [
         "35",
         "TDM",
         "03-AMERICAN FORK STATION",
         "walk",
         "80.6",
         "80.6",
         "0.0",
         "6415.66",
         "2707.98",
         "3707.6800000000003",
         "0.012563009885187182",
         "0.029763883041972243",
         "0.0"
        ],
        [
         "36",
         "TDM",
         "04-LEHI STATION",
         "drive",
         "1304.19",
         "1304.08",
         "0.11",
         "12159.62",
         "12158.18",
         "1.44",
         "0.10725581884960221",
         "0.1072594746911133",
         "0.0763888888888889"
        ],
        [
         "37",
         "TDM",
         "04-LEHI STATION",
         "walk",
         "346.14",
         "209.31",
         "136.83",
         "6415.66",
         "2707.98",
         "3707.6800000000003",
         "0.05395236031834605",
         "0.0772937761726453",
         "0.0369044793509688"
        ],
        [
         "38",
         "TDM",
         "05-DRAPER STATION",
         "drive",
         "1109.81",
         "1109.74",
         "0.07",
         "12159.62",
         "12158.18",
         "1.44",
         "0.09127012192815236",
         "0.09127517440932771",
         "0.04861111111111112"
        ],
        [
         "39",
         "TDM",
         "05-DRAPER STATION",
         "walk",
         "178.98",
         "149.63",
         "29.35",
         "6415.66",
         "2707.98",
         "3707.6800000000003",
         "0.027897363638347418",
         "0.05525520867953234",
         "0.007916001380917448"
        ],
        [
         "40",
         "TDM",
         "06-SOUTH JORDAN STATION",
         "drive",
         "1353.07",
         "1353.08",
         "-0.01",
         "12159.62",
         "12158.18",
         "1.44",
         "0.11127568131240942",
         "0.11128968315981502",
         "-0.006944444444444445"
        ],
        [
         "41",
         "TDM",
         "06-SOUTH JORDAN STATION",
         "walk",
         "318.14",
         "256.61",
         "61.53",
         "6415.66",
         "2707.98",
         "3707.6800000000003",
         "0.04958803926641998",
         "0.09476067031514265",
         "0.01659528330384499"
        ],
        [
         "42",
         "TDM",
         "07-MURRAY CENTRAL STATION",
         "drive",
         "786.39",
         "786.34",
         "0.05",
         "12159.62",
         "12158.18",
         "1.44",
         "0.0646722512710101",
         "0.06467579851589629",
         "0.034722222222222224"
        ],
        [
         "43",
         "TDM",
         "07-MURRAY CENTRAL STATION",
         "walk",
         "695.62",
         "132.21",
         "563.41",
         "6415.66",
         "2707.98",
         "3707.6800000000003",
         "0.10842532179074328",
         "0.04882236944142867",
         "0.15195755836533895"
        ],
        [
         "44",
         "TDM",
         "08-SALT LAKE CENTRAL STATION",
         "drive",
         "149.31",
         "149.3",
         "0.01",
         "12159.62",
         "12158.18",
         "1.44",
         "0.012279166618693675",
         "0.012279798456676904",
         "0.006944444444444445"
        ],
        [
         "45",
         "TDM",
         "08-SALT LAKE CENTRAL STATION",
         "walk",
         "597.45",
         "10.87",
         "586.58",
         "6415.66",
         "2707.98",
         "3707.6800000000003",
         "0.0931237004454725",
         "0.004014062142261021",
         "0.15820674923402236"
        ],
        [
         "46",
         "TDM",
         "09-NORTH TEMPLE STATION",
         "drive",
         "74.4",
         "74.25",
         "0.15",
         "12159.62",
         "12158.18",
         "1.44",
         "0.006118612259264681",
         "0.006106999567369458",
         "0.10416666666666667"
        ],
        [
         "47",
         "TDM",
         "09-NORTH TEMPLE STATION",
         "walk",
         "229.97",
         "174.58",
         "55.39",
         "6415.66",
         "2707.98",
         "3707.6800000000003",
         "0.035845104011122786",
         "0.06446871838049026",
         "0.014939261209165838"
        ],
        [
         "48",
         "TDM",
         "10-WOODS CROSS STATION",
         "drive",
         "948.08",
         "948.07",
         "0.01",
         "12159.62",
         "12158.18",
         "1.44",
         "0.0779695418113395",
         "0.07797795393718468",
         "0.006944444444444445"
        ],
        [
         "49",
         "TDM",
         "10-WOODS CROSS STATION",
         "walk",
         "384.88",
         "296.84",
         "88.04",
         "6415.66",
         "2707.98",
         "3707.6800000000003",
         "0.05999071023090376",
         "0.10961676230991366",
         "0.02374530703836361"
        ]
       ],
       "shape": {
        "columns": 12,
        "rows": 165
       }
      },
      "text/html": [
       "<div>\n",
       "<style scoped>\n",
       "    .dataframe tbody tr th:only-of-type {\n",
       "        vertical-align: middle;\n",
       "    }\n",
       "\n",
       "    .dataframe tbody tr th {\n",
       "        vertical-align: top;\n",
       "    }\n",
       "\n",
       "    .dataframe thead th {\n",
       "        text-align: right;\n",
       "    }\n",
       "</style>\n",
       "<table border=\"1\" class=\"dataframe\">\n",
       "  <thead>\n",
       "    <tr style=\"text-align: right;\">\n",
       "      <th></th>\n",
       "      <th>Source</th>\n",
       "      <th>station</th>\n",
       "      <th>AccessMode</th>\n",
       "      <th>Brd_PA</th>\n",
       "      <th>Brd_Direct_PA</th>\n",
       "      <th>Brd_Transfer_PA</th>\n",
       "      <th>Source_Brd_PA</th>\n",
       "      <th>Source_Brd_Direct_PA</th>\n",
       "      <th>Source_Brd_Transfer_PA</th>\n",
       "      <th>Brd_PA_Perc</th>\n",
       "      <th>Brd_Direct_PA_Perc</th>\n",
       "      <th>Brd_Transfer_PA_Perc</th>\n",
       "    </tr>\n",
       "  </thead>\n",
       "  <tbody>\n",
       "    <tr>\n",
       "      <th>0</th>\n",
       "      <td>OBS</td>\n",
       "      <td>01-PROVO CENTRAL STATION</td>\n",
       "      <td>drive</td>\n",
       "      <td>2283.379</td>\n",
       "      <td>0.00</td>\n",
       "      <td>0.00</td>\n",
       "      <td>14955.118</td>\n",
       "      <td>0.00</td>\n",
       "      <td>0.00</td>\n",
       "      <td>0.152682</td>\n",
       "      <td>NaN</td>\n",
       "      <td>NaN</td>\n",
       "    </tr>\n",
       "    <tr>\n",
       "      <th>1</th>\n",
       "      <td>OBS</td>\n",
       "      <td>01-PROVO CENTRAL STATION</td>\n",
       "      <td>walk</td>\n",
       "      <td>945.908</td>\n",
       "      <td>0.00</td>\n",
       "      <td>0.00</td>\n",
       "      <td>5672.892</td>\n",
       "      <td>0.00</td>\n",
       "      <td>0.00</td>\n",
       "      <td>0.166742</td>\n",
       "      <td>NaN</td>\n",
       "      <td>NaN</td>\n",
       "    </tr>\n",
       "    <tr>\n",
       "      <th>2</th>\n",
       "      <td>OBS</td>\n",
       "      <td>02-OREM CENTRAL STATION</td>\n",
       "      <td>drive</td>\n",
       "      <td>1475.024</td>\n",
       "      <td>0.00</td>\n",
       "      <td>0.00</td>\n",
       "      <td>14955.118</td>\n",
       "      <td>0.00</td>\n",
       "      <td>0.00</td>\n",
       "      <td>0.098630</td>\n",
       "      <td>NaN</td>\n",
       "      <td>NaN</td>\n",
       "    </tr>\n",
       "    <tr>\n",
       "      <th>3</th>\n",
       "      <td>OBS</td>\n",
       "      <td>02-OREM CENTRAL STATION</td>\n",
       "      <td>walk</td>\n",
       "      <td>371.804</td>\n",
       "      <td>0.00</td>\n",
       "      <td>0.00</td>\n",
       "      <td>5672.892</td>\n",
       "      <td>0.00</td>\n",
       "      <td>0.00</td>\n",
       "      <td>0.065540</td>\n",
       "      <td>NaN</td>\n",
       "      <td>NaN</td>\n",
       "    </tr>\n",
       "    <tr>\n",
       "      <th>4</th>\n",
       "      <td>OBS</td>\n",
       "      <td>03-AMERICAN FORK STATION</td>\n",
       "      <td>drive</td>\n",
       "      <td>1423.768</td>\n",
       "      <td>0.00</td>\n",
       "      <td>0.00</td>\n",
       "      <td>14955.118</td>\n",
       "      <td>0.00</td>\n",
       "      <td>0.00</td>\n",
       "      <td>0.095203</td>\n",
       "      <td>NaN</td>\n",
       "      <td>NaN</td>\n",
       "    </tr>\n",
       "    <tr>\n",
       "      <th>...</th>\n",
       "      <td>...</td>\n",
       "      <td>...</td>\n",
       "      <td>...</td>\n",
       "      <td>...</td>\n",
       "      <td>...</td>\n",
       "      <td>...</td>\n",
       "      <td>...</td>\n",
       "      <td>...</td>\n",
       "      <td>...</td>\n",
       "      <td>...</td>\n",
       "      <td>...</td>\n",
       "      <td>...</td>\n",
       "    </tr>\n",
       "    <tr>\n",
       "      <th>160</th>\n",
       "      <td>TDM_2.13.1</td>\n",
       "      <td>11-FARMINGTON STATION</td>\n",
       "      <td>All</td>\n",
       "      <td>1285.230</td>\n",
       "      <td>1166.00</td>\n",
       "      <td>119.23</td>\n",
       "      <td>39691.420</td>\n",
       "      <td>32369.91</td>\n",
       "      <td>7321.51</td>\n",
       "      <td>0.032381</td>\n",
       "      <td>0.036021</td>\n",
       "      <td>0.016285</td>\n",
       "    </tr>\n",
       "    <tr>\n",
       "      <th>161</th>\n",
       "      <td>TDM_2.13.1</td>\n",
       "      <td>12-LAYTON STATION</td>\n",
       "      <td>All</td>\n",
       "      <td>3518.660</td>\n",
       "      <td>3068.93</td>\n",
       "      <td>449.73</td>\n",
       "      <td>39691.420</td>\n",
       "      <td>32369.91</td>\n",
       "      <td>7321.51</td>\n",
       "      <td>0.088650</td>\n",
       "      <td>0.094808</td>\n",
       "      <td>0.061426</td>\n",
       "    </tr>\n",
       "    <tr>\n",
       "      <th>162</th>\n",
       "      <td>TDM_2.13.1</td>\n",
       "      <td>13-CLEARFIELD STATION</td>\n",
       "      <td>All</td>\n",
       "      <td>3259.450</td>\n",
       "      <td>3006.37</td>\n",
       "      <td>253.08</td>\n",
       "      <td>39691.420</td>\n",
       "      <td>32369.91</td>\n",
       "      <td>7321.51</td>\n",
       "      <td>0.082120</td>\n",
       "      <td>0.092875</td>\n",
       "      <td>0.034567</td>\n",
       "    </tr>\n",
       "    <tr>\n",
       "      <th>163</th>\n",
       "      <td>TDM_2.13.1</td>\n",
       "      <td>14-ROY STATION</td>\n",
       "      <td>All</td>\n",
       "      <td>3194.240</td>\n",
       "      <td>3121.95</td>\n",
       "      <td>72.29</td>\n",
       "      <td>39691.420</td>\n",
       "      <td>32369.91</td>\n",
       "      <td>7321.51</td>\n",
       "      <td>0.080477</td>\n",
       "      <td>0.096446</td>\n",
       "      <td>0.009874</td>\n",
       "    </tr>\n",
       "    <tr>\n",
       "      <th>164</th>\n",
       "      <td>TDM_2.13.1</td>\n",
       "      <td>15-OGDEN STATION</td>\n",
       "      <td>All</td>\n",
       "      <td>3432.590</td>\n",
       "      <td>2246.72</td>\n",
       "      <td>1185.87</td>\n",
       "      <td>39691.420</td>\n",
       "      <td>32369.91</td>\n",
       "      <td>7321.51</td>\n",
       "      <td>0.086482</td>\n",
       "      <td>0.069408</td>\n",
       "      <td>0.161971</td>\n",
       "    </tr>\n",
       "  </tbody>\n",
       "</table>\n",
       "<p>165 rows × 12 columns</p>\n",
       "</div>"
      ],
      "text/plain": [
       "         Source                   station AccessMode    Brd_PA  Brd_Direct_PA  \\\n",
       "0           OBS  01-PROVO CENTRAL STATION      drive  2283.379           0.00   \n",
       "1           OBS  01-PROVO CENTRAL STATION       walk   945.908           0.00   \n",
       "2           OBS   02-OREM CENTRAL STATION      drive  1475.024           0.00   \n",
       "3           OBS   02-OREM CENTRAL STATION       walk   371.804           0.00   \n",
       "4           OBS  03-AMERICAN FORK STATION      drive  1423.768           0.00   \n",
       "..          ...                       ...        ...       ...            ...   \n",
       "160  TDM_2.13.1     11-FARMINGTON STATION        All  1285.230        1166.00   \n",
       "161  TDM_2.13.1         12-LAYTON STATION        All  3518.660        3068.93   \n",
       "162  TDM_2.13.1     13-CLEARFIELD STATION        All  3259.450        3006.37   \n",
       "163  TDM_2.13.1            14-ROY STATION        All  3194.240        3121.95   \n",
       "164  TDM_2.13.1          15-OGDEN STATION        All  3432.590        2246.72   \n",
       "\n",
       "     Brd_Transfer_PA  Source_Brd_PA  Source_Brd_Direct_PA  \\\n",
       "0               0.00      14955.118                  0.00   \n",
       "1               0.00       5672.892                  0.00   \n",
       "2               0.00      14955.118                  0.00   \n",
       "3               0.00       5672.892                  0.00   \n",
       "4               0.00      14955.118                  0.00   \n",
       "..               ...            ...                   ...   \n",
       "160           119.23      39691.420              32369.91   \n",
       "161           449.73      39691.420              32369.91   \n",
       "162           253.08      39691.420              32369.91   \n",
       "163            72.29      39691.420              32369.91   \n",
       "164          1185.87      39691.420              32369.91   \n",
       "\n",
       "     Source_Brd_Transfer_PA  Brd_PA_Perc  Brd_Direct_PA_Perc  \\\n",
       "0                      0.00     0.152682                 NaN   \n",
       "1                      0.00     0.166742                 NaN   \n",
       "2                      0.00     0.098630                 NaN   \n",
       "3                      0.00     0.065540                 NaN   \n",
       "4                      0.00     0.095203                 NaN   \n",
       "..                      ...          ...                 ...   \n",
       "160                 7321.51     0.032381            0.036021   \n",
       "161                 7321.51     0.088650            0.094808   \n",
       "162                 7321.51     0.082120            0.092875   \n",
       "163                 7321.51     0.080477            0.096446   \n",
       "164                 7321.51     0.086482            0.069408   \n",
       "\n",
       "     Brd_Transfer_PA_Perc  \n",
       "0                     NaN  \n",
       "1                     NaN  \n",
       "2                     NaN  \n",
       "3                     NaN  \n",
       "4                     NaN  \n",
       "..                    ...  \n",
       "160              0.016285  \n",
       "161              0.061426  \n",
       "162              0.034567  \n",
       "163              0.009874  \n",
       "164              0.161971  \n",
       "\n",
       "[165 rows x 12 columns]"
      ]
     },
     "execution_count": 43,
     "metadata": {},
     "output_type": "execute_result"
    }
   ],
   "source": [
    "sumStatsP"
   ]
  },
  {
   "cell_type": "code",
   "execution_count": 44,
   "metadata": {},
   "outputs": [
    {
     "data": {
      "application/vnd.microsoft.datawrangler.viewer.v0+json": {
       "columns": [
        {
         "name": "index",
         "rawType": "int64",
         "type": "integer"
        },
        {
         "name": "Source",
         "rawType": "object",
         "type": "string"
        },
        {
         "name": "AccessMode",
         "rawType": "object",
         "type": "string"
        },
        {
         "name": "Brd_PA",
         "rawType": "float64",
         "type": "float"
        }
       ],
       "conversionMethod": "pd.DataFrame",
       "ref": "a3eb7605-be65-4a0f-9e39-c1c0252b05fc",
       "rows": [
        [
         "0",
         "OBS",
         "All",
         "20628.010000000002"
        ],
        [
         "1",
         "OBS",
         "drive",
         "14955.118"
        ],
        [
         "2",
         "OBS",
         "walk",
         "5672.892"
        ],
        [
         "3",
         "TDM",
         "All",
         "18575.28"
        ],
        [
         "4",
         "TDM",
         "drive",
         "12159.62"
        ],
        [
         "5",
         "TDM",
         "walk",
         "6415.66"
        ],
        [
         "6",
         "TDM_2.13.1",
         "All",
         "39691.42"
        ],
        [
         "7",
         "TDM_2.13.1",
         "drive",
         "26817.47"
        ],
        [
         "8",
         "TDM_2.13.1",
         "walk",
         "12873.95"
        ]
       ],
       "shape": {
        "columns": 3,
        "rows": 9
       }
      },
      "text/html": [
       "<div>\n",
       "<style scoped>\n",
       "    .dataframe tbody tr th:only-of-type {\n",
       "        vertical-align: middle;\n",
       "    }\n",
       "\n",
       "    .dataframe tbody tr th {\n",
       "        vertical-align: top;\n",
       "    }\n",
       "\n",
       "    .dataframe thead th {\n",
       "        text-align: right;\n",
       "    }\n",
       "</style>\n",
       "<table border=\"1\" class=\"dataframe\">\n",
       "  <thead>\n",
       "    <tr style=\"text-align: right;\">\n",
       "      <th></th>\n",
       "      <th>Source</th>\n",
       "      <th>AccessMode</th>\n",
       "      <th>Brd_PA</th>\n",
       "    </tr>\n",
       "  </thead>\n",
       "  <tbody>\n",
       "    <tr>\n",
       "      <th>0</th>\n",
       "      <td>OBS</td>\n",
       "      <td>All</td>\n",
       "      <td>20628.010</td>\n",
       "    </tr>\n",
       "    <tr>\n",
       "      <th>1</th>\n",
       "      <td>OBS</td>\n",
       "      <td>drive</td>\n",
       "      <td>14955.118</td>\n",
       "    </tr>\n",
       "    <tr>\n",
       "      <th>2</th>\n",
       "      <td>OBS</td>\n",
       "      <td>walk</td>\n",
       "      <td>5672.892</td>\n",
       "    </tr>\n",
       "    <tr>\n",
       "      <th>3</th>\n",
       "      <td>TDM</td>\n",
       "      <td>All</td>\n",
       "      <td>18575.280</td>\n",
       "    </tr>\n",
       "    <tr>\n",
       "      <th>4</th>\n",
       "      <td>TDM</td>\n",
       "      <td>drive</td>\n",
       "      <td>12159.620</td>\n",
       "    </tr>\n",
       "    <tr>\n",
       "      <th>5</th>\n",
       "      <td>TDM</td>\n",
       "      <td>walk</td>\n",
       "      <td>6415.660</td>\n",
       "    </tr>\n",
       "    <tr>\n",
       "      <th>6</th>\n",
       "      <td>TDM_2.13.1</td>\n",
       "      <td>All</td>\n",
       "      <td>39691.420</td>\n",
       "    </tr>\n",
       "    <tr>\n",
       "      <th>7</th>\n",
       "      <td>TDM_2.13.1</td>\n",
       "      <td>drive</td>\n",
       "      <td>26817.470</td>\n",
       "    </tr>\n",
       "    <tr>\n",
       "      <th>8</th>\n",
       "      <td>TDM_2.13.1</td>\n",
       "      <td>walk</td>\n",
       "      <td>12873.950</td>\n",
       "    </tr>\n",
       "  </tbody>\n",
       "</table>\n",
       "</div>"
      ],
      "text/plain": [
       "       Source AccessMode     Brd_PA\n",
       "0         OBS        All  20628.010\n",
       "1         OBS      drive  14955.118\n",
       "2         OBS       walk   5672.892\n",
       "3         TDM        All  18575.280\n",
       "4         TDM      drive  12159.620\n",
       "5         TDM       walk   6415.660\n",
       "6  TDM_2.13.1        All  39691.420\n",
       "7  TDM_2.13.1      drive  26817.470\n",
       "8  TDM_2.13.1       walk  12873.950"
      ]
     },
     "execution_count": 44,
     "metadata": {},
     "output_type": "execute_result"
    }
   ],
   "source": [
    "sumStatsPg = sumStatsP.groupby(['Source','AccessMode'],as_index=False).agg(Brd_PA=('Brd_PA','sum'))\n",
    "sumStatsPg"
   ]
  },
  {
   "cell_type": "code",
   "execution_count": 45,
   "metadata": {},
   "outputs": [
    {
     "data": {
      "application/vnd.microsoft.datawrangler.viewer.v0+json": {
       "columns": [
        {
         "name": "Source",
         "rawType": "object",
         "type": "string"
        },
        {
         "name": "All",
         "rawType": "float64",
         "type": "float"
        },
        {
         "name": "drive",
         "rawType": "float64",
         "type": "float"
        },
        {
         "name": "walk",
         "rawType": "float64",
         "type": "float"
        }
       ],
       "conversionMethod": "pd.DataFrame",
       "ref": "17faacd0-5447-40d5-9441-b38228d6356b",
       "rows": [
        [
         "OBS",
         "20628.0",
         "14955.0",
         "5673.0"
        ],
        [
         "TDM",
         "18575.0",
         "12160.0",
         "6416.0"
        ],
        [
         "TDM_2.13.1",
         "39691.0",
         "26817.0",
         "12874.0"
        ]
       ],
       "shape": {
        "columns": 3,
        "rows": 3
       }
      },
      "text/html": [
       "<div>\n",
       "<style scoped>\n",
       "    .dataframe tbody tr th:only-of-type {\n",
       "        vertical-align: middle;\n",
       "    }\n",
       "\n",
       "    .dataframe tbody tr th {\n",
       "        vertical-align: top;\n",
       "    }\n",
       "\n",
       "    .dataframe thead th {\n",
       "        text-align: right;\n",
       "    }\n",
       "</style>\n",
       "<table border=\"1\" class=\"dataframe\">\n",
       "  <thead>\n",
       "    <tr style=\"text-align: right;\">\n",
       "      <th>AccessMode</th>\n",
       "      <th>All</th>\n",
       "      <th>drive</th>\n",
       "      <th>walk</th>\n",
       "    </tr>\n",
       "    <tr>\n",
       "      <th>Source</th>\n",
       "      <th></th>\n",
       "      <th></th>\n",
       "      <th></th>\n",
       "    </tr>\n",
       "  </thead>\n",
       "  <tbody>\n",
       "    <tr>\n",
       "      <th>OBS</th>\n",
       "      <td>20628.0</td>\n",
       "      <td>14955.0</td>\n",
       "      <td>5673.0</td>\n",
       "    </tr>\n",
       "    <tr>\n",
       "      <th>TDM</th>\n",
       "      <td>18575.0</td>\n",
       "      <td>12160.0</td>\n",
       "      <td>6416.0</td>\n",
       "    </tr>\n",
       "    <tr>\n",
       "      <th>TDM_2.13.1</th>\n",
       "      <td>39691.0</td>\n",
       "      <td>26817.0</td>\n",
       "      <td>12874.0</td>\n",
       "    </tr>\n",
       "  </tbody>\n",
       "</table>\n",
       "</div>"
      ],
      "text/plain": [
       "AccessMode      All    drive     walk\n",
       "Source                               \n",
       "OBS         20628.0  14955.0   5673.0\n",
       "TDM         18575.0  12160.0   6416.0\n",
       "TDM_2.13.1  39691.0  26817.0  12874.0"
      ]
     },
     "execution_count": 45,
     "metadata": {},
     "output_type": "execute_result"
    }
   ],
   "source": [
    "\n",
    "# Pivot to make AccessMode columns\n",
    "pivot_df = sumStatsPg.pivot(index='Source', columns='AccessMode', values='Brd_PA').round(0)\n",
    "pivot_df"
   ]
  }
 ],
 "metadata": {
  "kernelspec": {
   "display_name": "march2024",
   "language": "python",
   "name": "python3"
  },
  "language_info": {
   "codemirror_mode": {
    "name": "ipython",
    "version": 3
   },
   "file_extension": ".py",
   "mimetype": "text/x-python",
   "name": "python",
   "nbconvert_exporter": "python",
   "pygments_lexer": "ipython3",
   "version": "3.9.19"
  }
 },
 "nbformat": 4,
 "nbformat_minor": 2
}
