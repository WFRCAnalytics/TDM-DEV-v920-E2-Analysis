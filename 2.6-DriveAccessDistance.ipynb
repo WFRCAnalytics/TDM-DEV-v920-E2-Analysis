{
 "cells": [
  {
   "cell_type": "code",
   "execution_count": 1,
   "metadata": {},
   "outputs": [],
   "source": [
    "import pandas as pd\n",
    "import numpy as np\n",
    "import plotly.express as px\n",
    "import plotly.graph_objects as go\n",
    "import plotly as pys\n",
    "import ipywidgets as widgets\n",
    "from ipywidgets import Layout\n",
    "\n",
    "import _global_scripts as gs"
   ]
  },
  {
   "cell_type": "markdown",
   "metadata": {},
   "source": [
    "## Purpose"
   ]
  },
  {
   "cell_type": "markdown",
   "metadata": {},
   "source": [
    "**Investigation #6**: Average Drive Access Distance by Station (Model vs Observed) "
   ]
  },
  {
   "cell_type": "markdown",
   "metadata": {},
   "source": [
    "## Inputs"
   ]
  },
  {
   "cell_type": "code",
   "execution_count": 16,
   "metadata": {},
   "outputs": [
    {
     "name": "stderr",
     "output_type": "stream",
     "text": [
      "C:\\Users\\cday\\AppData\\Local\\Temp\\ipykernel_34960\\2145170188.py:1: DtypeWarning:\n",
      "\n",
      "Columns (3) have mixed types. Specify dtype option on import or set low_memory=False.\n",
      "\n"
     ]
    }
   ],
   "source": [
    "df_tdm_links = pd.read_csv(r\"_data/base_link.csv\")\n",
    "\n",
    "df_obs_access_dist = pd.read_csv(r\"_data/E2.6/OBS_Access_Egress_Distances_v2.csv\")\n",
    "df_obs_ungrouped = pd.read_csv(r\"_data/base_observed_ungrouped_pa.csv\")\n",
    "#df_obs_data = pd.read_csv(r\"D:/GitHub/OBS-TDM-Ridership-Compare/2023-OBS-TDM-Compare/data/2019-OBS/2019 Final Weighted UTA OD Data - 2022-04-05 - processed.csv\")"
   ]
  },
  {
   "cell_type": "code",
   "execution_count": 3,
   "metadata": {},
   "outputs": [],
   "source": [
    "def weighted_quantile(data, q, weights, factor):\n",
    "    factored_weights = weights * factor\n",
    "    rounded_weights = np.round(factored_weights).astype(int)\n",
    "    repeat_data = np.repeat(data,rounded_weights).astype(float)\n",
    "\n",
    "    return np.quantile(repeat_data, q)\n",
    "\n",
    "def weighted_average(data, weights):\n",
    "    return np.average(data, weights=weights)"
   ]
  },
  {
   "cell_type": "markdown",
   "metadata": {},
   "source": [
    "## TDM"
   ]
  },
  {
   "cell_type": "code",
   "execution_count": 4,
   "metadata": {},
   "outputs": [],
   "source": [
    "# read in stations and summarize tdm results\n",
    "df_stations1 = gs.df_stations[['station','N']]"
   ]
  },
  {
   "cell_type": "code",
   "execution_count": 5,
   "metadata": {},
   "outputs": [
    {
     "name": "stderr",
     "output_type": "stream",
     "text": [
      "C:\\Users\\cday\\AppData\\Local\\Temp\\ipykernel_34960\\1233989176.py:23: DeprecationWarning: DataFrameGroupBy.apply operated on the grouping columns. This behavior is deprecated, and in a future version of pandas the grouping columns will be excluded from the operation. Either pass `include_groups=False` to exclude the groupings or explicitly select the grouping columns after groupby to silence this warning.\n",
      "  df_tdm_3\n"
     ]
    },
    {
     "data": {
      "text/html": [
       "<div>\n",
       "<style scoped>\n",
       "    .dataframe tbody tr th:only-of-type {\n",
       "        vertical-align: middle;\n",
       "    }\n",
       "\n",
       "    .dataframe tbody tr th {\n",
       "        vertical-align: top;\n",
       "    }\n",
       "\n",
       "    .dataframe thead th {\n",
       "        text-align: right;\n",
       "    }\n",
       "</style>\n",
       "<table border=\"1\" class=\"dataframe\">\n",
       "  <thead>\n",
       "    <tr style=\"text-align: right;\">\n",
       "      <th></th>\n",
       "      <th>Source</th>\n",
       "      <th>station</th>\n",
       "      <th>AccessMode</th>\n",
       "      <th>Brd_PA</th>\n",
       "      <th>Dist_15</th>\n",
       "      <th>Dist_Med</th>\n",
       "      <th>Dist_85</th>\n",
       "      <th>Dist_Avg</th>\n",
       "      <th>Notes</th>\n",
       "    </tr>\n",
       "  </thead>\n",
       "  <tbody>\n",
       "    <tr>\n",
       "      <th>0</th>\n",
       "      <td>TDM</td>\n",
       "      <td>01-PROVO CENTRAL STATION</td>\n",
       "      <td>walk</td>\n",
       "      <td>421.53</td>\n",
       "      <td>0.24</td>\n",
       "      <td>0.56</td>\n",
       "      <td>0.56</td>\n",
       "      <td>0.425441</td>\n",
       "      <td>Boardings represent only direct boardings to CRT.</td>\n",
       "    </tr>\n",
       "    <tr>\n",
       "      <th>1</th>\n",
       "      <td>TDM</td>\n",
       "      <td>02-OREM CENTRAL STATION</td>\n",
       "      <td>walk</td>\n",
       "      <td>463.64</td>\n",
       "      <td>0.08</td>\n",
       "      <td>0.08</td>\n",
       "      <td>0.58</td>\n",
       "      <td>0.256846</td>\n",
       "      <td>Boardings represent only direct boardings to CRT.</td>\n",
       "    </tr>\n",
       "    <tr>\n",
       "      <th>2</th>\n",
       "      <td>TDM</td>\n",
       "      <td>03-AMERICAN FORK STATION</td>\n",
       "      <td>walk</td>\n",
       "      <td>81.71</td>\n",
       "      <td>0.42</td>\n",
       "      <td>0.42</td>\n",
       "      <td>0.77</td>\n",
       "      <td>0.559250</td>\n",
       "      <td>Boardings represent only direct boardings to CRT.</td>\n",
       "    </tr>\n",
       "    <tr>\n",
       "      <th>3</th>\n",
       "      <td>TDM</td>\n",
       "      <td>04-LEHI STATION</td>\n",
       "      <td>walk</td>\n",
       "      <td>221.96</td>\n",
       "      <td>0.25</td>\n",
       "      <td>0.58</td>\n",
       "      <td>0.66</td>\n",
       "      <td>0.474284</td>\n",
       "      <td>Boardings represent only direct boardings to CRT.</td>\n",
       "    </tr>\n",
       "    <tr>\n",
       "      <th>4</th>\n",
       "      <td>TDM</td>\n",
       "      <td>05-DRAPER STATION</td>\n",
       "      <td>walk</td>\n",
       "      <td>151.75</td>\n",
       "      <td>0.40</td>\n",
       "      <td>0.41</td>\n",
       "      <td>0.47</td>\n",
       "      <td>0.437257</td>\n",
       "      <td>Boardings represent only direct boardings to CRT.</td>\n",
       "    </tr>\n",
       "    <tr>\n",
       "      <th>5</th>\n",
       "      <td>TDM</td>\n",
       "      <td>06-SOUTH JORDAN STATION</td>\n",
       "      <td>walk</td>\n",
       "      <td>259.48</td>\n",
       "      <td>0.35</td>\n",
       "      <td>0.67</td>\n",
       "      <td>0.67</td>\n",
       "      <td>0.526463</td>\n",
       "      <td>Boardings represent only direct boardings to CRT.</td>\n",
       "    </tr>\n",
       "    <tr>\n",
       "      <th>6</th>\n",
       "      <td>TDM</td>\n",
       "      <td>07-MURRAY CENTRAL STATION</td>\n",
       "      <td>walk</td>\n",
       "      <td>541.66</td>\n",
       "      <td>0.33</td>\n",
       "      <td>0.45</td>\n",
       "      <td>0.75</td>\n",
       "      <td>0.521251</td>\n",
       "      <td>Boardings represent only direct boardings to CRT.</td>\n",
       "    </tr>\n",
       "    <tr>\n",
       "      <th>7</th>\n",
       "      <td>TDM</td>\n",
       "      <td>08-SALT LAKE CENTRAL STATION</td>\n",
       "      <td>walk</td>\n",
       "      <td>76.29</td>\n",
       "      <td>0.12</td>\n",
       "      <td>0.12</td>\n",
       "      <td>0.22</td>\n",
       "      <td>0.180298</td>\n",
       "      <td>Boardings represent only direct boardings to CRT.</td>\n",
       "    </tr>\n",
       "    <tr>\n",
       "      <th>8</th>\n",
       "      <td>TDM</td>\n",
       "      <td>09-NORTH TEMPLE STATION</td>\n",
       "      <td>walk</td>\n",
       "      <td>642.01</td>\n",
       "      <td>0.17</td>\n",
       "      <td>0.22</td>\n",
       "      <td>0.56</td>\n",
       "      <td>0.301644</td>\n",
       "      <td>Boardings represent only direct boardings to CRT.</td>\n",
       "    </tr>\n",
       "    <tr>\n",
       "      <th>9</th>\n",
       "      <td>TDM</td>\n",
       "      <td>10-WOODS CROSS STATION</td>\n",
       "      <td>walk</td>\n",
       "      <td>310.76</td>\n",
       "      <td>0.22</td>\n",
       "      <td>0.22</td>\n",
       "      <td>0.57</td>\n",
       "      <td>0.331028</td>\n",
       "      <td>Boardings represent only direct boardings to CRT.</td>\n",
       "    </tr>\n",
       "    <tr>\n",
       "      <th>10</th>\n",
       "      <td>TDM</td>\n",
       "      <td>11-FARMINGTON STATION</td>\n",
       "      <td>walk</td>\n",
       "      <td>119.79</td>\n",
       "      <td>0.17</td>\n",
       "      <td>0.17</td>\n",
       "      <td>0.82</td>\n",
       "      <td>0.300880</td>\n",
       "      <td>Boardings represent only direct boardings to CRT.</td>\n",
       "    </tr>\n",
       "    <tr>\n",
       "      <th>11</th>\n",
       "      <td>TDM</td>\n",
       "      <td>12-LAYTON STATION</td>\n",
       "      <td>walk</td>\n",
       "      <td>127.96</td>\n",
       "      <td>0.17</td>\n",
       "      <td>0.17</td>\n",
       "      <td>0.66</td>\n",
       "      <td>0.303949</td>\n",
       "      <td>Boardings represent only direct boardings to CRT.</td>\n",
       "    </tr>\n",
       "    <tr>\n",
       "      <th>12</th>\n",
       "      <td>TDM</td>\n",
       "      <td>13-CLEARFIELD STATION</td>\n",
       "      <td>walk</td>\n",
       "      <td>474.23</td>\n",
       "      <td>0.29</td>\n",
       "      <td>0.63</td>\n",
       "      <td>0.64</td>\n",
       "      <td>0.524203</td>\n",
       "      <td>Boardings represent only direct boardings to CRT.</td>\n",
       "    </tr>\n",
       "    <tr>\n",
       "      <th>13</th>\n",
       "      <td>TDM</td>\n",
       "      <td>14-ROY STATION</td>\n",
       "      <td>walk</td>\n",
       "      <td>366.93</td>\n",
       "      <td>0.37</td>\n",
       "      <td>0.45</td>\n",
       "      <td>0.68</td>\n",
       "      <td>0.522302</td>\n",
       "      <td>Boardings represent only direct boardings to CRT.</td>\n",
       "    </tr>\n",
       "    <tr>\n",
       "      <th>14</th>\n",
       "      <td>TDM</td>\n",
       "      <td>15-OGDEN STATION</td>\n",
       "      <td>walk</td>\n",
       "      <td>72.97</td>\n",
       "      <td>0.21</td>\n",
       "      <td>0.44</td>\n",
       "      <td>0.83</td>\n",
       "      <td>0.468153</td>\n",
       "      <td>Boardings represent only direct boardings to CRT.</td>\n",
       "    </tr>\n",
       "    <tr>\n",
       "      <th>15</th>\n",
       "      <td>TDM</td>\n",
       "      <td>01-PROVO CENTRAL STATION</td>\n",
       "      <td>drive</td>\n",
       "      <td>211.42</td>\n",
       "      <td>1.04</td>\n",
       "      <td>1.80</td>\n",
       "      <td>3.20</td>\n",
       "      <td>2.578107</td>\n",
       "      <td>Boardings represent only direct boardings to CRT.</td>\n",
       "    </tr>\n",
       "    <tr>\n",
       "      <th>16</th>\n",
       "      <td>TDM</td>\n",
       "      <td>02-OREM CENTRAL STATION</td>\n",
       "      <td>drive</td>\n",
       "      <td>1121.20</td>\n",
       "      <td>2.50</td>\n",
       "      <td>5.26</td>\n",
       "      <td>20.38</td>\n",
       "      <td>9.752669</td>\n",
       "      <td>Boardings represent only direct boardings to CRT.</td>\n",
       "    </tr>\n",
       "    <tr>\n",
       "      <th>17</th>\n",
       "      <td>TDM</td>\n",
       "      <td>03-AMERICAN FORK STATION</td>\n",
       "      <td>drive</td>\n",
       "      <td>1518.51</td>\n",
       "      <td>2.12</td>\n",
       "      <td>4.16</td>\n",
       "      <td>8.16</td>\n",
       "      <td>4.986290</td>\n",
       "      <td>Boardings represent only direct boardings to CRT.</td>\n",
       "    </tr>\n",
       "    <tr>\n",
       "      <th>18</th>\n",
       "      <td>TDM</td>\n",
       "      <td>04-LEHI STATION</td>\n",
       "      <td>drive</td>\n",
       "      <td>1304.08</td>\n",
       "      <td>2.57</td>\n",
       "      <td>5.47</td>\n",
       "      <td>9.97</td>\n",
       "      <td>6.313703</td>\n",
       "      <td>Boardings represent only direct boardings to CRT.</td>\n",
       "    </tr>\n",
       "    <tr>\n",
       "      <th>19</th>\n",
       "      <td>TDM</td>\n",
       "      <td>05-DRAPER STATION</td>\n",
       "      <td>drive</td>\n",
       "      <td>1109.74</td>\n",
       "      <td>2.83</td>\n",
       "      <td>5.34</td>\n",
       "      <td>8.64</td>\n",
       "      <td>5.624557</td>\n",
       "      <td>Boardings represent only direct boardings to CRT.</td>\n",
       "    </tr>\n",
       "    <tr>\n",
       "      <th>20</th>\n",
       "      <td>TDM</td>\n",
       "      <td>06-SOUTH JORDAN STATION</td>\n",
       "      <td>drive</td>\n",
       "      <td>1353.08</td>\n",
       "      <td>2.16</td>\n",
       "      <td>3.74</td>\n",
       "      <td>6.05</td>\n",
       "      <td>4.158662</td>\n",
       "      <td>Boardings represent only direct boardings to CRT.</td>\n",
       "    </tr>\n",
       "    <tr>\n",
       "      <th>21</th>\n",
       "      <td>TDM</td>\n",
       "      <td>07-MURRAY CENTRAL STATION</td>\n",
       "      <td>drive</td>\n",
       "      <td>786.34</td>\n",
       "      <td>2.42</td>\n",
       "      <td>4.58</td>\n",
       "      <td>7.66</td>\n",
       "      <td>5.052093</td>\n",
       "      <td>Boardings represent only direct boardings to CRT.</td>\n",
       "    </tr>\n",
       "    <tr>\n",
       "      <th>22</th>\n",
       "      <td>TDM</td>\n",
       "      <td>08-SALT LAKE CENTRAL STATION</td>\n",
       "      <td>drive</td>\n",
       "      <td>149.30</td>\n",
       "      <td>1.58</td>\n",
       "      <td>3.44</td>\n",
       "      <td>9.36</td>\n",
       "      <td>5.067672</td>\n",
       "      <td>Boardings represent only direct boardings to CRT.</td>\n",
       "    </tr>\n",
       "    <tr>\n",
       "      <th>23</th>\n",
       "      <td>TDM</td>\n",
       "      <td>09-NORTH TEMPLE STATION</td>\n",
       "      <td>drive</td>\n",
       "      <td>74.25</td>\n",
       "      <td>1.54</td>\n",
       "      <td>2.80</td>\n",
       "      <td>5.52</td>\n",
       "      <td>3.499684</td>\n",
       "      <td>Boardings represent only direct boardings to CRT.</td>\n",
       "    </tr>\n",
       "    <tr>\n",
       "      <th>24</th>\n",
       "      <td>TDM</td>\n",
       "      <td>10-WOODS CROSS STATION</td>\n",
       "      <td>drive</td>\n",
       "      <td>948.07</td>\n",
       "      <td>1.61</td>\n",
       "      <td>2.77</td>\n",
       "      <td>3.87</td>\n",
       "      <td>2.807795</td>\n",
       "      <td>Boardings represent only direct boardings to CRT.</td>\n",
       "    </tr>\n",
       "    <tr>\n",
       "      <th>25</th>\n",
       "      <td>TDM</td>\n",
       "      <td>11-FARMINGTON STATION</td>\n",
       "      <td>drive</td>\n",
       "      <td>426.73</td>\n",
       "      <td>1.72</td>\n",
       "      <td>2.91</td>\n",
       "      <td>4.47</td>\n",
       "      <td>3.092171</td>\n",
       "      <td>Boardings represent only direct boardings to CRT.</td>\n",
       "    </tr>\n",
       "    <tr>\n",
       "      <th>26</th>\n",
       "      <td>TDM</td>\n",
       "      <td>12-LAYTON STATION</td>\n",
       "      <td>drive</td>\n",
       "      <td>877.23</td>\n",
       "      <td>1.41</td>\n",
       "      <td>2.53</td>\n",
       "      <td>4.28</td>\n",
       "      <td>2.813060</td>\n",
       "      <td>Boardings represent only direct boardings to CRT.</td>\n",
       "    </tr>\n",
       "    <tr>\n",
       "      <th>27</th>\n",
       "      <td>TDM</td>\n",
       "      <td>13-CLEARFIELD STATION</td>\n",
       "      <td>drive</td>\n",
       "      <td>701.32</td>\n",
       "      <td>1.24</td>\n",
       "      <td>2.99</td>\n",
       "      <td>4.87</td>\n",
       "      <td>3.153313</td>\n",
       "      <td>Boardings represent only direct boardings to CRT.</td>\n",
       "    </tr>\n",
       "    <tr>\n",
       "      <th>28</th>\n",
       "      <td>TDM</td>\n",
       "      <td>14-ROY STATION</td>\n",
       "      <td>drive</td>\n",
       "      <td>1009.18</td>\n",
       "      <td>2.15</td>\n",
       "      <td>3.89</td>\n",
       "      <td>11.32</td>\n",
       "      <td>6.278567</td>\n",
       "      <td>Boardings represent only direct boardings to CRT.</td>\n",
       "    </tr>\n",
       "    <tr>\n",
       "      <th>29</th>\n",
       "      <td>TDM</td>\n",
       "      <td>15-OGDEN STATION</td>\n",
       "      <td>drive</td>\n",
       "      <td>567.73</td>\n",
       "      <td>1.83</td>\n",
       "      <td>3.63</td>\n",
       "      <td>5.72</td>\n",
       "      <td>4.096120</td>\n",
       "      <td>Boardings represent only direct boardings to CRT.</td>\n",
       "    </tr>\n",
       "  </tbody>\n",
       "</table>\n",
       "</div>"
      ],
      "text/plain": [
       "   Source                       station AccessMode   Brd_PA  Dist_15  \\\n",
       "0     TDM      01-PROVO CENTRAL STATION       walk   421.53     0.24   \n",
       "1     TDM       02-OREM CENTRAL STATION       walk   463.64     0.08   \n",
       "2     TDM      03-AMERICAN FORK STATION       walk    81.71     0.42   \n",
       "3     TDM               04-LEHI STATION       walk   221.96     0.25   \n",
       "4     TDM             05-DRAPER STATION       walk   151.75     0.40   \n",
       "5     TDM       06-SOUTH JORDAN STATION       walk   259.48     0.35   \n",
       "6     TDM     07-MURRAY CENTRAL STATION       walk   541.66     0.33   \n",
       "7     TDM  08-SALT LAKE CENTRAL STATION       walk    76.29     0.12   \n",
       "8     TDM       09-NORTH TEMPLE STATION       walk   642.01     0.17   \n",
       "9     TDM        10-WOODS CROSS STATION       walk   310.76     0.22   \n",
       "10    TDM         11-FARMINGTON STATION       walk   119.79     0.17   \n",
       "11    TDM             12-LAYTON STATION       walk   127.96     0.17   \n",
       "12    TDM         13-CLEARFIELD STATION       walk   474.23     0.29   \n",
       "13    TDM                14-ROY STATION       walk   366.93     0.37   \n",
       "14    TDM              15-OGDEN STATION       walk    72.97     0.21   \n",
       "15    TDM      01-PROVO CENTRAL STATION      drive   211.42     1.04   \n",
       "16    TDM       02-OREM CENTRAL STATION      drive  1121.20     2.50   \n",
       "17    TDM      03-AMERICAN FORK STATION      drive  1518.51     2.12   \n",
       "18    TDM               04-LEHI STATION      drive  1304.08     2.57   \n",
       "19    TDM             05-DRAPER STATION      drive  1109.74     2.83   \n",
       "20    TDM       06-SOUTH JORDAN STATION      drive  1353.08     2.16   \n",
       "21    TDM     07-MURRAY CENTRAL STATION      drive   786.34     2.42   \n",
       "22    TDM  08-SALT LAKE CENTRAL STATION      drive   149.30     1.58   \n",
       "23    TDM       09-NORTH TEMPLE STATION      drive    74.25     1.54   \n",
       "24    TDM        10-WOODS CROSS STATION      drive   948.07     1.61   \n",
       "25    TDM         11-FARMINGTON STATION      drive   426.73     1.72   \n",
       "26    TDM             12-LAYTON STATION      drive   877.23     1.41   \n",
       "27    TDM         13-CLEARFIELD STATION      drive   701.32     1.24   \n",
       "28    TDM                14-ROY STATION      drive  1009.18     2.15   \n",
       "29    TDM              15-OGDEN STATION      drive   567.73     1.83   \n",
       "\n",
       "    Dist_Med  Dist_85  Dist_Avg  \\\n",
       "0       0.56     0.56  0.425441   \n",
       "1       0.08     0.58  0.256846   \n",
       "2       0.42     0.77  0.559250   \n",
       "3       0.58     0.66  0.474284   \n",
       "4       0.41     0.47  0.437257   \n",
       "5       0.67     0.67  0.526463   \n",
       "6       0.45     0.75  0.521251   \n",
       "7       0.12     0.22  0.180298   \n",
       "8       0.22     0.56  0.301644   \n",
       "9       0.22     0.57  0.331028   \n",
       "10      0.17     0.82  0.300880   \n",
       "11      0.17     0.66  0.303949   \n",
       "12      0.63     0.64  0.524203   \n",
       "13      0.45     0.68  0.522302   \n",
       "14      0.44     0.83  0.468153   \n",
       "15      1.80     3.20  2.578107   \n",
       "16      5.26    20.38  9.752669   \n",
       "17      4.16     8.16  4.986290   \n",
       "18      5.47     9.97  6.313703   \n",
       "19      5.34     8.64  5.624557   \n",
       "20      3.74     6.05  4.158662   \n",
       "21      4.58     7.66  5.052093   \n",
       "22      3.44     9.36  5.067672   \n",
       "23      2.80     5.52  3.499684   \n",
       "24      2.77     3.87  2.807795   \n",
       "25      2.91     4.47  3.092171   \n",
       "26      2.53     4.28  2.813060   \n",
       "27      2.99     4.87  3.153313   \n",
       "28      3.89    11.32  6.278567   \n",
       "29      3.63     5.72  4.096120   \n",
       "\n",
       "                                                Notes  \n",
       "0   Boardings represent only direct boardings to CRT.  \n",
       "1   Boardings represent only direct boardings to CRT.  \n",
       "2   Boardings represent only direct boardings to CRT.  \n",
       "3   Boardings represent only direct boardings to CRT.  \n",
       "4   Boardings represent only direct boardings to CRT.  \n",
       "5   Boardings represent only direct boardings to CRT.  \n",
       "6   Boardings represent only direct boardings to CRT.  \n",
       "7   Boardings represent only direct boardings to CRT.  \n",
       "8   Boardings represent only direct boardings to CRT.  \n",
       "9   Boardings represent only direct boardings to CRT.  \n",
       "10  Boardings represent only direct boardings to CRT.  \n",
       "11  Boardings represent only direct boardings to CRT.  \n",
       "12  Boardings represent only direct boardings to CRT.  \n",
       "13  Boardings represent only direct boardings to CRT.  \n",
       "14  Boardings represent only direct boardings to CRT.  \n",
       "15  Boardings represent only direct boardings to CRT.  \n",
       "16  Boardings represent only direct boardings to CRT.  \n",
       "17  Boardings represent only direct boardings to CRT.  \n",
       "18  Boardings represent only direct boardings to CRT.  \n",
       "19  Boardings represent only direct boardings to CRT.  \n",
       "20  Boardings represent only direct boardings to CRT.  \n",
       "21  Boardings represent only direct boardings to CRT.  \n",
       "22  Boardings represent only direct boardings to CRT.  \n",
       "23  Boardings represent only direct boardings to CRT.  \n",
       "24  Boardings represent only direct boardings to CRT.  \n",
       "25  Boardings represent only direct boardings to CRT.  \n",
       "26  Boardings represent only direct boardings to CRT.  \n",
       "27  Boardings represent only direct boardings to CRT.  \n",
       "28  Boardings represent only direct boardings to CRT.  \n",
       "29  Boardings represent only direct boardings to CRT.  "
      ]
     },
     "execution_count": 5,
     "metadata": {},
     "output_type": "execute_result"
    }
   ],
   "source": [
    "# get boarding and alighting station names\n",
    "df_tdm_1 = (\n",
    "    pd.merge(df_tdm_links, df_stations1, left_on=\"B\", right_on=\"N\", how=\"left\")\n",
    "    .rename(columns={\"station\": \"brd_station\"})\n",
    "    .merge(df_stations1, left_on=\"A\", right_on=\"N\", how=\"left\")\n",
    "    .rename(columns={\"station\": \"alt_station\"})\n",
    "    .drop(columns={'N_x','N_y'})\n",
    ")\n",
    "\n",
    "# filter out data that doesn't make sense and filter for specific access links\n",
    "df_tdm_2 = df_tdm_1[\n",
    "    ((df_tdm_1[\"brd_station\"].notna()) & (df_tdm_1[\"A\"] < 10000)) |\n",
    "    ((df_tdm_1[\"alt_station\"].notna()) & (df_tdm_1[\"B\"] < 10000))\n",
    "]\n",
    "df_tdm_2 = df_tdm_2[df_tdm_2[\"Mode\"].isin([80, 11])]\n",
    "df_tdm_2[\"FromSkim_CRT\"] = pd.to_numeric(df_tdm_2[\"FromSkim_CRT\"], errors=\"coerce\")\n",
    "\n",
    "# filter to only drive access links and select specific columns\n",
    "df_tdm_3 = df_tdm_2[['Mode','Period','AccessMode','brd_station','alt_station','Riders','Distance']]\n",
    "\n",
    "# group by and sum up at the brd_station level\n",
    "df_tdm_brd = (\n",
    "    df_tdm_3\n",
    "    .dropna(subset=[\"brd_station\"])\n",
    "    .groupby(['Mode','brd_station',\"AccessMode\"], as_index=False)\n",
    "    .apply(lambda x: pd.Series({\n",
    "        'Brd_PA': sum(x['Riders']),\n",
    "        'Dist_15': weighted_quantile(x['Distance'].values, 0.15, x['Riders'].values,10000),\n",
    "        'Dist_Med': weighted_quantile(x['Distance'].values, 0.5, x['Riders'].values,10000),\n",
    "        'Dist_85': weighted_quantile(x['Distance'].values, 0.85, x['Riders'].values,10000),\n",
    "        'Dist_Avg': weighted_average(x['Distance'].values, x['Riders'].values)\n",
    "                            \n",
    "    }))\n",
    ")\n",
    "\n",
    "df_tdm_brd['Source'] = 'TDM'\n",
    "df_tdm_brd['station'] = df_tdm_brd['brd_station']\n",
    "df_tdm_brd['Notes'] = 'Boardings represent only direct boardings to CRT.'\n",
    "df_tdm_brd = df_tdm_brd[['Source','station','AccessMode','Brd_PA','Dist_15','Dist_Med','Dist_85','Dist_Avg','Notes']]\n",
    "\n",
    "df_tdm_brd"
   ]
  },
  {
   "cell_type": "markdown",
   "metadata": {},
   "source": [
    "## Observed"
   ]
  },
  {
   "cell_type": "code",
   "execution_count": 17,
   "metadata": {},
   "outputs": [],
   "source": [
    "df_obs_1 = df_obs_ungrouped.merge(df_obs_access_dist, on = 'id')"
   ]
  },
  {
   "cell_type": "code",
   "execution_count": 7,
   "metadata": {},
   "outputs": [
    {
     "name": "stderr",
     "output_type": "stream",
     "text": [
      "C:\\Users\\cday\\AppData\\Local\\Temp\\ipykernel_34960\\757015048.py:3: DeprecationWarning: DataFrameGroupBy.apply operated on the grouping columns. This behavior is deprecated, and in a future version of pandas the grouping columns will be excluded from the operation. Either pass `include_groups=False` to exclude the groupings or explicitly select the grouping columns after groupby to silence this warning.\n",
      "  boardings_total = (boardings.groupby(['station','AccessMode'])\n"
     ]
    },
    {
     "data": {
      "text/html": [
       "<div>\n",
       "<style scoped>\n",
       "    .dataframe tbody tr th:only-of-type {\n",
       "        vertical-align: middle;\n",
       "    }\n",
       "\n",
       "    .dataframe tbody tr th {\n",
       "        vertical-align: top;\n",
       "    }\n",
       "\n",
       "    .dataframe thead th {\n",
       "        text-align: right;\n",
       "    }\n",
       "</style>\n",
       "<table border=\"1\" class=\"dataframe\">\n",
       "  <thead>\n",
       "    <tr style=\"text-align: right;\">\n",
       "      <th></th>\n",
       "      <th>Source</th>\n",
       "      <th>station</th>\n",
       "      <th>AccessMode</th>\n",
       "      <th>Brd_PA</th>\n",
       "      <th>Dist_15</th>\n",
       "      <th>Dist_Med</th>\n",
       "      <th>Dist_85</th>\n",
       "      <th>Dist_Avg</th>\n",
       "      <th>Notes</th>\n",
       "    </tr>\n",
       "  </thead>\n",
       "  <tbody>\n",
       "    <tr>\n",
       "      <th>0</th>\n",
       "      <td>OBS</td>\n",
       "      <td>01-PROVO CENTRAL STATION</td>\n",
       "      <td>drive</td>\n",
       "      <td>2260.414</td>\n",
       "      <td>1.170000</td>\n",
       "      <td>2.790000</td>\n",
       "      <td>9.890000</td>\n",
       "      <td>4.727752</td>\n",
       "      <td>Boardings represent all boardings, not just di...</td>\n",
       "    </tr>\n",
       "    <tr>\n",
       "      <th>1</th>\n",
       "      <td>OBS</td>\n",
       "      <td>01-PROVO CENTRAL STATION</td>\n",
       "      <td>walk</td>\n",
       "      <td>945.908</td>\n",
       "      <td>0.164252</td>\n",
       "      <td>0.371521</td>\n",
       "      <td>1.103047</td>\n",
       "      <td>0.545255</td>\n",
       "      <td>Boardings represent all boardings, not just di...</td>\n",
       "    </tr>\n",
       "    <tr>\n",
       "      <th>2</th>\n",
       "      <td>OBS</td>\n",
       "      <td>02-OREM CENTRAL STATION</td>\n",
       "      <td>drive</td>\n",
       "      <td>1460.040</td>\n",
       "      <td>0.950000</td>\n",
       "      <td>2.850000</td>\n",
       "      <td>4.830000</td>\n",
       "      <td>3.319107</td>\n",
       "      <td>Boardings represent all boardings, not just di...</td>\n",
       "    </tr>\n",
       "    <tr>\n",
       "      <th>3</th>\n",
       "      <td>OBS</td>\n",
       "      <td>02-OREM CENTRAL STATION</td>\n",
       "      <td>walk</td>\n",
       "      <td>360.640</td>\n",
       "      <td>0.076044</td>\n",
       "      <td>0.310929</td>\n",
       "      <td>0.605386</td>\n",
       "      <td>0.400700</td>\n",
       "      <td>Boardings represent all boardings, not just di...</td>\n",
       "    </tr>\n",
       "    <tr>\n",
       "      <th>4</th>\n",
       "      <td>OBS</td>\n",
       "      <td>03-AMERICAN FORK STATION</td>\n",
       "      <td>drive</td>\n",
       "      <td>1410.593</td>\n",
       "      <td>2.090000</td>\n",
       "      <td>3.980000</td>\n",
       "      <td>9.580000</td>\n",
       "      <td>5.402691</td>\n",
       "      <td>Boardings represent all boardings, not just di...</td>\n",
       "    </tr>\n",
       "    <tr>\n",
       "      <th>5</th>\n",
       "      <td>OBS</td>\n",
       "      <td>03-AMERICAN FORK STATION</td>\n",
       "      <td>walk</td>\n",
       "      <td>136.077</td>\n",
       "      <td>0.282029</td>\n",
       "      <td>0.824947</td>\n",
       "      <td>0.921420</td>\n",
       "      <td>0.839018</td>\n",
       "      <td>Boardings represent all boardings, not just di...</td>\n",
       "    </tr>\n",
       "    <tr>\n",
       "      <th>6</th>\n",
       "      <td>OBS</td>\n",
       "      <td>04-LEHI STATION</td>\n",
       "      <td>drive</td>\n",
       "      <td>1128.372</td>\n",
       "      <td>2.350000</td>\n",
       "      <td>4.270000</td>\n",
       "      <td>8.480000</td>\n",
       "      <td>5.398140</td>\n",
       "      <td>Boardings represent all boardings, not just di...</td>\n",
       "    </tr>\n",
       "    <tr>\n",
       "      <th>7</th>\n",
       "      <td>OBS</td>\n",
       "      <td>04-LEHI STATION</td>\n",
       "      <td>walk</td>\n",
       "      <td>292.189</td>\n",
       "      <td>0.272890</td>\n",
       "      <td>0.351125</td>\n",
       "      <td>1.679277</td>\n",
       "      <td>0.896353</td>\n",
       "      <td>Boardings represent all boardings, not just di...</td>\n",
       "    </tr>\n",
       "    <tr>\n",
       "      <th>8</th>\n",
       "      <td>OBS</td>\n",
       "      <td>05-DRAPER STATION</td>\n",
       "      <td>drive</td>\n",
       "      <td>935.648</td>\n",
       "      <td>2.838472</td>\n",
       "      <td>4.540000</td>\n",
       "      <td>8.320000</td>\n",
       "      <td>5.075091</td>\n",
       "      <td>Boardings represent all boardings, not just di...</td>\n",
       "    </tr>\n",
       "    <tr>\n",
       "      <th>9</th>\n",
       "      <td>OBS</td>\n",
       "      <td>05-DRAPER STATION</td>\n",
       "      <td>walk</td>\n",
       "      <td>144.648</td>\n",
       "      <td>0.469682</td>\n",
       "      <td>1.034810</td>\n",
       "      <td>1.613032</td>\n",
       "      <td>1.072952</td>\n",
       "      <td>Boardings represent all boardings, not just di...</td>\n",
       "    </tr>\n",
       "    <tr>\n",
       "      <th>10</th>\n",
       "      <td>OBS</td>\n",
       "      <td>06-SOUTH JORDAN STATION</td>\n",
       "      <td>drive</td>\n",
       "      <td>970.963</td>\n",
       "      <td>2.200000</td>\n",
       "      <td>4.282981</td>\n",
       "      <td>6.400000</td>\n",
       "      <td>4.547102</td>\n",
       "      <td>Boardings represent all boardings, not just di...</td>\n",
       "    </tr>\n",
       "    <tr>\n",
       "      <th>11</th>\n",
       "      <td>OBS</td>\n",
       "      <td>06-SOUTH JORDAN STATION</td>\n",
       "      <td>walk</td>\n",
       "      <td>206.560</td>\n",
       "      <td>0.154715</td>\n",
       "      <td>0.941236</td>\n",
       "      <td>1.405301</td>\n",
       "      <td>0.919064</td>\n",
       "      <td>Boardings represent all boardings, not just di...</td>\n",
       "    </tr>\n",
       "    <tr>\n",
       "      <th>12</th>\n",
       "      <td>OBS</td>\n",
       "      <td>07-MURRAY CENTRAL STATION</td>\n",
       "      <td>drive</td>\n",
       "      <td>1029.668</td>\n",
       "      <td>1.445006</td>\n",
       "      <td>3.984978</td>\n",
       "      <td>9.400000</td>\n",
       "      <td>5.125550</td>\n",
       "      <td>Boardings represent all boardings, not just di...</td>\n",
       "    </tr>\n",
       "    <tr>\n",
       "      <th>13</th>\n",
       "      <td>OBS</td>\n",
       "      <td>07-MURRAY CENTRAL STATION</td>\n",
       "      <td>walk</td>\n",
       "      <td>792.633</td>\n",
       "      <td>0.242633</td>\n",
       "      <td>0.480580</td>\n",
       "      <td>1.289595</td>\n",
       "      <td>0.787929</td>\n",
       "      <td>Boardings represent all boardings, not just di...</td>\n",
       "    </tr>\n",
       "    <tr>\n",
       "      <th>14</th>\n",
       "      <td>OBS</td>\n",
       "      <td>08-SALT LAKE CENTRAL STATION</td>\n",
       "      <td>drive</td>\n",
       "      <td>363.018</td>\n",
       "      <td>1.263301</td>\n",
       "      <td>2.660000</td>\n",
       "      <td>4.540000</td>\n",
       "      <td>2.955727</td>\n",
       "      <td>Boardings represent all boardings, not just di...</td>\n",
       "    </tr>\n",
       "    <tr>\n",
       "      <th>15</th>\n",
       "      <td>OBS</td>\n",
       "      <td>08-SALT LAKE CENTRAL STATION</td>\n",
       "      <td>walk</td>\n",
       "      <td>529.444</td>\n",
       "      <td>0.149909</td>\n",
       "      <td>0.352628</td>\n",
       "      <td>1.457191</td>\n",
       "      <td>0.782259</td>\n",
       "      <td>Boardings represent all boardings, not just di...</td>\n",
       "    </tr>\n",
       "    <tr>\n",
       "      <th>16</th>\n",
       "      <td>OBS</td>\n",
       "      <td>09-NORTH TEMPLE STATION</td>\n",
       "      <td>drive</td>\n",
       "      <td>335.673</td>\n",
       "      <td>1.333103</td>\n",
       "      <td>5.240000</td>\n",
       "      <td>23.699179</td>\n",
       "      <td>10.832972</td>\n",
       "      <td>Boardings represent all boardings, not just di...</td>\n",
       "    </tr>\n",
       "    <tr>\n",
       "      <th>17</th>\n",
       "      <td>OBS</td>\n",
       "      <td>09-NORTH TEMPLE STATION</td>\n",
       "      <td>walk</td>\n",
       "      <td>661.147</td>\n",
       "      <td>0.135151</td>\n",
       "      <td>0.252570</td>\n",
       "      <td>0.841639</td>\n",
       "      <td>0.455427</td>\n",
       "      <td>Boardings represent all boardings, not just di...</td>\n",
       "    </tr>\n",
       "    <tr>\n",
       "      <th>18</th>\n",
       "      <td>OBS</td>\n",
       "      <td>10-WOODS CROSS STATION</td>\n",
       "      <td>drive</td>\n",
       "      <td>594.331</td>\n",
       "      <td>1.764544</td>\n",
       "      <td>2.920000</td>\n",
       "      <td>4.810000</td>\n",
       "      <td>3.716678</td>\n",
       "      <td>Boardings represent all boardings, not just di...</td>\n",
       "    </tr>\n",
       "    <tr>\n",
       "      <th>19</th>\n",
       "      <td>OBS</td>\n",
       "      <td>10-WOODS CROSS STATION</td>\n",
       "      <td>walk</td>\n",
       "      <td>173.169</td>\n",
       "      <td>0.387836</td>\n",
       "      <td>1.136129</td>\n",
       "      <td>1.934859</td>\n",
       "      <td>1.233335</td>\n",
       "      <td>Boardings represent all boardings, not just di...</td>\n",
       "    </tr>\n",
       "    <tr>\n",
       "      <th>20</th>\n",
       "      <td>OBS</td>\n",
       "      <td>11-FARMINGTON STATION</td>\n",
       "      <td>drive</td>\n",
       "      <td>378.690</td>\n",
       "      <td>1.430000</td>\n",
       "      <td>2.640000</td>\n",
       "      <td>6.250000</td>\n",
       "      <td>4.072510</td>\n",
       "      <td>Boardings represent all boardings, not just di...</td>\n",
       "    </tr>\n",
       "    <tr>\n",
       "      <th>21</th>\n",
       "      <td>OBS</td>\n",
       "      <td>11-FARMINGTON STATION</td>\n",
       "      <td>walk</td>\n",
       "      <td>120.055</td>\n",
       "      <td>0.150007</td>\n",
       "      <td>0.882145</td>\n",
       "      <td>2.067059</td>\n",
       "      <td>1.045497</td>\n",
       "      <td>Boardings represent all boardings, not just di...</td>\n",
       "    </tr>\n",
       "    <tr>\n",
       "      <th>22</th>\n",
       "      <td>OBS</td>\n",
       "      <td>12-LAYTON STATION</td>\n",
       "      <td>drive</td>\n",
       "      <td>1113.116</td>\n",
       "      <td>1.402450</td>\n",
       "      <td>2.350000</td>\n",
       "      <td>3.900000</td>\n",
       "      <td>2.940304</td>\n",
       "      <td>Boardings represent all boardings, not just di...</td>\n",
       "    </tr>\n",
       "    <tr>\n",
       "      <th>23</th>\n",
       "      <td>OBS</td>\n",
       "      <td>12-LAYTON STATION</td>\n",
       "      <td>walk</td>\n",
       "      <td>384.134</td>\n",
       "      <td>0.313129</td>\n",
       "      <td>1.026735</td>\n",
       "      <td>1.948161</td>\n",
       "      <td>1.111841</td>\n",
       "      <td>Boardings represent all boardings, not just di...</td>\n",
       "    </tr>\n",
       "    <tr>\n",
       "      <th>24</th>\n",
       "      <td>OBS</td>\n",
       "      <td>13-CLEARFIELD STATION</td>\n",
       "      <td>drive</td>\n",
       "      <td>739.268</td>\n",
       "      <td>1.190000</td>\n",
       "      <td>3.040000</td>\n",
       "      <td>5.200000</td>\n",
       "      <td>3.241714</td>\n",
       "      <td>Boardings represent all boardings, not just di...</td>\n",
       "    </tr>\n",
       "    <tr>\n",
       "      <th>25</th>\n",
       "      <td>OBS</td>\n",
       "      <td>13-CLEARFIELD STATION</td>\n",
       "      <td>walk</td>\n",
       "      <td>232.219</td>\n",
       "      <td>0.270308</td>\n",
       "      <td>0.527209</td>\n",
       "      <td>1.000823</td>\n",
       "      <td>0.709644</td>\n",
       "      <td>Boardings represent all boardings, not just di...</td>\n",
       "    </tr>\n",
       "    <tr>\n",
       "      <th>26</th>\n",
       "      <td>OBS</td>\n",
       "      <td>14-ROY STATION</td>\n",
       "      <td>drive</td>\n",
       "      <td>669.648</td>\n",
       "      <td>1.232191</td>\n",
       "      <td>3.040313</td>\n",
       "      <td>4.240000</td>\n",
       "      <td>3.393104</td>\n",
       "      <td>Boardings represent all boardings, not just di...</td>\n",
       "    </tr>\n",
       "    <tr>\n",
       "      <th>27</th>\n",
       "      <td>OBS</td>\n",
       "      <td>14-ROY STATION</td>\n",
       "      <td>walk</td>\n",
       "      <td>168.575</td>\n",
       "      <td>0.363893</td>\n",
       "      <td>0.641269</td>\n",
       "      <td>1.046372</td>\n",
       "      <td>0.789633</td>\n",
       "      <td>Boardings represent all boardings, not just di...</td>\n",
       "    </tr>\n",
       "    <tr>\n",
       "      <th>28</th>\n",
       "      <td>OBS</td>\n",
       "      <td>15-OGDEN STATION</td>\n",
       "      <td>drive</td>\n",
       "      <td>1359.419</td>\n",
       "      <td>2.099442</td>\n",
       "      <td>4.350000</td>\n",
       "      <td>7.420000</td>\n",
       "      <td>5.370319</td>\n",
       "      <td>Boardings represent all boardings, not just di...</td>\n",
       "    </tr>\n",
       "    <tr>\n",
       "      <th>29</th>\n",
       "      <td>OBS</td>\n",
       "      <td>15-OGDEN STATION</td>\n",
       "      <td>walk</td>\n",
       "      <td>495.237</td>\n",
       "      <td>0.244400</td>\n",
       "      <td>0.428609</td>\n",
       "      <td>1.160804</td>\n",
       "      <td>0.656307</td>\n",
       "      <td>Boardings represent all boardings, not just di...</td>\n",
       "    </tr>\n",
       "  </tbody>\n",
       "</table>\n",
       "</div>"
      ],
      "text/plain": [
       "   Source                       station AccessMode    Brd_PA   Dist_15  \\\n",
       "0     OBS      01-PROVO CENTRAL STATION      drive  2260.414  1.170000   \n",
       "1     OBS      01-PROVO CENTRAL STATION       walk   945.908  0.164252   \n",
       "2     OBS       02-OREM CENTRAL STATION      drive  1460.040  0.950000   \n",
       "3     OBS       02-OREM CENTRAL STATION       walk   360.640  0.076044   \n",
       "4     OBS      03-AMERICAN FORK STATION      drive  1410.593  2.090000   \n",
       "5     OBS      03-AMERICAN FORK STATION       walk   136.077  0.282029   \n",
       "6     OBS               04-LEHI STATION      drive  1128.372  2.350000   \n",
       "7     OBS               04-LEHI STATION       walk   292.189  0.272890   \n",
       "8     OBS             05-DRAPER STATION      drive   935.648  2.838472   \n",
       "9     OBS             05-DRAPER STATION       walk   144.648  0.469682   \n",
       "10    OBS       06-SOUTH JORDAN STATION      drive   970.963  2.200000   \n",
       "11    OBS       06-SOUTH JORDAN STATION       walk   206.560  0.154715   \n",
       "12    OBS     07-MURRAY CENTRAL STATION      drive  1029.668  1.445006   \n",
       "13    OBS     07-MURRAY CENTRAL STATION       walk   792.633  0.242633   \n",
       "14    OBS  08-SALT LAKE CENTRAL STATION      drive   363.018  1.263301   \n",
       "15    OBS  08-SALT LAKE CENTRAL STATION       walk   529.444  0.149909   \n",
       "16    OBS       09-NORTH TEMPLE STATION      drive   335.673  1.333103   \n",
       "17    OBS       09-NORTH TEMPLE STATION       walk   661.147  0.135151   \n",
       "18    OBS        10-WOODS CROSS STATION      drive   594.331  1.764544   \n",
       "19    OBS        10-WOODS CROSS STATION       walk   173.169  0.387836   \n",
       "20    OBS         11-FARMINGTON STATION      drive   378.690  1.430000   \n",
       "21    OBS         11-FARMINGTON STATION       walk   120.055  0.150007   \n",
       "22    OBS             12-LAYTON STATION      drive  1113.116  1.402450   \n",
       "23    OBS             12-LAYTON STATION       walk   384.134  0.313129   \n",
       "24    OBS         13-CLEARFIELD STATION      drive   739.268  1.190000   \n",
       "25    OBS         13-CLEARFIELD STATION       walk   232.219  0.270308   \n",
       "26    OBS                14-ROY STATION      drive   669.648  1.232191   \n",
       "27    OBS                14-ROY STATION       walk   168.575  0.363893   \n",
       "28    OBS              15-OGDEN STATION      drive  1359.419  2.099442   \n",
       "29    OBS              15-OGDEN STATION       walk   495.237  0.244400   \n",
       "\n",
       "    Dist_Med    Dist_85   Dist_Avg  \\\n",
       "0   2.790000   9.890000   4.727752   \n",
       "1   0.371521   1.103047   0.545255   \n",
       "2   2.850000   4.830000   3.319107   \n",
       "3   0.310929   0.605386   0.400700   \n",
       "4   3.980000   9.580000   5.402691   \n",
       "5   0.824947   0.921420   0.839018   \n",
       "6   4.270000   8.480000   5.398140   \n",
       "7   0.351125   1.679277   0.896353   \n",
       "8   4.540000   8.320000   5.075091   \n",
       "9   1.034810   1.613032   1.072952   \n",
       "10  4.282981   6.400000   4.547102   \n",
       "11  0.941236   1.405301   0.919064   \n",
       "12  3.984978   9.400000   5.125550   \n",
       "13  0.480580   1.289595   0.787929   \n",
       "14  2.660000   4.540000   2.955727   \n",
       "15  0.352628   1.457191   0.782259   \n",
       "16  5.240000  23.699179  10.832972   \n",
       "17  0.252570   0.841639   0.455427   \n",
       "18  2.920000   4.810000   3.716678   \n",
       "19  1.136129   1.934859   1.233335   \n",
       "20  2.640000   6.250000   4.072510   \n",
       "21  0.882145   2.067059   1.045497   \n",
       "22  2.350000   3.900000   2.940304   \n",
       "23  1.026735   1.948161   1.111841   \n",
       "24  3.040000   5.200000   3.241714   \n",
       "25  0.527209   1.000823   0.709644   \n",
       "26  3.040313   4.240000   3.393104   \n",
       "27  0.641269   1.046372   0.789633   \n",
       "28  4.350000   7.420000   5.370319   \n",
       "29  0.428609   1.160804   0.656307   \n",
       "\n",
       "                                                Notes  \n",
       "0   Boardings represent all boardings, not just di...  \n",
       "1   Boardings represent all boardings, not just di...  \n",
       "2   Boardings represent all boardings, not just di...  \n",
       "3   Boardings represent all boardings, not just di...  \n",
       "4   Boardings represent all boardings, not just di...  \n",
       "5   Boardings represent all boardings, not just di...  \n",
       "6   Boardings represent all boardings, not just di...  \n",
       "7   Boardings represent all boardings, not just di...  \n",
       "8   Boardings represent all boardings, not just di...  \n",
       "9   Boardings represent all boardings, not just di...  \n",
       "10  Boardings represent all boardings, not just di...  \n",
       "11  Boardings represent all boardings, not just di...  \n",
       "12  Boardings represent all boardings, not just di...  \n",
       "13  Boardings represent all boardings, not just di...  \n",
       "14  Boardings represent all boardings, not just di...  \n",
       "15  Boardings represent all boardings, not just di...  \n",
       "16  Boardings represent all boardings, not just di...  \n",
       "17  Boardings represent all boardings, not just di...  \n",
       "18  Boardings represent all boardings, not just di...  \n",
       "19  Boardings represent all boardings, not just di...  \n",
       "20  Boardings represent all boardings, not just di...  \n",
       "21  Boardings represent all boardings, not just di...  \n",
       "22  Boardings represent all boardings, not just di...  \n",
       "23  Boardings represent all boardings, not just di...  \n",
       "24  Boardings represent all boardings, not just di...  \n",
       "25  Boardings represent all boardings, not just di...  \n",
       "26  Boardings represent all boardings, not just di...  \n",
       "27  Boardings represent all boardings, not just di...  \n",
       "28  Boardings represent all boardings, not just di...  \n",
       "29  Boardings represent all boardings, not just di...  "
      ]
     },
     "execution_count": 7,
     "metadata": {},
     "output_type": "execute_result"
    }
   ],
   "source": [
    "boardings = df_obs_1.loc[df_obs_1['onoff'] == 'on']\n",
    "\n",
    "boardings_total = (boardings.groupby(['station','AccessMode'])\n",
    "                     .apply(lambda x: pd.Series({\n",
    "                        'Brd_PA': sum(x['unlinked_weight_adj']),\n",
    "                        'Dist_15': weighted_quantile(x['AcDist'].values, 0.15, x['unlinked_weight_adj'].values,10000),\n",
    "                        'Dist_Med': weighted_quantile(x['AcDist'].values, 0.5, x['unlinked_weight_adj'].values,10000),\n",
    "                        'Dist_85': weighted_quantile(x['AcDist'].values, 0.85, x['unlinked_weight_adj'].values,10000),\n",
    "                        'Dist_Avg': weighted_average(x['AcDist'].values, x['unlinked_weight_adj'].values)\n",
    "\n",
    "                     }))\n",
    "                     .reset_index()\n",
    "                  )\n",
    "\n",
    "boardings_total['Source'] = 'OBS'\n",
    "boardings_total['Notes'] = 'Boardings represent all boardings, not just direct to CRT.'\n",
    "boardings_total = boardings_total[['Source','station','AccessMode','Brd_PA','Dist_15','Dist_Med','Dist_85','Dist_Avg', 'Notes']]\n",
    "boardings_total"
   ]
  },
  {
   "cell_type": "markdown",
   "metadata": {},
   "source": [
    "## Comparison of TDM and OBS"
   ]
  },
  {
   "cell_type": "code",
   "execution_count": 8,
   "metadata": {},
   "outputs": [],
   "source": [
    "sumStats = pd.concat([boardings_total,df_tdm_brd],ignore_index=True)"
   ]
  },
  {
   "cell_type": "code",
   "execution_count": 9,
   "metadata": {},
   "outputs": [],
   "source": [
    "def plotit(variable, access_mode):\n",
    "    output.clear_output()  # Clear previous output before displaying new content\n",
    "    global firstTime\n",
    "    if firstTime:\n",
    "    \n",
    "        filtered_data = sumStats[sumStats['AccessMode'] == access_mode]\n",
    "            \n",
    "        # Create histogram\n",
    "        fig = px.histogram(\n",
    "            filtered_data, \n",
    "            x=\"station\", \n",
    "            y=variable, \n",
    "            text_auto='.2s',\n",
    "            color='Source', \n",
    "            barmode='group',\n",
    "            height=400\n",
    "        )\n",
    "        fig.update_layout(\n",
    "            xaxis_title=\"Station Name\",\n",
    "            yaxis_title=str(variable),\n",
    "            legend_title=\"Model Version\"\n",
    "        )\n",
    "        \n",
    "        # Display the plot\n",
    "        fig.show()\n",
    "    \n",
    "    else:\n",
    "        firstTime = True"
   ]
  },
  {
   "cell_type": "code",
   "execution_count": 10,
   "metadata": {},
   "outputs": [
    {
     "data": {
      "application/vnd.jupyter.widget-view+json": {
       "model_id": "edb771c7a9154451ae9ad41c532c0a31",
       "version_major": 2,
       "version_minor": 0
      },
      "text/plain": [
       "HBox(children=(Select(description='Select Variable', index=1, options=('Dist_15', 'Dist_Med', 'Dist_85', 'Dist…"
      ]
     },
     "metadata": {},
     "output_type": "display_data"
    },
    {
     "data": {
      "application/vnd.jupyter.widget-view+json": {
       "model_id": "3c54bca2030143d1a735ff9e31f828cc",
       "version_major": 2,
       "version_minor": 0
      },
      "text/plain": [
       "Output()"
      ]
     },
     "metadata": {},
     "output_type": "display_data"
    },
    {
     "data": {
      "application/vnd.plotly.v1+json": {
       "config": {
        "plotlyServerURL": "https://plot.ly"
       },
       "data": [
        {
         "alignmentgroup": "True",
         "bingroup": "x",
         "histfunc": "sum",
         "hovertemplate": "Source=OBS<br>station=%{x}<br>sum of Dist_Med=%{y}<extra></extra>",
         "legendgroup": "OBS",
         "marker": {
          "color": "#636efa",
          "pattern": {
           "shape": ""
          }
         },
         "name": "OBS",
         "offsetgroup": "OBS",
         "orientation": "v",
         "showlegend": true,
         "texttemplate": "%{value:.2s}",
         "type": "histogram",
         "x": [
          "01-PROVO CENTRAL STATION",
          "02-OREM CENTRAL STATION",
          "03-AMERICAN FORK STATION",
          "04-LEHI STATION",
          "05-DRAPER STATION",
          "06-SOUTH JORDAN STATION",
          "07-MURRAY CENTRAL STATION",
          "08-SALT LAKE CENTRAL STATION",
          "09-NORTH TEMPLE STATION",
          "10-WOODS CROSS STATION",
          "11-FARMINGTON STATION",
          "12-LAYTON STATION",
          "13-CLEARFIELD STATION",
          "14-ROY STATION",
          "15-OGDEN STATION"
         ],
         "xaxis": "x",
         "y": [
          2.79,
          2.85,
          3.98,
          4.27,
          4.54,
          4.28298105,
          3.984977964,
          2.66,
          5.24,
          2.92,
          2.64,
          2.35,
          3.04,
          3.040313316,
          4.35
         ],
         "yaxis": "y"
        },
        {
         "alignmentgroup": "True",
         "bingroup": "x",
         "histfunc": "sum",
         "hovertemplate": "Source=TDM<br>station=%{x}<br>sum of Dist_Med=%{y}<extra></extra>",
         "legendgroup": "TDM",
         "marker": {
          "color": "#EF553B",
          "pattern": {
           "shape": ""
          }
         },
         "name": "TDM",
         "offsetgroup": "TDM",
         "orientation": "v",
         "showlegend": true,
         "texttemplate": "%{value:.2s}",
         "type": "histogram",
         "x": [
          "01-PROVO CENTRAL STATION",
          "02-OREM CENTRAL STATION",
          "03-AMERICAN FORK STATION",
          "04-LEHI STATION",
          "05-DRAPER STATION",
          "06-SOUTH JORDAN STATION",
          "07-MURRAY CENTRAL STATION",
          "08-SALT LAKE CENTRAL STATION",
          "09-NORTH TEMPLE STATION",
          "10-WOODS CROSS STATION",
          "11-FARMINGTON STATION",
          "12-LAYTON STATION",
          "13-CLEARFIELD STATION",
          "14-ROY STATION",
          "15-OGDEN STATION"
         ],
         "xaxis": "x",
         "y": [
          1.8,
          5.26,
          4.16,
          5.47,
          5.34,
          3.74,
          4.58,
          3.44,
          2.8,
          2.77,
          2.91,
          2.53,
          2.99,
          3.89,
          3.63
         ],
         "yaxis": "y"
        }
       ],
       "layout": {
        "barmode": "group",
        "height": 400,
        "legend": {
         "title": {
          "text": "Model Version"
         },
         "tracegroupgap": 0
        },
        "margin": {
         "t": 60
        },
        "template": {
         "data": {
          "bar": [
           {
            "error_x": {
             "color": "#2a3f5f"
            },
            "error_y": {
             "color": "#2a3f5f"
            },
            "marker": {
             "line": {
              "color": "#E5ECF6",
              "width": 0.5
             },
             "pattern": {
              "fillmode": "overlay",
              "size": 10,
              "solidity": 0.2
             }
            },
            "type": "bar"
           }
          ],
          "barpolar": [
           {
            "marker": {
             "line": {
              "color": "#E5ECF6",
              "width": 0.5
             },
             "pattern": {
              "fillmode": "overlay",
              "size": 10,
              "solidity": 0.2
             }
            },
            "type": "barpolar"
           }
          ],
          "carpet": [
           {
            "aaxis": {
             "endlinecolor": "#2a3f5f",
             "gridcolor": "white",
             "linecolor": "white",
             "minorgridcolor": "white",
             "startlinecolor": "#2a3f5f"
            },
            "baxis": {
             "endlinecolor": "#2a3f5f",
             "gridcolor": "white",
             "linecolor": "white",
             "minorgridcolor": "white",
             "startlinecolor": "#2a3f5f"
            },
            "type": "carpet"
           }
          ],
          "choropleth": [
           {
            "colorbar": {
             "outlinewidth": 0,
             "ticks": ""
            },
            "type": "choropleth"
           }
          ],
          "contour": [
           {
            "colorbar": {
             "outlinewidth": 0,
             "ticks": ""
            },
            "colorscale": [
             [
              0,
              "#0d0887"
             ],
             [
              0.1111111111111111,
              "#46039f"
             ],
             [
              0.2222222222222222,
              "#7201a8"
             ],
             [
              0.3333333333333333,
              "#9c179e"
             ],
             [
              0.4444444444444444,
              "#bd3786"
             ],
             [
              0.5555555555555556,
              "#d8576b"
             ],
             [
              0.6666666666666666,
              "#ed7953"
             ],
             [
              0.7777777777777778,
              "#fb9f3a"
             ],
             [
              0.8888888888888888,
              "#fdca26"
             ],
             [
              1,
              "#f0f921"
             ]
            ],
            "type": "contour"
           }
          ],
          "contourcarpet": [
           {
            "colorbar": {
             "outlinewidth": 0,
             "ticks": ""
            },
            "type": "contourcarpet"
           }
          ],
          "heatmap": [
           {
            "colorbar": {
             "outlinewidth": 0,
             "ticks": ""
            },
            "colorscale": [
             [
              0,
              "#0d0887"
             ],
             [
              0.1111111111111111,
              "#46039f"
             ],
             [
              0.2222222222222222,
              "#7201a8"
             ],
             [
              0.3333333333333333,
              "#9c179e"
             ],
             [
              0.4444444444444444,
              "#bd3786"
             ],
             [
              0.5555555555555556,
              "#d8576b"
             ],
             [
              0.6666666666666666,
              "#ed7953"
             ],
             [
              0.7777777777777778,
              "#fb9f3a"
             ],
             [
              0.8888888888888888,
              "#fdca26"
             ],
             [
              1,
              "#f0f921"
             ]
            ],
            "type": "heatmap"
           }
          ],
          "heatmapgl": [
           {
            "colorbar": {
             "outlinewidth": 0,
             "ticks": ""
            },
            "colorscale": [
             [
              0,
              "#0d0887"
             ],
             [
              0.1111111111111111,
              "#46039f"
             ],
             [
              0.2222222222222222,
              "#7201a8"
             ],
             [
              0.3333333333333333,
              "#9c179e"
             ],
             [
              0.4444444444444444,
              "#bd3786"
             ],
             [
              0.5555555555555556,
              "#d8576b"
             ],
             [
              0.6666666666666666,
              "#ed7953"
             ],
             [
              0.7777777777777778,
              "#fb9f3a"
             ],
             [
              0.8888888888888888,
              "#fdca26"
             ],
             [
              1,
              "#f0f921"
             ]
            ],
            "type": "heatmapgl"
           }
          ],
          "histogram": [
           {
            "marker": {
             "pattern": {
              "fillmode": "overlay",
              "size": 10,
              "solidity": 0.2
             }
            },
            "type": "histogram"
           }
          ],
          "histogram2d": [
           {
            "colorbar": {
             "outlinewidth": 0,
             "ticks": ""
            },
            "colorscale": [
             [
              0,
              "#0d0887"
             ],
             [
              0.1111111111111111,
              "#46039f"
             ],
             [
              0.2222222222222222,
              "#7201a8"
             ],
             [
              0.3333333333333333,
              "#9c179e"
             ],
             [
              0.4444444444444444,
              "#bd3786"
             ],
             [
              0.5555555555555556,
              "#d8576b"
             ],
             [
              0.6666666666666666,
              "#ed7953"
             ],
             [
              0.7777777777777778,
              "#fb9f3a"
             ],
             [
              0.8888888888888888,
              "#fdca26"
             ],
             [
              1,
              "#f0f921"
             ]
            ],
            "type": "histogram2d"
           }
          ],
          "histogram2dcontour": [
           {
            "colorbar": {
             "outlinewidth": 0,
             "ticks": ""
            },
            "colorscale": [
             [
              0,
              "#0d0887"
             ],
             [
              0.1111111111111111,
              "#46039f"
             ],
             [
              0.2222222222222222,
              "#7201a8"
             ],
             [
              0.3333333333333333,
              "#9c179e"
             ],
             [
              0.4444444444444444,
              "#bd3786"
             ],
             [
              0.5555555555555556,
              "#d8576b"
             ],
             [
              0.6666666666666666,
              "#ed7953"
             ],
             [
              0.7777777777777778,
              "#fb9f3a"
             ],
             [
              0.8888888888888888,
              "#fdca26"
             ],
             [
              1,
              "#f0f921"
             ]
            ],
            "type": "histogram2dcontour"
           }
          ],
          "mesh3d": [
           {
            "colorbar": {
             "outlinewidth": 0,
             "ticks": ""
            },
            "type": "mesh3d"
           }
          ],
          "parcoords": [
           {
            "line": {
             "colorbar": {
              "outlinewidth": 0,
              "ticks": ""
             }
            },
            "type": "parcoords"
           }
          ],
          "pie": [
           {
            "automargin": true,
            "type": "pie"
           }
          ],
          "scatter": [
           {
            "fillpattern": {
             "fillmode": "overlay",
             "size": 10,
             "solidity": 0.2
            },
            "type": "scatter"
           }
          ],
          "scatter3d": [
           {
            "line": {
             "colorbar": {
              "outlinewidth": 0,
              "ticks": ""
             }
            },
            "marker": {
             "colorbar": {
              "outlinewidth": 0,
              "ticks": ""
             }
            },
            "type": "scatter3d"
           }
          ],
          "scattercarpet": [
           {
            "marker": {
             "colorbar": {
              "outlinewidth": 0,
              "ticks": ""
             }
            },
            "type": "scattercarpet"
           }
          ],
          "scattergeo": [
           {
            "marker": {
             "colorbar": {
              "outlinewidth": 0,
              "ticks": ""
             }
            },
            "type": "scattergeo"
           }
          ],
          "scattergl": [
           {
            "marker": {
             "colorbar": {
              "outlinewidth": 0,
              "ticks": ""
             }
            },
            "type": "scattergl"
           }
          ],
          "scattermapbox": [
           {
            "marker": {
             "colorbar": {
              "outlinewidth": 0,
              "ticks": ""
             }
            },
            "type": "scattermapbox"
           }
          ],
          "scatterpolar": [
           {
            "marker": {
             "colorbar": {
              "outlinewidth": 0,
              "ticks": ""
             }
            },
            "type": "scatterpolar"
           }
          ],
          "scatterpolargl": [
           {
            "marker": {
             "colorbar": {
              "outlinewidth": 0,
              "ticks": ""
             }
            },
            "type": "scatterpolargl"
           }
          ],
          "scatterternary": [
           {
            "marker": {
             "colorbar": {
              "outlinewidth": 0,
              "ticks": ""
             }
            },
            "type": "scatterternary"
           }
          ],
          "surface": [
           {
            "colorbar": {
             "outlinewidth": 0,
             "ticks": ""
            },
            "colorscale": [
             [
              0,
              "#0d0887"
             ],
             [
              0.1111111111111111,
              "#46039f"
             ],
             [
              0.2222222222222222,
              "#7201a8"
             ],
             [
              0.3333333333333333,
              "#9c179e"
             ],
             [
              0.4444444444444444,
              "#bd3786"
             ],
             [
              0.5555555555555556,
              "#d8576b"
             ],
             [
              0.6666666666666666,
              "#ed7953"
             ],
             [
              0.7777777777777778,
              "#fb9f3a"
             ],
             [
              0.8888888888888888,
              "#fdca26"
             ],
             [
              1,
              "#f0f921"
             ]
            ],
            "type": "surface"
           }
          ],
          "table": [
           {
            "cells": {
             "fill": {
              "color": "#EBF0F8"
             },
             "line": {
              "color": "white"
             }
            },
            "header": {
             "fill": {
              "color": "#C8D4E3"
             },
             "line": {
              "color": "white"
             }
            },
            "type": "table"
           }
          ]
         },
         "layout": {
          "annotationdefaults": {
           "arrowcolor": "#2a3f5f",
           "arrowhead": 0,
           "arrowwidth": 1
          },
          "autotypenumbers": "strict",
          "coloraxis": {
           "colorbar": {
            "outlinewidth": 0,
            "ticks": ""
           }
          },
          "colorscale": {
           "diverging": [
            [
             0,
             "#8e0152"
            ],
            [
             0.1,
             "#c51b7d"
            ],
            [
             0.2,
             "#de77ae"
            ],
            [
             0.3,
             "#f1b6da"
            ],
            [
             0.4,
             "#fde0ef"
            ],
            [
             0.5,
             "#f7f7f7"
            ],
            [
             0.6,
             "#e6f5d0"
            ],
            [
             0.7,
             "#b8e186"
            ],
            [
             0.8,
             "#7fbc41"
            ],
            [
             0.9,
             "#4d9221"
            ],
            [
             1,
             "#276419"
            ]
           ],
           "sequential": [
            [
             0,
             "#0d0887"
            ],
            [
             0.1111111111111111,
             "#46039f"
            ],
            [
             0.2222222222222222,
             "#7201a8"
            ],
            [
             0.3333333333333333,
             "#9c179e"
            ],
            [
             0.4444444444444444,
             "#bd3786"
            ],
            [
             0.5555555555555556,
             "#d8576b"
            ],
            [
             0.6666666666666666,
             "#ed7953"
            ],
            [
             0.7777777777777778,
             "#fb9f3a"
            ],
            [
             0.8888888888888888,
             "#fdca26"
            ],
            [
             1,
             "#f0f921"
            ]
           ],
           "sequentialminus": [
            [
             0,
             "#0d0887"
            ],
            [
             0.1111111111111111,
             "#46039f"
            ],
            [
             0.2222222222222222,
             "#7201a8"
            ],
            [
             0.3333333333333333,
             "#9c179e"
            ],
            [
             0.4444444444444444,
             "#bd3786"
            ],
            [
             0.5555555555555556,
             "#d8576b"
            ],
            [
             0.6666666666666666,
             "#ed7953"
            ],
            [
             0.7777777777777778,
             "#fb9f3a"
            ],
            [
             0.8888888888888888,
             "#fdca26"
            ],
            [
             1,
             "#f0f921"
            ]
           ]
          },
          "colorway": [
           "#636efa",
           "#EF553B",
           "#00cc96",
           "#ab63fa",
           "#FFA15A",
           "#19d3f3",
           "#FF6692",
           "#B6E880",
           "#FF97FF",
           "#FECB52"
          ],
          "font": {
           "color": "#2a3f5f"
          },
          "geo": {
           "bgcolor": "white",
           "lakecolor": "white",
           "landcolor": "#E5ECF6",
           "showlakes": true,
           "showland": true,
           "subunitcolor": "white"
          },
          "hoverlabel": {
           "align": "left"
          },
          "hovermode": "closest",
          "mapbox": {
           "style": "light"
          },
          "paper_bgcolor": "white",
          "plot_bgcolor": "#E5ECF6",
          "polar": {
           "angularaxis": {
            "gridcolor": "white",
            "linecolor": "white",
            "ticks": ""
           },
           "bgcolor": "#E5ECF6",
           "radialaxis": {
            "gridcolor": "white",
            "linecolor": "white",
            "ticks": ""
           }
          },
          "scene": {
           "xaxis": {
            "backgroundcolor": "#E5ECF6",
            "gridcolor": "white",
            "gridwidth": 2,
            "linecolor": "white",
            "showbackground": true,
            "ticks": "",
            "zerolinecolor": "white"
           },
           "yaxis": {
            "backgroundcolor": "#E5ECF6",
            "gridcolor": "white",
            "gridwidth": 2,
            "linecolor": "white",
            "showbackground": true,
            "ticks": "",
            "zerolinecolor": "white"
           },
           "zaxis": {
            "backgroundcolor": "#E5ECF6",
            "gridcolor": "white",
            "gridwidth": 2,
            "linecolor": "white",
            "showbackground": true,
            "ticks": "",
            "zerolinecolor": "white"
           }
          },
          "shapedefaults": {
           "line": {
            "color": "#2a3f5f"
           }
          },
          "ternary": {
           "aaxis": {
            "gridcolor": "white",
            "linecolor": "white",
            "ticks": ""
           },
           "baxis": {
            "gridcolor": "white",
            "linecolor": "white",
            "ticks": ""
           },
           "bgcolor": "#E5ECF6",
           "caxis": {
            "gridcolor": "white",
            "linecolor": "white",
            "ticks": ""
           }
          },
          "title": {
           "x": 0.05
          },
          "xaxis": {
           "automargin": true,
           "gridcolor": "white",
           "linecolor": "white",
           "ticks": "",
           "title": {
            "standoff": 15
           },
           "zerolinecolor": "white",
           "zerolinewidth": 2
          },
          "yaxis": {
           "automargin": true,
           "gridcolor": "white",
           "linecolor": "white",
           "ticks": "",
           "title": {
            "standoff": 15
           },
           "zerolinecolor": "white",
           "zerolinewidth": 2
          }
         }
        },
        "xaxis": {
         "anchor": "y",
         "domain": [
          0,
          1
         ],
         "title": {
          "text": "Station Name"
         }
        },
        "yaxis": {
         "anchor": "x",
         "domain": [
          0,
          1
         ],
         "title": {
          "text": "Dist_Med"
         }
        }
       }
      }
     },
     "metadata": {},
     "output_type": "display_data"
    },
    {
     "data": {
      "application/vnd.jupyter.widget-view+json": {
       "model_id": "a656cacd095543e8a3866489b3dd9b6e",
       "version_major": 2,
       "version_minor": 0
      },
      "text/plain": [
       "Output()"
      ]
     },
     "metadata": {},
     "output_type": "display_data"
    }
   ],
   "source": [
    "lstValues = list([\n",
    "    'Dist_15',\n",
    "    'Dist_Med',\n",
    "    'Dist_85',\n",
    "    'Dist_Avg'\n",
    "])\n",
    "accessModeOptions = ['drive', 'walk']\n",
    "\n",
    "selectValues = widgets.Select(options=lstValues, value=('Dist_Med'), description = 'Select Variable')\n",
    "selectAccessMode = widgets.Dropdown(options=accessModeOptions, value='drive', description='Access Mode')\n",
    "\n",
    "# Set up a global variable to track whether the widgets have been changed\n",
    "firstTime = False\n",
    "\n",
    "# create output widget to display filtered DataFrame\n",
    "output = widgets.Output()\n",
    "hbox = widgets.HBox([selectValues, selectAccessMode])\n",
    "\n",
    "# create interactive widget\n",
    "interactive_output = widgets.interactive_output(plotit, {'variable':selectValues, 'access_mode': selectAccessMode})\n",
    "\n",
    "display(hbox)\n",
    "display(interactive_output)\n",
    "display(output)"
   ]
  },
  {
   "cell_type": "markdown",
   "metadata": {},
   "source": [
    "## Conclusions"
   ]
  },
  {
   "cell_type": "markdown",
   "metadata": {},
   "source": [
    "- The end of the line stations (Provo and Ogden) are showing lower drive access distances in the model than observed. \n",
    "    - In addition, the stations that immediately follow (Orem and Roy) are showing higher drive access distances in the model than observed.\n",
    "    - This leads us to beleive that the model is forecasting trips that possible \"bypass\" the Provo and Ogden stations instead prefering to go one more station closer"
   ]
  }
 ],
 "metadata": {
  "kernelspec": {
   "display_name": "base",
   "language": "python",
   "name": "python3"
  },
  "language_info": {
   "codemirror_mode": {
    "name": "ipython",
    "version": 3
   },
   "file_extension": ".py",
   "mimetype": "text/x-python",
   "name": "python",
   "nbconvert_exporter": "python",
   "pygments_lexer": "ipython3",
   "version": "3.9.19"
  }
 },
 "nbformat": 4,
 "nbformat_minor": 2
}
