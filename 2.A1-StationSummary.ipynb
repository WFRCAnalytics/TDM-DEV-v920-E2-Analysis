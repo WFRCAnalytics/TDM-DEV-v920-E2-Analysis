{
 "cells": [
  {
   "cell_type": "code",
   "execution_count": 3,
   "metadata": {},
   "outputs": [],
   "source": [
    "import os\n",
    "import pandas as pd\n",
    "import numpy as np\n",
    "import geopandas as gpd\n",
    "\n",
    "import plotly.express as px\n",
    "import plotly.graph_objects as go\n",
    "import plotly as py\n",
    "import ipywidgets as widgets\n",
    "from ipywidgets import Layout"
   ]
  },
  {
   "cell_type": "code",
   "execution_count": 4,
   "metadata": {},
   "outputs": [
    {
     "name": "stdout",
     "output_type": "stream",
     "text": [
      "Working Directory: e:\\xtemp\\GitStuff\\WF-TDM-v9x\\_scripts\n",
      "Data Directory: e:\\xtemp\\GitStuff\\WF-TDM-v9x\\_scripts\\data\n"
     ]
    }
   ],
   "source": [
    "dirWork = os.getcwd()\n",
    "dirData = os.path.join(dirWork, r'data')\n",
    "\n",
    "print(\"Working Directory: \" + dirWork)\n",
    "print(\"Data Directory: \" + dirData)"
   ]
  },
  {
   "cell_type": "markdown",
   "metadata": {},
   "source": [
    "## Purpose"
   ]
  },
  {
   "cell_type": "markdown",
   "metadata": {},
   "source": [
    "**Assessment #1**: Drive access link check for PNR assessment (identify which stations have unrealistic PNR). Create summary of [station, pnr trips, walk trips]"
   ]
  },
  {
   "attachments": {},
   "cell_type": "markdown",
   "metadata": {},
   "source": [
    "## Inputs"
   ]
  },
  {
   "attachments": {},
   "cell_type": "markdown",
   "metadata": {},
   "source": [
    " - `@ParentDir@@ScenarioDir@4_ModeChoice/3_TransitAssign/@RID@_transit_rider_summary_link.csv`\n",
    " - `@ParentDir@@ScenarioDir@4_ModeChoice/3_TransitAssign/@RID@_transit_brding_summary_node.csv`\n",
    " - `@ParentDir@1_Inputs/3_Highway/GIS/WFv910_MasterNet - Node.shp`\n",
    " - `2019 Final Weighted UTA OD Data - 2022-04-05 - processed.csv`"
   ]
  },
  {
   "cell_type": "code",
   "execution_count": 5,
   "metadata": {},
   "outputs": [],
   "source": [
    "path_brding_summary = r\"_data/base_node.csv\"\n",
    "path_rider_summary  = r\"_data/base_link.csv\"\n",
    "path_obs_data       = r\"D:/GitHub/OBS-TDM-Ridership-Compare/2023-OBS-TDM-Compare/data/2019-OBS/2019 Final Weighted UTA OD Data - 2022-04-05 - processed.csv\""
   ]
  },
  {
   "cell_type": "code",
   "execution_count": 6,
   "metadata": {},
   "outputs": [
    {
     "name": "stderr",
     "output_type": "stream",
     "text": [
      "C:\\Users\\andyli\\AppData\\Local\\Temp\\ipykernel_2632\\3176595534.py:2: DtypeWarning: Columns (3) have mixed types. Specify dtype option on import or set low_memory=False.\n",
      "  df_rider_summary = pd.read_csv(path_rider_summary)\n"
     ]
    },
    {
     "ename": "PermissionError",
     "evalue": "[Errno 13] Permission denied: 'D:/GitHub/OBS-TDM-Ridership-Compare/2023-OBS-TDM-Compare/data/2019-OBS/2019 Final Weighted UTA OD Data - 2022-04-05 - processed.csv'",
     "output_type": "error",
     "traceback": [
      "\u001b[1;31m---------------------------------------------------------------------------\u001b[0m",
      "\u001b[1;31mPermissionError\u001b[0m                           Traceback (most recent call last)",
      "\u001b[1;32m~\\AppData\\Local\\Temp\\ipykernel_2632\\3176595534.py\u001b[0m in \u001b[0;36m<cell line: 3>\u001b[1;34m()\u001b[0m\n\u001b[0;32m      1\u001b[0m \u001b[0mdf_brding_summary\u001b[0m \u001b[1;33m=\u001b[0m \u001b[0mpd\u001b[0m\u001b[1;33m.\u001b[0m\u001b[0mread_csv\u001b[0m\u001b[1;33m(\u001b[0m\u001b[0mpath_brding_summary\u001b[0m\u001b[1;33m)\u001b[0m\u001b[1;33m\u001b[0m\u001b[1;33m\u001b[0m\u001b[0m\n\u001b[0;32m      2\u001b[0m \u001b[0mdf_rider_summary\u001b[0m \u001b[1;33m=\u001b[0m \u001b[0mpd\u001b[0m\u001b[1;33m.\u001b[0m\u001b[0mread_csv\u001b[0m\u001b[1;33m(\u001b[0m\u001b[0mpath_rider_summary\u001b[0m\u001b[1;33m)\u001b[0m\u001b[1;33m\u001b[0m\u001b[1;33m\u001b[0m\u001b[0m\n\u001b[1;32m----> 3\u001b[1;33m \u001b[0mdf_obs_data\u001b[0m \u001b[1;33m=\u001b[0m \u001b[0mpd\u001b[0m\u001b[1;33m.\u001b[0m\u001b[0mread_csv\u001b[0m\u001b[1;33m(\u001b[0m\u001b[0mpath_obs_data\u001b[0m\u001b[1;33m)\u001b[0m\u001b[1;33m\u001b[0m\u001b[1;33m\u001b[0m\u001b[0m\n\u001b[0m",
      "\u001b[1;32mc:\\Users\\andyli\\AppData\\Local\\ESRI\\conda\\envs\\arcgispro-py3-clone\\lib\\site-packages\\pandas\\util\\_decorators.py\u001b[0m in \u001b[0;36mwrapper\u001b[1;34m(*args, **kwargs)\u001b[0m\n\u001b[0;32m    309\u001b[0m                     \u001b[0mstacklevel\u001b[0m\u001b[1;33m=\u001b[0m\u001b[0mstacklevel\u001b[0m\u001b[1;33m,\u001b[0m\u001b[1;33m\u001b[0m\u001b[1;33m\u001b[0m\u001b[0m\n\u001b[0;32m    310\u001b[0m                 )\n\u001b[1;32m--> 311\u001b[1;33m             \u001b[1;32mreturn\u001b[0m \u001b[0mfunc\u001b[0m\u001b[1;33m(\u001b[0m\u001b[1;33m*\u001b[0m\u001b[0margs\u001b[0m\u001b[1;33m,\u001b[0m \u001b[1;33m**\u001b[0m\u001b[0mkwargs\u001b[0m\u001b[1;33m)\u001b[0m\u001b[1;33m\u001b[0m\u001b[1;33m\u001b[0m\u001b[0m\n\u001b[0m\u001b[0;32m    312\u001b[0m \u001b[1;33m\u001b[0m\u001b[0m\n\u001b[0;32m    313\u001b[0m         \u001b[1;32mreturn\u001b[0m \u001b[0mwrapper\u001b[0m\u001b[1;33m\u001b[0m\u001b[1;33m\u001b[0m\u001b[0m\n",
      "\u001b[1;32mc:\\Users\\andyli\\AppData\\Local\\ESRI\\conda\\envs\\arcgispro-py3-clone\\lib\\site-packages\\pandas\\io\\parsers\\readers.py\u001b[0m in \u001b[0;36mread_csv\u001b[1;34m(filepath_or_buffer, sep, delimiter, header, names, index_col, usecols, squeeze, prefix, mangle_dupe_cols, dtype, engine, converters, true_values, false_values, skipinitialspace, skiprows, skipfooter, nrows, na_values, keep_default_na, na_filter, verbose, skip_blank_lines, parse_dates, infer_datetime_format, keep_date_col, date_parser, dayfirst, cache_dates, iterator, chunksize, compression, thousands, decimal, lineterminator, quotechar, quoting, doublequote, escapechar, comment, encoding, encoding_errors, dialect, error_bad_lines, warn_bad_lines, on_bad_lines, delim_whitespace, low_memory, memory_map, float_precision, storage_options)\u001b[0m\n\u001b[0;32m    676\u001b[0m     \u001b[0mkwds\u001b[0m\u001b[1;33m.\u001b[0m\u001b[0mupdate\u001b[0m\u001b[1;33m(\u001b[0m\u001b[0mkwds_defaults\u001b[0m\u001b[1;33m)\u001b[0m\u001b[1;33m\u001b[0m\u001b[1;33m\u001b[0m\u001b[0m\n\u001b[0;32m    677\u001b[0m \u001b[1;33m\u001b[0m\u001b[0m\n\u001b[1;32m--> 678\u001b[1;33m     \u001b[1;32mreturn\u001b[0m \u001b[0m_read\u001b[0m\u001b[1;33m(\u001b[0m\u001b[0mfilepath_or_buffer\u001b[0m\u001b[1;33m,\u001b[0m \u001b[0mkwds\u001b[0m\u001b[1;33m)\u001b[0m\u001b[1;33m\u001b[0m\u001b[1;33m\u001b[0m\u001b[0m\n\u001b[0m\u001b[0;32m    679\u001b[0m \u001b[1;33m\u001b[0m\u001b[0m\n\u001b[0;32m    680\u001b[0m \u001b[1;33m\u001b[0m\u001b[0m\n",
      "\u001b[1;32mc:\\Users\\andyli\\AppData\\Local\\ESRI\\conda\\envs\\arcgispro-py3-clone\\lib\\site-packages\\pandas\\io\\parsers\\readers.py\u001b[0m in \u001b[0;36m_read\u001b[1;34m(filepath_or_buffer, kwds)\u001b[0m\n\u001b[0;32m    573\u001b[0m \u001b[1;33m\u001b[0m\u001b[0m\n\u001b[0;32m    574\u001b[0m     \u001b[1;31m# Create the parser.\u001b[0m\u001b[1;33m\u001b[0m\u001b[1;33m\u001b[0m\u001b[0m\n\u001b[1;32m--> 575\u001b[1;33m     \u001b[0mparser\u001b[0m \u001b[1;33m=\u001b[0m \u001b[0mTextFileReader\u001b[0m\u001b[1;33m(\u001b[0m\u001b[0mfilepath_or_buffer\u001b[0m\u001b[1;33m,\u001b[0m \u001b[1;33m**\u001b[0m\u001b[0mkwds\u001b[0m\u001b[1;33m)\u001b[0m\u001b[1;33m\u001b[0m\u001b[1;33m\u001b[0m\u001b[0m\n\u001b[0m\u001b[0;32m    576\u001b[0m \u001b[1;33m\u001b[0m\u001b[0m\n\u001b[0;32m    577\u001b[0m     \u001b[1;32mif\u001b[0m \u001b[0mchunksize\u001b[0m \u001b[1;32mor\u001b[0m \u001b[0miterator\u001b[0m\u001b[1;33m:\u001b[0m\u001b[1;33m\u001b[0m\u001b[1;33m\u001b[0m\u001b[0m\n",
      "\u001b[1;32mc:\\Users\\andyli\\AppData\\Local\\ESRI\\conda\\envs\\arcgispro-py3-clone\\lib\\site-packages\\pandas\\io\\parsers\\readers.py\u001b[0m in \u001b[0;36m__init__\u001b[1;34m(self, f, engine, **kwds)\u001b[0m\n\u001b[0;32m    930\u001b[0m \u001b[1;33m\u001b[0m\u001b[0m\n\u001b[0;32m    931\u001b[0m         \u001b[0mself\u001b[0m\u001b[1;33m.\u001b[0m\u001b[0mhandles\u001b[0m\u001b[1;33m:\u001b[0m \u001b[0mIOHandles\u001b[0m \u001b[1;33m|\u001b[0m \u001b[1;32mNone\u001b[0m \u001b[1;33m=\u001b[0m \u001b[1;32mNone\u001b[0m\u001b[1;33m\u001b[0m\u001b[1;33m\u001b[0m\u001b[0m\n\u001b[1;32m--> 932\u001b[1;33m         \u001b[0mself\u001b[0m\u001b[1;33m.\u001b[0m\u001b[0m_engine\u001b[0m \u001b[1;33m=\u001b[0m \u001b[0mself\u001b[0m\u001b[1;33m.\u001b[0m\u001b[0m_make_engine\u001b[0m\u001b[1;33m(\u001b[0m\u001b[0mf\u001b[0m\u001b[1;33m,\u001b[0m \u001b[0mself\u001b[0m\u001b[1;33m.\u001b[0m\u001b[0mengine\u001b[0m\u001b[1;33m)\u001b[0m\u001b[1;33m\u001b[0m\u001b[1;33m\u001b[0m\u001b[0m\n\u001b[0m\u001b[0;32m    933\u001b[0m \u001b[1;33m\u001b[0m\u001b[0m\n\u001b[0;32m    934\u001b[0m     \u001b[1;32mdef\u001b[0m \u001b[0mclose\u001b[0m\u001b[1;33m(\u001b[0m\u001b[0mself\u001b[0m\u001b[1;33m)\u001b[0m\u001b[1;33m:\u001b[0m\u001b[1;33m\u001b[0m\u001b[1;33m\u001b[0m\u001b[0m\n",
      "\u001b[1;32mc:\\Users\\andyli\\AppData\\Local\\ESRI\\conda\\envs\\arcgispro-py3-clone\\lib\\site-packages\\pandas\\io\\parsers\\readers.py\u001b[0m in \u001b[0;36m_make_engine\u001b[1;34m(self, f, engine)\u001b[0m\n\u001b[0;32m   1214\u001b[0m             \u001b[1;31m# \"Union[str, PathLike[str], ReadCsvBuffer[bytes], ReadCsvBuffer[str]]\"\u001b[0m\u001b[1;33m\u001b[0m\u001b[1;33m\u001b[0m\u001b[0m\n\u001b[0;32m   1215\u001b[0m             \u001b[1;31m# , \"str\", \"bool\", \"Any\", \"Any\", \"Any\", \"Any\", \"Any\"\u001b[0m\u001b[1;33m\u001b[0m\u001b[1;33m\u001b[0m\u001b[0m\n\u001b[1;32m-> 1216\u001b[1;33m             self.handles = get_handle(  # type: ignore[call-overload]\n\u001b[0m\u001b[0;32m   1217\u001b[0m                 \u001b[0mf\u001b[0m\u001b[1;33m,\u001b[0m\u001b[1;33m\u001b[0m\u001b[1;33m\u001b[0m\u001b[0m\n\u001b[0;32m   1218\u001b[0m                 \u001b[0mmode\u001b[0m\u001b[1;33m,\u001b[0m\u001b[1;33m\u001b[0m\u001b[1;33m\u001b[0m\u001b[0m\n",
      "\u001b[1;32mc:\\Users\\andyli\\AppData\\Local\\ESRI\\conda\\envs\\arcgispro-py3-clone\\lib\\site-packages\\pandas\\io\\common.py\u001b[0m in \u001b[0;36mget_handle\u001b[1;34m(path_or_buf, mode, encoding, compression, memory_map, is_text, errors, storage_options)\u001b[0m\n\u001b[0;32m    784\u001b[0m         \u001b[1;32mif\u001b[0m \u001b[0mioargs\u001b[0m\u001b[1;33m.\u001b[0m\u001b[0mencoding\u001b[0m \u001b[1;32mand\u001b[0m \u001b[1;34m\"b\"\u001b[0m \u001b[1;32mnot\u001b[0m \u001b[1;32min\u001b[0m \u001b[0mioargs\u001b[0m\u001b[1;33m.\u001b[0m\u001b[0mmode\u001b[0m\u001b[1;33m:\u001b[0m\u001b[1;33m\u001b[0m\u001b[1;33m\u001b[0m\u001b[0m\n\u001b[0;32m    785\u001b[0m             \u001b[1;31m# Encoding\u001b[0m\u001b[1;33m\u001b[0m\u001b[1;33m\u001b[0m\u001b[0m\n\u001b[1;32m--> 786\u001b[1;33m             handle = open(\n\u001b[0m\u001b[0;32m    787\u001b[0m                 \u001b[0mhandle\u001b[0m\u001b[1;33m,\u001b[0m\u001b[1;33m\u001b[0m\u001b[1;33m\u001b[0m\u001b[0m\n\u001b[0;32m    788\u001b[0m                 \u001b[0mioargs\u001b[0m\u001b[1;33m.\u001b[0m\u001b[0mmode\u001b[0m\u001b[1;33m,\u001b[0m\u001b[1;33m\u001b[0m\u001b[1;33m\u001b[0m\u001b[0m\n",
      "\u001b[1;31mPermissionError\u001b[0m: [Errno 13] Permission denied: 'D:/GitHub/OBS-TDM-Ridership-Compare/2023-OBS-TDM-Compare/data/2019-OBS/2019 Final Weighted UTA OD Data - 2022-04-05 - processed.csv'"
     ]
    }
   ],
   "source": [
    "df_brding_summary = pd.read_csv(path_brding_summary)\n",
    "df_rider_summary = pd.read_csv(path_rider_summary)\n",
    "df_obs_data = pd.read_csv(path_obs_data)"
   ]
  },
  {
   "cell_type": "code",
   "execution_count": 5,
   "metadata": {},
   "outputs": [],
   "source": [
    "df_stations = pd.DataFrame([\n",
    "    [\"01-PROVO CENTRAL STATION\"    , 50024, 40.22544 , -111.660632, 850 ],\n",
    "    [\"02-OREM CENTRAL STATION\"     , 50029, 40.28014 , -111.725489, 500 ],\n",
    "    [\"03-AMERICAN FORK STATION\"    , 50035, 40.374774, -111.820649, 550 ],\n",
    "    [\"04-LEHI STATION\"             , 50040, 40.425196, -111.896354, 735 ],\n",
    "    [\"05-DRAPER STATION\"           , 10008, 40.515484, -111.904407, 600 ],\n",
    "    [\"06-SOUTH JORDAN STATION\"     , 10010, 40.563155, -111.900753, 575 ],\n",
    "    [\"07-MURRAY CENTRAL STATION\"   , 10016, 40.659758, -111.896432, 1100],\n",
    "    [\"08-SALT LAKE CENTRAL STATION\", 10019, 40.76234 , -111.909052, 150 ],\n",
    "    [\"09-NORTH TEMPLE STATION\"     , 10021, 40.772532, -111.905124, 375 ],\n",
    "    [\"10-WOODS CROSS STATION\"      , 10025, 40.880457, -111.903151, 230 ],\n",
    "    [\"11-FARMINGTON STATION\"       , 10031, 40.987266, -111.903667, 870 ],\n",
    "    [\"12-LAYTON STATION\"           , 10035, 41.056903, -111.964955, 380 ],\n",
    "    [\"13-CLEARFIELD STATION\"       , 10036, 41.094769, -112.013807, 560 ],\n",
    "    [\"14-ROY STATION\"              , 10042, 41.188757, -112.039378, 500 ],\n",
    "    [\"15-OGDEN STATION\"            , 10046, 41.224285, -111.980631, 475 ]\n",
    "], columns=[\"station\", \"N\", 'Lat', 'Lon', 'PNR_Spaces'])\n",
    "\n",
    "df_stations1 = df_stations[['station','N']]\n",
    "df_stations2 = df_stations[['station','Lat','Lon']]\n",
    "df_stations3 = df_stations[['station','PNR_Spaces']]"
   ]
  },
  {
   "cell_type": "markdown",
   "metadata": {},
   "source": [
    "## PA DIRECTION"
   ]
  },
  {
   "cell_type": "markdown",
   "metadata": {},
   "source": [
    "### TDM Summary"
   ]
  },
  {
   "cell_type": "markdown",
   "metadata": {},
   "source": [
    "**Boarding Summary - Node**\n",
    "\n",
    "First, we summarize the total boardings/alightings from the node level output."
   ]
  },
  {
   "cell_type": "code",
   "execution_count": 6,
   "metadata": {},
   "outputs": [
    {
     "data": {
      "text/html": [
       "<div>\n",
       "<style scoped>\n",
       "    .dataframe tbody tr th:only-of-type {\n",
       "        vertical-align: middle;\n",
       "    }\n",
       "\n",
       "    .dataframe tbody tr th {\n",
       "        vertical-align: top;\n",
       "    }\n",
       "\n",
       "    .dataframe thead th {\n",
       "        text-align: right;\n",
       "    }\n",
       "</style>\n",
       "<table border=\"1\" class=\"dataframe\">\n",
       "  <thead>\n",
       "    <tr style=\"text-align: right;\">\n",
       "      <th></th>\n",
       "      <th>Purpose</th>\n",
       "      <th>Period</th>\n",
       "      <th>AccessMode</th>\n",
       "      <th>station</th>\n",
       "      <th>Brd_PA</th>\n",
       "      <th>Alt_PA</th>\n",
       "    </tr>\n",
       "  </thead>\n",
       "  <tbody>\n",
       "    <tr>\n",
       "      <th>0</th>\n",
       "      <td>All</td>\n",
       "      <td>ok</td>\n",
       "      <td>drive</td>\n",
       "      <td>01-PROVO CENTRAL STATION</td>\n",
       "      <td>47.27</td>\n",
       "      <td>149.23</td>\n",
       "    </tr>\n",
       "    <tr>\n",
       "      <th>1</th>\n",
       "      <td>All</td>\n",
       "      <td>ok</td>\n",
       "      <td>drive</td>\n",
       "      <td>02-OREM CENTRAL STATION</td>\n",
       "      <td>282.82</td>\n",
       "      <td>142.58</td>\n",
       "    </tr>\n",
       "    <tr>\n",
       "      <th>2</th>\n",
       "      <td>All</td>\n",
       "      <td>ok</td>\n",
       "      <td>drive</td>\n",
       "      <td>03-AMERICAN FORK STATION</td>\n",
       "      <td>315.29</td>\n",
       "      <td>0.96</td>\n",
       "    </tr>\n",
       "    <tr>\n",
       "      <th>3</th>\n",
       "      <td>All</td>\n",
       "      <td>ok</td>\n",
       "      <td>drive</td>\n",
       "      <td>04-LEHI STATION</td>\n",
       "      <td>301.70</td>\n",
       "      <td>69.91</td>\n",
       "    </tr>\n",
       "    <tr>\n",
       "      <th>4</th>\n",
       "      <td>All</td>\n",
       "      <td>ok</td>\n",
       "      <td>drive</td>\n",
       "      <td>05-DRAPER STATION</td>\n",
       "      <td>250.83</td>\n",
       "      <td>35.07</td>\n",
       "    </tr>\n",
       "    <tr>\n",
       "      <th>5</th>\n",
       "      <td>All</td>\n",
       "      <td>ok</td>\n",
       "      <td>drive</td>\n",
       "      <td>06-SOUTH JORDAN STATION</td>\n",
       "      <td>393.12</td>\n",
       "      <td>25.18</td>\n",
       "    </tr>\n",
       "    <tr>\n",
       "      <th>6</th>\n",
       "      <td>All</td>\n",
       "      <td>ok</td>\n",
       "      <td>drive</td>\n",
       "      <td>07-MURRAY CENTRAL STATION</td>\n",
       "      <td>215.02</td>\n",
       "      <td>546.49</td>\n",
       "    </tr>\n",
       "    <tr>\n",
       "      <th>7</th>\n",
       "      <td>All</td>\n",
       "      <td>ok</td>\n",
       "      <td>drive</td>\n",
       "      <td>08-SALT LAKE CENTRAL STATION</td>\n",
       "      <td>43.27</td>\n",
       "      <td>608.41</td>\n",
       "    </tr>\n",
       "    <tr>\n",
       "      <th>8</th>\n",
       "      <td>All</td>\n",
       "      <td>ok</td>\n",
       "      <td>drive</td>\n",
       "      <td>09-NORTH TEMPLE STATION</td>\n",
       "      <td>26.51</td>\n",
       "      <td>1019.93</td>\n",
       "    </tr>\n",
       "    <tr>\n",
       "      <th>9</th>\n",
       "      <td>All</td>\n",
       "      <td>ok</td>\n",
       "      <td>drive</td>\n",
       "      <td>10-WOODS CROSS STATION</td>\n",
       "      <td>297.29</td>\n",
       "      <td>18.57</td>\n",
       "    </tr>\n",
       "  </tbody>\n",
       "</table>\n",
       "</div>"
      ],
      "text/plain": [
       "  Purpose Period AccessMode                       station  Brd_PA   Alt_PA\n",
       "0     All     ok      drive      01-PROVO CENTRAL STATION   47.27   149.23\n",
       "1     All     ok      drive       02-OREM CENTRAL STATION  282.82   142.58\n",
       "2     All     ok      drive      03-AMERICAN FORK STATION  315.29     0.96\n",
       "3     All     ok      drive               04-LEHI STATION  301.70    69.91\n",
       "4     All     ok      drive             05-DRAPER STATION  250.83    35.07\n",
       "5     All     ok      drive       06-SOUTH JORDAN STATION  393.12    25.18\n",
       "6     All     ok      drive     07-MURRAY CENTRAL STATION  215.02   546.49\n",
       "7     All     ok      drive  08-SALT LAKE CENTRAL STATION   43.27   608.41\n",
       "8     All     ok      drive       09-NORTH TEMPLE STATION   26.51  1019.93\n",
       "9     All     ok      drive        10-WOODS CROSS STATION  297.29    18.57"
      ]
     },
     "metadata": {},
     "output_type": "display_data"
    },
    {
     "data": {
      "text/plain": [
       "18575.28"
      ]
     },
     "execution_count": 6,
     "metadata": {},
     "output_type": "execute_result"
    }
   ],
   "source": [
    "# Left join `df_brding_summary` with `df_stations` on column `N`\n",
    "df_brdsum_1 = pd.merge(df_brding_summary, df_stations1, on=\"N\", how=\"left\")\n",
    "\n",
    "# Filter to CRT line where station is not NaN and Name is \"RCRT_OGPN\"\n",
    "df_brdsum_2 = df_brdsum_1[df_brdsum_1[\"station\"].notna() & (df_brdsum_1[\"Name\"] == \"RCRT_OGPN\")]\n",
    "\n",
    "# Summarize total PA level boardings/alightings for each station\n",
    "df_brdsum_totals = (\n",
    "    df_brdsum_2\n",
    "    .groupby([\"Purpose\", \"Period\", \"AccessMode\", \"station\"], as_index=False)\n",
    "    .agg(Brd_PA=(\"Board\", \"sum\"), Alt_PA=(\"Alight\", \"sum\"))\n",
    ")\n",
    "\n",
    "# Display the DataFrame\n",
    "display(df_brdsum_totals.head(10))\n",
    "\n",
    "df_brdsum_totals['Brd_PA'].sum()"
   ]
  },
  {
   "cell_type": "markdown",
   "metadata": {},
   "source": [
    "**Rider Summary - Link**\n",
    "\n",
    "Next we summarize the link level output to help us determine the percentage of direct boarding/alightings and transfer boarding/alightings."
   ]
  },
  {
   "cell_type": "code",
   "execution_count": 7,
   "metadata": {},
   "outputs": [
    {
     "data": {
      "text/html": [
       "<div>\n",
       "<style scoped>\n",
       "    .dataframe tbody tr th:only-of-type {\n",
       "        vertical-align: middle;\n",
       "    }\n",
       "\n",
       "    .dataframe tbody tr th {\n",
       "        vertical-align: top;\n",
       "    }\n",
       "\n",
       "    .dataframe thead th {\n",
       "        text-align: right;\n",
       "    }\n",
       "</style>\n",
       "<table border=\"1\" class=\"dataframe\">\n",
       "  <thead>\n",
       "    <tr style=\"text-align: right;\">\n",
       "      <th></th>\n",
       "      <th>Purpose</th>\n",
       "      <th>Period</th>\n",
       "      <th>AccessMode</th>\n",
       "      <th>station</th>\n",
       "      <th>Alt_Direct_PA</th>\n",
       "      <th>Brd_Direct_PA</th>\n",
       "    </tr>\n",
       "  </thead>\n",
       "  <tbody>\n",
       "    <tr>\n",
       "      <th>0</th>\n",
       "      <td>All</td>\n",
       "      <td>ok</td>\n",
       "      <td>drive</td>\n",
       "      <td>01-PROVO CENTRAL STATION</td>\n",
       "      <td>29.46</td>\n",
       "      <td>47.11</td>\n",
       "    </tr>\n",
       "    <tr>\n",
       "      <th>1</th>\n",
       "      <td>All</td>\n",
       "      <td>ok</td>\n",
       "      <td>drive</td>\n",
       "      <td>02-OREM CENTRAL STATION</td>\n",
       "      <td>31.96</td>\n",
       "      <td>282.68</td>\n",
       "    </tr>\n",
       "    <tr>\n",
       "      <th>2</th>\n",
       "      <td>All</td>\n",
       "      <td>ok</td>\n",
       "      <td>drive</td>\n",
       "      <td>03-AMERICAN FORK STATION</td>\n",
       "      <td>0.96</td>\n",
       "      <td>315.17</td>\n",
       "    </tr>\n",
       "    <tr>\n",
       "      <th>3</th>\n",
       "      <td>All</td>\n",
       "      <td>ok</td>\n",
       "      <td>drive</td>\n",
       "      <td>04-LEHI STATION</td>\n",
       "      <td>41.41</td>\n",
       "      <td>301.67</td>\n",
       "    </tr>\n",
       "    <tr>\n",
       "      <th>4</th>\n",
       "      <td>All</td>\n",
       "      <td>ok</td>\n",
       "      <td>drive</td>\n",
       "      <td>05-DRAPER STATION</td>\n",
       "      <td>35.07</td>\n",
       "      <td>250.80</td>\n",
       "    </tr>\n",
       "    <tr>\n",
       "      <th>5</th>\n",
       "      <td>All</td>\n",
       "      <td>ok</td>\n",
       "      <td>drive</td>\n",
       "      <td>06-SOUTH JORDAN STATION</td>\n",
       "      <td>22.34</td>\n",
       "      <td>393.18</td>\n",
       "    </tr>\n",
       "    <tr>\n",
       "      <th>6</th>\n",
       "      <td>All</td>\n",
       "      <td>ok</td>\n",
       "      <td>drive</td>\n",
       "      <td>07-MURRAY CENTRAL STATION</td>\n",
       "      <td>71.55</td>\n",
       "      <td>214.90</td>\n",
       "    </tr>\n",
       "    <tr>\n",
       "      <th>7</th>\n",
       "      <td>All</td>\n",
       "      <td>ok</td>\n",
       "      <td>drive</td>\n",
       "      <td>08-SALT LAKE CENTRAL STATION</td>\n",
       "      <td>103.30</td>\n",
       "      <td>43.31</td>\n",
       "    </tr>\n",
       "    <tr>\n",
       "      <th>8</th>\n",
       "      <td>All</td>\n",
       "      <td>ok</td>\n",
       "      <td>drive</td>\n",
       "      <td>09-NORTH TEMPLE STATION</td>\n",
       "      <td>348.06</td>\n",
       "      <td>26.46</td>\n",
       "    </tr>\n",
       "    <tr>\n",
       "      <th>9</th>\n",
       "      <td>All</td>\n",
       "      <td>ok</td>\n",
       "      <td>drive</td>\n",
       "      <td>10-WOODS CROSS STATION</td>\n",
       "      <td>9.12</td>\n",
       "      <td>297.30</td>\n",
       "    </tr>\n",
       "  </tbody>\n",
       "</table>\n",
       "</div>"
      ],
      "text/plain": [
       "  Purpose Period AccessMode                       station  Alt_Direct_PA  \\\n",
       "0     All     ok      drive      01-PROVO CENTRAL STATION          29.46   \n",
       "1     All     ok      drive       02-OREM CENTRAL STATION          31.96   \n",
       "2     All     ok      drive      03-AMERICAN FORK STATION           0.96   \n",
       "3     All     ok      drive               04-LEHI STATION          41.41   \n",
       "4     All     ok      drive             05-DRAPER STATION          35.07   \n",
       "5     All     ok      drive       06-SOUTH JORDAN STATION          22.34   \n",
       "6     All     ok      drive     07-MURRAY CENTRAL STATION          71.55   \n",
       "7     All     ok      drive  08-SALT LAKE CENTRAL STATION         103.30   \n",
       "8     All     ok      drive       09-NORTH TEMPLE STATION         348.06   \n",
       "9     All     ok      drive        10-WOODS CROSS STATION           9.12   \n",
       "\n",
       "   Brd_Direct_PA  \n",
       "0          47.11  \n",
       "1         282.68  \n",
       "2         315.17  \n",
       "3         301.67  \n",
       "4         250.80  \n",
       "5         393.18  \n",
       "6         214.90  \n",
       "7          43.31  \n",
       "8          26.46  \n",
       "9         297.30  "
      ]
     },
     "metadata": {},
     "output_type": "display_data"
    }
   ],
   "source": [
    "# perform the two left joins and rename columns\n",
    "df_ridsum_1 = (\n",
    "    pd.merge(df_rider_summary, df_stations1, left_on=\"B\", right_on=\"N\", how=\"left\")\n",
    "    .rename(columns={\"station\": \"brd_station\"})\n",
    "    .merge(df_stations1, left_on=\"A\", right_on=\"N\", how=\"left\")\n",
    "    .rename(columns={\"station\": \"alt_station\"})\n",
    "    .drop(columns={'N_x','N_y'})\n",
    ")\n",
    "\n",
    "# filter out data that doesn't make sense and filter for specific access links\n",
    "df_ridsum_2 = df_ridsum_1[\n",
    "    ((df_ridsum_1[\"brd_station\"].notna()) & (df_ridsum_1[\"A\"] < 10000)) |\n",
    "    ((df_ridsum_1[\"alt_station\"].notna()) & (df_ridsum_1[\"B\"] < 10000))\n",
    "]\n",
    "df_ridsum_2 = df_ridsum_2[df_ridsum_2[\"Mode\"].isin([80, 11])]\n",
    "df_ridsum_2[\"FromSkim_CRT\"] = pd.to_numeric(df_ridsum_2[\"FromSkim_CRT\"], errors=\"coerce\")\n",
    "\n",
    "# group by and sum up at the brd_station level\n",
    "df_ridsum_brd = (\n",
    "    df_ridsum_2\n",
    "    .dropna(subset=[\"brd_station\"])\n",
    "    .groupby([\"Purpose\", \"Period\", \"AccessMode\", \"Mode\", \"brd_station\"], as_index=False)\n",
    "    .agg(direct_acc_egg=(\"FromSkim_CRT\", \"sum\"))\n",
    "    .assign(direction=\"access\", brd_alt=\"Brd_Direct_PA\")\n",
    ")\n",
    "\n",
    "# group by and sum up at the alt_station level\n",
    "df_ridsum_alt = (\n",
    "    df_ridsum_2\n",
    "    .dropna(subset=[\"alt_station\"])  # Drop rows where alt_station is NaN\n",
    "    .groupby([\"Purpose\", \"Period\", \"AccessMode\", \"Mode\", \"alt_station\"], as_index=False)\n",
    "    .agg(direct_acc_egg=(\"FromSkim_CRT\", \"sum\"))\n",
    "    .assign(direction=\"egress\", brd_alt=\"Alt_Direct_PA\")\n",
    ")\n",
    "\n",
    "# concat brding and alting tables\n",
    "df_ridsum_3 = pd.concat([df_ridsum_brd, df_ridsum_alt], ignore_index=True).drop(columns={'brd_alt'})\n",
    "\n",
    "# reorganize\n",
    "df_ridsum_3_long = (\n",
    "    df_ridsum_3\n",
    "    .melt(\n",
    "        id_vars=[\"Purpose\", \"Period\", \"AccessMode\", \"Mode\", \"direct_acc_egg\"],\n",
    "        value_vars=[\"brd_station\", \"alt_station\"],\n",
    "        var_name=\"brd_alt\",\n",
    "        value_name=\"station\"\n",
    "    )\n",
    ")\n",
    "\n",
    "# rename columns, get rid of na, and reset index\n",
    "df_ridsum_3_long = df_ridsum_3_long[df_ridsum_3_long[\"station\"].notna()]\n",
    "df_ridsum_3_long[\"brd_alt\"] = df_ridsum_3_long[\"brd_alt\"].map({\n",
    "    \"brd_station\": \"Brd_Direct_PA\",\n",
    "    \"alt_station\": \"Alt_Direct_PA\"\n",
    "})\n",
    "df_ridsum_3_long = df_ridsum_3_long.reset_index(drop=True)\n",
    "\n",
    "# further cleanup and reorganization of df\n",
    "df_ridsum_4 = (\n",
    "    df_ridsum_3_long\n",
    "    .drop(columns=[\"Mode\", \"direction\"], errors=\"ignore\")\n",
    "    .pivot_table(\n",
    "        index=[\"Purpose\", \"Period\", \"AccessMode\", \"station\"],\n",
    "        columns=\"brd_alt\",\n",
    "        values=\"direct_acc_egg\",\n",
    "        aggfunc=\"sum\"\n",
    "    )\n",
    "    .reset_index()\n",
    ")\n",
    "\n",
    "# remove the multiindex on columns\n",
    "df_ridsum_4.columns.name = None \n",
    "df_ridsum_4 = df_ridsum_4.rename_axis(None, axis=1)\n",
    "\n",
    "display(df_ridsum_4.head(10))"
   ]
  },
  {
   "cell_type": "markdown",
   "metadata": {},
   "source": [
    "**Join Node and Link Data**"
   ]
  },
  {
   "cell_type": "code",
   "execution_count": 8,
   "metadata": {},
   "outputs": [
    {
     "data": {
      "text/html": [
       "<div>\n",
       "<style scoped>\n",
       "    .dataframe tbody tr th:only-of-type {\n",
       "        vertical-align: middle;\n",
       "    }\n",
       "\n",
       "    .dataframe tbody tr th {\n",
       "        vertical-align: top;\n",
       "    }\n",
       "\n",
       "    .dataframe thead th {\n",
       "        text-align: right;\n",
       "    }\n",
       "</style>\n",
       "<table border=\"1\" class=\"dataframe\">\n",
       "  <thead>\n",
       "    <tr style=\"text-align: right;\">\n",
       "      <th></th>\n",
       "      <th>Source</th>\n",
       "      <th>station</th>\n",
       "      <th>AccessMode</th>\n",
       "      <th>Brd_PA</th>\n",
       "      <th>Brd_Direct_PA</th>\n",
       "      <th>Brd_Transfer_PA</th>\n",
       "      <th>Alt_PA</th>\n",
       "      <th>Alt_Direct_PA</th>\n",
       "      <th>Alt_Transfer_PA</th>\n",
       "    </tr>\n",
       "  </thead>\n",
       "  <tbody>\n",
       "    <tr>\n",
       "      <th>0</th>\n",
       "      <td>TDM</td>\n",
       "      <td>01-PROVO CENTRAL STATION</td>\n",
       "      <td>drive</td>\n",
       "      <td>211.96</td>\n",
       "      <td>211.42</td>\n",
       "      <td>0.54</td>\n",
       "      <td>526.81</td>\n",
       "      <td>75.40</td>\n",
       "      <td>451.41</td>\n",
       "    </tr>\n",
       "    <tr>\n",
       "      <th>1</th>\n",
       "      <td>TDM</td>\n",
       "      <td>02-OREM CENTRAL STATION</td>\n",
       "      <td>drive</td>\n",
       "      <td>1121.42</td>\n",
       "      <td>1121.20</td>\n",
       "      <td>0.22</td>\n",
       "      <td>1617.79</td>\n",
       "      <td>87.38</td>\n",
       "      <td>1530.41</td>\n",
       "    </tr>\n",
       "    <tr>\n",
       "      <th>2</th>\n",
       "      <td>TDM</td>\n",
       "      <td>03-AMERICAN FORK STATION</td>\n",
       "      <td>drive</td>\n",
       "      <td>1518.54</td>\n",
       "      <td>1518.51</td>\n",
       "      <td>0.03</td>\n",
       "      <td>8.14</td>\n",
       "      <td>2.47</td>\n",
       "      <td>5.67</td>\n",
       "    </tr>\n",
       "    <tr>\n",
       "      <th>3</th>\n",
       "      <td>TDM</td>\n",
       "      <td>04-LEHI STATION</td>\n",
       "      <td>drive</td>\n",
       "      <td>1304.19</td>\n",
       "      <td>1304.08</td>\n",
       "      <td>0.11</td>\n",
       "      <td>240.02</td>\n",
       "      <td>158.50</td>\n",
       "      <td>81.52</td>\n",
       "    </tr>\n",
       "    <tr>\n",
       "      <th>4</th>\n",
       "      <td>TDM</td>\n",
       "      <td>05-DRAPER STATION</td>\n",
       "      <td>drive</td>\n",
       "      <td>1109.81</td>\n",
       "      <td>1109.74</td>\n",
       "      <td>0.07</td>\n",
       "      <td>105.44</td>\n",
       "      <td>100.32</td>\n",
       "      <td>5.12</td>\n",
       "    </tr>\n",
       "    <tr>\n",
       "      <th>5</th>\n",
       "      <td>TDM</td>\n",
       "      <td>06-SOUTH JORDAN STATION</td>\n",
       "      <td>drive</td>\n",
       "      <td>1353.07</td>\n",
       "      <td>1353.08</td>\n",
       "      <td>-0.01</td>\n",
       "      <td>109.60</td>\n",
       "      <td>65.27</td>\n",
       "      <td>44.33</td>\n",
       "    </tr>\n",
       "    <tr>\n",
       "      <th>6</th>\n",
       "      <td>TDM</td>\n",
       "      <td>07-MURRAY CENTRAL STATION</td>\n",
       "      <td>drive</td>\n",
       "      <td>786.39</td>\n",
       "      <td>786.34</td>\n",
       "      <td>0.05</td>\n",
       "      <td>2564.75</td>\n",
       "      <td>245.29</td>\n",
       "      <td>2319.46</td>\n",
       "    </tr>\n",
       "    <tr>\n",
       "      <th>7</th>\n",
       "      <td>TDM</td>\n",
       "      <td>08-SALT LAKE CENTRAL STATION</td>\n",
       "      <td>drive</td>\n",
       "      <td>149.31</td>\n",
       "      <td>149.30</td>\n",
       "      <td>0.01</td>\n",
       "      <td>2483.71</td>\n",
       "      <td>373.40</td>\n",
       "      <td>2110.31</td>\n",
       "    </tr>\n",
       "    <tr>\n",
       "      <th>8</th>\n",
       "      <td>TDM</td>\n",
       "      <td>09-NORTH TEMPLE STATION</td>\n",
       "      <td>drive</td>\n",
       "      <td>74.40</td>\n",
       "      <td>74.25</td>\n",
       "      <td>0.15</td>\n",
       "      <td>3226.87</td>\n",
       "      <td>1355.11</td>\n",
       "      <td>1871.76</td>\n",
       "    </tr>\n",
       "    <tr>\n",
       "      <th>9</th>\n",
       "      <td>TDM</td>\n",
       "      <td>10-WOODS CROSS STATION</td>\n",
       "      <td>drive</td>\n",
       "      <td>948.08</td>\n",
       "      <td>948.07</td>\n",
       "      <td>0.01</td>\n",
       "      <td>90.39</td>\n",
       "      <td>29.14</td>\n",
       "      <td>61.25</td>\n",
       "    </tr>\n",
       "    <tr>\n",
       "      <th>10</th>\n",
       "      <td>TDM</td>\n",
       "      <td>11-FARMINGTON STATION</td>\n",
       "      <td>drive</td>\n",
       "      <td>426.77</td>\n",
       "      <td>426.73</td>\n",
       "      <td>0.04</td>\n",
       "      <td>534.62</td>\n",
       "      <td>106.99</td>\n",
       "      <td>427.63</td>\n",
       "    </tr>\n",
       "    <tr>\n",
       "      <th>11</th>\n",
       "      <td>TDM</td>\n",
       "      <td>12-LAYTON STATION</td>\n",
       "      <td>drive</td>\n",
       "      <td>877.27</td>\n",
       "      <td>877.23</td>\n",
       "      <td>0.04</td>\n",
       "      <td>43.05</td>\n",
       "      <td>7.05</td>\n",
       "      <td>36.00</td>\n",
       "    </tr>\n",
       "    <tr>\n",
       "      <th>12</th>\n",
       "      <td>TDM</td>\n",
       "      <td>13-CLEARFIELD STATION</td>\n",
       "      <td>drive</td>\n",
       "      <td>701.31</td>\n",
       "      <td>701.32</td>\n",
       "      <td>-0.01</td>\n",
       "      <td>118.22</td>\n",
       "      <td>52.21</td>\n",
       "      <td>66.01</td>\n",
       "    </tr>\n",
       "    <tr>\n",
       "      <th>13</th>\n",
       "      <td>TDM</td>\n",
       "      <td>14-ROY STATION</td>\n",
       "      <td>drive</td>\n",
       "      <td>1009.26</td>\n",
       "      <td>1009.18</td>\n",
       "      <td>0.08</td>\n",
       "      <td>12.60</td>\n",
       "      <td>10.24</td>\n",
       "      <td>2.36</td>\n",
       "    </tr>\n",
       "    <tr>\n",
       "      <th>14</th>\n",
       "      <td>TDM</td>\n",
       "      <td>15-OGDEN STATION</td>\n",
       "      <td>drive</td>\n",
       "      <td>567.84</td>\n",
       "      <td>567.73</td>\n",
       "      <td>0.11</td>\n",
       "      <td>477.63</td>\n",
       "      <td>111.22</td>\n",
       "      <td>366.41</td>\n",
       "    </tr>\n",
       "    <tr>\n",
       "      <th>15</th>\n",
       "      <td>TDM</td>\n",
       "      <td>01-PROVO CENTRAL STATION</td>\n",
       "      <td>walk</td>\n",
       "      <td>1214.89</td>\n",
       "      <td>159.20</td>\n",
       "      <td>1055.69</td>\n",
       "      <td>188.94</td>\n",
       "      <td>37.18</td>\n",
       "      <td>151.76</td>\n",
       "    </tr>\n",
       "    <tr>\n",
       "      <th>16</th>\n",
       "      <td>TDM</td>\n",
       "      <td>02-OREM CENTRAL STATION</td>\n",
       "      <td>walk</td>\n",
       "      <td>232.46</td>\n",
       "      <td>130.72</td>\n",
       "      <td>101.74</td>\n",
       "      <td>482.17</td>\n",
       "      <td>75.58</td>\n",
       "      <td>406.59</td>\n",
       "    </tr>\n",
       "    <tr>\n",
       "      <th>17</th>\n",
       "      <td>TDM</td>\n",
       "      <td>03-AMERICAN FORK STATION</td>\n",
       "      <td>walk</td>\n",
       "      <td>80.60</td>\n",
       "      <td>80.60</td>\n",
       "      <td>0.00</td>\n",
       "      <td>13.30</td>\n",
       "      <td>3.25</td>\n",
       "      <td>10.05</td>\n",
       "    </tr>\n",
       "    <tr>\n",
       "      <th>18</th>\n",
       "      <td>TDM</td>\n",
       "      <td>04-LEHI STATION</td>\n",
       "      <td>walk</td>\n",
       "      <td>346.14</td>\n",
       "      <td>209.31</td>\n",
       "      <td>136.83</td>\n",
       "      <td>173.90</td>\n",
       "      <td>95.06</td>\n",
       "      <td>78.84</td>\n",
       "    </tr>\n",
       "    <tr>\n",
       "      <th>19</th>\n",
       "      <td>TDM</td>\n",
       "      <td>05-DRAPER STATION</td>\n",
       "      <td>walk</td>\n",
       "      <td>178.98</td>\n",
       "      <td>149.63</td>\n",
       "      <td>29.35</td>\n",
       "      <td>121.42</td>\n",
       "      <td>115.77</td>\n",
       "      <td>5.65</td>\n",
       "    </tr>\n",
       "    <tr>\n",
       "      <th>20</th>\n",
       "      <td>TDM</td>\n",
       "      <td>06-SOUTH JORDAN STATION</td>\n",
       "      <td>walk</td>\n",
       "      <td>318.14</td>\n",
       "      <td>256.61</td>\n",
       "      <td>61.53</td>\n",
       "      <td>126.38</td>\n",
       "      <td>71.88</td>\n",
       "      <td>54.50</td>\n",
       "    </tr>\n",
       "    <tr>\n",
       "      <th>21</th>\n",
       "      <td>TDM</td>\n",
       "      <td>07-MURRAY CENTRAL STATION</td>\n",
       "      <td>walk</td>\n",
       "      <td>695.62</td>\n",
       "      <td>132.21</td>\n",
       "      <td>563.41</td>\n",
       "      <td>1296.35</td>\n",
       "      <td>151.57</td>\n",
       "      <td>1144.78</td>\n",
       "    </tr>\n",
       "    <tr>\n",
       "      <th>22</th>\n",
       "      <td>TDM</td>\n",
       "      <td>08-SALT LAKE CENTRAL STATION</td>\n",
       "      <td>walk</td>\n",
       "      <td>597.45</td>\n",
       "      <td>10.87</td>\n",
       "      <td>586.58</td>\n",
       "      <td>942.37</td>\n",
       "      <td>143.15</td>\n",
       "      <td>799.22</td>\n",
       "    </tr>\n",
       "    <tr>\n",
       "      <th>23</th>\n",
       "      <td>TDM</td>\n",
       "      <td>09-NORTH TEMPLE STATION</td>\n",
       "      <td>walk</td>\n",
       "      <td>229.97</td>\n",
       "      <td>174.58</td>\n",
       "      <td>55.39</td>\n",
       "      <td>1665.03</td>\n",
       "      <td>528.03</td>\n",
       "      <td>1137.00</td>\n",
       "    </tr>\n",
       "    <tr>\n",
       "      <th>24</th>\n",
       "      <td>TDM</td>\n",
       "      <td>10-WOODS CROSS STATION</td>\n",
       "      <td>walk</td>\n",
       "      <td>384.88</td>\n",
       "      <td>296.84</td>\n",
       "      <td>88.04</td>\n",
       "      <td>135.77</td>\n",
       "      <td>33.45</td>\n",
       "      <td>102.32</td>\n",
       "    </tr>\n",
       "    <tr>\n",
       "      <th>25</th>\n",
       "      <td>TDM</td>\n",
       "      <td>11-FARMINGTON STATION</td>\n",
       "      <td>walk</td>\n",
       "      <td>154.34</td>\n",
       "      <td>112.62</td>\n",
       "      <td>41.72</td>\n",
       "      <td>650.28</td>\n",
       "      <td>121.01</td>\n",
       "      <td>529.27</td>\n",
       "    </tr>\n",
       "    <tr>\n",
       "      <th>26</th>\n",
       "      <td>TDM</td>\n",
       "      <td>12-LAYTON STATION</td>\n",
       "      <td>walk</td>\n",
       "      <td>324.80</td>\n",
       "      <td>127.44</td>\n",
       "      <td>197.36</td>\n",
       "      <td>70.34</td>\n",
       "      <td>8.01</td>\n",
       "      <td>62.33</td>\n",
       "    </tr>\n",
       "    <tr>\n",
       "      <th>27</th>\n",
       "      <td>TDM</td>\n",
       "      <td>13-CLEARFIELD STATION</td>\n",
       "      <td>walk</td>\n",
       "      <td>558.67</td>\n",
       "      <td>453.69</td>\n",
       "      <td>104.98</td>\n",
       "      <td>167.98</td>\n",
       "      <td>72.56</td>\n",
       "      <td>95.42</td>\n",
       "    </tr>\n",
       "    <tr>\n",
       "      <th>28</th>\n",
       "      <td>TDM</td>\n",
       "      <td>14-ROY STATION</td>\n",
       "      <td>walk</td>\n",
       "      <td>399.36</td>\n",
       "      <td>360.53</td>\n",
       "      <td>38.83</td>\n",
       "      <td>24.88</td>\n",
       "      <td>19.02</td>\n",
       "      <td>5.86</td>\n",
       "    </tr>\n",
       "    <tr>\n",
       "      <th>29</th>\n",
       "      <td>TDM</td>\n",
       "      <td>15-OGDEN STATION</td>\n",
       "      <td>walk</td>\n",
       "      <td>699.36</td>\n",
       "      <td>53.13</td>\n",
       "      <td>646.23</td>\n",
       "      <td>356.51</td>\n",
       "      <td>120.36</td>\n",
       "      <td>236.15</td>\n",
       "    </tr>\n",
       "  </tbody>\n",
       "</table>\n",
       "</div>"
      ],
      "text/plain": [
       "   Source                       station AccessMode   Brd_PA  Brd_Direct_PA  \\\n",
       "0     TDM      01-PROVO CENTRAL STATION      drive   211.96         211.42   \n",
       "1     TDM       02-OREM CENTRAL STATION      drive  1121.42        1121.20   \n",
       "2     TDM      03-AMERICAN FORK STATION      drive  1518.54        1518.51   \n",
       "3     TDM               04-LEHI STATION      drive  1304.19        1304.08   \n",
       "4     TDM             05-DRAPER STATION      drive  1109.81        1109.74   \n",
       "5     TDM       06-SOUTH JORDAN STATION      drive  1353.07        1353.08   \n",
       "6     TDM     07-MURRAY CENTRAL STATION      drive   786.39         786.34   \n",
       "7     TDM  08-SALT LAKE CENTRAL STATION      drive   149.31         149.30   \n",
       "8     TDM       09-NORTH TEMPLE STATION      drive    74.40          74.25   \n",
       "9     TDM        10-WOODS CROSS STATION      drive   948.08         948.07   \n",
       "10    TDM         11-FARMINGTON STATION      drive   426.77         426.73   \n",
       "11    TDM             12-LAYTON STATION      drive   877.27         877.23   \n",
       "12    TDM         13-CLEARFIELD STATION      drive   701.31         701.32   \n",
       "13    TDM                14-ROY STATION      drive  1009.26        1009.18   \n",
       "14    TDM              15-OGDEN STATION      drive   567.84         567.73   \n",
       "15    TDM      01-PROVO CENTRAL STATION       walk  1214.89         159.20   \n",
       "16    TDM       02-OREM CENTRAL STATION       walk   232.46         130.72   \n",
       "17    TDM      03-AMERICAN FORK STATION       walk    80.60          80.60   \n",
       "18    TDM               04-LEHI STATION       walk   346.14         209.31   \n",
       "19    TDM             05-DRAPER STATION       walk   178.98         149.63   \n",
       "20    TDM       06-SOUTH JORDAN STATION       walk   318.14         256.61   \n",
       "21    TDM     07-MURRAY CENTRAL STATION       walk   695.62         132.21   \n",
       "22    TDM  08-SALT LAKE CENTRAL STATION       walk   597.45          10.87   \n",
       "23    TDM       09-NORTH TEMPLE STATION       walk   229.97         174.58   \n",
       "24    TDM        10-WOODS CROSS STATION       walk   384.88         296.84   \n",
       "25    TDM         11-FARMINGTON STATION       walk   154.34         112.62   \n",
       "26    TDM             12-LAYTON STATION       walk   324.80         127.44   \n",
       "27    TDM         13-CLEARFIELD STATION       walk   558.67         453.69   \n",
       "28    TDM                14-ROY STATION       walk   399.36         360.53   \n",
       "29    TDM              15-OGDEN STATION       walk   699.36          53.13   \n",
       "\n",
       "    Brd_Transfer_PA   Alt_PA  Alt_Direct_PA  Alt_Transfer_PA  \n",
       "0              0.54   526.81          75.40           451.41  \n",
       "1              0.22  1617.79          87.38          1530.41  \n",
       "2              0.03     8.14           2.47             5.67  \n",
       "3              0.11   240.02         158.50            81.52  \n",
       "4              0.07   105.44         100.32             5.12  \n",
       "5             -0.01   109.60          65.27            44.33  \n",
       "6              0.05  2564.75         245.29          2319.46  \n",
       "7              0.01  2483.71         373.40          2110.31  \n",
       "8              0.15  3226.87        1355.11          1871.76  \n",
       "9              0.01    90.39          29.14            61.25  \n",
       "10             0.04   534.62         106.99           427.63  \n",
       "11             0.04    43.05           7.05            36.00  \n",
       "12            -0.01   118.22          52.21            66.01  \n",
       "13             0.08    12.60          10.24             2.36  \n",
       "14             0.11   477.63         111.22           366.41  \n",
       "15          1055.69   188.94          37.18           151.76  \n",
       "16           101.74   482.17          75.58           406.59  \n",
       "17             0.00    13.30           3.25            10.05  \n",
       "18           136.83   173.90          95.06            78.84  \n",
       "19            29.35   121.42         115.77             5.65  \n",
       "20            61.53   126.38          71.88            54.50  \n",
       "21           563.41  1296.35         151.57          1144.78  \n",
       "22           586.58   942.37         143.15           799.22  \n",
       "23            55.39  1665.03         528.03          1137.00  \n",
       "24            88.04   135.77          33.45           102.32  \n",
       "25            41.72   650.28         121.01           529.27  \n",
       "26           197.36    70.34           8.01            62.33  \n",
       "27           104.98   167.98          72.56            95.42  \n",
       "28            38.83    24.88          19.02             5.86  \n",
       "29           646.23   356.51         120.36           236.15  "
      ]
     },
     "execution_count": 8,
     "metadata": {},
     "output_type": "execute_result"
    }
   ],
   "source": [
    "# join node and link data together into one table\n",
    "df_ridsum_summary = df_brdsum_totals.merge(df_ridsum_4,on=[\"Purpose\", \"Period\", \"AccessMode\", \"station\"],how=\"left\")\n",
    "\n",
    "# calculate transfer columns\n",
    "df_ridsum_summary[\"Brd_Transfer_PA\"] = (df_ridsum_summary[\"Brd_PA\"] - df_ridsum_summary[\"Brd_Direct_PA\"])\n",
    "df_ridsum_summary[\"Alt_Transfer_PA\"] = (df_ridsum_summary[\"Alt_PA\"] - df_ridsum_summary[\"Alt_Direct_PA\"])\n",
    "\n",
    "# select columns\n",
    "df_ridsum_summary = df_ridsum_summary[[\"station\", \"Purpose\", \"Period\", \"AccessMode\",\"Brd_PA\", \"Brd_Direct_PA\", \"Brd_Transfer_PA\",\"Alt_PA\", \"Alt_Direct_PA\", \"Alt_Transfer_PA\"]]\n",
    "\n",
    "# group by Purpose, AccessMode, and station, then calculate aggregated values\n",
    "df_ridsum_pa = (\n",
    "    df_ridsum_summary\n",
    "    .groupby([\"Purpose\", \"AccessMode\", \"station\"], as_index=False)\n",
    "    .agg(\n",
    "        Brd_PA=(\"Brd_PA\", \"sum\"),\n",
    "        Brd_Direct_PA=(\"Brd_Direct_PA\", \"sum\"),\n",
    "        Brd_Transfer_PA=(\"Brd_Transfer_PA\", \"sum\"),\n",
    "        Alt_PA=(\"Alt_PA\", \"sum\"),\n",
    "        Alt_Direct_PA=(\"Alt_Direct_PA\", \"sum\"),\n",
    "        Alt_Transfer_PA=(\"Alt_Transfer_PA\", \"sum\")\n",
    "    )\n",
    ")\n",
    "\n",
    "df_ridsum_pa['Source'] = 'TDM'\n",
    "df_ridsum_pa = df_ridsum_pa[['Source','station','AccessMode','Brd_PA','Brd_Direct_PA','Brd_Transfer_PA','Alt_PA','Alt_Direct_PA','Alt_Transfer_PA']]\n",
    "df_ridsum_pa"
   ]
  },
  {
   "cell_type": "markdown",
   "metadata": {},
   "source": [
    "### OBS Summary"
   ]
  },
  {
   "cell_type": "code",
   "execution_count": 9,
   "metadata": {},
   "outputs": [],
   "source": [
    "# filter on board survey to only columns that have a lat or long in the name along with the id and mode columns\n",
    "latColNames = list(df_obs_data.loc[:,df_obs_data.columns.str.endswith(\"lat\")].columns)\n",
    "longColNames = list(df_obs_data.loc[:,df_obs_data.columns.str.endswith(\"long\")].columns)\n",
    "lonColNames = list(df_obs_data.loc[:,df_obs_data.columns.str.endswith(\"lon\")].columns)\n",
    "locColNames = latColNames + longColNames + lonColNames + list(['id','Ac_Mode_Model','Linked_Mode'])\n",
    "dfOBSLoc = df_obs_data[locColNames]\n",
    "\n",
    "# p and a TAZIDs by id\n",
    "dfOBSLoc_TAZID = df_obs_data[['id','PA_AP','Purp7_text','Ac_Mode_Model','Eg_Mode_Model','p_TAZID','a_TAZID','unlinked_weight_adj']].dropna()\n",
    "\n",
    "# melt the dataframe to a long format\n",
    "dfOBSMelt = pd.melt(dfOBSLoc, ['id','Ac_Mode_Model','Linked_Mode'])\n",
    "dfOBSMelt['Loc'] = dfOBSMelt.apply(lambda x: x['variable'].rsplit('_',1)[1],axis = 1)\n",
    "dfOBSMelt['Loc'] = np.where(dfOBSMelt['Loc'] == 'long', 'lon', dfOBSMelt['Loc'])\n",
    "dfOBSMelt['variable'] = dfOBSMelt.apply(lambda x: x['variable'].rsplit('_',1)[0],axis = 1)\n",
    "\n",
    "# create a lat and long column for all varable combinations\n",
    "dfOBSMeltWide = dfOBSMelt.dropna().pivot(index = ['id','Linked_Mode','variable'], columns='Loc',values='value').reset_index(inplace=False)\n",
    "dfOBSMeltWide = dfOBSMeltWide.merge(dfOBSLoc_TAZID, on='id')"
   ]
  },
  {
   "cell_type": "code",
   "execution_count": 10,
   "metadata": {},
   "outputs": [],
   "source": [
    "# function that gets all the ids of the trips that go through the station of choice\n",
    "def get_station_ids(OBSMeltWide,stopColNames,lat,lon):\n",
    "    # get all ids that have a stop, prev_stop, or next_stop through the Provo CRT Station\n",
    "    dfOBS_stat = (\n",
    "        OBSMeltWide[OBSMeltWide['variable'].isin(stopColNames)]\n",
    "            .loc[OBSMeltWide['lat'] == lat]\n",
    "            .loc[OBSMeltWide['lon'] == lon]\n",
    "        )\n",
    "    station_ids = dfOBS_stat.id.values.tolist()\n",
    "    return station_ids\n",
    "\n",
    "# function that creates a df if the id got on or got off at the station of choice\n",
    "def get_station_ids_onoff(OBSMeltWide,stopColNames,lat,lon):\n",
    "    # get all ids that have a stop, prev_stop, or next_stop through the Provo CRT Station\n",
    "    dfOBS_stat = (\n",
    "        OBSMeltWide[OBSMeltWide['variable'].isin(stopColNames)]\n",
    "            .loc[OBSMeltWide['lat'] == lat]\n",
    "            .loc[OBSMeltWide['lon'] == lon]\n",
    "        )\n",
    "    # create df specifying if the id got on or off at the station\n",
    "    dfOBS_onoff = dfOBS_stat[['id','variable']]\n",
    "    dfOBS_onoff[\"off\"] = dfOBS_onoff[\"variable\"].str.contains(r'off', regex=True).astype(int)\n",
    "    dfOBS_onoff['OnOff'] = dfOBS_onoff['off'].apply(lambda x: 'on' if x == 0 else 'off')\n",
    "    dfOBS_onoff = dfOBS_onoff.drop(columns=['off','variable'])\n",
    "    return dfOBS_onoff"
   ]
  },
  {
   "cell_type": "code",
   "execution_count": 19,
   "metadata": {},
   "outputs": [],
   "source": [
    "def calculate_on_station_obs(OBS, OBSMeltWide, stopColNames, stationName, lat, lon):\n",
    "    station_ids = get_station_ids(OBSMeltWide, stopColNames, lat, lon)\n",
    "    station_onoff = get_station_ids_onoff(OBSMeltWide,stopColNames,lat,lon)\n",
    "    \n",
    "    # select columns \n",
    "    chained_p = OBS[OBS['id'].isin(station_ids)]\n",
    "    \n",
    "    # merge on-off table to station chainging table\n",
    "    chained_cols = list(['id','PA_AP','Purp7_text','Ac_Mode_Model','Eg_Mode_Model','unlinked_weight_adj'])\n",
    "    chained_p2= chained_p[chained_cols].merge(station_onoff, on='id',how = 'left')\n",
    "    \n",
    "    # switch on/off label if in AP direction, then switch label to only PA\n",
    "    chained_p2['onoff'] = np.where(((chained_p2['OnOff'] == 'off') & (chained_p2['PA_AP'] == 'AP')) | ((chained_p2['OnOff'] == 'on') & (chained_p2['PA_AP'] == 'PA')), 'on', 'off')\n",
    "    chained_p2 = chained_p2.drop(columns = ['OnOff'])\n",
    "    chained_p2['PA_AP'] = 'PA'\n",
    "    \n",
    "    # aggregate boardings \n",
    "    boardings = chained_p2.loc[chained_p2['onoff'] == 'on']\n",
    "    direct_on_total = (boardings.groupby(['Ac_Mode_Model'])\n",
    "                         .agg(\n",
    "                             Brd_PA=('unlinked_weight_adj','sum')\n",
    "                         )).reset_index()\n",
    "    direct_on_total['Station'] = stationName\n",
    "    \n",
    "    # aggregate alightings\n",
    "    alightings = chained_p2.loc[chained_p2['onoff'] == 'off']\n",
    "    direct_off_total = (alightings.groupby(['Ac_Mode_Model'])\n",
    "                         .agg(\n",
    "                             Alt_PA=('unlinked_weight_adj','sum')\n",
    "                         )).reset_index()\n",
    "    direct_off_total['Station'] = stationName\n",
    "    \n",
    "    # cleanup final table\n",
    "    direct_total = direct_on_total.merge(direct_off_total, on=['Station','Ac_Mode_Model'],how='left')\n",
    "    direct_total = direct_total.rename(columns={'Station':'station','Ac_Mode_Model':'AccessMode'})\n",
    "    direct_total = direct_total[['station','AccessMode','Brd_PA','Alt_PA']]\n",
    "    \n",
    "    # prep additional final file with ungrouped data\n",
    "    chained_p2['Station'] = stationName\n",
    "    chained_p2 = chained_p2.rename(columns={'Station':'station','Ac_Mode_Model':'AccessMode'})\n",
    "    chained_p2['AccessMode'] = chained_p2['AccessMode'].replace({'Walk': 'walk', 'Drive': 'drive'})\n",
    "\n",
    "    return (direct_total,chained_p2)"
   ]
  },
  {
   "cell_type": "code",
   "execution_count": 20,
   "metadata": {},
   "outputs": [
    {
     "name": "stderr",
     "output_type": "stream",
     "text": [
      "C:\\Users\\cday\\AppData\\Local\\Temp\\ipykernel_35544\\4265422110.py:22: SettingWithCopyWarning:\n",
      "\n",
      "\n",
      "A value is trying to be set on a copy of a slice from a DataFrame.\n",
      "Try using .loc[row_indexer,col_indexer] = value instead\n",
      "\n",
      "See the caveats in the documentation: https://pandas.pydata.org/pandas-docs/stable/user_guide/indexing.html#returning-a-view-versus-a-copy\n",
      "\n",
      "C:\\Users\\cday\\AppData\\Local\\Temp\\ipykernel_35544\\4265422110.py:23: SettingWithCopyWarning:\n",
      "\n",
      "\n",
      "A value is trying to be set on a copy of a slice from a DataFrame.\n",
      "Try using .loc[row_indexer,col_indexer] = value instead\n",
      "\n",
      "See the caveats in the documentation: https://pandas.pydata.org/pandas-docs/stable/user_guide/indexing.html#returning-a-view-versus-a-copy\n",
      "\n",
      "C:\\Users\\cday\\AppData\\Local\\Temp\\ipykernel_35544\\4265422110.py:22: SettingWithCopyWarning:\n",
      "\n",
      "\n",
      "A value is trying to be set on a copy of a slice from a DataFrame.\n",
      "Try using .loc[row_indexer,col_indexer] = value instead\n",
      "\n",
      "See the caveats in the documentation: https://pandas.pydata.org/pandas-docs/stable/user_guide/indexing.html#returning-a-view-versus-a-copy\n",
      "\n",
      "C:\\Users\\cday\\AppData\\Local\\Temp\\ipykernel_35544\\4265422110.py:23: SettingWithCopyWarning:\n",
      "\n",
      "\n",
      "A value is trying to be set on a copy of a slice from a DataFrame.\n",
      "Try using .loc[row_indexer,col_indexer] = value instead\n",
      "\n",
      "See the caveats in the documentation: https://pandas.pydata.org/pandas-docs/stable/user_guide/indexing.html#returning-a-view-versus-a-copy\n",
      "\n",
      "C:\\Users\\cday\\AppData\\Local\\Temp\\ipykernel_35544\\4265422110.py:22: SettingWithCopyWarning:\n",
      "\n",
      "\n",
      "A value is trying to be set on a copy of a slice from a DataFrame.\n",
      "Try using .loc[row_indexer,col_indexer] = value instead\n",
      "\n",
      "See the caveats in the documentation: https://pandas.pydata.org/pandas-docs/stable/user_guide/indexing.html#returning-a-view-versus-a-copy\n",
      "\n",
      "C:\\Users\\cday\\AppData\\Local\\Temp\\ipykernel_35544\\4265422110.py:23: SettingWithCopyWarning:\n",
      "\n",
      "\n",
      "A value is trying to be set on a copy of a slice from a DataFrame.\n",
      "Try using .loc[row_indexer,col_indexer] = value instead\n",
      "\n",
      "See the caveats in the documentation: https://pandas.pydata.org/pandas-docs/stable/user_guide/indexing.html#returning-a-view-versus-a-copy\n",
      "\n",
      "C:\\Users\\cday\\AppData\\Local\\Temp\\ipykernel_35544\\4265422110.py:22: SettingWithCopyWarning:\n",
      "\n",
      "\n",
      "A value is trying to be set on a copy of a slice from a DataFrame.\n",
      "Try using .loc[row_indexer,col_indexer] = value instead\n",
      "\n",
      "See the caveats in the documentation: https://pandas.pydata.org/pandas-docs/stable/user_guide/indexing.html#returning-a-view-versus-a-copy\n",
      "\n",
      "C:\\Users\\cday\\AppData\\Local\\Temp\\ipykernel_35544\\4265422110.py:23: SettingWithCopyWarning:\n",
      "\n",
      "\n",
      "A value is trying to be set on a copy of a slice from a DataFrame.\n",
      "Try using .loc[row_indexer,col_indexer] = value instead\n",
      "\n",
      "See the caveats in the documentation: https://pandas.pydata.org/pandas-docs/stable/user_guide/indexing.html#returning-a-view-versus-a-copy\n",
      "\n",
      "C:\\Users\\cday\\AppData\\Local\\Temp\\ipykernel_35544\\4265422110.py:22: SettingWithCopyWarning:\n",
      "\n",
      "\n",
      "A value is trying to be set on a copy of a slice from a DataFrame.\n",
      "Try using .loc[row_indexer,col_indexer] = value instead\n",
      "\n",
      "See the caveats in the documentation: https://pandas.pydata.org/pandas-docs/stable/user_guide/indexing.html#returning-a-view-versus-a-copy\n",
      "\n",
      "C:\\Users\\cday\\AppData\\Local\\Temp\\ipykernel_35544\\4265422110.py:23: SettingWithCopyWarning:\n",
      "\n",
      "\n",
      "A value is trying to be set on a copy of a slice from a DataFrame.\n",
      "Try using .loc[row_indexer,col_indexer] = value instead\n",
      "\n",
      "See the caveats in the documentation: https://pandas.pydata.org/pandas-docs/stable/user_guide/indexing.html#returning-a-view-versus-a-copy\n",
      "\n",
      "C:\\Users\\cday\\AppData\\Local\\Temp\\ipykernel_35544\\4265422110.py:22: SettingWithCopyWarning:\n",
      "\n",
      "\n",
      "A value is trying to be set on a copy of a slice from a DataFrame.\n",
      "Try using .loc[row_indexer,col_indexer] = value instead\n",
      "\n",
      "See the caveats in the documentation: https://pandas.pydata.org/pandas-docs/stable/user_guide/indexing.html#returning-a-view-versus-a-copy\n",
      "\n",
      "C:\\Users\\cday\\AppData\\Local\\Temp\\ipykernel_35544\\4265422110.py:23: SettingWithCopyWarning:\n",
      "\n",
      "\n",
      "A value is trying to be set on a copy of a slice from a DataFrame.\n",
      "Try using .loc[row_indexer,col_indexer] = value instead\n",
      "\n",
      "See the caveats in the documentation: https://pandas.pydata.org/pandas-docs/stable/user_guide/indexing.html#returning-a-view-versus-a-copy\n",
      "\n",
      "C:\\Users\\cday\\AppData\\Local\\Temp\\ipykernel_35544\\4265422110.py:22: SettingWithCopyWarning:\n",
      "\n",
      "\n",
      "A value is trying to be set on a copy of a slice from a DataFrame.\n",
      "Try using .loc[row_indexer,col_indexer] = value instead\n",
      "\n",
      "See the caveats in the documentation: https://pandas.pydata.org/pandas-docs/stable/user_guide/indexing.html#returning-a-view-versus-a-copy\n",
      "\n",
      "C:\\Users\\cday\\AppData\\Local\\Temp\\ipykernel_35544\\4265422110.py:23: SettingWithCopyWarning:\n",
      "\n",
      "\n",
      "A value is trying to be set on a copy of a slice from a DataFrame.\n",
      "Try using .loc[row_indexer,col_indexer] = value instead\n",
      "\n",
      "See the caveats in the documentation: https://pandas.pydata.org/pandas-docs/stable/user_guide/indexing.html#returning-a-view-versus-a-copy\n",
      "\n",
      "C:\\Users\\cday\\AppData\\Local\\Temp\\ipykernel_35544\\4265422110.py:22: SettingWithCopyWarning:\n",
      "\n",
      "\n",
      "A value is trying to be set on a copy of a slice from a DataFrame.\n",
      "Try using .loc[row_indexer,col_indexer] = value instead\n",
      "\n",
      "See the caveats in the documentation: https://pandas.pydata.org/pandas-docs/stable/user_guide/indexing.html#returning-a-view-versus-a-copy\n",
      "\n",
      "C:\\Users\\cday\\AppData\\Local\\Temp\\ipykernel_35544\\4265422110.py:23: SettingWithCopyWarning:\n",
      "\n",
      "\n",
      "A value is trying to be set on a copy of a slice from a DataFrame.\n",
      "Try using .loc[row_indexer,col_indexer] = value instead\n",
      "\n",
      "See the caveats in the documentation: https://pandas.pydata.org/pandas-docs/stable/user_guide/indexing.html#returning-a-view-versus-a-copy\n",
      "\n",
      "C:\\Users\\cday\\AppData\\Local\\Temp\\ipykernel_35544\\4265422110.py:22: SettingWithCopyWarning:\n",
      "\n",
      "\n",
      "A value is trying to be set on a copy of a slice from a DataFrame.\n",
      "Try using .loc[row_indexer,col_indexer] = value instead\n",
      "\n",
      "See the caveats in the documentation: https://pandas.pydata.org/pandas-docs/stable/user_guide/indexing.html#returning-a-view-versus-a-copy\n",
      "\n",
      "C:\\Users\\cday\\AppData\\Local\\Temp\\ipykernel_35544\\4265422110.py:23: SettingWithCopyWarning:\n",
      "\n",
      "\n",
      "A value is trying to be set on a copy of a slice from a DataFrame.\n",
      "Try using .loc[row_indexer,col_indexer] = value instead\n",
      "\n",
      "See the caveats in the documentation: https://pandas.pydata.org/pandas-docs/stable/user_guide/indexing.html#returning-a-view-versus-a-copy\n",
      "\n",
      "C:\\Users\\cday\\AppData\\Local\\Temp\\ipykernel_35544\\4265422110.py:22: SettingWithCopyWarning:\n",
      "\n",
      "\n",
      "A value is trying to be set on a copy of a slice from a DataFrame.\n",
      "Try using .loc[row_indexer,col_indexer] = value instead\n",
      "\n",
      "See the caveats in the documentation: https://pandas.pydata.org/pandas-docs/stable/user_guide/indexing.html#returning-a-view-versus-a-copy\n",
      "\n",
      "C:\\Users\\cday\\AppData\\Local\\Temp\\ipykernel_35544\\4265422110.py:23: SettingWithCopyWarning:\n",
      "\n",
      "\n",
      "A value is trying to be set on a copy of a slice from a DataFrame.\n",
      "Try using .loc[row_indexer,col_indexer] = value instead\n",
      "\n",
      "See the caveats in the documentation: https://pandas.pydata.org/pandas-docs/stable/user_guide/indexing.html#returning-a-view-versus-a-copy\n",
      "\n",
      "C:\\Users\\cday\\AppData\\Local\\Temp\\ipykernel_35544\\4265422110.py:22: SettingWithCopyWarning:\n",
      "\n",
      "\n",
      "A value is trying to be set on a copy of a slice from a DataFrame.\n",
      "Try using .loc[row_indexer,col_indexer] = value instead\n",
      "\n",
      "See the caveats in the documentation: https://pandas.pydata.org/pandas-docs/stable/user_guide/indexing.html#returning-a-view-versus-a-copy\n",
      "\n",
      "C:\\Users\\cday\\AppData\\Local\\Temp\\ipykernel_35544\\4265422110.py:23: SettingWithCopyWarning:\n",
      "\n",
      "\n",
      "A value is trying to be set on a copy of a slice from a DataFrame.\n",
      "Try using .loc[row_indexer,col_indexer] = value instead\n",
      "\n",
      "See the caveats in the documentation: https://pandas.pydata.org/pandas-docs/stable/user_guide/indexing.html#returning-a-view-versus-a-copy\n",
      "\n",
      "C:\\Users\\cday\\AppData\\Local\\Temp\\ipykernel_35544\\4265422110.py:22: SettingWithCopyWarning:\n",
      "\n",
      "\n",
      "A value is trying to be set on a copy of a slice from a DataFrame.\n",
      "Try using .loc[row_indexer,col_indexer] = value instead\n",
      "\n",
      "See the caveats in the documentation: https://pandas.pydata.org/pandas-docs/stable/user_guide/indexing.html#returning-a-view-versus-a-copy\n",
      "\n",
      "C:\\Users\\cday\\AppData\\Local\\Temp\\ipykernel_35544\\4265422110.py:23: SettingWithCopyWarning:\n",
      "\n",
      "\n",
      "A value is trying to be set on a copy of a slice from a DataFrame.\n",
      "Try using .loc[row_indexer,col_indexer] = value instead\n",
      "\n",
      "See the caveats in the documentation: https://pandas.pydata.org/pandas-docs/stable/user_guide/indexing.html#returning-a-view-versus-a-copy\n",
      "\n",
      "C:\\Users\\cday\\AppData\\Local\\Temp\\ipykernel_35544\\4265422110.py:22: SettingWithCopyWarning:\n",
      "\n",
      "\n",
      "A value is trying to be set on a copy of a slice from a DataFrame.\n",
      "Try using .loc[row_indexer,col_indexer] = value instead\n",
      "\n",
      "See the caveats in the documentation: https://pandas.pydata.org/pandas-docs/stable/user_guide/indexing.html#returning-a-view-versus-a-copy\n",
      "\n",
      "C:\\Users\\cday\\AppData\\Local\\Temp\\ipykernel_35544\\4265422110.py:23: SettingWithCopyWarning:\n",
      "\n",
      "\n",
      "A value is trying to be set on a copy of a slice from a DataFrame.\n",
      "Try using .loc[row_indexer,col_indexer] = value instead\n",
      "\n",
      "See the caveats in the documentation: https://pandas.pydata.org/pandas-docs/stable/user_guide/indexing.html#returning-a-view-versus-a-copy\n",
      "\n",
      "C:\\Users\\cday\\AppData\\Local\\Temp\\ipykernel_35544\\4265422110.py:22: SettingWithCopyWarning:\n",
      "\n",
      "\n",
      "A value is trying to be set on a copy of a slice from a DataFrame.\n",
      "Try using .loc[row_indexer,col_indexer] = value instead\n",
      "\n",
      "See the caveats in the documentation: https://pandas.pydata.org/pandas-docs/stable/user_guide/indexing.html#returning-a-view-versus-a-copy\n",
      "\n",
      "C:\\Users\\cday\\AppData\\Local\\Temp\\ipykernel_35544\\4265422110.py:23: SettingWithCopyWarning:\n",
      "\n",
      "\n",
      "A value is trying to be set on a copy of a slice from a DataFrame.\n",
      "Try using .loc[row_indexer,col_indexer] = value instead\n",
      "\n",
      "See the caveats in the documentation: https://pandas.pydata.org/pandas-docs/stable/user_guide/indexing.html#returning-a-view-versus-a-copy\n",
      "\n",
      "C:\\Users\\cday\\AppData\\Local\\Temp\\ipykernel_35544\\4265422110.py:22: SettingWithCopyWarning:\n",
      "\n",
      "\n",
      "A value is trying to be set on a copy of a slice from a DataFrame.\n",
      "Try using .loc[row_indexer,col_indexer] = value instead\n",
      "\n",
      "See the caveats in the documentation: https://pandas.pydata.org/pandas-docs/stable/user_guide/indexing.html#returning-a-view-versus-a-copy\n",
      "\n",
      "C:\\Users\\cday\\AppData\\Local\\Temp\\ipykernel_35544\\4265422110.py:23: SettingWithCopyWarning:\n",
      "\n",
      "\n",
      "A value is trying to be set on a copy of a slice from a DataFrame.\n",
      "Try using .loc[row_indexer,col_indexer] = value instead\n",
      "\n",
      "See the caveats in the documentation: https://pandas.pydata.org/pandas-docs/stable/user_guide/indexing.html#returning-a-view-versus-a-copy\n",
      "\n"
     ]
    },
    {
     "data": {
      "text/html": [
       "<div>\n",
       "<style scoped>\n",
       "    .dataframe tbody tr th:only-of-type {\n",
       "        vertical-align: middle;\n",
       "    }\n",
       "\n",
       "    .dataframe tbody tr th {\n",
       "        vertical-align: top;\n",
       "    }\n",
       "\n",
       "    .dataframe thead th {\n",
       "        text-align: right;\n",
       "    }\n",
       "</style>\n",
       "<table border=\"1\" class=\"dataframe\">\n",
       "  <thead>\n",
       "    <tr style=\"text-align: right;\">\n",
       "      <th></th>\n",
       "      <th>Source</th>\n",
       "      <th>station</th>\n",
       "      <th>AccessMode</th>\n",
       "      <th>Brd_PA</th>\n",
       "      <th>Brd_Direct_PA</th>\n",
       "      <th>Brd_Transfer_PA</th>\n",
       "      <th>Alt_PA</th>\n",
       "      <th>Alt_Direct_PA</th>\n",
       "      <th>Alt_Transfer_PA</th>\n",
       "    </tr>\n",
       "  </thead>\n",
       "  <tbody>\n",
       "    <tr>\n",
       "      <th>0</th>\n",
       "      <td>OBS</td>\n",
       "      <td>01-PROVO CENTRAL STATION</td>\n",
       "      <td>drive</td>\n",
       "      <td>2283.379</td>\n",
       "      <td>NaN</td>\n",
       "      <td>NaN</td>\n",
       "      <td>1516.140</td>\n",
       "      <td>NaN</td>\n",
       "      <td>NaN</td>\n",
       "    </tr>\n",
       "    <tr>\n",
       "      <th>1</th>\n",
       "      <td>OBS</td>\n",
       "      <td>01-PROVO CENTRAL STATION</td>\n",
       "      <td>walk</td>\n",
       "      <td>945.908</td>\n",
       "      <td>NaN</td>\n",
       "      <td>NaN</td>\n",
       "      <td>461.403</td>\n",
       "      <td>NaN</td>\n",
       "      <td>NaN</td>\n",
       "    </tr>\n",
       "    <tr>\n",
       "      <th>0</th>\n",
       "      <td>OBS</td>\n",
       "      <td>02-OREM CENTRAL STATION</td>\n",
       "      <td>drive</td>\n",
       "      <td>1475.024</td>\n",
       "      <td>NaN</td>\n",
       "      <td>NaN</td>\n",
       "      <td>1250.758</td>\n",
       "      <td>NaN</td>\n",
       "      <td>NaN</td>\n",
       "    </tr>\n",
       "    <tr>\n",
       "      <th>1</th>\n",
       "      <td>OBS</td>\n",
       "      <td>02-OREM CENTRAL STATION</td>\n",
       "      <td>walk</td>\n",
       "      <td>371.804</td>\n",
       "      <td>NaN</td>\n",
       "      <td>NaN</td>\n",
       "      <td>517.147</td>\n",
       "      <td>NaN</td>\n",
       "      <td>NaN</td>\n",
       "    </tr>\n",
       "    <tr>\n",
       "      <th>0</th>\n",
       "      <td>OBS</td>\n",
       "      <td>03-AMERICAN FORK STATION</td>\n",
       "      <td>drive</td>\n",
       "      <td>1423.768</td>\n",
       "      <td>NaN</td>\n",
       "      <td>NaN</td>\n",
       "      <td>196.438</td>\n",
       "      <td>NaN</td>\n",
       "      <td>NaN</td>\n",
       "    </tr>\n",
       "    <tr>\n",
       "      <th>1</th>\n",
       "      <td>OBS</td>\n",
       "      <td>03-AMERICAN FORK STATION</td>\n",
       "      <td>walk</td>\n",
       "      <td>136.077</td>\n",
       "      <td>NaN</td>\n",
       "      <td>NaN</td>\n",
       "      <td>42.695</td>\n",
       "      <td>NaN</td>\n",
       "      <td>NaN</td>\n",
       "    </tr>\n",
       "    <tr>\n",
       "      <th>0</th>\n",
       "      <td>OBS</td>\n",
       "      <td>04-LEHI STATION</td>\n",
       "      <td>drive</td>\n",
       "      <td>1128.372</td>\n",
       "      <td>NaN</td>\n",
       "      <td>NaN</td>\n",
       "      <td>840.776</td>\n",
       "      <td>NaN</td>\n",
       "      <td>NaN</td>\n",
       "    </tr>\n",
       "    <tr>\n",
       "      <th>1</th>\n",
       "      <td>OBS</td>\n",
       "      <td>04-LEHI STATION</td>\n",
       "      <td>walk</td>\n",
       "      <td>292.189</td>\n",
       "      <td>NaN</td>\n",
       "      <td>NaN</td>\n",
       "      <td>601.633</td>\n",
       "      <td>NaN</td>\n",
       "      <td>NaN</td>\n",
       "    </tr>\n",
       "    <tr>\n",
       "      <th>0</th>\n",
       "      <td>OBS</td>\n",
       "      <td>05-DRAPER STATION</td>\n",
       "      <td>drive</td>\n",
       "      <td>935.648</td>\n",
       "      <td>NaN</td>\n",
       "      <td>NaN</td>\n",
       "      <td>632.764</td>\n",
       "      <td>NaN</td>\n",
       "      <td>NaN</td>\n",
       "    </tr>\n",
       "    <tr>\n",
       "      <th>1</th>\n",
       "      <td>OBS</td>\n",
       "      <td>05-DRAPER STATION</td>\n",
       "      <td>walk</td>\n",
       "      <td>144.648</td>\n",
       "      <td>NaN</td>\n",
       "      <td>NaN</td>\n",
       "      <td>406.431</td>\n",
       "      <td>NaN</td>\n",
       "      <td>NaN</td>\n",
       "    </tr>\n",
       "    <tr>\n",
       "      <th>0</th>\n",
       "      <td>OBS</td>\n",
       "      <td>06-SOUTH JORDAN STATION</td>\n",
       "      <td>drive</td>\n",
       "      <td>985.477</td>\n",
       "      <td>NaN</td>\n",
       "      <td>NaN</td>\n",
       "      <td>585.873</td>\n",
       "      <td>NaN</td>\n",
       "      <td>NaN</td>\n",
       "    </tr>\n",
       "    <tr>\n",
       "      <th>1</th>\n",
       "      <td>OBS</td>\n",
       "      <td>06-SOUTH JORDAN STATION</td>\n",
       "      <td>walk</td>\n",
       "      <td>206.560</td>\n",
       "      <td>NaN</td>\n",
       "      <td>NaN</td>\n",
       "      <td>413.132</td>\n",
       "      <td>NaN</td>\n",
       "      <td>NaN</td>\n",
       "    </tr>\n",
       "    <tr>\n",
       "      <th>0</th>\n",
       "      <td>OBS</td>\n",
       "      <td>07-MURRAY CENTRAL STATION</td>\n",
       "      <td>drive</td>\n",
       "      <td>1029.668</td>\n",
       "      <td>NaN</td>\n",
       "      <td>NaN</td>\n",
       "      <td>1634.276</td>\n",
       "      <td>NaN</td>\n",
       "      <td>NaN</td>\n",
       "    </tr>\n",
       "    <tr>\n",
       "      <th>1</th>\n",
       "      <td>OBS</td>\n",
       "      <td>07-MURRAY CENTRAL STATION</td>\n",
       "      <td>walk</td>\n",
       "      <td>805.649</td>\n",
       "      <td>NaN</td>\n",
       "      <td>NaN</td>\n",
       "      <td>483.486</td>\n",
       "      <td>NaN</td>\n",
       "      <td>NaN</td>\n",
       "    </tr>\n",
       "    <tr>\n",
       "      <th>0</th>\n",
       "      <td>OBS</td>\n",
       "      <td>08-SALT LAKE CENTRAL STATION</td>\n",
       "      <td>drive</td>\n",
       "      <td>367.738</td>\n",
       "      <td>NaN</td>\n",
       "      <td>NaN</td>\n",
       "      <td>2121.864</td>\n",
       "      <td>NaN</td>\n",
       "      <td>NaN</td>\n",
       "    </tr>\n",
       "    <tr>\n",
       "      <th>1</th>\n",
       "      <td>OBS</td>\n",
       "      <td>08-SALT LAKE CENTRAL STATION</td>\n",
       "      <td>walk</td>\n",
       "      <td>529.444</td>\n",
       "      <td>NaN</td>\n",
       "      <td>NaN</td>\n",
       "      <td>607.543</td>\n",
       "      <td>NaN</td>\n",
       "      <td>NaN</td>\n",
       "    </tr>\n",
       "    <tr>\n",
       "      <th>0</th>\n",
       "      <td>OBS</td>\n",
       "      <td>09-NORTH TEMPLE STATION</td>\n",
       "      <td>drive</td>\n",
       "      <td>335.673</td>\n",
       "      <td>NaN</td>\n",
       "      <td>NaN</td>\n",
       "      <td>4452.302</td>\n",
       "      <td>NaN</td>\n",
       "      <td>NaN</td>\n",
       "    </tr>\n",
       "    <tr>\n",
       "      <th>1</th>\n",
       "      <td>OBS</td>\n",
       "      <td>09-NORTH TEMPLE STATION</td>\n",
       "      <td>walk</td>\n",
       "      <td>661.147</td>\n",
       "      <td>NaN</td>\n",
       "      <td>NaN</td>\n",
       "      <td>1069.411</td>\n",
       "      <td>NaN</td>\n",
       "      <td>NaN</td>\n",
       "    </tr>\n",
       "    <tr>\n",
       "      <th>0</th>\n",
       "      <td>OBS</td>\n",
       "      <td>10-WOODS CROSS STATION</td>\n",
       "      <td>drive</td>\n",
       "      <td>594.331</td>\n",
       "      <td>NaN</td>\n",
       "      <td>NaN</td>\n",
       "      <td>241.299</td>\n",
       "      <td>NaN</td>\n",
       "      <td>NaN</td>\n",
       "    </tr>\n",
       "    <tr>\n",
       "      <th>1</th>\n",
       "      <td>OBS</td>\n",
       "      <td>10-WOODS CROSS STATION</td>\n",
       "      <td>walk</td>\n",
       "      <td>173.169</td>\n",
       "      <td>NaN</td>\n",
       "      <td>NaN</td>\n",
       "      <td>115.237</td>\n",
       "      <td>NaN</td>\n",
       "      <td>NaN</td>\n",
       "    </tr>\n",
       "    <tr>\n",
       "      <th>0</th>\n",
       "      <td>OBS</td>\n",
       "      <td>11-FARMINGTON STATION</td>\n",
       "      <td>drive</td>\n",
       "      <td>385.481</td>\n",
       "      <td>NaN</td>\n",
       "      <td>NaN</td>\n",
       "      <td>217.308</td>\n",
       "      <td>NaN</td>\n",
       "      <td>NaN</td>\n",
       "    </tr>\n",
       "    <tr>\n",
       "      <th>1</th>\n",
       "      <td>OBS</td>\n",
       "      <td>11-FARMINGTON STATION</td>\n",
       "      <td>walk</td>\n",
       "      <td>120.055</td>\n",
       "      <td>NaN</td>\n",
       "      <td>NaN</td>\n",
       "      <td>175.795</td>\n",
       "      <td>NaN</td>\n",
       "      <td>NaN</td>\n",
       "    </tr>\n",
       "    <tr>\n",
       "      <th>0</th>\n",
       "      <td>OBS</td>\n",
       "      <td>12-LAYTON STATION</td>\n",
       "      <td>drive</td>\n",
       "      <td>1113.116</td>\n",
       "      <td>NaN</td>\n",
       "      <td>NaN</td>\n",
       "      <td>187.285</td>\n",
       "      <td>NaN</td>\n",
       "      <td>NaN</td>\n",
       "    </tr>\n",
       "    <tr>\n",
       "      <th>1</th>\n",
       "      <td>OBS</td>\n",
       "      <td>12-LAYTON STATION</td>\n",
       "      <td>walk</td>\n",
       "      <td>384.134</td>\n",
       "      <td>NaN</td>\n",
       "      <td>NaN</td>\n",
       "      <td>144.004</td>\n",
       "      <td>NaN</td>\n",
       "      <td>NaN</td>\n",
       "    </tr>\n",
       "    <tr>\n",
       "      <th>0</th>\n",
       "      <td>OBS</td>\n",
       "      <td>13-CLEARFIELD STATION</td>\n",
       "      <td>drive</td>\n",
       "      <td>745.345</td>\n",
       "      <td>NaN</td>\n",
       "      <td>NaN</td>\n",
       "      <td>359.910</td>\n",
       "      <td>NaN</td>\n",
       "      <td>NaN</td>\n",
       "    </tr>\n",
       "    <tr>\n",
       "      <th>1</th>\n",
       "      <td>OBS</td>\n",
       "      <td>13-CLEARFIELD STATION</td>\n",
       "      <td>walk</td>\n",
       "      <td>238.296</td>\n",
       "      <td>NaN</td>\n",
       "      <td>NaN</td>\n",
       "      <td>143.831</td>\n",
       "      <td>NaN</td>\n",
       "      <td>NaN</td>\n",
       "    </tr>\n",
       "    <tr>\n",
       "      <th>0</th>\n",
       "      <td>OBS</td>\n",
       "      <td>14-ROY STATION</td>\n",
       "      <td>drive</td>\n",
       "      <td>699.224</td>\n",
       "      <td>NaN</td>\n",
       "      <td>NaN</td>\n",
       "      <td>87.846</td>\n",
       "      <td>NaN</td>\n",
       "      <td>NaN</td>\n",
       "    </tr>\n",
       "    <tr>\n",
       "      <th>1</th>\n",
       "      <td>OBS</td>\n",
       "      <td>14-ROY STATION</td>\n",
       "      <td>walk</td>\n",
       "      <td>168.575</td>\n",
       "      <td>NaN</td>\n",
       "      <td>NaN</td>\n",
       "      <td>75.079</td>\n",
       "      <td>NaN</td>\n",
       "      <td>NaN</td>\n",
       "    </tr>\n",
       "    <tr>\n",
       "      <th>0</th>\n",
       "      <td>OBS</td>\n",
       "      <td>15-OGDEN STATION</td>\n",
       "      <td>drive</td>\n",
       "      <td>1452.874</td>\n",
       "      <td>NaN</td>\n",
       "      <td>NaN</td>\n",
       "      <td>630.279</td>\n",
       "      <td>NaN</td>\n",
       "      <td>NaN</td>\n",
       "    </tr>\n",
       "    <tr>\n",
       "      <th>1</th>\n",
       "      <td>OBS</td>\n",
       "      <td>15-OGDEN STATION</td>\n",
       "      <td>walk</td>\n",
       "      <td>495.237</td>\n",
       "      <td>NaN</td>\n",
       "      <td>NaN</td>\n",
       "      <td>416.065</td>\n",
       "      <td>NaN</td>\n",
       "      <td>NaN</td>\n",
       "    </tr>\n",
       "  </tbody>\n",
       "</table>\n",
       "</div>"
      ],
      "text/plain": [
       "  Source                       station AccessMode    Brd_PA  Brd_Direct_PA  \\\n",
       "0    OBS      01-PROVO CENTRAL STATION      drive  2283.379            NaN   \n",
       "1    OBS      01-PROVO CENTRAL STATION       walk   945.908            NaN   \n",
       "0    OBS       02-OREM CENTRAL STATION      drive  1475.024            NaN   \n",
       "1    OBS       02-OREM CENTRAL STATION       walk   371.804            NaN   \n",
       "0    OBS      03-AMERICAN FORK STATION      drive  1423.768            NaN   \n",
       "1    OBS      03-AMERICAN FORK STATION       walk   136.077            NaN   \n",
       "0    OBS               04-LEHI STATION      drive  1128.372            NaN   \n",
       "1    OBS               04-LEHI STATION       walk   292.189            NaN   \n",
       "0    OBS             05-DRAPER STATION      drive   935.648            NaN   \n",
       "1    OBS             05-DRAPER STATION       walk   144.648            NaN   \n",
       "0    OBS       06-SOUTH JORDAN STATION      drive   985.477            NaN   \n",
       "1    OBS       06-SOUTH JORDAN STATION       walk   206.560            NaN   \n",
       "0    OBS     07-MURRAY CENTRAL STATION      drive  1029.668            NaN   \n",
       "1    OBS     07-MURRAY CENTRAL STATION       walk   805.649            NaN   \n",
       "0    OBS  08-SALT LAKE CENTRAL STATION      drive   367.738            NaN   \n",
       "1    OBS  08-SALT LAKE CENTRAL STATION       walk   529.444            NaN   \n",
       "0    OBS       09-NORTH TEMPLE STATION      drive   335.673            NaN   \n",
       "1    OBS       09-NORTH TEMPLE STATION       walk   661.147            NaN   \n",
       "0    OBS        10-WOODS CROSS STATION      drive   594.331            NaN   \n",
       "1    OBS        10-WOODS CROSS STATION       walk   173.169            NaN   \n",
       "0    OBS         11-FARMINGTON STATION      drive   385.481            NaN   \n",
       "1    OBS         11-FARMINGTON STATION       walk   120.055            NaN   \n",
       "0    OBS             12-LAYTON STATION      drive  1113.116            NaN   \n",
       "1    OBS             12-LAYTON STATION       walk   384.134            NaN   \n",
       "0    OBS         13-CLEARFIELD STATION      drive   745.345            NaN   \n",
       "1    OBS         13-CLEARFIELD STATION       walk   238.296            NaN   \n",
       "0    OBS                14-ROY STATION      drive   699.224            NaN   \n",
       "1    OBS                14-ROY STATION       walk   168.575            NaN   \n",
       "0    OBS              15-OGDEN STATION      drive  1452.874            NaN   \n",
       "1    OBS              15-OGDEN STATION       walk   495.237            NaN   \n",
       "\n",
       "   Brd_Transfer_PA    Alt_PA  Alt_Direct_PA  Alt_Transfer_PA  \n",
       "0              NaN  1516.140            NaN              NaN  \n",
       "1              NaN   461.403            NaN              NaN  \n",
       "0              NaN  1250.758            NaN              NaN  \n",
       "1              NaN   517.147            NaN              NaN  \n",
       "0              NaN   196.438            NaN              NaN  \n",
       "1              NaN    42.695            NaN              NaN  \n",
       "0              NaN   840.776            NaN              NaN  \n",
       "1              NaN   601.633            NaN              NaN  \n",
       "0              NaN   632.764            NaN              NaN  \n",
       "1              NaN   406.431            NaN              NaN  \n",
       "0              NaN   585.873            NaN              NaN  \n",
       "1              NaN   413.132            NaN              NaN  \n",
       "0              NaN  1634.276            NaN              NaN  \n",
       "1              NaN   483.486            NaN              NaN  \n",
       "0              NaN  2121.864            NaN              NaN  \n",
       "1              NaN   607.543            NaN              NaN  \n",
       "0              NaN  4452.302            NaN              NaN  \n",
       "1              NaN  1069.411            NaN              NaN  \n",
       "0              NaN   241.299            NaN              NaN  \n",
       "1              NaN   115.237            NaN              NaN  \n",
       "0              NaN   217.308            NaN              NaN  \n",
       "1              NaN   175.795            NaN              NaN  \n",
       "0              NaN   187.285            NaN              NaN  \n",
       "1              NaN   144.004            NaN              NaN  \n",
       "0              NaN   359.910            NaN              NaN  \n",
       "1              NaN   143.831            NaN              NaN  \n",
       "0              NaN    87.846            NaN              NaN  \n",
       "1              NaN    75.079            NaN              NaN  \n",
       "0              NaN   630.279            NaN              NaN  \n",
       "1              NaN   416.065            NaN              NaN  "
      ]
     },
     "metadata": {},
     "output_type": "display_data"
    }
   ],
   "source": [
    "obsSum = []\n",
    "obsUngrouped = []\n",
    "stops = ['stop_on','stop_off']\n",
    "obsStations = df_stations2['station'].values.tolist()\n",
    "\n",
    "len(obsStations)\n",
    "for i in range(len(obsStations)):\n",
    "    (stationSum, stationUngrouped) = calculate_on_station_obs(df_obs_data, dfOBSMeltWide, stops, df_stations2['station'].values[i],  df_stations2['Lat'].values[i], df_stations2['Lon'].values[i])\n",
    "    obsSum.append(stationSum)\n",
    "    obsUngrouped.append(stationUngrouped)\n",
    "dfObsSum = pd.concat(obsSum)\n",
    "dfUngrouped = pd.concat(obsUngrouped)\n",
    "\n",
    "# finalize columns\n",
    "dfObsSum['Source'] = 'OBS'\n",
    "dfObsSum['Brd_Direct_PA']   = np.nan\n",
    "dfObsSum['Brd_Transfer_PA'] = np.nan\n",
    "dfObsSum['Alt_Direct_PA']   = np.nan\n",
    "dfObsSum['Alt_Transfer_PA'] = np.nan\n",
    "\n",
    "dfObsSum['AccessMode'] = dfObsSum['AccessMode'].replace({'Walk': 'walk', 'Drive': 'drive'})\n",
    "dfObsSum = dfObsSum[['Source','station','AccessMode','Brd_PA','Brd_Direct_PA','Brd_Transfer_PA','Alt_PA','Alt_Direct_PA','Alt_Transfer_PA']]\n",
    "display(dfObsSum)"
   ]
  },
  {
   "cell_type": "code",
   "execution_count": 24,
   "metadata": {},
   "outputs": [],
   "source": [
    "dfUngrouped.to_csv(\"_data/base_observed_ungrouped_pa.csv\", index=False)"
   ]
  },
  {
   "cell_type": "markdown",
   "metadata": {},
   "source": [
    "### Comparison of TDM and OBS"
   ]
  },
  {
   "cell_type": "code",
   "execution_count": 13,
   "metadata": {},
   "outputs": [],
   "source": [
    "df_final_pa = pd.concat([dfObsSum,df_ridsum_pa],ignore_index=True)\n",
    "df_final_pa.to_csv(\"_data/base_observed_summary_pa.csv\")"
   ]
  },
  {
   "cell_type": "code",
   "execution_count": 14,
   "metadata": {},
   "outputs": [],
   "source": [
    "def calculate_percent_difference(observed, ttdm):\n",
    "    return ((observed - ttdm) / ttdm) * 100\n",
    "\n",
    "def plotit(variable, access_mode, view_option):\n",
    "    output.clear_output()  # Clear previous output before displaying new content\n",
    "    global firstTime\n",
    "    if firstTime:\n",
    "    \n",
    "        # Filter or aggregate data based on access_mode\n",
    "        if access_mode == 'All':\n",
    "            filtered_data = df_final_pa\n",
    "        else:\n",
    "            filtered_data = df_final_pa[df_final_pa['AccessMode'] == access_mode]\n",
    "        \n",
    "        # Pivot the data to have separate columns for OBS and TDM\n",
    "        pivot_data = filtered_data.pivot_table(\n",
    "            index=['station'], \n",
    "            columns='Source', \n",
    "            values=variable, \n",
    "            aggfunc='sum'\n",
    "        ).reset_index()\n",
    "    \n",
    "        # Ensure proper column names for easier reference\n",
    "        pivot_data.columns = ['station', 'OBS', 'TDM']  # Adjust according to the 'Source' values (OBS and TDM)\n",
    "    \n",
    "        # Calculate the percent difference\n",
    "        pivot_data['Percent_Difference'] = calculate_percent_difference(pivot_data['OBS'], pivot_data['TDM'])\n",
    "    \n",
    "        # Display either the graph or the table based on view_option\n",
    "        if view_option == 'Graph':\n",
    "            # Create histogram\n",
    "            fig = px.histogram(\n",
    "                filtered_data, \n",
    "                x=\"station\", \n",
    "                y=variable, \n",
    "                text_auto='.2s',\n",
    "                color='Source', \n",
    "                barmode='group',\n",
    "                height=400\n",
    "            )\n",
    "            fig.update_layout(\n",
    "                xaxis_title=\"Station Name\",\n",
    "                yaxis_title=str(variable),\n",
    "                legend_title=\"Model Version\"\n",
    "            )\n",
    "            \n",
    "            # Display the plot\n",
    "            fig.show()\n",
    "    \n",
    "        elif view_option == 'Table':\n",
    "            # Display the table below the graph\n",
    "            table_fig = go.Figure(go.Table(\n",
    "                header=dict(values=[\"Station\", \"Observed\", \"TDM\", \"Percent Difference\"]),\n",
    "                cells=dict(values=[pivot_data['station'], pivot_data['OBS'], pivot_data['TDM'], pivot_data['Percent_Difference']])\n",
    "            ))\n",
    "        \n",
    "        # Display the table\n",
    "        table_fig.show()\n",
    "    \n",
    "    else:\n",
    "        firstTime = True"
   ]
  },
  {
   "cell_type": "code",
   "execution_count": 15,
   "metadata": {},
   "outputs": [
    {
     "data": {
      "application/vnd.jupyter.widget-view+json": {
       "model_id": "bde35927c0614d6685028a156272b762",
       "version_major": 2,
       "version_minor": 0
      },
      "text/plain": [
       "HBox(children=(Select(description='Select Variable', options=('Brd_PA', 'Brd_Direct_PA', 'Brd_Transfer_PA', 'A…"
      ]
     },
     "metadata": {},
     "output_type": "display_data"
    },
    {
     "data": {
      "application/vnd.jupyter.widget-view+json": {
       "model_id": "b055ec9546f24af9b0f9c2477d4c6bbe",
       "version_major": 2,
       "version_minor": 0
      },
      "text/plain": [
       "Output()"
      ]
     },
     "metadata": {},
     "output_type": "display_data"
    },
    {
     "data": {
      "application/vnd.plotly.v1+json": {
       "config": {
        "plotlyServerURL": "https://plot.ly"
       },
       "data": [
        {
         "alignmentgroup": "True",
         "bingroup": "x",
         "histfunc": "sum",
         "hovertemplate": "Source=OBS<br>station=%{x}<br>sum of Brd_PA=%{y}<extra></extra>",
         "legendgroup": "OBS",
         "marker": {
          "color": "#636efa",
          "pattern": {
           "shape": ""
          }
         },
         "name": "OBS",
         "offsetgroup": "OBS",
         "orientation": "v",
         "showlegend": true,
         "texttemplate": "%{value:.2s}",
         "type": "histogram",
         "x": [
          "01-PROVO CENTRAL STATION",
          "02-OREM CENTRAL STATION",
          "03-AMERICAN FORK STATION",
          "04-LEHI STATION",
          "05-DRAPER STATION",
          "06-SOUTH JORDAN STATION",
          "07-MURRAY CENTRAL STATION",
          "08-SALT LAKE CENTRAL STATION",
          "09-NORTH TEMPLE STATION",
          "10-WOODS CROSS STATION",
          "11-FARMINGTON STATION",
          "12-LAYTON STATION",
          "13-CLEARFIELD STATION",
          "14-ROY STATION",
          "15-OGDEN STATION"
         ],
         "xaxis": "x",
         "y": [
          2283.379,
          1475.024,
          1423.768,
          1128.372,
          935.648,
          985.477,
          1029.6680000000001,
          367.738,
          335.673,
          594.331,
          385.481,
          1113.116,
          745.345,
          699.224,
          1452.874
         ],
         "yaxis": "y"
        },
        {
         "alignmentgroup": "True",
         "bingroup": "x",
         "histfunc": "sum",
         "hovertemplate": "Source=TDM<br>station=%{x}<br>sum of Brd_PA=%{y}<extra></extra>",
         "legendgroup": "TDM",
         "marker": {
          "color": "#EF553B",
          "pattern": {
           "shape": ""
          }
         },
         "name": "TDM",
         "offsetgroup": "TDM",
         "orientation": "v",
         "showlegend": true,
         "texttemplate": "%{value:.2s}",
         "type": "histogram",
         "x": [
          "01-PROVO CENTRAL STATION",
          "02-OREM CENTRAL STATION",
          "03-AMERICAN FORK STATION",
          "04-LEHI STATION",
          "05-DRAPER STATION",
          "06-SOUTH JORDAN STATION",
          "07-MURRAY CENTRAL STATION",
          "08-SALT LAKE CENTRAL STATION",
          "09-NORTH TEMPLE STATION",
          "10-WOODS CROSS STATION",
          "11-FARMINGTON STATION",
          "12-LAYTON STATION",
          "13-CLEARFIELD STATION",
          "14-ROY STATION",
          "15-OGDEN STATION"
         ],
         "xaxis": "x",
         "y": [
          211.96,
          1121.42,
          1518.54,
          1304.19,
          1109.81,
          1353.0700000000002,
          786.39,
          149.31,
          74.4,
          948.0800000000002,
          426.77,
          877.27,
          701.3100000000001,
          1009.26,
          567.84
         ],
         "yaxis": "y"
        }
       ],
       "layout": {
        "barmode": "group",
        "height": 400,
        "legend": {
         "title": {
          "text": "Model Version"
         },
         "tracegroupgap": 0
        },
        "margin": {
         "t": 60
        },
        "template": {
         "data": {
          "bar": [
           {
            "error_x": {
             "color": "#2a3f5f"
            },
            "error_y": {
             "color": "#2a3f5f"
            },
            "marker": {
             "line": {
              "color": "#E5ECF6",
              "width": 0.5
             },
             "pattern": {
              "fillmode": "overlay",
              "size": 10,
              "solidity": 0.2
             }
            },
            "type": "bar"
           }
          ],
          "barpolar": [
           {
            "marker": {
             "line": {
              "color": "#E5ECF6",
              "width": 0.5
             },
             "pattern": {
              "fillmode": "overlay",
              "size": 10,
              "solidity": 0.2
             }
            },
            "type": "barpolar"
           }
          ],
          "carpet": [
           {
            "aaxis": {
             "endlinecolor": "#2a3f5f",
             "gridcolor": "white",
             "linecolor": "white",
             "minorgridcolor": "white",
             "startlinecolor": "#2a3f5f"
            },
            "baxis": {
             "endlinecolor": "#2a3f5f",
             "gridcolor": "white",
             "linecolor": "white",
             "minorgridcolor": "white",
             "startlinecolor": "#2a3f5f"
            },
            "type": "carpet"
           }
          ],
          "choropleth": [
           {
            "colorbar": {
             "outlinewidth": 0,
             "ticks": ""
            },
            "type": "choropleth"
           }
          ],
          "contour": [
           {
            "colorbar": {
             "outlinewidth": 0,
             "ticks": ""
            },
            "colorscale": [
             [
              0,
              "#0d0887"
             ],
             [
              0.1111111111111111,
              "#46039f"
             ],
             [
              0.2222222222222222,
              "#7201a8"
             ],
             [
              0.3333333333333333,
              "#9c179e"
             ],
             [
              0.4444444444444444,
              "#bd3786"
             ],
             [
              0.5555555555555556,
              "#d8576b"
             ],
             [
              0.6666666666666666,
              "#ed7953"
             ],
             [
              0.7777777777777778,
              "#fb9f3a"
             ],
             [
              0.8888888888888888,
              "#fdca26"
             ],
             [
              1,
              "#f0f921"
             ]
            ],
            "type": "contour"
           }
          ],
          "contourcarpet": [
           {
            "colorbar": {
             "outlinewidth": 0,
             "ticks": ""
            },
            "type": "contourcarpet"
           }
          ],
          "heatmap": [
           {
            "colorbar": {
             "outlinewidth": 0,
             "ticks": ""
            },
            "colorscale": [
             [
              0,
              "#0d0887"
             ],
             [
              0.1111111111111111,
              "#46039f"
             ],
             [
              0.2222222222222222,
              "#7201a8"
             ],
             [
              0.3333333333333333,
              "#9c179e"
             ],
             [
              0.4444444444444444,
              "#bd3786"
             ],
             [
              0.5555555555555556,
              "#d8576b"
             ],
             [
              0.6666666666666666,
              "#ed7953"
             ],
             [
              0.7777777777777778,
              "#fb9f3a"
             ],
             [
              0.8888888888888888,
              "#fdca26"
             ],
             [
              1,
              "#f0f921"
             ]
            ],
            "type": "heatmap"
           }
          ],
          "heatmapgl": [
           {
            "colorbar": {
             "outlinewidth": 0,
             "ticks": ""
            },
            "colorscale": [
             [
              0,
              "#0d0887"
             ],
             [
              0.1111111111111111,
              "#46039f"
             ],
             [
              0.2222222222222222,
              "#7201a8"
             ],
             [
              0.3333333333333333,
              "#9c179e"
             ],
             [
              0.4444444444444444,
              "#bd3786"
             ],
             [
              0.5555555555555556,
              "#d8576b"
             ],
             [
              0.6666666666666666,
              "#ed7953"
             ],
             [
              0.7777777777777778,
              "#fb9f3a"
             ],
             [
              0.8888888888888888,
              "#fdca26"
             ],
             [
              1,
              "#f0f921"
             ]
            ],
            "type": "heatmapgl"
           }
          ],
          "histogram": [
           {
            "marker": {
             "pattern": {
              "fillmode": "overlay",
              "size": 10,
              "solidity": 0.2
             }
            },
            "type": "histogram"
           }
          ],
          "histogram2d": [
           {
            "colorbar": {
             "outlinewidth": 0,
             "ticks": ""
            },
            "colorscale": [
             [
              0,
              "#0d0887"
             ],
             [
              0.1111111111111111,
              "#46039f"
             ],
             [
              0.2222222222222222,
              "#7201a8"
             ],
             [
              0.3333333333333333,
              "#9c179e"
             ],
             [
              0.4444444444444444,
              "#bd3786"
             ],
             [
              0.5555555555555556,
              "#d8576b"
             ],
             [
              0.6666666666666666,
              "#ed7953"
             ],
             [
              0.7777777777777778,
              "#fb9f3a"
             ],
             [
              0.8888888888888888,
              "#fdca26"
             ],
             [
              1,
              "#f0f921"
             ]
            ],
            "type": "histogram2d"
           }
          ],
          "histogram2dcontour": [
           {
            "colorbar": {
             "outlinewidth": 0,
             "ticks": ""
            },
            "colorscale": [
             [
              0,
              "#0d0887"
             ],
             [
              0.1111111111111111,
              "#46039f"
             ],
             [
              0.2222222222222222,
              "#7201a8"
             ],
             [
              0.3333333333333333,
              "#9c179e"
             ],
             [
              0.4444444444444444,
              "#bd3786"
             ],
             [
              0.5555555555555556,
              "#d8576b"
             ],
             [
              0.6666666666666666,
              "#ed7953"
             ],
             [
              0.7777777777777778,
              "#fb9f3a"
             ],
             [
              0.8888888888888888,
              "#fdca26"
             ],
             [
              1,
              "#f0f921"
             ]
            ],
            "type": "histogram2dcontour"
           }
          ],
          "mesh3d": [
           {
            "colorbar": {
             "outlinewidth": 0,
             "ticks": ""
            },
            "type": "mesh3d"
           }
          ],
          "parcoords": [
           {
            "line": {
             "colorbar": {
              "outlinewidth": 0,
              "ticks": ""
             }
            },
            "type": "parcoords"
           }
          ],
          "pie": [
           {
            "automargin": true,
            "type": "pie"
           }
          ],
          "scatter": [
           {
            "fillpattern": {
             "fillmode": "overlay",
             "size": 10,
             "solidity": 0.2
            },
            "type": "scatter"
           }
          ],
          "scatter3d": [
           {
            "line": {
             "colorbar": {
              "outlinewidth": 0,
              "ticks": ""
             }
            },
            "marker": {
             "colorbar": {
              "outlinewidth": 0,
              "ticks": ""
             }
            },
            "type": "scatter3d"
           }
          ],
          "scattercarpet": [
           {
            "marker": {
             "colorbar": {
              "outlinewidth": 0,
              "ticks": ""
             }
            },
            "type": "scattercarpet"
           }
          ],
          "scattergeo": [
           {
            "marker": {
             "colorbar": {
              "outlinewidth": 0,
              "ticks": ""
             }
            },
            "type": "scattergeo"
           }
          ],
          "scattergl": [
           {
            "marker": {
             "colorbar": {
              "outlinewidth": 0,
              "ticks": ""
             }
            },
            "type": "scattergl"
           }
          ],
          "scattermapbox": [
           {
            "marker": {
             "colorbar": {
              "outlinewidth": 0,
              "ticks": ""
             }
            },
            "type": "scattermapbox"
           }
          ],
          "scatterpolar": [
           {
            "marker": {
             "colorbar": {
              "outlinewidth": 0,
              "ticks": ""
             }
            },
            "type": "scatterpolar"
           }
          ],
          "scatterpolargl": [
           {
            "marker": {
             "colorbar": {
              "outlinewidth": 0,
              "ticks": ""
             }
            },
            "type": "scatterpolargl"
           }
          ],
          "scatterternary": [
           {
            "marker": {
             "colorbar": {
              "outlinewidth": 0,
              "ticks": ""
             }
            },
            "type": "scatterternary"
           }
          ],
          "surface": [
           {
            "colorbar": {
             "outlinewidth": 0,
             "ticks": ""
            },
            "colorscale": [
             [
              0,
              "#0d0887"
             ],
             [
              0.1111111111111111,
              "#46039f"
             ],
             [
              0.2222222222222222,
              "#7201a8"
             ],
             [
              0.3333333333333333,
              "#9c179e"
             ],
             [
              0.4444444444444444,
              "#bd3786"
             ],
             [
              0.5555555555555556,
              "#d8576b"
             ],
             [
              0.6666666666666666,
              "#ed7953"
             ],
             [
              0.7777777777777778,
              "#fb9f3a"
             ],
             [
              0.8888888888888888,
              "#fdca26"
             ],
             [
              1,
              "#f0f921"
             ]
            ],
            "type": "surface"
           }
          ],
          "table": [
           {
            "cells": {
             "fill": {
              "color": "#EBF0F8"
             },
             "line": {
              "color": "white"
             }
            },
            "header": {
             "fill": {
              "color": "#C8D4E3"
             },
             "line": {
              "color": "white"
             }
            },
            "type": "table"
           }
          ]
         },
         "layout": {
          "annotationdefaults": {
           "arrowcolor": "#2a3f5f",
           "arrowhead": 0,
           "arrowwidth": 1
          },
          "autotypenumbers": "strict",
          "coloraxis": {
           "colorbar": {
            "outlinewidth": 0,
            "ticks": ""
           }
          },
          "colorscale": {
           "diverging": [
            [
             0,
             "#8e0152"
            ],
            [
             0.1,
             "#c51b7d"
            ],
            [
             0.2,
             "#de77ae"
            ],
            [
             0.3,
             "#f1b6da"
            ],
            [
             0.4,
             "#fde0ef"
            ],
            [
             0.5,
             "#f7f7f7"
            ],
            [
             0.6,
             "#e6f5d0"
            ],
            [
             0.7,
             "#b8e186"
            ],
            [
             0.8,
             "#7fbc41"
            ],
            [
             0.9,
             "#4d9221"
            ],
            [
             1,
             "#276419"
            ]
           ],
           "sequential": [
            [
             0,
             "#0d0887"
            ],
            [
             0.1111111111111111,
             "#46039f"
            ],
            [
             0.2222222222222222,
             "#7201a8"
            ],
            [
             0.3333333333333333,
             "#9c179e"
            ],
            [
             0.4444444444444444,
             "#bd3786"
            ],
            [
             0.5555555555555556,
             "#d8576b"
            ],
            [
             0.6666666666666666,
             "#ed7953"
            ],
            [
             0.7777777777777778,
             "#fb9f3a"
            ],
            [
             0.8888888888888888,
             "#fdca26"
            ],
            [
             1,
             "#f0f921"
            ]
           ],
           "sequentialminus": [
            [
             0,
             "#0d0887"
            ],
            [
             0.1111111111111111,
             "#46039f"
            ],
            [
             0.2222222222222222,
             "#7201a8"
            ],
            [
             0.3333333333333333,
             "#9c179e"
            ],
            [
             0.4444444444444444,
             "#bd3786"
            ],
            [
             0.5555555555555556,
             "#d8576b"
            ],
            [
             0.6666666666666666,
             "#ed7953"
            ],
            [
             0.7777777777777778,
             "#fb9f3a"
            ],
            [
             0.8888888888888888,
             "#fdca26"
            ],
            [
             1,
             "#f0f921"
            ]
           ]
          },
          "colorway": [
           "#636efa",
           "#EF553B",
           "#00cc96",
           "#ab63fa",
           "#FFA15A",
           "#19d3f3",
           "#FF6692",
           "#B6E880",
           "#FF97FF",
           "#FECB52"
          ],
          "font": {
           "color": "#2a3f5f"
          },
          "geo": {
           "bgcolor": "white",
           "lakecolor": "white",
           "landcolor": "#E5ECF6",
           "showlakes": true,
           "showland": true,
           "subunitcolor": "white"
          },
          "hoverlabel": {
           "align": "left"
          },
          "hovermode": "closest",
          "mapbox": {
           "style": "light"
          },
          "paper_bgcolor": "white",
          "plot_bgcolor": "#E5ECF6",
          "polar": {
           "angularaxis": {
            "gridcolor": "white",
            "linecolor": "white",
            "ticks": ""
           },
           "bgcolor": "#E5ECF6",
           "radialaxis": {
            "gridcolor": "white",
            "linecolor": "white",
            "ticks": ""
           }
          },
          "scene": {
           "xaxis": {
            "backgroundcolor": "#E5ECF6",
            "gridcolor": "white",
            "gridwidth": 2,
            "linecolor": "white",
            "showbackground": true,
            "ticks": "",
            "zerolinecolor": "white"
           },
           "yaxis": {
            "backgroundcolor": "#E5ECF6",
            "gridcolor": "white",
            "gridwidth": 2,
            "linecolor": "white",
            "showbackground": true,
            "ticks": "",
            "zerolinecolor": "white"
           },
           "zaxis": {
            "backgroundcolor": "#E5ECF6",
            "gridcolor": "white",
            "gridwidth": 2,
            "linecolor": "white",
            "showbackground": true,
            "ticks": "",
            "zerolinecolor": "white"
           }
          },
          "shapedefaults": {
           "line": {
            "color": "#2a3f5f"
           }
          },
          "ternary": {
           "aaxis": {
            "gridcolor": "white",
            "linecolor": "white",
            "ticks": ""
           },
           "baxis": {
            "gridcolor": "white",
            "linecolor": "white",
            "ticks": ""
           },
           "bgcolor": "#E5ECF6",
           "caxis": {
            "gridcolor": "white",
            "linecolor": "white",
            "ticks": ""
           }
          },
          "title": {
           "x": 0.05
          },
          "xaxis": {
           "automargin": true,
           "gridcolor": "white",
           "linecolor": "white",
           "ticks": "",
           "title": {
            "standoff": 15
           },
           "zerolinecolor": "white",
           "zerolinewidth": 2
          },
          "yaxis": {
           "automargin": true,
           "gridcolor": "white",
           "linecolor": "white",
           "ticks": "",
           "title": {
            "standoff": 15
           },
           "zerolinecolor": "white",
           "zerolinewidth": 2
          }
         }
        },
        "xaxis": {
         "anchor": "y",
         "domain": [
          0,
          1
         ],
         "title": {
          "text": "Station Name"
         }
        },
        "yaxis": {
         "anchor": "x",
         "domain": [
          0,
          1
         ],
         "title": {
          "text": "Brd_PA"
         }
        }
       }
      }
     },
     "metadata": {},
     "output_type": "display_data"
    },
    {
     "data": {
      "application/vnd.jupyter.widget-view+json": {
       "model_id": "e2b14e59182d4b02807bceb921186c8c",
       "version_major": 2,
       "version_minor": 0
      },
      "text/plain": [
       "Output()"
      ]
     },
     "metadata": {},
     "output_type": "display_data"
    }
   ],
   "source": [
    "lstValues = list(['Brd_PA','Brd_Direct_PA','Brd_Transfer_PA','Alt_PA','Alt_Direct_PA','ALt_Transfer_PA'])\n",
    "accessModeOptions = ['drive', 'walk', 'All']\n",
    "viewOptions = ['Graph', 'Table']\n",
    "\n",
    "selectValues = widgets.Select(options=lstValues, value=('Brd_PA' ), description = 'Select Variable')\n",
    "selectAccessMode = widgets.Dropdown(options=accessModeOptions, value='All', description='Access Mode')\n",
    "selectViewOption = widgets.Dropdown(options=viewOptions, value='Graph', description='View')\n",
    "\n",
    "\n",
    "# Set up a global variable to track whether the widgets have been changed\n",
    "firstTime = False\n",
    "\n",
    "# create output widget to display filtered DataFrame\n",
    "output = widgets.Output()\n",
    "hbox = widgets.HBox([selectValues, selectAccessMode, selectViewOption])\n",
    "\n",
    "# create interactive widget\n",
    "interactive_output = widgets.interactive_output(plotit, {'variable':selectValues, 'access_mode': selectAccessMode, 'view_option': selectViewOption})\n",
    "\n",
    "display(hbox)\n",
    "display(interactive_output)\n",
    "display(output)"
   ]
  },
  {
   "cell_type": "markdown",
   "metadata": {},
   "source": [
    "## OD DIRECTION"
   ]
  },
  {
   "cell_type": "markdown",
   "metadata": {},
   "source": [
    "### TDM Summary"
   ]
  },
  {
   "cell_type": "markdown",
   "metadata": {},
   "source": [
    "Convert the results from the PA table to OD format"
   ]
  },
  {
   "cell_type": "code",
   "execution_count": 103,
   "metadata": {},
   "outputs": [
    {
     "data": {
      "text/html": [
       "<div>\n",
       "<style scoped>\n",
       "    .dataframe tbody tr th:only-of-type {\n",
       "        vertical-align: middle;\n",
       "    }\n",
       "\n",
       "    .dataframe tbody tr th {\n",
       "        vertical-align: top;\n",
       "    }\n",
       "\n",
       "    .dataframe thead th {\n",
       "        text-align: right;\n",
       "    }\n",
       "</style>\n",
       "<table border=\"1\" class=\"dataframe\">\n",
       "  <thead>\n",
       "    <tr style=\"text-align: right;\">\n",
       "      <th></th>\n",
       "      <th>Source</th>\n",
       "      <th>station</th>\n",
       "      <th>AccessMode</th>\n",
       "      <th>Brd_OD</th>\n",
       "      <th>Brd_Direct_OD</th>\n",
       "      <th>Brd_Transfer_OD</th>\n",
       "    </tr>\n",
       "  </thead>\n",
       "  <tbody>\n",
       "    <tr>\n",
       "      <th>0</th>\n",
       "      <td>TDM</td>\n",
       "      <td>01-PROVO CENTRAL STATION</td>\n",
       "      <td>drive</td>\n",
       "      <td>369.385</td>\n",
       "      <td>143.410</td>\n",
       "      <td>225.975</td>\n",
       "    </tr>\n",
       "    <tr>\n",
       "      <th>1</th>\n",
       "      <td>TDM</td>\n",
       "      <td>02-OREM CENTRAL STATION</td>\n",
       "      <td>drive</td>\n",
       "      <td>1369.605</td>\n",
       "      <td>604.290</td>\n",
       "      <td>765.315</td>\n",
       "    </tr>\n",
       "    <tr>\n",
       "      <th>2</th>\n",
       "      <td>TDM</td>\n",
       "      <td>03-AMERICAN FORK STATION</td>\n",
       "      <td>drive</td>\n",
       "      <td>763.340</td>\n",
       "      <td>760.490</td>\n",
       "      <td>2.850</td>\n",
       "    </tr>\n",
       "    <tr>\n",
       "      <th>3</th>\n",
       "      <td>TDM</td>\n",
       "      <td>04-LEHI STATION</td>\n",
       "      <td>drive</td>\n",
       "      <td>772.105</td>\n",
       "      <td>731.290</td>\n",
       "      <td>40.815</td>\n",
       "    </tr>\n",
       "    <tr>\n",
       "      <th>4</th>\n",
       "      <td>TDM</td>\n",
       "      <td>05-DRAPER STATION</td>\n",
       "      <td>drive</td>\n",
       "      <td>607.625</td>\n",
       "      <td>605.030</td>\n",
       "      <td>2.595</td>\n",
       "    </tr>\n",
       "    <tr>\n",
       "      <th>5</th>\n",
       "      <td>TDM</td>\n",
       "      <td>06-SOUTH JORDAN STATION</td>\n",
       "      <td>drive</td>\n",
       "      <td>731.335</td>\n",
       "      <td>709.175</td>\n",
       "      <td>22.160</td>\n",
       "    </tr>\n",
       "    <tr>\n",
       "      <th>6</th>\n",
       "      <td>TDM</td>\n",
       "      <td>07-MURRAY CENTRAL STATION</td>\n",
       "      <td>drive</td>\n",
       "      <td>1675.570</td>\n",
       "      <td>515.815</td>\n",
       "      <td>1159.755</td>\n",
       "    </tr>\n",
       "    <tr>\n",
       "      <th>7</th>\n",
       "      <td>TDM</td>\n",
       "      <td>08-SALT LAKE CENTRAL STATION</td>\n",
       "      <td>drive</td>\n",
       "      <td>1316.510</td>\n",
       "      <td>261.350</td>\n",
       "      <td>1055.160</td>\n",
       "    </tr>\n",
       "    <tr>\n",
       "      <th>8</th>\n",
       "      <td>TDM</td>\n",
       "      <td>09-NORTH TEMPLE STATION</td>\n",
       "      <td>drive</td>\n",
       "      <td>1650.635</td>\n",
       "      <td>714.680</td>\n",
       "      <td>935.955</td>\n",
       "    </tr>\n",
       "    <tr>\n",
       "      <th>9</th>\n",
       "      <td>TDM</td>\n",
       "      <td>10-WOODS CROSS STATION</td>\n",
       "      <td>drive</td>\n",
       "      <td>519.235</td>\n",
       "      <td>488.605</td>\n",
       "      <td>30.630</td>\n",
       "    </tr>\n",
       "  </tbody>\n",
       "</table>\n",
       "</div>"
      ],
      "text/plain": [
       "  Source                       station AccessMode    Brd_OD  Brd_Direct_OD  \\\n",
       "0    TDM      01-PROVO CENTRAL STATION      drive   369.385        143.410   \n",
       "1    TDM       02-OREM CENTRAL STATION      drive  1369.605        604.290   \n",
       "2    TDM      03-AMERICAN FORK STATION      drive   763.340        760.490   \n",
       "3    TDM               04-LEHI STATION      drive   772.105        731.290   \n",
       "4    TDM             05-DRAPER STATION      drive   607.625        605.030   \n",
       "5    TDM       06-SOUTH JORDAN STATION      drive   731.335        709.175   \n",
       "6    TDM     07-MURRAY CENTRAL STATION      drive  1675.570        515.815   \n",
       "7    TDM  08-SALT LAKE CENTRAL STATION      drive  1316.510        261.350   \n",
       "8    TDM       09-NORTH TEMPLE STATION      drive  1650.635        714.680   \n",
       "9    TDM        10-WOODS CROSS STATION      drive   519.235        488.605   \n",
       "\n",
       "   Brd_Transfer_OD  \n",
       "0          225.975  \n",
       "1          765.315  \n",
       "2            2.850  \n",
       "3           40.815  \n",
       "4            2.595  \n",
       "5           22.160  \n",
       "6         1159.755  \n",
       "7         1055.160  \n",
       "8          935.955  \n",
       "9           30.630  "
      ]
     },
     "metadata": {},
     "output_type": "display_data"
    }
   ],
   "source": [
    "# group by Purpose, AccessMode, and station, then calculate aggregated values\n",
    "df_brdsum_od = (\n",
    "    df_ridsum_summary\n",
    "    .groupby([\"Purpose\", \"AccessMode\", \"station\"], as_index=False)\n",
    "    .agg(\n",
    "        BrdDy=(\"Brd_PA\", \"sum\"),\n",
    "        BrdDyDirect=(\"Brd_Direct_PA\", \"sum\"),\n",
    "        BrdDyTransfer=(\"Brd_Transfer_PA\", \"sum\"),\n",
    "        AltDy=(\"Alt_PA\", \"sum\"),\n",
    "        AltDyDirect=(\"Alt_Direct_PA\", \"sum\"),\n",
    "        AltDyTransfer=(\"Alt_Transfer_PA\", \"sum\")\n",
    "    )\n",
    ")\n",
    "\n",
    "# add calculated columns for OD metrics\n",
    "df_brdsum_od[\"Brd_OD\"] = (df_brdsum_od[\"BrdDy\"] + df_brdsum_od[\"AltDy\"]) / 2\n",
    "df_brdsum_od[\"Brd_Direct_OD\"] = (df_brdsum_od[\"BrdDyDirect\"] + df_brdsum_od[\"AltDyDirect\"]) / 2\n",
    "df_brdsum_od[\"Brd_Transfer_OD\"] = (df_brdsum_od[\"BrdDyTransfer\"] + df_brdsum_od[\"AltDyTransfer\"]) / 2\n",
    "\n",
    "# drop intermediate columns that are no longer needed\n",
    "df_brdsum_od = df_brdsum_od.drop(\n",
    "    columns=[\"BrdDy\", \"AltDy\", \"BrdDyDirect\", \"AltDyDirect\", \"BrdDyTransfer\", \"AltDyTransfer\"]\n",
    ")\n",
    "\n",
    "# add source\n",
    "df_brdsum_od['Source'] = 'TDM'\n",
    "\n",
    "# drop purpose\n",
    "df_brdsum_od = df_brdsum_od[['Source','station','AccessMode','Brd_OD','Brd_Direct_OD','Brd_Transfer_OD']]\n",
    "\n",
    "# Display the resulting DataFrame\n",
    "display(df_brdsum_od.head(10))"
   ]
  },
  {
   "attachments": {},
   "cell_type": "markdown",
   "metadata": {},
   "source": [
    "### OBS Summary"
   ]
  },
  {
   "cell_type": "code",
   "execution_count": 104,
   "metadata": {},
   "outputs": [],
   "source": [
    "transportCode = pd.DataFrame([\n",
    "    [1 , 'walk' ],\n",
    "    [2 , 'walk' ],\n",
    "    [3 , 'walk' ],\n",
    "    [4 , 'walk' ],\n",
    "    [5 , 'drive'],\n",
    "    [6 , 'drive'],\n",
    "    [7 , 'drive'],\n",
    "    [8 , 'drive'],\n",
    "    [9 , 'drive'],\n",
    "    [10, 'drive'],\n",
    "    [11, 'walk' ],\n",
    "    [12, 'drive'],\n",
    "    [13, 'drive'],\n",
    "    [14, 'walk' ],\n",
    "    [15, 'walk' ]\n",
    "], columns=['transportCode','AccessMode'])"
   ]
  },
  {
   "cell_type": "code",
   "execution_count": 105,
   "metadata": {},
   "outputs": [
    {
     "data": {
      "text/html": [
       "<div>\n",
       "<style scoped>\n",
       "    .dataframe tbody tr th:only-of-type {\n",
       "        vertical-align: middle;\n",
       "    }\n",
       "\n",
       "    .dataframe tbody tr th {\n",
       "        vertical-align: top;\n",
       "    }\n",
       "\n",
       "    .dataframe thead th {\n",
       "        text-align: right;\n",
       "    }\n",
       "</style>\n",
       "<table border=\"1\" class=\"dataframe\">\n",
       "  <thead>\n",
       "    <tr style=\"text-align: right;\">\n",
       "      <th></th>\n",
       "      <th>id</th>\n",
       "      <th>prev_transfers_code</th>\n",
       "      <th>next_transfers_code</th>\n",
       "      <th>unlinked_weight_adj</th>\n",
       "      <th>station_on</th>\n",
       "      <th>station_off</th>\n",
       "      <th>EgressMode</th>\n",
       "      <th>AccessMode</th>\n",
       "      <th>Direct_Access</th>\n",
       "      <th>Direct_Egress</th>\n",
       "    </tr>\n",
       "  </thead>\n",
       "  <tbody>\n",
       "    <tr>\n",
       "      <th>0</th>\n",
       "      <td>430.0</td>\n",
       "      <td>1.0</td>\n",
       "      <td>1.0</td>\n",
       "      <td>4.720</td>\n",
       "      <td>09-NORTH TEMPLE STATION</td>\n",
       "      <td>15-OGDEN STATION</td>\n",
       "      <td>walk</td>\n",
       "      <td>walk</td>\n",
       "      <td>N</td>\n",
       "      <td>N</td>\n",
       "    </tr>\n",
       "    <tr>\n",
       "      <th>1</th>\n",
       "      <td>434.0</td>\n",
       "      <td>1.0</td>\n",
       "      <td>0.0</td>\n",
       "      <td>4.720</td>\n",
       "      <td>09-NORTH TEMPLE STATION</td>\n",
       "      <td>14-ROY STATION</td>\n",
       "      <td>drive</td>\n",
       "      <td>walk</td>\n",
       "      <td>N</td>\n",
       "      <td>Y</td>\n",
       "    </tr>\n",
       "    <tr>\n",
       "      <th>2</th>\n",
       "      <td>435.0</td>\n",
       "      <td>0.0</td>\n",
       "      <td>0.0</td>\n",
       "      <td>4.073</td>\n",
       "      <td>02-OREM CENTRAL STATION</td>\n",
       "      <td>11-FARMINGTON STATION</td>\n",
       "      <td>drive</td>\n",
       "      <td>drive</td>\n",
       "      <td>Y</td>\n",
       "      <td>Y</td>\n",
       "    </tr>\n",
       "    <tr>\n",
       "      <th>3</th>\n",
       "      <td>436.0</td>\n",
       "      <td>1.0</td>\n",
       "      <td>0.0</td>\n",
       "      <td>4.720</td>\n",
       "      <td>09-NORTH TEMPLE STATION</td>\n",
       "      <td>15-OGDEN STATION</td>\n",
       "      <td>drive</td>\n",
       "      <td>walk</td>\n",
       "      <td>N</td>\n",
       "      <td>Y</td>\n",
       "    </tr>\n",
       "    <tr>\n",
       "      <th>4</th>\n",
       "      <td>744.0</td>\n",
       "      <td>0.0</td>\n",
       "      <td>0.0</td>\n",
       "      <td>5.194</td>\n",
       "      <td>14-ROY STATION</td>\n",
       "      <td>03-AMERICAN FORK STATION</td>\n",
       "      <td>drive</td>\n",
       "      <td>drive</td>\n",
       "      <td>Y</td>\n",
       "      <td>Y</td>\n",
       "    </tr>\n",
       "    <tr>\n",
       "      <th>...</th>\n",
       "      <td>...</td>\n",
       "      <td>...</td>\n",
       "      <td>...</td>\n",
       "      <td>...</td>\n",
       "      <td>...</td>\n",
       "      <td>...</td>\n",
       "      <td>...</td>\n",
       "      <td>...</td>\n",
       "      <td>...</td>\n",
       "      <td>...</td>\n",
       "    </tr>\n",
       "    <tr>\n",
       "      <th>1942</th>\n",
       "      <td>22722.0</td>\n",
       "      <td>1.0</td>\n",
       "      <td>0.0</td>\n",
       "      <td>11.951</td>\n",
       "      <td>08-SALT LAKE CENTRAL STATION</td>\n",
       "      <td>15-OGDEN STATION</td>\n",
       "      <td>drive</td>\n",
       "      <td>walk</td>\n",
       "      <td>N</td>\n",
       "      <td>Y</td>\n",
       "    </tr>\n",
       "    <tr>\n",
       "      <th>1943</th>\n",
       "      <td>22737.0</td>\n",
       "      <td>1.0</td>\n",
       "      <td>0.0</td>\n",
       "      <td>17.630</td>\n",
       "      <td>08-SALT LAKE CENTRAL STATION</td>\n",
       "      <td>10-WOODS CROSS STATION</td>\n",
       "      <td>drive</td>\n",
       "      <td>walk</td>\n",
       "      <td>N</td>\n",
       "      <td>Y</td>\n",
       "    </tr>\n",
       "    <tr>\n",
       "      <th>1944</th>\n",
       "      <td>22738.0</td>\n",
       "      <td>1.0</td>\n",
       "      <td>0.0</td>\n",
       "      <td>11.951</td>\n",
       "      <td>08-SALT LAKE CENTRAL STATION</td>\n",
       "      <td>13-CLEARFIELD STATION</td>\n",
       "      <td>drive</td>\n",
       "      <td>walk</td>\n",
       "      <td>N</td>\n",
       "      <td>Y</td>\n",
       "    </tr>\n",
       "    <tr>\n",
       "      <th>1945</th>\n",
       "      <td>22744.0</td>\n",
       "      <td>0.0</td>\n",
       "      <td>0.0</td>\n",
       "      <td>11.238</td>\n",
       "      <td>09-NORTH TEMPLE STATION</td>\n",
       "      <td>14-ROY STATION</td>\n",
       "      <td>drive</td>\n",
       "      <td>drive</td>\n",
       "      <td>Y</td>\n",
       "      <td>Y</td>\n",
       "    </tr>\n",
       "    <tr>\n",
       "      <th>1946</th>\n",
       "      <td>22745.0</td>\n",
       "      <td>1.0</td>\n",
       "      <td>0.0</td>\n",
       "      <td>11.951</td>\n",
       "      <td>08-SALT LAKE CENTRAL STATION</td>\n",
       "      <td>14-ROY STATION</td>\n",
       "      <td>walk</td>\n",
       "      <td>walk</td>\n",
       "      <td>N</td>\n",
       "      <td>Y</td>\n",
       "    </tr>\n",
       "  </tbody>\n",
       "</table>\n",
       "<p>1947 rows × 10 columns</p>\n",
       "</div>"
      ],
      "text/plain": [
       "           id  prev_transfers_code  next_transfers_code  unlinked_weight_adj  \\\n",
       "0       430.0                  1.0                  1.0                4.720   \n",
       "1       434.0                  1.0                  0.0                4.720   \n",
       "2       435.0                  0.0                  0.0                4.073   \n",
       "3       436.0                  1.0                  0.0                4.720   \n",
       "4       744.0                  0.0                  0.0                5.194   \n",
       "...       ...                  ...                  ...                  ...   \n",
       "1942  22722.0                  1.0                  0.0               11.951   \n",
       "1943  22737.0                  1.0                  0.0               17.630   \n",
       "1944  22738.0                  1.0                  0.0               11.951   \n",
       "1945  22744.0                  0.0                  0.0               11.238   \n",
       "1946  22745.0                  1.0                  0.0               11.951   \n",
       "\n",
       "                        station_on               station_off EgressMode  \\\n",
       "0          09-NORTH TEMPLE STATION          15-OGDEN STATION       walk   \n",
       "1          09-NORTH TEMPLE STATION            14-ROY STATION      drive   \n",
       "2          02-OREM CENTRAL STATION     11-FARMINGTON STATION      drive   \n",
       "3          09-NORTH TEMPLE STATION          15-OGDEN STATION      drive   \n",
       "4                   14-ROY STATION  03-AMERICAN FORK STATION      drive   \n",
       "...                            ...                       ...        ...   \n",
       "1942  08-SALT LAKE CENTRAL STATION          15-OGDEN STATION      drive   \n",
       "1943  08-SALT LAKE CENTRAL STATION    10-WOODS CROSS STATION      drive   \n",
       "1944  08-SALT LAKE CENTRAL STATION     13-CLEARFIELD STATION      drive   \n",
       "1945       09-NORTH TEMPLE STATION            14-ROY STATION      drive   \n",
       "1946  08-SALT LAKE CENTRAL STATION            14-ROY STATION       walk   \n",
       "\n",
       "     AccessMode Direct_Access Direct_Egress  \n",
       "0          walk             N             N  \n",
       "1          walk             N             Y  \n",
       "2         drive             Y             Y  \n",
       "3          walk             N             Y  \n",
       "4         drive             Y             Y  \n",
       "...         ...           ...           ...  \n",
       "1942       walk             N             Y  \n",
       "1943       walk             N             Y  \n",
       "1944       walk             N             Y  \n",
       "1945      drive             Y             Y  \n",
       "1946       walk             N             Y  \n",
       "\n",
       "[1947 rows x 10 columns]"
      ]
     },
     "execution_count": 105,
     "metadata": {},
     "output_type": "execute_result"
    }
   ],
   "source": [
    "# select columns needed\n",
    "df_obs_loc_1 = df_obs_data[['id','stop_on_lat','stop_on_long','stop_off_lat','stop_off_long','prev_transfers_code','next_transfers_code','final_origin_transport_code','final_destin_transport_code','unlinked_weight_adj']]\n",
    "\n",
    "# merge on stations\n",
    "df_obs_loc_2 = pd.merge(df_obs_loc_1, df_stations2,left_on=['stop_on_lat', 'stop_on_long'],  right_on=['Lat', 'Lon'], how='left')\n",
    "df_obs_loc_2['station_on'] = df_obs_loc_2['station']\n",
    "df_obs_loc_2 = df_obs_loc_2.drop(columns={'Lat','Lon','station','stop_on_lat','stop_on_long'})\n",
    "\n",
    "# merge off stations\n",
    "df_obs_loc_3 = pd.merge(df_obs_loc_2, df_stations2,left_on=['stop_off_lat', 'stop_off_long'],  right_on=['Lat', 'Lon'], how='left')\n",
    "df_obs_loc_3['station_off'] = df_obs_loc_3['station']\n",
    "df_obs_loc_3 = df_obs_loc_3.drop(columns={'Lat','Lon','station','stop_off_lat','stop_off_long'})\n",
    "\n",
    "# get rid of non-station ids\n",
    "df_obs_loc_4 = df_obs_loc_3[(df_obs_loc_3['station_on'].notna()) | (df_obs_loc_3['station_off'].notna())]\n",
    "\n",
    "# determine access/egress mode\n",
    "df_obs_loc_5 = pd.merge(df_obs_loc_4, transportCode, left_on=['final_destin_transport_code'], right_on=['transportCode'],how='left').rename(columns={'AccessMode':\"EgressMode\"})\n",
    "df_obs_loc_6 = pd.merge(df_obs_loc_5, transportCode, left_on=['final_origin_transport_code'], right_on=['transportCode'],how='left')\n",
    "df_obs_loc_6 = df_obs_loc_6.drop(columns={'transportCode_x','transportCode_y','final_origin_transport_code','final_destin_transport_code'})\n",
    "\n",
    "# determine if direct or transfer\n",
    "df_obs_loc_7  = df_obs_loc_6.copy()\n",
    "df_obs_loc_7['Direct_Access'] = df_obs_loc_7['prev_transfers_code'].apply(lambda x: 'Y' if x == 0 else 'N')\n",
    "df_obs_loc_7['Direct_Egress'] = df_obs_loc_7['next_transfers_code'].apply(lambda x: 'Y' if x == 0 else 'N')\n",
    "\n",
    "df_obs_loc_7\n"
   ]
  },
  {
   "cell_type": "code",
   "execution_count": 106,
   "metadata": {},
   "outputs": [
    {
     "data": {
      "text/html": [
       "<div>\n",
       "<style scoped>\n",
       "    .dataframe tbody tr th:only-of-type {\n",
       "        vertical-align: middle;\n",
       "    }\n",
       "\n",
       "    .dataframe tbody tr th {\n",
       "        vertical-align: top;\n",
       "    }\n",
       "\n",
       "    .dataframe thead th {\n",
       "        text-align: right;\n",
       "    }\n",
       "</style>\n",
       "<table border=\"1\" class=\"dataframe\">\n",
       "  <thead>\n",
       "    <tr style=\"text-align: right;\">\n",
       "      <th></th>\n",
       "      <th>station</th>\n",
       "      <th>AccessMode</th>\n",
       "      <th>Brd_OD</th>\n",
       "      <th>Brd_Direct_OD</th>\n",
       "      <th>Brd_Transfer_OD</th>\n",
       "      <th>Source</th>\n",
       "    </tr>\n",
       "  </thead>\n",
       "  <tbody>\n",
       "    <tr>\n",
       "      <th>0</th>\n",
       "      <td>01-PROVO CENTRAL STATION</td>\n",
       "      <td>drive</td>\n",
       "      <td>1510.546</td>\n",
       "      <td>1510.546</td>\n",
       "      <td>0.000</td>\n",
       "      <td>OBS</td>\n",
       "    </tr>\n",
       "    <tr>\n",
       "      <th>1</th>\n",
       "      <td>01-PROVO CENTRAL STATION</td>\n",
       "      <td>walk</td>\n",
       "      <td>1335.111</td>\n",
       "      <td>319.299</td>\n",
       "      <td>1015.812</td>\n",
       "      <td>OBS</td>\n",
       "    </tr>\n",
       "    <tr>\n",
       "      <th>2</th>\n",
       "      <td>02-OREM CENTRAL STATION</td>\n",
       "      <td>drive</td>\n",
       "      <td>900.853</td>\n",
       "      <td>864.088</td>\n",
       "      <td>36.765</td>\n",
       "      <td>OBS</td>\n",
       "    </tr>\n",
       "    <tr>\n",
       "      <th>3</th>\n",
       "      <td>02-OREM CENTRAL STATION</td>\n",
       "      <td>walk</td>\n",
       "      <td>938.957</td>\n",
       "      <td>233.686</td>\n",
       "      <td>705.271</td>\n",
       "      <td>OBS</td>\n",
       "    </tr>\n",
       "    <tr>\n",
       "      <th>4</th>\n",
       "      <td>03-AMERICAN FORK STATION</td>\n",
       "      <td>drive</td>\n",
       "      <td>772.848</td>\n",
       "      <td>772.848</td>\n",
       "      <td>0.000</td>\n",
       "      <td>OBS</td>\n",
       "    </tr>\n",
       "    <tr>\n",
       "      <th>5</th>\n",
       "      <td>03-AMERICAN FORK STATION</td>\n",
       "      <td>walk</td>\n",
       "      <td>14.514</td>\n",
       "      <td>0.000</td>\n",
       "      <td>14.514</td>\n",
       "      <td>OBS</td>\n",
       "    </tr>\n",
       "    <tr>\n",
       "      <th>6</th>\n",
       "      <td>04-LEHI STATION</td>\n",
       "      <td>drive</td>\n",
       "      <td>821.488</td>\n",
       "      <td>821.488</td>\n",
       "      <td>0.000</td>\n",
       "      <td>OBS</td>\n",
       "    </tr>\n",
       "    <tr>\n",
       "      <th>7</th>\n",
       "      <td>04-LEHI STATION</td>\n",
       "      <td>walk</td>\n",
       "      <td>617.316</td>\n",
       "      <td>369.282</td>\n",
       "      <td>248.034</td>\n",
       "      <td>OBS</td>\n",
       "    </tr>\n",
       "    <tr>\n",
       "      <th>8</th>\n",
       "      <td>05-DRAPER STATION</td>\n",
       "      <td>drive</td>\n",
       "      <td>597.636</td>\n",
       "      <td>597.636</td>\n",
       "      <td>0.000</td>\n",
       "      <td>OBS</td>\n",
       "    </tr>\n",
       "    <tr>\n",
       "      <th>9</th>\n",
       "      <td>05-DRAPER STATION</td>\n",
       "      <td>walk</td>\n",
       "      <td>442.991</td>\n",
       "      <td>404.884</td>\n",
       "      <td>38.107</td>\n",
       "      <td>OBS</td>\n",
       "    </tr>\n",
       "  </tbody>\n",
       "</table>\n",
       "</div>"
      ],
      "text/plain": [
       "                    station AccessMode    Brd_OD  Brd_Direct_OD  \\\n",
       "0  01-PROVO CENTRAL STATION      drive  1510.546       1510.546   \n",
       "1  01-PROVO CENTRAL STATION       walk  1335.111        319.299   \n",
       "2   02-OREM CENTRAL STATION      drive   900.853        864.088   \n",
       "3   02-OREM CENTRAL STATION       walk   938.957        233.686   \n",
       "4  03-AMERICAN FORK STATION      drive   772.848        772.848   \n",
       "5  03-AMERICAN FORK STATION       walk    14.514          0.000   \n",
       "6           04-LEHI STATION      drive   821.488        821.488   \n",
       "7           04-LEHI STATION       walk   617.316        369.282   \n",
       "8         05-DRAPER STATION      drive   597.636        597.636   \n",
       "9         05-DRAPER STATION       walk   442.991        404.884   \n",
       "\n",
       "   Brd_Transfer_OD Source  \n",
       "0            0.000    OBS  \n",
       "1         1015.812    OBS  \n",
       "2           36.765    OBS  \n",
       "3          705.271    OBS  \n",
       "4            0.000    OBS  \n",
       "5           14.514    OBS  \n",
       "6            0.000    OBS  \n",
       "7          248.034    OBS  \n",
       "8            0.000    OBS  \n",
       "9           38.107    OBS  "
      ]
     },
     "execution_count": 106,
     "metadata": {},
     "output_type": "execute_result"
    }
   ],
   "source": [
    "# focus on boardings\n",
    "df_obs_brd_1 = df_obs_loc_7.copy()\n",
    "df_obs_brd_1 = df_obs_brd_1[['unlinked_weight_adj','station_on','AccessMode','Direct_Access']]\n",
    "df_obs_brd_1 = df_obs_brd_1.rename(columns={'station_on':'station','Direct_Access':'Direct'})\n",
    "\n",
    "# Group by station and calculate the required sums\n",
    "df_obs_brd_final = (\n",
    "    df_obs_brd_1.groupby(['station','AccessMode'], as_index=False)\n",
    "    .agg(\n",
    "        Brd_OD=('unlinked_weight_adj', 'sum'),\n",
    "        Brd_Direct_OD=('unlinked_weight_adj', lambda x: x[df_obs_brd_1['Direct'] == 'Y'].sum()),\n",
    "        Brd_Transfer_OD=('unlinked_weight_adj', lambda x: x[df_obs_brd_1['Direct'] == 'N'].sum())\n",
    "    )\n",
    ")\n",
    "\n",
    "# determine source\n",
    "df_obs_brd_final['Source'] = 'OBS'\n",
    "df_obs_brd_final.head(10)\n"
   ]
  },
  {
   "attachments": {},
   "cell_type": "markdown",
   "metadata": {},
   "source": [
    "### Comparison of TDM and OBS"
   ]
  },
  {
   "cell_type": "code",
   "execution_count": 110,
   "metadata": {},
   "outputs": [
    {
     "data": {
      "text/html": [
       "<div>\n",
       "<style scoped>\n",
       "    .dataframe tbody tr th:only-of-type {\n",
       "        vertical-align: middle;\n",
       "    }\n",
       "\n",
       "    .dataframe tbody tr th {\n",
       "        vertical-align: top;\n",
       "    }\n",
       "\n",
       "    .dataframe thead th {\n",
       "        text-align: right;\n",
       "    }\n",
       "</style>\n",
       "<table border=\"1\" class=\"dataframe\">\n",
       "  <thead>\n",
       "    <tr style=\"text-align: right;\">\n",
       "      <th></th>\n",
       "      <th>Source</th>\n",
       "      <th>station</th>\n",
       "      <th>AccessMode</th>\n",
       "      <th>Brd_OD</th>\n",
       "      <th>Brd_Direct_OD</th>\n",
       "      <th>Brd_Transfer_OD</th>\n",
       "    </tr>\n",
       "  </thead>\n",
       "  <tbody>\n",
       "    <tr>\n",
       "      <th>0</th>\n",
       "      <td>TDM</td>\n",
       "      <td>01-PROVO CENTRAL STATION</td>\n",
       "      <td>drive</td>\n",
       "      <td>369.385</td>\n",
       "      <td>143.410</td>\n",
       "      <td>225.975</td>\n",
       "    </tr>\n",
       "    <tr>\n",
       "      <th>1</th>\n",
       "      <td>TDM</td>\n",
       "      <td>02-OREM CENTRAL STATION</td>\n",
       "      <td>drive</td>\n",
       "      <td>1369.605</td>\n",
       "      <td>604.290</td>\n",
       "      <td>765.315</td>\n",
       "    </tr>\n",
       "    <tr>\n",
       "      <th>2</th>\n",
       "      <td>TDM</td>\n",
       "      <td>03-AMERICAN FORK STATION</td>\n",
       "      <td>drive</td>\n",
       "      <td>763.340</td>\n",
       "      <td>760.490</td>\n",
       "      <td>2.850</td>\n",
       "    </tr>\n",
       "    <tr>\n",
       "      <th>3</th>\n",
       "      <td>TDM</td>\n",
       "      <td>04-LEHI STATION</td>\n",
       "      <td>drive</td>\n",
       "      <td>772.105</td>\n",
       "      <td>731.290</td>\n",
       "      <td>40.815</td>\n",
       "    </tr>\n",
       "    <tr>\n",
       "      <th>4</th>\n",
       "      <td>TDM</td>\n",
       "      <td>05-DRAPER STATION</td>\n",
       "      <td>drive</td>\n",
       "      <td>607.625</td>\n",
       "      <td>605.030</td>\n",
       "      <td>2.595</td>\n",
       "    </tr>\n",
       "    <tr>\n",
       "      <th>5</th>\n",
       "      <td>TDM</td>\n",
       "      <td>06-SOUTH JORDAN STATION</td>\n",
       "      <td>drive</td>\n",
       "      <td>731.335</td>\n",
       "      <td>709.175</td>\n",
       "      <td>22.160</td>\n",
       "    </tr>\n",
       "    <tr>\n",
       "      <th>6</th>\n",
       "      <td>TDM</td>\n",
       "      <td>07-MURRAY CENTRAL STATION</td>\n",
       "      <td>drive</td>\n",
       "      <td>1675.570</td>\n",
       "      <td>515.815</td>\n",
       "      <td>1159.755</td>\n",
       "    </tr>\n",
       "    <tr>\n",
       "      <th>7</th>\n",
       "      <td>TDM</td>\n",
       "      <td>08-SALT LAKE CENTRAL STATION</td>\n",
       "      <td>drive</td>\n",
       "      <td>1316.510</td>\n",
       "      <td>261.350</td>\n",
       "      <td>1055.160</td>\n",
       "    </tr>\n",
       "    <tr>\n",
       "      <th>8</th>\n",
       "      <td>TDM</td>\n",
       "      <td>09-NORTH TEMPLE STATION</td>\n",
       "      <td>drive</td>\n",
       "      <td>1650.635</td>\n",
       "      <td>714.680</td>\n",
       "      <td>935.955</td>\n",
       "    </tr>\n",
       "    <tr>\n",
       "      <th>9</th>\n",
       "      <td>TDM</td>\n",
       "      <td>10-WOODS CROSS STATION</td>\n",
       "      <td>drive</td>\n",
       "      <td>519.235</td>\n",
       "      <td>488.605</td>\n",
       "      <td>30.630</td>\n",
       "    </tr>\n",
       "    <tr>\n",
       "      <th>10</th>\n",
       "      <td>TDM</td>\n",
       "      <td>11-FARMINGTON STATION</td>\n",
       "      <td>drive</td>\n",
       "      <td>480.695</td>\n",
       "      <td>266.860</td>\n",
       "      <td>213.835</td>\n",
       "    </tr>\n",
       "    <tr>\n",
       "      <th>11</th>\n",
       "      <td>TDM</td>\n",
       "      <td>12-LAYTON STATION</td>\n",
       "      <td>drive</td>\n",
       "      <td>460.160</td>\n",
       "      <td>442.140</td>\n",
       "      <td>18.020</td>\n",
       "    </tr>\n",
       "    <tr>\n",
       "      <th>12</th>\n",
       "      <td>TDM</td>\n",
       "      <td>13-CLEARFIELD STATION</td>\n",
       "      <td>drive</td>\n",
       "      <td>409.765</td>\n",
       "      <td>376.765</td>\n",
       "      <td>33.000</td>\n",
       "    </tr>\n",
       "    <tr>\n",
       "      <th>13</th>\n",
       "      <td>TDM</td>\n",
       "      <td>14-ROY STATION</td>\n",
       "      <td>drive</td>\n",
       "      <td>510.930</td>\n",
       "      <td>509.710</td>\n",
       "      <td>1.220</td>\n",
       "    </tr>\n",
       "    <tr>\n",
       "      <th>14</th>\n",
       "      <td>TDM</td>\n",
       "      <td>15-OGDEN STATION</td>\n",
       "      <td>drive</td>\n",
       "      <td>522.735</td>\n",
       "      <td>339.475</td>\n",
       "      <td>183.260</td>\n",
       "    </tr>\n",
       "    <tr>\n",
       "      <th>15</th>\n",
       "      <td>TDM</td>\n",
       "      <td>01-PROVO CENTRAL STATION</td>\n",
       "      <td>walk</td>\n",
       "      <td>701.915</td>\n",
       "      <td>98.190</td>\n",
       "      <td>603.725</td>\n",
       "    </tr>\n",
       "    <tr>\n",
       "      <th>16</th>\n",
       "      <td>TDM</td>\n",
       "      <td>02-OREM CENTRAL STATION</td>\n",
       "      <td>walk</td>\n",
       "      <td>357.315</td>\n",
       "      <td>103.150</td>\n",
       "      <td>254.165</td>\n",
       "    </tr>\n",
       "    <tr>\n",
       "      <th>17</th>\n",
       "      <td>TDM</td>\n",
       "      <td>03-AMERICAN FORK STATION</td>\n",
       "      <td>walk</td>\n",
       "      <td>46.950</td>\n",
       "      <td>41.925</td>\n",
       "      <td>5.025</td>\n",
       "    </tr>\n",
       "    <tr>\n",
       "      <th>18</th>\n",
       "      <td>TDM</td>\n",
       "      <td>04-LEHI STATION</td>\n",
       "      <td>walk</td>\n",
       "      <td>260.020</td>\n",
       "      <td>152.185</td>\n",
       "      <td>107.835</td>\n",
       "    </tr>\n",
       "    <tr>\n",
       "      <th>19</th>\n",
       "      <td>TDM</td>\n",
       "      <td>05-DRAPER STATION</td>\n",
       "      <td>walk</td>\n",
       "      <td>150.200</td>\n",
       "      <td>132.700</td>\n",
       "      <td>17.500</td>\n",
       "    </tr>\n",
       "    <tr>\n",
       "      <th>20</th>\n",
       "      <td>TDM</td>\n",
       "      <td>06-SOUTH JORDAN STATION</td>\n",
       "      <td>walk</td>\n",
       "      <td>222.260</td>\n",
       "      <td>164.245</td>\n",
       "      <td>58.015</td>\n",
       "    </tr>\n",
       "    <tr>\n",
       "      <th>21</th>\n",
       "      <td>TDM</td>\n",
       "      <td>07-MURRAY CENTRAL STATION</td>\n",
       "      <td>walk</td>\n",
       "      <td>995.985</td>\n",
       "      <td>141.890</td>\n",
       "      <td>854.095</td>\n",
       "    </tr>\n",
       "    <tr>\n",
       "      <th>22</th>\n",
       "      <td>TDM</td>\n",
       "      <td>08-SALT LAKE CENTRAL STATION</td>\n",
       "      <td>walk</td>\n",
       "      <td>769.910</td>\n",
       "      <td>77.010</td>\n",
       "      <td>692.900</td>\n",
       "    </tr>\n",
       "    <tr>\n",
       "      <th>23</th>\n",
       "      <td>TDM</td>\n",
       "      <td>09-NORTH TEMPLE STATION</td>\n",
       "      <td>walk</td>\n",
       "      <td>947.500</td>\n",
       "      <td>351.305</td>\n",
       "      <td>596.195</td>\n",
       "    </tr>\n",
       "    <tr>\n",
       "      <th>24</th>\n",
       "      <td>TDM</td>\n",
       "      <td>10-WOODS CROSS STATION</td>\n",
       "      <td>walk</td>\n",
       "      <td>260.325</td>\n",
       "      <td>165.145</td>\n",
       "      <td>95.180</td>\n",
       "    </tr>\n",
       "    <tr>\n",
       "      <th>25</th>\n",
       "      <td>TDM</td>\n",
       "      <td>11-FARMINGTON STATION</td>\n",
       "      <td>walk</td>\n",
       "      <td>402.310</td>\n",
       "      <td>116.815</td>\n",
       "      <td>285.495</td>\n",
       "    </tr>\n",
       "    <tr>\n",
       "      <th>26</th>\n",
       "      <td>TDM</td>\n",
       "      <td>12-LAYTON STATION</td>\n",
       "      <td>walk</td>\n",
       "      <td>197.570</td>\n",
       "      <td>67.725</td>\n",
       "      <td>129.845</td>\n",
       "    </tr>\n",
       "    <tr>\n",
       "      <th>27</th>\n",
       "      <td>TDM</td>\n",
       "      <td>13-CLEARFIELD STATION</td>\n",
       "      <td>walk</td>\n",
       "      <td>363.325</td>\n",
       "      <td>263.125</td>\n",
       "      <td>100.200</td>\n",
       "    </tr>\n",
       "    <tr>\n",
       "      <th>28</th>\n",
       "      <td>TDM</td>\n",
       "      <td>14-ROY STATION</td>\n",
       "      <td>walk</td>\n",
       "      <td>212.120</td>\n",
       "      <td>189.775</td>\n",
       "      <td>22.345</td>\n",
       "    </tr>\n",
       "    <tr>\n",
       "      <th>29</th>\n",
       "      <td>TDM</td>\n",
       "      <td>15-OGDEN STATION</td>\n",
       "      <td>walk</td>\n",
       "      <td>527.935</td>\n",
       "      <td>86.745</td>\n",
       "      <td>441.190</td>\n",
       "    </tr>\n",
       "    <tr>\n",
       "      <th>30</th>\n",
       "      <td>OBS</td>\n",
       "      <td>01-PROVO CENTRAL STATION</td>\n",
       "      <td>drive</td>\n",
       "      <td>1510.546</td>\n",
       "      <td>1510.546</td>\n",
       "      <td>0.000</td>\n",
       "    </tr>\n",
       "    <tr>\n",
       "      <th>31</th>\n",
       "      <td>OBS</td>\n",
       "      <td>01-PROVO CENTRAL STATION</td>\n",
       "      <td>walk</td>\n",
       "      <td>1335.111</td>\n",
       "      <td>319.299</td>\n",
       "      <td>1015.812</td>\n",
       "    </tr>\n",
       "    <tr>\n",
       "      <th>32</th>\n",
       "      <td>OBS</td>\n",
       "      <td>02-OREM CENTRAL STATION</td>\n",
       "      <td>drive</td>\n",
       "      <td>900.853</td>\n",
       "      <td>864.088</td>\n",
       "      <td>36.765</td>\n",
       "    </tr>\n",
       "    <tr>\n",
       "      <th>33</th>\n",
       "      <td>OBS</td>\n",
       "      <td>02-OREM CENTRAL STATION</td>\n",
       "      <td>walk</td>\n",
       "      <td>938.957</td>\n",
       "      <td>233.686</td>\n",
       "      <td>705.271</td>\n",
       "    </tr>\n",
       "    <tr>\n",
       "      <th>34</th>\n",
       "      <td>OBS</td>\n",
       "      <td>03-AMERICAN FORK STATION</td>\n",
       "      <td>drive</td>\n",
       "      <td>772.848</td>\n",
       "      <td>772.848</td>\n",
       "      <td>0.000</td>\n",
       "    </tr>\n",
       "    <tr>\n",
       "      <th>35</th>\n",
       "      <td>OBS</td>\n",
       "      <td>03-AMERICAN FORK STATION</td>\n",
       "      <td>walk</td>\n",
       "      <td>14.514</td>\n",
       "      <td>0.000</td>\n",
       "      <td>14.514</td>\n",
       "    </tr>\n",
       "    <tr>\n",
       "      <th>36</th>\n",
       "      <td>OBS</td>\n",
       "      <td>04-LEHI STATION</td>\n",
       "      <td>drive</td>\n",
       "      <td>821.488</td>\n",
       "      <td>821.488</td>\n",
       "      <td>0.000</td>\n",
       "    </tr>\n",
       "    <tr>\n",
       "      <th>37</th>\n",
       "      <td>OBS</td>\n",
       "      <td>04-LEHI STATION</td>\n",
       "      <td>walk</td>\n",
       "      <td>617.316</td>\n",
       "      <td>369.282</td>\n",
       "      <td>248.034</td>\n",
       "    </tr>\n",
       "    <tr>\n",
       "      <th>38</th>\n",
       "      <td>OBS</td>\n",
       "      <td>05-DRAPER STATION</td>\n",
       "      <td>drive</td>\n",
       "      <td>597.636</td>\n",
       "      <td>597.636</td>\n",
       "      <td>0.000</td>\n",
       "    </tr>\n",
       "    <tr>\n",
       "      <th>39</th>\n",
       "      <td>OBS</td>\n",
       "      <td>05-DRAPER STATION</td>\n",
       "      <td>walk</td>\n",
       "      <td>442.991</td>\n",
       "      <td>404.884</td>\n",
       "      <td>38.107</td>\n",
       "    </tr>\n",
       "    <tr>\n",
       "      <th>40</th>\n",
       "      <td>OBS</td>\n",
       "      <td>06-SOUTH JORDAN STATION</td>\n",
       "      <td>drive</td>\n",
       "      <td>616.688</td>\n",
       "      <td>616.688</td>\n",
       "      <td>0.000</td>\n",
       "    </tr>\n",
       "    <tr>\n",
       "      <th>41</th>\n",
       "      <td>OBS</td>\n",
       "      <td>06-SOUTH JORDAN STATION</td>\n",
       "      <td>walk</td>\n",
       "      <td>396.061</td>\n",
       "      <td>273.826</td>\n",
       "      <td>122.235</td>\n",
       "    </tr>\n",
       "    <tr>\n",
       "      <th>42</th>\n",
       "      <td>OBS</td>\n",
       "      <td>07-MURRAY CENTRAL STATION</td>\n",
       "      <td>drive</td>\n",
       "      <td>589.908</td>\n",
       "      <td>471.299</td>\n",
       "      <td>118.609</td>\n",
       "    </tr>\n",
       "    <tr>\n",
       "      <th>43</th>\n",
       "      <td>OBS</td>\n",
       "      <td>07-MURRAY CENTRAL STATION</td>\n",
       "      <td>walk</td>\n",
       "      <td>1351.543</td>\n",
       "      <td>240.821</td>\n",
       "      <td>1110.722</td>\n",
       "    </tr>\n",
       "    <tr>\n",
       "      <th>44</th>\n",
       "      <td>OBS</td>\n",
       "      <td>08-SALT LAKE CENTRAL STATION</td>\n",
       "      <td>drive</td>\n",
       "      <td>518.835</td>\n",
       "      <td>472.902</td>\n",
       "      <td>45.933</td>\n",
       "    </tr>\n",
       "    <tr>\n",
       "      <th>45</th>\n",
       "      <td>OBS</td>\n",
       "      <td>08-SALT LAKE CENTRAL STATION</td>\n",
       "      <td>walk</td>\n",
       "      <td>1570.717</td>\n",
       "      <td>493.701</td>\n",
       "      <td>1077.016</td>\n",
       "    </tr>\n",
       "    <tr>\n",
       "      <th>46</th>\n",
       "      <td>OBS</td>\n",
       "      <td>09-NORTH TEMPLE STATION</td>\n",
       "      <td>drive</td>\n",
       "      <td>411.107</td>\n",
       "      <td>393.477</td>\n",
       "      <td>17.630</td>\n",
       "    </tr>\n",
       "    <tr>\n",
       "      <th>47</th>\n",
       "      <td>OBS</td>\n",
       "      <td>09-NORTH TEMPLE STATION</td>\n",
       "      <td>walk</td>\n",
       "      <td>2529.531</td>\n",
       "      <td>1238.610</td>\n",
       "      <td>1290.921</td>\n",
       "    </tr>\n",
       "    <tr>\n",
       "      <th>48</th>\n",
       "      <td>OBS</td>\n",
       "      <td>10-WOODS CROSS STATION</td>\n",
       "      <td>drive</td>\n",
       "      <td>442.753</td>\n",
       "      <td>442.753</td>\n",
       "      <td>0.000</td>\n",
       "    </tr>\n",
       "    <tr>\n",
       "      <th>49</th>\n",
       "      <td>OBS</td>\n",
       "      <td>10-WOODS CROSS STATION</td>\n",
       "      <td>walk</td>\n",
       "      <td>156.426</td>\n",
       "      <td>128.816</td>\n",
       "      <td>27.610</td>\n",
       "    </tr>\n",
       "    <tr>\n",
       "      <th>50</th>\n",
       "      <td>OBS</td>\n",
       "      <td>11-FARMINGTON STATION</td>\n",
       "      <td>drive</td>\n",
       "      <td>285.257</td>\n",
       "      <td>285.257</td>\n",
       "      <td>0.000</td>\n",
       "    </tr>\n",
       "    <tr>\n",
       "      <th>51</th>\n",
       "      <td>OBS</td>\n",
       "      <td>11-FARMINGTON STATION</td>\n",
       "      <td>walk</td>\n",
       "      <td>217.221</td>\n",
       "      <td>190.002</td>\n",
       "      <td>27.219</td>\n",
       "    </tr>\n",
       "    <tr>\n",
       "      <th>52</th>\n",
       "      <td>OBS</td>\n",
       "      <td>12-LAYTON STATION</td>\n",
       "      <td>drive</td>\n",
       "      <td>622.265</td>\n",
       "      <td>622.265</td>\n",
       "      <td>0.000</td>\n",
       "    </tr>\n",
       "    <tr>\n",
       "      <th>53</th>\n",
       "      <td>OBS</td>\n",
       "      <td>12-LAYTON STATION</td>\n",
       "      <td>walk</td>\n",
       "      <td>229.785</td>\n",
       "      <td>145.500</td>\n",
       "      <td>84.285</td>\n",
       "    </tr>\n",
       "    <tr>\n",
       "      <th>54</th>\n",
       "      <td>OBS</td>\n",
       "      <td>13-CLEARFIELD STATION</td>\n",
       "      <td>drive</td>\n",
       "      <td>496.899</td>\n",
       "      <td>482.896</td>\n",
       "      <td>14.003</td>\n",
       "    </tr>\n",
       "    <tr>\n",
       "      <th>55</th>\n",
       "      <td>OBS</td>\n",
       "      <td>13-CLEARFIELD STATION</td>\n",
       "      <td>walk</td>\n",
       "      <td>178.247</td>\n",
       "      <td>93.513</td>\n",
       "      <td>84.734</td>\n",
       "    </tr>\n",
       "    <tr>\n",
       "      <th>56</th>\n",
       "      <td>OBS</td>\n",
       "      <td>14-ROY STATION</td>\n",
       "      <td>drive</td>\n",
       "      <td>424.983</td>\n",
       "      <td>424.983</td>\n",
       "      <td>0.000</td>\n",
       "    </tr>\n",
       "    <tr>\n",
       "      <th>57</th>\n",
       "      <td>OBS</td>\n",
       "      <td>14-ROY STATION</td>\n",
       "      <td>walk</td>\n",
       "      <td>60.121</td>\n",
       "      <td>49.805</td>\n",
       "      <td>10.316</td>\n",
       "    </tr>\n",
       "    <tr>\n",
       "      <th>58</th>\n",
       "      <td>OBS</td>\n",
       "      <td>15-OGDEN STATION</td>\n",
       "      <td>drive</td>\n",
       "      <td>918.636</td>\n",
       "      <td>910.785</td>\n",
       "      <td>7.851</td>\n",
       "    </tr>\n",
       "    <tr>\n",
       "      <th>59</th>\n",
       "      <td>OBS</td>\n",
       "      <td>15-OGDEN STATION</td>\n",
       "      <td>walk</td>\n",
       "      <td>658.767</td>\n",
       "      <td>216.156</td>\n",
       "      <td>442.611</td>\n",
       "    </tr>\n",
       "  </tbody>\n",
       "</table>\n",
       "</div>"
      ],
      "text/plain": [
       "   Source                       station AccessMode    Brd_OD  Brd_Direct_OD  \\\n",
       "0     TDM      01-PROVO CENTRAL STATION      drive   369.385        143.410   \n",
       "1     TDM       02-OREM CENTRAL STATION      drive  1369.605        604.290   \n",
       "2     TDM      03-AMERICAN FORK STATION      drive   763.340        760.490   \n",
       "3     TDM               04-LEHI STATION      drive   772.105        731.290   \n",
       "4     TDM             05-DRAPER STATION      drive   607.625        605.030   \n",
       "5     TDM       06-SOUTH JORDAN STATION      drive   731.335        709.175   \n",
       "6     TDM     07-MURRAY CENTRAL STATION      drive  1675.570        515.815   \n",
       "7     TDM  08-SALT LAKE CENTRAL STATION      drive  1316.510        261.350   \n",
       "8     TDM       09-NORTH TEMPLE STATION      drive  1650.635        714.680   \n",
       "9     TDM        10-WOODS CROSS STATION      drive   519.235        488.605   \n",
       "10    TDM         11-FARMINGTON STATION      drive   480.695        266.860   \n",
       "11    TDM             12-LAYTON STATION      drive   460.160        442.140   \n",
       "12    TDM         13-CLEARFIELD STATION      drive   409.765        376.765   \n",
       "13    TDM                14-ROY STATION      drive   510.930        509.710   \n",
       "14    TDM              15-OGDEN STATION      drive   522.735        339.475   \n",
       "15    TDM      01-PROVO CENTRAL STATION       walk   701.915         98.190   \n",
       "16    TDM       02-OREM CENTRAL STATION       walk   357.315        103.150   \n",
       "17    TDM      03-AMERICAN FORK STATION       walk    46.950         41.925   \n",
       "18    TDM               04-LEHI STATION       walk   260.020        152.185   \n",
       "19    TDM             05-DRAPER STATION       walk   150.200        132.700   \n",
       "20    TDM       06-SOUTH JORDAN STATION       walk   222.260        164.245   \n",
       "21    TDM     07-MURRAY CENTRAL STATION       walk   995.985        141.890   \n",
       "22    TDM  08-SALT LAKE CENTRAL STATION       walk   769.910         77.010   \n",
       "23    TDM       09-NORTH TEMPLE STATION       walk   947.500        351.305   \n",
       "24    TDM        10-WOODS CROSS STATION       walk   260.325        165.145   \n",
       "25    TDM         11-FARMINGTON STATION       walk   402.310        116.815   \n",
       "26    TDM             12-LAYTON STATION       walk   197.570         67.725   \n",
       "27    TDM         13-CLEARFIELD STATION       walk   363.325        263.125   \n",
       "28    TDM                14-ROY STATION       walk   212.120        189.775   \n",
       "29    TDM              15-OGDEN STATION       walk   527.935         86.745   \n",
       "30    OBS      01-PROVO CENTRAL STATION      drive  1510.546       1510.546   \n",
       "31    OBS      01-PROVO CENTRAL STATION       walk  1335.111        319.299   \n",
       "32    OBS       02-OREM CENTRAL STATION      drive   900.853        864.088   \n",
       "33    OBS       02-OREM CENTRAL STATION       walk   938.957        233.686   \n",
       "34    OBS      03-AMERICAN FORK STATION      drive   772.848        772.848   \n",
       "35    OBS      03-AMERICAN FORK STATION       walk    14.514          0.000   \n",
       "36    OBS               04-LEHI STATION      drive   821.488        821.488   \n",
       "37    OBS               04-LEHI STATION       walk   617.316        369.282   \n",
       "38    OBS             05-DRAPER STATION      drive   597.636        597.636   \n",
       "39    OBS             05-DRAPER STATION       walk   442.991        404.884   \n",
       "40    OBS       06-SOUTH JORDAN STATION      drive   616.688        616.688   \n",
       "41    OBS       06-SOUTH JORDAN STATION       walk   396.061        273.826   \n",
       "42    OBS     07-MURRAY CENTRAL STATION      drive   589.908        471.299   \n",
       "43    OBS     07-MURRAY CENTRAL STATION       walk  1351.543        240.821   \n",
       "44    OBS  08-SALT LAKE CENTRAL STATION      drive   518.835        472.902   \n",
       "45    OBS  08-SALT LAKE CENTRAL STATION       walk  1570.717        493.701   \n",
       "46    OBS       09-NORTH TEMPLE STATION      drive   411.107        393.477   \n",
       "47    OBS       09-NORTH TEMPLE STATION       walk  2529.531       1238.610   \n",
       "48    OBS        10-WOODS CROSS STATION      drive   442.753        442.753   \n",
       "49    OBS        10-WOODS CROSS STATION       walk   156.426        128.816   \n",
       "50    OBS         11-FARMINGTON STATION      drive   285.257        285.257   \n",
       "51    OBS         11-FARMINGTON STATION       walk   217.221        190.002   \n",
       "52    OBS             12-LAYTON STATION      drive   622.265        622.265   \n",
       "53    OBS             12-LAYTON STATION       walk   229.785        145.500   \n",
       "54    OBS         13-CLEARFIELD STATION      drive   496.899        482.896   \n",
       "55    OBS         13-CLEARFIELD STATION       walk   178.247         93.513   \n",
       "56    OBS                14-ROY STATION      drive   424.983        424.983   \n",
       "57    OBS                14-ROY STATION       walk    60.121         49.805   \n",
       "58    OBS              15-OGDEN STATION      drive   918.636        910.785   \n",
       "59    OBS              15-OGDEN STATION       walk   658.767        216.156   \n",
       "\n",
       "    Brd_Transfer_OD  \n",
       "0           225.975  \n",
       "1           765.315  \n",
       "2             2.850  \n",
       "3            40.815  \n",
       "4             2.595  \n",
       "5            22.160  \n",
       "6          1159.755  \n",
       "7          1055.160  \n",
       "8           935.955  \n",
       "9            30.630  \n",
       "10          213.835  \n",
       "11           18.020  \n",
       "12           33.000  \n",
       "13            1.220  \n",
       "14          183.260  \n",
       "15          603.725  \n",
       "16          254.165  \n",
       "17            5.025  \n",
       "18          107.835  \n",
       "19           17.500  \n",
       "20           58.015  \n",
       "21          854.095  \n",
       "22          692.900  \n",
       "23          596.195  \n",
       "24           95.180  \n",
       "25          285.495  \n",
       "26          129.845  \n",
       "27          100.200  \n",
       "28           22.345  \n",
       "29          441.190  \n",
       "30            0.000  \n",
       "31         1015.812  \n",
       "32           36.765  \n",
       "33          705.271  \n",
       "34            0.000  \n",
       "35           14.514  \n",
       "36            0.000  \n",
       "37          248.034  \n",
       "38            0.000  \n",
       "39           38.107  \n",
       "40            0.000  \n",
       "41          122.235  \n",
       "42          118.609  \n",
       "43         1110.722  \n",
       "44           45.933  \n",
       "45         1077.016  \n",
       "46           17.630  \n",
       "47         1290.921  \n",
       "48            0.000  \n",
       "49           27.610  \n",
       "50            0.000  \n",
       "51           27.219  \n",
       "52            0.000  \n",
       "53           84.285  \n",
       "54           14.003  \n",
       "55           84.734  \n",
       "56            0.000  \n",
       "57           10.316  \n",
       "58            7.851  \n",
       "59          442.611  "
      ]
     },
     "execution_count": 110,
     "metadata": {},
     "output_type": "execute_result"
    }
   ],
   "source": [
    "sumStats = pd.concat([df_brdsum_od, df_obs_brd_final]).reset_index()\n",
    "sumStats = sumStats.round(3).fillna(0)\n",
    "sumStats = sumStats.drop(columns='index')\n",
    "sumStats"
   ]
  },
  {
   "cell_type": "code",
   "execution_count": 255,
   "metadata": {},
   "outputs": [],
   "source": [
    "#sumStats.to_csv(\"_data/base_observed_summary.csv\", index=False)"
   ]
  },
  {
   "cell_type": "code",
   "execution_count": 108,
   "metadata": {},
   "outputs": [],
   "source": [
    "import plotly.express as px\n",
    "import plotly.graph_objects as go\n",
    "import plotly as py\n",
    "import ipywidgets as widgets\n",
    "\n",
    "def calculate_percent_difference(observed, ttdm):\n",
    "    return ((observed - ttdm) / ttdm) * 100\n",
    "\n",
    "def plotit(variable, access_mode, view_option):\n",
    "    output.clear_output()  # Clear previous output before displaying new content\n",
    "    global firstTime\n",
    "    if firstTime:\n",
    "    \n",
    "        # Filter or aggregate data based on access_mode\n",
    "        if access_mode == 'All':\n",
    "            filtered_data = sumStats\n",
    "        else:\n",
    "            filtered_data = sumStats[sumStats['AccessMode'] == access_mode]\n",
    "        \n",
    "        # Pivot the data to have separate columns for OBS and TDM\n",
    "        pivot_data = filtered_data.pivot_table(\n",
    "            index=['station'], \n",
    "            columns='Source', \n",
    "            values=variable, \n",
    "            aggfunc='sum'\n",
    "        ).reset_index()\n",
    "    \n",
    "        # Ensure proper column names for easier reference\n",
    "        pivot_data.columns = ['station', 'OBS', 'TDM']  # Adjust according to the 'Source' values (OBS and TDM)\n",
    "    \n",
    "        # Calculate the percent difference\n",
    "        pivot_data['Percent_Difference'] = calculate_percent_difference(pivot_data['OBS'], pivot_data['TDM'])\n",
    "    \n",
    "        # Display either the graph or the table based on view_option\n",
    "        if view_option == 'Graph':\n",
    "            # Create histogram\n",
    "            fig = px.histogram(\n",
    "                filtered_data, \n",
    "                x=\"station\", \n",
    "                y=variable, \n",
    "                text_auto='.2s',\n",
    "                color='Source', \n",
    "                barmode='group',\n",
    "                height=400\n",
    "            )\n",
    "            fig.update_layout(\n",
    "                xaxis_title=\"Station Name\",\n",
    "                yaxis_title=str(variable),\n",
    "                legend_title=\"Model Version\"\n",
    "            )\n",
    "            \n",
    "            # Display the plot\n",
    "            fig.show()\n",
    "    \n",
    "        elif view_option == 'Table':\n",
    "            # Display the table below the graph\n",
    "            table_fig = go.Figure(go.Table(\n",
    "                header=dict(values=[\"Station\", \"Observed\", \"TDM\", \"Percent Difference\"]),\n",
    "                cells=dict(values=[pivot_data['station'], pivot_data['OBS'], pivot_data['TDM'], pivot_data['Percent_Difference']])\n",
    "            ))\n",
    "        \n",
    "        # Display the table\n",
    "        table_fig.show()\n",
    "    \n",
    "    else:\n",
    "        firstTime = True"
   ]
  },
  {
   "cell_type": "code",
   "execution_count": 109,
   "metadata": {},
   "outputs": [
    {
     "data": {
      "application/vnd.jupyter.widget-view+json": {
       "model_id": "a3f4c4796ae14c199a7153d3ff11edd5",
       "version_major": 2,
       "version_minor": 0
      },
      "text/plain": [
       "HBox(children=(Select(description='Select Variable', options=('Brd_OD', 'Brd_Direct_OD', 'Brd_Transfer_OD'), v…"
      ]
     },
     "metadata": {},
     "output_type": "display_data"
    },
    {
     "data": {
      "application/vnd.jupyter.widget-view+json": {
       "model_id": "fab8cecb8f7240baa6778719036f6c4d",
       "version_major": 2,
       "version_minor": 0
      },
      "text/plain": [
       "Output()"
      ]
     },
     "metadata": {},
     "output_type": "display_data"
    },
    {
     "data": {
      "application/vnd.plotly.v1+json": {
       "config": {
        "plotlyServerURL": "https://plot.ly"
       },
       "data": [
        {
         "alignmentgroup": "True",
         "bingroup": "x",
         "histfunc": "sum",
         "hovertemplate": "Source=TDM<br>station=%{x}<br>sum of Brd_OD=%{y}<extra></extra>",
         "legendgroup": "TDM",
         "marker": {
          "color": "#636efa",
          "pattern": {
           "shape": ""
          }
         },
         "name": "TDM",
         "offsetgroup": "TDM",
         "orientation": "v",
         "showlegend": true,
         "texttemplate": "%{value:.2s}",
         "type": "histogram",
         "x": [
          "01-PROVO CENTRAL STATION",
          "02-OREM CENTRAL STATION",
          "03-AMERICAN FORK STATION",
          "04-LEHI STATION",
          "05-DRAPER STATION",
          "06-SOUTH JORDAN STATION",
          "07-MURRAY CENTRAL STATION",
          "08-SALT LAKE CENTRAL STATION",
          "09-NORTH TEMPLE STATION",
          "10-WOODS CROSS STATION",
          "11-FARMINGTON STATION",
          "12-LAYTON STATION",
          "13-CLEARFIELD STATION",
          "14-ROY STATION",
          "15-OGDEN STATION",
          "01-PROVO CENTRAL STATION",
          "02-OREM CENTRAL STATION",
          "03-AMERICAN FORK STATION",
          "04-LEHI STATION",
          "05-DRAPER STATION",
          "06-SOUTH JORDAN STATION",
          "07-MURRAY CENTRAL STATION",
          "08-SALT LAKE CENTRAL STATION",
          "09-NORTH TEMPLE STATION",
          "10-WOODS CROSS STATION",
          "11-FARMINGTON STATION",
          "12-LAYTON STATION",
          "13-CLEARFIELD STATION",
          "14-ROY STATION",
          "15-OGDEN STATION"
         ],
         "xaxis": "x",
         "y": [
          369.385,
          1369.605,
          763.34,
          772.105,
          607.625,
          731.335,
          1675.57,
          1316.51,
          1650.635,
          519.235,
          480.695,
          460.16,
          409.765,
          510.93,
          522.735,
          701.915,
          357.315,
          46.95,
          260.02,
          150.2,
          222.26,
          995.985,
          769.91,
          947.5,
          260.325,
          402.31,
          197.57,
          363.325,
          212.12,
          527.935
         ],
         "yaxis": "y"
        },
        {
         "alignmentgroup": "True",
         "bingroup": "x",
         "histfunc": "sum",
         "hovertemplate": "Source=OBS<br>station=%{x}<br>sum of Brd_OD=%{y}<extra></extra>",
         "legendgroup": "OBS",
         "marker": {
          "color": "#EF553B",
          "pattern": {
           "shape": ""
          }
         },
         "name": "OBS",
         "offsetgroup": "OBS",
         "orientation": "v",
         "showlegend": true,
         "texttemplate": "%{value:.2s}",
         "type": "histogram",
         "x": [
          "01-PROVO CENTRAL STATION",
          "01-PROVO CENTRAL STATION",
          "02-OREM CENTRAL STATION",
          "02-OREM CENTRAL STATION",
          "03-AMERICAN FORK STATION",
          "03-AMERICAN FORK STATION",
          "04-LEHI STATION",
          "04-LEHI STATION",
          "05-DRAPER STATION",
          "05-DRAPER STATION",
          "06-SOUTH JORDAN STATION",
          "06-SOUTH JORDAN STATION",
          "07-MURRAY CENTRAL STATION",
          "07-MURRAY CENTRAL STATION",
          "08-SALT LAKE CENTRAL STATION",
          "08-SALT LAKE CENTRAL STATION",
          "09-NORTH TEMPLE STATION",
          "09-NORTH TEMPLE STATION",
          "10-WOODS CROSS STATION",
          "10-WOODS CROSS STATION",
          "11-FARMINGTON STATION",
          "11-FARMINGTON STATION",
          "12-LAYTON STATION",
          "12-LAYTON STATION",
          "13-CLEARFIELD STATION",
          "13-CLEARFIELD STATION",
          "14-ROY STATION",
          "14-ROY STATION",
          "15-OGDEN STATION",
          "15-OGDEN STATION"
         ],
         "xaxis": "x",
         "y": [
          1510.546,
          1335.111,
          900.853,
          938.957,
          772.848,
          14.514,
          821.488,
          617.316,
          597.636,
          442.991,
          616.688,
          396.061,
          589.908,
          1351.543,
          518.835,
          1570.717,
          411.107,
          2529.531,
          442.753,
          156.426,
          285.257,
          217.221,
          622.265,
          229.785,
          496.899,
          178.247,
          424.983,
          60.121,
          918.636,
          658.767
         ],
         "yaxis": "y"
        }
       ],
       "layout": {
        "barmode": "group",
        "height": 400,
        "legend": {
         "title": {
          "text": "Model Version"
         },
         "tracegroupgap": 0
        },
        "margin": {
         "t": 60
        },
        "template": {
         "data": {
          "bar": [
           {
            "error_x": {
             "color": "#2a3f5f"
            },
            "error_y": {
             "color": "#2a3f5f"
            },
            "marker": {
             "line": {
              "color": "#E5ECF6",
              "width": 0.5
             },
             "pattern": {
              "fillmode": "overlay",
              "size": 10,
              "solidity": 0.2
             }
            },
            "type": "bar"
           }
          ],
          "barpolar": [
           {
            "marker": {
             "line": {
              "color": "#E5ECF6",
              "width": 0.5
             },
             "pattern": {
              "fillmode": "overlay",
              "size": 10,
              "solidity": 0.2
             }
            },
            "type": "barpolar"
           }
          ],
          "carpet": [
           {
            "aaxis": {
             "endlinecolor": "#2a3f5f",
             "gridcolor": "white",
             "linecolor": "white",
             "minorgridcolor": "white",
             "startlinecolor": "#2a3f5f"
            },
            "baxis": {
             "endlinecolor": "#2a3f5f",
             "gridcolor": "white",
             "linecolor": "white",
             "minorgridcolor": "white",
             "startlinecolor": "#2a3f5f"
            },
            "type": "carpet"
           }
          ],
          "choropleth": [
           {
            "colorbar": {
             "outlinewidth": 0,
             "ticks": ""
            },
            "type": "choropleth"
           }
          ],
          "contour": [
           {
            "colorbar": {
             "outlinewidth": 0,
             "ticks": ""
            },
            "colorscale": [
             [
              0,
              "#0d0887"
             ],
             [
              0.1111111111111111,
              "#46039f"
             ],
             [
              0.2222222222222222,
              "#7201a8"
             ],
             [
              0.3333333333333333,
              "#9c179e"
             ],
             [
              0.4444444444444444,
              "#bd3786"
             ],
             [
              0.5555555555555556,
              "#d8576b"
             ],
             [
              0.6666666666666666,
              "#ed7953"
             ],
             [
              0.7777777777777778,
              "#fb9f3a"
             ],
             [
              0.8888888888888888,
              "#fdca26"
             ],
             [
              1,
              "#f0f921"
             ]
            ],
            "type": "contour"
           }
          ],
          "contourcarpet": [
           {
            "colorbar": {
             "outlinewidth": 0,
             "ticks": ""
            },
            "type": "contourcarpet"
           }
          ],
          "heatmap": [
           {
            "colorbar": {
             "outlinewidth": 0,
             "ticks": ""
            },
            "colorscale": [
             [
              0,
              "#0d0887"
             ],
             [
              0.1111111111111111,
              "#46039f"
             ],
             [
              0.2222222222222222,
              "#7201a8"
             ],
             [
              0.3333333333333333,
              "#9c179e"
             ],
             [
              0.4444444444444444,
              "#bd3786"
             ],
             [
              0.5555555555555556,
              "#d8576b"
             ],
             [
              0.6666666666666666,
              "#ed7953"
             ],
             [
              0.7777777777777778,
              "#fb9f3a"
             ],
             [
              0.8888888888888888,
              "#fdca26"
             ],
             [
              1,
              "#f0f921"
             ]
            ],
            "type": "heatmap"
           }
          ],
          "heatmapgl": [
           {
            "colorbar": {
             "outlinewidth": 0,
             "ticks": ""
            },
            "colorscale": [
             [
              0,
              "#0d0887"
             ],
             [
              0.1111111111111111,
              "#46039f"
             ],
             [
              0.2222222222222222,
              "#7201a8"
             ],
             [
              0.3333333333333333,
              "#9c179e"
             ],
             [
              0.4444444444444444,
              "#bd3786"
             ],
             [
              0.5555555555555556,
              "#d8576b"
             ],
             [
              0.6666666666666666,
              "#ed7953"
             ],
             [
              0.7777777777777778,
              "#fb9f3a"
             ],
             [
              0.8888888888888888,
              "#fdca26"
             ],
             [
              1,
              "#f0f921"
             ]
            ],
            "type": "heatmapgl"
           }
          ],
          "histogram": [
           {
            "marker": {
             "pattern": {
              "fillmode": "overlay",
              "size": 10,
              "solidity": 0.2
             }
            },
            "type": "histogram"
           }
          ],
          "histogram2d": [
           {
            "colorbar": {
             "outlinewidth": 0,
             "ticks": ""
            },
            "colorscale": [
             [
              0,
              "#0d0887"
             ],
             [
              0.1111111111111111,
              "#46039f"
             ],
             [
              0.2222222222222222,
              "#7201a8"
             ],
             [
              0.3333333333333333,
              "#9c179e"
             ],
             [
              0.4444444444444444,
              "#bd3786"
             ],
             [
              0.5555555555555556,
              "#d8576b"
             ],
             [
              0.6666666666666666,
              "#ed7953"
             ],
             [
              0.7777777777777778,
              "#fb9f3a"
             ],
             [
              0.8888888888888888,
              "#fdca26"
             ],
             [
              1,
              "#f0f921"
             ]
            ],
            "type": "histogram2d"
           }
          ],
          "histogram2dcontour": [
           {
            "colorbar": {
             "outlinewidth": 0,
             "ticks": ""
            },
            "colorscale": [
             [
              0,
              "#0d0887"
             ],
             [
              0.1111111111111111,
              "#46039f"
             ],
             [
              0.2222222222222222,
              "#7201a8"
             ],
             [
              0.3333333333333333,
              "#9c179e"
             ],
             [
              0.4444444444444444,
              "#bd3786"
             ],
             [
              0.5555555555555556,
              "#d8576b"
             ],
             [
              0.6666666666666666,
              "#ed7953"
             ],
             [
              0.7777777777777778,
              "#fb9f3a"
             ],
             [
              0.8888888888888888,
              "#fdca26"
             ],
             [
              1,
              "#f0f921"
             ]
            ],
            "type": "histogram2dcontour"
           }
          ],
          "mesh3d": [
           {
            "colorbar": {
             "outlinewidth": 0,
             "ticks": ""
            },
            "type": "mesh3d"
           }
          ],
          "parcoords": [
           {
            "line": {
             "colorbar": {
              "outlinewidth": 0,
              "ticks": ""
             }
            },
            "type": "parcoords"
           }
          ],
          "pie": [
           {
            "automargin": true,
            "type": "pie"
           }
          ],
          "scatter": [
           {
            "fillpattern": {
             "fillmode": "overlay",
             "size": 10,
             "solidity": 0.2
            },
            "type": "scatter"
           }
          ],
          "scatter3d": [
           {
            "line": {
             "colorbar": {
              "outlinewidth": 0,
              "ticks": ""
             }
            },
            "marker": {
             "colorbar": {
              "outlinewidth": 0,
              "ticks": ""
             }
            },
            "type": "scatter3d"
           }
          ],
          "scattercarpet": [
           {
            "marker": {
             "colorbar": {
              "outlinewidth": 0,
              "ticks": ""
             }
            },
            "type": "scattercarpet"
           }
          ],
          "scattergeo": [
           {
            "marker": {
             "colorbar": {
              "outlinewidth": 0,
              "ticks": ""
             }
            },
            "type": "scattergeo"
           }
          ],
          "scattergl": [
           {
            "marker": {
             "colorbar": {
              "outlinewidth": 0,
              "ticks": ""
             }
            },
            "type": "scattergl"
           }
          ],
          "scattermapbox": [
           {
            "marker": {
             "colorbar": {
              "outlinewidth": 0,
              "ticks": ""
             }
            },
            "type": "scattermapbox"
           }
          ],
          "scatterpolar": [
           {
            "marker": {
             "colorbar": {
              "outlinewidth": 0,
              "ticks": ""
             }
            },
            "type": "scatterpolar"
           }
          ],
          "scatterpolargl": [
           {
            "marker": {
             "colorbar": {
              "outlinewidth": 0,
              "ticks": ""
             }
            },
            "type": "scatterpolargl"
           }
          ],
          "scatterternary": [
           {
            "marker": {
             "colorbar": {
              "outlinewidth": 0,
              "ticks": ""
             }
            },
            "type": "scatterternary"
           }
          ],
          "surface": [
           {
            "colorbar": {
             "outlinewidth": 0,
             "ticks": ""
            },
            "colorscale": [
             [
              0,
              "#0d0887"
             ],
             [
              0.1111111111111111,
              "#46039f"
             ],
             [
              0.2222222222222222,
              "#7201a8"
             ],
             [
              0.3333333333333333,
              "#9c179e"
             ],
             [
              0.4444444444444444,
              "#bd3786"
             ],
             [
              0.5555555555555556,
              "#d8576b"
             ],
             [
              0.6666666666666666,
              "#ed7953"
             ],
             [
              0.7777777777777778,
              "#fb9f3a"
             ],
             [
              0.8888888888888888,
              "#fdca26"
             ],
             [
              1,
              "#f0f921"
             ]
            ],
            "type": "surface"
           }
          ],
          "table": [
           {
            "cells": {
             "fill": {
              "color": "#EBF0F8"
             },
             "line": {
              "color": "white"
             }
            },
            "header": {
             "fill": {
              "color": "#C8D4E3"
             },
             "line": {
              "color": "white"
             }
            },
            "type": "table"
           }
          ]
         },
         "layout": {
          "annotationdefaults": {
           "arrowcolor": "#2a3f5f",
           "arrowhead": 0,
           "arrowwidth": 1
          },
          "autotypenumbers": "strict",
          "coloraxis": {
           "colorbar": {
            "outlinewidth": 0,
            "ticks": ""
           }
          },
          "colorscale": {
           "diverging": [
            [
             0,
             "#8e0152"
            ],
            [
             0.1,
             "#c51b7d"
            ],
            [
             0.2,
             "#de77ae"
            ],
            [
             0.3,
             "#f1b6da"
            ],
            [
             0.4,
             "#fde0ef"
            ],
            [
             0.5,
             "#f7f7f7"
            ],
            [
             0.6,
             "#e6f5d0"
            ],
            [
             0.7,
             "#b8e186"
            ],
            [
             0.8,
             "#7fbc41"
            ],
            [
             0.9,
             "#4d9221"
            ],
            [
             1,
             "#276419"
            ]
           ],
           "sequential": [
            [
             0,
             "#0d0887"
            ],
            [
             0.1111111111111111,
             "#46039f"
            ],
            [
             0.2222222222222222,
             "#7201a8"
            ],
            [
             0.3333333333333333,
             "#9c179e"
            ],
            [
             0.4444444444444444,
             "#bd3786"
            ],
            [
             0.5555555555555556,
             "#d8576b"
            ],
            [
             0.6666666666666666,
             "#ed7953"
            ],
            [
             0.7777777777777778,
             "#fb9f3a"
            ],
            [
             0.8888888888888888,
             "#fdca26"
            ],
            [
             1,
             "#f0f921"
            ]
           ],
           "sequentialminus": [
            [
             0,
             "#0d0887"
            ],
            [
             0.1111111111111111,
             "#46039f"
            ],
            [
             0.2222222222222222,
             "#7201a8"
            ],
            [
             0.3333333333333333,
             "#9c179e"
            ],
            [
             0.4444444444444444,
             "#bd3786"
            ],
            [
             0.5555555555555556,
             "#d8576b"
            ],
            [
             0.6666666666666666,
             "#ed7953"
            ],
            [
             0.7777777777777778,
             "#fb9f3a"
            ],
            [
             0.8888888888888888,
             "#fdca26"
            ],
            [
             1,
             "#f0f921"
            ]
           ]
          },
          "colorway": [
           "#636efa",
           "#EF553B",
           "#00cc96",
           "#ab63fa",
           "#FFA15A",
           "#19d3f3",
           "#FF6692",
           "#B6E880",
           "#FF97FF",
           "#FECB52"
          ],
          "font": {
           "color": "#2a3f5f"
          },
          "geo": {
           "bgcolor": "white",
           "lakecolor": "white",
           "landcolor": "#E5ECF6",
           "showlakes": true,
           "showland": true,
           "subunitcolor": "white"
          },
          "hoverlabel": {
           "align": "left"
          },
          "hovermode": "closest",
          "mapbox": {
           "style": "light"
          },
          "paper_bgcolor": "white",
          "plot_bgcolor": "#E5ECF6",
          "polar": {
           "angularaxis": {
            "gridcolor": "white",
            "linecolor": "white",
            "ticks": ""
           },
           "bgcolor": "#E5ECF6",
           "radialaxis": {
            "gridcolor": "white",
            "linecolor": "white",
            "ticks": ""
           }
          },
          "scene": {
           "xaxis": {
            "backgroundcolor": "#E5ECF6",
            "gridcolor": "white",
            "gridwidth": 2,
            "linecolor": "white",
            "showbackground": true,
            "ticks": "",
            "zerolinecolor": "white"
           },
           "yaxis": {
            "backgroundcolor": "#E5ECF6",
            "gridcolor": "white",
            "gridwidth": 2,
            "linecolor": "white",
            "showbackground": true,
            "ticks": "",
            "zerolinecolor": "white"
           },
           "zaxis": {
            "backgroundcolor": "#E5ECF6",
            "gridcolor": "white",
            "gridwidth": 2,
            "linecolor": "white",
            "showbackground": true,
            "ticks": "",
            "zerolinecolor": "white"
           }
          },
          "shapedefaults": {
           "line": {
            "color": "#2a3f5f"
           }
          },
          "ternary": {
           "aaxis": {
            "gridcolor": "white",
            "linecolor": "white",
            "ticks": ""
           },
           "baxis": {
            "gridcolor": "white",
            "linecolor": "white",
            "ticks": ""
           },
           "bgcolor": "#E5ECF6",
           "caxis": {
            "gridcolor": "white",
            "linecolor": "white",
            "ticks": ""
           }
          },
          "title": {
           "x": 0.05
          },
          "xaxis": {
           "automargin": true,
           "gridcolor": "white",
           "linecolor": "white",
           "ticks": "",
           "title": {
            "standoff": 15
           },
           "zerolinecolor": "white",
           "zerolinewidth": 2
          },
          "yaxis": {
           "automargin": true,
           "gridcolor": "white",
           "linecolor": "white",
           "ticks": "",
           "title": {
            "standoff": 15
           },
           "zerolinecolor": "white",
           "zerolinewidth": 2
          }
         }
        },
        "xaxis": {
         "anchor": "y",
         "domain": [
          0,
          1
         ],
         "title": {
          "text": "Station Name"
         }
        },
        "yaxis": {
         "anchor": "x",
         "domain": [
          0,
          1
         ],
         "title": {
          "text": "Brd_OD"
         }
        }
       }
      }
     },
     "metadata": {},
     "output_type": "display_data"
    },
    {
     "data": {
      "application/vnd.jupyter.widget-view+json": {
       "model_id": "8b9767e0c9e9414a8cd264e96b5759ae",
       "version_major": 2,
       "version_minor": 0
      },
      "text/plain": [
       "Output()"
      ]
     },
     "metadata": {},
     "output_type": "display_data"
    }
   ],
   "source": [
    "from ipywidgets import Layout\n",
    "\n",
    "lstValues = list(['Brd_OD','Brd_Direct_OD','Brd_Transfer_OD'])\n",
    "accessModeOptions = ['drive', 'walk', 'All']\n",
    "viewOptions = ['Graph', 'Table']\n",
    "\n",
    "selectValues = widgets.Select(options=lstValues, value=('Brd_OD' ), description = 'Select Variable')\n",
    "selectAccessMode = widgets.Dropdown(options=accessModeOptions, value='All', description='Access Mode')\n",
    "selectViewOption = widgets.Dropdown(options=viewOptions, value='Graph', description='View')\n",
    "\n",
    "\n",
    "# Set up a global variable to track whether the widgets have been changed\n",
    "firstTime = False\n",
    "\n",
    "# create output widget to display filtered DataFrame\n",
    "output = widgets.Output()\n",
    "hbox = widgets.HBox([selectValues, selectAccessMode, selectViewOption])\n",
    "\n",
    "# create interactive widget\n",
    "interactive_output = widgets.interactive_output(plotit, {'variable':selectValues, 'access_mode': selectAccessMode, 'view_option': selectViewOption})\n",
    "\n",
    "display(hbox)\n",
    "display(interactive_output)\n",
    "display(output)"
   ]
  },
  {
   "cell_type": "markdown",
   "metadata": {},
   "source": [
    "### Compare Drive Direct to PNR Space Limits"
   ]
  },
  {
   "cell_type": "code",
   "execution_count": 249,
   "metadata": {},
   "outputs": [
    {
     "data": {
      "application/vnd.plotly.v1+json": {
       "config": {
        "plotlyServerURL": "https://plot.ly"
       },
       "data": [
        {
         "alignmentgroup": "True",
         "hovertemplate": "Data Source=TDM<br>Station=%{x}<br>Value=%{y}<extra></extra>",
         "legendgroup": "TDM",
         "marker": {
          "color": "#636efa",
          "pattern": {
           "shape": ""
          }
         },
         "name": "TDM",
         "offsetgroup": "TDM",
         "orientation": "v",
         "showlegend": true,
         "textposition": "auto",
         "type": "bar",
         "x": [
          "01-PROVO CENTRAL STATION",
          "02-OREM CENTRAL STATION",
          "03-AMERICAN FORK STATION",
          "04-LEHI STATION",
          "05-DRAPER STATION",
          "06-SOUTH JORDAN STATION",
          "07-MURRAY CENTRAL STATION",
          "08-SALT LAKE CENTRAL STATION",
          "09-NORTH TEMPLE STATION",
          "10-WOODS CROSS STATION",
          "11-FARMINGTON STATION",
          "12-LAYTON STATION",
          "13-CLEARFIELD STATION",
          "14-ROY STATION",
          "15-OGDEN STATION"
         ],
         "xaxis": "x",
         "y": [
          143.41,
          604.29,
          760.49,
          731.29,
          605.03,
          709.175,
          515.815,
          261.35,
          714.68,
          488.605,
          266.86,
          442.14,
          376.765,
          509.71,
          339.475
         ],
         "yaxis": "y"
        },
        {
         "alignmentgroup": "True",
         "hovertemplate": "Data Source=OBS<br>Station=%{x}<br>Value=%{y}<extra></extra>",
         "legendgroup": "OBS",
         "marker": {
          "color": "#EF553B",
          "pattern": {
           "shape": ""
          }
         },
         "name": "OBS",
         "offsetgroup": "OBS",
         "orientation": "v",
         "showlegend": true,
         "textposition": "auto",
         "type": "bar",
         "x": [
          "01-PROVO CENTRAL STATION",
          "02-OREM CENTRAL STATION",
          "03-AMERICAN FORK STATION",
          "04-LEHI STATION",
          "05-DRAPER STATION",
          "06-SOUTH JORDAN STATION",
          "07-MURRAY CENTRAL STATION",
          "08-SALT LAKE CENTRAL STATION",
          "09-NORTH TEMPLE STATION",
          "10-WOODS CROSS STATION",
          "11-FARMINGTON STATION",
          "12-LAYTON STATION",
          "13-CLEARFIELD STATION",
          "14-ROY STATION",
          "15-OGDEN STATION"
         ],
         "xaxis": "x",
         "y": [
          1510.546,
          864.088,
          772.848,
          821.488,
          597.636,
          616.688,
          471.299,
          472.902,
          393.477,
          442.753,
          285.257,
          622.265,
          482.896,
          424.983,
          910.785
         ],
         "yaxis": "y"
        },
        {
         "alignmentgroup": "True",
         "hovertemplate": "Data Source=PNR_Spaces<br>Station=%{x}<br>Value=%{y}<extra></extra>",
         "legendgroup": "PNR_Spaces",
         "marker": {
          "color": "#00cc96",
          "pattern": {
           "shape": ""
          }
         },
         "name": "PNR_Spaces",
         "offsetgroup": "PNR_Spaces",
         "orientation": "v",
         "showlegend": true,
         "textposition": "auto",
         "type": "bar",
         "x": [
          "01-PROVO CENTRAL STATION",
          "02-OREM CENTRAL STATION",
          "03-AMERICAN FORK STATION",
          "04-LEHI STATION",
          "05-DRAPER STATION",
          "06-SOUTH JORDAN STATION",
          "07-MURRAY CENTRAL STATION",
          "08-SALT LAKE CENTRAL STATION",
          "09-NORTH TEMPLE STATION",
          "10-WOODS CROSS STATION",
          "11-FARMINGTON STATION",
          "12-LAYTON STATION",
          "13-CLEARFIELD STATION",
          "14-ROY STATION",
          "15-OGDEN STATION"
         ],
         "xaxis": "x",
         "y": [
          850,
          500,
          550,
          735,
          600,
          575,
          1100,
          150,
          375,
          230,
          870,
          380,
          560,
          500,
          475
         ],
         "yaxis": "y"
        }
       ],
       "layout": {
        "barmode": "group",
        "height": 600,
        "legend": {
         "title": {
          "text": "Source"
         },
         "tracegroupgap": 0
        },
        "showlegend": true,
        "template": {
         "data": {
          "bar": [
           {
            "error_x": {
             "color": "#2a3f5f"
            },
            "error_y": {
             "color": "#2a3f5f"
            },
            "marker": {
             "line": {
              "color": "#E5ECF6",
              "width": 0.5
             },
             "pattern": {
              "fillmode": "overlay",
              "size": 10,
              "solidity": 0.2
             }
            },
            "type": "bar"
           }
          ],
          "barpolar": [
           {
            "marker": {
             "line": {
              "color": "#E5ECF6",
              "width": 0.5
             },
             "pattern": {
              "fillmode": "overlay",
              "size": 10,
              "solidity": 0.2
             }
            },
            "type": "barpolar"
           }
          ],
          "carpet": [
           {
            "aaxis": {
             "endlinecolor": "#2a3f5f",
             "gridcolor": "white",
             "linecolor": "white",
             "minorgridcolor": "white",
             "startlinecolor": "#2a3f5f"
            },
            "baxis": {
             "endlinecolor": "#2a3f5f",
             "gridcolor": "white",
             "linecolor": "white",
             "minorgridcolor": "white",
             "startlinecolor": "#2a3f5f"
            },
            "type": "carpet"
           }
          ],
          "choropleth": [
           {
            "colorbar": {
             "outlinewidth": 0,
             "ticks": ""
            },
            "type": "choropleth"
           }
          ],
          "contour": [
           {
            "colorbar": {
             "outlinewidth": 0,
             "ticks": ""
            },
            "colorscale": [
             [
              0,
              "#0d0887"
             ],
             [
              0.1111111111111111,
              "#46039f"
             ],
             [
              0.2222222222222222,
              "#7201a8"
             ],
             [
              0.3333333333333333,
              "#9c179e"
             ],
             [
              0.4444444444444444,
              "#bd3786"
             ],
             [
              0.5555555555555556,
              "#d8576b"
             ],
             [
              0.6666666666666666,
              "#ed7953"
             ],
             [
              0.7777777777777778,
              "#fb9f3a"
             ],
             [
              0.8888888888888888,
              "#fdca26"
             ],
             [
              1,
              "#f0f921"
             ]
            ],
            "type": "contour"
           }
          ],
          "contourcarpet": [
           {
            "colorbar": {
             "outlinewidth": 0,
             "ticks": ""
            },
            "type": "contourcarpet"
           }
          ],
          "heatmap": [
           {
            "colorbar": {
             "outlinewidth": 0,
             "ticks": ""
            },
            "colorscale": [
             [
              0,
              "#0d0887"
             ],
             [
              0.1111111111111111,
              "#46039f"
             ],
             [
              0.2222222222222222,
              "#7201a8"
             ],
             [
              0.3333333333333333,
              "#9c179e"
             ],
             [
              0.4444444444444444,
              "#bd3786"
             ],
             [
              0.5555555555555556,
              "#d8576b"
             ],
             [
              0.6666666666666666,
              "#ed7953"
             ],
             [
              0.7777777777777778,
              "#fb9f3a"
             ],
             [
              0.8888888888888888,
              "#fdca26"
             ],
             [
              1,
              "#f0f921"
             ]
            ],
            "type": "heatmap"
           }
          ],
          "heatmapgl": [
           {
            "colorbar": {
             "outlinewidth": 0,
             "ticks": ""
            },
            "colorscale": [
             [
              0,
              "#0d0887"
             ],
             [
              0.1111111111111111,
              "#46039f"
             ],
             [
              0.2222222222222222,
              "#7201a8"
             ],
             [
              0.3333333333333333,
              "#9c179e"
             ],
             [
              0.4444444444444444,
              "#bd3786"
             ],
             [
              0.5555555555555556,
              "#d8576b"
             ],
             [
              0.6666666666666666,
              "#ed7953"
             ],
             [
              0.7777777777777778,
              "#fb9f3a"
             ],
             [
              0.8888888888888888,
              "#fdca26"
             ],
             [
              1,
              "#f0f921"
             ]
            ],
            "type": "heatmapgl"
           }
          ],
          "histogram": [
           {
            "marker": {
             "pattern": {
              "fillmode": "overlay",
              "size": 10,
              "solidity": 0.2
             }
            },
            "type": "histogram"
           }
          ],
          "histogram2d": [
           {
            "colorbar": {
             "outlinewidth": 0,
             "ticks": ""
            },
            "colorscale": [
             [
              0,
              "#0d0887"
             ],
             [
              0.1111111111111111,
              "#46039f"
             ],
             [
              0.2222222222222222,
              "#7201a8"
             ],
             [
              0.3333333333333333,
              "#9c179e"
             ],
             [
              0.4444444444444444,
              "#bd3786"
             ],
             [
              0.5555555555555556,
              "#d8576b"
             ],
             [
              0.6666666666666666,
              "#ed7953"
             ],
             [
              0.7777777777777778,
              "#fb9f3a"
             ],
             [
              0.8888888888888888,
              "#fdca26"
             ],
             [
              1,
              "#f0f921"
             ]
            ],
            "type": "histogram2d"
           }
          ],
          "histogram2dcontour": [
           {
            "colorbar": {
             "outlinewidth": 0,
             "ticks": ""
            },
            "colorscale": [
             [
              0,
              "#0d0887"
             ],
             [
              0.1111111111111111,
              "#46039f"
             ],
             [
              0.2222222222222222,
              "#7201a8"
             ],
             [
              0.3333333333333333,
              "#9c179e"
             ],
             [
              0.4444444444444444,
              "#bd3786"
             ],
             [
              0.5555555555555556,
              "#d8576b"
             ],
             [
              0.6666666666666666,
              "#ed7953"
             ],
             [
              0.7777777777777778,
              "#fb9f3a"
             ],
             [
              0.8888888888888888,
              "#fdca26"
             ],
             [
              1,
              "#f0f921"
             ]
            ],
            "type": "histogram2dcontour"
           }
          ],
          "mesh3d": [
           {
            "colorbar": {
             "outlinewidth": 0,
             "ticks": ""
            },
            "type": "mesh3d"
           }
          ],
          "parcoords": [
           {
            "line": {
             "colorbar": {
              "outlinewidth": 0,
              "ticks": ""
             }
            },
            "type": "parcoords"
           }
          ],
          "pie": [
           {
            "automargin": true,
            "type": "pie"
           }
          ],
          "scatter": [
           {
            "fillpattern": {
             "fillmode": "overlay",
             "size": 10,
             "solidity": 0.2
            },
            "type": "scatter"
           }
          ],
          "scatter3d": [
           {
            "line": {
             "colorbar": {
              "outlinewidth": 0,
              "ticks": ""
             }
            },
            "marker": {
             "colorbar": {
              "outlinewidth": 0,
              "ticks": ""
             }
            },
            "type": "scatter3d"
           }
          ],
          "scattercarpet": [
           {
            "marker": {
             "colorbar": {
              "outlinewidth": 0,
              "ticks": ""
             }
            },
            "type": "scattercarpet"
           }
          ],
          "scattergeo": [
           {
            "marker": {
             "colorbar": {
              "outlinewidth": 0,
              "ticks": ""
             }
            },
            "type": "scattergeo"
           }
          ],
          "scattergl": [
           {
            "marker": {
             "colorbar": {
              "outlinewidth": 0,
              "ticks": ""
             }
            },
            "type": "scattergl"
           }
          ],
          "scattermapbox": [
           {
            "marker": {
             "colorbar": {
              "outlinewidth": 0,
              "ticks": ""
             }
            },
            "type": "scattermapbox"
           }
          ],
          "scatterpolar": [
           {
            "marker": {
             "colorbar": {
              "outlinewidth": 0,
              "ticks": ""
             }
            },
            "type": "scatterpolar"
           }
          ],
          "scatterpolargl": [
           {
            "marker": {
             "colorbar": {
              "outlinewidth": 0,
              "ticks": ""
             }
            },
            "type": "scatterpolargl"
           }
          ],
          "scatterternary": [
           {
            "marker": {
             "colorbar": {
              "outlinewidth": 0,
              "ticks": ""
             }
            },
            "type": "scatterternary"
           }
          ],
          "surface": [
           {
            "colorbar": {
             "outlinewidth": 0,
             "ticks": ""
            },
            "colorscale": [
             [
              0,
              "#0d0887"
             ],
             [
              0.1111111111111111,
              "#46039f"
             ],
             [
              0.2222222222222222,
              "#7201a8"
             ],
             [
              0.3333333333333333,
              "#9c179e"
             ],
             [
              0.4444444444444444,
              "#bd3786"
             ],
             [
              0.5555555555555556,
              "#d8576b"
             ],
             [
              0.6666666666666666,
              "#ed7953"
             ],
             [
              0.7777777777777778,
              "#fb9f3a"
             ],
             [
              0.8888888888888888,
              "#fdca26"
             ],
             [
              1,
              "#f0f921"
             ]
            ],
            "type": "surface"
           }
          ],
          "table": [
           {
            "cells": {
             "fill": {
              "color": "#EBF0F8"
             },
             "line": {
              "color": "white"
             }
            },
            "header": {
             "fill": {
              "color": "#C8D4E3"
             },
             "line": {
              "color": "white"
             }
            },
            "type": "table"
           }
          ]
         },
         "layout": {
          "annotationdefaults": {
           "arrowcolor": "#2a3f5f",
           "arrowhead": 0,
           "arrowwidth": 1
          },
          "autotypenumbers": "strict",
          "coloraxis": {
           "colorbar": {
            "outlinewidth": 0,
            "ticks": ""
           }
          },
          "colorscale": {
           "diverging": [
            [
             0,
             "#8e0152"
            ],
            [
             0.1,
             "#c51b7d"
            ],
            [
             0.2,
             "#de77ae"
            ],
            [
             0.3,
             "#f1b6da"
            ],
            [
             0.4,
             "#fde0ef"
            ],
            [
             0.5,
             "#f7f7f7"
            ],
            [
             0.6,
             "#e6f5d0"
            ],
            [
             0.7,
             "#b8e186"
            ],
            [
             0.8,
             "#7fbc41"
            ],
            [
             0.9,
             "#4d9221"
            ],
            [
             1,
             "#276419"
            ]
           ],
           "sequential": [
            [
             0,
             "#0d0887"
            ],
            [
             0.1111111111111111,
             "#46039f"
            ],
            [
             0.2222222222222222,
             "#7201a8"
            ],
            [
             0.3333333333333333,
             "#9c179e"
            ],
            [
             0.4444444444444444,
             "#bd3786"
            ],
            [
             0.5555555555555556,
             "#d8576b"
            ],
            [
             0.6666666666666666,
             "#ed7953"
            ],
            [
             0.7777777777777778,
             "#fb9f3a"
            ],
            [
             0.8888888888888888,
             "#fdca26"
            ],
            [
             1,
             "#f0f921"
            ]
           ],
           "sequentialminus": [
            [
             0,
             "#0d0887"
            ],
            [
             0.1111111111111111,
             "#46039f"
            ],
            [
             0.2222222222222222,
             "#7201a8"
            ],
            [
             0.3333333333333333,
             "#9c179e"
            ],
            [
             0.4444444444444444,
             "#bd3786"
            ],
            [
             0.5555555555555556,
             "#d8576b"
            ],
            [
             0.6666666666666666,
             "#ed7953"
            ],
            [
             0.7777777777777778,
             "#fb9f3a"
            ],
            [
             0.8888888888888888,
             "#fdca26"
            ],
            [
             1,
             "#f0f921"
            ]
           ]
          },
          "colorway": [
           "#636efa",
           "#EF553B",
           "#00cc96",
           "#ab63fa",
           "#FFA15A",
           "#19d3f3",
           "#FF6692",
           "#B6E880",
           "#FF97FF",
           "#FECB52"
          ],
          "font": {
           "color": "#2a3f5f"
          },
          "geo": {
           "bgcolor": "white",
           "lakecolor": "white",
           "landcolor": "#E5ECF6",
           "showlakes": true,
           "showland": true,
           "subunitcolor": "white"
          },
          "hoverlabel": {
           "align": "left"
          },
          "hovermode": "closest",
          "mapbox": {
           "style": "light"
          },
          "paper_bgcolor": "white",
          "plot_bgcolor": "#E5ECF6",
          "polar": {
           "angularaxis": {
            "gridcolor": "white",
            "linecolor": "white",
            "ticks": ""
           },
           "bgcolor": "#E5ECF6",
           "radialaxis": {
            "gridcolor": "white",
            "linecolor": "white",
            "ticks": ""
           }
          },
          "scene": {
           "xaxis": {
            "backgroundcolor": "#E5ECF6",
            "gridcolor": "white",
            "gridwidth": 2,
            "linecolor": "white",
            "showbackground": true,
            "ticks": "",
            "zerolinecolor": "white"
           },
           "yaxis": {
            "backgroundcolor": "#E5ECF6",
            "gridcolor": "white",
            "gridwidth": 2,
            "linecolor": "white",
            "showbackground": true,
            "ticks": "",
            "zerolinecolor": "white"
           },
           "zaxis": {
            "backgroundcolor": "#E5ECF6",
            "gridcolor": "white",
            "gridwidth": 2,
            "linecolor": "white",
            "showbackground": true,
            "ticks": "",
            "zerolinecolor": "white"
           }
          },
          "shapedefaults": {
           "line": {
            "color": "#2a3f5f"
           }
          },
          "ternary": {
           "aaxis": {
            "gridcolor": "white",
            "linecolor": "white",
            "ticks": ""
           },
           "baxis": {
            "gridcolor": "white",
            "linecolor": "white",
            "ticks": ""
           },
           "bgcolor": "#E5ECF6",
           "caxis": {
            "gridcolor": "white",
            "linecolor": "white",
            "ticks": ""
           }
          },
          "title": {
           "x": 0.05
          },
          "xaxis": {
           "automargin": true,
           "gridcolor": "white",
           "linecolor": "white",
           "ticks": "",
           "title": {
            "standoff": 15
           },
           "zerolinecolor": "white",
           "zerolinewidth": 2
          },
          "yaxis": {
           "automargin": true,
           "gridcolor": "white",
           "linecolor": "white",
           "ticks": "",
           "title": {
            "standoff": 15
           },
           "zerolinecolor": "white",
           "zerolinewidth": 2
          }
         }
        },
        "title": {
         "text": "Station Metrics Comparison: TDM vs OBS vs PNR Spaces"
        },
        "xaxis": {
         "anchor": "y",
         "categoryarray": [
          "01-PROVO CENTRAL STATION",
          "02-OREM CENTRAL STATION",
          "03-AMERICAN FORK STATION",
          "04-LEHI STATION",
          "05-DRAPER STATION",
          "06-SOUTH JORDAN STATION",
          "07-MURRAY CENTRAL STATION",
          "08-SALT LAKE CENTRAL STATION",
          "09-NORTH TEMPLE STATION",
          "10-WOODS CROSS STATION",
          "11-FARMINGTON STATION",
          "12-LAYTON STATION",
          "13-CLEARFIELD STATION",
          "14-ROY STATION",
          "15-OGDEN STATION"
         ],
         "categoryorder": "array",
         "domain": [
          0,
          1
         ],
         "title": {
          "text": "Station"
         }
        },
        "yaxis": {
         "anchor": "x",
         "domain": [
          0,
          1
         ],
         "title": {
          "text": "Value"
         }
        }
       }
      }
     },
     "metadata": {},
     "output_type": "display_data"
    }
   ],
   "source": [
    "# filter to just direct drive\n",
    "pnr_stats = sumStats[sumStats['AccessMode'] == 'drive']\n",
    "pnr_stats = pnr_stats[['Source','station','Brd_Direct_OD']]\n",
    "\n",
    "# prep pnr input\n",
    "df_stations_rename = df_stations3.rename(columns={'PNR_Spaces':'Brd_Direct_OD'})\n",
    "df_stations_rename['Source'] = 'PNR_Spaces'\n",
    "\n",
    "# concat dfs\n",
    "pnr_stats = pd.concat([pnr_stats, df_stations_rename]).reset_index()\n",
    "\n",
    "# Create a grouped bar chart\n",
    "fig = px.bar(\n",
    "    pnr_stats,\n",
    "    x=\"station\",\n",
    "    y=\"Brd_Direct_OD\",\n",
    "    color=\"Source\",\n",
    "    barmode=\"group\",\n",
    "    title=\"Station Metrics Comparison: TDM vs OBS vs PNR Spaces\",\n",
    "    labels={\"Brd_Direct_OD\": \"Value\", \"station\": \"Station\", \"Source\": \"Data Source\"},\n",
    "    height=600\n",
    ")\n",
    "\n",
    "# Customize the layout\n",
    "fig.update_layout(\n",
    "    xaxis_title=\"Station\",\n",
    "    yaxis_title=\"Value\",\n",
    "    legend_title=\"Source\",\n",
    "    xaxis={'categoryorder': 'array', 'categoryarray': sorted(pnr_stats[\"station\"].unique())},\n",
    "    showlegend=True\n",
    ")\n",
    "\n",
    "# Show the plot\n",
    "fig.show()"
   ]
  },
  {
   "cell_type": "markdown",
   "metadata": {},
   "source": [
    "## Conclusions"
   ]
  },
  {
   "cell_type": "markdown",
   "metadata": {},
   "source": [
    " - As it was in the model a few versions ago, boardings at Provo Station are significantly lower than observed. Boardings at Ogden station, Salt Lake Central station, and Orem station are also of note. Higher boardings than observed is shown at North Temple.\n",
    " - the OD direction looks a little funky, so lets use PA direction for future comparisons"
   ]
  }
 ],
 "metadata": {
  "kernelspec": {
   "display_name": "Python 3",
   "language": "python",
   "name": "python3"
  },
  "language_info": {
   "codemirror_mode": {
    "name": "ipython",
    "version": 3
   },
   "file_extension": ".py",
   "mimetype": "text/x-python",
   "name": "python",
   "nbconvert_exporter": "python",
   "pygments_lexer": "ipython3",
   "version": "3.9.16"
  },
  "orig_nbformat": 4
 },
 "nbformat": 4,
 "nbformat_minor": 2
}
