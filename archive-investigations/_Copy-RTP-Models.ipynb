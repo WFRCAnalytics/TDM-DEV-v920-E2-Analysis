{
 "cells": [
  {
   "cell_type": "code",
   "execution_count": null,
   "metadata": {},
   "outputs": [
    {
     "name": "stdout",
     "output_type": "stream",
     "text": [
      "Folder copied successfully from V:\\1 - TDM\\1 - Official Release (full run)\\v9x\\v9.1\\v9.1.0\\WF-TDM-v9.1.0 - official\\Scenarios\\BY_2019 to E:\\GitHub\\WF-TDM-v9x\\Scenarios\\v910_official\\BY_2019\n"
     ]
    }
   ],
   "source": [
    "import shutil\n",
    "import os\n",
    "\n",
    "# List of source and destination paths\n",
    "scenarios = [\n",
    "    {\n",
    "        \"source\": r\"V:\\\\1 - TDM\\\\1 - Official Release (full run)\\\\v9x\\\\v9.1\\\\v9.1.0\\\\WF-TDM-v9.1.0 - official\\\\Scenarios\\\\BY_2019\",\n",
    "        \"destination\": r\"E:\\\\GitHub\\\\WF-TDM-v9x\\\\Scenarios\\\\v910_UrbanVal0\\\\BY_2019\",\n",
    "    },\n",
    "    {\n",
    "        \"source\": r\"V:\\\\1 - TDM\\\\1 - Official Release (full run)\\\\v9x\\\\v9.1\\\\v9.1.0\\\\WF-TDM-v9.1.0 - official\\\\Scenarios\\\\OY_2023\",\n",
    "        \"destination\": r\"E:\\\\GitHub\\\\WF-TDM-v9x\\\\Scenarios\\\\v910_UrbanVal0\\\\OY_2023\",\n",
    "    },\n",
    "    {\n",
    "        \"source\": r\"V:\\\\1 - TDM\\\\1 - Official Release (full run)\\\\v9x\\\\v9.1\\\\v9.1.0\\\\WF-TDM-v9.1.0 - official\\\\Scenarios\\\\RTP_2050\",\n",
    "        \"destination\": r\"E:\\\\GitHub\\\\WF-TDM-v9x\\\\Scenarios\\\\v910_UrbanVal0\\\\RTP_2050\",\n",
    "    },\n",
    "]\n",
    "\n",
    "# Loop through each scenario and copy the folders\n",
    "for scenario in scenarios:\n",
    "    source = scenario[\"source\"]\n",
    "    destination = scenario[\"destination\"]\n",
    "\n",
    "    # Ensure the destination directory exists\n",
    "    os.makedirs(os.path.dirname(destination), exist_ok=True)\n",
    "\n",
    "    # Copy the folder\n",
    "    try:\n",
    "        shutil.copytree(source, destination)\n",
    "        print(f\"Folder copied successfully from {source} to {destination}\")\n",
    "    except FileExistsError:\n",
    "        print(f\"The destination folder already exists: {destination}\")\n",
    "    except Exception as e:\n",
    "        print(f\"An error occurred while copying from {source} to {destination}: {e}\")"
   ]
  },
  {
   "cell_type": "code",
   "execution_count": 6,
   "metadata": {},
   "outputs": [
    {
     "name": "stdout",
     "output_type": "stream",
     "text": [
      "File copied successfully from E:\\GitHub\\WF-TDM-v9x\\Scenarios\\v910_official\\RTP_2050\\0GeneralParameters.block to Modified_Scripts\\0GeneralParameters.block\n",
      "File copied successfully from E:\\GitHub\\WF-TDM-v9x\\Scenarios\\v910_official\\RTP_2050\\1ControlCenter.block to Modified_Scripts\\1ControlCenter_RTP2050.block\n",
      "File copied successfully from E:\\GitHub\\WF-TDM-v9x\\Scenarios\\v910_official\\OY_2023\\1ControlCenter.block to Modified_Scripts\\1ControlCenter_OY2023.block\n",
      "File copied successfully from E:\\GitHub\\WF-TDM-v9x\\Scenarios\\v910_official\\BY_2019\\1ControlCenter.block to Modified_Scripts\\1ControlCenter_BY2019.block\n"
     ]
    }
   ],
   "source": [
    "import shutil\n",
    "import os\n",
    "\n",
    "# Define source and destination paths\n",
    "files_to_copy = [\n",
    "    {\n",
    "        \"source\": r\"E:\\GitHub\\WF-TDM-v9x\\Scenarios\\v910_official\\RTP_2050\\0GeneralParameters.block\",\n",
    "        \"destination\": r\"Modified_Scripts\\0GeneralParameters.block\"\n",
    "    },\n",
    "    {\n",
    "        \"source\": r\"E:\\GitHub\\WF-TDM-v9x\\Scenarios\\v910_official\\RTP_2050\\1ControlCenter.block\",\n",
    "        \"destination\": r\"Modified_Scripts\\1ControlCenter_RTP2050.block\"\n",
    "    },\n",
    "    {\n",
    "        \"source\": r\"E:\\GitHub\\WF-TDM-v9x\\Scenarios\\v910_official\\OY_2023\\1ControlCenter.block\",\n",
    "        \"destination\": r\"Modified_Scripts\\1ControlCenter_OY2023.block\"\n",
    "    },\n",
    "    {\n",
    "        \"source\": r\"E:\\GitHub\\WF-TDM-v9x\\Scenarios\\v910_official\\BY_2019\\1ControlCenter.block\",\n",
    "        \"destination\": r\"Modified_Scripts\\1ControlCenter_BY2019.block\"\n",
    "    }\n",
    "]\n",
    "\n",
    "# Copy files\n",
    "for file in files_to_copy:\n",
    "    source = file[\"source\"]\n",
    "    destination = file[\"destination\"]\n",
    "\n",
    "    # Ensure the destination directory exists\n",
    "    os.makedirs(os.path.dirname(destination), exist_ok=True)\n",
    "\n",
    "    try:\n",
    "        shutil.copy(source, destination)\n",
    "        print(f\"File copied successfully from {source} to {destination}\")\n",
    "    except Exception as e:\n",
    "        print(f\"An error occurred while copying {source} to {destination}: {e}\")\n"
   ]
  },
  {
   "cell_type": "code",
   "execution_count": 7,
   "metadata": {},
   "outputs": [
    {
     "name": "stdout",
     "output_type": "stream",
     "text": [
      "Modified variables in Modified_Scripts/1ControlCenter_RTP2050.block: {'ModelVersion': \"'WFv910_NoUrbanVal'\", 'ParentDir': \"'E:\\\\GitHub\\\\WF-TDM-v9x\\\\'\", 'ScenarioDir': \"'Scenarios\\\\v910_official\\\\RTP_2050\\\\'\"}\n",
      "Modified variables in Modified_Scripts/1ControlCenter_OY2023.block: {'ModelVersion': \"'WFv910_NoUrbanVal'\", 'ParentDir': \"'E:\\\\GitHub\\\\WF-TDM-v9x\\\\'\", 'ScenarioDir': \"'Scenarios\\\\v910_official\\\\OY_2023\\\\'\"}\n",
      "Modified variables in Modified_Scripts/1ControlCenter_BY2019.block: {'ModelVersion': \"'WFv910_NoUrbanVal'\", 'ParentDir': \"'E:\\\\GitHub\\\\WF-TDM-v9x\\\\'\", 'ScenarioDir': \"'Scenarios\\\\v910_official\\\\BY_2019\\\\'\"}\n"
     ]
    }
   ],
   "source": [
    "import os\n",
    "\n",
    "# Define source files, variables, and their respective new values\n",
    "files_to_modify = [\n",
    "    {\n",
    "        \"file_path\": \"Modified_Scripts/1ControlCenter_RTP2050.block\",\n",
    "        \"variables_to_modify\": {\n",
    "            \"ModelVersion\": \"'WFv910_NoUrbanVal'\",\n",
    "            \"ParentDir\": \"'E:\\\\GitHub\\\\WF-TDM-v9x\\\\'\",\n",
    "            \"ScenarioDir\": \"'Scenarios\\\\v910_official\\\\RTP_2050\\\\'\"\n",
    "         }\n",
    "    },\n",
    "    {\n",
    "        \"file_path\": \"Modified_Scripts/1ControlCenter_OY2023.block\",\n",
    "        \"variables_to_modify\": {\n",
    "            \"ModelVersion\": \"'WFv910_NoUrbanVal'\",\n",
    "            \"ParentDir\": \"'E:\\\\GitHub\\\\WF-TDM-v9x\\\\'\",\n",
    "            \"ScenarioDir\": \"'Scenarios\\\\v910_official\\\\OY_2023\\\\'\"\n",
    "        }\n",
    "    },\n",
    "    {\n",
    "        \"file_path\": \"Modified_Scripts/1ControlCenter_BY2019.block\",\n",
    "        \"variables_to_modify\": {\n",
    "            \"ModelVersion\": \"'WFv910_NoUrbanVal'\",\n",
    "            \"ParentDir\": \"'E:\\\\GitHub\\\\WF-TDM-v9x\\\\'\",\n",
    "            \"ScenarioDir\": \"'Scenarios\\\\v910_official\\\\BY_2019\\\\'\"\n",
    "        }\n",
    "    }\n",
    "]\n",
    "\n",
    "# Process each file\n",
    "for file_info in files_to_modify:\n",
    "    file_path = file_info[\"file_path\"]\n",
    "    variables_to_modify = file_info[\"variables_to_modify\"]\n",
    "\n",
    "    if os.path.exists(file_path):\n",
    "        # Read and modify the file content\n",
    "        with open(file_path, 'r') as file:\n",
    "            lines = file.readlines()\n",
    "        \n",
    "        # Modify the lines containing the target variables\n",
    "        modified_lines = []\n",
    "        for line in lines:\n",
    "            for variable, new_value in variables_to_modify.items():\n",
    "                if line.strip().startswith(f\"{variable}\"):\n",
    "                    line = f\"        {variable}         = {new_value}\\n\"\n",
    "            modified_lines.append(line)\n",
    "        \n",
    "        # Write the modified content back to the file\n",
    "        with open(file_path, 'w') as file:\n",
    "            file.writelines(modified_lines)\n",
    "        print(f\"Modified variables in {file_path}: {variables_to_modify}\")\n",
    "    else:\n",
    "        print(f\"File not found: {file_path}\")\n"
   ]
  }
 ],
 "metadata": {
  "kernelspec": {
   "display_name": "base",
   "language": "python",
   "name": "python3"
  },
  "language_info": {
   "codemirror_mode": {
    "name": "ipython",
    "version": 3
   },
   "file_extension": ".py",
   "mimetype": "text/x-python",
   "name": "python",
   "nbconvert_exporter": "python",
   "pygments_lexer": "ipython3",
   "version": "3.9.13"
  }
 },
 "nbformat": 4,
 "nbformat_minor": 2
}
