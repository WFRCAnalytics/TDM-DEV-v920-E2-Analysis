{
 "cells": [
  {
   "cell_type": "code",
   "execution_count": 1,
   "metadata": {},
   "outputs": [],
   "source": [
    "import os\n",
    "import pandas as pd\n",
    "import plotly\n",
    "import numpy as np\n",
    "import plotly.express as px\n",
    "import plotly.graph_objects as go\n",
    "import plotly as pys\n",
    "import ipywidgets as widgets\n",
    "from ipywidgets import Layout\n",
    "\n",
    "import _global_scripts as gs"
   ]
  },
  {
   "cell_type": "markdown",
   "metadata": {},
   "source": [
    "## Purpose"
   ]
  },
  {
   "cell_type": "markdown",
   "metadata": {},
   "source": [
    "Consider removing the crt distance variable that discourages close trips and replace with something that discourages close AND encourages far distances\n",
    "\n",
    " - **2.7.1** Piecewise function. Up to 60 the slope is half as much, beyond 60 the slop is 1/12 its original pace. \n",
    " - **2.7.2** Run same equation but with only 1 CRT drive access link per TAZ\n",
    " \n",
    "\n",
    "*Please note that E2.7.1 includes a ADJ_CONST_CRT_UT = -5 and ADJ_CONST_CRT_DA =  5 to encourage utah county CRT and discourage davis county crt. I meant to turn these off, but forgot. E2.7.2 sets these back to 0*"
   ]
  },
  {
   "cell_type": "markdown",
   "metadata": {},
   "source": [
    "## Inputs"
   ]
  },
  {
   "cell_type": "code",
   "execution_count": 2,
   "metadata": {},
   "outputs": [],
   "source": [
    "# set whether you want PA or OD analysis\n",
    "pa_od = 'PA'\n",
    "pa_od_function = 'pa'"
   ]
  },
  {
   "cell_type": "code",
   "execution_count": 3,
   "metadata": {},
   "outputs": [],
   "source": [
    "df_tdm_obs = pd.read_csv(f\"_data/base_observed_summary_{pa_od_function}.csv\").sort_values(by=['Source','station'], ascending=True).reset_index(drop=True)\n",
    "if(pa_od == 'PA'):\n",
    "        df_tdm_obs = df_tdm_obs.drop(columns={'Alt_PA','Alt_Direct_PA','Alt_Transfer_PA'})\n",
    "\n",
    "# read in results for e2.7.1 before recalibration\n",
    "path_brding_summary_271_b4 = r\"_data/E2.7/E2.7.1_node_b4calib.csv\"\n",
    "path_rider_summary_271_b4  = r\"_data/E2.7/E2.7.1_link_b4calib.csv\"\n",
    "\n",
    "# read in results for e2.7.1 after recalibration\n",
    "path_brding_summary_271 = r\"_data/E2.7/E2.7.1_node.csv\"\n",
    "path_rider_summary_271  = r\"_data/E2.7/E2.7.1_link.csv\"\n",
    "\n",
    "# read in results for e2.7.2 after recalibration\n",
    "path_brding_summary_272 = r\"_data/E2.7/E2.7.2_node.csv\"\n",
    "path_rider_summary_272  = r\"_data/E2.7/E2.7.2_link.csv\""
   ]
  },
  {
   "cell_type": "code",
   "execution_count": 4,
   "metadata": {},
   "outputs": [
    {
     "name": "stderr",
     "output_type": "stream",
     "text": [
      "d:\\GitHub\\WF-TDM-v9x\\_scripts\\_global_scripts.py:27: DtypeWarning: Columns (3) have mixed types. Specify dtype option on import or set low_memory=False.\n",
      "  df_rider_summary = pd.read_csv(path_riders)\n",
      "d:\\GitHub\\WF-TDM-v9x\\_scripts\\_global_scripts.py:27: DtypeWarning: Columns (3) have mixed types. Specify dtype option on import or set low_memory=False.\n",
      "  df_rider_summary = pd.read_csv(path_riders)\n"
     ]
    },
    {
     "data": {
      "text/html": [
       "<div>\n",
       "<style scoped>\n",
       "    .dataframe tbody tr th:only-of-type {\n",
       "        vertical-align: middle;\n",
       "    }\n",
       "\n",
       "    .dataframe tbody tr th {\n",
       "        vertical-align: top;\n",
       "    }\n",
       "\n",
       "    .dataframe thead th {\n",
       "        text-align: right;\n",
       "    }\n",
       "</style>\n",
       "<table border=\"1\" class=\"dataframe\">\n",
       "  <thead>\n",
       "    <tr style=\"text-align: right;\">\n",
       "      <th></th>\n",
       "      <th>Source</th>\n",
       "      <th>station</th>\n",
       "      <th>AccessMode</th>\n",
       "      <th>Brd_PA</th>\n",
       "      <th>Brd_Direct_PA</th>\n",
       "      <th>Brd_Transfer_PA</th>\n",
       "    </tr>\n",
       "  </thead>\n",
       "  <tbody>\n",
       "    <tr>\n",
       "      <th>0</th>\n",
       "      <td>OBS</td>\n",
       "      <td>01-PROVO CENTRAL STATION</td>\n",
       "      <td>drive</td>\n",
       "      <td>2283.379</td>\n",
       "      <td>0.00</td>\n",
       "      <td>0.00</td>\n",
       "    </tr>\n",
       "    <tr>\n",
       "      <th>1</th>\n",
       "      <td>OBS</td>\n",
       "      <td>01-PROVO CENTRAL STATION</td>\n",
       "      <td>walk</td>\n",
       "      <td>945.908</td>\n",
       "      <td>0.00</td>\n",
       "      <td>0.00</td>\n",
       "    </tr>\n",
       "    <tr>\n",
       "      <th>2</th>\n",
       "      <td>OBS</td>\n",
       "      <td>02-OREM CENTRAL STATION</td>\n",
       "      <td>drive</td>\n",
       "      <td>1475.024</td>\n",
       "      <td>0.00</td>\n",
       "      <td>0.00</td>\n",
       "    </tr>\n",
       "    <tr>\n",
       "      <th>3</th>\n",
       "      <td>OBS</td>\n",
       "      <td>02-OREM CENTRAL STATION</td>\n",
       "      <td>walk</td>\n",
       "      <td>371.804</td>\n",
       "      <td>0.00</td>\n",
       "      <td>0.00</td>\n",
       "    </tr>\n",
       "    <tr>\n",
       "      <th>4</th>\n",
       "      <td>OBS</td>\n",
       "      <td>03-AMERICAN FORK STATION</td>\n",
       "      <td>drive</td>\n",
       "      <td>1423.768</td>\n",
       "      <td>0.00</td>\n",
       "      <td>0.00</td>\n",
       "    </tr>\n",
       "    <tr>\n",
       "      <th>...</th>\n",
       "      <td>...</td>\n",
       "      <td>...</td>\n",
       "      <td>...</td>\n",
       "      <td>...</td>\n",
       "      <td>...</td>\n",
       "      <td>...</td>\n",
       "    </tr>\n",
       "    <tr>\n",
       "      <th>115</th>\n",
       "      <td>TDM_2.7.2</td>\n",
       "      <td>11-FARMINGTON STATION</td>\n",
       "      <td>walk</td>\n",
       "      <td>189.730</td>\n",
       "      <td>134.91</td>\n",
       "      <td>54.82</td>\n",
       "    </tr>\n",
       "    <tr>\n",
       "      <th>116</th>\n",
       "      <td>TDM_2.7.2</td>\n",
       "      <td>12-LAYTON STATION</td>\n",
       "      <td>walk</td>\n",
       "      <td>365.950</td>\n",
       "      <td>140.89</td>\n",
       "      <td>225.06</td>\n",
       "    </tr>\n",
       "    <tr>\n",
       "      <th>117</th>\n",
       "      <td>TDM_2.7.2</td>\n",
       "      <td>13-CLEARFIELD STATION</td>\n",
       "      <td>walk</td>\n",
       "      <td>629.680</td>\n",
       "      <td>489.82</td>\n",
       "      <td>139.86</td>\n",
       "    </tr>\n",
       "    <tr>\n",
       "      <th>118</th>\n",
       "      <td>TDM_2.7.2</td>\n",
       "      <td>14-ROY STATION</td>\n",
       "      <td>walk</td>\n",
       "      <td>384.810</td>\n",
       "      <td>346.34</td>\n",
       "      <td>38.47</td>\n",
       "    </tr>\n",
       "    <tr>\n",
       "      <th>119</th>\n",
       "      <td>TDM_2.7.2</td>\n",
       "      <td>15-OGDEN STATION</td>\n",
       "      <td>walk</td>\n",
       "      <td>642.420</td>\n",
       "      <td>49.18</td>\n",
       "      <td>593.24</td>\n",
       "    </tr>\n",
       "  </tbody>\n",
       "</table>\n",
       "<p>120 rows × 6 columns</p>\n",
       "</div>"
      ],
      "text/plain": [
       "        Source                   station AccessMode    Brd_PA  Brd_Direct_PA  \\\n",
       "0          OBS  01-PROVO CENTRAL STATION      drive  2283.379           0.00   \n",
       "1          OBS  01-PROVO CENTRAL STATION       walk   945.908           0.00   \n",
       "2          OBS   02-OREM CENTRAL STATION      drive  1475.024           0.00   \n",
       "3          OBS   02-OREM CENTRAL STATION       walk   371.804           0.00   \n",
       "4          OBS  03-AMERICAN FORK STATION      drive  1423.768           0.00   \n",
       "..         ...                       ...        ...       ...            ...   \n",
       "115  TDM_2.7.2     11-FARMINGTON STATION       walk   189.730         134.91   \n",
       "116  TDM_2.7.2         12-LAYTON STATION       walk   365.950         140.89   \n",
       "117  TDM_2.7.2     13-CLEARFIELD STATION       walk   629.680         489.82   \n",
       "118  TDM_2.7.2            14-ROY STATION       walk   384.810         346.34   \n",
       "119  TDM_2.7.2          15-OGDEN STATION       walk   642.420          49.18   \n",
       "\n",
       "     Brd_Transfer_PA  \n",
       "0               0.00  \n",
       "1               0.00  \n",
       "2               0.00  \n",
       "3               0.00  \n",
       "4               0.00  \n",
       "..               ...  \n",
       "115            54.82  \n",
       "116           225.06  \n",
       "117           139.86  \n",
       "118            38.47  \n",
       "119           593.24  \n",
       "\n",
       "[120 rows x 6 columns]"
      ]
     },
     "metadata": {},
     "output_type": "display_data"
    }
   ],
   "source": [
    "# read in stations and summarize tdm results\n",
    "df_stations1 = gs.df_stations[['station','N']]\n",
    "df_tdm_271_b4 = gs.summarize_tdm_stats(path_brding_summary_271_b4,path_rider_summary_271_b4, df_stations1, 'TDM_2.7.1_b4', pa_od_function)\n",
    "df_tdm_271    = gs.summarize_tdm_stats(path_brding_summary_271,path_rider_summary_271, df_stations1, 'TDM_2.7.1', pa_od_function)\n",
    "df_tdm_272    = gs.summarize_tdm_stats(path_brding_summary_272,path_rider_summary_272, df_stations1, 'TDM_2.7.2', pa_od_function)\n",
    "\n",
    "# concat dataframes\n",
    "df_tdm_obs_new = pd.concat([\n",
    "        df_tdm_obs,\n",
    "        #df_tdm_271_b4,\n",
    "        df_tdm_271,\n",
    "        df_tdm_272\n",
    "    ]).reset_index()\n",
    "df_tdm_obs_new = df_tdm_obs_new.round(3).fillna(0)\n",
    "df_tdm_obs_new = df_tdm_obs_new.drop(columns='index')\n",
    "df_tdm_obs_new = df_tdm_obs_new.loc[:, ~df_tdm_obs_new.columns.str.contains('^Unnamed')]\n",
    "\n",
    "# rename\n",
    "sumStats = df_tdm_obs_new.copy()\n",
    "display(df_tdm_obs_new)"
   ]
  },
  {
   "cell_type": "code",
   "execution_count": 5,
   "metadata": {},
   "outputs": [
    {
     "data": {
      "text/html": [
       "<div>\n",
       "<style scoped>\n",
       "    .dataframe tbody tr th:only-of-type {\n",
       "        vertical-align: middle;\n",
       "    }\n",
       "\n",
       "    .dataframe tbody tr th {\n",
       "        vertical-align: top;\n",
       "    }\n",
       "\n",
       "    .dataframe thead th {\n",
       "        text-align: right;\n",
       "    }\n",
       "</style>\n",
       "<table border=\"1\" class=\"dataframe\">\n",
       "  <thead>\n",
       "    <tr style=\"text-align: right;\">\n",
       "      <th></th>\n",
       "      <th>Source</th>\n",
       "      <th>station</th>\n",
       "      <th>AccessMode</th>\n",
       "      <th>Brd_PA</th>\n",
       "      <th>Brd_Direct_PA</th>\n",
       "      <th>Brd_Transfer_PA</th>\n",
       "      <th>Source_Brd_PA</th>\n",
       "      <th>Source_Brd_Direct_PA</th>\n",
       "      <th>Source_Brd_Transfer_PA</th>\n",
       "      <th>Brd_PA_Perc</th>\n",
       "      <th>Brd_Direct_PA_Perc</th>\n",
       "      <th>Brd_Transfer_PA_Perc</th>\n",
       "    </tr>\n",
       "  </thead>\n",
       "  <tbody>\n",
       "    <tr>\n",
       "      <th>0</th>\n",
       "      <td>OBS</td>\n",
       "      <td>01-PROVO CENTRAL STATION</td>\n",
       "      <td>drive</td>\n",
       "      <td>2283.379</td>\n",
       "      <td>0.00</td>\n",
       "      <td>0.00</td>\n",
       "      <td>14955.118</td>\n",
       "      <td>0.0</td>\n",
       "      <td>0.00</td>\n",
       "      <td>0.152682</td>\n",
       "      <td>NaN</td>\n",
       "      <td>NaN</td>\n",
       "    </tr>\n",
       "    <tr>\n",
       "      <th>1</th>\n",
       "      <td>OBS</td>\n",
       "      <td>01-PROVO CENTRAL STATION</td>\n",
       "      <td>walk</td>\n",
       "      <td>945.908</td>\n",
       "      <td>0.00</td>\n",
       "      <td>0.00</td>\n",
       "      <td>5672.892</td>\n",
       "      <td>0.0</td>\n",
       "      <td>0.00</td>\n",
       "      <td>0.166742</td>\n",
       "      <td>NaN</td>\n",
       "      <td>NaN</td>\n",
       "    </tr>\n",
       "    <tr>\n",
       "      <th>2</th>\n",
       "      <td>OBS</td>\n",
       "      <td>02-OREM CENTRAL STATION</td>\n",
       "      <td>drive</td>\n",
       "      <td>1475.024</td>\n",
       "      <td>0.00</td>\n",
       "      <td>0.00</td>\n",
       "      <td>14955.118</td>\n",
       "      <td>0.0</td>\n",
       "      <td>0.00</td>\n",
       "      <td>0.098630</td>\n",
       "      <td>NaN</td>\n",
       "      <td>NaN</td>\n",
       "    </tr>\n",
       "    <tr>\n",
       "      <th>3</th>\n",
       "      <td>OBS</td>\n",
       "      <td>02-OREM CENTRAL STATION</td>\n",
       "      <td>walk</td>\n",
       "      <td>371.804</td>\n",
       "      <td>0.00</td>\n",
       "      <td>0.00</td>\n",
       "      <td>5672.892</td>\n",
       "      <td>0.0</td>\n",
       "      <td>0.00</td>\n",
       "      <td>0.065540</td>\n",
       "      <td>NaN</td>\n",
       "      <td>NaN</td>\n",
       "    </tr>\n",
       "    <tr>\n",
       "      <th>4</th>\n",
       "      <td>OBS</td>\n",
       "      <td>03-AMERICAN FORK STATION</td>\n",
       "      <td>drive</td>\n",
       "      <td>1423.768</td>\n",
       "      <td>0.00</td>\n",
       "      <td>0.00</td>\n",
       "      <td>14955.118</td>\n",
       "      <td>0.0</td>\n",
       "      <td>0.00</td>\n",
       "      <td>0.095203</td>\n",
       "      <td>NaN</td>\n",
       "      <td>NaN</td>\n",
       "    </tr>\n",
       "    <tr>\n",
       "      <th>...</th>\n",
       "      <td>...</td>\n",
       "      <td>...</td>\n",
       "      <td>...</td>\n",
       "      <td>...</td>\n",
       "      <td>...</td>\n",
       "      <td>...</td>\n",
       "      <td>...</td>\n",
       "      <td>...</td>\n",
       "      <td>...</td>\n",
       "      <td>...</td>\n",
       "      <td>...</td>\n",
       "      <td>...</td>\n",
       "    </tr>\n",
       "    <tr>\n",
       "      <th>175</th>\n",
       "      <td>TDM_2.7.2</td>\n",
       "      <td>11-FARMINGTON STATION</td>\n",
       "      <td>All</td>\n",
       "      <td>517.130</td>\n",
       "      <td>462.31</td>\n",
       "      <td>54.82</td>\n",
       "      <td>19696.890</td>\n",
       "      <td>16060.7</td>\n",
       "      <td>3636.19</td>\n",
       "      <td>0.026254</td>\n",
       "      <td>0.028785</td>\n",
       "      <td>0.015076</td>\n",
       "    </tr>\n",
       "    <tr>\n",
       "      <th>176</th>\n",
       "      <td>TDM_2.7.2</td>\n",
       "      <td>12-LAYTON STATION</td>\n",
       "      <td>All</td>\n",
       "      <td>1437.730</td>\n",
       "      <td>1212.66</td>\n",
       "      <td>225.07</td>\n",
       "      <td>19696.890</td>\n",
       "      <td>16060.7</td>\n",
       "      <td>3636.19</td>\n",
       "      <td>0.072993</td>\n",
       "      <td>0.075505</td>\n",
       "      <td>0.061897</td>\n",
       "    </tr>\n",
       "    <tr>\n",
       "      <th>177</th>\n",
       "      <td>TDM_2.7.2</td>\n",
       "      <td>13-CLEARFIELD STATION</td>\n",
       "      <td>All</td>\n",
       "      <td>1658.550</td>\n",
       "      <td>1518.68</td>\n",
       "      <td>139.87</td>\n",
       "      <td>19696.890</td>\n",
       "      <td>16060.7</td>\n",
       "      <td>3636.19</td>\n",
       "      <td>0.084204</td>\n",
       "      <td>0.094559</td>\n",
       "      <td>0.038466</td>\n",
       "    </tr>\n",
       "    <tr>\n",
       "      <th>178</th>\n",
       "      <td>TDM_2.7.2</td>\n",
       "      <td>14-ROY STATION</td>\n",
       "      <td>All</td>\n",
       "      <td>1610.920</td>\n",
       "      <td>1572.39</td>\n",
       "      <td>38.53</td>\n",
       "      <td>19696.890</td>\n",
       "      <td>16060.7</td>\n",
       "      <td>3636.19</td>\n",
       "      <td>0.081786</td>\n",
       "      <td>0.097903</td>\n",
       "      <td>0.010596</td>\n",
       "    </tr>\n",
       "    <tr>\n",
       "      <th>179</th>\n",
       "      <td>TDM_2.7.2</td>\n",
       "      <td>15-OGDEN STATION</td>\n",
       "      <td>All</td>\n",
       "      <td>2699.190</td>\n",
       "      <td>2106.10</td>\n",
       "      <td>593.09</td>\n",
       "      <td>19696.890</td>\n",
       "      <td>16060.7</td>\n",
       "      <td>3636.19</td>\n",
       "      <td>0.137036</td>\n",
       "      <td>0.131134</td>\n",
       "      <td>0.163108</td>\n",
       "    </tr>\n",
       "  </tbody>\n",
       "</table>\n",
       "<p>180 rows × 12 columns</p>\n",
       "</div>"
      ],
      "text/plain": [
       "        Source                   station AccessMode    Brd_PA  Brd_Direct_PA  \\\n",
       "0          OBS  01-PROVO CENTRAL STATION      drive  2283.379           0.00   \n",
       "1          OBS  01-PROVO CENTRAL STATION       walk   945.908           0.00   \n",
       "2          OBS   02-OREM CENTRAL STATION      drive  1475.024           0.00   \n",
       "3          OBS   02-OREM CENTRAL STATION       walk   371.804           0.00   \n",
       "4          OBS  03-AMERICAN FORK STATION      drive  1423.768           0.00   \n",
       "..         ...                       ...        ...       ...            ...   \n",
       "175  TDM_2.7.2     11-FARMINGTON STATION        All   517.130         462.31   \n",
       "176  TDM_2.7.2         12-LAYTON STATION        All  1437.730        1212.66   \n",
       "177  TDM_2.7.2     13-CLEARFIELD STATION        All  1658.550        1518.68   \n",
       "178  TDM_2.7.2            14-ROY STATION        All  1610.920        1572.39   \n",
       "179  TDM_2.7.2          15-OGDEN STATION        All  2699.190        2106.10   \n",
       "\n",
       "     Brd_Transfer_PA  Source_Brd_PA  Source_Brd_Direct_PA  \\\n",
       "0               0.00      14955.118                   0.0   \n",
       "1               0.00       5672.892                   0.0   \n",
       "2               0.00      14955.118                   0.0   \n",
       "3               0.00       5672.892                   0.0   \n",
       "4               0.00      14955.118                   0.0   \n",
       "..               ...            ...                   ...   \n",
       "175            54.82      19696.890               16060.7   \n",
       "176           225.07      19696.890               16060.7   \n",
       "177           139.87      19696.890               16060.7   \n",
       "178            38.53      19696.890               16060.7   \n",
       "179           593.09      19696.890               16060.7   \n",
       "\n",
       "     Source_Brd_Transfer_PA  Brd_PA_Perc  Brd_Direct_PA_Perc  \\\n",
       "0                      0.00     0.152682                 NaN   \n",
       "1                      0.00     0.166742                 NaN   \n",
       "2                      0.00     0.098630                 NaN   \n",
       "3                      0.00     0.065540                 NaN   \n",
       "4                      0.00     0.095203                 NaN   \n",
       "..                      ...          ...                 ...   \n",
       "175                 3636.19     0.026254            0.028785   \n",
       "176                 3636.19     0.072993            0.075505   \n",
       "177                 3636.19     0.084204            0.094559   \n",
       "178                 3636.19     0.081786            0.097903   \n",
       "179                 3636.19     0.137036            0.131134   \n",
       "\n",
       "     Brd_Transfer_PA_Perc  \n",
       "0                     NaN  \n",
       "1                     NaN  \n",
       "2                     NaN  \n",
       "3                     NaN  \n",
       "4                     NaN  \n",
       "..                    ...  \n",
       "175              0.015076  \n",
       "176              0.061897  \n",
       "177              0.038466  \n",
       "178              0.010596  \n",
       "179              0.163108  \n",
       "\n",
       "[180 rows x 12 columns]"
      ]
     },
     "execution_count": 5,
     "metadata": {},
     "output_type": "execute_result"
    }
   ],
   "source": [
    "# add a few more columns regarding percentage of boardings in relation to total boardings\n",
    "\n",
    "# sum by source and station \n",
    "station_sum = sumStats.groupby([\"Source\", \"station\"], as_index=False).agg({\n",
    "    f\"Brd_{pa_od}\": \"sum\",\n",
    "    f\"Brd_Direct_{pa_od}\": \"sum\",\n",
    "    f\"Brd_Transfer_{pa_od}\": \"sum\"\n",
    "})\n",
    "\n",
    "# add All accessMode\n",
    "station_sum[\"AccessMode\"] = \"All\"\n",
    "sumStats2 = pd.concat([sumStats, station_sum], ignore_index=True) \n",
    "\n",
    "accessmode_sum = sumStats2.groupby([\"Source\", \"AccessMode\"], as_index=False).agg({\n",
    "    f\"Brd_{pa_od}\": \"sum\",\n",
    "    f\"Brd_Direct_{pa_od}\": \"sum\",\n",
    "    f\"Brd_Transfer_{pa_od}\": \"sum\"\n",
    "})\n",
    "\n",
    "accessmode_sum.rename(columns={\n",
    "    f\"Brd_{pa_od}\": f\"Source_Brd_{pa_od}\", \n",
    "    f\"Brd_Direct_{pa_od}\": f\"Source_Brd_Direct_{pa_od}\", \n",
    "    f\"Brd_Transfer_{pa_od}\": f\"Source_Brd_Transfer_{pa_od}\"}, inplace=True)\n",
    "sumStatsP = sumStats2.merge(accessmode_sum, on=[\"Source\", \"AccessMode\"], how=\"left\")\n",
    "\n",
    "sumStatsP[f\"Brd_{pa_od}_Perc\"]          = sumStatsP[f\"Brd_{pa_od}\"] / sumStatsP[f\"Source_Brd_{pa_od}\"]\n",
    "sumStatsP[f\"Brd_Direct_{pa_od}_Perc\"]   = sumStatsP[f\"Brd_Direct_{pa_od}\"] / sumStatsP[f\"Source_Brd_Direct_{pa_od}\"]\n",
    "sumStatsP[f\"Brd_Transfer_{pa_od}_Perc\"] = sumStatsP[f\"Brd_Transfer_{pa_od}\"] / sumStatsP[f\"Source_Brd_Transfer_{pa_od}\"]\n",
    "sumStatsP\n"
   ]
  },
  {
   "cell_type": "code",
   "execution_count": 6,
   "metadata": {},
   "outputs": [],
   "source": [
    "def plotit(variable, access_mode):\n",
    "    output.clear_output()  # Clear previous output before displaying new content\n",
    "    global firstTime\n",
    "    if firstTime:\n",
    "    \n",
    "        filtered_data = sumStatsP[sumStatsP['AccessMode'] == access_mode]\n",
    "            \n",
    "        # Create histogram\n",
    "        fig = px.histogram(\n",
    "            filtered_data, \n",
    "            x=\"station\", \n",
    "            y=variable, \n",
    "            text_auto='.2s',\n",
    "            color='Source', \n",
    "            barmode='group',\n",
    "            height=400\n",
    "        )\n",
    "        fig.update_layout(\n",
    "            xaxis_title=\"Station Name\",\n",
    "            yaxis_title=str(variable),\n",
    "            legend_title=\"Model Version\"\n",
    "        )\n",
    "        \n",
    "        # Display the plot\n",
    "        fig.show()\n",
    "    \n",
    "    else:\n",
    "        firstTime = True"
   ]
  },
  {
   "cell_type": "code",
   "execution_count": 7,
   "metadata": {},
   "outputs": [
    {
     "data": {
      "application/vnd.jupyter.widget-view+json": {
       "model_id": "66f422b75157484ab7df0db3c7ea468f",
       "version_major": 2,
       "version_minor": 0
      },
      "text/plain": [
       "HBox(children=(Select(description='Select Variable', options=('Brd_PA', 'Brd_Direct_PA', 'Brd_Transfer_PA', 'B…"
      ]
     },
     "metadata": {},
     "output_type": "display_data"
    },
    {
     "data": {
      "application/vnd.jupyter.widget-view+json": {
       "model_id": "e368d18f87f5487a86fea68c6effc347",
       "version_major": 2,
       "version_minor": 0
      },
      "text/plain": [
       "Output()"
      ]
     },
     "metadata": {},
     "output_type": "display_data"
    },
    {
     "data": {
      "application/vnd.plotly.v1+json": {
       "config": {
        "plotlyServerURL": "https://plot.ly"
       },
       "data": [
        {
         "alignmentgroup": "True",
         "bingroup": "x",
         "histfunc": "sum",
         "hovertemplate": "Source=OBS<br>station=%{x}<br>sum of Brd_PA=%{y}<extra></extra>",
         "legendgroup": "OBS",
         "marker": {
          "color": "#636efa",
          "pattern": {
           "shape": ""
          }
         },
         "name": "OBS",
         "offsetgroup": "OBS",
         "orientation": "v",
         "showlegend": true,
         "texttemplate": "%{value:.2s}",
         "type": "histogram",
         "x": [
          "01-PROVO CENTRAL STATION",
          "02-OREM CENTRAL STATION",
          "03-AMERICAN FORK STATION",
          "04-LEHI STATION",
          "05-DRAPER STATION",
          "06-SOUTH JORDAN STATION",
          "07-MURRAY CENTRAL STATION",
          "08-SALT LAKE CENTRAL STATION",
          "09-NORTH TEMPLE STATION",
          "10-WOODS CROSS STATION",
          "11-FARMINGTON STATION",
          "12-LAYTON STATION",
          "13-CLEARFIELD STATION",
          "14-ROY STATION",
          "15-OGDEN STATION"
         ],
         "xaxis": "x",
         "y": [
          2283.379,
          1475.024,
          1423.768,
          1128.372,
          935.648,
          985.477,
          1029.668,
          367.738,
          335.673,
          594.331,
          385.481,
          1113.116,
          745.345,
          699.224,
          1452.874
         ],
         "yaxis": "y"
        },
        {
         "alignmentgroup": "True",
         "bingroup": "x",
         "histfunc": "sum",
         "hovertemplate": "Source=TDM<br>station=%{x}<br>sum of Brd_PA=%{y}<extra></extra>",
         "legendgroup": "TDM",
         "marker": {
          "color": "#EF553B",
          "pattern": {
           "shape": ""
          }
         },
         "name": "TDM",
         "offsetgroup": "TDM",
         "orientation": "v",
         "showlegend": true,
         "texttemplate": "%{value:.2s}",
         "type": "histogram",
         "x": [
          "01-PROVO CENTRAL STATION",
          "02-OREM CENTRAL STATION",
          "03-AMERICAN FORK STATION",
          "04-LEHI STATION",
          "05-DRAPER STATION",
          "06-SOUTH JORDAN STATION",
          "07-MURRAY CENTRAL STATION",
          "08-SALT LAKE CENTRAL STATION",
          "09-NORTH TEMPLE STATION",
          "10-WOODS CROSS STATION",
          "11-FARMINGTON STATION",
          "12-LAYTON STATION",
          "13-CLEARFIELD STATION",
          "14-ROY STATION",
          "15-OGDEN STATION"
         ],
         "xaxis": "x",
         "y": [
          211.96,
          1121.42,
          1518.54,
          1304.19,
          1109.81,
          1353.07,
          786.39,
          149.31,
          74.4,
          948.08,
          426.77,
          877.27,
          701.31,
          1009.26,
          567.84
         ],
         "yaxis": "y"
        },
        {
         "alignmentgroup": "True",
         "bingroup": "x",
         "histfunc": "sum",
         "hovertemplate": "Source=TDM_2.7.1<br>station=%{x}<br>sum of Brd_PA=%{y}<extra></extra>",
         "legendgroup": "TDM_2.7.1",
         "marker": {
          "color": "#00cc96",
          "pattern": {
           "shape": ""
          }
         },
         "name": "TDM_2.7.1",
         "offsetgroup": "TDM_2.7.1",
         "orientation": "v",
         "showlegend": true,
         "texttemplate": "%{value:.2s}",
         "type": "histogram",
         "x": [
          "01-PROVO CENTRAL STATION",
          "02-OREM CENTRAL STATION",
          "03-AMERICAN FORK STATION",
          "04-LEHI STATION",
          "05-DRAPER STATION",
          "06-SOUTH JORDAN STATION",
          "07-MURRAY CENTRAL STATION",
          "08-SALT LAKE CENTRAL STATION",
          "09-NORTH TEMPLE STATION",
          "10-WOODS CROSS STATION",
          "11-FARMINGTON STATION",
          "12-LAYTON STATION",
          "13-CLEARFIELD STATION",
          "14-ROY STATION",
          "15-OGDEN STATION"
         ],
         "xaxis": "x",
         "y": [
          447.74,
          1948.38,
          1383.45,
          1479.94,
          840.31,
          824.08,
          547.18,
          136.15,
          55.78,
          543.33,
          401.78,
          945.26,
          860.09,
          1673.3,
          1286.89
         ],
         "yaxis": "y"
        },
        {
         "alignmentgroup": "True",
         "bingroup": "x",
         "histfunc": "sum",
         "hovertemplate": "Source=TDM_2.7.2<br>station=%{x}<br>sum of Brd_PA=%{y}<extra></extra>",
         "legendgroup": "TDM_2.7.2",
         "marker": {
          "color": "#ab63fa",
          "pattern": {
           "shape": ""
          }
         },
         "name": "TDM_2.7.2",
         "offsetgroup": "TDM_2.7.2",
         "orientation": "v",
         "showlegend": true,
         "texttemplate": "%{value:.2s}",
         "type": "histogram",
         "x": [
          "01-PROVO CENTRAL STATION",
          "02-OREM CENTRAL STATION",
          "03-AMERICAN FORK STATION",
          "04-LEHI STATION",
          "05-DRAPER STATION",
          "06-SOUTH JORDAN STATION",
          "07-MURRAY CENTRAL STATION",
          "08-SALT LAKE CENTRAL STATION",
          "09-NORTH TEMPLE STATION",
          "10-WOODS CROSS STATION",
          "11-FARMINGTON STATION",
          "12-LAYTON STATION",
          "13-CLEARFIELD STATION",
          "14-ROY STATION",
          "15-OGDEN STATION"
         ],
         "xaxis": "x",
         "y": [
          1603.99,
          875.55,
          1543.53,
          626.73,
          859.69,
          750.01,
          578.6,
          99.75,
          53.95,
          659.78,
          327.4,
          1071.78,
          1028.87,
          1226.11,
          2056.77
         ],
         "yaxis": "y"
        }
       ],
       "layout": {
        "barmode": "group",
        "height": 400,
        "legend": {
         "title": {
          "text": "Model Version"
         },
         "tracegroupgap": 0
        },
        "margin": {
         "t": 60
        },
        "template": {
         "data": {
          "bar": [
           {
            "error_x": {
             "color": "#2a3f5f"
            },
            "error_y": {
             "color": "#2a3f5f"
            },
            "marker": {
             "line": {
              "color": "#E5ECF6",
              "width": 0.5
             },
             "pattern": {
              "fillmode": "overlay",
              "size": 10,
              "solidity": 0.2
             }
            },
            "type": "bar"
           }
          ],
          "barpolar": [
           {
            "marker": {
             "line": {
              "color": "#E5ECF6",
              "width": 0.5
             },
             "pattern": {
              "fillmode": "overlay",
              "size": 10,
              "solidity": 0.2
             }
            },
            "type": "barpolar"
           }
          ],
          "carpet": [
           {
            "aaxis": {
             "endlinecolor": "#2a3f5f",
             "gridcolor": "white",
             "linecolor": "white",
             "minorgridcolor": "white",
             "startlinecolor": "#2a3f5f"
            },
            "baxis": {
             "endlinecolor": "#2a3f5f",
             "gridcolor": "white",
             "linecolor": "white",
             "minorgridcolor": "white",
             "startlinecolor": "#2a3f5f"
            },
            "type": "carpet"
           }
          ],
          "choropleth": [
           {
            "colorbar": {
             "outlinewidth": 0,
             "ticks": ""
            },
            "type": "choropleth"
           }
          ],
          "contour": [
           {
            "colorbar": {
             "outlinewidth": 0,
             "ticks": ""
            },
            "colorscale": [
             [
              0,
              "#0d0887"
             ],
             [
              0.1111111111111111,
              "#46039f"
             ],
             [
              0.2222222222222222,
              "#7201a8"
             ],
             [
              0.3333333333333333,
              "#9c179e"
             ],
             [
              0.4444444444444444,
              "#bd3786"
             ],
             [
              0.5555555555555556,
              "#d8576b"
             ],
             [
              0.6666666666666666,
              "#ed7953"
             ],
             [
              0.7777777777777778,
              "#fb9f3a"
             ],
             [
              0.8888888888888888,
              "#fdca26"
             ],
             [
              1,
              "#f0f921"
             ]
            ],
            "type": "contour"
           }
          ],
          "contourcarpet": [
           {
            "colorbar": {
             "outlinewidth": 0,
             "ticks": ""
            },
            "type": "contourcarpet"
           }
          ],
          "heatmap": [
           {
            "colorbar": {
             "outlinewidth": 0,
             "ticks": ""
            },
            "colorscale": [
             [
              0,
              "#0d0887"
             ],
             [
              0.1111111111111111,
              "#46039f"
             ],
             [
              0.2222222222222222,
              "#7201a8"
             ],
             [
              0.3333333333333333,
              "#9c179e"
             ],
             [
              0.4444444444444444,
              "#bd3786"
             ],
             [
              0.5555555555555556,
              "#d8576b"
             ],
             [
              0.6666666666666666,
              "#ed7953"
             ],
             [
              0.7777777777777778,
              "#fb9f3a"
             ],
             [
              0.8888888888888888,
              "#fdca26"
             ],
             [
              1,
              "#f0f921"
             ]
            ],
            "type": "heatmap"
           }
          ],
          "heatmapgl": [
           {
            "colorbar": {
             "outlinewidth": 0,
             "ticks": ""
            },
            "colorscale": [
             [
              0,
              "#0d0887"
             ],
             [
              0.1111111111111111,
              "#46039f"
             ],
             [
              0.2222222222222222,
              "#7201a8"
             ],
             [
              0.3333333333333333,
              "#9c179e"
             ],
             [
              0.4444444444444444,
              "#bd3786"
             ],
             [
              0.5555555555555556,
              "#d8576b"
             ],
             [
              0.6666666666666666,
              "#ed7953"
             ],
             [
              0.7777777777777778,
              "#fb9f3a"
             ],
             [
              0.8888888888888888,
              "#fdca26"
             ],
             [
              1,
              "#f0f921"
             ]
            ],
            "type": "heatmapgl"
           }
          ],
          "histogram": [
           {
            "marker": {
             "pattern": {
              "fillmode": "overlay",
              "size": 10,
              "solidity": 0.2
             }
            },
            "type": "histogram"
           }
          ],
          "histogram2d": [
           {
            "colorbar": {
             "outlinewidth": 0,
             "ticks": ""
            },
            "colorscale": [
             [
              0,
              "#0d0887"
             ],
             [
              0.1111111111111111,
              "#46039f"
             ],
             [
              0.2222222222222222,
              "#7201a8"
             ],
             [
              0.3333333333333333,
              "#9c179e"
             ],
             [
              0.4444444444444444,
              "#bd3786"
             ],
             [
              0.5555555555555556,
              "#d8576b"
             ],
             [
              0.6666666666666666,
              "#ed7953"
             ],
             [
              0.7777777777777778,
              "#fb9f3a"
             ],
             [
              0.8888888888888888,
              "#fdca26"
             ],
             [
              1,
              "#f0f921"
             ]
            ],
            "type": "histogram2d"
           }
          ],
          "histogram2dcontour": [
           {
            "colorbar": {
             "outlinewidth": 0,
             "ticks": ""
            },
            "colorscale": [
             [
              0,
              "#0d0887"
             ],
             [
              0.1111111111111111,
              "#46039f"
             ],
             [
              0.2222222222222222,
              "#7201a8"
             ],
             [
              0.3333333333333333,
              "#9c179e"
             ],
             [
              0.4444444444444444,
              "#bd3786"
             ],
             [
              0.5555555555555556,
              "#d8576b"
             ],
             [
              0.6666666666666666,
              "#ed7953"
             ],
             [
              0.7777777777777778,
              "#fb9f3a"
             ],
             [
              0.8888888888888888,
              "#fdca26"
             ],
             [
              1,
              "#f0f921"
             ]
            ],
            "type": "histogram2dcontour"
           }
          ],
          "mesh3d": [
           {
            "colorbar": {
             "outlinewidth": 0,
             "ticks": ""
            },
            "type": "mesh3d"
           }
          ],
          "parcoords": [
           {
            "line": {
             "colorbar": {
              "outlinewidth": 0,
              "ticks": ""
             }
            },
            "type": "parcoords"
           }
          ],
          "pie": [
           {
            "automargin": true,
            "type": "pie"
           }
          ],
          "scatter": [
           {
            "fillpattern": {
             "fillmode": "overlay",
             "size": 10,
             "solidity": 0.2
            },
            "type": "scatter"
           }
          ],
          "scatter3d": [
           {
            "line": {
             "colorbar": {
              "outlinewidth": 0,
              "ticks": ""
             }
            },
            "marker": {
             "colorbar": {
              "outlinewidth": 0,
              "ticks": ""
             }
            },
            "type": "scatter3d"
           }
          ],
          "scattercarpet": [
           {
            "marker": {
             "colorbar": {
              "outlinewidth": 0,
              "ticks": ""
             }
            },
            "type": "scattercarpet"
           }
          ],
          "scattergeo": [
           {
            "marker": {
             "colorbar": {
              "outlinewidth": 0,
              "ticks": ""
             }
            },
            "type": "scattergeo"
           }
          ],
          "scattergl": [
           {
            "marker": {
             "colorbar": {
              "outlinewidth": 0,
              "ticks": ""
             }
            },
            "type": "scattergl"
           }
          ],
          "scattermapbox": [
           {
            "marker": {
             "colorbar": {
              "outlinewidth": 0,
              "ticks": ""
             }
            },
            "type": "scattermapbox"
           }
          ],
          "scatterpolar": [
           {
            "marker": {
             "colorbar": {
              "outlinewidth": 0,
              "ticks": ""
             }
            },
            "type": "scatterpolar"
           }
          ],
          "scatterpolargl": [
           {
            "marker": {
             "colorbar": {
              "outlinewidth": 0,
              "ticks": ""
             }
            },
            "type": "scatterpolargl"
           }
          ],
          "scatterternary": [
           {
            "marker": {
             "colorbar": {
              "outlinewidth": 0,
              "ticks": ""
             }
            },
            "type": "scatterternary"
           }
          ],
          "surface": [
           {
            "colorbar": {
             "outlinewidth": 0,
             "ticks": ""
            },
            "colorscale": [
             [
              0,
              "#0d0887"
             ],
             [
              0.1111111111111111,
              "#46039f"
             ],
             [
              0.2222222222222222,
              "#7201a8"
             ],
             [
              0.3333333333333333,
              "#9c179e"
             ],
             [
              0.4444444444444444,
              "#bd3786"
             ],
             [
              0.5555555555555556,
              "#d8576b"
             ],
             [
              0.6666666666666666,
              "#ed7953"
             ],
             [
              0.7777777777777778,
              "#fb9f3a"
             ],
             [
              0.8888888888888888,
              "#fdca26"
             ],
             [
              1,
              "#f0f921"
             ]
            ],
            "type": "surface"
           }
          ],
          "table": [
           {
            "cells": {
             "fill": {
              "color": "#EBF0F8"
             },
             "line": {
              "color": "white"
             }
            },
            "header": {
             "fill": {
              "color": "#C8D4E3"
             },
             "line": {
              "color": "white"
             }
            },
            "type": "table"
           }
          ]
         },
         "layout": {
          "annotationdefaults": {
           "arrowcolor": "#2a3f5f",
           "arrowhead": 0,
           "arrowwidth": 1
          },
          "autotypenumbers": "strict",
          "coloraxis": {
           "colorbar": {
            "outlinewidth": 0,
            "ticks": ""
           }
          },
          "colorscale": {
           "diverging": [
            [
             0,
             "#8e0152"
            ],
            [
             0.1,
             "#c51b7d"
            ],
            [
             0.2,
             "#de77ae"
            ],
            [
             0.3,
             "#f1b6da"
            ],
            [
             0.4,
             "#fde0ef"
            ],
            [
             0.5,
             "#f7f7f7"
            ],
            [
             0.6,
             "#e6f5d0"
            ],
            [
             0.7,
             "#b8e186"
            ],
            [
             0.8,
             "#7fbc41"
            ],
            [
             0.9,
             "#4d9221"
            ],
            [
             1,
             "#276419"
            ]
           ],
           "sequential": [
            [
             0,
             "#0d0887"
            ],
            [
             0.1111111111111111,
             "#46039f"
            ],
            [
             0.2222222222222222,
             "#7201a8"
            ],
            [
             0.3333333333333333,
             "#9c179e"
            ],
            [
             0.4444444444444444,
             "#bd3786"
            ],
            [
             0.5555555555555556,
             "#d8576b"
            ],
            [
             0.6666666666666666,
             "#ed7953"
            ],
            [
             0.7777777777777778,
             "#fb9f3a"
            ],
            [
             0.8888888888888888,
             "#fdca26"
            ],
            [
             1,
             "#f0f921"
            ]
           ],
           "sequentialminus": [
            [
             0,
             "#0d0887"
            ],
            [
             0.1111111111111111,
             "#46039f"
            ],
            [
             0.2222222222222222,
             "#7201a8"
            ],
            [
             0.3333333333333333,
             "#9c179e"
            ],
            [
             0.4444444444444444,
             "#bd3786"
            ],
            [
             0.5555555555555556,
             "#d8576b"
            ],
            [
             0.6666666666666666,
             "#ed7953"
            ],
            [
             0.7777777777777778,
             "#fb9f3a"
            ],
            [
             0.8888888888888888,
             "#fdca26"
            ],
            [
             1,
             "#f0f921"
            ]
           ]
          },
          "colorway": [
           "#636efa",
           "#EF553B",
           "#00cc96",
           "#ab63fa",
           "#FFA15A",
           "#19d3f3",
           "#FF6692",
           "#B6E880",
           "#FF97FF",
           "#FECB52"
          ],
          "font": {
           "color": "#2a3f5f"
          },
          "geo": {
           "bgcolor": "white",
           "lakecolor": "white",
           "landcolor": "#E5ECF6",
           "showlakes": true,
           "showland": true,
           "subunitcolor": "white"
          },
          "hoverlabel": {
           "align": "left"
          },
          "hovermode": "closest",
          "mapbox": {
           "style": "light"
          },
          "paper_bgcolor": "white",
          "plot_bgcolor": "#E5ECF6",
          "polar": {
           "angularaxis": {
            "gridcolor": "white",
            "linecolor": "white",
            "ticks": ""
           },
           "bgcolor": "#E5ECF6",
           "radialaxis": {
            "gridcolor": "white",
            "linecolor": "white",
            "ticks": ""
           }
          },
          "scene": {
           "xaxis": {
            "backgroundcolor": "#E5ECF6",
            "gridcolor": "white",
            "gridwidth": 2,
            "linecolor": "white",
            "showbackground": true,
            "ticks": "",
            "zerolinecolor": "white"
           },
           "yaxis": {
            "backgroundcolor": "#E5ECF6",
            "gridcolor": "white",
            "gridwidth": 2,
            "linecolor": "white",
            "showbackground": true,
            "ticks": "",
            "zerolinecolor": "white"
           },
           "zaxis": {
            "backgroundcolor": "#E5ECF6",
            "gridcolor": "white",
            "gridwidth": 2,
            "linecolor": "white",
            "showbackground": true,
            "ticks": "",
            "zerolinecolor": "white"
           }
          },
          "shapedefaults": {
           "line": {
            "color": "#2a3f5f"
           }
          },
          "ternary": {
           "aaxis": {
            "gridcolor": "white",
            "linecolor": "white",
            "ticks": ""
           },
           "baxis": {
            "gridcolor": "white",
            "linecolor": "white",
            "ticks": ""
           },
           "bgcolor": "#E5ECF6",
           "caxis": {
            "gridcolor": "white",
            "linecolor": "white",
            "ticks": ""
           }
          },
          "title": {
           "x": 0.05
          },
          "xaxis": {
           "automargin": true,
           "gridcolor": "white",
           "linecolor": "white",
           "ticks": "",
           "title": {
            "standoff": 15
           },
           "zerolinecolor": "white",
           "zerolinewidth": 2
          },
          "yaxis": {
           "automargin": true,
           "gridcolor": "white",
           "linecolor": "white",
           "ticks": "",
           "title": {
            "standoff": 15
           },
           "zerolinecolor": "white",
           "zerolinewidth": 2
          }
         }
        },
        "xaxis": {
         "anchor": "y",
         "domain": [
          0,
          1
         ],
         "title": {
          "text": "Station Name"
         }
        },
        "yaxis": {
         "anchor": "x",
         "domain": [
          0,
          1
         ],
         "title": {
          "text": "Brd_PA"
         }
        }
       }
      }
     },
     "metadata": {},
     "output_type": "display_data"
    },
    {
     "data": {
      "application/vnd.jupyter.widget-view+json": {
       "model_id": "145f0db3e0d641c78e68b8e45c7861d3",
       "version_major": 2,
       "version_minor": 0
      },
      "text/plain": [
       "Output()"
      ]
     },
     "metadata": {},
     "output_type": "display_data"
    }
   ],
   "source": [
    "lstValues = list([\n",
    "    f'Brd_{pa_od}',\n",
    "    f'Brd_Direct_{pa_od}',\n",
    "    f'Brd_Transfer_{pa_od}',\n",
    "    f'Brd_{pa_od}_Perc',\n",
    "    f'Brd_Direct_{pa_od}_Perc',\n",
    "    f'Brd_Transfer_{pa_od}_Perc'])\n",
    "accessModeOptions = ['drive', 'walk', 'All']\n",
    "\n",
    "selectValues = widgets.Select(options=lstValues, value=(f'Brd_{pa_od}' ), description = 'Select Variable')\n",
    "selectAccessMode = widgets.Dropdown(options=accessModeOptions, value='All', description='Access Mode')\n",
    "\n",
    "# Set up a global variable to track whether the widgets have been changed\n",
    "firstTime = False\n",
    "\n",
    "# create output widget to display filtered DataFrame\n",
    "output = widgets.Output()\n",
    "hbox = widgets.HBox([selectValues, selectAccessMode])\n",
    "\n",
    "# create interactive widget\n",
    "interactive_output = widgets.interactive_output(plotit, {'variable':selectValues, 'access_mode': selectAccessMode})\n",
    "\n",
    "display(hbox)\n",
    "display(interactive_output)\n",
    "display(output)"
   ]
  },
  {
   "cell_type": "markdown",
   "metadata": {},
   "source": [
    "## Conclusions"
   ]
  },
  {
   "cell_type": "markdown",
   "metadata": {},
   "source": [
    "- by updating the IVT utility equation, drive boardings increase in Provo, Orem, and throughout Davis County -- this makes sense as these stations include longer trips into CBD region\n",
    "- the updated IVT equation doesn't bypass the \"driving past end of line station\" issue, at least not in provo. Orem and Roy saw a large increase in dCRT boardings. Ogden also benefited greatly, but provo only benefited slightly.\n",
    "- the combination of IVT equation change and limiting dCRT to 1 access link showed promising results. It produced a pattern similar to observed with higher boardings at the end of the line and lower boardings in the CBD region for dCRT trips. \n",
    "- overall we conclude that IVT and drive access play large roles in determining which station to board and how many boardings occur"
   ]
  }
 ],
 "metadata": {
  "kernelspec": {
   "display_name": "base",
   "language": "python",
   "name": "python3"
  },
  "language_info": {
   "codemirror_mode": {
    "name": "ipython",
    "version": 3
   },
   "file_extension": ".py",
   "mimetype": "text/x-python",
   "name": "python",
   "nbconvert_exporter": "python",
   "pygments_lexer": "ipython3",
   "version": "3.9.19"
  }
 },
 "nbformat": 4,
 "nbformat_minor": 2
}
