{
 "cells": [
  {
   "cell_type": "code",
   "execution_count": 45,
   "metadata": {},
   "outputs": [],
   "source": [
    "import os\n",
    "import pandas as pd\n",
    "import plotly\n",
    "import numpy as np\n",
    "import plotly.express as px\n",
    "import plotly.graph_objects as go\n",
    "import plotly as pys\n",
    "import ipywidgets as widgets\n",
    "from ipywidgets import Layout\n",
    "\n",
    "import _global_scripts as gs"
   ]
  },
  {
   "cell_type": "markdown",
   "metadata": {},
   "source": [
    "## Purpose"
   ]
  },
  {
   "cell_type": "markdown",
   "metadata": {},
   "source": [
    "Consider removing the crt distance variable that discourages close trips and replace with something that discourages close AND encourages far distances\n",
    "\n",
    " - **2.2.1** S-Curve: Discourages close trips and encourages far trips (wCRT & dCRT)\n",
    "    - 5.8596 / (1 + EXP(-0.6 * (DIST - 10))) - 3\n",
    "- **2.2.2** S-Curve: Discourages close trips and encourages far trips (dCRT only)\n",
    "    - 5.8596 / (1 + EXP(-0.6 * (DIST - 10))) - 3\n",
    "- **2.2.3** S-Curve: Encourages far trips, but less than E2.2.2\n",
    "    - 1.9880 / (1 + EXP(-0.7 * (DIST - 10)))\n",
    "- **2.2.4** Piece-Wise: Discourages close trips (original function) and encourage far trips linearly\n",
    "    - MIN(IF(DIST <= 6, {original_function}, (DIST - 3) * 0.05) , 2)\n",
    " "
   ]
  },
  {
   "cell_type": "markdown",
   "metadata": {},
   "source": [
    "## Inputs"
   ]
  },
  {
   "cell_type": "code",
   "execution_count": 46,
   "metadata": {},
   "outputs": [],
   "source": [
    "# set whether you want PA or OD analysis\n",
    "pa_od = 'PA'\n",
    "pa_od_function = 'pa'"
   ]
  },
  {
   "cell_type": "code",
   "execution_count": 47,
   "metadata": {},
   "outputs": [],
   "source": [
    "df_tdm_obs = pd.read_csv(f\"_data/base_observed_summary_{pa_od_function}.csv\").sort_values(by=['Source','station'], ascending=True).reset_index(drop=True)\n",
    "if(pa_od == 'PA'):\n",
    "        df_tdm_obs = df_tdm_obs.drop(columns={'Alt_PA','Alt_Direct_PA','Alt_Transfer_PA'})\n",
    "\n",
    "# read in results for e2.2.1 before recalibration\n",
    "path_brding_summary_221_b4 = r\"_data/E2.2/E2.2.1_node_b4calib.csv\"\n",
    "path_rider_summary_221_b4  = r\"_data/E2.2/E2.2.1_link_b4calib.csv\"\n",
    "\n",
    "# read in results for e2.2.2 before recalibration\n",
    "path_brding_summary_222_b4 = r\"_data/E2.2/E2.2.2_node_b4calib.csv\"\n",
    "path_rider_summary_222_b4  = r\"_data/E2.2/E2.2.2_link_b4calib.csv\"\n",
    "\n",
    "# read in results for e2.2.3 before recalibration\n",
    "path_brding_summary_223_b4 = r\"_data/E2.2/E2.2.3_node_b4calib.csv\"\n",
    "path_rider_summary_223_b4  = r\"_data/E2.2/E2.2.3_link_b4calib.csv\"\n",
    "\n",
    "# read in results for e2.2.4 before recalibration\n",
    "path_brding_summary_224_b4 = r\"_data/E2.2/E2.2.4_node_b4calib.csv\"\n",
    "path_rider_summary_224_b4  = r\"_data/E2.2/E2.2.4_link_b4calib.csv\""
   ]
  },
  {
   "cell_type": "code",
   "execution_count": 48,
   "metadata": {},
   "outputs": [
    {
     "name": "stderr",
     "output_type": "stream",
     "text": [
      "d:\\GitHub\\WF-TDM-v9x\\_scripts\\_global_scripts.py:27: DtypeWarning:\n",
      "\n",
      "Columns (3) have mixed types. Specify dtype option on import or set low_memory=False.\n",
      "\n",
      "d:\\GitHub\\WF-TDM-v9x\\_scripts\\_global_scripts.py:27: DtypeWarning:\n",
      "\n",
      "Columns (3) have mixed types. Specify dtype option on import or set low_memory=False.\n",
      "\n",
      "d:\\GitHub\\WF-TDM-v9x\\_scripts\\_global_scripts.py:27: DtypeWarning:\n",
      "\n",
      "Columns (3) have mixed types. Specify dtype option on import or set low_memory=False.\n",
      "\n",
      "d:\\GitHub\\WF-TDM-v9x\\_scripts\\_global_scripts.py:27: DtypeWarning:\n",
      "\n",
      "Columns (3) have mixed types. Specify dtype option on import or set low_memory=False.\n",
      "\n"
     ]
    },
    {
     "data": {
      "text/html": [
       "<div>\n",
       "<style scoped>\n",
       "    .dataframe tbody tr th:only-of-type {\n",
       "        vertical-align: middle;\n",
       "    }\n",
       "\n",
       "    .dataframe tbody tr th {\n",
       "        vertical-align: top;\n",
       "    }\n",
       "\n",
       "    .dataframe thead th {\n",
       "        text-align: right;\n",
       "    }\n",
       "</style>\n",
       "<table border=\"1\" class=\"dataframe\">\n",
       "  <thead>\n",
       "    <tr style=\"text-align: right;\">\n",
       "      <th></th>\n",
       "      <th>Source</th>\n",
       "      <th>station</th>\n",
       "      <th>AccessMode</th>\n",
       "      <th>Brd_PA</th>\n",
       "      <th>Brd_Direct_PA</th>\n",
       "      <th>Brd_Transfer_PA</th>\n",
       "    </tr>\n",
       "  </thead>\n",
       "  <tbody>\n",
       "    <tr>\n",
       "      <th>0</th>\n",
       "      <td>OBS</td>\n",
       "      <td>01-PROVO CENTRAL STATION</td>\n",
       "      <td>drive</td>\n",
       "      <td>2283.379</td>\n",
       "      <td>0.00</td>\n",
       "      <td>0.00</td>\n",
       "    </tr>\n",
       "    <tr>\n",
       "      <th>1</th>\n",
       "      <td>OBS</td>\n",
       "      <td>01-PROVO CENTRAL STATION</td>\n",
       "      <td>walk</td>\n",
       "      <td>945.908</td>\n",
       "      <td>0.00</td>\n",
       "      <td>0.00</td>\n",
       "    </tr>\n",
       "    <tr>\n",
       "      <th>2</th>\n",
       "      <td>OBS</td>\n",
       "      <td>02-OREM CENTRAL STATION</td>\n",
       "      <td>drive</td>\n",
       "      <td>1475.024</td>\n",
       "      <td>0.00</td>\n",
       "      <td>0.00</td>\n",
       "    </tr>\n",
       "    <tr>\n",
       "      <th>3</th>\n",
       "      <td>OBS</td>\n",
       "      <td>02-OREM CENTRAL STATION</td>\n",
       "      <td>walk</td>\n",
       "      <td>371.804</td>\n",
       "      <td>0.00</td>\n",
       "      <td>0.00</td>\n",
       "    </tr>\n",
       "    <tr>\n",
       "      <th>4</th>\n",
       "      <td>OBS</td>\n",
       "      <td>03-AMERICAN FORK STATION</td>\n",
       "      <td>drive</td>\n",
       "      <td>1423.768</td>\n",
       "      <td>0.00</td>\n",
       "      <td>0.00</td>\n",
       "    </tr>\n",
       "    <tr>\n",
       "      <th>...</th>\n",
       "      <td>...</td>\n",
       "      <td>...</td>\n",
       "      <td>...</td>\n",
       "      <td>...</td>\n",
       "      <td>...</td>\n",
       "      <td>...</td>\n",
       "    </tr>\n",
       "    <tr>\n",
       "      <th>175</th>\n",
       "      <td>TDM_2.2.4_b4</td>\n",
       "      <td>11-FARMINGTON STATION</td>\n",
       "      <td>walk</td>\n",
       "      <td>136.700</td>\n",
       "      <td>104.35</td>\n",
       "      <td>32.35</td>\n",
       "    </tr>\n",
       "    <tr>\n",
       "      <th>176</th>\n",
       "      <td>TDM_2.2.4_b4</td>\n",
       "      <td>12-LAYTON STATION</td>\n",
       "      <td>walk</td>\n",
       "      <td>291.870</td>\n",
       "      <td>113.58</td>\n",
       "      <td>178.29</td>\n",
       "    </tr>\n",
       "    <tr>\n",
       "      <th>177</th>\n",
       "      <td>TDM_2.2.4_b4</td>\n",
       "      <td>13-CLEARFIELD STATION</td>\n",
       "      <td>walk</td>\n",
       "      <td>459.460</td>\n",
       "      <td>383.10</td>\n",
       "      <td>76.36</td>\n",
       "    </tr>\n",
       "    <tr>\n",
       "      <th>178</th>\n",
       "      <td>TDM_2.2.4_b4</td>\n",
       "      <td>14-ROY STATION</td>\n",
       "      <td>walk</td>\n",
       "      <td>320.020</td>\n",
       "      <td>294.16</td>\n",
       "      <td>25.86</td>\n",
       "    </tr>\n",
       "    <tr>\n",
       "      <th>179</th>\n",
       "      <td>TDM_2.2.4_b4</td>\n",
       "      <td>15-OGDEN STATION</td>\n",
       "      <td>walk</td>\n",
       "      <td>440.260</td>\n",
       "      <td>37.44</td>\n",
       "      <td>402.82</td>\n",
       "    </tr>\n",
       "  </tbody>\n",
       "</table>\n",
       "<p>180 rows × 6 columns</p>\n",
       "</div>"
      ],
      "text/plain": [
       "           Source                   station AccessMode    Brd_PA  \\\n",
       "0             OBS  01-PROVO CENTRAL STATION      drive  2283.379   \n",
       "1             OBS  01-PROVO CENTRAL STATION       walk   945.908   \n",
       "2             OBS   02-OREM CENTRAL STATION      drive  1475.024   \n",
       "3             OBS   02-OREM CENTRAL STATION       walk   371.804   \n",
       "4             OBS  03-AMERICAN FORK STATION      drive  1423.768   \n",
       "..            ...                       ...        ...       ...   \n",
       "175  TDM_2.2.4_b4     11-FARMINGTON STATION       walk   136.700   \n",
       "176  TDM_2.2.4_b4         12-LAYTON STATION       walk   291.870   \n",
       "177  TDM_2.2.4_b4     13-CLEARFIELD STATION       walk   459.460   \n",
       "178  TDM_2.2.4_b4            14-ROY STATION       walk   320.020   \n",
       "179  TDM_2.2.4_b4          15-OGDEN STATION       walk   440.260   \n",
       "\n",
       "     Brd_Direct_PA  Brd_Transfer_PA  \n",
       "0             0.00             0.00  \n",
       "1             0.00             0.00  \n",
       "2             0.00             0.00  \n",
       "3             0.00             0.00  \n",
       "4             0.00             0.00  \n",
       "..             ...              ...  \n",
       "175         104.35            32.35  \n",
       "176         113.58           178.29  \n",
       "177         383.10            76.36  \n",
       "178         294.16            25.86  \n",
       "179          37.44           402.82  \n",
       "\n",
       "[180 rows x 6 columns]"
      ]
     },
     "metadata": {},
     "output_type": "display_data"
    }
   ],
   "source": [
    "# read in stations and summarize tdm results\n",
    "df_stations1 = gs.df_stations[['station','N']]\n",
    "df_tdm_221_b4 = gs.summarize_tdm_stats(path_brding_summary_221_b4,path_rider_summary_221_b4, df_stations1, 'TDM_2.2.1_b4', pa_od_function)\n",
    "df_tdm_222_b4 = gs.summarize_tdm_stats(path_brding_summary_222_b4,path_rider_summary_222_b4, df_stations1, 'TDM_2.2.2_b4', pa_od_function)\n",
    "df_tdm_223_b4 = gs.summarize_tdm_stats(path_brding_summary_223_b4,path_rider_summary_223_b4, df_stations1, 'TDM_2.2.3_b4', pa_od_function)\n",
    "df_tdm_224_b4 = gs.summarize_tdm_stats(path_brding_summary_224_b4,path_rider_summary_224_b4, df_stations1, 'TDM_2.2.4_b4', pa_od_function)\n",
    "\n",
    "# concat dataframes\n",
    "df_tdm_obs_new = pd.concat([\n",
    "        df_tdm_obs,\n",
    "        df_tdm_221_b4,\n",
    "        df_tdm_222_b4,\n",
    "        df_tdm_223_b4,\n",
    "        df_tdm_224_b4\n",
    "    ]).reset_index()\n",
    "df_tdm_obs_new = df_tdm_obs_new.round(3).fillna(0)\n",
    "df_tdm_obs_new = df_tdm_obs_new.drop(columns='index')\n",
    "df_tdm_obs_new = df_tdm_obs_new.loc[:, ~df_tdm_obs_new.columns.str.contains('^Unnamed')]\n",
    "\n",
    "# rename\n",
    "sumStats = df_tdm_obs_new.copy()\n",
    "display(df_tdm_obs_new)"
   ]
  },
  {
   "cell_type": "code",
   "execution_count": 49,
   "metadata": {},
   "outputs": [
    {
     "data": {
      "text/html": [
       "<div>\n",
       "<style scoped>\n",
       "    .dataframe tbody tr th:only-of-type {\n",
       "        vertical-align: middle;\n",
       "    }\n",
       "\n",
       "    .dataframe tbody tr th {\n",
       "        vertical-align: top;\n",
       "    }\n",
       "\n",
       "    .dataframe thead th {\n",
       "        text-align: right;\n",
       "    }\n",
       "</style>\n",
       "<table border=\"1\" class=\"dataframe\">\n",
       "  <thead>\n",
       "    <tr style=\"text-align: right;\">\n",
       "      <th></th>\n",
       "      <th>Source</th>\n",
       "      <th>station</th>\n",
       "      <th>AccessMode</th>\n",
       "      <th>Brd_PA</th>\n",
       "      <th>Brd_Direct_PA</th>\n",
       "      <th>Brd_Transfer_PA</th>\n",
       "      <th>Source_Brd_PA</th>\n",
       "      <th>Source_Brd_Direct_PA</th>\n",
       "      <th>Source_Brd_Transfer_PA</th>\n",
       "      <th>Brd_PA_Perc</th>\n",
       "      <th>Brd_Direct_PA_Perc</th>\n",
       "      <th>Brd_Transfer_PA_Perc</th>\n",
       "    </tr>\n",
       "  </thead>\n",
       "  <tbody>\n",
       "    <tr>\n",
       "      <th>0</th>\n",
       "      <td>OBS</td>\n",
       "      <td>01-PROVO CENTRAL STATION</td>\n",
       "      <td>drive</td>\n",
       "      <td>2283.379</td>\n",
       "      <td>0.00</td>\n",
       "      <td>0.00</td>\n",
       "      <td>14955.118</td>\n",
       "      <td>0.00</td>\n",
       "      <td>0.0</td>\n",
       "      <td>0.152682</td>\n",
       "      <td>NaN</td>\n",
       "      <td>NaN</td>\n",
       "    </tr>\n",
       "    <tr>\n",
       "      <th>1</th>\n",
       "      <td>OBS</td>\n",
       "      <td>01-PROVO CENTRAL STATION</td>\n",
       "      <td>walk</td>\n",
       "      <td>945.908</td>\n",
       "      <td>0.00</td>\n",
       "      <td>0.00</td>\n",
       "      <td>5672.892</td>\n",
       "      <td>0.00</td>\n",
       "      <td>0.0</td>\n",
       "      <td>0.166742</td>\n",
       "      <td>NaN</td>\n",
       "      <td>NaN</td>\n",
       "    </tr>\n",
       "    <tr>\n",
       "      <th>2</th>\n",
       "      <td>OBS</td>\n",
       "      <td>02-OREM CENTRAL STATION</td>\n",
       "      <td>drive</td>\n",
       "      <td>1475.024</td>\n",
       "      <td>0.00</td>\n",
       "      <td>0.00</td>\n",
       "      <td>14955.118</td>\n",
       "      <td>0.00</td>\n",
       "      <td>0.0</td>\n",
       "      <td>0.098630</td>\n",
       "      <td>NaN</td>\n",
       "      <td>NaN</td>\n",
       "    </tr>\n",
       "    <tr>\n",
       "      <th>3</th>\n",
       "      <td>OBS</td>\n",
       "      <td>02-OREM CENTRAL STATION</td>\n",
       "      <td>walk</td>\n",
       "      <td>371.804</td>\n",
       "      <td>0.00</td>\n",
       "      <td>0.00</td>\n",
       "      <td>5672.892</td>\n",
       "      <td>0.00</td>\n",
       "      <td>0.0</td>\n",
       "      <td>0.065540</td>\n",
       "      <td>NaN</td>\n",
       "      <td>NaN</td>\n",
       "    </tr>\n",
       "    <tr>\n",
       "      <th>4</th>\n",
       "      <td>OBS</td>\n",
       "      <td>03-AMERICAN FORK STATION</td>\n",
       "      <td>drive</td>\n",
       "      <td>1423.768</td>\n",
       "      <td>0.00</td>\n",
       "      <td>0.00</td>\n",
       "      <td>14955.118</td>\n",
       "      <td>0.00</td>\n",
       "      <td>0.0</td>\n",
       "      <td>0.095203</td>\n",
       "      <td>NaN</td>\n",
       "      <td>NaN</td>\n",
       "    </tr>\n",
       "    <tr>\n",
       "      <th>...</th>\n",
       "      <td>...</td>\n",
       "      <td>...</td>\n",
       "      <td>...</td>\n",
       "      <td>...</td>\n",
       "      <td>...</td>\n",
       "      <td>...</td>\n",
       "      <td>...</td>\n",
       "      <td>...</td>\n",
       "      <td>...</td>\n",
       "      <td>...</td>\n",
       "      <td>...</td>\n",
       "      <td>...</td>\n",
       "    </tr>\n",
       "    <tr>\n",
       "      <th>265</th>\n",
       "      <td>TDM_2.2.4_b4</td>\n",
       "      <td>11-FARMINGTON STATION</td>\n",
       "      <td>All</td>\n",
       "      <td>1245.100</td>\n",
       "      <td>1212.74</td>\n",
       "      <td>32.36</td>\n",
       "      <td>36622.470</td>\n",
       "      <td>33880.27</td>\n",
       "      <td>2742.2</td>\n",
       "      <td>0.033998</td>\n",
       "      <td>0.035795</td>\n",
       "      <td>0.011801</td>\n",
       "    </tr>\n",
       "    <tr>\n",
       "      <th>266</th>\n",
       "      <td>TDM_2.2.4_b4</td>\n",
       "      <td>12-LAYTON STATION</td>\n",
       "      <td>All</td>\n",
       "      <td>2625.630</td>\n",
       "      <td>2447.31</td>\n",
       "      <td>178.32</td>\n",
       "      <td>36622.470</td>\n",
       "      <td>33880.27</td>\n",
       "      <td>2742.2</td>\n",
       "      <td>0.071695</td>\n",
       "      <td>0.072234</td>\n",
       "      <td>0.065028</td>\n",
       "    </tr>\n",
       "    <tr>\n",
       "      <th>267</th>\n",
       "      <td>TDM_2.2.4_b4</td>\n",
       "      <td>13-CLEARFIELD STATION</td>\n",
       "      <td>All</td>\n",
       "      <td>2280.610</td>\n",
       "      <td>2204.26</td>\n",
       "      <td>76.35</td>\n",
       "      <td>36622.470</td>\n",
       "      <td>33880.27</td>\n",
       "      <td>2742.2</td>\n",
       "      <td>0.062274</td>\n",
       "      <td>0.065060</td>\n",
       "      <td>0.027843</td>\n",
       "    </tr>\n",
       "    <tr>\n",
       "      <th>268</th>\n",
       "      <td>TDM_2.2.4_b4</td>\n",
       "      <td>14-ROY STATION</td>\n",
       "      <td>All</td>\n",
       "      <td>3646.870</td>\n",
       "      <td>3621.15</td>\n",
       "      <td>25.72</td>\n",
       "      <td>36622.470</td>\n",
       "      <td>33880.27</td>\n",
       "      <td>2742.2</td>\n",
       "      <td>0.099580</td>\n",
       "      <td>0.106881</td>\n",
       "      <td>0.009379</td>\n",
       "    </tr>\n",
       "    <tr>\n",
       "      <th>269</th>\n",
       "      <td>TDM_2.2.4_b4</td>\n",
       "      <td>15-OGDEN STATION</td>\n",
       "      <td>All</td>\n",
       "      <td>2660.970</td>\n",
       "      <td>2257.94</td>\n",
       "      <td>403.03</td>\n",
       "      <td>36622.470</td>\n",
       "      <td>33880.27</td>\n",
       "      <td>2742.2</td>\n",
       "      <td>0.072659</td>\n",
       "      <td>0.066645</td>\n",
       "      <td>0.146973</td>\n",
       "    </tr>\n",
       "  </tbody>\n",
       "</table>\n",
       "<p>270 rows × 12 columns</p>\n",
       "</div>"
      ],
      "text/plain": [
       "           Source                   station AccessMode    Brd_PA  \\\n",
       "0             OBS  01-PROVO CENTRAL STATION      drive  2283.379   \n",
       "1             OBS  01-PROVO CENTRAL STATION       walk   945.908   \n",
       "2             OBS   02-OREM CENTRAL STATION      drive  1475.024   \n",
       "3             OBS   02-OREM CENTRAL STATION       walk   371.804   \n",
       "4             OBS  03-AMERICAN FORK STATION      drive  1423.768   \n",
       "..            ...                       ...        ...       ...   \n",
       "265  TDM_2.2.4_b4     11-FARMINGTON STATION        All  1245.100   \n",
       "266  TDM_2.2.4_b4         12-LAYTON STATION        All  2625.630   \n",
       "267  TDM_2.2.4_b4     13-CLEARFIELD STATION        All  2280.610   \n",
       "268  TDM_2.2.4_b4            14-ROY STATION        All  3646.870   \n",
       "269  TDM_2.2.4_b4          15-OGDEN STATION        All  2660.970   \n",
       "\n",
       "     Brd_Direct_PA  Brd_Transfer_PA  Source_Brd_PA  Source_Brd_Direct_PA  \\\n",
       "0             0.00             0.00      14955.118                  0.00   \n",
       "1             0.00             0.00       5672.892                  0.00   \n",
       "2             0.00             0.00      14955.118                  0.00   \n",
       "3             0.00             0.00       5672.892                  0.00   \n",
       "4             0.00             0.00      14955.118                  0.00   \n",
       "..             ...              ...            ...                   ...   \n",
       "265        1212.74            32.36      36622.470              33880.27   \n",
       "266        2447.31           178.32      36622.470              33880.27   \n",
       "267        2204.26            76.35      36622.470              33880.27   \n",
       "268        3621.15            25.72      36622.470              33880.27   \n",
       "269        2257.94           403.03      36622.470              33880.27   \n",
       "\n",
       "     Source_Brd_Transfer_PA  Brd_PA_Perc  Brd_Direct_PA_Perc  \\\n",
       "0                       0.0     0.152682                 NaN   \n",
       "1                       0.0     0.166742                 NaN   \n",
       "2                       0.0     0.098630                 NaN   \n",
       "3                       0.0     0.065540                 NaN   \n",
       "4                       0.0     0.095203                 NaN   \n",
       "..                      ...          ...                 ...   \n",
       "265                  2742.2     0.033998            0.035795   \n",
       "266                  2742.2     0.071695            0.072234   \n",
       "267                  2742.2     0.062274            0.065060   \n",
       "268                  2742.2     0.099580            0.106881   \n",
       "269                  2742.2     0.072659            0.066645   \n",
       "\n",
       "     Brd_Transfer_PA_Perc  \n",
       "0                     NaN  \n",
       "1                     NaN  \n",
       "2                     NaN  \n",
       "3                     NaN  \n",
       "4                     NaN  \n",
       "..                    ...  \n",
       "265              0.011801  \n",
       "266              0.065028  \n",
       "267              0.027843  \n",
       "268              0.009379  \n",
       "269              0.146973  \n",
       "\n",
       "[270 rows x 12 columns]"
      ]
     },
     "execution_count": 49,
     "metadata": {},
     "output_type": "execute_result"
    }
   ],
   "source": [
    "# add a few more columns regarding percentage of boardings in relation to total boardings\n",
    "\n",
    "# sum by source and station \n",
    "station_sum = sumStats.groupby([\"Source\", \"station\"], as_index=False).agg({\n",
    "    f\"Brd_{pa_od}\": \"sum\",\n",
    "    f\"Brd_Direct_{pa_od}\": \"sum\",\n",
    "    f\"Brd_Transfer_{pa_od}\": \"sum\"\n",
    "})\n",
    "\n",
    "# add All accessMode\n",
    "station_sum[\"AccessMode\"] = \"All\"\n",
    "sumStats2 = pd.concat([sumStats, station_sum], ignore_index=True) \n",
    "\n",
    "accessmode_sum = sumStats2.groupby([\"Source\", \"AccessMode\"], as_index=False).agg({\n",
    "    f\"Brd_{pa_od}\": \"sum\",\n",
    "    f\"Brd_Direct_{pa_od}\": \"sum\",\n",
    "    f\"Brd_Transfer_{pa_od}\": \"sum\"\n",
    "})\n",
    "\n",
    "accessmode_sum.rename(columns={\n",
    "    f\"Brd_{pa_od}\": f\"Source_Brd_{pa_od}\", \n",
    "    f\"Brd_Direct_{pa_od}\": f\"Source_Brd_Direct_{pa_od}\", \n",
    "    f\"Brd_Transfer_{pa_od}\": f\"Source_Brd_Transfer_{pa_od}\"}, inplace=True)\n",
    "sumStatsP = sumStats2.merge(accessmode_sum, on=[\"Source\", \"AccessMode\"], how=\"left\")\n",
    "\n",
    "sumStatsP[f\"Brd_{pa_od}_Perc\"]          = sumStatsP[f\"Brd_{pa_od}\"] / sumStatsP[f\"Source_Brd_{pa_od}\"]\n",
    "sumStatsP[f\"Brd_Direct_{pa_od}_Perc\"]   = sumStatsP[f\"Brd_Direct_{pa_od}\"] / sumStatsP[f\"Source_Brd_Direct_{pa_od}\"]\n",
    "sumStatsP[f\"Brd_Transfer_{pa_od}_Perc\"] = sumStatsP[f\"Brd_Transfer_{pa_od}\"] / sumStatsP[f\"Source_Brd_Transfer_{pa_od}\"]\n",
    "sumStatsP\n"
   ]
  },
  {
   "cell_type": "code",
   "execution_count": 50,
   "metadata": {},
   "outputs": [],
   "source": [
    "def plotit(variable, access_mode):\n",
    "    output.clear_output()  # Clear previous output before displaying new content\n",
    "    global firstTime\n",
    "    if firstTime:\n",
    "    \n",
    "        filtered_data = sumStatsP[sumStatsP['AccessMode'] == access_mode]\n",
    "            \n",
    "        # Create histogram\n",
    "        fig = px.histogram(\n",
    "            filtered_data, \n",
    "            x=\"station\", \n",
    "            y=variable, \n",
    "            text_auto='.2s',\n",
    "            color='Source', \n",
    "            barmode='group',\n",
    "            height=400\n",
    "        )\n",
    "        fig.update_layout(\n",
    "            xaxis_title=\"Station Name\",\n",
    "            yaxis_title=str(variable),\n",
    "            legend_title=\"Model Version\"\n",
    "        )\n",
    "        \n",
    "        # Display the plot\n",
    "        fig.show()\n",
    "    \n",
    "    else:\n",
    "        firstTime = True"
   ]
  },
  {
   "cell_type": "code",
   "execution_count": 54,
   "metadata": {},
   "outputs": [
    {
     "data": {
      "application/vnd.jupyter.widget-view+json": {
       "model_id": "fb0c31c2163549d89da18fb80846f070",
       "version_major": 2,
       "version_minor": 0
      },
      "text/plain": [
       "HBox(children=(Select(description='Select Variable', options=('Brd_PA', 'Brd_Direct_PA', 'Brd_Transfer_PA', 'B…"
      ]
     },
     "metadata": {},
     "output_type": "display_data"
    },
    {
     "data": {
      "application/vnd.jupyter.widget-view+json": {
       "model_id": "89595856f66548ab9281860bccfb3258",
       "version_major": 2,
       "version_minor": 0
      },
      "text/plain": [
       "Output()"
      ]
     },
     "metadata": {},
     "output_type": "display_data"
    },
    {
     "data": {
      "application/vnd.plotly.v1+json": {
       "config": {
        "plotlyServerURL": "https://plot.ly"
       },
       "data": [
        {
         "alignmentgroup": "True",
         "bingroup": "x",
         "histfunc": "sum",
         "hovertemplate": "Source=OBS<br>station=%{x}<br>sum of Brd_PA_Perc=%{y}<extra></extra>",
         "legendgroup": "OBS",
         "marker": {
          "color": "#636efa",
          "pattern": {
           "shape": ""
          }
         },
         "name": "OBS",
         "offsetgroup": "OBS",
         "orientation": "v",
         "showlegend": true,
         "texttemplate": "%{value:.2s}",
         "type": "histogram",
         "x": [
          "01-PROVO CENTRAL STATION",
          "02-OREM CENTRAL STATION",
          "03-AMERICAN FORK STATION",
          "04-LEHI STATION",
          "05-DRAPER STATION",
          "06-SOUTH JORDAN STATION",
          "07-MURRAY CENTRAL STATION",
          "08-SALT LAKE CENTRAL STATION",
          "09-NORTH TEMPLE STATION",
          "10-WOODS CROSS STATION",
          "11-FARMINGTON STATION",
          "12-LAYTON STATION",
          "13-CLEARFIELD STATION",
          "14-ROY STATION",
          "15-OGDEN STATION"
         ],
         "xaxis": "x",
         "y": [
          0.15268211190309564,
          0.0986300475863848,
          0.09520272591630503,
          0.07545055812999937,
          0.0625637323623926,
          0.06589563519324956,
          0.06885054333907628,
          0.024589441554389607,
          0.022445359508363624,
          0.039740976968553506,
          0.025775858137662304,
          0.07443043913127265,
          0.049838790974434305,
          0.0467548300187267,
          0.09714894927609398
         ],
         "yaxis": "y"
        },
        {
         "alignmentgroup": "True",
         "bingroup": "x",
         "histfunc": "sum",
         "hovertemplate": "Source=TDM<br>station=%{x}<br>sum of Brd_PA_Perc=%{y}<extra></extra>",
         "legendgroup": "TDM",
         "marker": {
          "color": "#EF553B",
          "pattern": {
           "shape": ""
          }
         },
         "name": "TDM",
         "offsetgroup": "TDM",
         "orientation": "v",
         "showlegend": true,
         "texttemplate": "%{value:.2s}",
         "type": "histogram",
         "x": [
          "01-PROVO CENTRAL STATION",
          "02-OREM CENTRAL STATION",
          "03-AMERICAN FORK STATION",
          "04-LEHI STATION",
          "05-DRAPER STATION",
          "06-SOUTH JORDAN STATION",
          "07-MURRAY CENTRAL STATION",
          "08-SALT LAKE CENTRAL STATION",
          "09-NORTH TEMPLE STATION",
          "10-WOODS CROSS STATION",
          "11-FARMINGTON STATION",
          "12-LAYTON STATION",
          "13-CLEARFIELD STATION",
          "14-ROY STATION",
          "15-OGDEN STATION"
         ],
         "xaxis": "x",
         "y": [
          0.017431465785937388,
          0.09222492150248117,
          0.12488383683042725,
          0.10725581884960221,
          0.09127012192815236,
          0.11127568131240942,
          0.0646722512710101,
          0.012279166618693675,
          0.006118612259264681,
          0.0779695418113395,
          0.03509731389632242,
          0.07214616904146676,
          0.05767532209065743,
          0.08300094904281548,
          0.046698827759420115
         ],
         "yaxis": "y"
        },
        {
         "alignmentgroup": "True",
         "bingroup": "x",
         "histfunc": "sum",
         "hovertemplate": "Source=TDM_2.2.1_b4<br>station=%{x}<br>sum of Brd_PA_Perc=%{y}<extra></extra>",
         "legendgroup": "TDM_2.2.1_b4",
         "marker": {
          "color": "#00cc96",
          "pattern": {
           "shape": ""
          }
         },
         "name": "TDM_2.2.1_b4",
         "offsetgroup": "TDM_2.2.1_b4",
         "orientation": "v",
         "showlegend": true,
         "texttemplate": "%{value:.2s}",
         "type": "histogram",
         "x": [
          "01-PROVO CENTRAL STATION",
          "02-OREM CENTRAL STATION",
          "03-AMERICAN FORK STATION",
          "04-LEHI STATION",
          "05-DRAPER STATION",
          "06-SOUTH JORDAN STATION",
          "07-MURRAY CENTRAL STATION",
          "08-SALT LAKE CENTRAL STATION",
          "09-NORTH TEMPLE STATION",
          "10-WOODS CROSS STATION",
          "11-FARMINGTON STATION",
          "12-LAYTON STATION",
          "13-CLEARFIELD STATION",
          "14-ROY STATION",
          "15-OGDEN STATION"
         ],
         "xaxis": "x",
         "y": [
          0.010347790666821179,
          0.08922914785903989,
          0.0953679315209673,
          0.1418420569639098,
          0.10938517886768517,
          0.12639844177351672,
          0.04399013606828971,
          0.015058920310281951,
          0.008370554159984453,
          0.026368383868641425,
          0.059097416550728726,
          0.09351172406200238,
          0.05475310395777849,
          0.08400444862136855,
          0.042274764748984346
         ],
         "yaxis": "y"
        },
        {
         "alignmentgroup": "True",
         "bingroup": "x",
         "histfunc": "sum",
         "hovertemplate": "Source=TDM_2.2.2_b4<br>station=%{x}<br>sum of Brd_PA_Perc=%{y}<extra></extra>",
         "legendgroup": "TDM_2.2.2_b4",
         "marker": {
          "color": "#ab63fa",
          "pattern": {
           "shape": ""
          }
         },
         "name": "TDM_2.2.2_b4",
         "offsetgroup": "TDM_2.2.2_b4",
         "orientation": "v",
         "showlegend": true,
         "texttemplate": "%{value:.2s}",
         "type": "histogram",
         "x": [
          "01-PROVO CENTRAL STATION",
          "02-OREM CENTRAL STATION",
          "03-AMERICAN FORK STATION",
          "04-LEHI STATION",
          "05-DRAPER STATION",
          "06-SOUTH JORDAN STATION",
          "07-MURRAY CENTRAL STATION",
          "08-SALT LAKE CENTRAL STATION",
          "09-NORTH TEMPLE STATION",
          "10-WOODS CROSS STATION",
          "11-FARMINGTON STATION",
          "12-LAYTON STATION",
          "13-CLEARFIELD STATION",
          "14-ROY STATION",
          "15-OGDEN STATION"
         ],
         "xaxis": "x",
         "y": [
          0.02138980247717798,
          0.09220001816875509,
          0.0891970424811849,
          0.13458802697698619,
          0.10222991731583814,
          0.12013115555498026,
          0.04377690401381385,
          0.018158259652500983,
          0.011786717473876001,
          0.026292684184005405,
          0.05741256636464318,
          0.09365363519122265,
          0.05366616440204446,
          0.08526778680890074,
          0.05024931893407016
         ],
         "yaxis": "y"
        },
        {
         "alignmentgroup": "True",
         "bingroup": "x",
         "histfunc": "sum",
         "hovertemplate": "Source=TDM_2.2.3_b4<br>station=%{x}<br>sum of Brd_PA_Perc=%{y}<extra></extra>",
         "legendgroup": "TDM_2.2.3_b4",
         "marker": {
          "color": "#FFA15A",
          "pattern": {
           "shape": ""
          }
         },
         "name": "TDM_2.2.3_b4",
         "offsetgroup": "TDM_2.2.3_b4",
         "orientation": "v",
         "showlegend": true,
         "texttemplate": "%{value:.2s}",
         "type": "histogram",
         "x": [
          "01-PROVO CENTRAL STATION",
          "02-OREM CENTRAL STATION",
          "03-AMERICAN FORK STATION",
          "04-LEHI STATION",
          "05-DRAPER STATION",
          "06-SOUTH JORDAN STATION",
          "07-MURRAY CENTRAL STATION",
          "08-SALT LAKE CENTRAL STATION",
          "09-NORTH TEMPLE STATION",
          "10-WOODS CROSS STATION",
          "11-FARMINGTON STATION",
          "12-LAYTON STATION",
          "13-CLEARFIELD STATION",
          "14-ROY STATION",
          "15-OGDEN STATION"
         ],
         "xaxis": "x",
         "y": [
          0.019602747135006544,
          0.08441349210728749,
          0.10055403306372956,
          0.11866076733239878,
          0.10862804618526294,
          0.1314351923013653,
          0.047555418538060855,
          0.01546529847232263,
          0.009633389809530789,
          0.04242695274155586,
          0.05172211204151096,
          0.08431096108817267,
          0.05716861548134832,
          0.07985512662929013,
          0.04856784707315719
         ],
         "yaxis": "y"
        },
        {
         "alignmentgroup": "True",
         "bingroup": "x",
         "histfunc": "sum",
         "hovertemplate": "Source=TDM_2.2.4_b4<br>station=%{x}<br>sum of Brd_PA_Perc=%{y}<extra></extra>",
         "legendgroup": "TDM_2.2.4_b4",
         "marker": {
          "color": "#19d3f3",
          "pattern": {
           "shape": ""
          }
         },
         "name": "TDM_2.2.4_b4",
         "offsetgroup": "TDM_2.2.4_b4",
         "orientation": "v",
         "showlegend": true,
         "texttemplate": "%{value:.2s}",
         "type": "histogram",
         "x": [
          "01-PROVO CENTRAL STATION",
          "02-OREM CENTRAL STATION",
          "03-AMERICAN FORK STATION",
          "04-LEHI STATION",
          "05-DRAPER STATION",
          "06-SOUTH JORDAN STATION",
          "07-MURRAY CENTRAL STATION",
          "08-SALT LAKE CENTRAL STATION",
          "09-NORTH TEMPLE STATION",
          "10-WOODS CROSS STATION",
          "11-FARMINGTON STATION",
          "12-LAYTON STATION",
          "13-CLEARFIELD STATION",
          "14-ROY STATION",
          "15-OGDEN STATION"
         ],
         "xaxis": "x",
         "y": [
          0.029926315452113928,
          0.11576829016372686,
          0.09731621463048093,
          0.09900085898140101,
          0.08354014571903914,
          0.09536629194515339,
          0.060350503759114583,
          0.01700954526025994,
          0.008028160120225664,
          0.05064468029676903,
          0.03517159160971592,
          0.07405454135248161,
          0.057788473529442566,
          0.10556713239514921,
          0.07046725478492623
         ],
         "yaxis": "y"
        }
       ],
       "layout": {
        "barmode": "group",
        "height": 400,
        "legend": {
         "title": {
          "text": "Model Version"
         },
         "tracegroupgap": 0
        },
        "margin": {
         "t": 60
        },
        "template": {
         "data": {
          "bar": [
           {
            "error_x": {
             "color": "#2a3f5f"
            },
            "error_y": {
             "color": "#2a3f5f"
            },
            "marker": {
             "line": {
              "color": "#E5ECF6",
              "width": 0.5
             },
             "pattern": {
              "fillmode": "overlay",
              "size": 10,
              "solidity": 0.2
             }
            },
            "type": "bar"
           }
          ],
          "barpolar": [
           {
            "marker": {
             "line": {
              "color": "#E5ECF6",
              "width": 0.5
             },
             "pattern": {
              "fillmode": "overlay",
              "size": 10,
              "solidity": 0.2
             }
            },
            "type": "barpolar"
           }
          ],
          "carpet": [
           {
            "aaxis": {
             "endlinecolor": "#2a3f5f",
             "gridcolor": "white",
             "linecolor": "white",
             "minorgridcolor": "white",
             "startlinecolor": "#2a3f5f"
            },
            "baxis": {
             "endlinecolor": "#2a3f5f",
             "gridcolor": "white",
             "linecolor": "white",
             "minorgridcolor": "white",
             "startlinecolor": "#2a3f5f"
            },
            "type": "carpet"
           }
          ],
          "choropleth": [
           {
            "colorbar": {
             "outlinewidth": 0,
             "ticks": ""
            },
            "type": "choropleth"
           }
          ],
          "contour": [
           {
            "colorbar": {
             "outlinewidth": 0,
             "ticks": ""
            },
            "colorscale": [
             [
              0,
              "#0d0887"
             ],
             [
              0.1111111111111111,
              "#46039f"
             ],
             [
              0.2222222222222222,
              "#7201a8"
             ],
             [
              0.3333333333333333,
              "#9c179e"
             ],
             [
              0.4444444444444444,
              "#bd3786"
             ],
             [
              0.5555555555555556,
              "#d8576b"
             ],
             [
              0.6666666666666666,
              "#ed7953"
             ],
             [
              0.7777777777777778,
              "#fb9f3a"
             ],
             [
              0.8888888888888888,
              "#fdca26"
             ],
             [
              1,
              "#f0f921"
             ]
            ],
            "type": "contour"
           }
          ],
          "contourcarpet": [
           {
            "colorbar": {
             "outlinewidth": 0,
             "ticks": ""
            },
            "type": "contourcarpet"
           }
          ],
          "heatmap": [
           {
            "colorbar": {
             "outlinewidth": 0,
             "ticks": ""
            },
            "colorscale": [
             [
              0,
              "#0d0887"
             ],
             [
              0.1111111111111111,
              "#46039f"
             ],
             [
              0.2222222222222222,
              "#7201a8"
             ],
             [
              0.3333333333333333,
              "#9c179e"
             ],
             [
              0.4444444444444444,
              "#bd3786"
             ],
             [
              0.5555555555555556,
              "#d8576b"
             ],
             [
              0.6666666666666666,
              "#ed7953"
             ],
             [
              0.7777777777777778,
              "#fb9f3a"
             ],
             [
              0.8888888888888888,
              "#fdca26"
             ],
             [
              1,
              "#f0f921"
             ]
            ],
            "type": "heatmap"
           }
          ],
          "heatmapgl": [
           {
            "colorbar": {
             "outlinewidth": 0,
             "ticks": ""
            },
            "colorscale": [
             [
              0,
              "#0d0887"
             ],
             [
              0.1111111111111111,
              "#46039f"
             ],
             [
              0.2222222222222222,
              "#7201a8"
             ],
             [
              0.3333333333333333,
              "#9c179e"
             ],
             [
              0.4444444444444444,
              "#bd3786"
             ],
             [
              0.5555555555555556,
              "#d8576b"
             ],
             [
              0.6666666666666666,
              "#ed7953"
             ],
             [
              0.7777777777777778,
              "#fb9f3a"
             ],
             [
              0.8888888888888888,
              "#fdca26"
             ],
             [
              1,
              "#f0f921"
             ]
            ],
            "type": "heatmapgl"
           }
          ],
          "histogram": [
           {
            "marker": {
             "pattern": {
              "fillmode": "overlay",
              "size": 10,
              "solidity": 0.2
             }
            },
            "type": "histogram"
           }
          ],
          "histogram2d": [
           {
            "colorbar": {
             "outlinewidth": 0,
             "ticks": ""
            },
            "colorscale": [
             [
              0,
              "#0d0887"
             ],
             [
              0.1111111111111111,
              "#46039f"
             ],
             [
              0.2222222222222222,
              "#7201a8"
             ],
             [
              0.3333333333333333,
              "#9c179e"
             ],
             [
              0.4444444444444444,
              "#bd3786"
             ],
             [
              0.5555555555555556,
              "#d8576b"
             ],
             [
              0.6666666666666666,
              "#ed7953"
             ],
             [
              0.7777777777777778,
              "#fb9f3a"
             ],
             [
              0.8888888888888888,
              "#fdca26"
             ],
             [
              1,
              "#f0f921"
             ]
            ],
            "type": "histogram2d"
           }
          ],
          "histogram2dcontour": [
           {
            "colorbar": {
             "outlinewidth": 0,
             "ticks": ""
            },
            "colorscale": [
             [
              0,
              "#0d0887"
             ],
             [
              0.1111111111111111,
              "#46039f"
             ],
             [
              0.2222222222222222,
              "#7201a8"
             ],
             [
              0.3333333333333333,
              "#9c179e"
             ],
             [
              0.4444444444444444,
              "#bd3786"
             ],
             [
              0.5555555555555556,
              "#d8576b"
             ],
             [
              0.6666666666666666,
              "#ed7953"
             ],
             [
              0.7777777777777778,
              "#fb9f3a"
             ],
             [
              0.8888888888888888,
              "#fdca26"
             ],
             [
              1,
              "#f0f921"
             ]
            ],
            "type": "histogram2dcontour"
           }
          ],
          "mesh3d": [
           {
            "colorbar": {
             "outlinewidth": 0,
             "ticks": ""
            },
            "type": "mesh3d"
           }
          ],
          "parcoords": [
           {
            "line": {
             "colorbar": {
              "outlinewidth": 0,
              "ticks": ""
             }
            },
            "type": "parcoords"
           }
          ],
          "pie": [
           {
            "automargin": true,
            "type": "pie"
           }
          ],
          "scatter": [
           {
            "fillpattern": {
             "fillmode": "overlay",
             "size": 10,
             "solidity": 0.2
            },
            "type": "scatter"
           }
          ],
          "scatter3d": [
           {
            "line": {
             "colorbar": {
              "outlinewidth": 0,
              "ticks": ""
             }
            },
            "marker": {
             "colorbar": {
              "outlinewidth": 0,
              "ticks": ""
             }
            },
            "type": "scatter3d"
           }
          ],
          "scattercarpet": [
           {
            "marker": {
             "colorbar": {
              "outlinewidth": 0,
              "ticks": ""
             }
            },
            "type": "scattercarpet"
           }
          ],
          "scattergeo": [
           {
            "marker": {
             "colorbar": {
              "outlinewidth": 0,
              "ticks": ""
             }
            },
            "type": "scattergeo"
           }
          ],
          "scattergl": [
           {
            "marker": {
             "colorbar": {
              "outlinewidth": 0,
              "ticks": ""
             }
            },
            "type": "scattergl"
           }
          ],
          "scattermapbox": [
           {
            "marker": {
             "colorbar": {
              "outlinewidth": 0,
              "ticks": ""
             }
            },
            "type": "scattermapbox"
           }
          ],
          "scatterpolar": [
           {
            "marker": {
             "colorbar": {
              "outlinewidth": 0,
              "ticks": ""
             }
            },
            "type": "scatterpolar"
           }
          ],
          "scatterpolargl": [
           {
            "marker": {
             "colorbar": {
              "outlinewidth": 0,
              "ticks": ""
             }
            },
            "type": "scatterpolargl"
           }
          ],
          "scatterternary": [
           {
            "marker": {
             "colorbar": {
              "outlinewidth": 0,
              "ticks": ""
             }
            },
            "type": "scatterternary"
           }
          ],
          "surface": [
           {
            "colorbar": {
             "outlinewidth": 0,
             "ticks": ""
            },
            "colorscale": [
             [
              0,
              "#0d0887"
             ],
             [
              0.1111111111111111,
              "#46039f"
             ],
             [
              0.2222222222222222,
              "#7201a8"
             ],
             [
              0.3333333333333333,
              "#9c179e"
             ],
             [
              0.4444444444444444,
              "#bd3786"
             ],
             [
              0.5555555555555556,
              "#d8576b"
             ],
             [
              0.6666666666666666,
              "#ed7953"
             ],
             [
              0.7777777777777778,
              "#fb9f3a"
             ],
             [
              0.8888888888888888,
              "#fdca26"
             ],
             [
              1,
              "#f0f921"
             ]
            ],
            "type": "surface"
           }
          ],
          "table": [
           {
            "cells": {
             "fill": {
              "color": "#EBF0F8"
             },
             "line": {
              "color": "white"
             }
            },
            "header": {
             "fill": {
              "color": "#C8D4E3"
             },
             "line": {
              "color": "white"
             }
            },
            "type": "table"
           }
          ]
         },
         "layout": {
          "annotationdefaults": {
           "arrowcolor": "#2a3f5f",
           "arrowhead": 0,
           "arrowwidth": 1
          },
          "autotypenumbers": "strict",
          "coloraxis": {
           "colorbar": {
            "outlinewidth": 0,
            "ticks": ""
           }
          },
          "colorscale": {
           "diverging": [
            [
             0,
             "#8e0152"
            ],
            [
             0.1,
             "#c51b7d"
            ],
            [
             0.2,
             "#de77ae"
            ],
            [
             0.3,
             "#f1b6da"
            ],
            [
             0.4,
             "#fde0ef"
            ],
            [
             0.5,
             "#f7f7f7"
            ],
            [
             0.6,
             "#e6f5d0"
            ],
            [
             0.7,
             "#b8e186"
            ],
            [
             0.8,
             "#7fbc41"
            ],
            [
             0.9,
             "#4d9221"
            ],
            [
             1,
             "#276419"
            ]
           ],
           "sequential": [
            [
             0,
             "#0d0887"
            ],
            [
             0.1111111111111111,
             "#46039f"
            ],
            [
             0.2222222222222222,
             "#7201a8"
            ],
            [
             0.3333333333333333,
             "#9c179e"
            ],
            [
             0.4444444444444444,
             "#bd3786"
            ],
            [
             0.5555555555555556,
             "#d8576b"
            ],
            [
             0.6666666666666666,
             "#ed7953"
            ],
            [
             0.7777777777777778,
             "#fb9f3a"
            ],
            [
             0.8888888888888888,
             "#fdca26"
            ],
            [
             1,
             "#f0f921"
            ]
           ],
           "sequentialminus": [
            [
             0,
             "#0d0887"
            ],
            [
             0.1111111111111111,
             "#46039f"
            ],
            [
             0.2222222222222222,
             "#7201a8"
            ],
            [
             0.3333333333333333,
             "#9c179e"
            ],
            [
             0.4444444444444444,
             "#bd3786"
            ],
            [
             0.5555555555555556,
             "#d8576b"
            ],
            [
             0.6666666666666666,
             "#ed7953"
            ],
            [
             0.7777777777777778,
             "#fb9f3a"
            ],
            [
             0.8888888888888888,
             "#fdca26"
            ],
            [
             1,
             "#f0f921"
            ]
           ]
          },
          "colorway": [
           "#636efa",
           "#EF553B",
           "#00cc96",
           "#ab63fa",
           "#FFA15A",
           "#19d3f3",
           "#FF6692",
           "#B6E880",
           "#FF97FF",
           "#FECB52"
          ],
          "font": {
           "color": "#2a3f5f"
          },
          "geo": {
           "bgcolor": "white",
           "lakecolor": "white",
           "landcolor": "#E5ECF6",
           "showlakes": true,
           "showland": true,
           "subunitcolor": "white"
          },
          "hoverlabel": {
           "align": "left"
          },
          "hovermode": "closest",
          "mapbox": {
           "style": "light"
          },
          "paper_bgcolor": "white",
          "plot_bgcolor": "#E5ECF6",
          "polar": {
           "angularaxis": {
            "gridcolor": "white",
            "linecolor": "white",
            "ticks": ""
           },
           "bgcolor": "#E5ECF6",
           "radialaxis": {
            "gridcolor": "white",
            "linecolor": "white",
            "ticks": ""
           }
          },
          "scene": {
           "xaxis": {
            "backgroundcolor": "#E5ECF6",
            "gridcolor": "white",
            "gridwidth": 2,
            "linecolor": "white",
            "showbackground": true,
            "ticks": "",
            "zerolinecolor": "white"
           },
           "yaxis": {
            "backgroundcolor": "#E5ECF6",
            "gridcolor": "white",
            "gridwidth": 2,
            "linecolor": "white",
            "showbackground": true,
            "ticks": "",
            "zerolinecolor": "white"
           },
           "zaxis": {
            "backgroundcolor": "#E5ECF6",
            "gridcolor": "white",
            "gridwidth": 2,
            "linecolor": "white",
            "showbackground": true,
            "ticks": "",
            "zerolinecolor": "white"
           }
          },
          "shapedefaults": {
           "line": {
            "color": "#2a3f5f"
           }
          },
          "ternary": {
           "aaxis": {
            "gridcolor": "white",
            "linecolor": "white",
            "ticks": ""
           },
           "baxis": {
            "gridcolor": "white",
            "linecolor": "white",
            "ticks": ""
           },
           "bgcolor": "#E5ECF6",
           "caxis": {
            "gridcolor": "white",
            "linecolor": "white",
            "ticks": ""
           }
          },
          "title": {
           "x": 0.05
          },
          "xaxis": {
           "automargin": true,
           "gridcolor": "white",
           "linecolor": "white",
           "ticks": "",
           "title": {
            "standoff": 15
           },
           "zerolinecolor": "white",
           "zerolinewidth": 2
          },
          "yaxis": {
           "automargin": true,
           "gridcolor": "white",
           "linecolor": "white",
           "ticks": "",
           "title": {
            "standoff": 15
           },
           "zerolinecolor": "white",
           "zerolinewidth": 2
          }
         }
        },
        "xaxis": {
         "anchor": "y",
         "domain": [
          0,
          1
         ],
         "title": {
          "text": "Station Name"
         }
        },
        "yaxis": {
         "anchor": "x",
         "domain": [
          0,
          1
         ],
         "title": {
          "text": "Brd_PA_Perc"
         }
        }
       }
      }
     },
     "metadata": {},
     "output_type": "display_data"
    },
    {
     "data": {
      "application/vnd.jupyter.widget-view+json": {
       "model_id": "00b7f9597c8d4b66a49977cec03077bc",
       "version_major": 2,
       "version_minor": 0
      },
      "text/plain": [
       "Output()"
      ]
     },
     "metadata": {},
     "output_type": "display_data"
    }
   ],
   "source": [
    "lstValues = list([\n",
    "    f'Brd_{pa_od}',\n",
    "    f'Brd_Direct_{pa_od}',\n",
    "    f'Brd_Transfer_{pa_od}',\n",
    "    f'Brd_{pa_od}_Perc',\n",
    "    f'Brd_Direct_{pa_od}_Perc',\n",
    "    f'Brd_Transfer_{pa_od}_Perc'])\n",
    "accessModeOptions = ['drive', 'walk', 'All']\n",
    "\n",
    "selectValues = widgets.Select(options=lstValues, value=(f'Brd_{pa_od}' ), description = 'Select Variable')\n",
    "selectAccessMode = widgets.Dropdown(options=accessModeOptions, value='All', description='Access Mode')\n",
    "\n",
    "# Set up a global variable to track whether the widgets have been changed\n",
    "firstTime = False\n",
    "\n",
    "# create output widget to display filtered DataFrame\n",
    "output = widgets.Output()\n",
    "hbox = widgets.HBox([selectValues, selectAccessMode])\n",
    "\n",
    "# create interactive widget\n",
    "interactive_output = widgets.interactive_output(plotit, {'variable':selectValues, 'access_mode': selectAccessMode})\n",
    "\n",
    "display(hbox)\n",
    "display(interactive_output)\n",
    "display(output)"
   ]
  },
  {
   "cell_type": "markdown",
   "metadata": {},
   "source": [
    "## Conclusions"
   ]
  },
  {
   "cell_type": "markdown",
   "metadata": {},
   "source": [
    "- the distance on crt utility variable doesn't play a large role in utility equation\n",
    "- all functions shared a positive utility given for longer trips on crt -- this resulted in all scenarios slightly improving that of provo central station. Unfortunately, the effects were negated and shared through the system, not even impacting Provo more than other stations. Therefore, we conclude the ran scenarios do not have a significant role in solving the problem\n",
    "- we must still analyze SANDAG's equation"
   ]
  }
 ],
 "metadata": {
  "kernelspec": {
   "display_name": "base",
   "language": "python",
   "name": "python3"
  },
  "language_info": {
   "codemirror_mode": {
    "name": "ipython",
    "version": 3
   },
   "file_extension": ".py",
   "mimetype": "text/x-python",
   "name": "python",
   "nbconvert_exporter": "python",
   "pygments_lexer": "ipython3",
   "version": "3.9.19"
  }
 },
 "nbformat": 4,
 "nbformat_minor": 2
}
