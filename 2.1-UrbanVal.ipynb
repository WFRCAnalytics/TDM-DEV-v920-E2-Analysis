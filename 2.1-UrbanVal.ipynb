{
 "cells": [
  {
   "cell_type": "markdown",
   "metadata": {},
   "source": [
    "## Assessment 1: UrbanVal Parameter"
   ]
  },
  {
   "cell_type": "code",
   "execution_count": 1,
   "metadata": {},
   "outputs": [],
   "source": [
    "import os\n",
    "import pandas as pd\n",
    "import numpy as np\n",
    "import plotly.express as px\n",
    "import plotly.graph_objects as go\n",
    "import plotly as pys\n",
    "import ipywidgets as widgets\n",
    "from ipywidgets import Layout\n",
    "\n",
    "import _global_scripts as gs"
   ]
  },
  {
   "cell_type": "markdown",
   "metadata": {},
   "source": [
    "## Purpose\n",
    "\n",
    "In this assessment, we adjust the `UrbanVal` parameter to see its impact on CRT PNR values. We will follow the following subtask to set the stage.\n",
    " \n",
    " - **2.1.1** Set UrbanVal=0 for all TAZ (analyze with and without recalibration)\n",
    " - **2.1.2** Set UrbanVal=LN(UrbanVal) (analyze with and without recalibration)\n",
    " - **2.1.3** Set crt constants (acs_CRT, asc_dCRT, asc_wCRT) = 0 (analyze without recalibration)\n",
    " - **2.1.4** E2.1.3 and UrbanVal=0 (analyze without recalibration)\n",
    "\n",
    "We will do these steps to the `BY_2019` model, and then compare results to the previous TDM results and 2019 On-Board travel survey (See 1-StationSummary.ipynb). \n"
   ]
  },
  {
   "cell_type": "markdown",
   "metadata": {},
   "source": [
    "## Inputs"
   ]
  },
  {
   "cell_type": "code",
   "execution_count": 2,
   "metadata": {},
   "outputs": [],
   "source": [
    "# set whether you want PA or OD analysis\n",
    "pa_od = 'PA'\n",
    "pa_od_function = 'pa'"
   ]
  },
  {
   "cell_type": "code",
   "execution_count": 3,
   "metadata": {},
   "outputs": [],
   "source": [
    "df_tdm_obs = pd.read_csv(f\"_data/base_observed_summary_{pa_od_function}.csv\").sort_values(by=['Source','station'], ascending=True).reset_index(drop=True)\n",
    "if(pa_od == 'PA'):\n",
    "        df_tdm_obs = df_tdm_obs.drop(columns={'Alt_PA','Alt_Direct_PA','Alt_Transfer_PA'})\n",
    "\n",
    "# read in results for e2.1.1 before recalibration\n",
    "path_brding_summary_211_b4 = r\"_data/E2.1/E2.1.1_node_b4calib.csv\"\n",
    "path_rider_summary_211_b4  = r\"_data/E2.1/E2.1.1_link_b4calib.csv\"\n",
    "\n",
    "# read in results for e2.1.1 after recalibration\n",
    "path_brding_summary_211 = r\"_data/E2.1/E2.1.1_node.csv\"\n",
    "path_rider_summary_211  = r\"_data/E2.1/E2.1.1_link.csv\"\n",
    "\n",
    "# read in results for e2.1.2 before recalibration\n",
    "path_brding_summary_212_b4 = r\"_data/E2.1/E2.1.2_node_b4calib.csv\"\n",
    "path_rider_summary_212_b4  = r\"_data/E2.1/E2.1.2_link_b4calib.csv\"\n",
    "\n",
    "# read in results for e2.1.2 after recalibration\n",
    "path_brding_summary_212 = r\"_data/E2.1/E2.1.2_node.csv\"\n",
    "path_rider_summary_212  = r\"_data/E2.1/E2.1.2_link.csv\"\n",
    "\n",
    "# read in results for e2.1.3 before recalibration\n",
    "path_brding_summary_213 = r\"_data/E2.1/E2.1.3_node.csv\"\n",
    "path_rider_summary_213  = r\"_data/E2.1/E2.1.3_link.csv\"\n",
    "\n",
    "# read in results for e2.1.4 before recalibration\n",
    "path_brding_summary_214 = r\"_data/E2.1/E2.1.4_node.csv\"\n",
    "path_rider_summary_214  = r\"_data/E2.1/E2.1.4_link.csv\""
   ]
  },
  {
   "cell_type": "markdown",
   "metadata": {},
   "source": [
    "## Compare Results"
   ]
  },
  {
   "cell_type": "markdown",
   "metadata": {},
   "source": [
    "### Plotly Graph Boarding Comparisons by Station"
   ]
  },
  {
   "cell_type": "code",
   "execution_count": 4,
   "metadata": {},
   "outputs": [
    {
     "name": "stderr",
     "output_type": "stream",
     "text": [
      "d:\\GitHub\\WF-TDM-v9x\\_scripts\\_global_scripts.py:27: DtypeWarning: Columns (3) have mixed types. Specify dtype option on import or set low_memory=False.\n",
      "  df_rider_summary = pd.read_csv(path_riders)\n",
      "d:\\GitHub\\WF-TDM-v9x\\_scripts\\_global_scripts.py:27: DtypeWarning: Columns (3) have mixed types. Specify dtype option on import or set low_memory=False.\n",
      "  df_rider_summary = pd.read_csv(path_riders)\n",
      "d:\\GitHub\\WF-TDM-v9x\\_scripts\\_global_scripts.py:27: DtypeWarning: Columns (3) have mixed types. Specify dtype option on import or set low_memory=False.\n",
      "  df_rider_summary = pd.read_csv(path_riders)\n"
     ]
    },
    {
     "data": {
      "text/html": [
       "<div>\n",
       "<style scoped>\n",
       "    .dataframe tbody tr th:only-of-type {\n",
       "        vertical-align: middle;\n",
       "    }\n",
       "\n",
       "    .dataframe tbody tr th {\n",
       "        vertical-align: top;\n",
       "    }\n",
       "\n",
       "    .dataframe thead th {\n",
       "        text-align: right;\n",
       "    }\n",
       "</style>\n",
       "<table border=\"1\" class=\"dataframe\">\n",
       "  <thead>\n",
       "    <tr style=\"text-align: right;\">\n",
       "      <th></th>\n",
       "      <th>Source</th>\n",
       "      <th>station</th>\n",
       "      <th>AccessMode</th>\n",
       "      <th>Brd_PA</th>\n",
       "      <th>Brd_Direct_PA</th>\n",
       "      <th>Brd_Transfer_PA</th>\n",
       "    </tr>\n",
       "  </thead>\n",
       "  <tbody>\n",
       "    <tr>\n",
       "      <th>0</th>\n",
       "      <td>OBS</td>\n",
       "      <td>01-PROVO CENTRAL STATION</td>\n",
       "      <td>drive</td>\n",
       "      <td>2283.379</td>\n",
       "      <td>0.00</td>\n",
       "      <td>0.00</td>\n",
       "    </tr>\n",
       "    <tr>\n",
       "      <th>1</th>\n",
       "      <td>OBS</td>\n",
       "      <td>01-PROVO CENTRAL STATION</td>\n",
       "      <td>walk</td>\n",
       "      <td>945.908</td>\n",
       "      <td>0.00</td>\n",
       "      <td>0.00</td>\n",
       "    </tr>\n",
       "    <tr>\n",
       "      <th>2</th>\n",
       "      <td>OBS</td>\n",
       "      <td>02-OREM CENTRAL STATION</td>\n",
       "      <td>drive</td>\n",
       "      <td>1475.024</td>\n",
       "      <td>0.00</td>\n",
       "      <td>0.00</td>\n",
       "    </tr>\n",
       "    <tr>\n",
       "      <th>3</th>\n",
       "      <td>OBS</td>\n",
       "      <td>02-OREM CENTRAL STATION</td>\n",
       "      <td>walk</td>\n",
       "      <td>371.804</td>\n",
       "      <td>0.00</td>\n",
       "      <td>0.00</td>\n",
       "    </tr>\n",
       "    <tr>\n",
       "      <th>4</th>\n",
       "      <td>OBS</td>\n",
       "      <td>03-AMERICAN FORK STATION</td>\n",
       "      <td>drive</td>\n",
       "      <td>1423.768</td>\n",
       "      <td>0.00</td>\n",
       "      <td>0.00</td>\n",
       "    </tr>\n",
       "    <tr>\n",
       "      <th>...</th>\n",
       "      <td>...</td>\n",
       "      <td>...</td>\n",
       "      <td>...</td>\n",
       "      <td>...</td>\n",
       "      <td>...</td>\n",
       "      <td>...</td>\n",
       "    </tr>\n",
       "    <tr>\n",
       "      <th>235</th>\n",
       "      <td>TDM_2.1.4</td>\n",
       "      <td>11-FARMINGTON STATION</td>\n",
       "      <td>walk</td>\n",
       "      <td>14.420</td>\n",
       "      <td>9.60</td>\n",
       "      <td>4.82</td>\n",
       "    </tr>\n",
       "    <tr>\n",
       "      <th>236</th>\n",
       "      <td>TDM_2.1.4</td>\n",
       "      <td>12-LAYTON STATION</td>\n",
       "      <td>walk</td>\n",
       "      <td>43.860</td>\n",
       "      <td>21.67</td>\n",
       "      <td>22.19</td>\n",
       "    </tr>\n",
       "    <tr>\n",
       "      <th>237</th>\n",
       "      <td>TDM_2.1.4</td>\n",
       "      <td>13-CLEARFIELD STATION</td>\n",
       "      <td>walk</td>\n",
       "      <td>99.800</td>\n",
       "      <td>91.29</td>\n",
       "      <td>8.51</td>\n",
       "    </tr>\n",
       "    <tr>\n",
       "      <th>238</th>\n",
       "      <td>TDM_2.1.4</td>\n",
       "      <td>14-ROY STATION</td>\n",
       "      <td>walk</td>\n",
       "      <td>53.090</td>\n",
       "      <td>49.38</td>\n",
       "      <td>3.71</td>\n",
       "    </tr>\n",
       "    <tr>\n",
       "      <th>239</th>\n",
       "      <td>TDM_2.1.4</td>\n",
       "      <td>15-OGDEN STATION</td>\n",
       "      <td>walk</td>\n",
       "      <td>54.320</td>\n",
       "      <td>9.21</td>\n",
       "      <td>45.11</td>\n",
       "    </tr>\n",
       "  </tbody>\n",
       "</table>\n",
       "<p>240 rows × 6 columns</p>\n",
       "</div>"
      ],
      "text/plain": [
       "        Source                   station AccessMode    Brd_PA  Brd_Direct_PA  \\\n",
       "0          OBS  01-PROVO CENTRAL STATION      drive  2283.379           0.00   \n",
       "1          OBS  01-PROVO CENTRAL STATION       walk   945.908           0.00   \n",
       "2          OBS   02-OREM CENTRAL STATION      drive  1475.024           0.00   \n",
       "3          OBS   02-OREM CENTRAL STATION       walk   371.804           0.00   \n",
       "4          OBS  03-AMERICAN FORK STATION      drive  1423.768           0.00   \n",
       "..         ...                       ...        ...       ...            ...   \n",
       "235  TDM_2.1.4     11-FARMINGTON STATION       walk    14.420           9.60   \n",
       "236  TDM_2.1.4         12-LAYTON STATION       walk    43.860          21.67   \n",
       "237  TDM_2.1.4     13-CLEARFIELD STATION       walk    99.800          91.29   \n",
       "238  TDM_2.1.4            14-ROY STATION       walk    53.090          49.38   \n",
       "239  TDM_2.1.4          15-OGDEN STATION       walk    54.320           9.21   \n",
       "\n",
       "     Brd_Transfer_PA  \n",
       "0               0.00  \n",
       "1               0.00  \n",
       "2               0.00  \n",
       "3               0.00  \n",
       "4               0.00  \n",
       "..               ...  \n",
       "235             4.82  \n",
       "236            22.19  \n",
       "237             8.51  \n",
       "238             3.71  \n",
       "239            45.11  \n",
       "\n",
       "[240 rows x 6 columns]"
      ]
     },
     "metadata": {},
     "output_type": "display_data"
    }
   ],
   "source": [
    "# read in stations and summarize tdm results\n",
    "df_stations1 = gs.df_stations[['station','N']]\n",
    "df_tdm_211_b4 = gs.summarize_tdm_stats(path_brding_summary_211_b4,path_rider_summary_211_b4, df_stations1, 'TDM_2.1.1_b4', pa_od_function)\n",
    "df_tdm_211 = gs.summarize_tdm_stats(path_brding_summary_211,path_rider_summary_211, df_stations1, 'TDM_2.1.1', pa_od_function)\n",
    "df_tdm_212_b4 = gs.summarize_tdm_stats(path_brding_summary_212_b4,path_rider_summary_212_b4, df_stations1, 'TDM_2.1.2_b4', pa_od_function)\n",
    "df_tdm_212 = gs.summarize_tdm_stats(path_brding_summary_212,path_rider_summary_212, df_stations1, 'TDM_2.1.2', pa_od_function)\n",
    "df_tdm_213 = gs.summarize_tdm_stats(path_brding_summary_213,path_rider_summary_213, df_stations1, 'TDM_2.1.3', pa_od_function)\n",
    "df_tdm_214 = gs.summarize_tdm_stats(path_brding_summary_214,path_rider_summary_214, df_stations1, 'TDM_2.1.4', pa_od_function)\n",
    "\n",
    "# concat dataframes\n",
    "df_tdm_obs_new = pd.concat([\n",
    "        df_tdm_obs,\n",
    "        df_tdm_211_b4,\n",
    "        df_tdm_211,\n",
    "        df_tdm_212_b4,\n",
    "        df_tdm_212,\n",
    "        df_tdm_213,\n",
    "        df_tdm_214\n",
    "    ]).reset_index()\n",
    "df_tdm_obs_new = df_tdm_obs_new.round(3).fillna(0)\n",
    "df_tdm_obs_new = df_tdm_obs_new.drop(columns='index')\n",
    "df_tdm_obs_new = df_tdm_obs_new.loc[:, ~df_tdm_obs_new.columns.str.contains('^Unnamed')]\n",
    "\n",
    "# rename\n",
    "sumStats = df_tdm_obs_new.copy()\n",
    "display(df_tdm_obs_new)"
   ]
  },
  {
   "cell_type": "code",
   "execution_count": 6,
   "metadata": {},
   "outputs": [
    {
     "data": {
      "text/html": [
       "<div>\n",
       "<style scoped>\n",
       "    .dataframe tbody tr th:only-of-type {\n",
       "        vertical-align: middle;\n",
       "    }\n",
       "\n",
       "    .dataframe tbody tr th {\n",
       "        vertical-align: top;\n",
       "    }\n",
       "\n",
       "    .dataframe thead th {\n",
       "        text-align: right;\n",
       "    }\n",
       "</style>\n",
       "<table border=\"1\" class=\"dataframe\">\n",
       "  <thead>\n",
       "    <tr style=\"text-align: right;\">\n",
       "      <th></th>\n",
       "      <th>Source</th>\n",
       "      <th>station</th>\n",
       "      <th>AccessMode</th>\n",
       "      <th>Brd_PA</th>\n",
       "      <th>Brd_Direct_PA</th>\n",
       "      <th>Brd_Transfer_PA</th>\n",
       "      <th>Source_Brd_PA</th>\n",
       "      <th>Source_Brd_Direct_PA</th>\n",
       "      <th>Source_Brd_Transfer_PA</th>\n",
       "      <th>Brd_PA_Perc</th>\n",
       "      <th>Brd_Direct_PA_Perc</th>\n",
       "      <th>Brd_Transfer_PA_Perc</th>\n",
       "    </tr>\n",
       "  </thead>\n",
       "  <tbody>\n",
       "    <tr>\n",
       "      <th>0</th>\n",
       "      <td>OBS</td>\n",
       "      <td>01-PROVO CENTRAL STATION</td>\n",
       "      <td>drive</td>\n",
       "      <td>2283.379</td>\n",
       "      <td>0.00</td>\n",
       "      <td>0.00</td>\n",
       "      <td>14955.118</td>\n",
       "      <td>0.0</td>\n",
       "      <td>0.00</td>\n",
       "      <td>0.152682</td>\n",
       "      <td>NaN</td>\n",
       "      <td>NaN</td>\n",
       "    </tr>\n",
       "    <tr>\n",
       "      <th>1</th>\n",
       "      <td>OBS</td>\n",
       "      <td>01-PROVO CENTRAL STATION</td>\n",
       "      <td>walk</td>\n",
       "      <td>945.908</td>\n",
       "      <td>0.00</td>\n",
       "      <td>0.00</td>\n",
       "      <td>5672.892</td>\n",
       "      <td>0.0</td>\n",
       "      <td>0.00</td>\n",
       "      <td>0.166742</td>\n",
       "      <td>NaN</td>\n",
       "      <td>NaN</td>\n",
       "    </tr>\n",
       "    <tr>\n",
       "      <th>2</th>\n",
       "      <td>OBS</td>\n",
       "      <td>02-OREM CENTRAL STATION</td>\n",
       "      <td>drive</td>\n",
       "      <td>1475.024</td>\n",
       "      <td>0.00</td>\n",
       "      <td>0.00</td>\n",
       "      <td>14955.118</td>\n",
       "      <td>0.0</td>\n",
       "      <td>0.00</td>\n",
       "      <td>0.098630</td>\n",
       "      <td>NaN</td>\n",
       "      <td>NaN</td>\n",
       "    </tr>\n",
       "    <tr>\n",
       "      <th>3</th>\n",
       "      <td>OBS</td>\n",
       "      <td>02-OREM CENTRAL STATION</td>\n",
       "      <td>walk</td>\n",
       "      <td>371.804</td>\n",
       "      <td>0.00</td>\n",
       "      <td>0.00</td>\n",
       "      <td>5672.892</td>\n",
       "      <td>0.0</td>\n",
       "      <td>0.00</td>\n",
       "      <td>0.065540</td>\n",
       "      <td>NaN</td>\n",
       "      <td>NaN</td>\n",
       "    </tr>\n",
       "    <tr>\n",
       "      <th>4</th>\n",
       "      <td>OBS</td>\n",
       "      <td>03-AMERICAN FORK STATION</td>\n",
       "      <td>drive</td>\n",
       "      <td>1423.768</td>\n",
       "      <td>0.00</td>\n",
       "      <td>0.00</td>\n",
       "      <td>14955.118</td>\n",
       "      <td>0.0</td>\n",
       "      <td>0.00</td>\n",
       "      <td>0.095203</td>\n",
       "      <td>NaN</td>\n",
       "      <td>NaN</td>\n",
       "    </tr>\n",
       "    <tr>\n",
       "      <th>...</th>\n",
       "      <td>...</td>\n",
       "      <td>...</td>\n",
       "      <td>...</td>\n",
       "      <td>...</td>\n",
       "      <td>...</td>\n",
       "      <td>...</td>\n",
       "      <td>...</td>\n",
       "      <td>...</td>\n",
       "      <td>...</td>\n",
       "      <td>...</td>\n",
       "      <td>...</td>\n",
       "      <td>...</td>\n",
       "    </tr>\n",
       "    <tr>\n",
       "      <th>355</th>\n",
       "      <td>TDM_2.1.4</td>\n",
       "      <td>11-FARMINGTON STATION</td>\n",
       "      <td>All</td>\n",
       "      <td>91.650</td>\n",
       "      <td>86.82</td>\n",
       "      <td>4.83</td>\n",
       "      <td>2699.530</td>\n",
       "      <td>2201.5</td>\n",
       "      <td>498.03</td>\n",
       "      <td>0.033950</td>\n",
       "      <td>0.039437</td>\n",
       "      <td>0.009698</td>\n",
       "    </tr>\n",
       "    <tr>\n",
       "      <th>356</th>\n",
       "      <td>TDM_2.1.4</td>\n",
       "      <td>12-LAYTON STATION</td>\n",
       "      <td>All</td>\n",
       "      <td>174.630</td>\n",
       "      <td>152.38</td>\n",
       "      <td>22.25</td>\n",
       "      <td>2699.530</td>\n",
       "      <td>2201.5</td>\n",
       "      <td>498.03</td>\n",
       "      <td>0.064689</td>\n",
       "      <td>0.069216</td>\n",
       "      <td>0.044676</td>\n",
       "    </tr>\n",
       "    <tr>\n",
       "      <th>357</th>\n",
       "      <td>TDM_2.1.4</td>\n",
       "      <td>13-CLEARFIELD STATION</td>\n",
       "      <td>All</td>\n",
       "      <td>232.480</td>\n",
       "      <td>223.98</td>\n",
       "      <td>8.50</td>\n",
       "      <td>2699.530</td>\n",
       "      <td>2201.5</td>\n",
       "      <td>498.03</td>\n",
       "      <td>0.086119</td>\n",
       "      <td>0.101740</td>\n",
       "      <td>0.017067</td>\n",
       "    </tr>\n",
       "    <tr>\n",
       "      <th>358</th>\n",
       "      <td>TDM_2.1.4</td>\n",
       "      <td>14-ROY STATION</td>\n",
       "      <td>All</td>\n",
       "      <td>229.980</td>\n",
       "      <td>226.12</td>\n",
       "      <td>3.86</td>\n",
       "      <td>2699.530</td>\n",
       "      <td>2201.5</td>\n",
       "      <td>498.03</td>\n",
       "      <td>0.085193</td>\n",
       "      <td>0.102712</td>\n",
       "      <td>0.007751</td>\n",
       "    </tr>\n",
       "    <tr>\n",
       "      <th>359</th>\n",
       "      <td>TDM_2.1.4</td>\n",
       "      <td>15-OGDEN STATION</td>\n",
       "      <td>All</td>\n",
       "      <td>137.930</td>\n",
       "      <td>92.83</td>\n",
       "      <td>45.10</td>\n",
       "      <td>2699.530</td>\n",
       "      <td>2201.5</td>\n",
       "      <td>498.03</td>\n",
       "      <td>0.051094</td>\n",
       "      <td>0.042167</td>\n",
       "      <td>0.090557</td>\n",
       "    </tr>\n",
       "  </tbody>\n",
       "</table>\n",
       "<p>360 rows × 12 columns</p>\n",
       "</div>"
      ],
      "text/plain": [
       "        Source                   station AccessMode    Brd_PA  Brd_Direct_PA  \\\n",
       "0          OBS  01-PROVO CENTRAL STATION      drive  2283.379           0.00   \n",
       "1          OBS  01-PROVO CENTRAL STATION       walk   945.908           0.00   \n",
       "2          OBS   02-OREM CENTRAL STATION      drive  1475.024           0.00   \n",
       "3          OBS   02-OREM CENTRAL STATION       walk   371.804           0.00   \n",
       "4          OBS  03-AMERICAN FORK STATION      drive  1423.768           0.00   \n",
       "..         ...                       ...        ...       ...            ...   \n",
       "355  TDM_2.1.4     11-FARMINGTON STATION        All    91.650          86.82   \n",
       "356  TDM_2.1.4         12-LAYTON STATION        All   174.630         152.38   \n",
       "357  TDM_2.1.4     13-CLEARFIELD STATION        All   232.480         223.98   \n",
       "358  TDM_2.1.4            14-ROY STATION        All   229.980         226.12   \n",
       "359  TDM_2.1.4          15-OGDEN STATION        All   137.930          92.83   \n",
       "\n",
       "     Brd_Transfer_PA  Source_Brd_PA  Source_Brd_Direct_PA  \\\n",
       "0               0.00      14955.118                   0.0   \n",
       "1               0.00       5672.892                   0.0   \n",
       "2               0.00      14955.118                   0.0   \n",
       "3               0.00       5672.892                   0.0   \n",
       "4               0.00      14955.118                   0.0   \n",
       "..               ...            ...                   ...   \n",
       "355             4.83       2699.530                2201.5   \n",
       "356            22.25       2699.530                2201.5   \n",
       "357             8.50       2699.530                2201.5   \n",
       "358             3.86       2699.530                2201.5   \n",
       "359            45.10       2699.530                2201.5   \n",
       "\n",
       "     Source_Brd_Transfer_PA  Brd_PA_Perc  Brd_Direct_PA_Perc  \\\n",
       "0                      0.00     0.152682                 NaN   \n",
       "1                      0.00     0.166742                 NaN   \n",
       "2                      0.00     0.098630                 NaN   \n",
       "3                      0.00     0.065540                 NaN   \n",
       "4                      0.00     0.095203                 NaN   \n",
       "..                      ...          ...                 ...   \n",
       "355                  498.03     0.033950            0.039437   \n",
       "356                  498.03     0.064689            0.069216   \n",
       "357                  498.03     0.086119            0.101740   \n",
       "358                  498.03     0.085193            0.102712   \n",
       "359                  498.03     0.051094            0.042167   \n",
       "\n",
       "     Brd_Transfer_PA_Perc  \n",
       "0                     NaN  \n",
       "1                     NaN  \n",
       "2                     NaN  \n",
       "3                     NaN  \n",
       "4                     NaN  \n",
       "..                    ...  \n",
       "355              0.009698  \n",
       "356              0.044676  \n",
       "357              0.017067  \n",
       "358              0.007751  \n",
       "359              0.090557  \n",
       "\n",
       "[360 rows x 12 columns]"
      ]
     },
     "execution_count": 6,
     "metadata": {},
     "output_type": "execute_result"
    }
   ],
   "source": [
    "# add a few more columns regarding percentage of boardings in relation to total boardings\n",
    "# sum by source and station \n",
    "station_sum = sumStats.groupby([\"Source\", \"station\"], as_index=False).agg({\n",
    "    f\"Brd_{pa_od}\": \"sum\",\n",
    "    f\"Brd_Direct_{pa_od}\": \"sum\",\n",
    "    f\"Brd_Transfer_{pa_od}\": \"sum\"\n",
    "})\n",
    "\n",
    "# add All accessMode\n",
    "station_sum[\"AccessMode\"] = \"All\"\n",
    "sumStats2 = pd.concat([sumStats, station_sum], ignore_index=True) \n",
    "\n",
    "accessmode_sum = sumStats2.groupby([\"Source\", \"AccessMode\"], as_index=False).agg({\n",
    "    f\"Brd_{pa_od}\": \"sum\",\n",
    "    f\"Brd_Direct_{pa_od}\": \"sum\",\n",
    "    f\"Brd_Transfer_{pa_od}\": \"sum\"\n",
    "})\n",
    "\n",
    "accessmode_sum.rename(columns={\n",
    "    f\"Brd_{pa_od}\": f\"Source_Brd_{pa_od}\", \n",
    "    f\"Brd_Direct_{pa_od}\": f\"Source_Brd_Direct_{pa_od}\", \n",
    "    f\"Brd_Transfer_{pa_od}\": f\"Source_Brd_Transfer_{pa_od}\"}, inplace=True)\n",
    "sumStatsP = sumStats2.merge(accessmode_sum, on=[\"Source\", \"AccessMode\"], how=\"left\")\n",
    "\n",
    "sumStatsP[f\"Brd_{pa_od}_Perc\"]          = sumStatsP[f\"Brd_{pa_od}\"] / sumStatsP[f\"Source_Brd_{pa_od}\"]\n",
    "sumStatsP[f\"Brd_Direct_{pa_od}_Perc\"]   = sumStatsP[f\"Brd_Direct_{pa_od}\"] / sumStatsP[f\"Source_Brd_Direct_{pa_od}\"]\n",
    "sumStatsP[f\"Brd_Transfer_{pa_od}_Perc\"] = sumStatsP[f\"Brd_Transfer_{pa_od}\"] / sumStatsP[f\"Source_Brd_Transfer_{pa_od}\"]\n",
    "sumStatsP\n"
   ]
  },
  {
   "cell_type": "code",
   "execution_count": 7,
   "metadata": {},
   "outputs": [],
   "source": [
    "def plotit(variable, access_mode):\n",
    "    output.clear_output()  # Clear previous output before displaying new content\n",
    "    global firstTime\n",
    "    if firstTime:\n",
    "    \n",
    "        filtered_data = sumStatsP[sumStatsP['AccessMode'] == access_mode]\n",
    "            \n",
    "        # Create histogram\n",
    "        fig = px.histogram(\n",
    "            filtered_data, \n",
    "            x=\"station\", \n",
    "            y=variable, \n",
    "            text_auto='.2s',\n",
    "            color='Source', \n",
    "            barmode='group',\n",
    "            height=400\n",
    "        )\n",
    "        fig.update_layout(\n",
    "            xaxis_title=\"Station Name\",\n",
    "            yaxis_title=str(variable),\n",
    "            legend_title=\"Model Version\"\n",
    "        )\n",
    "        \n",
    "        # Display the plot\n",
    "        fig.show()\n",
    "    \n",
    "    else:\n",
    "        firstTime = True"
   ]
  },
  {
   "cell_type": "code",
   "execution_count": 8,
   "metadata": {},
   "outputs": [
    {
     "data": {
      "application/vnd.jupyter.widget-view+json": {
       "model_id": "932cd63028914c97a606fbc487b4bc78",
       "version_major": 2,
       "version_minor": 0
      },
      "text/plain": [
       "HBox(children=(Select(description='Select Variable', options=('Brd_PA', 'Brd_Direct_PA', 'Brd_Transfer_PA', 'B…"
      ]
     },
     "metadata": {},
     "output_type": "display_data"
    },
    {
     "data": {
      "application/vnd.jupyter.widget-view+json": {
       "model_id": "9901777a0cad4cee8da89cab9139f8dc",
       "version_major": 2,
       "version_minor": 0
      },
      "text/plain": [
       "Output()"
      ]
     },
     "metadata": {},
     "output_type": "display_data"
    },
    {
     "data": {
      "application/vnd.plotly.v1+json": {
       "config": {
        "plotlyServerURL": "https://plot.ly"
       },
       "data": [
        {
         "alignmentgroup": "True",
         "bingroup": "x",
         "histfunc": "sum",
         "hovertemplate": "Source=OBS<br>station=%{x}<br>sum of Brd_PA=%{y}<extra></extra>",
         "legendgroup": "OBS",
         "marker": {
          "color": "#636efa",
          "pattern": {
           "shape": ""
          }
         },
         "name": "OBS",
         "offsetgroup": "OBS",
         "orientation": "v",
         "showlegend": true,
         "texttemplate": "%{value:.2s}",
         "type": "histogram",
         "x": [
          "01-PROVO CENTRAL STATION",
          "02-OREM CENTRAL STATION",
          "03-AMERICAN FORK STATION",
          "04-LEHI STATION",
          "05-DRAPER STATION",
          "06-SOUTH JORDAN STATION",
          "07-MURRAY CENTRAL STATION",
          "08-SALT LAKE CENTRAL STATION",
          "09-NORTH TEMPLE STATION",
          "10-WOODS CROSS STATION",
          "11-FARMINGTON STATION",
          "12-LAYTON STATION",
          "13-CLEARFIELD STATION",
          "14-ROY STATION",
          "15-OGDEN STATION"
         ],
         "xaxis": "x",
         "y": [
          3229.287,
          1846.828,
          1559.845,
          1420.5610000000001,
          1080.296,
          1192.037,
          1835.317,
          897.182,
          996.82,
          767.5,
          505.536,
          1497.25,
          983.6410000000001,
          867.799,
          1948.111
         ],
         "yaxis": "y"
        },
        {
         "alignmentgroup": "True",
         "bingroup": "x",
         "histfunc": "sum",
         "hovertemplate": "Source=TDM<br>station=%{x}<br>sum of Brd_PA=%{y}<extra></extra>",
         "legendgroup": "TDM",
         "marker": {
          "color": "#EF553B",
          "pattern": {
           "shape": ""
          }
         },
         "name": "TDM",
         "offsetgroup": "TDM",
         "orientation": "v",
         "showlegend": true,
         "texttemplate": "%{value:.2s}",
         "type": "histogram",
         "x": [
          "01-PROVO CENTRAL STATION",
          "02-OREM CENTRAL STATION",
          "03-AMERICAN FORK STATION",
          "04-LEHI STATION",
          "05-DRAPER STATION",
          "06-SOUTH JORDAN STATION",
          "07-MURRAY CENTRAL STATION",
          "08-SALT LAKE CENTRAL STATION",
          "09-NORTH TEMPLE STATION",
          "10-WOODS CROSS STATION",
          "11-FARMINGTON STATION",
          "12-LAYTON STATION",
          "13-CLEARFIELD STATION",
          "14-ROY STATION",
          "15-OGDEN STATION"
         ],
         "xaxis": "x",
         "y": [
          1426.8500000000001,
          1353.88,
          1599.1399999999999,
          1650.33,
          1288.79,
          1671.21,
          1482.01,
          746.76,
          304.37,
          1332.96,
          581.11,
          1202.07,
          1259.98,
          1408.62,
          1267.2
         ],
         "yaxis": "y"
        },
        {
         "alignmentgroup": "True",
         "bingroup": "x",
         "histfunc": "sum",
         "hovertemplate": "Source=TDM_2.1.1<br>station=%{x}<br>sum of Brd_PA=%{y}<extra></extra>",
         "legendgroup": "TDM_2.1.1",
         "marker": {
          "color": "#00cc96",
          "pattern": {
           "shape": ""
          }
         },
         "name": "TDM_2.1.1",
         "offsetgroup": "TDM_2.1.1",
         "orientation": "v",
         "showlegend": true,
         "texttemplate": "%{value:.2s}",
         "type": "histogram",
         "x": [
          "01-PROVO CENTRAL STATION",
          "02-OREM CENTRAL STATION",
          "03-AMERICAN FORK STATION",
          "04-LEHI STATION",
          "05-DRAPER STATION",
          "06-SOUTH JORDAN STATION",
          "07-MURRAY CENTRAL STATION",
          "08-SALT LAKE CENTRAL STATION",
          "09-NORTH TEMPLE STATION",
          "10-WOODS CROSS STATION",
          "11-FARMINGTON STATION",
          "12-LAYTON STATION",
          "13-CLEARFIELD STATION",
          "14-ROY STATION",
          "15-OGDEN STATION"
         ],
         "xaxis": "x",
         "y": [
          1368.85,
          1282.2,
          1643.66,
          1428.58,
          1334.5900000000001,
          1607.1999999999998,
          1539.51,
          894.36,
          385.02,
          1423.47,
          738.59,
          1574.9,
          1587.4699999999998,
          1577.46,
          1361.8200000000002
         ],
         "yaxis": "y"
        },
        {
         "alignmentgroup": "True",
         "bingroup": "x",
         "histfunc": "sum",
         "hovertemplate": "Source=TDM_2.1.1_b4<br>station=%{x}<br>sum of Brd_PA=%{y}<extra></extra>",
         "legendgroup": "TDM_2.1.1_b4",
         "marker": {
          "color": "#ab63fa",
          "pattern": {
           "shape": ""
          }
         },
         "name": "TDM_2.1.1_b4",
         "offsetgroup": "TDM_2.1.1_b4",
         "orientation": "v",
         "showlegend": true,
         "texttemplate": "%{value:.2s}",
         "type": "histogram",
         "x": [
          "01-PROVO CENTRAL STATION",
          "02-OREM CENTRAL STATION",
          "03-AMERICAN FORK STATION",
          "04-LEHI STATION",
          "05-DRAPER STATION",
          "06-SOUTH JORDAN STATION",
          "07-MURRAY CENTRAL STATION",
          "08-SALT LAKE CENTRAL STATION",
          "09-NORTH TEMPLE STATION",
          "10-WOODS CROSS STATION",
          "11-FARMINGTON STATION",
          "12-LAYTON STATION",
          "13-CLEARFIELD STATION",
          "14-ROY STATION",
          "15-OGDEN STATION"
         ],
         "xaxis": "x",
         "y": [
          1188.57,
          952.93,
          1199.25,
          964.16,
          770.07,
          884.09,
          971.03,
          661.26,
          273.53,
          626.9,
          341.12,
          718.71,
          838.48,
          908.4599999999999,
          885.28
         ],
         "yaxis": "y"
        },
        {
         "alignmentgroup": "True",
         "bingroup": "x",
         "histfunc": "sum",
         "hovertemplate": "Source=TDM_2.1.2<br>station=%{x}<br>sum of Brd_PA=%{y}<extra></extra>",
         "legendgroup": "TDM_2.1.2",
         "marker": {
          "color": "#FFA15A",
          "pattern": {
           "shape": ""
          }
         },
         "name": "TDM_2.1.2",
         "offsetgroup": "TDM_2.1.2",
         "orientation": "v",
         "showlegend": true,
         "texttemplate": "%{value:.2s}",
         "type": "histogram",
         "x": [
          "01-PROVO CENTRAL STATION",
          "02-OREM CENTRAL STATION",
          "03-AMERICAN FORK STATION",
          "04-LEHI STATION",
          "05-DRAPER STATION",
          "06-SOUTH JORDAN STATION",
          "07-MURRAY CENTRAL STATION",
          "08-SALT LAKE CENTRAL STATION",
          "09-NORTH TEMPLE STATION",
          "10-WOODS CROSS STATION",
          "11-FARMINGTON STATION",
          "12-LAYTON STATION",
          "13-CLEARFIELD STATION",
          "14-ROY STATION",
          "15-OGDEN STATION"
         ],
         "xaxis": "x",
         "y": [
          1367.85,
          1282.06,
          1642.27,
          1430.09,
          1336,
          1610.81,
          1539.17,
          892.3900000000001,
          383.76,
          1427.6799999999998,
          738.91,
          1573.54,
          1586.31,
          1575.81,
          1360.3600000000001
         ],
         "yaxis": "y"
        },
        {
         "alignmentgroup": "True",
         "bingroup": "x",
         "histfunc": "sum",
         "hovertemplate": "Source=TDM_2.1.2_b4<br>station=%{x}<br>sum of Brd_PA=%{y}<extra></extra>",
         "legendgroup": "TDM_2.1.2_b4",
         "marker": {
          "color": "#19d3f3",
          "pattern": {
           "shape": ""
          }
         },
         "name": "TDM_2.1.2_b4",
         "offsetgroup": "TDM_2.1.2_b4",
         "orientation": "v",
         "showlegend": true,
         "texttemplate": "%{value:.2s}",
         "type": "histogram",
         "x": [
          "01-PROVO CENTRAL STATION",
          "02-OREM CENTRAL STATION",
          "03-AMERICAN FORK STATION",
          "04-LEHI STATION",
          "05-DRAPER STATION",
          "06-SOUTH JORDAN STATION",
          "07-MURRAY CENTRAL STATION",
          "08-SALT LAKE CENTRAL STATION",
          "09-NORTH TEMPLE STATION",
          "10-WOODS CROSS STATION",
          "11-FARMINGTON STATION",
          "12-LAYTON STATION",
          "13-CLEARFIELD STATION",
          "14-ROY STATION",
          "15-OGDEN STATION"
         ],
         "xaxis": "x",
         "y": [
          1386.08,
          1307.11,
          1676.76,
          1466.43,
          1367.8999999999999,
          1652.81,
          1575.23,
          909.39,
          390.90000000000003,
          1466.19,
          757.13,
          1613.48,
          1620.54,
          1613.25,
          1387.67
         ],
         "yaxis": "y"
        },
        {
         "alignmentgroup": "True",
         "bingroup": "x",
         "histfunc": "sum",
         "hovertemplate": "Source=TDM_2.1.3<br>station=%{x}<br>sum of Brd_PA=%{y}<extra></extra>",
         "legendgroup": "TDM_2.1.3",
         "marker": {
          "color": "#FF6692",
          "pattern": {
           "shape": ""
          }
         },
         "name": "TDM_2.1.3",
         "offsetgroup": "TDM_2.1.3",
         "orientation": "v",
         "showlegend": true,
         "texttemplate": "%{value:.2s}",
         "type": "histogram",
         "x": [
          "01-PROVO CENTRAL STATION",
          "02-OREM CENTRAL STATION",
          "03-AMERICAN FORK STATION",
          "04-LEHI STATION",
          "05-DRAPER STATION",
          "06-SOUTH JORDAN STATION",
          "07-MURRAY CENTRAL STATION",
          "08-SALT LAKE CENTRAL STATION",
          "09-NORTH TEMPLE STATION",
          "10-WOODS CROSS STATION",
          "11-FARMINGTON STATION",
          "12-LAYTON STATION",
          "13-CLEARFIELD STATION",
          "14-ROY STATION",
          "15-OGDEN STATION"
         ],
         "xaxis": "x",
         "y": [
          446.53000000000003,
          380.67,
          369.68,
          291.49,
          207.64000000000001,
          168.83999999999997,
          178.1,
          105.58,
          59.66,
          221.77999999999997,
          116.11,
          277.78000000000003,
          356.4,
          378.59999999999997,
          216.36
         ],
         "yaxis": "y"
        },
        {
         "alignmentgroup": "True",
         "bingroup": "x",
         "histfunc": "sum",
         "hovertemplate": "Source=TDM_2.1.4<br>station=%{x}<br>sum of Brd_PA=%{y}<extra></extra>",
         "legendgroup": "TDM_2.1.4",
         "marker": {
          "color": "#B6E880",
          "pattern": {
           "shape": ""
          }
         },
         "name": "TDM_2.1.4",
         "offsetgroup": "TDM_2.1.4",
         "orientation": "v",
         "showlegend": true,
         "texttemplate": "%{value:.2s}",
         "type": "histogram",
         "x": [
          "01-PROVO CENTRAL STATION",
          "02-OREM CENTRAL STATION",
          "03-AMERICAN FORK STATION",
          "04-LEHI STATION",
          "05-DRAPER STATION",
          "06-SOUTH JORDAN STATION",
          "07-MURRAY CENTRAL STATION",
          "08-SALT LAKE CENTRAL STATION",
          "09-NORTH TEMPLE STATION",
          "10-WOODS CROSS STATION",
          "11-FARMINGTON STATION",
          "12-LAYTON STATION",
          "13-CLEARFIELD STATION",
          "14-ROY STATION",
          "15-OGDEN STATION"
         ],
         "xaxis": "x",
         "y": [
          369.15999999999997,
          264.42,
          285.71,
          177.98000000000002,
          171.06,
          128.73,
          154.57,
          96.75,
          55.54,
          128.94,
          91.65,
          174.63,
          232.48000000000002,
          229.98,
          137.93
         ],
         "yaxis": "y"
        }
       ],
       "layout": {
        "barmode": "group",
        "height": 400,
        "legend": {
         "title": {
          "text": "Model Version"
         },
         "tracegroupgap": 0
        },
        "margin": {
         "t": 60
        },
        "template": {
         "data": {
          "bar": [
           {
            "error_x": {
             "color": "#2a3f5f"
            },
            "error_y": {
             "color": "#2a3f5f"
            },
            "marker": {
             "line": {
              "color": "#E5ECF6",
              "width": 0.5
             },
             "pattern": {
              "fillmode": "overlay",
              "size": 10,
              "solidity": 0.2
             }
            },
            "type": "bar"
           }
          ],
          "barpolar": [
           {
            "marker": {
             "line": {
              "color": "#E5ECF6",
              "width": 0.5
             },
             "pattern": {
              "fillmode": "overlay",
              "size": 10,
              "solidity": 0.2
             }
            },
            "type": "barpolar"
           }
          ],
          "carpet": [
           {
            "aaxis": {
             "endlinecolor": "#2a3f5f",
             "gridcolor": "white",
             "linecolor": "white",
             "minorgridcolor": "white",
             "startlinecolor": "#2a3f5f"
            },
            "baxis": {
             "endlinecolor": "#2a3f5f",
             "gridcolor": "white",
             "linecolor": "white",
             "minorgridcolor": "white",
             "startlinecolor": "#2a3f5f"
            },
            "type": "carpet"
           }
          ],
          "choropleth": [
           {
            "colorbar": {
             "outlinewidth": 0,
             "ticks": ""
            },
            "type": "choropleth"
           }
          ],
          "contour": [
           {
            "colorbar": {
             "outlinewidth": 0,
             "ticks": ""
            },
            "colorscale": [
             [
              0,
              "#0d0887"
             ],
             [
              0.1111111111111111,
              "#46039f"
             ],
             [
              0.2222222222222222,
              "#7201a8"
             ],
             [
              0.3333333333333333,
              "#9c179e"
             ],
             [
              0.4444444444444444,
              "#bd3786"
             ],
             [
              0.5555555555555556,
              "#d8576b"
             ],
             [
              0.6666666666666666,
              "#ed7953"
             ],
             [
              0.7777777777777778,
              "#fb9f3a"
             ],
             [
              0.8888888888888888,
              "#fdca26"
             ],
             [
              1,
              "#f0f921"
             ]
            ],
            "type": "contour"
           }
          ],
          "contourcarpet": [
           {
            "colorbar": {
             "outlinewidth": 0,
             "ticks": ""
            },
            "type": "contourcarpet"
           }
          ],
          "heatmap": [
           {
            "colorbar": {
             "outlinewidth": 0,
             "ticks": ""
            },
            "colorscale": [
             [
              0,
              "#0d0887"
             ],
             [
              0.1111111111111111,
              "#46039f"
             ],
             [
              0.2222222222222222,
              "#7201a8"
             ],
             [
              0.3333333333333333,
              "#9c179e"
             ],
             [
              0.4444444444444444,
              "#bd3786"
             ],
             [
              0.5555555555555556,
              "#d8576b"
             ],
             [
              0.6666666666666666,
              "#ed7953"
             ],
             [
              0.7777777777777778,
              "#fb9f3a"
             ],
             [
              0.8888888888888888,
              "#fdca26"
             ],
             [
              1,
              "#f0f921"
             ]
            ],
            "type": "heatmap"
           }
          ],
          "heatmapgl": [
           {
            "colorbar": {
             "outlinewidth": 0,
             "ticks": ""
            },
            "colorscale": [
             [
              0,
              "#0d0887"
             ],
             [
              0.1111111111111111,
              "#46039f"
             ],
             [
              0.2222222222222222,
              "#7201a8"
             ],
             [
              0.3333333333333333,
              "#9c179e"
             ],
             [
              0.4444444444444444,
              "#bd3786"
             ],
             [
              0.5555555555555556,
              "#d8576b"
             ],
             [
              0.6666666666666666,
              "#ed7953"
             ],
             [
              0.7777777777777778,
              "#fb9f3a"
             ],
             [
              0.8888888888888888,
              "#fdca26"
             ],
             [
              1,
              "#f0f921"
             ]
            ],
            "type": "heatmapgl"
           }
          ],
          "histogram": [
           {
            "marker": {
             "pattern": {
              "fillmode": "overlay",
              "size": 10,
              "solidity": 0.2
             }
            },
            "type": "histogram"
           }
          ],
          "histogram2d": [
           {
            "colorbar": {
             "outlinewidth": 0,
             "ticks": ""
            },
            "colorscale": [
             [
              0,
              "#0d0887"
             ],
             [
              0.1111111111111111,
              "#46039f"
             ],
             [
              0.2222222222222222,
              "#7201a8"
             ],
             [
              0.3333333333333333,
              "#9c179e"
             ],
             [
              0.4444444444444444,
              "#bd3786"
             ],
             [
              0.5555555555555556,
              "#d8576b"
             ],
             [
              0.6666666666666666,
              "#ed7953"
             ],
             [
              0.7777777777777778,
              "#fb9f3a"
             ],
             [
              0.8888888888888888,
              "#fdca26"
             ],
             [
              1,
              "#f0f921"
             ]
            ],
            "type": "histogram2d"
           }
          ],
          "histogram2dcontour": [
           {
            "colorbar": {
             "outlinewidth": 0,
             "ticks": ""
            },
            "colorscale": [
             [
              0,
              "#0d0887"
             ],
             [
              0.1111111111111111,
              "#46039f"
             ],
             [
              0.2222222222222222,
              "#7201a8"
             ],
             [
              0.3333333333333333,
              "#9c179e"
             ],
             [
              0.4444444444444444,
              "#bd3786"
             ],
             [
              0.5555555555555556,
              "#d8576b"
             ],
             [
              0.6666666666666666,
              "#ed7953"
             ],
             [
              0.7777777777777778,
              "#fb9f3a"
             ],
             [
              0.8888888888888888,
              "#fdca26"
             ],
             [
              1,
              "#f0f921"
             ]
            ],
            "type": "histogram2dcontour"
           }
          ],
          "mesh3d": [
           {
            "colorbar": {
             "outlinewidth": 0,
             "ticks": ""
            },
            "type": "mesh3d"
           }
          ],
          "parcoords": [
           {
            "line": {
             "colorbar": {
              "outlinewidth": 0,
              "ticks": ""
             }
            },
            "type": "parcoords"
           }
          ],
          "pie": [
           {
            "automargin": true,
            "type": "pie"
           }
          ],
          "scatter": [
           {
            "fillpattern": {
             "fillmode": "overlay",
             "size": 10,
             "solidity": 0.2
            },
            "type": "scatter"
           }
          ],
          "scatter3d": [
           {
            "line": {
             "colorbar": {
              "outlinewidth": 0,
              "ticks": ""
             }
            },
            "marker": {
             "colorbar": {
              "outlinewidth": 0,
              "ticks": ""
             }
            },
            "type": "scatter3d"
           }
          ],
          "scattercarpet": [
           {
            "marker": {
             "colorbar": {
              "outlinewidth": 0,
              "ticks": ""
             }
            },
            "type": "scattercarpet"
           }
          ],
          "scattergeo": [
           {
            "marker": {
             "colorbar": {
              "outlinewidth": 0,
              "ticks": ""
             }
            },
            "type": "scattergeo"
           }
          ],
          "scattergl": [
           {
            "marker": {
             "colorbar": {
              "outlinewidth": 0,
              "ticks": ""
             }
            },
            "type": "scattergl"
           }
          ],
          "scattermapbox": [
           {
            "marker": {
             "colorbar": {
              "outlinewidth": 0,
              "ticks": ""
             }
            },
            "type": "scattermapbox"
           }
          ],
          "scatterpolar": [
           {
            "marker": {
             "colorbar": {
              "outlinewidth": 0,
              "ticks": ""
             }
            },
            "type": "scatterpolar"
           }
          ],
          "scatterpolargl": [
           {
            "marker": {
             "colorbar": {
              "outlinewidth": 0,
              "ticks": ""
             }
            },
            "type": "scatterpolargl"
           }
          ],
          "scatterternary": [
           {
            "marker": {
             "colorbar": {
              "outlinewidth": 0,
              "ticks": ""
             }
            },
            "type": "scatterternary"
           }
          ],
          "surface": [
           {
            "colorbar": {
             "outlinewidth": 0,
             "ticks": ""
            },
            "colorscale": [
             [
              0,
              "#0d0887"
             ],
             [
              0.1111111111111111,
              "#46039f"
             ],
             [
              0.2222222222222222,
              "#7201a8"
             ],
             [
              0.3333333333333333,
              "#9c179e"
             ],
             [
              0.4444444444444444,
              "#bd3786"
             ],
             [
              0.5555555555555556,
              "#d8576b"
             ],
             [
              0.6666666666666666,
              "#ed7953"
             ],
             [
              0.7777777777777778,
              "#fb9f3a"
             ],
             [
              0.8888888888888888,
              "#fdca26"
             ],
             [
              1,
              "#f0f921"
             ]
            ],
            "type": "surface"
           }
          ],
          "table": [
           {
            "cells": {
             "fill": {
              "color": "#EBF0F8"
             },
             "line": {
              "color": "white"
             }
            },
            "header": {
             "fill": {
              "color": "#C8D4E3"
             },
             "line": {
              "color": "white"
             }
            },
            "type": "table"
           }
          ]
         },
         "layout": {
          "annotationdefaults": {
           "arrowcolor": "#2a3f5f",
           "arrowhead": 0,
           "arrowwidth": 1
          },
          "autotypenumbers": "strict",
          "coloraxis": {
           "colorbar": {
            "outlinewidth": 0,
            "ticks": ""
           }
          },
          "colorscale": {
           "diverging": [
            [
             0,
             "#8e0152"
            ],
            [
             0.1,
             "#c51b7d"
            ],
            [
             0.2,
             "#de77ae"
            ],
            [
             0.3,
             "#f1b6da"
            ],
            [
             0.4,
             "#fde0ef"
            ],
            [
             0.5,
             "#f7f7f7"
            ],
            [
             0.6,
             "#e6f5d0"
            ],
            [
             0.7,
             "#b8e186"
            ],
            [
             0.8,
             "#7fbc41"
            ],
            [
             0.9,
             "#4d9221"
            ],
            [
             1,
             "#276419"
            ]
           ],
           "sequential": [
            [
             0,
             "#0d0887"
            ],
            [
             0.1111111111111111,
             "#46039f"
            ],
            [
             0.2222222222222222,
             "#7201a8"
            ],
            [
             0.3333333333333333,
             "#9c179e"
            ],
            [
             0.4444444444444444,
             "#bd3786"
            ],
            [
             0.5555555555555556,
             "#d8576b"
            ],
            [
             0.6666666666666666,
             "#ed7953"
            ],
            [
             0.7777777777777778,
             "#fb9f3a"
            ],
            [
             0.8888888888888888,
             "#fdca26"
            ],
            [
             1,
             "#f0f921"
            ]
           ],
           "sequentialminus": [
            [
             0,
             "#0d0887"
            ],
            [
             0.1111111111111111,
             "#46039f"
            ],
            [
             0.2222222222222222,
             "#7201a8"
            ],
            [
             0.3333333333333333,
             "#9c179e"
            ],
            [
             0.4444444444444444,
             "#bd3786"
            ],
            [
             0.5555555555555556,
             "#d8576b"
            ],
            [
             0.6666666666666666,
             "#ed7953"
            ],
            [
             0.7777777777777778,
             "#fb9f3a"
            ],
            [
             0.8888888888888888,
             "#fdca26"
            ],
            [
             1,
             "#f0f921"
            ]
           ]
          },
          "colorway": [
           "#636efa",
           "#EF553B",
           "#00cc96",
           "#ab63fa",
           "#FFA15A",
           "#19d3f3",
           "#FF6692",
           "#B6E880",
           "#FF97FF",
           "#FECB52"
          ],
          "font": {
           "color": "#2a3f5f"
          },
          "geo": {
           "bgcolor": "white",
           "lakecolor": "white",
           "landcolor": "#E5ECF6",
           "showlakes": true,
           "showland": true,
           "subunitcolor": "white"
          },
          "hoverlabel": {
           "align": "left"
          },
          "hovermode": "closest",
          "mapbox": {
           "style": "light"
          },
          "paper_bgcolor": "white",
          "plot_bgcolor": "#E5ECF6",
          "polar": {
           "angularaxis": {
            "gridcolor": "white",
            "linecolor": "white",
            "ticks": ""
           },
           "bgcolor": "#E5ECF6",
           "radialaxis": {
            "gridcolor": "white",
            "linecolor": "white",
            "ticks": ""
           }
          },
          "scene": {
           "xaxis": {
            "backgroundcolor": "#E5ECF6",
            "gridcolor": "white",
            "gridwidth": 2,
            "linecolor": "white",
            "showbackground": true,
            "ticks": "",
            "zerolinecolor": "white"
           },
           "yaxis": {
            "backgroundcolor": "#E5ECF6",
            "gridcolor": "white",
            "gridwidth": 2,
            "linecolor": "white",
            "showbackground": true,
            "ticks": "",
            "zerolinecolor": "white"
           },
           "zaxis": {
            "backgroundcolor": "#E5ECF6",
            "gridcolor": "white",
            "gridwidth": 2,
            "linecolor": "white",
            "showbackground": true,
            "ticks": "",
            "zerolinecolor": "white"
           }
          },
          "shapedefaults": {
           "line": {
            "color": "#2a3f5f"
           }
          },
          "ternary": {
           "aaxis": {
            "gridcolor": "white",
            "linecolor": "white",
            "ticks": ""
           },
           "baxis": {
            "gridcolor": "white",
            "linecolor": "white",
            "ticks": ""
           },
           "bgcolor": "#E5ECF6",
           "caxis": {
            "gridcolor": "white",
            "linecolor": "white",
            "ticks": ""
           }
          },
          "title": {
           "x": 0.05
          },
          "xaxis": {
           "automargin": true,
           "gridcolor": "white",
           "linecolor": "white",
           "ticks": "",
           "title": {
            "standoff": 15
           },
           "zerolinecolor": "white",
           "zerolinewidth": 2
          },
          "yaxis": {
           "automargin": true,
           "gridcolor": "white",
           "linecolor": "white",
           "ticks": "",
           "title": {
            "standoff": 15
           },
           "zerolinecolor": "white",
           "zerolinewidth": 2
          }
         }
        },
        "xaxis": {
         "anchor": "y",
         "domain": [
          0,
          1
         ],
         "title": {
          "text": "Station Name"
         }
        },
        "yaxis": {
         "anchor": "x",
         "domain": [
          0,
          1
         ],
         "title": {
          "text": "Brd_PA"
         }
        }
       }
      }
     },
     "metadata": {},
     "output_type": "display_data"
    },
    {
     "data": {
      "application/vnd.jupyter.widget-view+json": {
       "model_id": "3ee8d77bbca846d19298d5590ea59f32",
       "version_major": 2,
       "version_minor": 0
      },
      "text/plain": [
       "Output()"
      ]
     },
     "metadata": {},
     "output_type": "display_data"
    }
   ],
   "source": [
    "lstValues = list([\n",
    "    f'Brd_{pa_od}',\n",
    "    f'Brd_Direct_{pa_od}',\n",
    "    f'Brd_Transfer_{pa_od}',\n",
    "    f'Brd_{pa_od}_Perc',\n",
    "    f'Brd_Direct_{pa_od}_Perc',\n",
    "    f'Brd_Transfer{pa_od}_Perc'\n",
    "])\n",
    "accessModeOptions = ['drive', 'walk', 'All']\n",
    "\n",
    "selectValues = widgets.Select(options=lstValues, value=(f'Brd_{pa_od}' ), description = 'Select Variable')\n",
    "selectAccessMode = widgets.Dropdown(options=accessModeOptions, value='All', description='Access Mode')\n",
    "\n",
    "# Set up a global variable to track whether the widgets have been changed\n",
    "firstTime = False\n",
    "\n",
    "# create output widget to display filtered DataFrame\n",
    "output = widgets.Output()\n",
    "hbox = widgets.HBox([selectValues, selectAccessMode])\n",
    "\n",
    "# create interactive widget\n",
    "interactive_output = widgets.interactive_output(plotit, {'variable':selectValues, 'access_mode': selectAccessMode})\n",
    "\n",
    "display(hbox)\n",
    "display(interactive_output)\n",
    "display(output)"
   ]
  },
  {
   "cell_type": "markdown",
   "metadata": {},
   "source": [
    "### RMSE and Absolute Difference Table by Station"
   ]
  },
  {
   "cell_type": "code",
   "execution_count": 9,
   "metadata": {},
   "outputs": [],
   "source": [
    "def calculate_metric(df, access_mode, calculation_type):\n",
    "    # Filter based on access_mode\n",
    "    if access_mode in [\"walk\", \"drive\"]:\n",
    "        df = df[df[\"AccessMode\"] == access_mode]\n",
    "    elif access_mode == \"all\":\n",
    "        # Group by station and source, summing Brd_OD and OBS for walk + drive\n",
    "        df = (\n",
    "            df.groupby([\"station\", \"Source\"], as_index=False)\n",
    "            .agg({f\"Brd_{pa_od}\": \"sum\"})  # AccessMode is irrelevant in 'all'\n",
    "        )\n",
    "\n",
    "    # Separate observed values (OBS) and other sources\n",
    "    obs_df = df[df['Source'] == 'OBS'][['station', f'Brd_{pa_od}']].rename(columns={f'Brd_{pa_od}': 'OBS'})\n",
    "    sources_df = df[df['Source'] != 'OBS']\n",
    "\n",
    "    # Merge observed values with other sources\n",
    "    merged = sources_df.merge(obs_df, on=['station'])\n",
    "    \n",
    "    if calculation_type=='rmse':\n",
    "        # Calculate RMSE for each source and station\n",
    "        merged['squared_error'] = (merged[f'Brd_{pa_od}'] - merged['OBS'])**2\n",
    "        final_df = merged.groupby(['station', 'Source'])['squared_error'].sum().reset_index()\n",
    "        \n",
    "        # Add RMSE values per source and station\n",
    "        final_df['RMSE'] = np.sqrt(final_df['squared_error'])\n",
    "        final_df = final_df.pivot(index='station', columns='Source', values='RMSE')\n",
    "        \n",
    "        # Calculate total RMSE for all stations\n",
    "        total_df = (\n",
    "            merged.groupby('Source')['squared_error'].sum()\n",
    "            .apply(np.sqrt)\n",
    "            .rename('Total')\n",
    "        )\n",
    "    \n",
    "    if calculation_type == 'abs':\n",
    "        # Calculate absolute difference for each source and station\n",
    "        merged['abs_diff'] = abs(merged[f'Brd_{pa_od}'] - merged['OBS'])\n",
    "        final_df = merged.groupby(['station', 'Source'])['abs_diff'].mean().reset_index()\n",
    "    \n",
    "        # Add absolute difference values per source and station\n",
    "        final_df = final_df.pivot(index='station', columns='Source', values='abs_diff')\n",
    "    \n",
    "        # Calculate total absolute difference for all stations\n",
    "        total_df = (\n",
    "            merged.groupby('Source')['abs_diff'].sum()\n",
    "            .rename('Total')\n",
    "        )\n",
    "    \n",
    "    # Append Total row with source values as headers\n",
    "    final_df.loc['Total'] = total_df\n",
    "    \n",
    "    # Reset column names for clarity\n",
    "    final_df.columns.name = None\n",
    "    final_df.reset_index(inplace=True)\n",
    "    \n",
    "    return final_df"
   ]
  },
  {
   "cell_type": "code",
   "execution_count": 10,
   "metadata": {},
   "outputs": [
    {
     "data": {
      "text/html": [
       "<div>\n",
       "<style scoped>\n",
       "    .dataframe tbody tr th:only-of-type {\n",
       "        vertical-align: middle;\n",
       "    }\n",
       "\n",
       "    .dataframe tbody tr th {\n",
       "        vertical-align: top;\n",
       "    }\n",
       "\n",
       "    .dataframe thead th {\n",
       "        text-align: right;\n",
       "    }\n",
       "</style>\n",
       "<table border=\"1\" class=\"dataframe\">\n",
       "  <thead>\n",
       "    <tr style=\"text-align: right;\">\n",
       "      <th></th>\n",
       "      <th>station</th>\n",
       "      <th>TDM</th>\n",
       "      <th>TDM_2.1.1</th>\n",
       "      <th>TDM_2.1.1_b4</th>\n",
       "      <th>TDM_2.1.2</th>\n",
       "      <th>TDM_2.1.2_b4</th>\n",
       "      <th>TDM_2.1.3</th>\n",
       "      <th>TDM_2.1.4</th>\n",
       "    </tr>\n",
       "  </thead>\n",
       "  <tbody>\n",
       "    <tr>\n",
       "      <th>0</th>\n",
       "      <td>01-PROVO CENTRAL STATION</td>\n",
       "      <td>2458.348307</td>\n",
       "      <td>2461.093137</td>\n",
       "      <td>2582.523168</td>\n",
       "      <td>2461.812677</td>\n",
       "      <td>2451.733123</td>\n",
       "      <td>3097.144079</td>\n",
       "      <td>3164.566565</td>\n",
       "    </tr>\n",
       "    <tr>\n",
       "      <th>1</th>\n",
       "      <td>02-OREM CENTRAL STATION</td>\n",
       "      <td>1500.113989</td>\n",
       "      <td>1504.246556</td>\n",
       "      <td>1538.452794</td>\n",
       "      <td>1504.344453</td>\n",
       "      <td>1505.163149</td>\n",
       "      <td>1856.512481</td>\n",
       "      <td>1938.180524</td>\n",
       "    </tr>\n",
       "    <tr>\n",
       "      <th>2</th>\n",
       "      <td>03-AMERICAN FORK STATION</td>\n",
       "      <td>1930.638146</td>\n",
       "      <td>1971.986615</td>\n",
       "      <td>1714.830466</td>\n",
       "      <td>1970.846890</td>\n",
       "      <td>1996.600694</td>\n",
       "      <td>1785.669230</td>\n",
       "      <td>1829.952686</td>\n",
       "    </tr>\n",
       "    <tr>\n",
       "      <th>3</th>\n",
       "      <td>04-LEHI STATION</td>\n",
       "      <td>1292.228929</td>\n",
       "      <td>1182.071548</td>\n",
       "      <td>1060.974839</td>\n",
       "      <td>1182.825115</td>\n",
       "      <td>1201.502742</td>\n",
       "      <td>1418.051893</td>\n",
       "      <td>1501.583466</td>\n",
       "    </tr>\n",
       "    <tr>\n",
       "      <th>4</th>\n",
       "      <td>05-DRAPER STATION</td>\n",
       "      <td>1239.191364</td>\n",
       "      <td>1298.879939</td>\n",
       "      <td>1011.686147</td>\n",
       "      <td>1299.886917</td>\n",
       "      <td>1324.921567</td>\n",
       "      <td>1188.578972</td>\n",
       "      <td>1213.318835</td>\n",
       "    </tr>\n",
       "    <tr>\n",
       "      <th>5</th>\n",
       "      <td>06-SOUTH JORDAN STATION</td>\n",
       "      <td>1381.086008</td>\n",
       "      <td>1360.941152</td>\n",
       "      <td>970.347594</td>\n",
       "      <td>1363.728305</td>\n",
       "      <td>1400.080085</td>\n",
       "      <td>1289.389379</td>\n",
       "      <td>1320.459780</td>\n",
       "    </tr>\n",
       "    <tr>\n",
       "      <th>6</th>\n",
       "      <td>07-MURRAY CENTRAL STATION</td>\n",
       "      <td>428.076560</td>\n",
       "      <td>540.691767</td>\n",
       "      <td>894.399608</td>\n",
       "      <td>538.367341</td>\n",
       "      <td>532.725419</td>\n",
       "      <td>1673.796194</td>\n",
       "      <td>1696.551240</td>\n",
       "    </tr>\n",
       "    <tr>\n",
       "      <th>7</th>\n",
       "      <td>08-SALT LAKE CENTRAL STATION</td>\n",
       "      <td>499.604912</td>\n",
       "      <td>466.699178</td>\n",
       "      <td>503.391297</td>\n",
       "      <td>466.480755</td>\n",
       "      <td>470.950622</td>\n",
       "      <td>809.085617</td>\n",
       "      <td>817.568768</td>\n",
       "    </tr>\n",
       "    <tr>\n",
       "      <th>8</th>\n",
       "      <td>09-NORTH TEMPLE STATION</td>\n",
       "      <td>780.783166</td>\n",
       "      <td>708.817075</td>\n",
       "      <td>805.975547</td>\n",
       "      <td>709.955300</td>\n",
       "      <td>703.981800</td>\n",
       "      <td>992.481237</td>\n",
       "      <td>996.344882</td>\n",
       "    </tr>\n",
       "    <tr>\n",
       "      <th>9</th>\n",
       "      <td>10-WOODS CROSS STATION</td>\n",
       "      <td>902.394970</td>\n",
       "      <td>1019.078948</td>\n",
       "      <td>476.400321</td>\n",
       "      <td>1023.189296</td>\n",
       "      <td>1063.861812</td>\n",
       "      <td>695.742496</td>\n",
       "      <td>766.641601</td>\n",
       "    </tr>\n",
       "    <tr>\n",
       "      <th>10</th>\n",
       "      <td>11-FARMINGTON STATION</td>\n",
       "      <td>387.789242</td>\n",
       "      <td>522.153072</td>\n",
       "      <td>345.636529</td>\n",
       "      <td>522.590555</td>\n",
       "      <td>538.241963</td>\n",
       "      <td>477.308567</td>\n",
       "      <td>495.679008</td>\n",
       "    </tr>\n",
       "    <tr>\n",
       "      <th>11</th>\n",
       "      <td>12-LAYTON STATION</td>\n",
       "      <td>961.129070</td>\n",
       "      <td>1086.620689</td>\n",
       "      <td>1096.218551</td>\n",
       "      <td>1086.037237</td>\n",
       "      <td>1108.297790</td>\n",
       "      <td>1427.746223</td>\n",
       "      <td>1512.710074</td>\n",
       "    </tr>\n",
       "    <tr>\n",
       "      <th>12</th>\n",
       "      <td>13-CLEARFIELD STATION</td>\n",
       "      <td>594.817704</td>\n",
       "      <td>837.851641</td>\n",
       "      <td>527.585787</td>\n",
       "      <td>836.853660</td>\n",
       "      <td>866.401336</td>\n",
       "      <td>812.627015</td>\n",
       "      <td>906.875201</td>\n",
       "    </tr>\n",
       "    <tr>\n",
       "      <th>13</th>\n",
       "      <td>14-ROY STATION</td>\n",
       "      <td>972.652932</td>\n",
       "      <td>1153.063717</td>\n",
       "      <td>612.492991</td>\n",
       "      <td>1151.415179</td>\n",
       "      <td>1188.499877</td>\n",
       "      <td>755.096195</td>\n",
       "      <td>838.884901</td>\n",
       "    </tr>\n",
       "    <tr>\n",
       "      <th>14</th>\n",
       "      <td>15-OGDEN STATION</td>\n",
       "      <td>1182.373005</td>\n",
       "      <td>1122.865743</td>\n",
       "      <td>1438.227922</td>\n",
       "      <td>1123.631780</td>\n",
       "      <td>1109.578326</td>\n",
       "      <td>1979.898773</td>\n",
       "      <td>2048.092230</td>\n",
       "    </tr>\n",
       "    <tr>\n",
       "      <th>15</th>\n",
       "      <td>Total</td>\n",
       "      <td>4771.042068</td>\n",
       "      <td>4893.043817</td>\n",
       "      <td>4587.016282</td>\n",
       "      <td>4894.481704</td>\n",
       "      <td>4946.466908</td>\n",
       "      <td>5801.359792</td>\n",
       "      <td>5997.685441</td>\n",
       "    </tr>\n",
       "  </tbody>\n",
       "</table>\n",
       "</div>"
      ],
      "text/plain": [
       "                         station          TDM    TDM_2.1.1  TDM_2.1.1_b4  \\\n",
       "0       01-PROVO CENTRAL STATION  2458.348307  2461.093137   2582.523168   \n",
       "1        02-OREM CENTRAL STATION  1500.113989  1504.246556   1538.452794   \n",
       "2       03-AMERICAN FORK STATION  1930.638146  1971.986615   1714.830466   \n",
       "3                04-LEHI STATION  1292.228929  1182.071548   1060.974839   \n",
       "4              05-DRAPER STATION  1239.191364  1298.879939   1011.686147   \n",
       "5        06-SOUTH JORDAN STATION  1381.086008  1360.941152    970.347594   \n",
       "6      07-MURRAY CENTRAL STATION   428.076560   540.691767    894.399608   \n",
       "7   08-SALT LAKE CENTRAL STATION   499.604912   466.699178    503.391297   \n",
       "8        09-NORTH TEMPLE STATION   780.783166   708.817075    805.975547   \n",
       "9         10-WOODS CROSS STATION   902.394970  1019.078948    476.400321   \n",
       "10         11-FARMINGTON STATION   387.789242   522.153072    345.636529   \n",
       "11             12-LAYTON STATION   961.129070  1086.620689   1096.218551   \n",
       "12         13-CLEARFIELD STATION   594.817704   837.851641    527.585787   \n",
       "13                14-ROY STATION   972.652932  1153.063717    612.492991   \n",
       "14              15-OGDEN STATION  1182.373005  1122.865743   1438.227922   \n",
       "15                         Total  4771.042068  4893.043817   4587.016282   \n",
       "\n",
       "      TDM_2.1.2  TDM_2.1.2_b4    TDM_2.1.3    TDM_2.1.4  \n",
       "0   2461.812677   2451.733123  3097.144079  3164.566565  \n",
       "1   1504.344453   1505.163149  1856.512481  1938.180524  \n",
       "2   1970.846890   1996.600694  1785.669230  1829.952686  \n",
       "3   1182.825115   1201.502742  1418.051893  1501.583466  \n",
       "4   1299.886917   1324.921567  1188.578972  1213.318835  \n",
       "5   1363.728305   1400.080085  1289.389379  1320.459780  \n",
       "6    538.367341    532.725419  1673.796194  1696.551240  \n",
       "7    466.480755    470.950622   809.085617   817.568768  \n",
       "8    709.955300    703.981800   992.481237   996.344882  \n",
       "9   1023.189296   1063.861812   695.742496   766.641601  \n",
       "10   522.590555    538.241963   477.308567   495.679008  \n",
       "11  1086.037237   1108.297790  1427.746223  1512.710074  \n",
       "12   836.853660    866.401336   812.627015   906.875201  \n",
       "13  1151.415179   1188.499877   755.096195   838.884901  \n",
       "14  1123.631780   1109.578326  1979.898773  2048.092230  \n",
       "15  4894.481704   4946.466908  5801.359792  5997.685441  "
      ]
     },
     "metadata": {},
     "output_type": "display_data"
    }
   ],
   "source": [
    "# Separate observed values (OBS) and other sources\n",
    "obs_df = sumStats[sumStats['Source'] == 'OBS'][['station', f'Brd_{pa_od}']].rename(columns={f'Brd_{pa_od}': 'OBS'})\n",
    "sources_df = sumStats[sumStats['Source'] != 'OBS']\n",
    "\n",
    "# Merge observed values with other sources\n",
    "merged = sources_df.merge(obs_df, on='station')\n",
    "\n",
    "# Calculate RMSE for each source and station\n",
    "merged['squared_error'] = (merged[f'Brd_{pa_od}'] - merged['OBS'])**2\n",
    "rmse_table = merged.groupby(['station', 'Source'])['squared_error'].sum().reset_index()\n",
    "\n",
    "# Add RMSE values per source and station\n",
    "rmse_table['RMSE'] = np.sqrt(rmse_table['squared_error'])\n",
    "rmse_table = rmse_table.pivot(index='station', columns='Source', values='RMSE')\n",
    "\n",
    "# Calculate total RMSE for all stations\n",
    "total_rmse = (\n",
    "    merged.groupby('Source')['squared_error'].sum()\n",
    "    .apply(np.sqrt)\n",
    "    .rename('Total')\n",
    ")\n",
    "\n",
    "# Append Total row with source values as headers\n",
    "rmse_table.loc['Total'] = total_rmse\n",
    "\n",
    "# Reset column names for clarity\n",
    "rmse_table.columns.name = None\n",
    "rmse_table.reset_index(inplace=True)\n",
    "\n",
    "display(rmse_table)"
   ]
  },
  {
   "cell_type": "code",
   "execution_count": 11,
   "metadata": {},
   "outputs": [
    {
     "data": {
      "text/html": [
       "<div>\n",
       "<style scoped>\n",
       "    .dataframe tbody tr th:only-of-type {\n",
       "        vertical-align: middle;\n",
       "    }\n",
       "\n",
       "    .dataframe tbody tr th {\n",
       "        vertical-align: top;\n",
       "    }\n",
       "\n",
       "    .dataframe thead th {\n",
       "        text-align: right;\n",
       "    }\n",
       "</style>\n",
       "<table border=\"1\" class=\"dataframe\">\n",
       "  <thead>\n",
       "    <tr style=\"text-align: right;\">\n",
       "      <th></th>\n",
       "      <th>station</th>\n",
       "      <th>TDM</th>\n",
       "      <th>TDM_2.1.1</th>\n",
       "      <th>TDM_2.1.1_b4</th>\n",
       "      <th>TDM_2.1.2</th>\n",
       "      <th>TDM_2.1.2_b4</th>\n",
       "      <th>TDM_2.1.3</th>\n",
       "      <th>TDM_2.1.4</th>\n",
       "    </tr>\n",
       "  </thead>\n",
       "  <tbody>\n",
       "    <tr>\n",
       "      <th>0</th>\n",
       "      <td>01-PROVO CENTRAL STATION</td>\n",
       "      <td>1802.437</td>\n",
       "      <td>1860.437</td>\n",
       "      <td>2040.717</td>\n",
       "      <td>1861.437</td>\n",
       "      <td>1843.207</td>\n",
       "      <td>2782.757</td>\n",
       "      <td>2860.127</td>\n",
       "    </tr>\n",
       "    <tr>\n",
       "      <th>1</th>\n",
       "      <td>02-OREM CENTRAL STATION</td>\n",
       "      <td>492.948</td>\n",
       "      <td>564.628</td>\n",
       "      <td>893.898</td>\n",
       "      <td>564.768</td>\n",
       "      <td>539.718</td>\n",
       "      <td>1466.158</td>\n",
       "      <td>1582.408</td>\n",
       "    </tr>\n",
       "    <tr>\n",
       "      <th>2</th>\n",
       "      <td>03-AMERICAN FORK STATION</td>\n",
       "      <td>39.295</td>\n",
       "      <td>83.815</td>\n",
       "      <td>360.595</td>\n",
       "      <td>82.425</td>\n",
       "      <td>116.915</td>\n",
       "      <td>1190.165</td>\n",
       "      <td>1274.135</td>\n",
       "    </tr>\n",
       "    <tr>\n",
       "      <th>3</th>\n",
       "      <td>04-LEHI STATION</td>\n",
       "      <td>229.769</td>\n",
       "      <td>8.019</td>\n",
       "      <td>456.401</td>\n",
       "      <td>9.529</td>\n",
       "      <td>45.869</td>\n",
       "      <td>1129.071</td>\n",
       "      <td>1242.581</td>\n",
       "    </tr>\n",
       "    <tr>\n",
       "      <th>4</th>\n",
       "      <td>05-DRAPER STATION</td>\n",
       "      <td>208.494</td>\n",
       "      <td>254.294</td>\n",
       "      <td>310.226</td>\n",
       "      <td>255.704</td>\n",
       "      <td>287.604</td>\n",
       "      <td>872.656</td>\n",
       "      <td>909.236</td>\n",
       "    </tr>\n",
       "    <tr>\n",
       "      <th>5</th>\n",
       "      <td>06-SOUTH JORDAN STATION</td>\n",
       "      <td>479.173</td>\n",
       "      <td>415.163</td>\n",
       "      <td>307.947</td>\n",
       "      <td>418.773</td>\n",
       "      <td>460.773</td>\n",
       "      <td>1023.197</td>\n",
       "      <td>1063.307</td>\n",
       "    </tr>\n",
       "    <tr>\n",
       "      <th>6</th>\n",
       "      <td>07-MURRAY CENTRAL STATION</td>\n",
       "      <td>353.307</td>\n",
       "      <td>295.807</td>\n",
       "      <td>864.287</td>\n",
       "      <td>296.147</td>\n",
       "      <td>260.087</td>\n",
       "      <td>1657.217</td>\n",
       "      <td>1680.747</td>\n",
       "    </tr>\n",
       "    <tr>\n",
       "      <th>7</th>\n",
       "      <td>08-SALT LAKE CENTRAL STATION</td>\n",
       "      <td>150.422</td>\n",
       "      <td>2.822</td>\n",
       "      <td>235.922</td>\n",
       "      <td>4.792</td>\n",
       "      <td>12.208</td>\n",
       "      <td>791.602</td>\n",
       "      <td>800.432</td>\n",
       "    </tr>\n",
       "    <tr>\n",
       "      <th>8</th>\n",
       "      <td>09-NORTH TEMPLE STATION</td>\n",
       "      <td>692.450</td>\n",
       "      <td>611.800</td>\n",
       "      <td>723.290</td>\n",
       "      <td>613.060</td>\n",
       "      <td>605.920</td>\n",
       "      <td>937.160</td>\n",
       "      <td>941.280</td>\n",
       "    </tr>\n",
       "    <tr>\n",
       "      <th>9</th>\n",
       "      <td>10-WOODS CROSS STATION</td>\n",
       "      <td>565.460</td>\n",
       "      <td>655.970</td>\n",
       "      <td>140.600</td>\n",
       "      <td>660.180</td>\n",
       "      <td>698.690</td>\n",
       "      <td>545.720</td>\n",
       "      <td>638.560</td>\n",
       "    </tr>\n",
       "    <tr>\n",
       "      <th>10</th>\n",
       "      <td>11-FARMINGTON STATION</td>\n",
       "      <td>75.574</td>\n",
       "      <td>233.054</td>\n",
       "      <td>164.416</td>\n",
       "      <td>233.374</td>\n",
       "      <td>251.594</td>\n",
       "      <td>389.426</td>\n",
       "      <td>413.886</td>\n",
       "    </tr>\n",
       "    <tr>\n",
       "      <th>11</th>\n",
       "      <td>12-LAYTON STATION</td>\n",
       "      <td>295.180</td>\n",
       "      <td>77.650</td>\n",
       "      <td>778.540</td>\n",
       "      <td>76.290</td>\n",
       "      <td>116.230</td>\n",
       "      <td>1219.470</td>\n",
       "      <td>1322.620</td>\n",
       "    </tr>\n",
       "    <tr>\n",
       "      <th>12</th>\n",
       "      <td>13-CLEARFIELD STATION</td>\n",
       "      <td>276.339</td>\n",
       "      <td>603.829</td>\n",
       "      <td>145.161</td>\n",
       "      <td>602.669</td>\n",
       "      <td>636.899</td>\n",
       "      <td>627.241</td>\n",
       "      <td>751.161</td>\n",
       "    </tr>\n",
       "    <tr>\n",
       "      <th>13</th>\n",
       "      <td>14-ROY STATION</td>\n",
       "      <td>540.821</td>\n",
       "      <td>709.661</td>\n",
       "      <td>40.661</td>\n",
       "      <td>708.011</td>\n",
       "      <td>745.451</td>\n",
       "      <td>489.199</td>\n",
       "      <td>637.819</td>\n",
       "    </tr>\n",
       "    <tr>\n",
       "      <th>14</th>\n",
       "      <td>15-OGDEN STATION</td>\n",
       "      <td>680.911</td>\n",
       "      <td>586.291</td>\n",
       "      <td>1062.831</td>\n",
       "      <td>587.751</td>\n",
       "      <td>560.441</td>\n",
       "      <td>1731.751</td>\n",
       "      <td>1810.181</td>\n",
       "    </tr>\n",
       "    <tr>\n",
       "      <th>15</th>\n",
       "      <td>Total</td>\n",
       "      <td>6882.580</td>\n",
       "      <td>6963.240</td>\n",
       "      <td>8525.492</td>\n",
       "      <td>6974.910</td>\n",
       "      <td>7181.606</td>\n",
       "      <td>16852.790</td>\n",
       "      <td>17928.480</td>\n",
       "    </tr>\n",
       "  </tbody>\n",
       "</table>\n",
       "</div>"
      ],
      "text/plain": [
       "                         station       TDM  TDM_2.1.1  TDM_2.1.1_b4  \\\n",
       "0       01-PROVO CENTRAL STATION  1802.437   1860.437      2040.717   \n",
       "1        02-OREM CENTRAL STATION   492.948    564.628       893.898   \n",
       "2       03-AMERICAN FORK STATION    39.295     83.815       360.595   \n",
       "3                04-LEHI STATION   229.769      8.019       456.401   \n",
       "4              05-DRAPER STATION   208.494    254.294       310.226   \n",
       "5        06-SOUTH JORDAN STATION   479.173    415.163       307.947   \n",
       "6      07-MURRAY CENTRAL STATION   353.307    295.807       864.287   \n",
       "7   08-SALT LAKE CENTRAL STATION   150.422      2.822       235.922   \n",
       "8        09-NORTH TEMPLE STATION   692.450    611.800       723.290   \n",
       "9         10-WOODS CROSS STATION   565.460    655.970       140.600   \n",
       "10         11-FARMINGTON STATION    75.574    233.054       164.416   \n",
       "11             12-LAYTON STATION   295.180     77.650       778.540   \n",
       "12         13-CLEARFIELD STATION   276.339    603.829       145.161   \n",
       "13                14-ROY STATION   540.821    709.661        40.661   \n",
       "14              15-OGDEN STATION   680.911    586.291      1062.831   \n",
       "15                         Total  6882.580   6963.240      8525.492   \n",
       "\n",
       "    TDM_2.1.2  TDM_2.1.2_b4  TDM_2.1.3  TDM_2.1.4  \n",
       "0    1861.437      1843.207   2782.757   2860.127  \n",
       "1     564.768       539.718   1466.158   1582.408  \n",
       "2      82.425       116.915   1190.165   1274.135  \n",
       "3       9.529        45.869   1129.071   1242.581  \n",
       "4     255.704       287.604    872.656    909.236  \n",
       "5     418.773       460.773   1023.197   1063.307  \n",
       "6     296.147       260.087   1657.217   1680.747  \n",
       "7       4.792        12.208    791.602    800.432  \n",
       "8     613.060       605.920    937.160    941.280  \n",
       "9     660.180       698.690    545.720    638.560  \n",
       "10    233.374       251.594    389.426    413.886  \n",
       "11     76.290       116.230   1219.470   1322.620  \n",
       "12    602.669       636.899    627.241    751.161  \n",
       "13    708.011       745.451    489.199    637.819  \n",
       "14    587.751       560.441   1731.751   1810.181  \n",
       "15   6974.910      7181.606  16852.790  17928.480  "
      ]
     },
     "metadata": {},
     "output_type": "display_data"
    }
   ],
   "source": [
    "# Example usage\n",
    "result_df = calculate_metric(\n",
    "    sumStats, \n",
    "    access_mode=\"all\",      # all, walk, drive\n",
    "    calculation_type=\"abs\"  # rmse, abs\n",
    ")\n",
    "display(result_df)\n",
    "\n",
    "#FIX TOTAL ROW -- do we want the sum of the absolute value?"
   ]
  },
  {
   "cell_type": "markdown",
   "metadata": {},
   "source": [
    "## Conclusions"
   ]
  },
  {
   "cell_type": "markdown",
   "metadata": {},
   "source": [
    "- UrbanVal takes up a pretty big part of the mode choice \n",
    "    - when you take out UrbanVal, it does account for large ridership, although after recalibration a constant will fix the missing ridership \n",
    "    - the UrbanVal constant is dominant in the utility equation (while it doesn't have a storng contribution to the utility equation, relative to other constants it is pretty big)\n",
    "- UrbanVal doesn't affect the boarding pattern\n",
    "    - although cutting out UrbanVal and not recalibrating shows significant ridership loss, the pattern of low boardings at Provo remains\n",
    "- UrbanVal doesn't solve any of the major problems occurring, especially low boardings at Provo Station\n",
    "- By setting the crt constants to 0, although crt ridership overall decreases significantly, the proportion at provo station increases. This suggests adjusting the utility equation could prove effective to fixing the Provo station error\n",
    "    - We can conclude that the crt constants are VERY dominate in the utility equation. Will any other investigations play a role if the constants have so much sway? \n",
    "    - Why is the model not seeing trips on commuter rail without needing a huge constant to balance things out?\n",
    "\n"
   ]
  }
 ],
 "metadata": {
  "kernelspec": {
   "display_name": "base",
   "language": "python",
   "name": "python3"
  },
  "language_info": {
   "codemirror_mode": {
    "name": "ipython",
    "version": 3
   },
   "file_extension": ".py",
   "mimetype": "text/x-python",
   "name": "python",
   "nbconvert_exporter": "python",
   "pygments_lexer": "ipython3",
   "version": "3.9.19"
  }
 },
 "nbformat": 4,
 "nbformat_minor": 2
}
