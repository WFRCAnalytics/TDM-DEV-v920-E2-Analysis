{
 "cells": [
  {
   "cell_type": "code",
   "execution_count": 18,
   "metadata": {},
   "outputs": [],
   "source": [
    "import os\n",
    "import pandas as pd\n",
    "import plotly\n",
    "import numpy as np\n",
    "import plotly.express as px\n",
    "import plotly.graph_objects as go\n",
    "import plotly as pys\n",
    "import ipywidgets as widgets\n",
    "from ipywidgets import Layout\n",
    "\n",
    "import _global_scripts as gs"
   ]
  },
  {
   "cell_type": "markdown",
   "metadata": {},
   "source": [
    "## Purpose"
   ]
  },
  {
   "cell_type": "markdown",
   "metadata": {},
   "source": [
    "Consider removing the crt distance variable that discourages close trips and replace with something that discourages close AND encourages far distances\n",
    "\n",
    " - **2.9.1** \n",
    " "
   ]
  },
  {
   "cell_type": "markdown",
   "metadata": {},
   "source": [
    "## Inputs"
   ]
  },
  {
   "cell_type": "code",
   "execution_count": 20,
   "metadata": {},
   "outputs": [],
   "source": [
    "# set whether you want PA or OD analysis\n",
    "pa_od = 'PA'\n",
    "pa_od_function = 'pa'"
   ]
  },
  {
   "cell_type": "code",
   "execution_count": 33,
   "metadata": {},
   "outputs": [],
   "source": [
    "df_tdm_obs = pd.read_csv(f\"_data/base_observed_summary_{pa_od_function}.csv\").sort_values(by=['Source','station'], ascending=True).reset_index(drop=True)\n",
    "if(pa_od == 'PA'):\n",
    "        df_tdm_obs = df_tdm_obs.drop(columns={'Alt_PA','Alt_Direct_PA','Alt_Transfer_PA'})\n",
    "\n",
    "# read in results for e2.9 after recalibration\n",
    "path_brding_summary_m1 = r\"_data/E2.9/M1_node.csv\"\n",
    "path_rider_summary_m1  = r\"_data/E2.9/M1_link.csv\"\n",
    "path_brding_summary_291 = r\"_data/E2.9/E2.9.1_node.csv\"\n",
    "path_rider_summary_291  = r\"_data/E2.9/E2.9.1_link.csv\""
   ]
  },
  {
   "cell_type": "code",
   "execution_count": 34,
   "metadata": {},
   "outputs": [
    {
     "data": {
      "application/vnd.microsoft.datawrangler.viewer.v0+json": {
       "columns": [
        {
         "name": "index",
         "rawType": "int64",
         "type": "integer"
        },
        {
         "name": "Source",
         "rawType": "object",
         "type": "string"
        },
        {
         "name": "station",
         "rawType": "object",
         "type": "string"
        },
        {
         "name": "AccessMode",
         "rawType": "object",
         "type": "string"
        },
        {
         "name": "Brd_PA",
         "rawType": "float64",
         "type": "float"
        },
        {
         "name": "Brd_Direct_PA",
         "rawType": "float64",
         "type": "float"
        },
        {
         "name": "Brd_Transfer_PA",
         "rawType": "float64",
         "type": "float"
        }
       ],
       "conversionMethod": "pd.DataFrame",
       "ref": "1fd7aefd-4fc6-4363-9bd0-cf8cf48c09f7",
       "rows": [
        [
         "0",
         "OBS",
         "01-PROVO CENTRAL STATION",
         "drive",
         "2283.379",
         "0.0",
         "0.0"
        ],
        [
         "1",
         "OBS",
         "01-PROVO CENTRAL STATION",
         "walk",
         "945.908",
         "0.0",
         "0.0"
        ],
        [
         "2",
         "OBS",
         "02-OREM CENTRAL STATION",
         "drive",
         "1475.024",
         "0.0",
         "0.0"
        ],
        [
         "3",
         "OBS",
         "02-OREM CENTRAL STATION",
         "walk",
         "371.804",
         "0.0",
         "0.0"
        ],
        [
         "4",
         "OBS",
         "03-AMERICAN FORK STATION",
         "drive",
         "1423.768",
         "0.0",
         "0.0"
        ],
        [
         "5",
         "OBS",
         "03-AMERICAN FORK STATION",
         "walk",
         "136.077",
         "0.0",
         "0.0"
        ],
        [
         "6",
         "OBS",
         "04-LEHI STATION",
         "drive",
         "1128.372",
         "0.0",
         "0.0"
        ],
        [
         "7",
         "OBS",
         "04-LEHI STATION",
         "walk",
         "292.189",
         "0.0",
         "0.0"
        ],
        [
         "8",
         "OBS",
         "05-DRAPER STATION",
         "drive",
         "935.648",
         "0.0",
         "0.0"
        ],
        [
         "9",
         "OBS",
         "05-DRAPER STATION",
         "walk",
         "144.648",
         "0.0",
         "0.0"
        ],
        [
         "10",
         "OBS",
         "06-SOUTH JORDAN STATION",
         "drive",
         "985.477",
         "0.0",
         "0.0"
        ],
        [
         "11",
         "OBS",
         "06-SOUTH JORDAN STATION",
         "walk",
         "206.56",
         "0.0",
         "0.0"
        ],
        [
         "12",
         "OBS",
         "07-MURRAY CENTRAL STATION",
         "drive",
         "1029.668",
         "0.0",
         "0.0"
        ],
        [
         "13",
         "OBS",
         "07-MURRAY CENTRAL STATION",
         "walk",
         "805.649",
         "0.0",
         "0.0"
        ],
        [
         "14",
         "OBS",
         "08-SALT LAKE CENTRAL STATION",
         "drive",
         "367.738",
         "0.0",
         "0.0"
        ],
        [
         "15",
         "OBS",
         "08-SALT LAKE CENTRAL STATION",
         "walk",
         "529.444",
         "0.0",
         "0.0"
        ],
        [
         "16",
         "OBS",
         "09-NORTH TEMPLE STATION",
         "drive",
         "335.673",
         "0.0",
         "0.0"
        ],
        [
         "17",
         "OBS",
         "09-NORTH TEMPLE STATION",
         "walk",
         "661.147",
         "0.0",
         "0.0"
        ],
        [
         "18",
         "OBS",
         "10-WOODS CROSS STATION",
         "drive",
         "594.331",
         "0.0",
         "0.0"
        ],
        [
         "19",
         "OBS",
         "10-WOODS CROSS STATION",
         "walk",
         "173.169",
         "0.0",
         "0.0"
        ],
        [
         "20",
         "OBS",
         "11-FARMINGTON STATION",
         "drive",
         "385.481",
         "0.0",
         "0.0"
        ],
        [
         "21",
         "OBS",
         "11-FARMINGTON STATION",
         "walk",
         "120.055",
         "0.0",
         "0.0"
        ],
        [
         "22",
         "OBS",
         "12-LAYTON STATION",
         "drive",
         "1113.116",
         "0.0",
         "0.0"
        ],
        [
         "23",
         "OBS",
         "12-LAYTON STATION",
         "walk",
         "384.134",
         "0.0",
         "0.0"
        ],
        [
         "24",
         "OBS",
         "13-CLEARFIELD STATION",
         "drive",
         "745.345",
         "0.0",
         "0.0"
        ],
        [
         "25",
         "OBS",
         "13-CLEARFIELD STATION",
         "walk",
         "238.296",
         "0.0",
         "0.0"
        ],
        [
         "26",
         "OBS",
         "14-ROY STATION",
         "drive",
         "699.224",
         "0.0",
         "0.0"
        ],
        [
         "27",
         "OBS",
         "14-ROY STATION",
         "walk",
         "168.575",
         "0.0",
         "0.0"
        ],
        [
         "28",
         "OBS",
         "15-OGDEN STATION",
         "drive",
         "1452.874",
         "0.0",
         "0.0"
        ],
        [
         "29",
         "OBS",
         "15-OGDEN STATION",
         "walk",
         "495.237",
         "0.0",
         "0.0"
        ],
        [
         "30",
         "TDM",
         "01-PROVO CENTRAL STATION",
         "drive",
         "211.96",
         "211.42",
         "0.54"
        ],
        [
         "31",
         "TDM",
         "01-PROVO CENTRAL STATION",
         "walk",
         "1214.89",
         "159.2",
         "1055.69"
        ],
        [
         "32",
         "TDM",
         "02-OREM CENTRAL STATION",
         "drive",
         "1121.42",
         "1121.2",
         "0.22"
        ],
        [
         "33",
         "TDM",
         "02-OREM CENTRAL STATION",
         "walk",
         "232.46",
         "130.72",
         "101.74"
        ],
        [
         "34",
         "TDM",
         "03-AMERICAN FORK STATION",
         "drive",
         "1518.54",
         "1518.51",
         "0.03"
        ],
        [
         "35",
         "TDM",
         "03-AMERICAN FORK STATION",
         "walk",
         "80.6",
         "80.6",
         "0.0"
        ],
        [
         "36",
         "TDM",
         "04-LEHI STATION",
         "drive",
         "1304.19",
         "1304.08",
         "0.11"
        ],
        [
         "37",
         "TDM",
         "04-LEHI STATION",
         "walk",
         "346.14",
         "209.31",
         "136.83"
        ],
        [
         "38",
         "TDM",
         "05-DRAPER STATION",
         "drive",
         "1109.81",
         "1109.74",
         "0.07"
        ],
        [
         "39",
         "TDM",
         "05-DRAPER STATION",
         "walk",
         "178.98",
         "149.63",
         "29.35"
        ],
        [
         "40",
         "TDM",
         "06-SOUTH JORDAN STATION",
         "drive",
         "1353.07",
         "1353.08",
         "-0.01"
        ],
        [
         "41",
         "TDM",
         "06-SOUTH JORDAN STATION",
         "walk",
         "318.14",
         "256.61",
         "61.53"
        ],
        [
         "42",
         "TDM",
         "07-MURRAY CENTRAL STATION",
         "drive",
         "786.39",
         "786.34",
         "0.05"
        ],
        [
         "43",
         "TDM",
         "07-MURRAY CENTRAL STATION",
         "walk",
         "695.62",
         "132.21",
         "563.41"
        ],
        [
         "44",
         "TDM",
         "08-SALT LAKE CENTRAL STATION",
         "drive",
         "149.31",
         "149.3",
         "0.01"
        ],
        [
         "45",
         "TDM",
         "08-SALT LAKE CENTRAL STATION",
         "walk",
         "597.45",
         "10.87",
         "586.58"
        ],
        [
         "46",
         "TDM",
         "09-NORTH TEMPLE STATION",
         "drive",
         "74.4",
         "74.25",
         "0.15"
        ],
        [
         "47",
         "TDM",
         "09-NORTH TEMPLE STATION",
         "walk",
         "229.97",
         "174.58",
         "55.39"
        ],
        [
         "48",
         "TDM",
         "10-WOODS CROSS STATION",
         "drive",
         "948.08",
         "948.07",
         "0.01"
        ],
        [
         "49",
         "TDM",
         "10-WOODS CROSS STATION",
         "walk",
         "384.88",
         "296.84",
         "88.04"
        ]
       ],
       "shape": {
        "columns": 6,
        "rows": 120
       }
      },
      "text/html": [
       "<div>\n",
       "<style scoped>\n",
       "    .dataframe tbody tr th:only-of-type {\n",
       "        vertical-align: middle;\n",
       "    }\n",
       "\n",
       "    .dataframe tbody tr th {\n",
       "        vertical-align: top;\n",
       "    }\n",
       "\n",
       "    .dataframe thead th {\n",
       "        text-align: right;\n",
       "    }\n",
       "</style>\n",
       "<table border=\"1\" class=\"dataframe\">\n",
       "  <thead>\n",
       "    <tr style=\"text-align: right;\">\n",
       "      <th></th>\n",
       "      <th>Source</th>\n",
       "      <th>station</th>\n",
       "      <th>AccessMode</th>\n",
       "      <th>Brd_PA</th>\n",
       "      <th>Brd_Direct_PA</th>\n",
       "      <th>Brd_Transfer_PA</th>\n",
       "    </tr>\n",
       "  </thead>\n",
       "  <tbody>\n",
       "    <tr>\n",
       "      <th>0</th>\n",
       "      <td>OBS</td>\n",
       "      <td>01-PROVO CENTRAL STATION</td>\n",
       "      <td>drive</td>\n",
       "      <td>2283.379</td>\n",
       "      <td>0.00</td>\n",
       "      <td>0.00</td>\n",
       "    </tr>\n",
       "    <tr>\n",
       "      <th>1</th>\n",
       "      <td>OBS</td>\n",
       "      <td>01-PROVO CENTRAL STATION</td>\n",
       "      <td>walk</td>\n",
       "      <td>945.908</td>\n",
       "      <td>0.00</td>\n",
       "      <td>0.00</td>\n",
       "    </tr>\n",
       "    <tr>\n",
       "      <th>2</th>\n",
       "      <td>OBS</td>\n",
       "      <td>02-OREM CENTRAL STATION</td>\n",
       "      <td>drive</td>\n",
       "      <td>1475.024</td>\n",
       "      <td>0.00</td>\n",
       "      <td>0.00</td>\n",
       "    </tr>\n",
       "    <tr>\n",
       "      <th>3</th>\n",
       "      <td>OBS</td>\n",
       "      <td>02-OREM CENTRAL STATION</td>\n",
       "      <td>walk</td>\n",
       "      <td>371.804</td>\n",
       "      <td>0.00</td>\n",
       "      <td>0.00</td>\n",
       "    </tr>\n",
       "    <tr>\n",
       "      <th>4</th>\n",
       "      <td>OBS</td>\n",
       "      <td>03-AMERICAN FORK STATION</td>\n",
       "      <td>drive</td>\n",
       "      <td>1423.768</td>\n",
       "      <td>0.00</td>\n",
       "      <td>0.00</td>\n",
       "    </tr>\n",
       "    <tr>\n",
       "      <th>...</th>\n",
       "      <td>...</td>\n",
       "      <td>...</td>\n",
       "      <td>...</td>\n",
       "      <td>...</td>\n",
       "      <td>...</td>\n",
       "      <td>...</td>\n",
       "    </tr>\n",
       "    <tr>\n",
       "      <th>115</th>\n",
       "      <td>TDM_2.9.1</td>\n",
       "      <td>11-FARMINGTON STATION</td>\n",
       "      <td>walk</td>\n",
       "      <td>182.870</td>\n",
       "      <td>124.27</td>\n",
       "      <td>58.60</td>\n",
       "    </tr>\n",
       "    <tr>\n",
       "      <th>116</th>\n",
       "      <td>TDM_2.9.1</td>\n",
       "      <td>12-LAYTON STATION</td>\n",
       "      <td>walk</td>\n",
       "      <td>319.580</td>\n",
       "      <td>135.40</td>\n",
       "      <td>184.18</td>\n",
       "    </tr>\n",
       "    <tr>\n",
       "      <th>117</th>\n",
       "      <td>TDM_2.9.1</td>\n",
       "      <td>13-CLEARFIELD STATION</td>\n",
       "      <td>walk</td>\n",
       "      <td>577.690</td>\n",
       "      <td>446.52</td>\n",
       "      <td>131.17</td>\n",
       "    </tr>\n",
       "    <tr>\n",
       "      <th>118</th>\n",
       "      <td>TDM_2.9.1</td>\n",
       "      <td>14-ROY STATION</td>\n",
       "      <td>walk</td>\n",
       "      <td>307.190</td>\n",
       "      <td>283.22</td>\n",
       "      <td>23.97</td>\n",
       "    </tr>\n",
       "    <tr>\n",
       "      <th>119</th>\n",
       "      <td>TDM_2.9.1</td>\n",
       "      <td>15-OGDEN STATION</td>\n",
       "      <td>walk</td>\n",
       "      <td>559.300</td>\n",
       "      <td>57.30</td>\n",
       "      <td>502.00</td>\n",
       "    </tr>\n",
       "  </tbody>\n",
       "</table>\n",
       "<p>120 rows × 6 columns</p>\n",
       "</div>"
      ],
      "text/plain": [
       "        Source                   station AccessMode    Brd_PA  Brd_Direct_PA  \\\n",
       "0          OBS  01-PROVO CENTRAL STATION      drive  2283.379           0.00   \n",
       "1          OBS  01-PROVO CENTRAL STATION       walk   945.908           0.00   \n",
       "2          OBS   02-OREM CENTRAL STATION      drive  1475.024           0.00   \n",
       "3          OBS   02-OREM CENTRAL STATION       walk   371.804           0.00   \n",
       "4          OBS  03-AMERICAN FORK STATION      drive  1423.768           0.00   \n",
       "..         ...                       ...        ...       ...            ...   \n",
       "115  TDM_2.9.1     11-FARMINGTON STATION       walk   182.870         124.27   \n",
       "116  TDM_2.9.1         12-LAYTON STATION       walk   319.580         135.40   \n",
       "117  TDM_2.9.1     13-CLEARFIELD STATION       walk   577.690         446.52   \n",
       "118  TDM_2.9.1            14-ROY STATION       walk   307.190         283.22   \n",
       "119  TDM_2.9.1          15-OGDEN STATION       walk   559.300          57.30   \n",
       "\n",
       "     Brd_Transfer_PA  \n",
       "0               0.00  \n",
       "1               0.00  \n",
       "2               0.00  \n",
       "3               0.00  \n",
       "4               0.00  \n",
       "..               ...  \n",
       "115            58.60  \n",
       "116           184.18  \n",
       "117           131.17  \n",
       "118            23.97  \n",
       "119           502.00  \n",
       "\n",
       "[120 rows x 6 columns]"
      ]
     },
     "metadata": {},
     "output_type": "display_data"
    }
   ],
   "source": [
    "# read in stations and summarize tdm results\n",
    "df_stations1 = gs.df_stations[['station','N']]\n",
    "df_tdm_m1 = gs.summarize_tdm_stats(path_brding_summary_m1,path_rider_summary_m1, df_stations1, 'TDM_M1', pa_od_function)\n",
    "df_tdm_291 = gs.summarize_tdm_stats(path_brding_summary_291,path_rider_summary_291, df_stations1, 'TDM_2.9.1', pa_od_function)\n",
    "\n",
    "# concat dataframes\n",
    "df_tdm_obs_new = pd.concat([\n",
    "        df_tdm_obs,\n",
    "        df_tdm_m1,\n",
    "        df_tdm_291\n",
    "    ]).reset_index()\n",
    "df_tdm_obs_new = df_tdm_obs_new.round(3).fillna(0)\n",
    "df_tdm_obs_new = df_tdm_obs_new.drop(columns='index')\n",
    "df_tdm_obs_new = df_tdm_obs_new.loc[:, ~df_tdm_obs_new.columns.str.contains('^Unnamed')]\n",
    "\n",
    "# rename\n",
    "sumStats = df_tdm_obs_new.copy()\n",
    "sumStats = sumStats[sumStats['Source']!='TDM']\n",
    "display(df_tdm_obs_new)"
   ]
  },
  {
   "cell_type": "code",
   "execution_count": 35,
   "metadata": {},
   "outputs": [
    {
     "data": {
      "application/vnd.microsoft.datawrangler.viewer.v0+json": {
       "columns": [
        {
         "name": "index",
         "rawType": "int64",
         "type": "integer"
        },
        {
         "name": "Source",
         "rawType": "object",
         "type": "string"
        },
        {
         "name": "station",
         "rawType": "object",
         "type": "string"
        },
        {
         "name": "AccessMode",
         "rawType": "object",
         "type": "string"
        },
        {
         "name": "Brd_PA",
         "rawType": "float64",
         "type": "float"
        },
        {
         "name": "Brd_Direct_PA",
         "rawType": "float64",
         "type": "float"
        },
        {
         "name": "Brd_Transfer_PA",
         "rawType": "float64",
         "type": "float"
        },
        {
         "name": "Source_Brd_PA",
         "rawType": "float64",
         "type": "float"
        },
        {
         "name": "Source_Brd_Direct_PA",
         "rawType": "float64",
         "type": "float"
        },
        {
         "name": "Source_Brd_Transfer_PA",
         "rawType": "float64",
         "type": "float"
        },
        {
         "name": "Brd_PA_Perc",
         "rawType": "float64",
         "type": "float"
        },
        {
         "name": "Brd_Direct_PA_Perc",
         "rawType": "float64",
         "type": "float"
        },
        {
         "name": "Brd_Transfer_PA_Perc",
         "rawType": "float64",
         "type": "float"
        }
       ],
       "conversionMethod": "pd.DataFrame",
       "ref": "e578f6b9-0225-4a8b-992a-f26728b1210d",
       "rows": [
        [
         "0",
         "OBS",
         "01-PROVO CENTRAL STATION",
         "drive",
         "2283.379",
         "0.0",
         "0.0",
         "14955.118",
         "0.0",
         "0.0",
         "0.15268211190309564",
         null,
         null
        ],
        [
         "1",
         "OBS",
         "01-PROVO CENTRAL STATION",
         "walk",
         "945.908",
         "0.0",
         "0.0",
         "5672.892",
         "0.0",
         "0.0",
         "0.16674176063989937",
         null,
         null
        ],
        [
         "2",
         "OBS",
         "02-OREM CENTRAL STATION",
         "drive",
         "1475.024",
         "0.0",
         "0.0",
         "14955.118",
         "0.0",
         "0.0",
         "0.0986300475863848",
         null,
         null
        ],
        [
         "3",
         "OBS",
         "02-OREM CENTRAL STATION",
         "walk",
         "371.804",
         "0.0",
         "0.0",
         "5672.892",
         "0.0",
         "0.0",
         "0.06554046860049513",
         null,
         null
        ],
        [
         "4",
         "OBS",
         "03-AMERICAN FORK STATION",
         "drive",
         "1423.768",
         "0.0",
         "0.0",
         "14955.118",
         "0.0",
         "0.0",
         "0.09520272591630503",
         null,
         null
        ],
        [
         "5",
         "OBS",
         "03-AMERICAN FORK STATION",
         "walk",
         "136.077",
         "0.0",
         "0.0",
         "5672.892",
         "0.0",
         "0.0",
         "0.023987236139873632",
         null,
         null
        ],
        [
         "6",
         "OBS",
         "04-LEHI STATION",
         "drive",
         "1128.372",
         "0.0",
         "0.0",
         "14955.118",
         "0.0",
         "0.0",
         "0.07545055812999937",
         null,
         null
        ],
        [
         "7",
         "OBS",
         "04-LEHI STATION",
         "walk",
         "292.189",
         "0.0",
         "0.0",
         "5672.892",
         "0.0",
         "0.0",
         "0.051506180621806306",
         null,
         null
        ],
        [
         "8",
         "OBS",
         "05-DRAPER STATION",
         "drive",
         "935.648",
         "0.0",
         "0.0",
         "14955.118",
         "0.0",
         "0.0",
         "0.0625637323623926",
         null,
         null
        ],
        [
         "9",
         "OBS",
         "05-DRAPER STATION",
         "walk",
         "144.648",
         "0.0",
         "0.0",
         "5672.892",
         "0.0",
         "0.0",
         "0.025498105728083666",
         null,
         null
        ],
        [
         "10",
         "OBS",
         "06-SOUTH JORDAN STATION",
         "drive",
         "985.477",
         "0.0",
         "0.0",
         "14955.118",
         "0.0",
         "0.0",
         "0.06589563519324956",
         null,
         null
        ],
        [
         "11",
         "OBS",
         "06-SOUTH JORDAN STATION",
         "walk",
         "206.56",
         "0.0",
         "0.0",
         "5672.892",
         "0.0",
         "0.0",
         "0.03641176317123612",
         null,
         null
        ],
        [
         "12",
         "OBS",
         "07-MURRAY CENTRAL STATION",
         "drive",
         "1029.668",
         "0.0",
         "0.0",
         "14955.118",
         "0.0",
         "0.0",
         "0.06885054333907628",
         null,
         null
        ],
        [
         "13",
         "OBS",
         "07-MURRAY CENTRAL STATION",
         "walk",
         "805.649",
         "0.0",
         "0.0",
         "5672.892",
         "0.0",
         "0.0",
         "0.14201733436843147",
         null,
         null
        ],
        [
         "14",
         "OBS",
         "08-SALT LAKE CENTRAL STATION",
         "drive",
         "367.738",
         "0.0",
         "0.0",
         "14955.118",
         "0.0",
         "0.0",
         "0.024589441554389607",
         null,
         null
        ],
        [
         "15",
         "OBS",
         "08-SALT LAKE CENTRAL STATION",
         "walk",
         "529.444",
         "0.0",
         "0.0",
         "5672.892",
         "0.0",
         "0.0",
         "0.09332876423524368",
         null,
         null
        ],
        [
         "16",
         "OBS",
         "09-NORTH TEMPLE STATION",
         "drive",
         "335.673",
         "0.0",
         "0.0",
         "14955.118",
         "0.0",
         "0.0",
         "0.022445359508363624",
         null,
         null
        ],
        [
         "17",
         "OBS",
         "09-NORTH TEMPLE STATION",
         "walk",
         "661.147",
         "0.0",
         "0.0",
         "5672.892",
         "0.0",
         "0.0",
         "0.11654496507248861",
         null,
         null
        ],
        [
         "18",
         "OBS",
         "10-WOODS CROSS STATION",
         "drive",
         "594.331",
         "0.0",
         "0.0",
         "14955.118",
         "0.0",
         "0.0",
         "0.039740976968553506",
         null,
         null
        ],
        [
         "19",
         "OBS",
         "10-WOODS CROSS STATION",
         "walk",
         "173.169",
         "0.0",
         "0.0",
         "5672.892",
         "0.0",
         "0.0",
         "0.030525700119092697",
         null,
         null
        ],
        [
         "20",
         "OBS",
         "11-FARMINGTON STATION",
         "drive",
         "385.481",
         "0.0",
         "0.0",
         "14955.118",
         "0.0",
         "0.0",
         "0.025775858137662304",
         null,
         null
        ],
        [
         "21",
         "OBS",
         "11-FARMINGTON STATION",
         "walk",
         "120.055",
         "0.0",
         "0.0",
         "5672.892",
         "0.0",
         "0.0",
         "0.021162927127821227",
         null,
         null
        ],
        [
         "22",
         "OBS",
         "12-LAYTON STATION",
         "drive",
         "1113.116",
         "0.0",
         "0.0",
         "14955.118",
         "0.0",
         "0.0",
         "0.07443043913127265",
         null,
         null
        ],
        [
         "23",
         "OBS",
         "12-LAYTON STATION",
         "walk",
         "384.134",
         "0.0",
         "0.0",
         "5672.892",
         "0.0",
         "0.0",
         "0.06771396317786413",
         null,
         null
        ],
        [
         "24",
         "OBS",
         "13-CLEARFIELD STATION",
         "drive",
         "745.345",
         "0.0",
         "0.0",
         "14955.118",
         "0.0",
         "0.0",
         "0.049838790974434305",
         null,
         null
        ],
        [
         "25",
         "OBS",
         "13-CLEARFIELD STATION",
         "walk",
         "238.296",
         "0.0",
         "0.0",
         "5672.892",
         "0.0",
         "0.0",
         "0.04200608790013982",
         null,
         null
        ],
        [
         "26",
         "OBS",
         "14-ROY STATION",
         "drive",
         "699.224",
         "0.0",
         "0.0",
         "14955.118",
         "0.0",
         "0.0",
         "0.0467548300187267",
         null,
         null
        ],
        [
         "27",
         "OBS",
         "14-ROY STATION",
         "walk",
         "168.575",
         "0.0",
         "0.0",
         "5672.892",
         "0.0",
         "0.0",
         "0.029715883891320335",
         null,
         null
        ],
        [
         "28",
         "OBS",
         "15-OGDEN STATION",
         "drive",
         "1452.874",
         "0.0",
         "0.0",
         "14955.118",
         "0.0",
         "0.0",
         "0.09714894927609398",
         null,
         null
        ],
        [
         "29",
         "OBS",
         "15-OGDEN STATION",
         "walk",
         "495.237",
         "0.0",
         "0.0",
         "5672.892",
         "0.0",
         "0.0",
         "0.08729885920620382",
         null,
         null
        ],
        [
         "30",
         "TDM_M1",
         "01-PROVO CENTRAL STATION",
         "drive",
         "140.32",
         "139.95",
         "0.37",
         "10300.06",
         "10299.56",
         "0.5",
         "0.013623221612301287",
         "0.013587959097281825",
         "0.74"
        ],
        [
         "31",
         "TDM_M1",
         "02-OREM CENTRAL STATION",
         "drive",
         "642.94",
         "642.9",
         "0.04",
         "10300.06",
         "10299.56",
         "0.5",
         "0.06242099560585085",
         "0.062420142219667636",
         "0.08"
        ],
        [
         "32",
         "TDM_M1",
         "03-AMERICAN FORK STATION",
         "drive",
         "1024.69",
         "1024.56",
         "0.13",
         "10300.06",
         "10299.56",
         "0.5",
         "0.09948388650163204",
         "0.09947609412440919",
         "0.26"
        ],
        [
         "33",
         "TDM_M1",
         "04-LEHI STATION",
         "drive",
         "1137.62",
         "1137.7",
         "-0.08",
         "10300.06",
         "10299.56",
         "0.5",
         "0.11044790030349337",
         "0.11046102940319781",
         "-0.16"
        ],
        [
         "34",
         "TDM_M1",
         "05-DRAPER STATION",
         "drive",
         "814.67",
         "814.61",
         "0.06",
         "10300.06",
         "10299.56",
         "0.5",
         "0.0790937140171999",
         "0.07909172819033046",
         "0.12"
        ],
        [
         "35",
         "TDM_M1",
         "06-SOUTH JORDAN STATION",
         "drive",
         "1168.9",
         "1168.91",
         "-0.01",
         "10300.06",
         "10299.56",
         "0.5",
         "0.11348477581683991",
         "0.11349125593714685",
         "-0.02"
        ],
        [
         "36",
         "TDM_M1",
         "07-MURRAY CENTRAL STATION",
         "drive",
         "776.73",
         "776.95",
         "-0.22",
         "10300.06",
         "10299.56",
         "0.5",
         "0.07541024032869711",
         "0.07543526131213373",
         "-0.44"
        ],
        [
         "37",
         "TDM_M1",
         "08-SALT LAKE CENTRAL STATION",
         "drive",
         "133.64",
         "133.54",
         "0.1",
         "10300.06",
         "10299.56",
         "0.5",
         "0.012974681700883296",
         "0.012965602414083708",
         "0.2"
        ],
        [
         "38",
         "TDM_M1",
         "09-NORTH TEMPLE STATION",
         "drive",
         "58.47",
         "58.43",
         "0.04",
         "10300.06",
         "10299.56",
         "0.5",
         "0.005676665961169158",
         "0.005673057878200622",
         "0.08"
        ],
        [
         "39",
         "TDM_M1",
         "10-WOODS CROSS STATION",
         "drive",
         "1122.82",
         "1122.81",
         "0.01",
         "10300.06",
         "10299.56",
         "0.5",
         "0.1090110154698128",
         "0.10901533657748487",
         "0.02"
        ],
        [
         "40",
         "TDM_M1",
         "11-FARMINGTON STATION",
         "drive",
         "635.06",
         "635.05",
         "0.01",
         "10300.06",
         "10299.56",
         "0.5",
         "0.06165595151872901",
         "0.06165797373868398",
         "0.02"
        ],
        [
         "41",
         "TDM_M1",
         "12-LAYTON STATION",
         "drive",
         "765.85",
         "765.82",
         "0.03",
         "10300.06",
         "10299.56",
         "0.5",
         "0.07435393580231572",
         "0.07435463262508302",
         "0.06"
        ],
        [
         "42",
         "TDM_M1",
         "13-CLEARFIELD STATION",
         "drive",
         "643.52",
         "643.51",
         "0.01",
         "10300.06",
         "10299.56",
         "0.5",
         "0.062477305957441026",
         "0.062479368050674014",
         "0.02"
        ],
        [
         "43",
         "TDM_M1",
         "14-ROY STATION",
         "drive",
         "715.95",
         "715.97",
         "-0.02",
         "10300.06",
         "10299.56",
         "0.5",
         "0.06950930382929808",
         "0.06951462004202122",
         "-0.04"
        ],
        [
         "44",
         "TDM_M1",
         "15-OGDEN STATION",
         "drive",
         "518.88",
         "518.85",
         "0.03",
         "10300.06",
         "10299.56",
         "0.5",
         "0.05037640557433646",
         "0.05037593838960112",
         "0.06"
        ],
        [
         "45",
         "TDM_M1",
         "01-PROVO CENTRAL STATION",
         "walk",
         "1036.49",
         "165.78",
         "870.71",
         "5579.27",
         "2588.47",
         "2990.8",
         "0.18577519998135955",
         "0.06404555586891099",
         "0.2911294636886452"
        ],
        [
         "46",
         "TDM_M1",
         "02-OREM CENTRAL STATION",
         "walk",
         "293.39",
         "151.44",
         "141.95",
         "5579.27",
         "2588.47",
         "2990.8",
         "0.05258573254207091",
         "0.05850560369639208",
         "0.04746221746689848"
        ],
        [
         "47",
         "TDM_M1",
         "03-AMERICAN FORK STATION",
         "walk",
         "81.61",
         "81.59",
         "0.02",
         "5579.27",
         "2588.47",
         "2990.8",
         "0.014627361644086054",
         "0.03152055075005699",
         "6.687174000267487e-06"
        ],
        [
         "48",
         "TDM_M1",
         "04-LEHI STATION",
         "walk",
         "252.03",
         "165.43",
         "86.6",
         "5579.27",
         "2588.47",
         "2990.8",
         "0.045172576340632375",
         "0.06391034085772677",
         "0.028955463421158213"
        ],
        [
         "49",
         "TDM_M1",
         "05-DRAPER STATION",
         "walk",
         "171.7",
         "170.64",
         "1.06",
         "5579.27",
         "2588.47",
         "2990.8",
         "0.0307746353913684",
         "0.06592311288135462",
         "0.00035442022201417683"
        ]
       ],
       "shape": {
        "columns": 12,
        "rows": 135
       }
      },
      "text/html": [
       "<div>\n",
       "<style scoped>\n",
       "    .dataframe tbody tr th:only-of-type {\n",
       "        vertical-align: middle;\n",
       "    }\n",
       "\n",
       "    .dataframe tbody tr th {\n",
       "        vertical-align: top;\n",
       "    }\n",
       "\n",
       "    .dataframe thead th {\n",
       "        text-align: right;\n",
       "    }\n",
       "</style>\n",
       "<table border=\"1\" class=\"dataframe\">\n",
       "  <thead>\n",
       "    <tr style=\"text-align: right;\">\n",
       "      <th></th>\n",
       "      <th>Source</th>\n",
       "      <th>station</th>\n",
       "      <th>AccessMode</th>\n",
       "      <th>Brd_PA</th>\n",
       "      <th>Brd_Direct_PA</th>\n",
       "      <th>Brd_Transfer_PA</th>\n",
       "      <th>Source_Brd_PA</th>\n",
       "      <th>Source_Brd_Direct_PA</th>\n",
       "      <th>Source_Brd_Transfer_PA</th>\n",
       "      <th>Brd_PA_Perc</th>\n",
       "      <th>Brd_Direct_PA_Perc</th>\n",
       "      <th>Brd_Transfer_PA_Perc</th>\n",
       "    </tr>\n",
       "  </thead>\n",
       "  <tbody>\n",
       "    <tr>\n",
       "      <th>0</th>\n",
       "      <td>OBS</td>\n",
       "      <td>01-PROVO CENTRAL STATION</td>\n",
       "      <td>drive</td>\n",
       "      <td>2283.379</td>\n",
       "      <td>0.00</td>\n",
       "      <td>0.00</td>\n",
       "      <td>14955.118</td>\n",
       "      <td>0.00</td>\n",
       "      <td>0.0</td>\n",
       "      <td>0.152682</td>\n",
       "      <td>NaN</td>\n",
       "      <td>NaN</td>\n",
       "    </tr>\n",
       "    <tr>\n",
       "      <th>1</th>\n",
       "      <td>OBS</td>\n",
       "      <td>01-PROVO CENTRAL STATION</td>\n",
       "      <td>walk</td>\n",
       "      <td>945.908</td>\n",
       "      <td>0.00</td>\n",
       "      <td>0.00</td>\n",
       "      <td>5672.892</td>\n",
       "      <td>0.00</td>\n",
       "      <td>0.0</td>\n",
       "      <td>0.166742</td>\n",
       "      <td>NaN</td>\n",
       "      <td>NaN</td>\n",
       "    </tr>\n",
       "    <tr>\n",
       "      <th>2</th>\n",
       "      <td>OBS</td>\n",
       "      <td>02-OREM CENTRAL STATION</td>\n",
       "      <td>drive</td>\n",
       "      <td>1475.024</td>\n",
       "      <td>0.00</td>\n",
       "      <td>0.00</td>\n",
       "      <td>14955.118</td>\n",
       "      <td>0.00</td>\n",
       "      <td>0.0</td>\n",
       "      <td>0.098630</td>\n",
       "      <td>NaN</td>\n",
       "      <td>NaN</td>\n",
       "    </tr>\n",
       "    <tr>\n",
       "      <th>3</th>\n",
       "      <td>OBS</td>\n",
       "      <td>02-OREM CENTRAL STATION</td>\n",
       "      <td>walk</td>\n",
       "      <td>371.804</td>\n",
       "      <td>0.00</td>\n",
       "      <td>0.00</td>\n",
       "      <td>5672.892</td>\n",
       "      <td>0.00</td>\n",
       "      <td>0.0</td>\n",
       "      <td>0.065540</td>\n",
       "      <td>NaN</td>\n",
       "      <td>NaN</td>\n",
       "    </tr>\n",
       "    <tr>\n",
       "      <th>4</th>\n",
       "      <td>OBS</td>\n",
       "      <td>03-AMERICAN FORK STATION</td>\n",
       "      <td>drive</td>\n",
       "      <td>1423.768</td>\n",
       "      <td>0.00</td>\n",
       "      <td>0.00</td>\n",
       "      <td>14955.118</td>\n",
       "      <td>0.00</td>\n",
       "      <td>0.0</td>\n",
       "      <td>0.095203</td>\n",
       "      <td>NaN</td>\n",
       "      <td>NaN</td>\n",
       "    </tr>\n",
       "    <tr>\n",
       "      <th>...</th>\n",
       "      <td>...</td>\n",
       "      <td>...</td>\n",
       "      <td>...</td>\n",
       "      <td>...</td>\n",
       "      <td>...</td>\n",
       "      <td>...</td>\n",
       "      <td>...</td>\n",
       "      <td>...</td>\n",
       "      <td>...</td>\n",
       "      <td>...</td>\n",
       "      <td>...</td>\n",
       "      <td>...</td>\n",
       "    </tr>\n",
       "    <tr>\n",
       "      <th>130</th>\n",
       "      <td>TDM_M1</td>\n",
       "      <td>11-FARMINGTON STATION</td>\n",
       "      <td>All</td>\n",
       "      <td>815.360</td>\n",
       "      <td>759.86</td>\n",
       "      <td>55.50</td>\n",
       "      <td>15879.330</td>\n",
       "      <td>12888.03</td>\n",
       "      <td>2991.3</td>\n",
       "      <td>0.051347</td>\n",
       "      <td>0.058959</td>\n",
       "      <td>0.018554</td>\n",
       "    </tr>\n",
       "    <tr>\n",
       "      <th>131</th>\n",
       "      <td>TDM_M1</td>\n",
       "      <td>12-LAYTON STATION</td>\n",
       "      <td>All</td>\n",
       "      <td>1093.280</td>\n",
       "      <td>905.94</td>\n",
       "      <td>187.34</td>\n",
       "      <td>15879.330</td>\n",
       "      <td>12888.03</td>\n",
       "      <td>2991.3</td>\n",
       "      <td>0.068849</td>\n",
       "      <td>0.070293</td>\n",
       "      <td>0.062628</td>\n",
       "    </tr>\n",
       "    <tr>\n",
       "      <th>132</th>\n",
       "      <td>TDM_M1</td>\n",
       "      <td>13-CLEARFIELD STATION</td>\n",
       "      <td>All</td>\n",
       "      <td>1226.480</td>\n",
       "      <td>1104.21</td>\n",
       "      <td>122.27</td>\n",
       "      <td>15879.330</td>\n",
       "      <td>12888.03</td>\n",
       "      <td>2991.3</td>\n",
       "      <td>0.077238</td>\n",
       "      <td>0.085677</td>\n",
       "      <td>0.040875</td>\n",
       "    </tr>\n",
       "    <tr>\n",
       "      <th>133</th>\n",
       "      <td>TDM_M1</td>\n",
       "      <td>14-ROY STATION</td>\n",
       "      <td>All</td>\n",
       "      <td>1027.030</td>\n",
       "      <td>1003.65</td>\n",
       "      <td>23.38</td>\n",
       "      <td>15879.330</td>\n",
       "      <td>12888.03</td>\n",
       "      <td>2991.3</td>\n",
       "      <td>0.064677</td>\n",
       "      <td>0.077875</td>\n",
       "      <td>0.007816</td>\n",
       "    </tr>\n",
       "    <tr>\n",
       "      <th>134</th>\n",
       "      <td>TDM_M1</td>\n",
       "      <td>15-OGDEN STATION</td>\n",
       "      <td>All</td>\n",
       "      <td>1075.760</td>\n",
       "      <td>577.86</td>\n",
       "      <td>497.90</td>\n",
       "      <td>15879.330</td>\n",
       "      <td>12888.03</td>\n",
       "      <td>2991.3</td>\n",
       "      <td>0.067746</td>\n",
       "      <td>0.044837</td>\n",
       "      <td>0.166449</td>\n",
       "    </tr>\n",
       "  </tbody>\n",
       "</table>\n",
       "<p>135 rows × 12 columns</p>\n",
       "</div>"
      ],
      "text/plain": [
       "     Source                   station AccessMode    Brd_PA  Brd_Direct_PA  \\\n",
       "0       OBS  01-PROVO CENTRAL STATION      drive  2283.379           0.00   \n",
       "1       OBS  01-PROVO CENTRAL STATION       walk   945.908           0.00   \n",
       "2       OBS   02-OREM CENTRAL STATION      drive  1475.024           0.00   \n",
       "3       OBS   02-OREM CENTRAL STATION       walk   371.804           0.00   \n",
       "4       OBS  03-AMERICAN FORK STATION      drive  1423.768           0.00   \n",
       "..      ...                       ...        ...       ...            ...   \n",
       "130  TDM_M1     11-FARMINGTON STATION        All   815.360         759.86   \n",
       "131  TDM_M1         12-LAYTON STATION        All  1093.280         905.94   \n",
       "132  TDM_M1     13-CLEARFIELD STATION        All  1226.480        1104.21   \n",
       "133  TDM_M1            14-ROY STATION        All  1027.030        1003.65   \n",
       "134  TDM_M1          15-OGDEN STATION        All  1075.760         577.86   \n",
       "\n",
       "     Brd_Transfer_PA  Source_Brd_PA  Source_Brd_Direct_PA  \\\n",
       "0               0.00      14955.118                  0.00   \n",
       "1               0.00       5672.892                  0.00   \n",
       "2               0.00      14955.118                  0.00   \n",
       "3               0.00       5672.892                  0.00   \n",
       "4               0.00      14955.118                  0.00   \n",
       "..               ...            ...                   ...   \n",
       "130            55.50      15879.330              12888.03   \n",
       "131           187.34      15879.330              12888.03   \n",
       "132           122.27      15879.330              12888.03   \n",
       "133            23.38      15879.330              12888.03   \n",
       "134           497.90      15879.330              12888.03   \n",
       "\n",
       "     Source_Brd_Transfer_PA  Brd_PA_Perc  Brd_Direct_PA_Perc  \\\n",
       "0                       0.0     0.152682                 NaN   \n",
       "1                       0.0     0.166742                 NaN   \n",
       "2                       0.0     0.098630                 NaN   \n",
       "3                       0.0     0.065540                 NaN   \n",
       "4                       0.0     0.095203                 NaN   \n",
       "..                      ...          ...                 ...   \n",
       "130                  2991.3     0.051347            0.058959   \n",
       "131                  2991.3     0.068849            0.070293   \n",
       "132                  2991.3     0.077238            0.085677   \n",
       "133                  2991.3     0.064677            0.077875   \n",
       "134                  2991.3     0.067746            0.044837   \n",
       "\n",
       "     Brd_Transfer_PA_Perc  \n",
       "0                     NaN  \n",
       "1                     NaN  \n",
       "2                     NaN  \n",
       "3                     NaN  \n",
       "4                     NaN  \n",
       "..                    ...  \n",
       "130              0.018554  \n",
       "131              0.062628  \n",
       "132              0.040875  \n",
       "133              0.007816  \n",
       "134              0.166449  \n",
       "\n",
       "[135 rows x 12 columns]"
      ]
     },
     "execution_count": 35,
     "metadata": {},
     "output_type": "execute_result"
    }
   ],
   "source": [
    "# add a few more columns regarding percentage of boardings in relation to total boardings\n",
    "\n",
    "# sum by source and station \n",
    "station_sum = sumStats.groupby([\"Source\", \"station\"], as_index=False).agg({\n",
    "    f\"Brd_{pa_od}\": \"sum\",\n",
    "    f\"Brd_Direct_{pa_od}\": \"sum\",\n",
    "    f\"Brd_Transfer_{pa_od}\": \"sum\"\n",
    "})\n",
    "\n",
    "# add All accessMode\n",
    "station_sum[\"AccessMode\"] = \"All\"\n",
    "sumStats2 = pd.concat([sumStats, station_sum], ignore_index=True) \n",
    "\n",
    "accessmode_sum = sumStats2.groupby([\"Source\", \"AccessMode\"], as_index=False).agg({\n",
    "    f\"Brd_{pa_od}\": \"sum\",\n",
    "    f\"Brd_Direct_{pa_od}\": \"sum\",\n",
    "    f\"Brd_Transfer_{pa_od}\": \"sum\"\n",
    "})\n",
    "\n",
    "accessmode_sum.rename(columns={\n",
    "    f\"Brd_{pa_od}\": f\"Source_Brd_{pa_od}\", \n",
    "    f\"Brd_Direct_{pa_od}\": f\"Source_Brd_Direct_{pa_od}\", \n",
    "    f\"Brd_Transfer_{pa_od}\": f\"Source_Brd_Transfer_{pa_od}\"}, inplace=True)\n",
    "sumStatsP = sumStats2.merge(accessmode_sum, on=[\"Source\", \"AccessMode\"], how=\"left\")\n",
    "\n",
    "sumStatsP[f\"Brd_{pa_od}_Perc\"]          = sumStatsP[f\"Brd_{pa_od}\"] / sumStatsP[f\"Source_Brd_{pa_od}\"]\n",
    "sumStatsP[f\"Brd_Direct_{pa_od}_Perc\"]   = sumStatsP[f\"Brd_Direct_{pa_od}\"] / sumStatsP[f\"Source_Brd_Direct_{pa_od}\"]\n",
    "sumStatsP[f\"Brd_Transfer_{pa_od}_Perc\"] = sumStatsP[f\"Brd_Transfer_{pa_od}\"] / sumStatsP[f\"Source_Brd_Transfer_{pa_od}\"]\n",
    "sumStatsP\n"
   ]
  },
  {
   "cell_type": "code",
   "execution_count": 36,
   "metadata": {},
   "outputs": [],
   "source": [
    "def plotit(variable, access_mode):\n",
    "    output.clear_output()  # Clear previous output before displaying new content\n",
    "    global firstTime\n",
    "    if firstTime:\n",
    "    \n",
    "        filtered_data = sumStatsP[sumStatsP['AccessMode'] == access_mode]\n",
    "            \n",
    "        # Create histogram\n",
    "        fig = px.histogram(\n",
    "            filtered_data, \n",
    "            x=\"station\", \n",
    "            y=variable, \n",
    "            text_auto='.2s',\n",
    "            color='Source', \n",
    "            barmode='group',\n",
    "            height=400\n",
    "        )\n",
    "        fig.update_layout(\n",
    "            xaxis_title=\"Station Name\",\n",
    "            yaxis_title=str(variable),\n",
    "            legend_title=\"Model Version\"\n",
    "        )\n",
    "        \n",
    "        # Display the plot\n",
    "        fig.show()\n",
    "    \n",
    "    else:\n",
    "        firstTime = True"
   ]
  },
  {
   "cell_type": "code",
   "execution_count": 37,
   "metadata": {},
   "outputs": [
    {
     "data": {
      "application/vnd.jupyter.widget-view+json": {
       "model_id": "022baaa9fff345a19e40e5d7230efeb7",
       "version_major": 2,
       "version_minor": 0
      },
      "text/plain": [
       "HBox(children=(Select(description='Select Variable', options=('Brd_PA', 'Brd_Direct_PA', 'Brd_Transfer_PA', 'B…"
      ]
     },
     "metadata": {},
     "output_type": "display_data"
    },
    {
     "data": {
      "application/vnd.jupyter.widget-view+json": {
       "model_id": "96a2e76578604167befbc6a1b7be5b2c",
       "version_major": 2,
       "version_minor": 0
      },
      "text/plain": [
       "Output()"
      ]
     },
     "metadata": {},
     "output_type": "display_data"
    },
    {
     "data": {
      "application/vnd.plotly.v1+json": {
       "config": {
        "plotlyServerURL": "https://plot.ly"
       },
       "data": [
        {
         "alignmentgroup": "True",
         "bingroup": "x",
         "histfunc": "sum",
         "hovertemplate": "Source=OBS<br>station=%{x}<br>sum of Brd_PA=%{y}<extra></extra>",
         "legendgroup": "OBS",
         "marker": {
          "color": "#636efa",
          "pattern": {
           "shape": ""
          }
         },
         "name": "OBS",
         "offsetgroup": "OBS",
         "orientation": "v",
         "showlegend": true,
         "texttemplate": "%{value:.2s}",
         "type": "histogram",
         "x": [
          "01-PROVO CENTRAL STATION",
          "02-OREM CENTRAL STATION",
          "03-AMERICAN FORK STATION",
          "04-LEHI STATION",
          "05-DRAPER STATION",
          "06-SOUTH JORDAN STATION",
          "07-MURRAY CENTRAL STATION",
          "08-SALT LAKE CENTRAL STATION",
          "09-NORTH TEMPLE STATION",
          "10-WOODS CROSS STATION",
          "11-FARMINGTON STATION",
          "12-LAYTON STATION",
          "13-CLEARFIELD STATION",
          "14-ROY STATION",
          "15-OGDEN STATION"
         ],
         "xaxis": "x",
         "y": [
          2283.379,
          1475.024,
          1423.768,
          1128.372,
          935.648,
          985.477,
          1029.668,
          367.738,
          335.673,
          594.331,
          385.481,
          1113.116,
          745.345,
          699.224,
          1452.874
         ],
         "yaxis": "y"
        },
        {
         "alignmentgroup": "True",
         "bingroup": "x",
         "histfunc": "sum",
         "hovertemplate": "Source=TDM_M1<br>station=%{x}<br>sum of Brd_PA=%{y}<extra></extra>",
         "legendgroup": "TDM_M1",
         "marker": {
          "color": "#EF553B",
          "pattern": {
           "shape": ""
          }
         },
         "name": "TDM_M1",
         "offsetgroup": "TDM_M1",
         "orientation": "v",
         "showlegend": true,
         "texttemplate": "%{value:.2s}",
         "type": "histogram",
         "x": [
          "01-PROVO CENTRAL STATION",
          "02-OREM CENTRAL STATION",
          "03-AMERICAN FORK STATION",
          "04-LEHI STATION",
          "05-DRAPER STATION",
          "06-SOUTH JORDAN STATION",
          "07-MURRAY CENTRAL STATION",
          "08-SALT LAKE CENTRAL STATION",
          "09-NORTH TEMPLE STATION",
          "10-WOODS CROSS STATION",
          "11-FARMINGTON STATION",
          "12-LAYTON STATION",
          "13-CLEARFIELD STATION",
          "14-ROY STATION",
          "15-OGDEN STATION"
         ],
         "xaxis": "x",
         "y": [
          140.32,
          642.94,
          1024.69,
          1137.62,
          814.67,
          1168.9,
          776.73,
          133.64,
          58.47,
          1122.82,
          635.06,
          765.85,
          643.52,
          715.95,
          518.88
         ],
         "yaxis": "y"
        },
        {
         "alignmentgroup": "True",
         "bingroup": "x",
         "histfunc": "sum",
         "hovertemplate": "Source=TDM_2.9.1<br>station=%{x}<br>sum of Brd_PA=%{y}<extra></extra>",
         "legendgroup": "TDM_2.9.1",
         "marker": {
          "color": "#00cc96",
          "pattern": {
           "shape": ""
          }
         },
         "name": "TDM_2.9.1",
         "offsetgroup": "TDM_2.9.1",
         "orientation": "v",
         "showlegend": true,
         "texttemplate": "%{value:.2s}",
         "type": "histogram",
         "x": [
          "01-PROVO CENTRAL STATION",
          "02-OREM CENTRAL STATION",
          "03-AMERICAN FORK STATION",
          "04-LEHI STATION",
          "05-DRAPER STATION",
          "06-SOUTH JORDAN STATION",
          "07-MURRAY CENTRAL STATION",
          "08-SALT LAKE CENTRAL STATION",
          "09-NORTH TEMPLE STATION",
          "10-WOODS CROSS STATION",
          "11-FARMINGTON STATION",
          "12-LAYTON STATION",
          "13-CLEARFIELD STATION",
          "14-ROY STATION",
          "15-OGDEN STATION"
         ],
         "xaxis": "x",
         "y": [
          679.18,
          222.13,
          1248.84,
          679.82,
          995.19,
          1186.83,
          819.97,
          98.45,
          56.53,
          1047.33,
          401.32,
          851.58,
          702.16,
          628.46,
          703.13
         ],
         "yaxis": "y"
        }
       ],
       "layout": {
        "barmode": "group",
        "height": 400,
        "legend": {
         "title": {
          "text": "Model Version"
         },
         "tracegroupgap": 0
        },
        "margin": {
         "t": 60
        },
        "template": {
         "data": {
          "bar": [
           {
            "error_x": {
             "color": "#2a3f5f"
            },
            "error_y": {
             "color": "#2a3f5f"
            },
            "marker": {
             "line": {
              "color": "#E5ECF6",
              "width": 0.5
             },
             "pattern": {
              "fillmode": "overlay",
              "size": 10,
              "solidity": 0.2
             }
            },
            "type": "bar"
           }
          ],
          "barpolar": [
           {
            "marker": {
             "line": {
              "color": "#E5ECF6",
              "width": 0.5
             },
             "pattern": {
              "fillmode": "overlay",
              "size": 10,
              "solidity": 0.2
             }
            },
            "type": "barpolar"
           }
          ],
          "carpet": [
           {
            "aaxis": {
             "endlinecolor": "#2a3f5f",
             "gridcolor": "white",
             "linecolor": "white",
             "minorgridcolor": "white",
             "startlinecolor": "#2a3f5f"
            },
            "baxis": {
             "endlinecolor": "#2a3f5f",
             "gridcolor": "white",
             "linecolor": "white",
             "minorgridcolor": "white",
             "startlinecolor": "#2a3f5f"
            },
            "type": "carpet"
           }
          ],
          "choropleth": [
           {
            "colorbar": {
             "outlinewidth": 0,
             "ticks": ""
            },
            "type": "choropleth"
           }
          ],
          "contour": [
           {
            "colorbar": {
             "outlinewidth": 0,
             "ticks": ""
            },
            "colorscale": [
             [
              0,
              "#0d0887"
             ],
             [
              0.1111111111111111,
              "#46039f"
             ],
             [
              0.2222222222222222,
              "#7201a8"
             ],
             [
              0.3333333333333333,
              "#9c179e"
             ],
             [
              0.4444444444444444,
              "#bd3786"
             ],
             [
              0.5555555555555556,
              "#d8576b"
             ],
             [
              0.6666666666666666,
              "#ed7953"
             ],
             [
              0.7777777777777778,
              "#fb9f3a"
             ],
             [
              0.8888888888888888,
              "#fdca26"
             ],
             [
              1,
              "#f0f921"
             ]
            ],
            "type": "contour"
           }
          ],
          "contourcarpet": [
           {
            "colorbar": {
             "outlinewidth": 0,
             "ticks": ""
            },
            "type": "contourcarpet"
           }
          ],
          "heatmap": [
           {
            "colorbar": {
             "outlinewidth": 0,
             "ticks": ""
            },
            "colorscale": [
             [
              0,
              "#0d0887"
             ],
             [
              0.1111111111111111,
              "#46039f"
             ],
             [
              0.2222222222222222,
              "#7201a8"
             ],
             [
              0.3333333333333333,
              "#9c179e"
             ],
             [
              0.4444444444444444,
              "#bd3786"
             ],
             [
              0.5555555555555556,
              "#d8576b"
             ],
             [
              0.6666666666666666,
              "#ed7953"
             ],
             [
              0.7777777777777778,
              "#fb9f3a"
             ],
             [
              0.8888888888888888,
              "#fdca26"
             ],
             [
              1,
              "#f0f921"
             ]
            ],
            "type": "heatmap"
           }
          ],
          "heatmapgl": [
           {
            "colorbar": {
             "outlinewidth": 0,
             "ticks": ""
            },
            "colorscale": [
             [
              0,
              "#0d0887"
             ],
             [
              0.1111111111111111,
              "#46039f"
             ],
             [
              0.2222222222222222,
              "#7201a8"
             ],
             [
              0.3333333333333333,
              "#9c179e"
             ],
             [
              0.4444444444444444,
              "#bd3786"
             ],
             [
              0.5555555555555556,
              "#d8576b"
             ],
             [
              0.6666666666666666,
              "#ed7953"
             ],
             [
              0.7777777777777778,
              "#fb9f3a"
             ],
             [
              0.8888888888888888,
              "#fdca26"
             ],
             [
              1,
              "#f0f921"
             ]
            ],
            "type": "heatmapgl"
           }
          ],
          "histogram": [
           {
            "marker": {
             "pattern": {
              "fillmode": "overlay",
              "size": 10,
              "solidity": 0.2
             }
            },
            "type": "histogram"
           }
          ],
          "histogram2d": [
           {
            "colorbar": {
             "outlinewidth": 0,
             "ticks": ""
            },
            "colorscale": [
             [
              0,
              "#0d0887"
             ],
             [
              0.1111111111111111,
              "#46039f"
             ],
             [
              0.2222222222222222,
              "#7201a8"
             ],
             [
              0.3333333333333333,
              "#9c179e"
             ],
             [
              0.4444444444444444,
              "#bd3786"
             ],
             [
              0.5555555555555556,
              "#d8576b"
             ],
             [
              0.6666666666666666,
              "#ed7953"
             ],
             [
              0.7777777777777778,
              "#fb9f3a"
             ],
             [
              0.8888888888888888,
              "#fdca26"
             ],
             [
              1,
              "#f0f921"
             ]
            ],
            "type": "histogram2d"
           }
          ],
          "histogram2dcontour": [
           {
            "colorbar": {
             "outlinewidth": 0,
             "ticks": ""
            },
            "colorscale": [
             [
              0,
              "#0d0887"
             ],
             [
              0.1111111111111111,
              "#46039f"
             ],
             [
              0.2222222222222222,
              "#7201a8"
             ],
             [
              0.3333333333333333,
              "#9c179e"
             ],
             [
              0.4444444444444444,
              "#bd3786"
             ],
             [
              0.5555555555555556,
              "#d8576b"
             ],
             [
              0.6666666666666666,
              "#ed7953"
             ],
             [
              0.7777777777777778,
              "#fb9f3a"
             ],
             [
              0.8888888888888888,
              "#fdca26"
             ],
             [
              1,
              "#f0f921"
             ]
            ],
            "type": "histogram2dcontour"
           }
          ],
          "mesh3d": [
           {
            "colorbar": {
             "outlinewidth": 0,
             "ticks": ""
            },
            "type": "mesh3d"
           }
          ],
          "parcoords": [
           {
            "line": {
             "colorbar": {
              "outlinewidth": 0,
              "ticks": ""
             }
            },
            "type": "parcoords"
           }
          ],
          "pie": [
           {
            "automargin": true,
            "type": "pie"
           }
          ],
          "scatter": [
           {
            "fillpattern": {
             "fillmode": "overlay",
             "size": 10,
             "solidity": 0.2
            },
            "type": "scatter"
           }
          ],
          "scatter3d": [
           {
            "line": {
             "colorbar": {
              "outlinewidth": 0,
              "ticks": ""
             }
            },
            "marker": {
             "colorbar": {
              "outlinewidth": 0,
              "ticks": ""
             }
            },
            "type": "scatter3d"
           }
          ],
          "scattercarpet": [
           {
            "marker": {
             "colorbar": {
              "outlinewidth": 0,
              "ticks": ""
             }
            },
            "type": "scattercarpet"
           }
          ],
          "scattergeo": [
           {
            "marker": {
             "colorbar": {
              "outlinewidth": 0,
              "ticks": ""
             }
            },
            "type": "scattergeo"
           }
          ],
          "scattergl": [
           {
            "marker": {
             "colorbar": {
              "outlinewidth": 0,
              "ticks": ""
             }
            },
            "type": "scattergl"
           }
          ],
          "scattermapbox": [
           {
            "marker": {
             "colorbar": {
              "outlinewidth": 0,
              "ticks": ""
             }
            },
            "type": "scattermapbox"
           }
          ],
          "scatterpolar": [
           {
            "marker": {
             "colorbar": {
              "outlinewidth": 0,
              "ticks": ""
             }
            },
            "type": "scatterpolar"
           }
          ],
          "scatterpolargl": [
           {
            "marker": {
             "colorbar": {
              "outlinewidth": 0,
              "ticks": ""
             }
            },
            "type": "scatterpolargl"
           }
          ],
          "scatterternary": [
           {
            "marker": {
             "colorbar": {
              "outlinewidth": 0,
              "ticks": ""
             }
            },
            "type": "scatterternary"
           }
          ],
          "surface": [
           {
            "colorbar": {
             "outlinewidth": 0,
             "ticks": ""
            },
            "colorscale": [
             [
              0,
              "#0d0887"
             ],
             [
              0.1111111111111111,
              "#46039f"
             ],
             [
              0.2222222222222222,
              "#7201a8"
             ],
             [
              0.3333333333333333,
              "#9c179e"
             ],
             [
              0.4444444444444444,
              "#bd3786"
             ],
             [
              0.5555555555555556,
              "#d8576b"
             ],
             [
              0.6666666666666666,
              "#ed7953"
             ],
             [
              0.7777777777777778,
              "#fb9f3a"
             ],
             [
              0.8888888888888888,
              "#fdca26"
             ],
             [
              1,
              "#f0f921"
             ]
            ],
            "type": "surface"
           }
          ],
          "table": [
           {
            "cells": {
             "fill": {
              "color": "#EBF0F8"
             },
             "line": {
              "color": "white"
             }
            },
            "header": {
             "fill": {
              "color": "#C8D4E3"
             },
             "line": {
              "color": "white"
             }
            },
            "type": "table"
           }
          ]
         },
         "layout": {
          "annotationdefaults": {
           "arrowcolor": "#2a3f5f",
           "arrowhead": 0,
           "arrowwidth": 1
          },
          "autotypenumbers": "strict",
          "coloraxis": {
           "colorbar": {
            "outlinewidth": 0,
            "ticks": ""
           }
          },
          "colorscale": {
           "diverging": [
            [
             0,
             "#8e0152"
            ],
            [
             0.1,
             "#c51b7d"
            ],
            [
             0.2,
             "#de77ae"
            ],
            [
             0.3,
             "#f1b6da"
            ],
            [
             0.4,
             "#fde0ef"
            ],
            [
             0.5,
             "#f7f7f7"
            ],
            [
             0.6,
             "#e6f5d0"
            ],
            [
             0.7,
             "#b8e186"
            ],
            [
             0.8,
             "#7fbc41"
            ],
            [
             0.9,
             "#4d9221"
            ],
            [
             1,
             "#276419"
            ]
           ],
           "sequential": [
            [
             0,
             "#0d0887"
            ],
            [
             0.1111111111111111,
             "#46039f"
            ],
            [
             0.2222222222222222,
             "#7201a8"
            ],
            [
             0.3333333333333333,
             "#9c179e"
            ],
            [
             0.4444444444444444,
             "#bd3786"
            ],
            [
             0.5555555555555556,
             "#d8576b"
            ],
            [
             0.6666666666666666,
             "#ed7953"
            ],
            [
             0.7777777777777778,
             "#fb9f3a"
            ],
            [
             0.8888888888888888,
             "#fdca26"
            ],
            [
             1,
             "#f0f921"
            ]
           ],
           "sequentialminus": [
            [
             0,
             "#0d0887"
            ],
            [
             0.1111111111111111,
             "#46039f"
            ],
            [
             0.2222222222222222,
             "#7201a8"
            ],
            [
             0.3333333333333333,
             "#9c179e"
            ],
            [
             0.4444444444444444,
             "#bd3786"
            ],
            [
             0.5555555555555556,
             "#d8576b"
            ],
            [
             0.6666666666666666,
             "#ed7953"
            ],
            [
             0.7777777777777778,
             "#fb9f3a"
            ],
            [
             0.8888888888888888,
             "#fdca26"
            ],
            [
             1,
             "#f0f921"
            ]
           ]
          },
          "colorway": [
           "#636efa",
           "#EF553B",
           "#00cc96",
           "#ab63fa",
           "#FFA15A",
           "#19d3f3",
           "#FF6692",
           "#B6E880",
           "#FF97FF",
           "#FECB52"
          ],
          "font": {
           "color": "#2a3f5f"
          },
          "geo": {
           "bgcolor": "white",
           "lakecolor": "white",
           "landcolor": "#E5ECF6",
           "showlakes": true,
           "showland": true,
           "subunitcolor": "white"
          },
          "hoverlabel": {
           "align": "left"
          },
          "hovermode": "closest",
          "mapbox": {
           "style": "light"
          },
          "paper_bgcolor": "white",
          "plot_bgcolor": "#E5ECF6",
          "polar": {
           "angularaxis": {
            "gridcolor": "white",
            "linecolor": "white",
            "ticks": ""
           },
           "bgcolor": "#E5ECF6",
           "radialaxis": {
            "gridcolor": "white",
            "linecolor": "white",
            "ticks": ""
           }
          },
          "scene": {
           "xaxis": {
            "backgroundcolor": "#E5ECF6",
            "gridcolor": "white",
            "gridwidth": 2,
            "linecolor": "white",
            "showbackground": true,
            "ticks": "",
            "zerolinecolor": "white"
           },
           "yaxis": {
            "backgroundcolor": "#E5ECF6",
            "gridcolor": "white",
            "gridwidth": 2,
            "linecolor": "white",
            "showbackground": true,
            "ticks": "",
            "zerolinecolor": "white"
           },
           "zaxis": {
            "backgroundcolor": "#E5ECF6",
            "gridcolor": "white",
            "gridwidth": 2,
            "linecolor": "white",
            "showbackground": true,
            "ticks": "",
            "zerolinecolor": "white"
           }
          },
          "shapedefaults": {
           "line": {
            "color": "#2a3f5f"
           }
          },
          "ternary": {
           "aaxis": {
            "gridcolor": "white",
            "linecolor": "white",
            "ticks": ""
           },
           "baxis": {
            "gridcolor": "white",
            "linecolor": "white",
            "ticks": ""
           },
           "bgcolor": "#E5ECF6",
           "caxis": {
            "gridcolor": "white",
            "linecolor": "white",
            "ticks": ""
           }
          },
          "title": {
           "x": 0.05
          },
          "xaxis": {
           "automargin": true,
           "gridcolor": "white",
           "linecolor": "white",
           "ticks": "",
           "title": {
            "standoff": 15
           },
           "zerolinecolor": "white",
           "zerolinewidth": 2
          },
          "yaxis": {
           "automargin": true,
           "gridcolor": "white",
           "linecolor": "white",
           "ticks": "",
           "title": {
            "standoff": 15
           },
           "zerolinecolor": "white",
           "zerolinewidth": 2
          }
         }
        },
        "xaxis": {
         "anchor": "y",
         "domain": [
          0,
          1
         ],
         "title": {
          "text": "Station Name"
         }
        },
        "yaxis": {
         "anchor": "x",
         "domain": [
          0,
          1
         ],
         "title": {
          "text": "Brd_PA"
         }
        }
       }
      }
     },
     "metadata": {},
     "output_type": "display_data"
    },
    {
     "data": {
      "application/vnd.jupyter.widget-view+json": {
       "model_id": "096925a6452a451d97c316fb6f45c676",
       "version_major": 2,
       "version_minor": 0
      },
      "text/plain": [
       "Output()"
      ]
     },
     "metadata": {},
     "output_type": "display_data"
    }
   ],
   "source": [
    "lstValues = list([\n",
    "    f'Brd_{pa_od}',\n",
    "    f'Brd_Direct_{pa_od}',\n",
    "    f'Brd_Transfer_{pa_od}',\n",
    "    f'Brd_{pa_od}_Perc',\n",
    "    f'Brd_Direct_{pa_od}_Perc',\n",
    "    f'Brd_Transfer_{pa_od}_Perc'])\n",
    "accessModeOptions = ['drive', 'walk', 'All']\n",
    "\n",
    "selectValues = widgets.Select(options=lstValues, value=(f'Brd_{pa_od}' ), description = 'Select Variable')\n",
    "selectAccessMode = widgets.Dropdown(options=accessModeOptions, value='All', description='Access Mode')\n",
    "\n",
    "# Set up a global variable to track whether the widgets have been changed\n",
    "firstTime = False\n",
    "\n",
    "# create output widget to display filtered DataFrame\n",
    "output = widgets.Output()\n",
    "hbox = widgets.HBox([selectValues, selectAccessMode])\n",
    "\n",
    "# create interactive widget\n",
    "interactive_output = widgets.interactive_output(plotit, {'variable':selectValues, 'access_mode': selectAccessMode})\n",
    "\n",
    "display(hbox)\n",
    "display(interactive_output)\n",
    "display(output)"
   ]
  },
  {
   "cell_type": "markdown",
   "metadata": {},
   "source": [
    "## Conclusions"
   ]
  },
  {
   "cell_type": "markdown",
   "metadata": {},
   "source": [
    " - by reducing the number of access links from taz to station from 2 to 1, the number of boardings at end of line stations (provo and ogden) increased and the number of boardings at the second stations (orem and roy) decreased. This supports our conclusion form previous investigations that trips are bypassing end of line stations and boarding at second stations.\n",
    " - reducing the number of taz to station access from 2 to 1 could be part of the solution to fixing low boardings at provo station. However, it is important to still maintain number of boardings at orem station -- so definitily not the final solution."
   ]
  }
 ],
 "metadata": {
  "kernelspec": {
   "display_name": "base",
   "language": "python",
   "name": "python3"
  },
  "language_info": {
   "codemirror_mode": {
    "name": "ipython",
    "version": 3
   },
   "file_extension": ".py",
   "mimetype": "text/x-python",
   "name": "python",
   "nbconvert_exporter": "python",
   "pygments_lexer": "ipython3",
   "version": "3.9.19"
  }
 },
 "nbformat": 4,
 "nbformat_minor": 2
}
