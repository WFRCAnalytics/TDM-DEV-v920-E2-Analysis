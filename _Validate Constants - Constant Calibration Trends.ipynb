{
 "cells": [
  {
   "cell_type": "code",
   "execution_count": 32,
   "metadata": {},
   "outputs": [
    {
     "data": {
      "text/html": [
       "        <script type=\"text/javascript\">\n",
       "        window.PlotlyConfig = {MathJaxConfig: 'local'};\n",
       "        if (window.MathJax && window.MathJax.Hub && window.MathJax.Hub.Config) {window.MathJax.Hub.Config({SVG: {font: \"STIX-Web\"}});}\n",
       "        if (typeof require !== 'undefined') {\n",
       "        require.undef(\"plotly\");\n",
       "        requirejs.config({\n",
       "            paths: {\n",
       "                'plotly': ['https://cdn.plot.ly/plotly-2.29.1.min']\n",
       "            }\n",
       "        });\n",
       "        require(['plotly'], function(Plotly) {\n",
       "            window._Plotly = Plotly;\n",
       "        });\n",
       "        }\n",
       "        </script>\n",
       "        "
      ]
     },
     "metadata": {},
     "output_type": "display_data"
    }
   ],
   "source": [
    "import numpy as np\n",
    "import os\n",
    "import pandas as pd\n",
    "from IPython.display import display, Markdown\n",
    "#from pandas.io.formats.style import Styler\n",
    "#import matplotlib.ticker as mtick\n",
    "#import matplotlib.pyplot as plt\n",
    "import re\n",
    "\n",
    "import plotly as py\n",
    "import plotly.graph_objects as go\n",
    "import plotly.express as px \n",
    "import ipywidgets as widgets\n",
    "\n",
    "# offline mode for charts, so it stays local\n",
    "py.offline.init_notebook_mode(connected=True)"
   ]
  },
  {
   "cell_type": "code",
   "execution_count": 33,
   "metadata": {},
   "outputs": [
    {
     "name": "stdout",
     "output_type": "stream",
     "text": [
      "Working Directory: d:\\GitHub\\WF-TDM-v9x\\_scripts\n"
     ]
    }
   ],
   "source": [
    "dirWork = os.getcwd()\n",
    "\n",
    "dirCalibConst = [os.path.join(r\"..\\E2.1\\\\2_ModelScripts\\4_ModeChoice\\coeffs\\calib_const\")]\n",
    "\n",
    "\n",
    "#dirCalibConst = [os.path.join(r\"K:\\TDM\\0 - ModelDev\\2 - Sandbox\\v8.3.2\\Calib_Valid\\04 - ModeChoice\\calib_const_1\"),\n",
    "#                 os.path.join(r\"K:\\TDM\\0 - ModelDev\\2 - Sandbox\\v8.3.2\\Calib_Valid\\04 - ModeChoice\\calib_const_2\"),\n",
    "#                 os.path.join(r\"K:\\TDM\\0 - ModelDev\\2 - Sandbox\\v8.3.2\\Calib_Valid\\04 - ModeChoice\\calib_const_3\"),\n",
    "#                 os.path.join(r\"K:\\TDM\\0 - ModelDev\\2 - Sandbox\\v8.3.2\\Calib_Valid\\04 - ModeChoice\\calib_const_4\")]\n",
    "\n",
    "print(\"Working Directory: \" + dirWork)"
   ]
  },
  {
   "cell_type": "code",
   "execution_count": 34,
   "metadata": {},
   "outputs": [
    {
     "data": {
      "text/html": [
       "<div>\n",
       "<style scoped>\n",
       "    .dataframe tbody tr th:only-of-type {\n",
       "        vertical-align: middle;\n",
       "    }\n",
       "\n",
       "    .dataframe tbody tr th {\n",
       "        vertical-align: top;\n",
       "    }\n",
       "\n",
       "    .dataframe thead th {\n",
       "        text-align: right;\n",
       "    }\n",
       "</style>\n",
       "<table border=\"1\" class=\"dataframe\">\n",
       "  <thead>\n",
       "    <tr style=\"text-align: right;\">\n",
       "      <th></th>\n",
       "      <th>SortOrder</th>\n",
       "      <th>ConstName</th>\n",
       "    </tr>\n",
       "  </thead>\n",
       "  <tbody>\n",
       "    <tr>\n",
       "      <th>0</th>\n",
       "      <td>0</td>\n",
       "      <td>asc_motor</td>\n",
       "    </tr>\n",
       "    <tr>\n",
       "      <th>1</th>\n",
       "      <td>1</td>\n",
       "      <td>asc_motor_0veh</td>\n",
       "    </tr>\n",
       "    <tr>\n",
       "      <th>2</th>\n",
       "      <td>2</td>\n",
       "      <td>asc_motor_1veh</td>\n",
       "    </tr>\n",
       "    <tr>\n",
       "      <th>3</th>\n",
       "      <td>3</td>\n",
       "      <td>asc_motor_2veh</td>\n",
       "    </tr>\n",
       "    <tr>\n",
       "      <th>4</th>\n",
       "      <td>4</td>\n",
       "      <td>asc_motor_all</td>\n",
       "    </tr>\n",
       "    <tr>\n",
       "      <th>...</th>\n",
       "      <td>...</td>\n",
       "      <td>...</td>\n",
       "    </tr>\n",
       "    <tr>\n",
       "      <th>155</th>\n",
       "      <td>155</td>\n",
       "      <td>asc_dcrt</td>\n",
       "    </tr>\n",
       "    <tr>\n",
       "      <th>156</th>\n",
       "      <td>156</td>\n",
       "      <td>asc_dcrt_0veh</td>\n",
       "    </tr>\n",
       "    <tr>\n",
       "      <th>157</th>\n",
       "      <td>157</td>\n",
       "      <td>asc_dcrt_1veh</td>\n",
       "    </tr>\n",
       "    <tr>\n",
       "      <th>158</th>\n",
       "      <td>158</td>\n",
       "      <td>asc_dcrt_2veh</td>\n",
       "    </tr>\n",
       "    <tr>\n",
       "      <th>159</th>\n",
       "      <td>159</td>\n",
       "      <td>asc_dcrt_all</td>\n",
       "    </tr>\n",
       "  </tbody>\n",
       "</table>\n",
       "<p>160 rows × 2 columns</p>\n",
       "</div>"
      ],
      "text/plain": [
       "     SortOrder       ConstName\n",
       "0            0       asc_motor\n",
       "1            1  asc_motor_0veh\n",
       "2            2  asc_motor_1veh\n",
       "3            3  asc_motor_2veh\n",
       "4            4   asc_motor_all\n",
       "..         ...             ...\n",
       "155        155        asc_dcrt\n",
       "156        156   asc_dcrt_0veh\n",
       "157        157   asc_dcrt_1veh\n",
       "158        158   asc_dcrt_2veh\n",
       "159        159    asc_dcrt_all\n",
       "\n",
       "[160 rows x 2 columns]"
      ]
     },
     "execution_count": 34,
     "metadata": {},
     "output_type": "execute_result"
    }
   ],
   "source": [
    "#constant names listed in order you want to display\n",
    "dConstOrder = {\n",
    "     'ConstName'     : [\n",
    "                        'asc_motor',\n",
    "                        'asc_motor_0veh',\n",
    "                        'asc_motor_1veh',\n",
    "                        'asc_motor_2veh',\n",
    "                        'asc_motor_all',\n",
    "                        'asc_nonmotor',\n",
    "                        'asc_nonmotor_0veh',\n",
    "                        'asc_nonmotor_1veh',\n",
    "                        'asc_nonmotor_2veh',\n",
    "                        'asc_nonmotor_all',\n",
    "                        'asc_walk',\n",
    "                        'asc_walk_0veh',\n",
    "                        'asc_walk_1veh',\n",
    "                        'asc_walk_2veh',\n",
    "                        'asc_walk_all',\n",
    "                        'asc_bike',\n",
    "                        'asc_bike_0veh',\n",
    "                        'asc_bike_1veh',\n",
    "                        'asc_bike_2veh',\n",
    "                        'asc_bike_all',\n",
    "                        'asc_auto',\n",
    "                        'asc_auto_0veh',\n",
    "                        'asc_auto_1veh',\n",
    "                        'asc_auto_2veh',\n",
    "                        'asc_auto_all',\n",
    "                        'asc_alone',\n",
    "                        'asc_alone_0veh',\n",
    "                        'asc_alone_1veh',\n",
    "                        'asc_alone_2veh',\n",
    "                        'asc_alone_all',\n",
    "                        'asc_shared',\n",
    "                        'asc_shared_0veh',\n",
    "                        'asc_shared_1veh',\n",
    "                        'asc_shared_2veh',\n",
    "                        'asc_shared_all',\n",
    "                        'asc_sr2',\n",
    "                        'asc_sr2_0veh',\n",
    "                        'asc_sr2_1veh',\n",
    "                        'asc_sr2_2veh',\n",
    "                        'asc_sr2_all',\n",
    "                        'asc_sr3',\n",
    "                        'asc_sr3_0veh',\n",
    "                        'asc_sr3_1veh',\n",
    "                        'asc_sr3_2veh',\n",
    "                        'asc_sr3_all',\n",
    "                        'asc_hov',\n",
    "                        'asc_hov_0veh',\n",
    "                        'asc_hov_1veh',\n",
    "                        'asc_hov_2veh',\n",
    "                        'asc_hov_all',\n",
    "                        'asc_toll',\n",
    "                        'asc_toll_0veh',\n",
    "                        'asc_toll_1veh',\n",
    "                        'asc_toll_2veh',\n",
    "                        'asc_toll_all',\n",
    "                        'asc_transit',\n",
    "                        'asc_transit_0veh',\n",
    "                        'asc_transit_1veh',\n",
    "                        'asc_transit_2veh',\n",
    "                        'asc_transit_all',\n",
    "                        'asc_walkacc',\n",
    "                        'asc_walkacc_0veh',\n",
    "                        'asc_walkacc_1veh',\n",
    "                        'asc_walkacc_2veh',\n",
    "                        'asc_walkacc_all',\n",
    "                        'asc_driveacc',\n",
    "                        'asc_driveacc_0veh',\n",
    "                        'asc_driveacc_1veh',\n",
    "                        'asc_driveacc_2veh',\n",
    "                        'asc_driveacc_all',\n",
    "                        'asc_local',\n",
    "                        'asc_local_0veh',\n",
    "                        'asc_local_1veh',\n",
    "                        'asc_local_2veh',\n",
    "                        'asc_local_all',\n",
    "                        'asc_wlocal',\n",
    "                        'asc_wlocal_0veh',\n",
    "                        'asc_wlocal_1veh',\n",
    "                        'asc_wlocal_2veh',\n",
    "                        'asc_wlocal_all',\n",
    "                        'asc_dlocal',\n",
    "                        'asc_dlocal_0veh',\n",
    "                        'asc_dlocal_1veh',\n",
    "                        'asc_dlocal_2veh',\n",
    "                        'asc_dlocal_all',\n",
    "                        'asc_brt',\n",
    "                        'asc_brt_0veh',\n",
    "                        'asc_brt_1veh',\n",
    "                        'asc_brt_2veh',\n",
    "                        'asc_brt_all',\n",
    "                        'asc_wbrt',\n",
    "                        'asc_wbrt_0veh',\n",
    "                        'asc_wbrt_1veh',\n",
    "                        'asc_wbrt_2veh',\n",
    "                        'asc_wbrt_all',\n",
    "                        'asc_dbrt',\n",
    "                        'asc_dbrt_0veh',\n",
    "                        'asc_dbrt_1veh',\n",
    "                        'asc_dbrt_2veh',\n",
    "                        'asc_dbrt_all',\n",
    "                        'asc_mode9',\n",
    "                        'asc_mode9_0veh',\n",
    "                        'asc_mode9_1veh',\n",
    "                        'asc_mode9_2veh',\n",
    "                        'asc_mode9_all',\n",
    "                        'asc_wmode9',\n",
    "                        'asc_wmode9_0veh',\n",
    "                        'asc_wmode9_1veh',\n",
    "                        'asc_wmode9_2veh',\n",
    "                        'asc_wmode9_all',\n",
    "                        'asc_dmode9',\n",
    "                        'asc_dmode9_0veh',\n",
    "                        'asc_dmode9_1veh',\n",
    "                        'asc_dmode9_2veh',\n",
    "                        'asc_dmode9_all',\n",
    "                        'asc_lrt',\n",
    "                        'asc_lrt_0veh',\n",
    "                        'asc_lrt_1veh',\n",
    "                        'asc_lrt_2veh',\n",
    "                        'asc_lrt_all',\n",
    "                        'asc_wlrt',\n",
    "                        'asc_wlrt_0veh',\n",
    "                        'asc_wlrt_1veh',\n",
    "                        'asc_wlrt_2veh',\n",
    "                        'asc_wlrt_all',\n",
    "                        'asc_dlrt',\n",
    "                        'asc_dlrt_0veh',\n",
    "                        'asc_dlrt_1veh',\n",
    "                        'asc_dlrt_2veh',\n",
    "                        'asc_dlrt_all',\n",
    "                        'asc_express',\n",
    "                        'asc_express_0veh',\n",
    "                        'asc_express_1veh',\n",
    "                        'asc_express_2veh',\n",
    "                        'asc_express_all',\n",
    "                        'asc_wexpress',\n",
    "                        'asc_wexpress_0veh',\n",
    "                        'asc_wexpress_1veh',\n",
    "                        'asc_wexpress_2veh',\n",
    "                        'asc_wexpress_all',\n",
    "                        'asc_dexpress',\n",
    "                        'asc_dexpress_0veh',\n",
    "                        'asc_dexpress_1veh',\n",
    "                        'asc_dexpress_2veh',\n",
    "                        'asc_dexpress_all',\n",
    "                        'asc_crt',\n",
    "                        'asc_crt_0veh',\n",
    "                        'asc_crt_1veh',\n",
    "                        'asc_crt_2veh',\n",
    "                        'asc_crt_all',\n",
    "                        'asc_wcrt',\n",
    "                        'asc_wcrt_0veh',\n",
    "                        'asc_wcrt_1veh',\n",
    "                        'asc_wcrt_2veh',\n",
    "                        'asc_wcrt_all',\n",
    "                        'asc_dcrt',\n",
    "                        'asc_dcrt_0veh',\n",
    "                        'asc_dcrt_1veh',\n",
    "                        'asc_dcrt_2veh',\n",
    "                        'asc_dcrt_all'\n",
    "                        ]\n",
    "}\n",
    "df_ConstOrder = pd.DataFrame(dConstOrder)\n",
    "df_ConstOrder = df_ConstOrder.reset_index()\n",
    "df_ConstOrder = df_ConstOrder.rename(columns={\"index\": \"SortOrder\"})\n",
    "df_ConstOrder"
   ]
  },
  {
   "cell_type": "code",
   "execution_count": 35,
   "metadata": {
    "scrolled": true
   },
   "outputs": [
    {
     "data": {
      "text/plain": [
       "'Reading Constants from ..\\\\E2.1\\\\\\\\2_ModelScripts\\\\4_ModeChoice\\\\coeffs\\\\calib_const'"
      ]
     },
     "metadata": {},
     "output_type": "display_data"
    },
    {
     "name": "stdout",
     "output_type": "stream",
     "text": [
      "244 of 244 NHB Pk 9                                                         "
     ]
    },
    {
     "data": {
      "text/html": [
       "<div>\n",
       "<style scoped>\n",
       "    .dataframe tbody tr th:only-of-type {\n",
       "        vertical-align: middle;\n",
       "    }\n",
       "\n",
       "    .dataframe tbody tr th {\n",
       "        vertical-align: top;\n",
       "    }\n",
       "\n",
       "    .dataframe thead th {\n",
       "        text-align: right;\n",
       "    }\n",
       "</style>\n",
       "<table border=\"1\" class=\"dataframe\">\n",
       "  <thead>\n",
       "    <tr style=\"text-align: right;\">\n",
       "      <th></th>\n",
       "      <th>Purp</th>\n",
       "      <th>PkOk</th>\n",
       "      <th>Iter</th>\n",
       "      <th>ConstName</th>\n",
       "      <th>ConstValue</th>\n",
       "      <th>ConstValueAbs</th>\n",
       "    </tr>\n",
       "  </thead>\n",
       "  <tbody>\n",
       "    <tr>\n",
       "      <th>0</th>\n",
       "      <td>HBC</td>\n",
       "      <td>Pk</td>\n",
       "      <td>0</td>\n",
       "      <td>asc_motor</td>\n",
       "      <td>0.0000</td>\n",
       "      <td>0.0000</td>\n",
       "    </tr>\n",
       "    <tr>\n",
       "      <th>1</th>\n",
       "      <td>HBC</td>\n",
       "      <td>Pk</td>\n",
       "      <td>0</td>\n",
       "      <td>asc_nonmotor</td>\n",
       "      <td>0.0000</td>\n",
       "      <td>0.0000</td>\n",
       "    </tr>\n",
       "    <tr>\n",
       "      <th>2</th>\n",
       "      <td>HBC</td>\n",
       "      <td>Pk</td>\n",
       "      <td>0</td>\n",
       "      <td>asc_auto</td>\n",
       "      <td>0.0000</td>\n",
       "      <td>0.0000</td>\n",
       "    </tr>\n",
       "    <tr>\n",
       "      <th>3</th>\n",
       "      <td>HBC</td>\n",
       "      <td>Pk</td>\n",
       "      <td>0</td>\n",
       "      <td>asc_transit</td>\n",
       "      <td>0.0000</td>\n",
       "      <td>0.0000</td>\n",
       "    </tr>\n",
       "    <tr>\n",
       "      <th>4</th>\n",
       "      <td>HBC</td>\n",
       "      <td>Pk</td>\n",
       "      <td>0</td>\n",
       "      <td>asc_alone</td>\n",
       "      <td>0.0000</td>\n",
       "      <td>0.0000</td>\n",
       "    </tr>\n",
       "    <tr>\n",
       "      <th>...</th>\n",
       "      <td>...</td>\n",
       "      <td>...</td>\n",
       "      <td>...</td>\n",
       "      <td>...</td>\n",
       "      <td>...</td>\n",
       "      <td>...</td>\n",
       "    </tr>\n",
       "    <tr>\n",
       "      <th>21396</th>\n",
       "      <td>NHB</td>\n",
       "      <td>Pk</td>\n",
       "      <td>9</td>\n",
       "      <td>asc_dBRT</td>\n",
       "      <td>0.7741</td>\n",
       "      <td>0.7741</td>\n",
       "    </tr>\n",
       "    <tr>\n",
       "      <th>21397</th>\n",
       "      <td>NHB</td>\n",
       "      <td>Pk</td>\n",
       "      <td>9</td>\n",
       "      <td>asc_dLRT</td>\n",
       "      <td>0.0114</td>\n",
       "      <td>0.0114</td>\n",
       "    </tr>\n",
       "    <tr>\n",
       "      <th>21398</th>\n",
       "      <td>NHB</td>\n",
       "      <td>Pk</td>\n",
       "      <td>9</td>\n",
       "      <td>asc_dCRT</td>\n",
       "      <td>0.9127</td>\n",
       "      <td>0.9127</td>\n",
       "    </tr>\n",
       "    <tr>\n",
       "      <th>21399</th>\n",
       "      <td>NHB</td>\n",
       "      <td>Pk</td>\n",
       "      <td>9</td>\n",
       "      <td>asc_walk</td>\n",
       "      <td>0.0000</td>\n",
       "      <td>0.0000</td>\n",
       "    </tr>\n",
       "    <tr>\n",
       "      <th>21400</th>\n",
       "      <td>NHB</td>\n",
       "      <td>Pk</td>\n",
       "      <td>9</td>\n",
       "      <td>asc_bike</td>\n",
       "      <td>-2.6632</td>\n",
       "      <td>2.6632</td>\n",
       "    </tr>\n",
       "  </tbody>\n",
       "</table>\n",
       "<p>21401 rows × 6 columns</p>\n",
       "</div>"
      ],
      "text/plain": [
       "      Purp PkOk  Iter     ConstName  ConstValue  ConstValueAbs\n",
       "0      HBC   Pk     0     asc_motor      0.0000         0.0000\n",
       "1      HBC   Pk     0  asc_nonmotor      0.0000         0.0000\n",
       "2      HBC   Pk     0      asc_auto      0.0000         0.0000\n",
       "3      HBC   Pk     0   asc_transit      0.0000         0.0000\n",
       "4      HBC   Pk     0     asc_alone      0.0000         0.0000\n",
       "...    ...  ...   ...           ...         ...            ...\n",
       "21396  NHB   Pk     9      asc_dBRT      0.7741         0.7741\n",
       "21397  NHB   Pk     9      asc_dLRT      0.0114         0.0114\n",
       "21398  NHB   Pk     9      asc_dCRT      0.9127         0.9127\n",
       "21399  NHB   Pk     9      asc_walk      0.0000         0.0000\n",
       "21400  NHB   Pk     9      asc_bike     -2.6632         2.6632\n",
       "\n",
       "[21401 rows x 6 columns]"
      ]
     },
     "metadata": {},
     "output_type": "display_data"
    }
   ],
   "source": [
    "#initialize\n",
    "df_Constants = pd.DataFrame()\n",
    "prevround = False\n",
    "\n",
    "\n",
    "for dCC in dirCalibConst:\n",
    "\n",
    "    display(\"Reading Constants from \" + dCC)\n",
    "    df_Constants_CurRound = pd.DataFrame()\n",
    "    \n",
    "    \n",
    "    df_Files = pd.DataFrame(os.listdir(dCC))\n",
    "    df_Files = df_Files[df_Files[0].str.contains('.txt')]\n",
    "    numFiles = df_Files.size\n",
    "    ctFiles = 0\n",
    "    \n",
    "    for filename in os.listdir(dCC):\n",
    "        if filename.endswith(\".txt\"):\n",
    "            ctFiles = ctFiles + 1\n",
    "            \n",
    "            filenamewpath = os.path.join(dCC, filename)\n",
    "\n",
    "            strPurp = filename[0 : 3]\n",
    "            strPkOk = filename[17:19]\n",
    "\n",
    "            #get characters between last underscore(_) and period(.)\n",
    "            strIter = int(re.search(\"[^._]+(?=[^_]*$)\", filename).group(0))\n",
    "\n",
    "            #print(strPurp, strPkOk, strIter)\n",
    "            print(\"\\r                                                                            \", end=\"\")\n",
    "            #print(\"\\r\" + strPurp, strPkOk, strIter, end=\"\")\n",
    "            print(\"\\r\" + str(ctFiles) + ' of ' + str(numFiles), strPurp, strPkOk, strIter, end=\"\")\n",
    "            \n",
    "            file1 = open(filenamewpath) \n",
    "            Lines = file1.readlines() \n",
    "\n",
    "            count = 0\n",
    "            # Strips the newline character \n",
    "            for line in Lines: \n",
    "                strLine = str(\"Line{}: {}\".format(count, line.strip()))\n",
    "                strLine = strLine[len('Line0:'):]\n",
    "                #print (strLine)\n",
    "                #print(type (strLine))\n",
    "                if \"=\" in strLine:\n",
    "                    strVariable = strLine.split('=')[0].strip()\n",
    "                    strValue    = strLine.split('=')[1].strip()\n",
    "                    \n",
    "                    df = pd.DataFrame([[strPurp,strPkOk,strIter,strVariable,strValue]],\n",
    "                              columns=(['Purp'   ,'PkOk'   ,'Iter'   ,'ConstName'  ,'ConstValue']))\n",
    "\n",
    "                    df_Constants_CurRound = pd.concat([df_Constants_CurRound, df],ignore_index=True)\n",
    "\n",
    "                    #print(strVariable, strValue)\n",
    "        else:\n",
    "            continue\n",
    "\n",
    "    df_Constants_CurRound['Iter']       = pd.to_numeric(df_Constants_CurRound['Iter']      , downcast='integer')\n",
    "    df_Constants_CurRound['ConstValue'] = pd.to_numeric(df_Constants_CurRound['ConstValue'], downcast='float'  )\n",
    "\n",
    "    if not df_Constants.empty:\n",
    "        df_Constants_max = df_Constants.groupby(['ConstName','PkOk','Purp'],as_index=False).agg(MAXITER=('Iter','max'))\n",
    "\n",
    "        df_Constants_CurRound_wMax = pd.DataFrame.merge(df_Constants_CurRound, df_Constants_max, on=('ConstName','PkOk','Purp'))\n",
    "\n",
    "        df_Constants_CurRound_wMax['Iter'] = df_Constants_CurRound_wMax['Iter'] + df_Constants_CurRound_wMax['MAXITER']\n",
    "\n",
    "        df_Constants_CurRound = df_Constants_CurRound_wMax.drop(columns=['MAXITER'])\n",
    "\n",
    "        #display(df_Constants_CurRound)\n",
    "        \n",
    "        df_Constants = pd.concat([df_Constants,df_Constants_CurRound], ignore_index=True)\n",
    "\n",
    "    else:\n",
    "        df_Constants = df_Constants_CurRound.copy()\n",
    "    \n",
    "\n",
    "\n",
    "df_Constants['ConstValueAbs'] = df_Constants['ConstValue'].abs()\n",
    "\n",
    "#pd.set_option('display.max_rows', 10)\n",
    "display(df_Constants)\n"
   ]
  },
  {
   "cell_type": "code",
   "execution_count": 36,
   "metadata": {},
   "outputs": [],
   "source": [
    "#PLOTTING FUNCTION\n",
    "\n",
    "def update_plot(trippurps,pkoks,constnames):\n",
    "\n",
    "    data = []\n",
    "    for trippurp in trippurps:\n",
    "        for pkok in pkoks:\n",
    "            for constname in constnames:\n",
    "                # data for plotting from filtered dataframe\n",
    "                plotdata = df_Constants[(df_Constants.Purp  == trippurp) & (df_Constants.PkOk == pkok) & (df_Constants.ConstName == constname)]\n",
    "\n",
    "                # fill any NaN values with zeros\n",
    "                plotdata = plotdata.fillna(0)\n",
    "\n",
    "                plotdata = plotdata.sort_values(by=['Iter','ConstValue'], ascending=False)\n",
    "\n",
    "                xplot = plotdata['Iter']\n",
    "                yplot = plotdata['ConstValue']\n",
    "                \n",
    "                name  = trippurp + ' ' + pkok + ' ' + constname\n",
    "\n",
    "                trace1 = go.Scatter(\n",
    "                    x=xplot,\n",
    "                    y=yplot,\n",
    "                    mode='lines+markers',\n",
    "                    name=name#,\n",
    "                    #marker=dict(\n",
    "                    #    symbol=\"arrow\",\n",
    "                    #    size=15,\n",
    "                    #    angleref=\"previous\"\n",
    "                    #),\n",
    "                    #line=dict(\n",
    "                    #    shape='spline'\n",
    "                    #)\n",
    "                )\n",
    "                if np.any(yplot):\n",
    "                    data.append(trace1)\n",
    "                \n",
    "    layout = go.Layout(\n",
    "        title='Mode Choice Calibration Constants',\n",
    "        yaxis=dict(\n",
    "            title='Constant Value'#,\n",
    "            #range=(-4,4)\n",
    "        ),\n",
    "        xaxis=dict(\n",
    "            title='Iteration'#,\n",
    "            #range=(_xmin,_xmax)\n",
    "        ),\n",
    "        width=800,\n",
    "        height=400\n",
    "    )\n",
    "    \n",
    "    fig = go.Figure(data=data, layout=layout)\n",
    "    py.offline.iplot(fig)"
   ]
  },
  {
   "cell_type": "code",
   "execution_count": 37,
   "metadata": {},
   "outputs": [
    {
     "name": "stderr",
     "output_type": "stream",
     "text": [
      "C:\\Users\\cday\\AppData\\Local\\Temp\\ipykernel_32916\\2803810425.py:2: FutureWarning:\n",
      "\n",
      "The provided callable <built-in function max> is currently using SeriesGroupBy.max. In a future version of pandas, the provided callable will be used directly. To keep current behavior pass the string \"max\" instead.\n",
      "\n"
     ]
    },
    {
     "data": {
      "text/html": [
       "<div>\n",
       "<style scoped>\n",
       "    .dataframe tbody tr th:only-of-type {\n",
       "        vertical-align: middle;\n",
       "    }\n",
       "\n",
       "    .dataframe tbody tr th {\n",
       "        vertical-align: top;\n",
       "    }\n",
       "\n",
       "    .dataframe thead th {\n",
       "        text-align: right;\n",
       "    }\n",
       "</style>\n",
       "<table border=\"1\" class=\"dataframe\">\n",
       "  <thead>\n",
       "    <tr style=\"text-align: right;\">\n",
       "      <th></th>\n",
       "      <th>Purp</th>\n",
       "      <th>PkOk</th>\n",
       "      <th>Iter</th>\n",
       "      <th>ConstName</th>\n",
       "      <th>ConstValue</th>\n",
       "      <th>ConstValueAbs</th>\n",
       "    </tr>\n",
       "  </thead>\n",
       "  <tbody>\n",
       "    <tr>\n",
       "      <th>12</th>\n",
       "      <td>HBC</td>\n",
       "      <td>Pk</td>\n",
       "      <td>0</td>\n",
       "      <td>;asc_COR</td>\n",
       "      <td>0.0000</td>\n",
       "      <td>0.0000</td>\n",
       "    </tr>\n",
       "    <tr>\n",
       "      <th>20</th>\n",
       "      <td>HBC</td>\n",
       "      <td>Pk</td>\n",
       "      <td>0</td>\n",
       "      <td>;asc_wCOR</td>\n",
       "      <td>0.0000</td>\n",
       "      <td>0.0000</td>\n",
       "    </tr>\n",
       "    <tr>\n",
       "      <th>26</th>\n",
       "      <td>HBC</td>\n",
       "      <td>Pk</td>\n",
       "      <td>0</td>\n",
       "      <td>;asc_dCOR</td>\n",
       "      <td>0.0000</td>\n",
       "      <td>0.0000</td>\n",
       "    </tr>\n",
       "    <tr>\n",
       "      <th>525</th>\n",
       "      <td>HBC</td>\n",
       "      <td>Pk</td>\n",
       "      <td>25</td>\n",
       "      <td>asc_motor</td>\n",
       "      <td>0.0000</td>\n",
       "      <td>0.0000</td>\n",
       "    </tr>\n",
       "    <tr>\n",
       "      <th>526</th>\n",
       "      <td>HBC</td>\n",
       "      <td>Pk</td>\n",
       "      <td>25</td>\n",
       "      <td>asc_nonmotor</td>\n",
       "      <td>0.1633</td>\n",
       "      <td>0.1633</td>\n",
       "    </tr>\n",
       "    <tr>\n",
       "      <th>...</th>\n",
       "      <td>...</td>\n",
       "      <td>...</td>\n",
       "      <td>...</td>\n",
       "      <td>...</td>\n",
       "      <td>...</td>\n",
       "      <td>...</td>\n",
       "    </tr>\n",
       "    <tr>\n",
       "      <th>21222</th>\n",
       "      <td>NHB</td>\n",
       "      <td>Pk</td>\n",
       "      <td>34</td>\n",
       "      <td>asc_dBRT</td>\n",
       "      <td>0.9904</td>\n",
       "      <td>0.9904</td>\n",
       "    </tr>\n",
       "    <tr>\n",
       "      <th>21223</th>\n",
       "      <td>NHB</td>\n",
       "      <td>Pk</td>\n",
       "      <td>34</td>\n",
       "      <td>asc_dLRT</td>\n",
       "      <td>0.2291</td>\n",
       "      <td>0.2291</td>\n",
       "    </tr>\n",
       "    <tr>\n",
       "      <th>21224</th>\n",
       "      <td>NHB</td>\n",
       "      <td>Pk</td>\n",
       "      <td>34</td>\n",
       "      <td>asc_dCRT</td>\n",
       "      <td>1.1374</td>\n",
       "      <td>1.1374</td>\n",
       "    </tr>\n",
       "    <tr>\n",
       "      <th>21225</th>\n",
       "      <td>NHB</td>\n",
       "      <td>Pk</td>\n",
       "      <td>34</td>\n",
       "      <td>asc_walk</td>\n",
       "      <td>0.0000</td>\n",
       "      <td>0.0000</td>\n",
       "    </tr>\n",
       "    <tr>\n",
       "      <th>21226</th>\n",
       "      <td>NHB</td>\n",
       "      <td>Pk</td>\n",
       "      <td>34</td>\n",
       "      <td>asc_bike</td>\n",
       "      <td>-2.8363</td>\n",
       "      <td>2.8363</td>\n",
       "    </tr>\n",
       "  </tbody>\n",
       "</table>\n",
       "<p>579 rows × 6 columns</p>\n",
       "</div>"
      ],
      "text/plain": [
       "      Purp PkOk  Iter     ConstName  ConstValue  ConstValueAbs\n",
       "12     HBC   Pk     0      ;asc_COR      0.0000         0.0000\n",
       "20     HBC   Pk     0     ;asc_wCOR      0.0000         0.0000\n",
       "26     HBC   Pk     0     ;asc_dCOR      0.0000         0.0000\n",
       "525    HBC   Pk    25     asc_motor      0.0000         0.0000\n",
       "526    HBC   Pk    25  asc_nonmotor      0.1633         0.1633\n",
       "...    ...  ...   ...           ...         ...            ...\n",
       "21222  NHB   Pk    34      asc_dBRT      0.9904         0.9904\n",
       "21223  NHB   Pk    34      asc_dLRT      0.2291         0.2291\n",
       "21224  NHB   Pk    34      asc_dCRT      1.1374         1.1374\n",
       "21225  NHB   Pk    34      asc_walk      0.0000         0.0000\n",
       "21226  NHB   Pk    34      asc_bike     -2.8363         2.8363\n",
       "\n",
       "[579 rows x 6 columns]"
      ]
     },
     "metadata": {},
     "output_type": "display_data"
    },
    {
     "data": {
      "text/html": [
       "<div>\n",
       "<style scoped>\n",
       "    .dataframe tbody tr th:only-of-type {\n",
       "        vertical-align: middle;\n",
       "    }\n",
       "\n",
       "    .dataframe tbody tr th {\n",
       "        vertical-align: top;\n",
       "    }\n",
       "\n",
       "    .dataframe thead tr th {\n",
       "        text-align: left;\n",
       "    }\n",
       "</style>\n",
       "<table border=\"1\" class=\"dataframe\">\n",
       "  <thead>\n",
       "    <tr>\n",
       "      <th>Purp</th>\n",
       "      <th>ConstName</th>\n",
       "      <th>HBC</th>\n",
       "      <th colspan=\"2\" halign=\"left\">HBO</th>\n",
       "      <th colspan=\"2\" halign=\"left\">HBW</th>\n",
       "      <th colspan=\"2\" halign=\"left\">NHB</th>\n",
       "    </tr>\n",
       "    <tr>\n",
       "      <th>PkOk</th>\n",
       "      <th></th>\n",
       "      <th>Pk</th>\n",
       "      <th>Ok</th>\n",
       "      <th>Pk</th>\n",
       "      <th>Ok</th>\n",
       "      <th>Pk</th>\n",
       "      <th>Ok</th>\n",
       "      <th>Pk</th>\n",
       "    </tr>\n",
       "  </thead>\n",
       "  <tbody>\n",
       "    <tr>\n",
       "      <th>0</th>\n",
       "      <td>asc_BRT</td>\n",
       "      <td>0.2904</td>\n",
       "      <td>0.0000</td>\n",
       "      <td>0.0000</td>\n",
       "      <td>0.0000</td>\n",
       "      <td>0.0000</td>\n",
       "      <td>0.0</td>\n",
       "      <td>0.1243</td>\n",
       "    </tr>\n",
       "    <tr>\n",
       "      <th>1</th>\n",
       "      <td>asc_BRT_all</td>\n",
       "      <td>0.0000</td>\n",
       "      <td>-0.2853</td>\n",
       "      <td>-0.1600</td>\n",
       "      <td>1.5133</td>\n",
       "      <td>0.2200</td>\n",
       "      <td>0.0</td>\n",
       "      <td>0.0000</td>\n",
       "    </tr>\n",
       "    <tr>\n",
       "      <th>2</th>\n",
       "      <td>asc_CRT</td>\n",
       "      <td>0.0018</td>\n",
       "      <td>0.0000</td>\n",
       "      <td>0.0000</td>\n",
       "      <td>0.0000</td>\n",
       "      <td>0.0000</td>\n",
       "      <td>0.0</td>\n",
       "      <td>0.4667</td>\n",
       "    </tr>\n",
       "    <tr>\n",
       "      <th>3</th>\n",
       "      <td>asc_CRT_all</td>\n",
       "      <td>0.0000</td>\n",
       "      <td>1.4870</td>\n",
       "      <td>1.4435</td>\n",
       "      <td>-0.1690</td>\n",
       "      <td>0.5032</td>\n",
       "      <td>0.0</td>\n",
       "      <td>0.0000</td>\n",
       "    </tr>\n",
       "    <tr>\n",
       "      <th>4</th>\n",
       "      <td>asc_EXP</td>\n",
       "      <td>-0.4143</td>\n",
       "      <td>0.0000</td>\n",
       "      <td>0.0000</td>\n",
       "      <td>0.0000</td>\n",
       "      <td>0.0000</td>\n",
       "      <td>0.0</td>\n",
       "      <td>0.1224</td>\n",
       "    </tr>\n",
       "    <tr>\n",
       "      <th>5</th>\n",
       "      <td>asc_EXP_all</td>\n",
       "      <td>0.0000</td>\n",
       "      <td>0.0000</td>\n",
       "      <td>0.2630</td>\n",
       "      <td>0.0000</td>\n",
       "      <td>0.4342</td>\n",
       "      <td>0.0</td>\n",
       "      <td>0.0000</td>\n",
       "    </tr>\n",
       "    <tr>\n",
       "      <th>6</th>\n",
       "      <td>asc_LRT</td>\n",
       "      <td>0.2195</td>\n",
       "      <td>0.0000</td>\n",
       "      <td>0.0000</td>\n",
       "      <td>0.0000</td>\n",
       "      <td>0.0000</td>\n",
       "      <td>0.0</td>\n",
       "      <td>0.4009</td>\n",
       "    </tr>\n",
       "    <tr>\n",
       "      <th>7</th>\n",
       "      <td>asc_LRT_all</td>\n",
       "      <td>0.0000</td>\n",
       "      <td>0.3140</td>\n",
       "      <td>0.3566</td>\n",
       "      <td>0.1628</td>\n",
       "      <td>0.2565</td>\n",
       "      <td>0.0</td>\n",
       "      <td>0.0000</td>\n",
       "    </tr>\n",
       "    <tr>\n",
       "      <th>8</th>\n",
       "      <td>asc_bike</td>\n",
       "      <td>-2.0690</td>\n",
       "      <td>0.0000</td>\n",
       "      <td>0.0000</td>\n",
       "      <td>0.0000</td>\n",
       "      <td>0.0000</td>\n",
       "      <td>0.0</td>\n",
       "      <td>-2.8363</td>\n",
       "    </tr>\n",
       "    <tr>\n",
       "      <th>9</th>\n",
       "      <td>asc_bike_all</td>\n",
       "      <td>0.0000</td>\n",
       "      <td>-2.8401</td>\n",
       "      <td>-2.9242</td>\n",
       "      <td>-2.6995</td>\n",
       "      <td>-2.2282</td>\n",
       "      <td>0.0</td>\n",
       "      <td>0.0000</td>\n",
       "    </tr>\n",
       "    <tr>\n",
       "      <th>10</th>\n",
       "      <td>asc_dBRT</td>\n",
       "      <td>1.0728</td>\n",
       "      <td>0.0000</td>\n",
       "      <td>0.0000</td>\n",
       "      <td>0.0000</td>\n",
       "      <td>0.0000</td>\n",
       "      <td>0.0</td>\n",
       "      <td>0.9904</td>\n",
       "    </tr>\n",
       "    <tr>\n",
       "      <th>11</th>\n",
       "      <td>asc_dBRT_all</td>\n",
       "      <td>0.0000</td>\n",
       "      <td>0.0487</td>\n",
       "      <td>-0.4847</td>\n",
       "      <td>-2.6691</td>\n",
       "      <td>-0.4111</td>\n",
       "      <td>0.0</td>\n",
       "      <td>0.0000</td>\n",
       "    </tr>\n",
       "    <tr>\n",
       "      <th>12</th>\n",
       "      <td>asc_dCRT</td>\n",
       "      <td>0.8473</td>\n",
       "      <td>0.0000</td>\n",
       "      <td>0.0000</td>\n",
       "      <td>0.0000</td>\n",
       "      <td>0.0000</td>\n",
       "      <td>0.0</td>\n",
       "      <td>1.1374</td>\n",
       "    </tr>\n",
       "    <tr>\n",
       "      <th>13</th>\n",
       "      <td>asc_dCRT_all</td>\n",
       "      <td>0.0000</td>\n",
       "      <td>0.6958</td>\n",
       "      <td>0.2805</td>\n",
       "      <td>1.9250</td>\n",
       "      <td>1.1924</td>\n",
       "      <td>0.0</td>\n",
       "      <td>0.0000</td>\n",
       "    </tr>\n",
       "    <tr>\n",
       "      <th>14</th>\n",
       "      <td>asc_dEXP</td>\n",
       "      <td>0.1040</td>\n",
       "      <td>0.0000</td>\n",
       "      <td>0.0000</td>\n",
       "      <td>0.0000</td>\n",
       "      <td>0.0000</td>\n",
       "      <td>0.0</td>\n",
       "      <td>0.8407</td>\n",
       "    </tr>\n",
       "    <tr>\n",
       "      <th>15</th>\n",
       "      <td>asc_dEXP_all</td>\n",
       "      <td>0.0000</td>\n",
       "      <td>0.0000</td>\n",
       "      <td>-0.1305</td>\n",
       "      <td>0.0000</td>\n",
       "      <td>1.3717</td>\n",
       "      <td>0.0</td>\n",
       "      <td>0.0000</td>\n",
       "    </tr>\n",
       "    <tr>\n",
       "      <th>16</th>\n",
       "      <td>asc_dLRT</td>\n",
       "      <td>0.3967</td>\n",
       "      <td>0.0000</td>\n",
       "      <td>0.0000</td>\n",
       "      <td>0.0000</td>\n",
       "      <td>0.0000</td>\n",
       "      <td>0.0</td>\n",
       "      <td>0.2291</td>\n",
       "    </tr>\n",
       "    <tr>\n",
       "      <th>17</th>\n",
       "      <td>asc_dLRT_all</td>\n",
       "      <td>0.0000</td>\n",
       "      <td>0.6385</td>\n",
       "      <td>0.4422</td>\n",
       "      <td>0.1914</td>\n",
       "      <td>0.4585</td>\n",
       "      <td>0.0</td>\n",
       "      <td>0.0000</td>\n",
       "    </tr>\n",
       "    <tr>\n",
       "      <th>18</th>\n",
       "      <td>asc_driveacc</td>\n",
       "      <td>-1.1713</td>\n",
       "      <td>0.0000</td>\n",
       "      <td>0.0000</td>\n",
       "      <td>0.0000</td>\n",
       "      <td>0.0000</td>\n",
       "      <td>0.0</td>\n",
       "      <td>-1.6821</td>\n",
       "    </tr>\n",
       "    <tr>\n",
       "      <th>19</th>\n",
       "      <td>asc_driveacc_1veh</td>\n",
       "      <td>0.0000</td>\n",
       "      <td>-1.7311</td>\n",
       "      <td>-1.0800</td>\n",
       "      <td>-1.7250</td>\n",
       "      <td>-1.6902</td>\n",
       "      <td>0.0</td>\n",
       "      <td>0.0000</td>\n",
       "    </tr>\n",
       "    <tr>\n",
       "      <th>20</th>\n",
       "      <td>asc_driveacc_2veh</td>\n",
       "      <td>0.0000</td>\n",
       "      <td>-1.2494</td>\n",
       "      <td>-0.7805</td>\n",
       "      <td>-0.9722</td>\n",
       "      <td>-0.8881</td>\n",
       "      <td>0.0</td>\n",
       "      <td>0.0000</td>\n",
       "    </tr>\n",
       "    <tr>\n",
       "      <th>21</th>\n",
       "      <td>asc_hov</td>\n",
       "      <td>0.0625</td>\n",
       "      <td>0.0000</td>\n",
       "      <td>0.0000</td>\n",
       "      <td>0.0000</td>\n",
       "      <td>0.0000</td>\n",
       "      <td>0.0</td>\n",
       "      <td>0.1000</td>\n",
       "    </tr>\n",
       "    <tr>\n",
       "      <th>22</th>\n",
       "      <td>asc_hov_all</td>\n",
       "      <td>0.0000</td>\n",
       "      <td>0.0875</td>\n",
       "      <td>0.0875</td>\n",
       "      <td>0.1125</td>\n",
       "      <td>0.1125</td>\n",
       "      <td>0.0</td>\n",
       "      <td>0.0000</td>\n",
       "    </tr>\n",
       "    <tr>\n",
       "      <th>23</th>\n",
       "      <td>asc_nonmotor</td>\n",
       "      <td>0.1633</td>\n",
       "      <td>0.0000</td>\n",
       "      <td>0.0000</td>\n",
       "      <td>0.0000</td>\n",
       "      <td>0.0000</td>\n",
       "      <td>0.0</td>\n",
       "      <td>-1.1634</td>\n",
       "    </tr>\n",
       "    <tr>\n",
       "      <th>24</th>\n",
       "      <td>asc_nonmotor_0veh</td>\n",
       "      <td>0.0000</td>\n",
       "      <td>2.9749</td>\n",
       "      <td>2.5675</td>\n",
       "      <td>3.6962</td>\n",
       "      <td>2.7428</td>\n",
       "      <td>0.0</td>\n",
       "      <td>0.0000</td>\n",
       "    </tr>\n",
       "    <tr>\n",
       "      <th>25</th>\n",
       "      <td>asc_nonmotor_1veh</td>\n",
       "      <td>0.0000</td>\n",
       "      <td>0.3084</td>\n",
       "      <td>-0.2635</td>\n",
       "      <td>0.8729</td>\n",
       "      <td>0.4836</td>\n",
       "      <td>0.0</td>\n",
       "      <td>0.0000</td>\n",
       "    </tr>\n",
       "    <tr>\n",
       "      <th>26</th>\n",
       "      <td>asc_nonmotor_2veh</td>\n",
       "      <td>0.0000</td>\n",
       "      <td>-0.0509</td>\n",
       "      <td>-0.1418</td>\n",
       "      <td>-0.4369</td>\n",
       "      <td>-1.0725</td>\n",
       "      <td>0.0</td>\n",
       "      <td>0.0000</td>\n",
       "    </tr>\n",
       "    <tr>\n",
       "      <th>27</th>\n",
       "      <td>asc_shared</td>\n",
       "      <td>-0.9195</td>\n",
       "      <td>0.0000</td>\n",
       "      <td>0.0000</td>\n",
       "      <td>0.0000</td>\n",
       "      <td>0.0000</td>\n",
       "      <td>0.0</td>\n",
       "      <td>-0.1924</td>\n",
       "    </tr>\n",
       "    <tr>\n",
       "      <th>28</th>\n",
       "      <td>asc_shared_1veh</td>\n",
       "      <td>0.0000</td>\n",
       "      <td>-0.2885</td>\n",
       "      <td>-0.1705</td>\n",
       "      <td>-1.1643</td>\n",
       "      <td>-0.9760</td>\n",
       "      <td>0.0</td>\n",
       "      <td>0.0000</td>\n",
       "    </tr>\n",
       "    <tr>\n",
       "      <th>29</th>\n",
       "      <td>asc_shared_2veh</td>\n",
       "      <td>0.0000</td>\n",
       "      <td>0.0877</td>\n",
       "      <td>0.1435</td>\n",
       "      <td>-1.4861</td>\n",
       "      <td>-1.3310</td>\n",
       "      <td>0.0</td>\n",
       "      <td>0.0000</td>\n",
       "    </tr>\n",
       "    <tr>\n",
       "      <th>30</th>\n",
       "      <td>asc_sr3</td>\n",
       "      <td>-0.2393</td>\n",
       "      <td>0.0000</td>\n",
       "      <td>0.0000</td>\n",
       "      <td>0.0000</td>\n",
       "      <td>0.0000</td>\n",
       "      <td>0.0</td>\n",
       "      <td>0.1071</td>\n",
       "    </tr>\n",
       "    <tr>\n",
       "      <th>31</th>\n",
       "      <td>asc_sr3_all</td>\n",
       "      <td>0.0000</td>\n",
       "      <td>0.1620</td>\n",
       "      <td>0.1491</td>\n",
       "      <td>-0.2841</td>\n",
       "      <td>-0.1694</td>\n",
       "      <td>0.0</td>\n",
       "      <td>0.0000</td>\n",
       "    </tr>\n",
       "    <tr>\n",
       "      <th>32</th>\n",
       "      <td>asc_toll</td>\n",
       "      <td>-0.2500</td>\n",
       "      <td>0.0000</td>\n",
       "      <td>0.0000</td>\n",
       "      <td>0.0000</td>\n",
       "      <td>0.0000</td>\n",
       "      <td>0.0</td>\n",
       "      <td>-0.4000</td>\n",
       "    </tr>\n",
       "    <tr>\n",
       "      <th>33</th>\n",
       "      <td>asc_toll_all</td>\n",
       "      <td>0.0000</td>\n",
       "      <td>-0.3500</td>\n",
       "      <td>-0.3500</td>\n",
       "      <td>-0.4500</td>\n",
       "      <td>-0.4500</td>\n",
       "      <td>0.0</td>\n",
       "      <td>0.0000</td>\n",
       "    </tr>\n",
       "    <tr>\n",
       "      <th>34</th>\n",
       "      <td>asc_transit</td>\n",
       "      <td>-0.5059</td>\n",
       "      <td>0.0000</td>\n",
       "      <td>0.0000</td>\n",
       "      <td>0.0000</td>\n",
       "      <td>0.0000</td>\n",
       "      <td>0.0</td>\n",
       "      <td>-1.8947</td>\n",
       "    </tr>\n",
       "    <tr>\n",
       "      <th>35</th>\n",
       "      <td>asc_transit_0veh</td>\n",
       "      <td>0.0000</td>\n",
       "      <td>2.0777</td>\n",
       "      <td>1.8408</td>\n",
       "      <td>3.9016</td>\n",
       "      <td>3.3058</td>\n",
       "      <td>0.0</td>\n",
       "      <td>0.0000</td>\n",
       "    </tr>\n",
       "    <tr>\n",
       "      <th>36</th>\n",
       "      <td>asc_transit_1veh</td>\n",
       "      <td>0.0000</td>\n",
       "      <td>-1.5172</td>\n",
       "      <td>-1.4400</td>\n",
       "      <td>0.0101</td>\n",
       "      <td>-0.0729</td>\n",
       "      <td>0.0</td>\n",
       "      <td>0.0000</td>\n",
       "    </tr>\n",
       "    <tr>\n",
       "      <th>37</th>\n",
       "      <td>asc_transit_2veh</td>\n",
       "      <td>0.0000</td>\n",
       "      <td>-2.2302</td>\n",
       "      <td>-2.1068</td>\n",
       "      <td>-1.0437</td>\n",
       "      <td>-1.2270</td>\n",
       "      <td>0.0</td>\n",
       "      <td>0.0000</td>\n",
       "    </tr>\n",
       "    <tr>\n",
       "      <th>38</th>\n",
       "      <td>asc_wBRT</td>\n",
       "      <td>-0.3736</td>\n",
       "      <td>0.0000</td>\n",
       "      <td>0.0000</td>\n",
       "      <td>0.0000</td>\n",
       "      <td>0.0000</td>\n",
       "      <td>0.0</td>\n",
       "      <td>-0.0774</td>\n",
       "    </tr>\n",
       "    <tr>\n",
       "      <th>39</th>\n",
       "      <td>asc_wBRT_all</td>\n",
       "      <td>0.0000</td>\n",
       "      <td>-0.2061</td>\n",
       "      <td>0.2109</td>\n",
       "      <td>-1.1361</td>\n",
       "      <td>-0.4612</td>\n",
       "      <td>0.0</td>\n",
       "      <td>0.0000</td>\n",
       "    </tr>\n",
       "    <tr>\n",
       "      <th>40</th>\n",
       "      <td>asc_wCRT</td>\n",
       "      <td>0.9625</td>\n",
       "      <td>0.0000</td>\n",
       "      <td>0.0000</td>\n",
       "      <td>0.0000</td>\n",
       "      <td>0.0000</td>\n",
       "      <td>0.0</td>\n",
       "      <td>1.4437</td>\n",
       "    </tr>\n",
       "    <tr>\n",
       "      <th>41</th>\n",
       "      <td>asc_wCRT_all</td>\n",
       "      <td>0.0000</td>\n",
       "      <td>1.5827</td>\n",
       "      <td>0.8759</td>\n",
       "      <td>2.3911</td>\n",
       "      <td>1.4435</td>\n",
       "      <td>0.0</td>\n",
       "      <td>0.0000</td>\n",
       "    </tr>\n",
       "    <tr>\n",
       "      <th>42</th>\n",
       "      <td>asc_wEXP</td>\n",
       "      <td>0.1101</td>\n",
       "      <td>0.0000</td>\n",
       "      <td>0.0000</td>\n",
       "      <td>0.0000</td>\n",
       "      <td>0.0000</td>\n",
       "      <td>0.0</td>\n",
       "      <td>0.2433</td>\n",
       "    </tr>\n",
       "    <tr>\n",
       "      <th>43</th>\n",
       "      <td>asc_wEXP_all</td>\n",
       "      <td>0.0000</td>\n",
       "      <td>0.0000</td>\n",
       "      <td>0.7190</td>\n",
       "      <td>0.0000</td>\n",
       "      <td>0.1137</td>\n",
       "      <td>0.0</td>\n",
       "      <td>0.0000</td>\n",
       "    </tr>\n",
       "    <tr>\n",
       "      <th>44</th>\n",
       "      <td>asc_wLRT</td>\n",
       "      <td>0.4246</td>\n",
       "      <td>0.0000</td>\n",
       "      <td>0.0000</td>\n",
       "      <td>0.0000</td>\n",
       "      <td>0.0000</td>\n",
       "      <td>0.0</td>\n",
       "      <td>0.4326</td>\n",
       "    </tr>\n",
       "    <tr>\n",
       "      <th>45</th>\n",
       "      <td>asc_wLRT_all</td>\n",
       "      <td>0.0000</td>\n",
       "      <td>0.4937</td>\n",
       "      <td>0.5985</td>\n",
       "      <td>0.3673</td>\n",
       "      <td>0.2620</td>\n",
       "      <td>0.0</td>\n",
       "      <td>0.0000</td>\n",
       "    </tr>\n",
       "  </tbody>\n",
       "</table>\n",
       "</div>"
      ],
      "text/plain": [
       "Purp          ConstName     HBC     HBO             HBW          NHB        \n",
       "PkOk                         Pk      Ok      Pk      Ok      Pk   Ok      Pk\n",
       "0               asc_BRT  0.2904  0.0000  0.0000  0.0000  0.0000  0.0  0.1243\n",
       "1           asc_BRT_all  0.0000 -0.2853 -0.1600  1.5133  0.2200  0.0  0.0000\n",
       "2               asc_CRT  0.0018  0.0000  0.0000  0.0000  0.0000  0.0  0.4667\n",
       "3           asc_CRT_all  0.0000  1.4870  1.4435 -0.1690  0.5032  0.0  0.0000\n",
       "4               asc_EXP -0.4143  0.0000  0.0000  0.0000  0.0000  0.0  0.1224\n",
       "5           asc_EXP_all  0.0000  0.0000  0.2630  0.0000  0.4342  0.0  0.0000\n",
       "6               asc_LRT  0.2195  0.0000  0.0000  0.0000  0.0000  0.0  0.4009\n",
       "7           asc_LRT_all  0.0000  0.3140  0.3566  0.1628  0.2565  0.0  0.0000\n",
       "8              asc_bike -2.0690  0.0000  0.0000  0.0000  0.0000  0.0 -2.8363\n",
       "9          asc_bike_all  0.0000 -2.8401 -2.9242 -2.6995 -2.2282  0.0  0.0000\n",
       "10             asc_dBRT  1.0728  0.0000  0.0000  0.0000  0.0000  0.0  0.9904\n",
       "11         asc_dBRT_all  0.0000  0.0487 -0.4847 -2.6691 -0.4111  0.0  0.0000\n",
       "12             asc_dCRT  0.8473  0.0000  0.0000  0.0000  0.0000  0.0  1.1374\n",
       "13         asc_dCRT_all  0.0000  0.6958  0.2805  1.9250  1.1924  0.0  0.0000\n",
       "14             asc_dEXP  0.1040  0.0000  0.0000  0.0000  0.0000  0.0  0.8407\n",
       "15         asc_dEXP_all  0.0000  0.0000 -0.1305  0.0000  1.3717  0.0  0.0000\n",
       "16             asc_dLRT  0.3967  0.0000  0.0000  0.0000  0.0000  0.0  0.2291\n",
       "17         asc_dLRT_all  0.0000  0.6385  0.4422  0.1914  0.4585  0.0  0.0000\n",
       "18         asc_driveacc -1.1713  0.0000  0.0000  0.0000  0.0000  0.0 -1.6821\n",
       "19    asc_driveacc_1veh  0.0000 -1.7311 -1.0800 -1.7250 -1.6902  0.0  0.0000\n",
       "20    asc_driveacc_2veh  0.0000 -1.2494 -0.7805 -0.9722 -0.8881  0.0  0.0000\n",
       "21              asc_hov  0.0625  0.0000  0.0000  0.0000  0.0000  0.0  0.1000\n",
       "22          asc_hov_all  0.0000  0.0875  0.0875  0.1125  0.1125  0.0  0.0000\n",
       "23         asc_nonmotor  0.1633  0.0000  0.0000  0.0000  0.0000  0.0 -1.1634\n",
       "24    asc_nonmotor_0veh  0.0000  2.9749  2.5675  3.6962  2.7428  0.0  0.0000\n",
       "25    asc_nonmotor_1veh  0.0000  0.3084 -0.2635  0.8729  0.4836  0.0  0.0000\n",
       "26    asc_nonmotor_2veh  0.0000 -0.0509 -0.1418 -0.4369 -1.0725  0.0  0.0000\n",
       "27           asc_shared -0.9195  0.0000  0.0000  0.0000  0.0000  0.0 -0.1924\n",
       "28      asc_shared_1veh  0.0000 -0.2885 -0.1705 -1.1643 -0.9760  0.0  0.0000\n",
       "29      asc_shared_2veh  0.0000  0.0877  0.1435 -1.4861 -1.3310  0.0  0.0000\n",
       "30              asc_sr3 -0.2393  0.0000  0.0000  0.0000  0.0000  0.0  0.1071\n",
       "31          asc_sr3_all  0.0000  0.1620  0.1491 -0.2841 -0.1694  0.0  0.0000\n",
       "32             asc_toll -0.2500  0.0000  0.0000  0.0000  0.0000  0.0 -0.4000\n",
       "33         asc_toll_all  0.0000 -0.3500 -0.3500 -0.4500 -0.4500  0.0  0.0000\n",
       "34          asc_transit -0.5059  0.0000  0.0000  0.0000  0.0000  0.0 -1.8947\n",
       "35     asc_transit_0veh  0.0000  2.0777  1.8408  3.9016  3.3058  0.0  0.0000\n",
       "36     asc_transit_1veh  0.0000 -1.5172 -1.4400  0.0101 -0.0729  0.0  0.0000\n",
       "37     asc_transit_2veh  0.0000 -2.2302 -2.1068 -1.0437 -1.2270  0.0  0.0000\n",
       "38             asc_wBRT -0.3736  0.0000  0.0000  0.0000  0.0000  0.0 -0.0774\n",
       "39         asc_wBRT_all  0.0000 -0.2061  0.2109 -1.1361 -0.4612  0.0  0.0000\n",
       "40             asc_wCRT  0.9625  0.0000  0.0000  0.0000  0.0000  0.0  1.4437\n",
       "41         asc_wCRT_all  0.0000  1.5827  0.8759  2.3911  1.4435  0.0  0.0000\n",
       "42             asc_wEXP  0.1101  0.0000  0.0000  0.0000  0.0000  0.0  0.2433\n",
       "43         asc_wEXP_all  0.0000  0.0000  0.7190  0.0000  0.1137  0.0  0.0000\n",
       "44             asc_wLRT  0.4246  0.0000  0.0000  0.0000  0.0000  0.0  0.4326\n",
       "45         asc_wLRT_all  0.0000  0.4937  0.5985  0.3673  0.2620  0.0  0.0000"
      ]
     },
     "metadata": {},
     "output_type": "display_data"
    },
    {
     "data": {
      "text/html": [
       "<div>\n",
       "<style scoped>\n",
       "    .dataframe tbody tr th:only-of-type {\n",
       "        vertical-align: middle;\n",
       "    }\n",
       "\n",
       "    .dataframe tbody tr th {\n",
       "        vertical-align: top;\n",
       "    }\n",
       "\n",
       "    .dataframe thead th {\n",
       "        text-align: right;\n",
       "    }\n",
       "</style>\n",
       "<table border=\"1\" class=\"dataframe\">\n",
       "  <thead>\n",
       "    <tr style=\"text-align: right;\">\n",
       "      <th></th>\n",
       "      <th>SortOrder</th>\n",
       "      <th>ConstName</th>\n",
       "    </tr>\n",
       "  </thead>\n",
       "  <tbody>\n",
       "    <tr>\n",
       "      <th>0</th>\n",
       "      <td>0</td>\n",
       "      <td>asc_motor</td>\n",
       "    </tr>\n",
       "    <tr>\n",
       "      <th>1</th>\n",
       "      <td>1</td>\n",
       "      <td>asc_motor_0veh</td>\n",
       "    </tr>\n",
       "    <tr>\n",
       "      <th>2</th>\n",
       "      <td>2</td>\n",
       "      <td>asc_motor_1veh</td>\n",
       "    </tr>\n",
       "    <tr>\n",
       "      <th>3</th>\n",
       "      <td>3</td>\n",
       "      <td>asc_motor_2veh</td>\n",
       "    </tr>\n",
       "    <tr>\n",
       "      <th>4</th>\n",
       "      <td>4</td>\n",
       "      <td>asc_motor_all</td>\n",
       "    </tr>\n",
       "    <tr>\n",
       "      <th>...</th>\n",
       "      <td>...</td>\n",
       "      <td>...</td>\n",
       "    </tr>\n",
       "    <tr>\n",
       "      <th>155</th>\n",
       "      <td>155</td>\n",
       "      <td>asc_dcrt</td>\n",
       "    </tr>\n",
       "    <tr>\n",
       "      <th>156</th>\n",
       "      <td>156</td>\n",
       "      <td>asc_dcrt_0veh</td>\n",
       "    </tr>\n",
       "    <tr>\n",
       "      <th>157</th>\n",
       "      <td>157</td>\n",
       "      <td>asc_dcrt_1veh</td>\n",
       "    </tr>\n",
       "    <tr>\n",
       "      <th>158</th>\n",
       "      <td>158</td>\n",
       "      <td>asc_dcrt_2veh</td>\n",
       "    </tr>\n",
       "    <tr>\n",
       "      <th>159</th>\n",
       "      <td>159</td>\n",
       "      <td>asc_dcrt_all</td>\n",
       "    </tr>\n",
       "  </tbody>\n",
       "</table>\n",
       "<p>160 rows × 2 columns</p>\n",
       "</div>"
      ],
      "text/plain": [
       "     SortOrder       ConstName\n",
       "0            0       asc_motor\n",
       "1            1  asc_motor_0veh\n",
       "2            2  asc_motor_1veh\n",
       "3            3  asc_motor_2veh\n",
       "4            4   asc_motor_all\n",
       "..         ...             ...\n",
       "155        155        asc_dcrt\n",
       "156        156   asc_dcrt_0veh\n",
       "157        157   asc_dcrt_1veh\n",
       "158        158   asc_dcrt_2veh\n",
       "159        159    asc_dcrt_all\n",
       "\n",
       "[160 rows x 2 columns]"
      ]
     },
     "metadata": {},
     "output_type": "display_data"
    }
   ],
   "source": [
    "# display last iteration constant value\n",
    "idx = df_Constants.groupby(['Purp','ConstName'])['Iter'].transform(max) == df_Constants['Iter']\n",
    "df_LastConstant = df_Constants[idx]\n",
    "display(df_LastConstant)\n",
    "df_LastConstant_pivot = df_LastConstant.pivot(index=['ConstName'],columns=['Purp','PkOk'],values='ConstValue')\n",
    "\n",
    "df_LastConstant_pivot.fillna(0,inplace=True)\n",
    "df_LastConstant_pivot = df_LastConstant_pivot.loc[~(df_LastConstant_pivot==0).all(axis=1)]\n",
    "df_LastConstant_pivot  = df_LastConstant_pivot.reset_index()\n",
    "display(df_LastConstant_pivot)\n",
    "display(df_ConstOrder)\n",
    "\n",
    "#df_LastConstant_pivot_ConstOrder = pd.merge(df_LastConstant_pivot, df_ConstOrder, on='ConstName', how='left')\n",
    "#df_LastConstant_pivot_ConstOrder = df_LastConstant_pivot_ConstOrder.sort_values(by=['SortOrder'])\n",
    "df_LastConstant_pivot_ConstOrder = df_LastConstant_pivot"
   ]
  },
  {
   "cell_type": "code",
   "execution_count": 38,
   "metadata": {},
   "outputs": [
    {
     "data": {
      "text/html": [
       "        <script type=\"text/javascript\">\n",
       "        window.PlotlyConfig = {MathJaxConfig: 'local'};\n",
       "        if (window.MathJax && window.MathJax.Hub && window.MathJax.Hub.Config) {window.MathJax.Hub.Config({SVG: {font: \"STIX-Web\"}});}\n",
       "        if (typeof require !== 'undefined') {\n",
       "        require.undef(\"plotly\");\n",
       "        requirejs.config({\n",
       "            paths: {\n",
       "                'plotly': ['https://cdn.plot.ly/plotly-2.29.1.min']\n",
       "            }\n",
       "        });\n",
       "        require(['plotly'], function(Plotly) {\n",
       "            window._Plotly = Plotly;\n",
       "        });\n",
       "        }\n",
       "        </script>\n",
       "        "
      ]
     },
     "metadata": {},
     "output_type": "display_data"
    },
    {
     "data": {
      "application/vnd.plotly.v1+json": {
       "config": {
        "linkText": "Export to plot.ly",
        "plotlyServerURL": "https://plot.ly",
        "showLink": false
       },
       "data": [
        {
         "mode": "lines+markers",
         "name": "HBW Pk asc_nonmotor_0veh",
         "type": "scatter",
         "x": [
          40,
          39,
          38,
          37,
          36,
          35,
          34,
          33,
          32,
          31,
          30,
          29,
          28,
          27,
          26,
          25,
          24,
          23,
          22,
          21,
          20,
          19,
          18,
          17,
          16,
          15,
          14,
          13,
          12,
          11,
          10,
          9,
          8,
          7,
          6,
          5,
          4,
          3,
          2,
          1,
          0
         ],
         "y": [
          2.742799997329712,
          2.7328999042510986,
          2.7219998836517334,
          2.7100000381469727,
          2.6967999935150146,
          2.6821999549865723,
          2.6661999225616455,
          2.6486001014709473,
          2.629199981689453,
          2.6078999042510986,
          2.584399938583374,
          2.5585999488830566,
          2.5302999019622803,
          2.4992001056671143,
          2.465100049972534,
          2.4277000427246094,
          2.3866000175476074,
          2.341599941253662,
          2.29229998588562,
          2.2383999824523926,
          2.1793999671936035,
          2.1149001121520996,
          2.0445001125335693,
          1.9678000211715698,
          1.8842999935150146,
          1.7934999465942383,
          1.6950000524520874,
          1.5882999897003174,
          1.473099946975708,
          1.3493000268936157,
          1.2167999744415283,
          1.0759999752044678,
          0.9276999831199646,
          0.7735999822616577,
          0.616599977016449,
          0.46129998564720154,
          0.314300000667572,
          0.18469999730587006,
          0.08340000361204147,
          0.020600000396370888,
          0
         ]
        }
       ],
       "layout": {
        "height": 400,
        "template": {
         "data": {
          "bar": [
           {
            "error_x": {
             "color": "#2a3f5f"
            },
            "error_y": {
             "color": "#2a3f5f"
            },
            "marker": {
             "line": {
              "color": "#E5ECF6",
              "width": 0.5
             },
             "pattern": {
              "fillmode": "overlay",
              "size": 10,
              "solidity": 0.2
             }
            },
            "type": "bar"
           }
          ],
          "barpolar": [
           {
            "marker": {
             "line": {
              "color": "#E5ECF6",
              "width": 0.5
             },
             "pattern": {
              "fillmode": "overlay",
              "size": 10,
              "solidity": 0.2
             }
            },
            "type": "barpolar"
           }
          ],
          "carpet": [
           {
            "aaxis": {
             "endlinecolor": "#2a3f5f",
             "gridcolor": "white",
             "linecolor": "white",
             "minorgridcolor": "white",
             "startlinecolor": "#2a3f5f"
            },
            "baxis": {
             "endlinecolor": "#2a3f5f",
             "gridcolor": "white",
             "linecolor": "white",
             "minorgridcolor": "white",
             "startlinecolor": "#2a3f5f"
            },
            "type": "carpet"
           }
          ],
          "choropleth": [
           {
            "colorbar": {
             "outlinewidth": 0,
             "ticks": ""
            },
            "type": "choropleth"
           }
          ],
          "contour": [
           {
            "colorbar": {
             "outlinewidth": 0,
             "ticks": ""
            },
            "colorscale": [
             [
              0,
              "#0d0887"
             ],
             [
              0.1111111111111111,
              "#46039f"
             ],
             [
              0.2222222222222222,
              "#7201a8"
             ],
             [
              0.3333333333333333,
              "#9c179e"
             ],
             [
              0.4444444444444444,
              "#bd3786"
             ],
             [
              0.5555555555555556,
              "#d8576b"
             ],
             [
              0.6666666666666666,
              "#ed7953"
             ],
             [
              0.7777777777777778,
              "#fb9f3a"
             ],
             [
              0.8888888888888888,
              "#fdca26"
             ],
             [
              1,
              "#f0f921"
             ]
            ],
            "type": "contour"
           }
          ],
          "contourcarpet": [
           {
            "colorbar": {
             "outlinewidth": 0,
             "ticks": ""
            },
            "type": "contourcarpet"
           }
          ],
          "heatmap": [
           {
            "colorbar": {
             "outlinewidth": 0,
             "ticks": ""
            },
            "colorscale": [
             [
              0,
              "#0d0887"
             ],
             [
              0.1111111111111111,
              "#46039f"
             ],
             [
              0.2222222222222222,
              "#7201a8"
             ],
             [
              0.3333333333333333,
              "#9c179e"
             ],
             [
              0.4444444444444444,
              "#bd3786"
             ],
             [
              0.5555555555555556,
              "#d8576b"
             ],
             [
              0.6666666666666666,
              "#ed7953"
             ],
             [
              0.7777777777777778,
              "#fb9f3a"
             ],
             [
              0.8888888888888888,
              "#fdca26"
             ],
             [
              1,
              "#f0f921"
             ]
            ],
            "type": "heatmap"
           }
          ],
          "heatmapgl": [
           {
            "colorbar": {
             "outlinewidth": 0,
             "ticks": ""
            },
            "colorscale": [
             [
              0,
              "#0d0887"
             ],
             [
              0.1111111111111111,
              "#46039f"
             ],
             [
              0.2222222222222222,
              "#7201a8"
             ],
             [
              0.3333333333333333,
              "#9c179e"
             ],
             [
              0.4444444444444444,
              "#bd3786"
             ],
             [
              0.5555555555555556,
              "#d8576b"
             ],
             [
              0.6666666666666666,
              "#ed7953"
             ],
             [
              0.7777777777777778,
              "#fb9f3a"
             ],
             [
              0.8888888888888888,
              "#fdca26"
             ],
             [
              1,
              "#f0f921"
             ]
            ],
            "type": "heatmapgl"
           }
          ],
          "histogram": [
           {
            "marker": {
             "pattern": {
              "fillmode": "overlay",
              "size": 10,
              "solidity": 0.2
             }
            },
            "type": "histogram"
           }
          ],
          "histogram2d": [
           {
            "colorbar": {
             "outlinewidth": 0,
             "ticks": ""
            },
            "colorscale": [
             [
              0,
              "#0d0887"
             ],
             [
              0.1111111111111111,
              "#46039f"
             ],
             [
              0.2222222222222222,
              "#7201a8"
             ],
             [
              0.3333333333333333,
              "#9c179e"
             ],
             [
              0.4444444444444444,
              "#bd3786"
             ],
             [
              0.5555555555555556,
              "#d8576b"
             ],
             [
              0.6666666666666666,
              "#ed7953"
             ],
             [
              0.7777777777777778,
              "#fb9f3a"
             ],
             [
              0.8888888888888888,
              "#fdca26"
             ],
             [
              1,
              "#f0f921"
             ]
            ],
            "type": "histogram2d"
           }
          ],
          "histogram2dcontour": [
           {
            "colorbar": {
             "outlinewidth": 0,
             "ticks": ""
            },
            "colorscale": [
             [
              0,
              "#0d0887"
             ],
             [
              0.1111111111111111,
              "#46039f"
             ],
             [
              0.2222222222222222,
              "#7201a8"
             ],
             [
              0.3333333333333333,
              "#9c179e"
             ],
             [
              0.4444444444444444,
              "#bd3786"
             ],
             [
              0.5555555555555556,
              "#d8576b"
             ],
             [
              0.6666666666666666,
              "#ed7953"
             ],
             [
              0.7777777777777778,
              "#fb9f3a"
             ],
             [
              0.8888888888888888,
              "#fdca26"
             ],
             [
              1,
              "#f0f921"
             ]
            ],
            "type": "histogram2dcontour"
           }
          ],
          "mesh3d": [
           {
            "colorbar": {
             "outlinewidth": 0,
             "ticks": ""
            },
            "type": "mesh3d"
           }
          ],
          "parcoords": [
           {
            "line": {
             "colorbar": {
              "outlinewidth": 0,
              "ticks": ""
             }
            },
            "type": "parcoords"
           }
          ],
          "pie": [
           {
            "automargin": true,
            "type": "pie"
           }
          ],
          "scatter": [
           {
            "fillpattern": {
             "fillmode": "overlay",
             "size": 10,
             "solidity": 0.2
            },
            "type": "scatter"
           }
          ],
          "scatter3d": [
           {
            "line": {
             "colorbar": {
              "outlinewidth": 0,
              "ticks": ""
             }
            },
            "marker": {
             "colorbar": {
              "outlinewidth": 0,
              "ticks": ""
             }
            },
            "type": "scatter3d"
           }
          ],
          "scattercarpet": [
           {
            "marker": {
             "colorbar": {
              "outlinewidth": 0,
              "ticks": ""
             }
            },
            "type": "scattercarpet"
           }
          ],
          "scattergeo": [
           {
            "marker": {
             "colorbar": {
              "outlinewidth": 0,
              "ticks": ""
             }
            },
            "type": "scattergeo"
           }
          ],
          "scattergl": [
           {
            "marker": {
             "colorbar": {
              "outlinewidth": 0,
              "ticks": ""
             }
            },
            "type": "scattergl"
           }
          ],
          "scattermapbox": [
           {
            "marker": {
             "colorbar": {
              "outlinewidth": 0,
              "ticks": ""
             }
            },
            "type": "scattermapbox"
           }
          ],
          "scatterpolar": [
           {
            "marker": {
             "colorbar": {
              "outlinewidth": 0,
              "ticks": ""
             }
            },
            "type": "scatterpolar"
           }
          ],
          "scatterpolargl": [
           {
            "marker": {
             "colorbar": {
              "outlinewidth": 0,
              "ticks": ""
             }
            },
            "type": "scatterpolargl"
           }
          ],
          "scatterternary": [
           {
            "marker": {
             "colorbar": {
              "outlinewidth": 0,
              "ticks": ""
             }
            },
            "type": "scatterternary"
           }
          ],
          "surface": [
           {
            "colorbar": {
             "outlinewidth": 0,
             "ticks": ""
            },
            "colorscale": [
             [
              0,
              "#0d0887"
             ],
             [
              0.1111111111111111,
              "#46039f"
             ],
             [
              0.2222222222222222,
              "#7201a8"
             ],
             [
              0.3333333333333333,
              "#9c179e"
             ],
             [
              0.4444444444444444,
              "#bd3786"
             ],
             [
              0.5555555555555556,
              "#d8576b"
             ],
             [
              0.6666666666666666,
              "#ed7953"
             ],
             [
              0.7777777777777778,
              "#fb9f3a"
             ],
             [
              0.8888888888888888,
              "#fdca26"
             ],
             [
              1,
              "#f0f921"
             ]
            ],
            "type": "surface"
           }
          ],
          "table": [
           {
            "cells": {
             "fill": {
              "color": "#EBF0F8"
             },
             "line": {
              "color": "white"
             }
            },
            "header": {
             "fill": {
              "color": "#C8D4E3"
             },
             "line": {
              "color": "white"
             }
            },
            "type": "table"
           }
          ]
         },
         "layout": {
          "annotationdefaults": {
           "arrowcolor": "#2a3f5f",
           "arrowhead": 0,
           "arrowwidth": 1
          },
          "autotypenumbers": "strict",
          "coloraxis": {
           "colorbar": {
            "outlinewidth": 0,
            "ticks": ""
           }
          },
          "colorscale": {
           "diverging": [
            [
             0,
             "#8e0152"
            ],
            [
             0.1,
             "#c51b7d"
            ],
            [
             0.2,
             "#de77ae"
            ],
            [
             0.3,
             "#f1b6da"
            ],
            [
             0.4,
             "#fde0ef"
            ],
            [
             0.5,
             "#f7f7f7"
            ],
            [
             0.6,
             "#e6f5d0"
            ],
            [
             0.7,
             "#b8e186"
            ],
            [
             0.8,
             "#7fbc41"
            ],
            [
             0.9,
             "#4d9221"
            ],
            [
             1,
             "#276419"
            ]
           ],
           "sequential": [
            [
             0,
             "#0d0887"
            ],
            [
             0.1111111111111111,
             "#46039f"
            ],
            [
             0.2222222222222222,
             "#7201a8"
            ],
            [
             0.3333333333333333,
             "#9c179e"
            ],
            [
             0.4444444444444444,
             "#bd3786"
            ],
            [
             0.5555555555555556,
             "#d8576b"
            ],
            [
             0.6666666666666666,
             "#ed7953"
            ],
            [
             0.7777777777777778,
             "#fb9f3a"
            ],
            [
             0.8888888888888888,
             "#fdca26"
            ],
            [
             1,
             "#f0f921"
            ]
           ],
           "sequentialminus": [
            [
             0,
             "#0d0887"
            ],
            [
             0.1111111111111111,
             "#46039f"
            ],
            [
             0.2222222222222222,
             "#7201a8"
            ],
            [
             0.3333333333333333,
             "#9c179e"
            ],
            [
             0.4444444444444444,
             "#bd3786"
            ],
            [
             0.5555555555555556,
             "#d8576b"
            ],
            [
             0.6666666666666666,
             "#ed7953"
            ],
            [
             0.7777777777777778,
             "#fb9f3a"
            ],
            [
             0.8888888888888888,
             "#fdca26"
            ],
            [
             1,
             "#f0f921"
            ]
           ]
          },
          "colorway": [
           "#636efa",
           "#EF553B",
           "#00cc96",
           "#ab63fa",
           "#FFA15A",
           "#19d3f3",
           "#FF6692",
           "#B6E880",
           "#FF97FF",
           "#FECB52"
          ],
          "font": {
           "color": "#2a3f5f"
          },
          "geo": {
           "bgcolor": "white",
           "lakecolor": "white",
           "landcolor": "#E5ECF6",
           "showlakes": true,
           "showland": true,
           "subunitcolor": "white"
          },
          "hoverlabel": {
           "align": "left"
          },
          "hovermode": "closest",
          "mapbox": {
           "style": "light"
          },
          "paper_bgcolor": "white",
          "plot_bgcolor": "#E5ECF6",
          "polar": {
           "angularaxis": {
            "gridcolor": "white",
            "linecolor": "white",
            "ticks": ""
           },
           "bgcolor": "#E5ECF6",
           "radialaxis": {
            "gridcolor": "white",
            "linecolor": "white",
            "ticks": ""
           }
          },
          "scene": {
           "xaxis": {
            "backgroundcolor": "#E5ECF6",
            "gridcolor": "white",
            "gridwidth": 2,
            "linecolor": "white",
            "showbackground": true,
            "ticks": "",
            "zerolinecolor": "white"
           },
           "yaxis": {
            "backgroundcolor": "#E5ECF6",
            "gridcolor": "white",
            "gridwidth": 2,
            "linecolor": "white",
            "showbackground": true,
            "ticks": "",
            "zerolinecolor": "white"
           },
           "zaxis": {
            "backgroundcolor": "#E5ECF6",
            "gridcolor": "white",
            "gridwidth": 2,
            "linecolor": "white",
            "showbackground": true,
            "ticks": "",
            "zerolinecolor": "white"
           }
          },
          "shapedefaults": {
           "line": {
            "color": "#2a3f5f"
           }
          },
          "ternary": {
           "aaxis": {
            "gridcolor": "white",
            "linecolor": "white",
            "ticks": ""
           },
           "baxis": {
            "gridcolor": "white",
            "linecolor": "white",
            "ticks": ""
           },
           "bgcolor": "#E5ECF6",
           "caxis": {
            "gridcolor": "white",
            "linecolor": "white",
            "ticks": ""
           }
          },
          "title": {
           "x": 0.05
          },
          "xaxis": {
           "automargin": true,
           "gridcolor": "white",
           "linecolor": "white",
           "ticks": "",
           "title": {
            "standoff": 15
           },
           "zerolinecolor": "white",
           "zerolinewidth": 2
          },
          "yaxis": {
           "automargin": true,
           "gridcolor": "white",
           "linecolor": "white",
           "ticks": "",
           "title": {
            "standoff": 15
           },
           "zerolinecolor": "white",
           "zerolinewidth": 2
          }
         }
        },
        "title": {
         "text": "Mode Choice Calibration Constants"
        },
        "width": 800,
        "xaxis": {
         "title": {
          "text": "Iteration"
         }
        },
        "yaxis": {
         "title": {
          "text": "Constant Value"
         }
        }
       }
      },
      "text/html": [
       "<div>                            <div id=\"9abb9a99-8179-42e0-9885-33668c12a680\" class=\"plotly-graph-div\" style=\"height:400px; width:800px;\"></div>            <script type=\"text/javascript\">                require([\"plotly\"], function(Plotly) {                    window.PLOTLYENV=window.PLOTLYENV || {};                                    if (document.getElementById(\"9abb9a99-8179-42e0-9885-33668c12a680\")) {                    Plotly.newPlot(                        \"9abb9a99-8179-42e0-9885-33668c12a680\",                        [{\"mode\":\"lines+markers\",\"name\":\"HBW Pk asc_nonmotor_0veh\",\"x\":[40,39,38,37,36,35,34,33,32,31,30,29,28,27,26,25,24,23,22,21,20,19,18,17,16,15,14,13,12,11,10,9,8,7,6,5,4,3,2,1,0],\"y\":[2.742799997329712,2.7328999042510986,2.7219998836517334,2.7100000381469727,2.6967999935150146,2.6821999549865723,2.6661999225616455,2.6486001014709473,2.629199981689453,2.6078999042510986,2.584399938583374,2.5585999488830566,2.5302999019622803,2.4992001056671143,2.465100049972534,2.4277000427246094,2.3866000175476074,2.341599941253662,2.29229998588562,2.2383999824523926,2.1793999671936035,2.1149001121520996,2.0445001125335693,1.9678000211715698,1.8842999935150146,1.7934999465942383,1.6950000524520874,1.5882999897003174,1.473099946975708,1.3493000268936157,1.2167999744415283,1.0759999752044678,0.9276999831199646,0.7735999822616577,0.616599977016449,0.46129998564720154,0.314300000667572,0.18469999730587006,0.08340000361204147,0.020600000396370888,0.0],\"type\":\"scatter\"}],                        {\"height\":400,\"template\":{\"data\":{\"barpolar\":[{\"marker\":{\"line\":{\"color\":\"#E5ECF6\",\"width\":0.5},\"pattern\":{\"fillmode\":\"overlay\",\"size\":10,\"solidity\":0.2}},\"type\":\"barpolar\"}],\"bar\":[{\"error_x\":{\"color\":\"#2a3f5f\"},\"error_y\":{\"color\":\"#2a3f5f\"},\"marker\":{\"line\":{\"color\":\"#E5ECF6\",\"width\":0.5},\"pattern\":{\"fillmode\":\"overlay\",\"size\":10,\"solidity\":0.2}},\"type\":\"bar\"}],\"carpet\":[{\"aaxis\":{\"endlinecolor\":\"#2a3f5f\",\"gridcolor\":\"white\",\"linecolor\":\"white\",\"minorgridcolor\":\"white\",\"startlinecolor\":\"#2a3f5f\"},\"baxis\":{\"endlinecolor\":\"#2a3f5f\",\"gridcolor\":\"white\",\"linecolor\":\"white\",\"minorgridcolor\":\"white\",\"startlinecolor\":\"#2a3f5f\"},\"type\":\"carpet\"}],\"choropleth\":[{\"colorbar\":{\"outlinewidth\":0,\"ticks\":\"\"},\"type\":\"choropleth\"}],\"contourcarpet\":[{\"colorbar\":{\"outlinewidth\":0,\"ticks\":\"\"},\"type\":\"contourcarpet\"}],\"contour\":[{\"colorbar\":{\"outlinewidth\":0,\"ticks\":\"\"},\"colorscale\":[[0.0,\"#0d0887\"],[0.1111111111111111,\"#46039f\"],[0.2222222222222222,\"#7201a8\"],[0.3333333333333333,\"#9c179e\"],[0.4444444444444444,\"#bd3786\"],[0.5555555555555556,\"#d8576b\"],[0.6666666666666666,\"#ed7953\"],[0.7777777777777778,\"#fb9f3a\"],[0.8888888888888888,\"#fdca26\"],[1.0,\"#f0f921\"]],\"type\":\"contour\"}],\"heatmapgl\":[{\"colorbar\":{\"outlinewidth\":0,\"ticks\":\"\"},\"colorscale\":[[0.0,\"#0d0887\"],[0.1111111111111111,\"#46039f\"],[0.2222222222222222,\"#7201a8\"],[0.3333333333333333,\"#9c179e\"],[0.4444444444444444,\"#bd3786\"],[0.5555555555555556,\"#d8576b\"],[0.6666666666666666,\"#ed7953\"],[0.7777777777777778,\"#fb9f3a\"],[0.8888888888888888,\"#fdca26\"],[1.0,\"#f0f921\"]],\"type\":\"heatmapgl\"}],\"heatmap\":[{\"colorbar\":{\"outlinewidth\":0,\"ticks\":\"\"},\"colorscale\":[[0.0,\"#0d0887\"],[0.1111111111111111,\"#46039f\"],[0.2222222222222222,\"#7201a8\"],[0.3333333333333333,\"#9c179e\"],[0.4444444444444444,\"#bd3786\"],[0.5555555555555556,\"#d8576b\"],[0.6666666666666666,\"#ed7953\"],[0.7777777777777778,\"#fb9f3a\"],[0.8888888888888888,\"#fdca26\"],[1.0,\"#f0f921\"]],\"type\":\"heatmap\"}],\"histogram2dcontour\":[{\"colorbar\":{\"outlinewidth\":0,\"ticks\":\"\"},\"colorscale\":[[0.0,\"#0d0887\"],[0.1111111111111111,\"#46039f\"],[0.2222222222222222,\"#7201a8\"],[0.3333333333333333,\"#9c179e\"],[0.4444444444444444,\"#bd3786\"],[0.5555555555555556,\"#d8576b\"],[0.6666666666666666,\"#ed7953\"],[0.7777777777777778,\"#fb9f3a\"],[0.8888888888888888,\"#fdca26\"],[1.0,\"#f0f921\"]],\"type\":\"histogram2dcontour\"}],\"histogram2d\":[{\"colorbar\":{\"outlinewidth\":0,\"ticks\":\"\"},\"colorscale\":[[0.0,\"#0d0887\"],[0.1111111111111111,\"#46039f\"],[0.2222222222222222,\"#7201a8\"],[0.3333333333333333,\"#9c179e\"],[0.4444444444444444,\"#bd3786\"],[0.5555555555555556,\"#d8576b\"],[0.6666666666666666,\"#ed7953\"],[0.7777777777777778,\"#fb9f3a\"],[0.8888888888888888,\"#fdca26\"],[1.0,\"#f0f921\"]],\"type\":\"histogram2d\"}],\"histogram\":[{\"marker\":{\"pattern\":{\"fillmode\":\"overlay\",\"size\":10,\"solidity\":0.2}},\"type\":\"histogram\"}],\"mesh3d\":[{\"colorbar\":{\"outlinewidth\":0,\"ticks\":\"\"},\"type\":\"mesh3d\"}],\"parcoords\":[{\"line\":{\"colorbar\":{\"outlinewidth\":0,\"ticks\":\"\"}},\"type\":\"parcoords\"}],\"pie\":[{\"automargin\":true,\"type\":\"pie\"}],\"scatter3d\":[{\"line\":{\"colorbar\":{\"outlinewidth\":0,\"ticks\":\"\"}},\"marker\":{\"colorbar\":{\"outlinewidth\":0,\"ticks\":\"\"}},\"type\":\"scatter3d\"}],\"scattercarpet\":[{\"marker\":{\"colorbar\":{\"outlinewidth\":0,\"ticks\":\"\"}},\"type\":\"scattercarpet\"}],\"scattergeo\":[{\"marker\":{\"colorbar\":{\"outlinewidth\":0,\"ticks\":\"\"}},\"type\":\"scattergeo\"}],\"scattergl\":[{\"marker\":{\"colorbar\":{\"outlinewidth\":0,\"ticks\":\"\"}},\"type\":\"scattergl\"}],\"scattermapbox\":[{\"marker\":{\"colorbar\":{\"outlinewidth\":0,\"ticks\":\"\"}},\"type\":\"scattermapbox\"}],\"scatterpolargl\":[{\"marker\":{\"colorbar\":{\"outlinewidth\":0,\"ticks\":\"\"}},\"type\":\"scatterpolargl\"}],\"scatterpolar\":[{\"marker\":{\"colorbar\":{\"outlinewidth\":0,\"ticks\":\"\"}},\"type\":\"scatterpolar\"}],\"scatter\":[{\"fillpattern\":{\"fillmode\":\"overlay\",\"size\":10,\"solidity\":0.2},\"type\":\"scatter\"}],\"scatterternary\":[{\"marker\":{\"colorbar\":{\"outlinewidth\":0,\"ticks\":\"\"}},\"type\":\"scatterternary\"}],\"surface\":[{\"colorbar\":{\"outlinewidth\":0,\"ticks\":\"\"},\"colorscale\":[[0.0,\"#0d0887\"],[0.1111111111111111,\"#46039f\"],[0.2222222222222222,\"#7201a8\"],[0.3333333333333333,\"#9c179e\"],[0.4444444444444444,\"#bd3786\"],[0.5555555555555556,\"#d8576b\"],[0.6666666666666666,\"#ed7953\"],[0.7777777777777778,\"#fb9f3a\"],[0.8888888888888888,\"#fdca26\"],[1.0,\"#f0f921\"]],\"type\":\"surface\"}],\"table\":[{\"cells\":{\"fill\":{\"color\":\"#EBF0F8\"},\"line\":{\"color\":\"white\"}},\"header\":{\"fill\":{\"color\":\"#C8D4E3\"},\"line\":{\"color\":\"white\"}},\"type\":\"table\"}]},\"layout\":{\"annotationdefaults\":{\"arrowcolor\":\"#2a3f5f\",\"arrowhead\":0,\"arrowwidth\":1},\"autotypenumbers\":\"strict\",\"coloraxis\":{\"colorbar\":{\"outlinewidth\":0,\"ticks\":\"\"}},\"colorscale\":{\"diverging\":[[0,\"#8e0152\"],[0.1,\"#c51b7d\"],[0.2,\"#de77ae\"],[0.3,\"#f1b6da\"],[0.4,\"#fde0ef\"],[0.5,\"#f7f7f7\"],[0.6,\"#e6f5d0\"],[0.7,\"#b8e186\"],[0.8,\"#7fbc41\"],[0.9,\"#4d9221\"],[1,\"#276419\"]],\"sequential\":[[0.0,\"#0d0887\"],[0.1111111111111111,\"#46039f\"],[0.2222222222222222,\"#7201a8\"],[0.3333333333333333,\"#9c179e\"],[0.4444444444444444,\"#bd3786\"],[0.5555555555555556,\"#d8576b\"],[0.6666666666666666,\"#ed7953\"],[0.7777777777777778,\"#fb9f3a\"],[0.8888888888888888,\"#fdca26\"],[1.0,\"#f0f921\"]],\"sequentialminus\":[[0.0,\"#0d0887\"],[0.1111111111111111,\"#46039f\"],[0.2222222222222222,\"#7201a8\"],[0.3333333333333333,\"#9c179e\"],[0.4444444444444444,\"#bd3786\"],[0.5555555555555556,\"#d8576b\"],[0.6666666666666666,\"#ed7953\"],[0.7777777777777778,\"#fb9f3a\"],[0.8888888888888888,\"#fdca26\"],[1.0,\"#f0f921\"]]},\"colorway\":[\"#636efa\",\"#EF553B\",\"#00cc96\",\"#ab63fa\",\"#FFA15A\",\"#19d3f3\",\"#FF6692\",\"#B6E880\",\"#FF97FF\",\"#FECB52\"],\"font\":{\"color\":\"#2a3f5f\"},\"geo\":{\"bgcolor\":\"white\",\"lakecolor\":\"white\",\"landcolor\":\"#E5ECF6\",\"showlakes\":true,\"showland\":true,\"subunitcolor\":\"white\"},\"hoverlabel\":{\"align\":\"left\"},\"hovermode\":\"closest\",\"mapbox\":{\"style\":\"light\"},\"paper_bgcolor\":\"white\",\"plot_bgcolor\":\"#E5ECF6\",\"polar\":{\"angularaxis\":{\"gridcolor\":\"white\",\"linecolor\":\"white\",\"ticks\":\"\"},\"bgcolor\":\"#E5ECF6\",\"radialaxis\":{\"gridcolor\":\"white\",\"linecolor\":\"white\",\"ticks\":\"\"}},\"scene\":{\"xaxis\":{\"backgroundcolor\":\"#E5ECF6\",\"gridcolor\":\"white\",\"gridwidth\":2,\"linecolor\":\"white\",\"showbackground\":true,\"ticks\":\"\",\"zerolinecolor\":\"white\"},\"yaxis\":{\"backgroundcolor\":\"#E5ECF6\",\"gridcolor\":\"white\",\"gridwidth\":2,\"linecolor\":\"white\",\"showbackground\":true,\"ticks\":\"\",\"zerolinecolor\":\"white\"},\"zaxis\":{\"backgroundcolor\":\"#E5ECF6\",\"gridcolor\":\"white\",\"gridwidth\":2,\"linecolor\":\"white\",\"showbackground\":true,\"ticks\":\"\",\"zerolinecolor\":\"white\"}},\"shapedefaults\":{\"line\":{\"color\":\"#2a3f5f\"}},\"ternary\":{\"aaxis\":{\"gridcolor\":\"white\",\"linecolor\":\"white\",\"ticks\":\"\"},\"baxis\":{\"gridcolor\":\"white\",\"linecolor\":\"white\",\"ticks\":\"\"},\"bgcolor\":\"#E5ECF6\",\"caxis\":{\"gridcolor\":\"white\",\"linecolor\":\"white\",\"ticks\":\"\"}},\"title\":{\"x\":0.05},\"xaxis\":{\"automargin\":true,\"gridcolor\":\"white\",\"linecolor\":\"white\",\"ticks\":\"\",\"title\":{\"standoff\":15},\"zerolinecolor\":\"white\",\"zerolinewidth\":2},\"yaxis\":{\"automargin\":true,\"gridcolor\":\"white\",\"linecolor\":\"white\",\"ticks\":\"\",\"title\":{\"standoff\":15},\"zerolinecolor\":\"white\",\"zerolinewidth\":2}}},\"title\":{\"text\":\"Mode Choice Calibration Constants\"},\"width\":800,\"xaxis\":{\"title\":{\"text\":\"Iteration\"}},\"yaxis\":{\"title\":{\"text\":\"Constant Value\"}}},                        {\"responsive\": true}                    ).then(function(){\n",
       "                            \n",
       "var gd = document.getElementById('9abb9a99-8179-42e0-9885-33668c12a680');\n",
       "var x = new MutationObserver(function (mutations, observer) {{\n",
       "        var display = window.getComputedStyle(gd).display;\n",
       "        if (!display || display === 'none') {{\n",
       "            console.log([gd, 'removed!']);\n",
       "            Plotly.purge(gd);\n",
       "            observer.disconnect();\n",
       "        }}\n",
       "}});\n",
       "\n",
       "// Listen for the removal of the full notebook cells\n",
       "var notebookContainer = gd.closest('#notebook-container');\n",
       "if (notebookContainer) {{\n",
       "    x.observe(notebookContainer, {childList: true});\n",
       "}}\n",
       "\n",
       "// Listen for the clearing of the current output cell\n",
       "var outputEl = gd.closest('.output');\n",
       "if (outputEl) {{\n",
       "    x.observe(outputEl, {childList: true});\n",
       "}}\n",
       "\n",
       "                        })                };                });            </script>        </div>"
      ]
     },
     "metadata": {},
     "output_type": "display_data"
    },
    {
     "data": {
      "application/vnd.jupyter.widget-view+json": {
       "model_id": "29191a5d11cf4fba8e813016cdd93dad",
       "version_major": 2,
       "version_minor": 0
      },
      "text/plain": [
       "interactive(children=(SelectMultiple(description='Trip Purposes', index=(2,), options=('HBC', 'HBO', 'HBW', 'N…"
      ]
     },
     "execution_count": 38,
     "metadata": {},
     "output_type": "execute_result"
    },
    {
     "data": {
      "application/vnd.plotly.v1+json": {
       "config": {
        "linkText": "Export to plot.ly",
        "plotlyServerURL": "https://plot.ly",
        "showLink": false
       },
       "data": [
        {
         "mode": "lines+markers",
         "name": "HBW Pk asc_nonmotor_0veh",
         "type": "scatter",
         "x": [
          40,
          39,
          38,
          37,
          36,
          35,
          34,
          33,
          32,
          31,
          30,
          29,
          28,
          27,
          26,
          25,
          24,
          23,
          22,
          21,
          20,
          19,
          18,
          17,
          16,
          15,
          14,
          13,
          12,
          11,
          10,
          9,
          8,
          7,
          6,
          5,
          4,
          3,
          2,
          1,
          0
         ],
         "y": [
          2.742799997329712,
          2.7328999042510986,
          2.7219998836517334,
          2.7100000381469727,
          2.6967999935150146,
          2.6821999549865723,
          2.6661999225616455,
          2.6486001014709473,
          2.629199981689453,
          2.6078999042510986,
          2.584399938583374,
          2.5585999488830566,
          2.5302999019622803,
          2.4992001056671143,
          2.465100049972534,
          2.4277000427246094,
          2.3866000175476074,
          2.341599941253662,
          2.29229998588562,
          2.2383999824523926,
          2.1793999671936035,
          2.1149001121520996,
          2.0445001125335693,
          1.9678000211715698,
          1.8842999935150146,
          1.7934999465942383,
          1.6950000524520874,
          1.5882999897003174,
          1.473099946975708,
          1.3493000268936157,
          1.2167999744415283,
          1.0759999752044678,
          0.9276999831199646,
          0.7735999822616577,
          0.616599977016449,
          0.46129998564720154,
          0.314300000667572,
          0.18469999730587006,
          0.08340000361204147,
          0.020600000396370888,
          0
         ]
        },
        {
         "mode": "lines+markers",
         "name": "HBW Pk asc_nonmotor_1veh",
         "type": "scatter",
         "x": [
          40,
          39,
          38,
          37,
          36,
          35,
          34,
          33,
          32,
          31,
          30,
          29,
          28,
          27,
          26,
          25,
          24,
          23,
          22,
          21,
          20,
          19,
          18,
          17,
          16,
          15,
          14,
          13,
          12,
          11,
          10,
          9,
          8,
          7,
          6,
          5,
          4,
          3,
          2,
          1,
          0
         ],
         "y": [
          0.483599990606308,
          0.48179998993873596,
          0.4797999858856201,
          0.47760000824928284,
          0.47510001063346863,
          0.4722000062465668,
          0.46889999508857727,
          0.4652000069618225,
          0.460999995470047,
          0.4562000036239624,
          0.4507000148296356,
          0.44449999928474426,
          0.4374000132083893,
          0.4293000102043152,
          0.41999998688697815,
          0.4092999994754791,
          0.3970000147819519,
          0.3828999996185303,
          0.3666999936103821,
          0.3481000065803528,
          0.32670000195503235,
          0.30219998955726624,
          0.2741999924182892,
          0.24220000207424164,
          0.20569999516010284,
          0.16429999470710754,
          0.1177000030875206,
          0.06549999862909317,
          0.007699999958276749,
          -0.055399999022483826,
          -0.12309999763965607,
          -0.19380000233650208,
          -0.2648000121116638,
          -0.3319999873638153,
          -0.38929998874664307,
          -0.4284000098705292,
          -0.4388999938964844,
          -0.4090999960899353,
          -0.32820001244544983,
          -0.19040000438690186,
          0
         ]
        },
        {
         "mode": "lines+markers",
         "name": "HBW Pk asc_nonmotor_2veh",
         "type": "scatter",
         "x": [
          40,
          39,
          38,
          37,
          36,
          35,
          34,
          33,
          32,
          31,
          30,
          29,
          28,
          27,
          26,
          25,
          24,
          23,
          22,
          21,
          20,
          19,
          18,
          17,
          16,
          15,
          14,
          13,
          12,
          11,
          10,
          9,
          8,
          7,
          6,
          5,
          4,
          3,
          2,
          1,
          0
         ],
         "y": [
          -1.0724999904632568,
          -1.0736000537872314,
          -1.0748000144958496,
          -1.0760999917984009,
          -1.0776000022888184,
          -1.079300045967102,
          -1.0812000036239624,
          -1.083400011062622,
          -1.0858999490737915,
          -1.0887000560760498,
          -1.0920000076293945,
          -1.0957000255584717,
          -1.100000023841858,
          -1.1049000024795532,
          -1.1105999946594238,
          -1.1172000169754028,
          -1.124899983406067,
          -1.1338000297546387,
          -1.1441999673843384,
          -1.1563999652862549,
          -1.1706000566482544,
          -1.1871999502182007,
          -1.2065000534057617,
          -1.2288999557495117,
          -1.2548999786376953,
          -1.2848000526428223,
          -1.319000005722046,
          -1.3575999736785889,
          -1.4005999565124512,
          -1.4472999572753906,
          -1.4960999488830566,
          -1.5443999767303467,
          -1.587399959564209,
          -1.6175999641418457,
          -1.6237000226974487,
          -1.589400053024292,
          -1.4925999641418457,
          -1.306399941444397,
          -1.0032000541687012,
          -0.5656999945640564,
          0
         ]
        },
        {
         "mode": "lines+markers",
         "name": "HBW Pk asc_transit_0veh",
         "type": "scatter",
         "x": [
          40,
          39,
          38,
          37,
          36,
          35,
          34,
          33,
          32,
          31,
          30,
          29,
          28,
          27,
          26,
          25,
          24,
          23,
          22,
          21,
          20,
          19,
          18,
          17,
          16,
          15,
          14,
          13,
          12,
          11,
          10,
          9,
          8,
          7,
          6,
          5,
          4,
          3,
          2,
          1,
          0
         ],
         "y": [
          3.305799961090088,
          3.3036000728607178,
          3.301100015640259,
          3.29830002784729,
          3.2952001094818115,
          3.2916998863220215,
          3.2878000736236572,
          3.283400058746338,
          3.2785000801086426,
          3.2730000019073486,
          3.2667999267578125,
          3.2597999572753906,
          3.2518999576568604,
          3.2430999279022217,
          3.233099937438965,
          3.22189998626709,
          3.209199905395508,
          3.1949000358581543,
          3.178800106048584,
          3.1605000495910645,
          3.1398000717163086,
          3.1164000034332275,
          3.0897998809814453,
          3.059499979019165,
          3.0250000953674316,
          2.985599994659424,
          2.9405999183654785,
          2.8889999389648438,
          2.8296000957489014,
          2.7611000537872314,
          2.6819000244140625,
          2.5897998809814453,
          2.4821999073028564,
          2.3557000160217285,
          2.2058000564575195,
          2.026099920272827,
          1.8071999549865723,
          1.534000039100647,
          1.1801999807357788,
          0.6972000002861023,
          0
         ]
        },
        {
         "mode": "lines+markers",
         "name": "HBW Pk asc_transit_1veh",
         "type": "scatter",
         "x": [
          40,
          39,
          38,
          37,
          36,
          35,
          34,
          33,
          32,
          31,
          30,
          29,
          28,
          27,
          26,
          25,
          24,
          23,
          22,
          21,
          20,
          19,
          18,
          17,
          16,
          15,
          14,
          13,
          12,
          11,
          10,
          9,
          8,
          7,
          6,
          5,
          4,
          3,
          2,
          1,
          0
         ],
         "y": [
          -0.07289999723434448,
          -0.0738999992609024,
          -0.07490000128746033,
          -0.07599999755620956,
          -0.0771000012755394,
          -0.07819999754428864,
          -0.07940000295639038,
          -0.08060000091791153,
          -0.08179999887943268,
          -0.08299999684095383,
          -0.08429999649524689,
          -0.08550000190734863,
          -0.08669999986886978,
          -0.08780000358819962,
          -0.08879999816417694,
          -0.08969999849796295,
          -0.09049999713897705,
          -0.09109999984502792,
          -0.09139999747276306,
          -0.09149999916553497,
          -0.09120000153779984,
          -0.09049999713897705,
          -0.0892999991774559,
          -0.08760000020265579,
          -0.08529999852180481,
          -0.08240000158548355,
          -0.0786999985575676,
          -0.07419999688863754,
          -0.06889999657869339,
          -0.0625,
          -0.054999999701976776,
          -0.04600000008940697,
          -0.03530000150203705,
          -0.02239999920129776,
          -0.006800000090152025,
          0.011699999682605267,
          0.032600000500679016,
          0.05350000038743019,
          0.0674000009894371,
          0.058800000697374344,
          0
         ]
        },
        {
         "mode": "lines+markers",
         "name": "HBW Pk asc_transit_2veh",
         "type": "scatter",
         "x": [
          40,
          39,
          38,
          37,
          36,
          35,
          34,
          33,
          32,
          31,
          30,
          29,
          28,
          27,
          26,
          25,
          24,
          23,
          22,
          21,
          20,
          19,
          18,
          17,
          16,
          15,
          14,
          13,
          12,
          11,
          10,
          9,
          8,
          7,
          6,
          5,
          4,
          3,
          2,
          1,
          0
         ],
         "y": [
          -1.2269999980926514,
          -1.229200005531311,
          -1.2315000295639038,
          -1.2338999509811401,
          -1.2364000082015991,
          -1.2389999628067017,
          -1.2417000532150269,
          -1.2446000576019287,
          -1.247499942779541,
          -1.250499963760376,
          -1.253600001335144,
          -1.256700038909912,
          -1.2598999738693237,
          -1.263100028038025,
          -1.2661999464035034,
          -1.2692999839782715,
          -1.2723000049591064,
          -1.274999976158142,
          -1.277500033378601,
          -1.2797000408172607,
          -1.2812999486923218,
          -1.2824000120162964,
          -1.2826999425888062,
          -1.282099962234497,
          -1.2802000045776367,
          -1.2768000364303589,
          -1.2714999914169312,
          -1.2635999917984009,
          -1.252500057220459,
          -1.2369999885559082,
          -1.2157000303268433,
          -1.1865999698638916,
          -1.1469000577926636,
          -1.0927000045776367,
          -1.0189000368118286,
          -0.9193999767303467,
          -0.7871999740600586,
          -0.6169999837875366,
          -0.4104999899864197,
          -0.1875,
          0
         ]
        },
        {
         "mode": "lines+markers",
         "name": "HBW Pk asc_shared_1veh",
         "type": "scatter",
         "x": [
          40,
          39,
          38,
          37,
          36,
          35,
          34,
          33,
          32,
          31,
          30,
          29,
          28,
          27,
          26,
          25,
          24,
          23,
          22,
          21,
          20,
          19,
          18,
          17,
          16,
          15,
          14,
          13,
          12,
          11,
          10,
          9,
          8,
          7,
          6,
          5,
          4,
          3,
          2,
          1,
          0
         ],
         "y": [
          -0.9760000109672546,
          -0.9760000109672546,
          -0.9760000109672546,
          -0.9760000109672546,
          -0.9760000109672546,
          -0.9760000109672546,
          -0.9760000109672546,
          -0.9758999943733215,
          -0.9758999943733215,
          -0.9758999943733215,
          -0.9758999943733215,
          -0.9757999777793884,
          -0.9757999777793884,
          -0.9757000207901001,
          -0.9757000207901001,
          -0.975600004196167,
          -0.9754999876022339,
          -0.9753999710083008,
          -0.9753000140190125,
          -0.9751999974250793,
          -0.9750999808311462,
          -0.9749000072479248,
          -0.9746999740600586,
          -0.974399983882904,
          -0.9740999937057495,
          -0.9735999703407288,
          -0.9728999733924866,
          -0.9718000292778015,
          -0.9702000021934509,
          -0.9677000045776367,
          -0.9638000130653381,
          -0.9574999809265137,
          -0.9473000168800354,
          -0.9308000206947327,
          -0.9042999744415283,
          -0.8616999983787537,
          -0.7940999865531921,
          -0.6887999773025513,
          -0.5299999713897705,
          -0.3025999963283539,
          0
         ]
        },
        {
         "mode": "lines+markers",
         "name": "HBW Pk asc_shared_2veh",
         "type": "scatter",
         "x": [
          40,
          39,
          38,
          37,
          36,
          35,
          34,
          33,
          32,
          31,
          30,
          29,
          28,
          27,
          26,
          25,
          24,
          23,
          22,
          21,
          20,
          19,
          18,
          17,
          16,
          15,
          14,
          13,
          12,
          11,
          10,
          9,
          8,
          7,
          6,
          5,
          4,
          3,
          2,
          1,
          0
         ],
         "y": [
          -1.3309999704360962,
          -1.3309999704360962,
          -1.3309999704360962,
          -1.3309999704360962,
          -1.3309999704360962,
          -1.3309999704360962,
          -1.3309999704360962,
          -1.3309999704360962,
          -1.3309999704360962,
          -1.3309999704360962,
          -1.3309999704360962,
          -1.3309999704360962,
          -1.3309999704360962,
          -1.3309999704360962,
          -1.3309999704360962,
          -1.330899953842163,
          -1.330899953842163,
          -1.330899953842163,
          -1.330899953842163,
          -1.330899953842163,
          -1.330899953842163,
          -1.3308000564575195,
          -1.3307000398635864,
          -1.3306000232696533,
          -1.3305000066757202,
          -1.330299973487854,
          -1.3300000429153442,
          -1.3293999433517456,
          -1.3284000158309937,
          -1.32669997215271,
          -1.323799967765808,
          -1.3187999725341797,
          -1.309999942779541,
          -1.2944999933242798,
          -1.2675000429153442,
          -1.2203999757766724,
          -1.13919997215271,
          -1.0020999908447266,
          -0.7802000045776367,
          -0.4471000134944916,
          0
         ]
        },
        {
         "mode": "lines+markers",
         "name": "HBW Pk asc_sr3_all",
         "type": "scatter",
         "x": [
          40,
          39,
          38,
          37,
          36,
          35,
          34,
          33,
          32,
          31,
          30,
          29,
          28,
          27,
          26,
          25,
          24,
          23,
          22,
          21,
          20,
          19,
          18,
          17,
          16,
          15,
          14,
          13,
          12,
          11,
          10,
          9,
          8,
          7,
          6,
          5,
          4,
          3,
          2,
          1,
          0
         ],
         "y": [
          -0.16940000653266907,
          -0.16940000653266907,
          -0.16940000653266907,
          -0.16940000653266907,
          -0.16940000653266907,
          -0.16940000653266907,
          -0.16940000653266907,
          -0.16940000653266907,
          -0.16940000653266907,
          -0.16940000653266907,
          -0.16940000653266907,
          -0.16940000653266907,
          -0.16940000653266907,
          -0.16940000653266907,
          -0.16940000653266907,
          -0.16940000653266907,
          -0.16940000653266907,
          -0.16940000653266907,
          -0.16940000653266907,
          -0.16940000653266907,
          -0.16940000653266907,
          -0.16940000653266907,
          -0.16940000653266907,
          -0.16940000653266907,
          -0.16940000653266907,
          -0.16940000653266907,
          -0.16940000653266907,
          -0.16940000653266907,
          -0.16940000653266907,
          -0.16940000653266907,
          -0.16940000653266907,
          -0.16930000483989716,
          -0.16899999976158142,
          -0.16840000450611115,
          -0.1671999990940094,
          -0.16459999978542328,
          -0.15919999778270721,
          -0.14800000190734863,
          -0.12540000677108765,
          -0.08110000193119049,
          0
         ]
        },
        {
         "mode": "lines+markers",
         "name": "HBW Pk asc_hov_all",
         "type": "scatter",
         "x": [
          40,
          39,
          38,
          37,
          36,
          35,
          34,
          33,
          32,
          31,
          30,
          29,
          28,
          27,
          26,
          25,
          24,
          23,
          22,
          21,
          20,
          19,
          18,
          17,
          16,
          15,
          14,
          13,
          12,
          11,
          10,
          9,
          8,
          7,
          6,
          5,
          4,
          3,
          2,
          1,
          0
         ],
         "y": [
          0.11249999701976776,
          0.11249999701976776,
          0.11249999701976776,
          0.11249999701976776,
          0.11249999701976776,
          0.11249999701976776,
          0.11249999701976776,
          0.11249999701976776,
          0.11249999701976776,
          0.11249999701976776,
          0.11249999701976776,
          0.11249999701976776,
          0.11249999701976776,
          0.11249999701976776,
          0.11249999701976776,
          0.11249999701976776,
          0.11249999701976776,
          0.11249999701976776,
          0.11249999701976776,
          0.11249999701976776,
          0.11249999701976776,
          0.11249999701976776,
          0.11249999701976776,
          0.11249999701976776,
          0.11249999701976776,
          0.11249999701976776,
          0.11249999701976776,
          0.11249999701976776,
          0.11249999701976776,
          0.11249999701976776,
          0.11249999701976776,
          0.11249999701976776,
          0.11249999701976776,
          0.11249999701976776,
          0.11249999701976776,
          0.11249999701976776,
          0.11249999701976776,
          0.11249999701976776,
          0.11249999701976776,
          0.11249999701976776,
          0.11249999701976776
         ]
        },
        {
         "mode": "lines+markers",
         "name": "HBW Pk asc_toll_all",
         "type": "scatter",
         "x": [
          40,
          39,
          38,
          37,
          36,
          35,
          34,
          33,
          32,
          31,
          30,
          29,
          28,
          27,
          26,
          25,
          24,
          23,
          22,
          21,
          20,
          19,
          18,
          17,
          16,
          15,
          14,
          13,
          12,
          11,
          10,
          9,
          8,
          7,
          6,
          5,
          4,
          3,
          2,
          1,
          0
         ],
         "y": [
          -0.44999998807907104,
          -0.44999998807907104,
          -0.44999998807907104,
          -0.44999998807907104,
          -0.44999998807907104,
          -0.44999998807907104,
          -0.44999998807907104,
          -0.44999998807907104,
          -0.44999998807907104,
          -0.44999998807907104,
          -0.44999998807907104,
          -0.44999998807907104,
          -0.44999998807907104,
          -0.44999998807907104,
          -0.44999998807907104,
          -0.44999998807907104,
          -0.44999998807907104,
          -0.44999998807907104,
          -0.44999998807907104,
          -0.44999998807907104,
          -0.44999998807907104,
          -0.44999998807907104,
          -0.44999998807907104,
          -0.44999998807907104,
          -0.44999998807907104,
          -0.44999998807907104,
          -0.44999998807907104,
          -0.44999998807907104,
          -0.44999998807907104,
          -0.44999998807907104,
          -0.44999998807907104,
          -0.44999998807907104,
          -0.44999998807907104,
          -0.44999998807907104,
          -0.44999998807907104,
          -0.44999998807907104,
          -0.44999998807907104,
          -0.44999998807907104,
          -0.44999998807907104,
          -0.44999998807907104,
          -0.44999998807907104
         ]
        },
        {
         "mode": "lines+markers",
         "name": "HBW Pk asc_EXP_all",
         "type": "scatter",
         "x": [
          40,
          39,
          38,
          37,
          36,
          35,
          34,
          33,
          32,
          31,
          30,
          29,
          28,
          27,
          26,
          25,
          24,
          23,
          22,
          21,
          20,
          19,
          18,
          17,
          16,
          15,
          14,
          13,
          12,
          11,
          10,
          9,
          8,
          7,
          6,
          5,
          4,
          3,
          2,
          1,
          0
         ],
         "y": [
          0.4341999888420105,
          0.427700012922287,
          0.4212999939918518,
          0.414900004863739,
          0.40849998593330383,
          0.4020000100135803,
          0.39559999108314514,
          0.38920000195503235,
          0.38269999623298645,
          0.37630000710487366,
          0.36980000138282776,
          0.36329999566078186,
          0.35679998993873596,
          0.35030001401901245,
          0.34369999170303345,
          0.3370000123977661,
          0.3303000032901764,
          0.32350000739097595,
          0.3167000114917755,
          0.30970001220703125,
          0.302700012922287,
          0.2955999970436096,
          0.2883000075817108,
          0.2809000015258789,
          0.2734000086784363,
          0.26570001244544983,
          0.257999986410141,
          0.2502000033855438,
          0.24250000715255737,
          0.23499999940395355,
          0.2280000001192093,
          0.22179999947547913,
          0.21699999272823334,
          0.2143000066280365,
          0.21469999849796295,
          0.2190999984741211,
          0.22779999673366547,
          0.23849999904632568,
          0.2410999983549118,
          0.2004999965429306,
          0
         ]
        },
        {
         "mode": "lines+markers",
         "name": "HBW Pk asc_BRT_all",
         "type": "scatter",
         "x": [
          40,
          39,
          38,
          37,
          36,
          35,
          34,
          33,
          32,
          31,
          30,
          29,
          28,
          27,
          26,
          25,
          24,
          23,
          22,
          21,
          20,
          19,
          18,
          17,
          16,
          15,
          14,
          13,
          12,
          11,
          10,
          9,
          8,
          7,
          6,
          5,
          4,
          3,
          2,
          1,
          0
         ],
         "y": [
          0.2199999988079071,
          0.22210000455379486,
          0.2240999937057495,
          0.22599999606609344,
          0.22779999673366547,
          0.22949999570846558,
          0.23109999299049377,
          0.23260000348091125,
          0.23399999737739563,
          0.23520000278949738,
          0.2362000048160553,
          0.2371000051498413,
          0.2378000020980835,
          0.23829999566078186,
          0.23849999904632568,
          0.23839999735355377,
          0.23800000548362732,
          0.23729999363422394,
          0.2362000048160553,
          0.2345999926328659,
          0.23250000178813934,
          0.22990000247955322,
          0.22669999301433563,
          0.22280000150203705,
          0.21809999644756317,
          0.2125999927520752,
          0.2062000036239624,
          0.1987999975681305,
          0.19030000269412994,
          0.18070000410079956,
          0.16979999840259552,
          0.15729999542236328,
          0.14300000667572021,
          0.12630000710487366,
          0.1062999963760376,
          0.08169999718666077,
          0.05079999938607216,
          0.012400000356137753,
          -0.03099999949336052,
          -0.060499999672174454,
          0
         ]
        },
        {
         "mode": "lines+markers",
         "name": "HBW Pk asc_LRT_all",
         "type": "scatter",
         "x": [
          40,
          39,
          38,
          37,
          36,
          35,
          34,
          33,
          32,
          31,
          30,
          29,
          28,
          27,
          26,
          25,
          24,
          23,
          22,
          21,
          20,
          19,
          18,
          17,
          16,
          15,
          14,
          13,
          12,
          11,
          10,
          9,
          8,
          7,
          6,
          5,
          4,
          3,
          2,
          1,
          0
         ],
         "y": [
          0.2565000057220459,
          0.2556999921798706,
          0.2547999918460846,
          0.2538999915122986,
          0.2529999911785126,
          0.25200000405311584,
          0.25099998712539673,
          0.2498999983072281,
          0.24879999458789825,
          0.2476000040769577,
          0.24639999866485596,
          0.24500000476837158,
          0.2434999942779541,
          0.24199999868869781,
          0.2402999997138977,
          0.23849999904632568,
          0.23649999499320984,
          0.23430000245571136,
          0.23190000653266907,
          0.22920000553131104,
          0.22630000114440918,
          0.22300000488758087,
          0.21930000185966492,
          0.2152000069618225,
          0.21050000190734863,
          0.20520000159740448,
          0.19920000433921814,
          0.19249999523162842,
          0.18490000069141388,
          0.17630000412464142,
          0.16660000383853912,
          0.15569999814033508,
          0.14329999685287476,
          0.1290999948978424,
          0.11259999871253967,
          0.09300000220537186,
          0.06870000064373016,
          0.03799999877810478,
          0.0005000000237487257,
          -0.03229999914765358,
          0
         ]
        },
        {
         "mode": "lines+markers",
         "name": "HBW Pk asc_CRT_all",
         "type": "scatter",
         "x": [
          40,
          39,
          38,
          37,
          36,
          35,
          34,
          33,
          32,
          31,
          30,
          29,
          28,
          27,
          26,
          25,
          24,
          23,
          22,
          21,
          20,
          19,
          18,
          17,
          16,
          15,
          14,
          13,
          12,
          11,
          10,
          9,
          8,
          7,
          6,
          5,
          4,
          3,
          2,
          1,
          0
         ],
         "y": [
          0.5031999945640564,
          0.4984000027179718,
          0.4936000108718872,
          0.4887999892234802,
          0.48399999737739563,
          0.47920000553131104,
          0.47440001368522644,
          0.46959999203681946,
          0.46470001339912415,
          0.45980000495910645,
          0.45489999651908875,
          0.44999998807907104,
          0.4449999928474426,
          0.4399000108242035,
          0.43479999899864197,
          0.4296000003814697,
          0.4242999851703644,
          0.4189000129699707,
          0.4133000075817108,
          0.4075999855995178,
          0.4016999900341034,
          0.3955000042915344,
          0.38909998536109924,
          0.3824000060558319,
          0.37529999017715454,
          0.367900013923645,
          0.36000001430511475,
          0.3517000079154968,
          0.34290000796318054,
          0.3337000012397766,
          0.3240000009536743,
          0.3140999972820282,
          0.30410000681877136,
          0.29440000653266907,
          0.28540000319480896,
          0.2775000035762787,
          0.2709999978542328,
          0.26489999890327454,
          0.25380000472068787,
          0.21449999511241913,
          0
         ]
        },
        {
         "mode": "lines+markers",
         "name": "HBW Pk asc_driveacc_1veh",
         "type": "scatter",
         "x": [
          40,
          39,
          38,
          37,
          36,
          35,
          34,
          33,
          32,
          31,
          30,
          29,
          28,
          27,
          26,
          25,
          24,
          23,
          22,
          21,
          20,
          19,
          18,
          17,
          16,
          15,
          14,
          13,
          12,
          11,
          10,
          9,
          8,
          7,
          6,
          5,
          4,
          3,
          2,
          1,
          0
         ],
         "y": [
          -1.6901999711990356,
          -1.6829999685287476,
          -1.6754000186920166,
          -1.6675000190734863,
          -1.6591999530792236,
          -1.6505000591278076,
          -1.6413999795913696,
          -1.6318999528884888,
          -1.621899962425232,
          -1.6114000082015991,
          -1.6003999710083008,
          -1.5887999534606934,
          -1.57669997215271,
          -1.5640000104904175,
          -1.5506000518798828,
          -1.5365999937057495,
          -1.5218000411987305,
          -1.5062999725341797,
          -1.4900000095367432,
          -1.4729000329971313,
          -1.454800009727478,
          -1.4357999563217163,
          -1.4156999588012695,
          -1.3944000005722046,
          -1.3717999458312988,
          -1.3476999998092651,
          -1.3219000101089478,
          -1.2940000295639038,
          -1.2635999917984009,
          -1.2300000190734863,
          -1.1923999786376953,
          -1.1495000123977661,
          -1.0996999740600586,
          -1.0406999588012695,
          -0.9693999886512756,
          -0.8816999793052673,
          -0.7724000215530396,
          -0.6352999806404114,
          -0.4636000096797943,
          -0.25200000405311584,
          0
         ]
        },
        {
         "mode": "lines+markers",
         "name": "HBW Pk asc_driveacc_2veh",
         "type": "scatter",
         "x": [
          40,
          39,
          38,
          37,
          36,
          35,
          34,
          33,
          32,
          31,
          30,
          29,
          28,
          27,
          26,
          25,
          24,
          23,
          22,
          21,
          20,
          19,
          18,
          17,
          16,
          15,
          14,
          13,
          12,
          11,
          10,
          9,
          8,
          7,
          6,
          5,
          4,
          3,
          2,
          1,
          0
         ],
         "y": [
          -0.8881000280380249,
          -0.879800021648407,
          -0.8711000084877014,
          -0.8621000051498413,
          -0.8525999784469604,
          -0.8427000045776367,
          -0.8324000239372253,
          -0.8216000199317932,
          -0.8102999925613403,
          -0.7985000014305115,
          -0.7860999703407288,
          -0.7731000185012817,
          -0.7595999836921692,
          -0.7454000115394592,
          -0.7305999994277954,
          -0.7150999903678894,
          -0.6988999843597412,
          -0.6819999814033508,
          -0.6643999814987183,
          -0.6460000276565552,
          -0.626800000667572,
          -0.6068000197410583,
          -0.5860000252723694,
          -0.564300000667572,
          -0.541700005531311,
          -0.5181999802589417,
          -0.4936999976634979,
          -0.4683000147342682,
          -0.44190001487731934,
          -0.41440001130104065,
          -0.38580000400543213,
          -0.3560999929904938,
          -0.32519999146461487,
          -0.2930000126361847,
          -0.25929999351501465,
          -0.2240000069141388,
          -0.1867000013589859,
          -0.1467999964952469,
          -0.10329999774694443,
          -0.05480000004172325,
          0
         ]
        },
        {
         "mode": "lines+markers",
         "name": "HBW Pk asc_wEXP_all",
         "type": "scatter",
         "x": [
          40,
          39,
          38,
          37,
          36,
          35,
          34,
          33,
          32,
          31,
          30,
          29,
          28,
          27,
          26,
          25,
          24,
          23,
          22,
          21,
          20,
          19,
          18,
          17,
          16,
          15,
          14,
          13,
          12,
          11,
          10,
          9,
          8,
          7,
          6,
          5,
          4,
          3,
          2,
          1,
          0
         ],
         "y": [
          0.1137000024318695,
          0.12120000272989273,
          0.12880000472068787,
          0.13650000095367432,
          0.14429999887943268,
          0.15219999849796295,
          0.16019999980926514,
          0.16830000281333923,
          0.17640000581741333,
          0.18459999561309814,
          0.19290000200271606,
          0.2011999934911728,
          0.20960000157356262,
          0.21799999475479126,
          0.2264000028371811,
          0.23479999601840973,
          0.24300000071525574,
          0.25099998712539673,
          0.2587999999523163,
          0.2662000060081482,
          0.27309998869895935,
          0.2793999910354614,
          0.2847999930381775,
          0.2892000079154968,
          0.2922999858856201,
          0.2935999929904938,
          0.2928999960422516,
          0.2896000146865845,
          0.2831000089645386,
          0.2727000117301941,
          0.2574999928474426,
          0.23669999837875366,
          0.20919999480247498,
          0.17399999499320984,
          0.13050000369548798,
          0.07880000025033951,
          0.020800000056624413,
          -0.03759999945759773,
          -0.08190000057220459,
          -0.08290000259876251,
          0
         ]
        },
        {
         "mode": "lines+markers",
         "name": "HBW Pk asc_wBRT_all",
         "type": "scatter",
         "x": [
          40,
          39,
          38,
          37,
          36,
          35,
          34,
          33,
          32,
          31,
          30,
          29,
          28,
          27,
          26,
          25,
          24,
          23,
          22,
          21,
          20,
          19,
          18,
          17,
          16,
          15,
          14,
          13,
          12,
          11,
          10,
          9,
          8,
          7,
          6,
          5,
          4,
          3,
          2,
          1,
          0
         ],
         "y": [
          -0.4611999988555908,
          -0.46309998631477356,
          -0.4648999869823456,
          -0.4666999876499176,
          -0.4684000015258789,
          -0.4699999988079071,
          -0.4715999960899353,
          -0.4731000065803528,
          -0.47450000047683716,
          -0.4758000075817108,
          -0.4771000146865845,
          -0.478300005197525,
          -0.4794999957084656,
          -0.4805999994277954,
          -0.48159998655319214,
          -0.48260000348091125,
          -0.483599990606308,
          -0.484499990940094,
          -0.48539999127388,
          -0.486299991607666,
          -0.4871000051498413,
          -0.4878999888896942,
          -0.4885999858379364,
          -0.48919999599456787,
          -0.4896000027656555,
          -0.48969998955726624,
          -0.4893999993801117,
          -0.48840001225471497,
          -0.48649999499320984,
          -0.48330000042915344,
          -0.478300005197525,
          -0.4708000123500824,
          -0.45989999175071716,
          -0.4447000026702881,
          -0.42399999499320984,
          -0.39660000801086426,
          -0.3610999882221222,
          -0.3158000111579895,
          -0.2572000026702881,
          -0.1712000072002411,
          0
         ]
        },
        {
         "mode": "lines+markers",
         "name": "HBW Pk asc_wLRT_all",
         "type": "scatter",
         "x": [
          40,
          39,
          38,
          37,
          36,
          35,
          34,
          33,
          32,
          31,
          30,
          29,
          28,
          27,
          26,
          25,
          24,
          23,
          22,
          21,
          20,
          19,
          18,
          17,
          16,
          15,
          14,
          13,
          12,
          11,
          10,
          9,
          8,
          7,
          6,
          5,
          4,
          3,
          2,
          1,
          0
         ],
         "y": [
          0.2619999945163727,
          0.26350000500679016,
          0.26510000228881836,
          0.2667999863624573,
          0.2685999870300293,
          0.2705000042915344,
          0.27239999175071716,
          0.274399995803833,
          0.2766000032424927,
          0.27880001068115234,
          0.28110000491142273,
          0.28349998593330383,
          0.28600001335144043,
          0.28859999775886536,
          0.2912999987602234,
          0.29409998655319214,
          0.2969000041484833,
          0.299699991941452,
          0.3025999963283539,
          0.305400013923645,
          0.30820000171661377,
          0.3109000027179718,
          0.313400000333786,
          0.3158000111579895,
          0.31790000200271606,
          0.3197000026702881,
          0.32109999656677246,
          0.3221000134944916,
          0.32260000705718994,
          0.3224000036716461,
          0.3215000033378601,
          0.3197999894618988,
          0.31690001487731934,
          0.3125,
          0.30570000410079956,
          0.29499998688697815,
          0.2773999869823456,
          0.24770000576972961,
          0.19699999690055847,
          0.11429999768733978,
          0
         ]
        },
        {
         "mode": "lines+markers",
         "name": "HBW Pk asc_wCRT_all",
         "type": "scatter",
         "x": [
          40,
          39,
          38,
          37,
          36,
          35,
          34,
          33,
          32,
          31,
          30,
          29,
          28,
          27,
          26,
          25,
          24,
          23,
          22,
          21,
          20,
          19,
          18,
          17,
          16,
          15,
          14,
          13,
          12,
          11,
          10,
          9,
          8,
          7,
          6,
          5,
          4,
          3,
          2,
          1,
          0
         ],
         "y": [
          1.44350004196167,
          1.4496999979019165,
          1.455899953842163,
          1.4622999429702759,
          1.4687000513076782,
          1.4752000570297241,
          1.4817999601364136,
          1.4884999990463257,
          1.495300054550171,
          1.5022000074386597,
          1.5091999769210815,
          1.5162999629974365,
          1.5233999490737915,
          1.530500054359436,
          1.537600040435791,
          1.544600009918213,
          1.5513999462127686,
          1.5579999685287476,
          1.5642000436782837,
          1.5700000524520874,
          1.5751999616622925,
          1.5794999599456787,
          1.582800030708313,
          1.5846999883651733,
          1.5849000215530396,
          1.5829999446868896,
          1.5784000158309937,
          1.5703999996185303,
          1.5580999851226807,
          1.5405999422073364,
          1.5164999961853027,
          1.4843000173568726,
          1.4419000148773193,
          1.3868999481201172,
          1.316100001335144,
          1.2253999710083008,
          1.1090999841690063,
          0.9587000012397766,
          0.7601000070571899,
          0.4830000102519989,
          0
         ]
        },
        {
         "mode": "lines+markers",
         "name": "HBW Pk asc_dEXP_all",
         "type": "scatter",
         "x": [
          40,
          39,
          38,
          37,
          36,
          35,
          34,
          33,
          32,
          31,
          30,
          29,
          28,
          27,
          26,
          25,
          24,
          23,
          22,
          21,
          20,
          19,
          18,
          17,
          16,
          15,
          14,
          13,
          12,
          11,
          10,
          9,
          8,
          7,
          6,
          5,
          4,
          3,
          2,
          1,
          0
         ],
         "y": [
          1.3717000484466553,
          1.3720999956130981,
          1.3722000122070312,
          1.3720999956130981,
          1.3717000484466553,
          1.371000051498413,
          1.3700000047683716,
          1.3687000274658203,
          1.3669999837875366,
          1.36489999294281,
          1.3624000549316406,
          1.3594000339508057,
          1.3559999465942383,
          1.3521000146865845,
          1.3476999998092651,
          1.3425999879837036,
          1.336899995803833,
          1.3305000066757202,
          1.3234000205993652,
          1.3152999877929688,
          1.3063000440597534,
          1.2963000535964966,
          1.284999966621399,
          1.2724000215530396,
          1.2582000494003296,
          1.2422000169754028,
          1.2243000268936157,
          1.2039999961853027,
          1.180999994277954,
          1.1548000574111938,
          1.124899983406067,
          1.090499997138977,
          1.0506999492645264,
          1.0045000314712524,
          0.9505000114440918,
          0.886900007724762,
          0.8109999895095825,
          0.7171000242233276,
          0.5921000242233276,
          0.3971000015735626,
          0
         ]
        },
        {
         "mode": "lines+markers",
         "name": "HBW Pk asc_dBRT_all",
         "type": "scatter",
         "x": [
          40,
          39,
          38,
          37,
          36,
          35,
          34,
          33,
          32,
          31,
          30,
          29,
          28,
          27,
          26,
          25,
          24,
          23,
          22,
          21,
          20,
          19,
          18,
          17,
          16,
          15,
          14,
          13,
          12,
          11,
          10,
          9,
          8,
          7,
          6,
          5,
          4,
          3,
          2,
          1,
          0
         ],
         "y": [
          -0.41110000014305115,
          -0.4187999963760376,
          -0.42669999599456787,
          -0.43470001220703125,
          -0.44290000200271606,
          -0.4512999951839447,
          -0.45980000495910645,
          -0.46860000491142273,
          -0.47749999165534973,
          -0.48669999837875366,
          -0.49619999527931213,
          -0.5059000253677368,
          -0.5157999992370605,
          -0.5260000228881836,
          -0.5364000201225281,
          -0.5471000075340271,
          -0.5582000017166138,
          -0.5695000290870667,
          -0.5812000036239624,
          -0.5932000279426575,
          -0.6055999994277954,
          -0.618399977684021,
          -0.6316999793052673,
          -0.6453999876976013,
          -0.659600019454956,
          -0.6743999719619751,
          -0.6897000074386597,
          -0.7056000232696533,
          -0.722000002861023,
          -0.7386999726295471,
          -0.755299985408783,
          -0.771399974822998,
          -0.7858999967575073,
          -0.7968999743461609,
          -0.8015999794006348,
          -0.7954000234603882,
          -0.7706000208854675,
          -0.714900016784668,
          -0.6064000129699707,
          -0.40149998664855957,
          0
         ]
        },
        {
         "mode": "lines+markers",
         "name": "HBW Pk asc_dLRT_all",
         "type": "scatter",
         "x": [
          40,
          39,
          38,
          37,
          36,
          35,
          34,
          33,
          32,
          31,
          30,
          29,
          28,
          27,
          26,
          25,
          24,
          23,
          22,
          21,
          20,
          19,
          18,
          17,
          16,
          15,
          14,
          13,
          12,
          11,
          10,
          9,
          8,
          7,
          6,
          5,
          4,
          3,
          2,
          1,
          0
         ],
         "y": [
          0.4584999978542328,
          0.45329999923706055,
          0.4478999972343445,
          0.4422999918460846,
          0.43639999628067017,
          0.4302000105381012,
          0.423799991607666,
          0.4171000123023987,
          0.4101000130176544,
          0.4027999937534332,
          0.3952000141143799,
          0.3871000111103058,
          0.37869998812675476,
          0.3698999881744385,
          0.36059999465942383,
          0.35089999437332153,
          0.3407000005245209,
          0.32989999651908875,
          0.31859999895095825,
          0.3066999912261963,
          0.29409998655319214,
          0.2809000015258789,
          0.2669000029563904,
          0.25209999084472656,
          0.23649999499320984,
          0.2198999971151352,
          0.20229999721050262,
          0.18369999527931213,
          0.164000004529953,
          0.14309999346733093,
          0.12099999934434891,
          0.09780000150203705,
          0.07339999824762344,
          0.04800000041723251,
          0.02160000056028366,
          -0.00559999980032444,
          -0.03359999880194664,
          -0.061799999326467514,
          -0.08659999817609787,
          -0.0892999991774559,
          0
         ]
        },
        {
         "mode": "lines+markers",
         "name": "HBW Pk asc_dCRT_all",
         "type": "scatter",
         "x": [
          40,
          39,
          38,
          37,
          36,
          35,
          34,
          33,
          32,
          31,
          30,
          29,
          28,
          27,
          26,
          25,
          24,
          23,
          22,
          21,
          20,
          19,
          18,
          17,
          16,
          15,
          14,
          13,
          12,
          11,
          10,
          9,
          8,
          7,
          6,
          5,
          4,
          3,
          2,
          1,
          0
         ],
         "y": [
          1.1923999786376953,
          1.191100001335144,
          1.1895999908447266,
          1.1878000497817993,
          1.1857000589370728,
          1.18340003490448,
          1.1806999444961548,
          1.1777000427246094,
          1.174399971961975,
          1.170699954032898,
          1.166599988937378,
          1.1620999574661255,
          1.157099962234497,
          1.1516000032424927,
          1.1455999612808228,
          1.1390999555587769,
          1.1319999694824219,
          1.1241999864578247,
          1.1157000064849854,
          1.1065000295639038,
          1.0964000225067139,
          1.0853999853134155,
          1.0734000205993652,
          1.0601999759674072,
          1.045699954032898,
          1.0298000574111938,
          1.0123000144958496,
          0.992900013923645,
          0.9714000225067139,
          0.9474999904632568,
          0.9205999970436096,
          0.8902999758720398,
          0.8557999730110168,
          0.816100001335144,
          0.7700999975204468,
          0.7161999940872192,
          0.6523000001907349,
          0.574999988079071,
          0.4772999882698059,
          0.33489999175071716,
          0
         ]
        },
        {
         "mode": "lines+markers",
         "name": "HBW Pk asc_bike_all",
         "type": "scatter",
         "x": [
          40,
          39,
          38,
          37,
          36,
          35,
          34,
          33,
          32,
          31,
          30,
          29,
          28,
          27,
          26,
          25,
          24,
          23,
          22,
          21,
          20,
          19,
          18,
          17,
          16,
          15,
          14,
          13,
          12,
          11,
          10,
          9,
          8,
          7,
          6,
          5,
          4,
          3,
          2,
          1,
          0
         ],
         "y": [
          -2.2281999588012695,
          -2.2267000675201416,
          -2.2249999046325684,
          -2.223099946975708,
          -2.2209999561309814,
          -2.218600034713745,
          -2.2160000801086426,
          -2.2130000591278076,
          -2.209700107574463,
          -2.205899953842163,
          -2.2016000747680664,
          -2.1967999935150146,
          -2.1914000511169434,
          -2.1851999759674072,
          -2.1782000064849854,
          -2.1702001094818115,
          -2.1610000133514404,
          -2.1505000591278076,
          -2.1382999420166016,
          -2.124300003051758,
          -2.108099937438965,
          -2.0892999172210693,
          -2.0673999786376953,
          -2.041800022125244,
          -2.011899948120117,
          -1.9768999814987183,
          -1.9357999563217163,
          -1.8875000476837158,
          -1.8307000398635864,
          -1.7640000581741333,
          -1.6857000589370728,
          -1.5942000150680542,
          -1.4876999855041504,
          -1.3646999597549438,
          -1.2237000465393066,
          -1.0640000104904175,
          -0.8852999806404114,
          -0.6880999803543091,
          -0.47350001335144043,
          -0.24330000579357147,
          0
         ]
        }
       ],
       "layout": {
        "height": 400,
        "template": {
         "data": {
          "bar": [
           {
            "error_x": {
             "color": "#2a3f5f"
            },
            "error_y": {
             "color": "#2a3f5f"
            },
            "marker": {
             "line": {
              "color": "#E5ECF6",
              "width": 0.5
             },
             "pattern": {
              "fillmode": "overlay",
              "size": 10,
              "solidity": 0.2
             }
            },
            "type": "bar"
           }
          ],
          "barpolar": [
           {
            "marker": {
             "line": {
              "color": "#E5ECF6",
              "width": 0.5
             },
             "pattern": {
              "fillmode": "overlay",
              "size": 10,
              "solidity": 0.2
             }
            },
            "type": "barpolar"
           }
          ],
          "carpet": [
           {
            "aaxis": {
             "endlinecolor": "#2a3f5f",
             "gridcolor": "white",
             "linecolor": "white",
             "minorgridcolor": "white",
             "startlinecolor": "#2a3f5f"
            },
            "baxis": {
             "endlinecolor": "#2a3f5f",
             "gridcolor": "white",
             "linecolor": "white",
             "minorgridcolor": "white",
             "startlinecolor": "#2a3f5f"
            },
            "type": "carpet"
           }
          ],
          "choropleth": [
           {
            "colorbar": {
             "outlinewidth": 0,
             "ticks": ""
            },
            "type": "choropleth"
           }
          ],
          "contour": [
           {
            "colorbar": {
             "outlinewidth": 0,
             "ticks": ""
            },
            "colorscale": [
             [
              0,
              "#0d0887"
             ],
             [
              0.1111111111111111,
              "#46039f"
             ],
             [
              0.2222222222222222,
              "#7201a8"
             ],
             [
              0.3333333333333333,
              "#9c179e"
             ],
             [
              0.4444444444444444,
              "#bd3786"
             ],
             [
              0.5555555555555556,
              "#d8576b"
             ],
             [
              0.6666666666666666,
              "#ed7953"
             ],
             [
              0.7777777777777778,
              "#fb9f3a"
             ],
             [
              0.8888888888888888,
              "#fdca26"
             ],
             [
              1,
              "#f0f921"
             ]
            ],
            "type": "contour"
           }
          ],
          "contourcarpet": [
           {
            "colorbar": {
             "outlinewidth": 0,
             "ticks": ""
            },
            "type": "contourcarpet"
           }
          ],
          "heatmap": [
           {
            "colorbar": {
             "outlinewidth": 0,
             "ticks": ""
            },
            "colorscale": [
             [
              0,
              "#0d0887"
             ],
             [
              0.1111111111111111,
              "#46039f"
             ],
             [
              0.2222222222222222,
              "#7201a8"
             ],
             [
              0.3333333333333333,
              "#9c179e"
             ],
             [
              0.4444444444444444,
              "#bd3786"
             ],
             [
              0.5555555555555556,
              "#d8576b"
             ],
             [
              0.6666666666666666,
              "#ed7953"
             ],
             [
              0.7777777777777778,
              "#fb9f3a"
             ],
             [
              0.8888888888888888,
              "#fdca26"
             ],
             [
              1,
              "#f0f921"
             ]
            ],
            "type": "heatmap"
           }
          ],
          "heatmapgl": [
           {
            "colorbar": {
             "outlinewidth": 0,
             "ticks": ""
            },
            "colorscale": [
             [
              0,
              "#0d0887"
             ],
             [
              0.1111111111111111,
              "#46039f"
             ],
             [
              0.2222222222222222,
              "#7201a8"
             ],
             [
              0.3333333333333333,
              "#9c179e"
             ],
             [
              0.4444444444444444,
              "#bd3786"
             ],
             [
              0.5555555555555556,
              "#d8576b"
             ],
             [
              0.6666666666666666,
              "#ed7953"
             ],
             [
              0.7777777777777778,
              "#fb9f3a"
             ],
             [
              0.8888888888888888,
              "#fdca26"
             ],
             [
              1,
              "#f0f921"
             ]
            ],
            "type": "heatmapgl"
           }
          ],
          "histogram": [
           {
            "marker": {
             "pattern": {
              "fillmode": "overlay",
              "size": 10,
              "solidity": 0.2
             }
            },
            "type": "histogram"
           }
          ],
          "histogram2d": [
           {
            "colorbar": {
             "outlinewidth": 0,
             "ticks": ""
            },
            "colorscale": [
             [
              0,
              "#0d0887"
             ],
             [
              0.1111111111111111,
              "#46039f"
             ],
             [
              0.2222222222222222,
              "#7201a8"
             ],
             [
              0.3333333333333333,
              "#9c179e"
             ],
             [
              0.4444444444444444,
              "#bd3786"
             ],
             [
              0.5555555555555556,
              "#d8576b"
             ],
             [
              0.6666666666666666,
              "#ed7953"
             ],
             [
              0.7777777777777778,
              "#fb9f3a"
             ],
             [
              0.8888888888888888,
              "#fdca26"
             ],
             [
              1,
              "#f0f921"
             ]
            ],
            "type": "histogram2d"
           }
          ],
          "histogram2dcontour": [
           {
            "colorbar": {
             "outlinewidth": 0,
             "ticks": ""
            },
            "colorscale": [
             [
              0,
              "#0d0887"
             ],
             [
              0.1111111111111111,
              "#46039f"
             ],
             [
              0.2222222222222222,
              "#7201a8"
             ],
             [
              0.3333333333333333,
              "#9c179e"
             ],
             [
              0.4444444444444444,
              "#bd3786"
             ],
             [
              0.5555555555555556,
              "#d8576b"
             ],
             [
              0.6666666666666666,
              "#ed7953"
             ],
             [
              0.7777777777777778,
              "#fb9f3a"
             ],
             [
              0.8888888888888888,
              "#fdca26"
             ],
             [
              1,
              "#f0f921"
             ]
            ],
            "type": "histogram2dcontour"
           }
          ],
          "mesh3d": [
           {
            "colorbar": {
             "outlinewidth": 0,
             "ticks": ""
            },
            "type": "mesh3d"
           }
          ],
          "parcoords": [
           {
            "line": {
             "colorbar": {
              "outlinewidth": 0,
              "ticks": ""
             }
            },
            "type": "parcoords"
           }
          ],
          "pie": [
           {
            "automargin": true,
            "type": "pie"
           }
          ],
          "scatter": [
           {
            "fillpattern": {
             "fillmode": "overlay",
             "size": 10,
             "solidity": 0.2
            },
            "type": "scatter"
           }
          ],
          "scatter3d": [
           {
            "line": {
             "colorbar": {
              "outlinewidth": 0,
              "ticks": ""
             }
            },
            "marker": {
             "colorbar": {
              "outlinewidth": 0,
              "ticks": ""
             }
            },
            "type": "scatter3d"
           }
          ],
          "scattercarpet": [
           {
            "marker": {
             "colorbar": {
              "outlinewidth": 0,
              "ticks": ""
             }
            },
            "type": "scattercarpet"
           }
          ],
          "scattergeo": [
           {
            "marker": {
             "colorbar": {
              "outlinewidth": 0,
              "ticks": ""
             }
            },
            "type": "scattergeo"
           }
          ],
          "scattergl": [
           {
            "marker": {
             "colorbar": {
              "outlinewidth": 0,
              "ticks": ""
             }
            },
            "type": "scattergl"
           }
          ],
          "scattermapbox": [
           {
            "marker": {
             "colorbar": {
              "outlinewidth": 0,
              "ticks": ""
             }
            },
            "type": "scattermapbox"
           }
          ],
          "scatterpolar": [
           {
            "marker": {
             "colorbar": {
              "outlinewidth": 0,
              "ticks": ""
             }
            },
            "type": "scatterpolar"
           }
          ],
          "scatterpolargl": [
           {
            "marker": {
             "colorbar": {
              "outlinewidth": 0,
              "ticks": ""
             }
            },
            "type": "scatterpolargl"
           }
          ],
          "scatterternary": [
           {
            "marker": {
             "colorbar": {
              "outlinewidth": 0,
              "ticks": ""
             }
            },
            "type": "scatterternary"
           }
          ],
          "surface": [
           {
            "colorbar": {
             "outlinewidth": 0,
             "ticks": ""
            },
            "colorscale": [
             [
              0,
              "#0d0887"
             ],
             [
              0.1111111111111111,
              "#46039f"
             ],
             [
              0.2222222222222222,
              "#7201a8"
             ],
             [
              0.3333333333333333,
              "#9c179e"
             ],
             [
              0.4444444444444444,
              "#bd3786"
             ],
             [
              0.5555555555555556,
              "#d8576b"
             ],
             [
              0.6666666666666666,
              "#ed7953"
             ],
             [
              0.7777777777777778,
              "#fb9f3a"
             ],
             [
              0.8888888888888888,
              "#fdca26"
             ],
             [
              1,
              "#f0f921"
             ]
            ],
            "type": "surface"
           }
          ],
          "table": [
           {
            "cells": {
             "fill": {
              "color": "#EBF0F8"
             },
             "line": {
              "color": "white"
             }
            },
            "header": {
             "fill": {
              "color": "#C8D4E3"
             },
             "line": {
              "color": "white"
             }
            },
            "type": "table"
           }
          ]
         },
         "layout": {
          "annotationdefaults": {
           "arrowcolor": "#2a3f5f",
           "arrowhead": 0,
           "arrowwidth": 1
          },
          "autotypenumbers": "strict",
          "coloraxis": {
           "colorbar": {
            "outlinewidth": 0,
            "ticks": ""
           }
          },
          "colorscale": {
           "diverging": [
            [
             0,
             "#8e0152"
            ],
            [
             0.1,
             "#c51b7d"
            ],
            [
             0.2,
             "#de77ae"
            ],
            [
             0.3,
             "#f1b6da"
            ],
            [
             0.4,
             "#fde0ef"
            ],
            [
             0.5,
             "#f7f7f7"
            ],
            [
             0.6,
             "#e6f5d0"
            ],
            [
             0.7,
             "#b8e186"
            ],
            [
             0.8,
             "#7fbc41"
            ],
            [
             0.9,
             "#4d9221"
            ],
            [
             1,
             "#276419"
            ]
           ],
           "sequential": [
            [
             0,
             "#0d0887"
            ],
            [
             0.1111111111111111,
             "#46039f"
            ],
            [
             0.2222222222222222,
             "#7201a8"
            ],
            [
             0.3333333333333333,
             "#9c179e"
            ],
            [
             0.4444444444444444,
             "#bd3786"
            ],
            [
             0.5555555555555556,
             "#d8576b"
            ],
            [
             0.6666666666666666,
             "#ed7953"
            ],
            [
             0.7777777777777778,
             "#fb9f3a"
            ],
            [
             0.8888888888888888,
             "#fdca26"
            ],
            [
             1,
             "#f0f921"
            ]
           ],
           "sequentialminus": [
            [
             0,
             "#0d0887"
            ],
            [
             0.1111111111111111,
             "#46039f"
            ],
            [
             0.2222222222222222,
             "#7201a8"
            ],
            [
             0.3333333333333333,
             "#9c179e"
            ],
            [
             0.4444444444444444,
             "#bd3786"
            ],
            [
             0.5555555555555556,
             "#d8576b"
            ],
            [
             0.6666666666666666,
             "#ed7953"
            ],
            [
             0.7777777777777778,
             "#fb9f3a"
            ],
            [
             0.8888888888888888,
             "#fdca26"
            ],
            [
             1,
             "#f0f921"
            ]
           ]
          },
          "colorway": [
           "#636efa",
           "#EF553B",
           "#00cc96",
           "#ab63fa",
           "#FFA15A",
           "#19d3f3",
           "#FF6692",
           "#B6E880",
           "#FF97FF",
           "#FECB52"
          ],
          "font": {
           "color": "#2a3f5f"
          },
          "geo": {
           "bgcolor": "white",
           "lakecolor": "white",
           "landcolor": "#E5ECF6",
           "showlakes": true,
           "showland": true,
           "subunitcolor": "white"
          },
          "hoverlabel": {
           "align": "left"
          },
          "hovermode": "closest",
          "mapbox": {
           "style": "light"
          },
          "paper_bgcolor": "white",
          "plot_bgcolor": "#E5ECF6",
          "polar": {
           "angularaxis": {
            "gridcolor": "white",
            "linecolor": "white",
            "ticks": ""
           },
           "bgcolor": "#E5ECF6",
           "radialaxis": {
            "gridcolor": "white",
            "linecolor": "white",
            "ticks": ""
           }
          },
          "scene": {
           "xaxis": {
            "backgroundcolor": "#E5ECF6",
            "gridcolor": "white",
            "gridwidth": 2,
            "linecolor": "white",
            "showbackground": true,
            "ticks": "",
            "zerolinecolor": "white"
           },
           "yaxis": {
            "backgroundcolor": "#E5ECF6",
            "gridcolor": "white",
            "gridwidth": 2,
            "linecolor": "white",
            "showbackground": true,
            "ticks": "",
            "zerolinecolor": "white"
           },
           "zaxis": {
            "backgroundcolor": "#E5ECF6",
            "gridcolor": "white",
            "gridwidth": 2,
            "linecolor": "white",
            "showbackground": true,
            "ticks": "",
            "zerolinecolor": "white"
           }
          },
          "shapedefaults": {
           "line": {
            "color": "#2a3f5f"
           }
          },
          "ternary": {
           "aaxis": {
            "gridcolor": "white",
            "linecolor": "white",
            "ticks": ""
           },
           "baxis": {
            "gridcolor": "white",
            "linecolor": "white",
            "ticks": ""
           },
           "bgcolor": "#E5ECF6",
           "caxis": {
            "gridcolor": "white",
            "linecolor": "white",
            "ticks": ""
           }
          },
          "title": {
           "x": 0.05
          },
          "xaxis": {
           "automargin": true,
           "gridcolor": "white",
           "linecolor": "white",
           "ticks": "",
           "title": {
            "standoff": 15
           },
           "zerolinecolor": "white",
           "zerolinewidth": 2
          },
          "yaxis": {
           "automargin": true,
           "gridcolor": "white",
           "linecolor": "white",
           "ticks": "",
           "title": {
            "standoff": 15
           },
           "zerolinecolor": "white",
           "zerolinewidth": 2
          }
         }
        },
        "title": {
         "text": "Mode Choice Calibration Constants"
        },
        "width": 800,
        "xaxis": {
         "title": {
          "text": "Iteration"
         }
        },
        "yaxis": {
         "title": {
          "text": "Constant Value"
         }
        }
       }
      },
      "text/html": [
       "<div>                            <div id=\"6398dfc5-e626-480d-87ad-b084b6977d59\" class=\"plotly-graph-div\" style=\"height:400px; width:800px;\"></div>            <script type=\"text/javascript\">                require([\"plotly\"], function(Plotly) {                    window.PLOTLYENV=window.PLOTLYENV || {};                                    if (document.getElementById(\"6398dfc5-e626-480d-87ad-b084b6977d59\")) {                    Plotly.newPlot(                        \"6398dfc5-e626-480d-87ad-b084b6977d59\",                        [{\"mode\":\"lines+markers\",\"name\":\"HBW Pk asc_nonmotor_0veh\",\"x\":[40,39,38,37,36,35,34,33,32,31,30,29,28,27,26,25,24,23,22,21,20,19,18,17,16,15,14,13,12,11,10,9,8,7,6,5,4,3,2,1,0],\"y\":[2.742799997329712,2.7328999042510986,2.7219998836517334,2.7100000381469727,2.6967999935150146,2.6821999549865723,2.6661999225616455,2.6486001014709473,2.629199981689453,2.6078999042510986,2.584399938583374,2.5585999488830566,2.5302999019622803,2.4992001056671143,2.465100049972534,2.4277000427246094,2.3866000175476074,2.341599941253662,2.29229998588562,2.2383999824523926,2.1793999671936035,2.1149001121520996,2.0445001125335693,1.9678000211715698,1.8842999935150146,1.7934999465942383,1.6950000524520874,1.5882999897003174,1.473099946975708,1.3493000268936157,1.2167999744415283,1.0759999752044678,0.9276999831199646,0.7735999822616577,0.616599977016449,0.46129998564720154,0.314300000667572,0.18469999730587006,0.08340000361204147,0.020600000396370888,0.0],\"type\":\"scatter\"},{\"mode\":\"lines+markers\",\"name\":\"HBW Pk asc_nonmotor_1veh\",\"x\":[40,39,38,37,36,35,34,33,32,31,30,29,28,27,26,25,24,23,22,21,20,19,18,17,16,15,14,13,12,11,10,9,8,7,6,5,4,3,2,1,0],\"y\":[0.483599990606308,0.48179998993873596,0.4797999858856201,0.47760000824928284,0.47510001063346863,0.4722000062465668,0.46889999508857727,0.4652000069618225,0.460999995470047,0.4562000036239624,0.4507000148296356,0.44449999928474426,0.4374000132083893,0.4293000102043152,0.41999998688697815,0.4092999994754791,0.3970000147819519,0.3828999996185303,0.3666999936103821,0.3481000065803528,0.32670000195503235,0.30219998955726624,0.2741999924182892,0.24220000207424164,0.20569999516010284,0.16429999470710754,0.1177000030875206,0.06549999862909317,0.007699999958276749,-0.055399999022483826,-0.12309999763965607,-0.19380000233650208,-0.2648000121116638,-0.3319999873638153,-0.38929998874664307,-0.4284000098705292,-0.4388999938964844,-0.4090999960899353,-0.32820001244544983,-0.19040000438690186,0.0],\"type\":\"scatter\"},{\"mode\":\"lines+markers\",\"name\":\"HBW Pk asc_nonmotor_2veh\",\"x\":[40,39,38,37,36,35,34,33,32,31,30,29,28,27,26,25,24,23,22,21,20,19,18,17,16,15,14,13,12,11,10,9,8,7,6,5,4,3,2,1,0],\"y\":[-1.0724999904632568,-1.0736000537872314,-1.0748000144958496,-1.0760999917984009,-1.0776000022888184,-1.079300045967102,-1.0812000036239624,-1.083400011062622,-1.0858999490737915,-1.0887000560760498,-1.0920000076293945,-1.0957000255584717,-1.100000023841858,-1.1049000024795532,-1.1105999946594238,-1.1172000169754028,-1.124899983406067,-1.1338000297546387,-1.1441999673843384,-1.1563999652862549,-1.1706000566482544,-1.1871999502182007,-1.2065000534057617,-1.2288999557495117,-1.2548999786376953,-1.2848000526428223,-1.319000005722046,-1.3575999736785889,-1.4005999565124512,-1.4472999572753906,-1.4960999488830566,-1.5443999767303467,-1.587399959564209,-1.6175999641418457,-1.6237000226974487,-1.589400053024292,-1.4925999641418457,-1.306399941444397,-1.0032000541687012,-0.5656999945640564,0.0],\"type\":\"scatter\"},{\"mode\":\"lines+markers\",\"name\":\"HBW Pk asc_transit_0veh\",\"x\":[40,39,38,37,36,35,34,33,32,31,30,29,28,27,26,25,24,23,22,21,20,19,18,17,16,15,14,13,12,11,10,9,8,7,6,5,4,3,2,1,0],\"y\":[3.305799961090088,3.3036000728607178,3.301100015640259,3.29830002784729,3.2952001094818115,3.2916998863220215,3.2878000736236572,3.283400058746338,3.2785000801086426,3.2730000019073486,3.2667999267578125,3.2597999572753906,3.2518999576568604,3.2430999279022217,3.233099937438965,3.22189998626709,3.209199905395508,3.1949000358581543,3.178800106048584,3.1605000495910645,3.1398000717163086,3.1164000034332275,3.0897998809814453,3.059499979019165,3.0250000953674316,2.985599994659424,2.9405999183654785,2.8889999389648438,2.8296000957489014,2.7611000537872314,2.6819000244140625,2.5897998809814453,2.4821999073028564,2.3557000160217285,2.2058000564575195,2.026099920272827,1.8071999549865723,1.534000039100647,1.1801999807357788,0.6972000002861023,0.0],\"type\":\"scatter\"},{\"mode\":\"lines+markers\",\"name\":\"HBW Pk asc_transit_1veh\",\"x\":[40,39,38,37,36,35,34,33,32,31,30,29,28,27,26,25,24,23,22,21,20,19,18,17,16,15,14,13,12,11,10,9,8,7,6,5,4,3,2,1,0],\"y\":[-0.07289999723434448,-0.0738999992609024,-0.07490000128746033,-0.07599999755620956,-0.0771000012755394,-0.07819999754428864,-0.07940000295639038,-0.08060000091791153,-0.08179999887943268,-0.08299999684095383,-0.08429999649524689,-0.08550000190734863,-0.08669999986886978,-0.08780000358819962,-0.08879999816417694,-0.08969999849796295,-0.09049999713897705,-0.09109999984502792,-0.09139999747276306,-0.09149999916553497,-0.09120000153779984,-0.09049999713897705,-0.0892999991774559,-0.08760000020265579,-0.08529999852180481,-0.08240000158548355,-0.0786999985575676,-0.07419999688863754,-0.06889999657869339,-0.0625,-0.054999999701976776,-0.04600000008940697,-0.03530000150203705,-0.02239999920129776,-0.006800000090152025,0.011699999682605267,0.032600000500679016,0.05350000038743019,0.0674000009894371,0.058800000697374344,0.0],\"type\":\"scatter\"},{\"mode\":\"lines+markers\",\"name\":\"HBW Pk asc_transit_2veh\",\"x\":[40,39,38,37,36,35,34,33,32,31,30,29,28,27,26,25,24,23,22,21,20,19,18,17,16,15,14,13,12,11,10,9,8,7,6,5,4,3,2,1,0],\"y\":[-1.2269999980926514,-1.229200005531311,-1.2315000295639038,-1.2338999509811401,-1.2364000082015991,-1.2389999628067017,-1.2417000532150269,-1.2446000576019287,-1.247499942779541,-1.250499963760376,-1.253600001335144,-1.256700038909912,-1.2598999738693237,-1.263100028038025,-1.2661999464035034,-1.2692999839782715,-1.2723000049591064,-1.274999976158142,-1.277500033378601,-1.2797000408172607,-1.2812999486923218,-1.2824000120162964,-1.2826999425888062,-1.282099962234497,-1.2802000045776367,-1.2768000364303589,-1.2714999914169312,-1.2635999917984009,-1.252500057220459,-1.2369999885559082,-1.2157000303268433,-1.1865999698638916,-1.1469000577926636,-1.0927000045776367,-1.0189000368118286,-0.9193999767303467,-0.7871999740600586,-0.6169999837875366,-0.4104999899864197,-0.1875,0.0],\"type\":\"scatter\"},{\"mode\":\"lines+markers\",\"name\":\"HBW Pk asc_shared_1veh\",\"x\":[40,39,38,37,36,35,34,33,32,31,30,29,28,27,26,25,24,23,22,21,20,19,18,17,16,15,14,13,12,11,10,9,8,7,6,5,4,3,2,1,0],\"y\":[-0.9760000109672546,-0.9760000109672546,-0.9760000109672546,-0.9760000109672546,-0.9760000109672546,-0.9760000109672546,-0.9760000109672546,-0.9758999943733215,-0.9758999943733215,-0.9758999943733215,-0.9758999943733215,-0.9757999777793884,-0.9757999777793884,-0.9757000207901001,-0.9757000207901001,-0.975600004196167,-0.9754999876022339,-0.9753999710083008,-0.9753000140190125,-0.9751999974250793,-0.9750999808311462,-0.9749000072479248,-0.9746999740600586,-0.974399983882904,-0.9740999937057495,-0.9735999703407288,-0.9728999733924866,-0.9718000292778015,-0.9702000021934509,-0.9677000045776367,-0.9638000130653381,-0.9574999809265137,-0.9473000168800354,-0.9308000206947327,-0.9042999744415283,-0.8616999983787537,-0.7940999865531921,-0.6887999773025513,-0.5299999713897705,-0.3025999963283539,0.0],\"type\":\"scatter\"},{\"mode\":\"lines+markers\",\"name\":\"HBW Pk asc_shared_2veh\",\"x\":[40,39,38,37,36,35,34,33,32,31,30,29,28,27,26,25,24,23,22,21,20,19,18,17,16,15,14,13,12,11,10,9,8,7,6,5,4,3,2,1,0],\"y\":[-1.3309999704360962,-1.3309999704360962,-1.3309999704360962,-1.3309999704360962,-1.3309999704360962,-1.3309999704360962,-1.3309999704360962,-1.3309999704360962,-1.3309999704360962,-1.3309999704360962,-1.3309999704360962,-1.3309999704360962,-1.3309999704360962,-1.3309999704360962,-1.3309999704360962,-1.330899953842163,-1.330899953842163,-1.330899953842163,-1.330899953842163,-1.330899953842163,-1.330899953842163,-1.3308000564575195,-1.3307000398635864,-1.3306000232696533,-1.3305000066757202,-1.330299973487854,-1.3300000429153442,-1.3293999433517456,-1.3284000158309937,-1.32669997215271,-1.323799967765808,-1.3187999725341797,-1.309999942779541,-1.2944999933242798,-1.2675000429153442,-1.2203999757766724,-1.13919997215271,-1.0020999908447266,-0.7802000045776367,-0.4471000134944916,0.0],\"type\":\"scatter\"},{\"mode\":\"lines+markers\",\"name\":\"HBW Pk asc_sr3_all\",\"x\":[40,39,38,37,36,35,34,33,32,31,30,29,28,27,26,25,24,23,22,21,20,19,18,17,16,15,14,13,12,11,10,9,8,7,6,5,4,3,2,1,0],\"y\":[-0.16940000653266907,-0.16940000653266907,-0.16940000653266907,-0.16940000653266907,-0.16940000653266907,-0.16940000653266907,-0.16940000653266907,-0.16940000653266907,-0.16940000653266907,-0.16940000653266907,-0.16940000653266907,-0.16940000653266907,-0.16940000653266907,-0.16940000653266907,-0.16940000653266907,-0.16940000653266907,-0.16940000653266907,-0.16940000653266907,-0.16940000653266907,-0.16940000653266907,-0.16940000653266907,-0.16940000653266907,-0.16940000653266907,-0.16940000653266907,-0.16940000653266907,-0.16940000653266907,-0.16940000653266907,-0.16940000653266907,-0.16940000653266907,-0.16940000653266907,-0.16940000653266907,-0.16930000483989716,-0.16899999976158142,-0.16840000450611115,-0.1671999990940094,-0.16459999978542328,-0.15919999778270721,-0.14800000190734863,-0.12540000677108765,-0.08110000193119049,0.0],\"type\":\"scatter\"},{\"mode\":\"lines+markers\",\"name\":\"HBW Pk asc_hov_all\",\"x\":[40,39,38,37,36,35,34,33,32,31,30,29,28,27,26,25,24,23,22,21,20,19,18,17,16,15,14,13,12,11,10,9,8,7,6,5,4,3,2,1,0],\"y\":[0.11249999701976776,0.11249999701976776,0.11249999701976776,0.11249999701976776,0.11249999701976776,0.11249999701976776,0.11249999701976776,0.11249999701976776,0.11249999701976776,0.11249999701976776,0.11249999701976776,0.11249999701976776,0.11249999701976776,0.11249999701976776,0.11249999701976776,0.11249999701976776,0.11249999701976776,0.11249999701976776,0.11249999701976776,0.11249999701976776,0.11249999701976776,0.11249999701976776,0.11249999701976776,0.11249999701976776,0.11249999701976776,0.11249999701976776,0.11249999701976776,0.11249999701976776,0.11249999701976776,0.11249999701976776,0.11249999701976776,0.11249999701976776,0.11249999701976776,0.11249999701976776,0.11249999701976776,0.11249999701976776,0.11249999701976776,0.11249999701976776,0.11249999701976776,0.11249999701976776,0.11249999701976776],\"type\":\"scatter\"},{\"mode\":\"lines+markers\",\"name\":\"HBW Pk asc_toll_all\",\"x\":[40,39,38,37,36,35,34,33,32,31,30,29,28,27,26,25,24,23,22,21,20,19,18,17,16,15,14,13,12,11,10,9,8,7,6,5,4,3,2,1,0],\"y\":[-0.44999998807907104,-0.44999998807907104,-0.44999998807907104,-0.44999998807907104,-0.44999998807907104,-0.44999998807907104,-0.44999998807907104,-0.44999998807907104,-0.44999998807907104,-0.44999998807907104,-0.44999998807907104,-0.44999998807907104,-0.44999998807907104,-0.44999998807907104,-0.44999998807907104,-0.44999998807907104,-0.44999998807907104,-0.44999998807907104,-0.44999998807907104,-0.44999998807907104,-0.44999998807907104,-0.44999998807907104,-0.44999998807907104,-0.44999998807907104,-0.44999998807907104,-0.44999998807907104,-0.44999998807907104,-0.44999998807907104,-0.44999998807907104,-0.44999998807907104,-0.44999998807907104,-0.44999998807907104,-0.44999998807907104,-0.44999998807907104,-0.44999998807907104,-0.44999998807907104,-0.44999998807907104,-0.44999998807907104,-0.44999998807907104,-0.44999998807907104,-0.44999998807907104],\"type\":\"scatter\"},{\"mode\":\"lines+markers\",\"name\":\"HBW Pk asc_EXP_all\",\"x\":[40,39,38,37,36,35,34,33,32,31,30,29,28,27,26,25,24,23,22,21,20,19,18,17,16,15,14,13,12,11,10,9,8,7,6,5,4,3,2,1,0],\"y\":[0.4341999888420105,0.427700012922287,0.4212999939918518,0.414900004863739,0.40849998593330383,0.4020000100135803,0.39559999108314514,0.38920000195503235,0.38269999623298645,0.37630000710487366,0.36980000138282776,0.36329999566078186,0.35679998993873596,0.35030001401901245,0.34369999170303345,0.3370000123977661,0.3303000032901764,0.32350000739097595,0.3167000114917755,0.30970001220703125,0.302700012922287,0.2955999970436096,0.2883000075817108,0.2809000015258789,0.2734000086784363,0.26570001244544983,0.257999986410141,0.2502000033855438,0.24250000715255737,0.23499999940395355,0.2280000001192093,0.22179999947547913,0.21699999272823334,0.2143000066280365,0.21469999849796295,0.2190999984741211,0.22779999673366547,0.23849999904632568,0.2410999983549118,0.2004999965429306,0.0],\"type\":\"scatter\"},{\"mode\":\"lines+markers\",\"name\":\"HBW Pk asc_BRT_all\",\"x\":[40,39,38,37,36,35,34,33,32,31,30,29,28,27,26,25,24,23,22,21,20,19,18,17,16,15,14,13,12,11,10,9,8,7,6,5,4,3,2,1,0],\"y\":[0.2199999988079071,0.22210000455379486,0.2240999937057495,0.22599999606609344,0.22779999673366547,0.22949999570846558,0.23109999299049377,0.23260000348091125,0.23399999737739563,0.23520000278949738,0.2362000048160553,0.2371000051498413,0.2378000020980835,0.23829999566078186,0.23849999904632568,0.23839999735355377,0.23800000548362732,0.23729999363422394,0.2362000048160553,0.2345999926328659,0.23250000178813934,0.22990000247955322,0.22669999301433563,0.22280000150203705,0.21809999644756317,0.2125999927520752,0.2062000036239624,0.1987999975681305,0.19030000269412994,0.18070000410079956,0.16979999840259552,0.15729999542236328,0.14300000667572021,0.12630000710487366,0.1062999963760376,0.08169999718666077,0.05079999938607216,0.012400000356137753,-0.03099999949336052,-0.060499999672174454,0.0],\"type\":\"scatter\"},{\"mode\":\"lines+markers\",\"name\":\"HBW Pk asc_LRT_all\",\"x\":[40,39,38,37,36,35,34,33,32,31,30,29,28,27,26,25,24,23,22,21,20,19,18,17,16,15,14,13,12,11,10,9,8,7,6,5,4,3,2,1,0],\"y\":[0.2565000057220459,0.2556999921798706,0.2547999918460846,0.2538999915122986,0.2529999911785126,0.25200000405311584,0.25099998712539673,0.2498999983072281,0.24879999458789825,0.2476000040769577,0.24639999866485596,0.24500000476837158,0.2434999942779541,0.24199999868869781,0.2402999997138977,0.23849999904632568,0.23649999499320984,0.23430000245571136,0.23190000653266907,0.22920000553131104,0.22630000114440918,0.22300000488758087,0.21930000185966492,0.2152000069618225,0.21050000190734863,0.20520000159740448,0.19920000433921814,0.19249999523162842,0.18490000069141388,0.17630000412464142,0.16660000383853912,0.15569999814033508,0.14329999685287476,0.1290999948978424,0.11259999871253967,0.09300000220537186,0.06870000064373016,0.03799999877810478,0.0005000000237487257,-0.03229999914765358,0.0],\"type\":\"scatter\"},{\"mode\":\"lines+markers\",\"name\":\"HBW Pk asc_CRT_all\",\"x\":[40,39,38,37,36,35,34,33,32,31,30,29,28,27,26,25,24,23,22,21,20,19,18,17,16,15,14,13,12,11,10,9,8,7,6,5,4,3,2,1,0],\"y\":[0.5031999945640564,0.4984000027179718,0.4936000108718872,0.4887999892234802,0.48399999737739563,0.47920000553131104,0.47440001368522644,0.46959999203681946,0.46470001339912415,0.45980000495910645,0.45489999651908875,0.44999998807907104,0.4449999928474426,0.4399000108242035,0.43479999899864197,0.4296000003814697,0.4242999851703644,0.4189000129699707,0.4133000075817108,0.4075999855995178,0.4016999900341034,0.3955000042915344,0.38909998536109924,0.3824000060558319,0.37529999017715454,0.367900013923645,0.36000001430511475,0.3517000079154968,0.34290000796318054,0.3337000012397766,0.3240000009536743,0.3140999972820282,0.30410000681877136,0.29440000653266907,0.28540000319480896,0.2775000035762787,0.2709999978542328,0.26489999890327454,0.25380000472068787,0.21449999511241913,0.0],\"type\":\"scatter\"},{\"mode\":\"lines+markers\",\"name\":\"HBW Pk asc_driveacc_1veh\",\"x\":[40,39,38,37,36,35,34,33,32,31,30,29,28,27,26,25,24,23,22,21,20,19,18,17,16,15,14,13,12,11,10,9,8,7,6,5,4,3,2,1,0],\"y\":[-1.6901999711990356,-1.6829999685287476,-1.6754000186920166,-1.6675000190734863,-1.6591999530792236,-1.6505000591278076,-1.6413999795913696,-1.6318999528884888,-1.621899962425232,-1.6114000082015991,-1.6003999710083008,-1.5887999534606934,-1.57669997215271,-1.5640000104904175,-1.5506000518798828,-1.5365999937057495,-1.5218000411987305,-1.5062999725341797,-1.4900000095367432,-1.4729000329971313,-1.454800009727478,-1.4357999563217163,-1.4156999588012695,-1.3944000005722046,-1.3717999458312988,-1.3476999998092651,-1.3219000101089478,-1.2940000295639038,-1.2635999917984009,-1.2300000190734863,-1.1923999786376953,-1.1495000123977661,-1.0996999740600586,-1.0406999588012695,-0.9693999886512756,-0.8816999793052673,-0.7724000215530396,-0.6352999806404114,-0.4636000096797943,-0.25200000405311584,0.0],\"type\":\"scatter\"},{\"mode\":\"lines+markers\",\"name\":\"HBW Pk asc_driveacc_2veh\",\"x\":[40,39,38,37,36,35,34,33,32,31,30,29,28,27,26,25,24,23,22,21,20,19,18,17,16,15,14,13,12,11,10,9,8,7,6,5,4,3,2,1,0],\"y\":[-0.8881000280380249,-0.879800021648407,-0.8711000084877014,-0.8621000051498413,-0.8525999784469604,-0.8427000045776367,-0.8324000239372253,-0.8216000199317932,-0.8102999925613403,-0.7985000014305115,-0.7860999703407288,-0.7731000185012817,-0.7595999836921692,-0.7454000115394592,-0.7305999994277954,-0.7150999903678894,-0.6988999843597412,-0.6819999814033508,-0.6643999814987183,-0.6460000276565552,-0.626800000667572,-0.6068000197410583,-0.5860000252723694,-0.564300000667572,-0.541700005531311,-0.5181999802589417,-0.4936999976634979,-0.4683000147342682,-0.44190001487731934,-0.41440001130104065,-0.38580000400543213,-0.3560999929904938,-0.32519999146461487,-0.2930000126361847,-0.25929999351501465,-0.2240000069141388,-0.1867000013589859,-0.1467999964952469,-0.10329999774694443,-0.05480000004172325,0.0],\"type\":\"scatter\"},{\"mode\":\"lines+markers\",\"name\":\"HBW Pk asc_wEXP_all\",\"x\":[40,39,38,37,36,35,34,33,32,31,30,29,28,27,26,25,24,23,22,21,20,19,18,17,16,15,14,13,12,11,10,9,8,7,6,5,4,3,2,1,0],\"y\":[0.1137000024318695,0.12120000272989273,0.12880000472068787,0.13650000095367432,0.14429999887943268,0.15219999849796295,0.16019999980926514,0.16830000281333923,0.17640000581741333,0.18459999561309814,0.19290000200271606,0.2011999934911728,0.20960000157356262,0.21799999475479126,0.2264000028371811,0.23479999601840973,0.24300000071525574,0.25099998712539673,0.2587999999523163,0.2662000060081482,0.27309998869895935,0.2793999910354614,0.2847999930381775,0.2892000079154968,0.2922999858856201,0.2935999929904938,0.2928999960422516,0.2896000146865845,0.2831000089645386,0.2727000117301941,0.2574999928474426,0.23669999837875366,0.20919999480247498,0.17399999499320984,0.13050000369548798,0.07880000025033951,0.020800000056624413,-0.03759999945759773,-0.08190000057220459,-0.08290000259876251,0.0],\"type\":\"scatter\"},{\"mode\":\"lines+markers\",\"name\":\"HBW Pk asc_wBRT_all\",\"x\":[40,39,38,37,36,35,34,33,32,31,30,29,28,27,26,25,24,23,22,21,20,19,18,17,16,15,14,13,12,11,10,9,8,7,6,5,4,3,2,1,0],\"y\":[-0.4611999988555908,-0.46309998631477356,-0.4648999869823456,-0.4666999876499176,-0.4684000015258789,-0.4699999988079071,-0.4715999960899353,-0.4731000065803528,-0.47450000047683716,-0.4758000075817108,-0.4771000146865845,-0.478300005197525,-0.4794999957084656,-0.4805999994277954,-0.48159998655319214,-0.48260000348091125,-0.483599990606308,-0.484499990940094,-0.48539999127388,-0.486299991607666,-0.4871000051498413,-0.4878999888896942,-0.4885999858379364,-0.48919999599456787,-0.4896000027656555,-0.48969998955726624,-0.4893999993801117,-0.48840001225471497,-0.48649999499320984,-0.48330000042915344,-0.478300005197525,-0.4708000123500824,-0.45989999175071716,-0.4447000026702881,-0.42399999499320984,-0.39660000801086426,-0.3610999882221222,-0.3158000111579895,-0.2572000026702881,-0.1712000072002411,0.0],\"type\":\"scatter\"},{\"mode\":\"lines+markers\",\"name\":\"HBW Pk asc_wLRT_all\",\"x\":[40,39,38,37,36,35,34,33,32,31,30,29,28,27,26,25,24,23,22,21,20,19,18,17,16,15,14,13,12,11,10,9,8,7,6,5,4,3,2,1,0],\"y\":[0.2619999945163727,0.26350000500679016,0.26510000228881836,0.2667999863624573,0.2685999870300293,0.2705000042915344,0.27239999175071716,0.274399995803833,0.2766000032424927,0.27880001068115234,0.28110000491142273,0.28349998593330383,0.28600001335144043,0.28859999775886536,0.2912999987602234,0.29409998655319214,0.2969000041484833,0.299699991941452,0.3025999963283539,0.305400013923645,0.30820000171661377,0.3109000027179718,0.313400000333786,0.3158000111579895,0.31790000200271606,0.3197000026702881,0.32109999656677246,0.3221000134944916,0.32260000705718994,0.3224000036716461,0.3215000033378601,0.3197999894618988,0.31690001487731934,0.3125,0.30570000410079956,0.29499998688697815,0.2773999869823456,0.24770000576972961,0.19699999690055847,0.11429999768733978,0.0],\"type\":\"scatter\"},{\"mode\":\"lines+markers\",\"name\":\"HBW Pk asc_wCRT_all\",\"x\":[40,39,38,37,36,35,34,33,32,31,30,29,28,27,26,25,24,23,22,21,20,19,18,17,16,15,14,13,12,11,10,9,8,7,6,5,4,3,2,1,0],\"y\":[1.44350004196167,1.4496999979019165,1.455899953842163,1.4622999429702759,1.4687000513076782,1.4752000570297241,1.4817999601364136,1.4884999990463257,1.495300054550171,1.5022000074386597,1.5091999769210815,1.5162999629974365,1.5233999490737915,1.530500054359436,1.537600040435791,1.544600009918213,1.5513999462127686,1.5579999685287476,1.5642000436782837,1.5700000524520874,1.5751999616622925,1.5794999599456787,1.582800030708313,1.5846999883651733,1.5849000215530396,1.5829999446868896,1.5784000158309937,1.5703999996185303,1.5580999851226807,1.5405999422073364,1.5164999961853027,1.4843000173568726,1.4419000148773193,1.3868999481201172,1.316100001335144,1.2253999710083008,1.1090999841690063,0.9587000012397766,0.7601000070571899,0.4830000102519989,0.0],\"type\":\"scatter\"},{\"mode\":\"lines+markers\",\"name\":\"HBW Pk asc_dEXP_all\",\"x\":[40,39,38,37,36,35,34,33,32,31,30,29,28,27,26,25,24,23,22,21,20,19,18,17,16,15,14,13,12,11,10,9,8,7,6,5,4,3,2,1,0],\"y\":[1.3717000484466553,1.3720999956130981,1.3722000122070312,1.3720999956130981,1.3717000484466553,1.371000051498413,1.3700000047683716,1.3687000274658203,1.3669999837875366,1.36489999294281,1.3624000549316406,1.3594000339508057,1.3559999465942383,1.3521000146865845,1.3476999998092651,1.3425999879837036,1.336899995803833,1.3305000066757202,1.3234000205993652,1.3152999877929688,1.3063000440597534,1.2963000535964966,1.284999966621399,1.2724000215530396,1.2582000494003296,1.2422000169754028,1.2243000268936157,1.2039999961853027,1.180999994277954,1.1548000574111938,1.124899983406067,1.090499997138977,1.0506999492645264,1.0045000314712524,0.9505000114440918,0.886900007724762,0.8109999895095825,0.7171000242233276,0.5921000242233276,0.3971000015735626,0.0],\"type\":\"scatter\"},{\"mode\":\"lines+markers\",\"name\":\"HBW Pk asc_dBRT_all\",\"x\":[40,39,38,37,36,35,34,33,32,31,30,29,28,27,26,25,24,23,22,21,20,19,18,17,16,15,14,13,12,11,10,9,8,7,6,5,4,3,2,1,0],\"y\":[-0.41110000014305115,-0.4187999963760376,-0.42669999599456787,-0.43470001220703125,-0.44290000200271606,-0.4512999951839447,-0.45980000495910645,-0.46860000491142273,-0.47749999165534973,-0.48669999837875366,-0.49619999527931213,-0.5059000253677368,-0.5157999992370605,-0.5260000228881836,-0.5364000201225281,-0.5471000075340271,-0.5582000017166138,-0.5695000290870667,-0.5812000036239624,-0.5932000279426575,-0.6055999994277954,-0.618399977684021,-0.6316999793052673,-0.6453999876976013,-0.659600019454956,-0.6743999719619751,-0.6897000074386597,-0.7056000232696533,-0.722000002861023,-0.7386999726295471,-0.755299985408783,-0.771399974822998,-0.7858999967575073,-0.7968999743461609,-0.8015999794006348,-0.7954000234603882,-0.7706000208854675,-0.714900016784668,-0.6064000129699707,-0.40149998664855957,0.0],\"type\":\"scatter\"},{\"mode\":\"lines+markers\",\"name\":\"HBW Pk asc_dLRT_all\",\"x\":[40,39,38,37,36,35,34,33,32,31,30,29,28,27,26,25,24,23,22,21,20,19,18,17,16,15,14,13,12,11,10,9,8,7,6,5,4,3,2,1,0],\"y\":[0.4584999978542328,0.45329999923706055,0.4478999972343445,0.4422999918460846,0.43639999628067017,0.4302000105381012,0.423799991607666,0.4171000123023987,0.4101000130176544,0.4027999937534332,0.3952000141143799,0.3871000111103058,0.37869998812675476,0.3698999881744385,0.36059999465942383,0.35089999437332153,0.3407000005245209,0.32989999651908875,0.31859999895095825,0.3066999912261963,0.29409998655319214,0.2809000015258789,0.2669000029563904,0.25209999084472656,0.23649999499320984,0.2198999971151352,0.20229999721050262,0.18369999527931213,0.164000004529953,0.14309999346733093,0.12099999934434891,0.09780000150203705,0.07339999824762344,0.04800000041723251,0.02160000056028366,-0.00559999980032444,-0.03359999880194664,-0.061799999326467514,-0.08659999817609787,-0.0892999991774559,0.0],\"type\":\"scatter\"},{\"mode\":\"lines+markers\",\"name\":\"HBW Pk asc_dCRT_all\",\"x\":[40,39,38,37,36,35,34,33,32,31,30,29,28,27,26,25,24,23,22,21,20,19,18,17,16,15,14,13,12,11,10,9,8,7,6,5,4,3,2,1,0],\"y\":[1.1923999786376953,1.191100001335144,1.1895999908447266,1.1878000497817993,1.1857000589370728,1.18340003490448,1.1806999444961548,1.1777000427246094,1.174399971961975,1.170699954032898,1.166599988937378,1.1620999574661255,1.157099962234497,1.1516000032424927,1.1455999612808228,1.1390999555587769,1.1319999694824219,1.1241999864578247,1.1157000064849854,1.1065000295639038,1.0964000225067139,1.0853999853134155,1.0734000205993652,1.0601999759674072,1.045699954032898,1.0298000574111938,1.0123000144958496,0.992900013923645,0.9714000225067139,0.9474999904632568,0.9205999970436096,0.8902999758720398,0.8557999730110168,0.816100001335144,0.7700999975204468,0.7161999940872192,0.6523000001907349,0.574999988079071,0.4772999882698059,0.33489999175071716,0.0],\"type\":\"scatter\"},{\"mode\":\"lines+markers\",\"name\":\"HBW Pk asc_bike_all\",\"x\":[40,39,38,37,36,35,34,33,32,31,30,29,28,27,26,25,24,23,22,21,20,19,18,17,16,15,14,13,12,11,10,9,8,7,6,5,4,3,2,1,0],\"y\":[-2.2281999588012695,-2.2267000675201416,-2.2249999046325684,-2.223099946975708,-2.2209999561309814,-2.218600034713745,-2.2160000801086426,-2.2130000591278076,-2.209700107574463,-2.205899953842163,-2.2016000747680664,-2.1967999935150146,-2.1914000511169434,-2.1851999759674072,-2.1782000064849854,-2.1702001094818115,-2.1610000133514404,-2.1505000591278076,-2.1382999420166016,-2.124300003051758,-2.108099937438965,-2.0892999172210693,-2.0673999786376953,-2.041800022125244,-2.011899948120117,-1.9768999814987183,-1.9357999563217163,-1.8875000476837158,-1.8307000398635864,-1.7640000581741333,-1.6857000589370728,-1.5942000150680542,-1.4876999855041504,-1.3646999597549438,-1.2237000465393066,-1.0640000104904175,-0.8852999806404114,-0.6880999803543091,-0.47350001335144043,-0.24330000579357147,0.0],\"type\":\"scatter\"}],                        {\"height\":400,\"template\":{\"data\":{\"barpolar\":[{\"marker\":{\"line\":{\"color\":\"#E5ECF6\",\"width\":0.5},\"pattern\":{\"fillmode\":\"overlay\",\"size\":10,\"solidity\":0.2}},\"type\":\"barpolar\"}],\"bar\":[{\"error_x\":{\"color\":\"#2a3f5f\"},\"error_y\":{\"color\":\"#2a3f5f\"},\"marker\":{\"line\":{\"color\":\"#E5ECF6\",\"width\":0.5},\"pattern\":{\"fillmode\":\"overlay\",\"size\":10,\"solidity\":0.2}},\"type\":\"bar\"}],\"carpet\":[{\"aaxis\":{\"endlinecolor\":\"#2a3f5f\",\"gridcolor\":\"white\",\"linecolor\":\"white\",\"minorgridcolor\":\"white\",\"startlinecolor\":\"#2a3f5f\"},\"baxis\":{\"endlinecolor\":\"#2a3f5f\",\"gridcolor\":\"white\",\"linecolor\":\"white\",\"minorgridcolor\":\"white\",\"startlinecolor\":\"#2a3f5f\"},\"type\":\"carpet\"}],\"choropleth\":[{\"colorbar\":{\"outlinewidth\":0,\"ticks\":\"\"},\"type\":\"choropleth\"}],\"contourcarpet\":[{\"colorbar\":{\"outlinewidth\":0,\"ticks\":\"\"},\"type\":\"contourcarpet\"}],\"contour\":[{\"colorbar\":{\"outlinewidth\":0,\"ticks\":\"\"},\"colorscale\":[[0.0,\"#0d0887\"],[0.1111111111111111,\"#46039f\"],[0.2222222222222222,\"#7201a8\"],[0.3333333333333333,\"#9c179e\"],[0.4444444444444444,\"#bd3786\"],[0.5555555555555556,\"#d8576b\"],[0.6666666666666666,\"#ed7953\"],[0.7777777777777778,\"#fb9f3a\"],[0.8888888888888888,\"#fdca26\"],[1.0,\"#f0f921\"]],\"type\":\"contour\"}],\"heatmapgl\":[{\"colorbar\":{\"outlinewidth\":0,\"ticks\":\"\"},\"colorscale\":[[0.0,\"#0d0887\"],[0.1111111111111111,\"#46039f\"],[0.2222222222222222,\"#7201a8\"],[0.3333333333333333,\"#9c179e\"],[0.4444444444444444,\"#bd3786\"],[0.5555555555555556,\"#d8576b\"],[0.6666666666666666,\"#ed7953\"],[0.7777777777777778,\"#fb9f3a\"],[0.8888888888888888,\"#fdca26\"],[1.0,\"#f0f921\"]],\"type\":\"heatmapgl\"}],\"heatmap\":[{\"colorbar\":{\"outlinewidth\":0,\"ticks\":\"\"},\"colorscale\":[[0.0,\"#0d0887\"],[0.1111111111111111,\"#46039f\"],[0.2222222222222222,\"#7201a8\"],[0.3333333333333333,\"#9c179e\"],[0.4444444444444444,\"#bd3786\"],[0.5555555555555556,\"#d8576b\"],[0.6666666666666666,\"#ed7953\"],[0.7777777777777778,\"#fb9f3a\"],[0.8888888888888888,\"#fdca26\"],[1.0,\"#f0f921\"]],\"type\":\"heatmap\"}],\"histogram2dcontour\":[{\"colorbar\":{\"outlinewidth\":0,\"ticks\":\"\"},\"colorscale\":[[0.0,\"#0d0887\"],[0.1111111111111111,\"#46039f\"],[0.2222222222222222,\"#7201a8\"],[0.3333333333333333,\"#9c179e\"],[0.4444444444444444,\"#bd3786\"],[0.5555555555555556,\"#d8576b\"],[0.6666666666666666,\"#ed7953\"],[0.7777777777777778,\"#fb9f3a\"],[0.8888888888888888,\"#fdca26\"],[1.0,\"#f0f921\"]],\"type\":\"histogram2dcontour\"}],\"histogram2d\":[{\"colorbar\":{\"outlinewidth\":0,\"ticks\":\"\"},\"colorscale\":[[0.0,\"#0d0887\"],[0.1111111111111111,\"#46039f\"],[0.2222222222222222,\"#7201a8\"],[0.3333333333333333,\"#9c179e\"],[0.4444444444444444,\"#bd3786\"],[0.5555555555555556,\"#d8576b\"],[0.6666666666666666,\"#ed7953\"],[0.7777777777777778,\"#fb9f3a\"],[0.8888888888888888,\"#fdca26\"],[1.0,\"#f0f921\"]],\"type\":\"histogram2d\"}],\"histogram\":[{\"marker\":{\"pattern\":{\"fillmode\":\"overlay\",\"size\":10,\"solidity\":0.2}},\"type\":\"histogram\"}],\"mesh3d\":[{\"colorbar\":{\"outlinewidth\":0,\"ticks\":\"\"},\"type\":\"mesh3d\"}],\"parcoords\":[{\"line\":{\"colorbar\":{\"outlinewidth\":0,\"ticks\":\"\"}},\"type\":\"parcoords\"}],\"pie\":[{\"automargin\":true,\"type\":\"pie\"}],\"scatter3d\":[{\"line\":{\"colorbar\":{\"outlinewidth\":0,\"ticks\":\"\"}},\"marker\":{\"colorbar\":{\"outlinewidth\":0,\"ticks\":\"\"}},\"type\":\"scatter3d\"}],\"scattercarpet\":[{\"marker\":{\"colorbar\":{\"outlinewidth\":0,\"ticks\":\"\"}},\"type\":\"scattercarpet\"}],\"scattergeo\":[{\"marker\":{\"colorbar\":{\"outlinewidth\":0,\"ticks\":\"\"}},\"type\":\"scattergeo\"}],\"scattergl\":[{\"marker\":{\"colorbar\":{\"outlinewidth\":0,\"ticks\":\"\"}},\"type\":\"scattergl\"}],\"scattermapbox\":[{\"marker\":{\"colorbar\":{\"outlinewidth\":0,\"ticks\":\"\"}},\"type\":\"scattermapbox\"}],\"scatterpolargl\":[{\"marker\":{\"colorbar\":{\"outlinewidth\":0,\"ticks\":\"\"}},\"type\":\"scatterpolargl\"}],\"scatterpolar\":[{\"marker\":{\"colorbar\":{\"outlinewidth\":0,\"ticks\":\"\"}},\"type\":\"scatterpolar\"}],\"scatter\":[{\"fillpattern\":{\"fillmode\":\"overlay\",\"size\":10,\"solidity\":0.2},\"type\":\"scatter\"}],\"scatterternary\":[{\"marker\":{\"colorbar\":{\"outlinewidth\":0,\"ticks\":\"\"}},\"type\":\"scatterternary\"}],\"surface\":[{\"colorbar\":{\"outlinewidth\":0,\"ticks\":\"\"},\"colorscale\":[[0.0,\"#0d0887\"],[0.1111111111111111,\"#46039f\"],[0.2222222222222222,\"#7201a8\"],[0.3333333333333333,\"#9c179e\"],[0.4444444444444444,\"#bd3786\"],[0.5555555555555556,\"#d8576b\"],[0.6666666666666666,\"#ed7953\"],[0.7777777777777778,\"#fb9f3a\"],[0.8888888888888888,\"#fdca26\"],[1.0,\"#f0f921\"]],\"type\":\"surface\"}],\"table\":[{\"cells\":{\"fill\":{\"color\":\"#EBF0F8\"},\"line\":{\"color\":\"white\"}},\"header\":{\"fill\":{\"color\":\"#C8D4E3\"},\"line\":{\"color\":\"white\"}},\"type\":\"table\"}]},\"layout\":{\"annotationdefaults\":{\"arrowcolor\":\"#2a3f5f\",\"arrowhead\":0,\"arrowwidth\":1},\"autotypenumbers\":\"strict\",\"coloraxis\":{\"colorbar\":{\"outlinewidth\":0,\"ticks\":\"\"}},\"colorscale\":{\"diverging\":[[0,\"#8e0152\"],[0.1,\"#c51b7d\"],[0.2,\"#de77ae\"],[0.3,\"#f1b6da\"],[0.4,\"#fde0ef\"],[0.5,\"#f7f7f7\"],[0.6,\"#e6f5d0\"],[0.7,\"#b8e186\"],[0.8,\"#7fbc41\"],[0.9,\"#4d9221\"],[1,\"#276419\"]],\"sequential\":[[0.0,\"#0d0887\"],[0.1111111111111111,\"#46039f\"],[0.2222222222222222,\"#7201a8\"],[0.3333333333333333,\"#9c179e\"],[0.4444444444444444,\"#bd3786\"],[0.5555555555555556,\"#d8576b\"],[0.6666666666666666,\"#ed7953\"],[0.7777777777777778,\"#fb9f3a\"],[0.8888888888888888,\"#fdca26\"],[1.0,\"#f0f921\"]],\"sequentialminus\":[[0.0,\"#0d0887\"],[0.1111111111111111,\"#46039f\"],[0.2222222222222222,\"#7201a8\"],[0.3333333333333333,\"#9c179e\"],[0.4444444444444444,\"#bd3786\"],[0.5555555555555556,\"#d8576b\"],[0.6666666666666666,\"#ed7953\"],[0.7777777777777778,\"#fb9f3a\"],[0.8888888888888888,\"#fdca26\"],[1.0,\"#f0f921\"]]},\"colorway\":[\"#636efa\",\"#EF553B\",\"#00cc96\",\"#ab63fa\",\"#FFA15A\",\"#19d3f3\",\"#FF6692\",\"#B6E880\",\"#FF97FF\",\"#FECB52\"],\"font\":{\"color\":\"#2a3f5f\"},\"geo\":{\"bgcolor\":\"white\",\"lakecolor\":\"white\",\"landcolor\":\"#E5ECF6\",\"showlakes\":true,\"showland\":true,\"subunitcolor\":\"white\"},\"hoverlabel\":{\"align\":\"left\"},\"hovermode\":\"closest\",\"mapbox\":{\"style\":\"light\"},\"paper_bgcolor\":\"white\",\"plot_bgcolor\":\"#E5ECF6\",\"polar\":{\"angularaxis\":{\"gridcolor\":\"white\",\"linecolor\":\"white\",\"ticks\":\"\"},\"bgcolor\":\"#E5ECF6\",\"radialaxis\":{\"gridcolor\":\"white\",\"linecolor\":\"white\",\"ticks\":\"\"}},\"scene\":{\"xaxis\":{\"backgroundcolor\":\"#E5ECF6\",\"gridcolor\":\"white\",\"gridwidth\":2,\"linecolor\":\"white\",\"showbackground\":true,\"ticks\":\"\",\"zerolinecolor\":\"white\"},\"yaxis\":{\"backgroundcolor\":\"#E5ECF6\",\"gridcolor\":\"white\",\"gridwidth\":2,\"linecolor\":\"white\",\"showbackground\":true,\"ticks\":\"\",\"zerolinecolor\":\"white\"},\"zaxis\":{\"backgroundcolor\":\"#E5ECF6\",\"gridcolor\":\"white\",\"gridwidth\":2,\"linecolor\":\"white\",\"showbackground\":true,\"ticks\":\"\",\"zerolinecolor\":\"white\"}},\"shapedefaults\":{\"line\":{\"color\":\"#2a3f5f\"}},\"ternary\":{\"aaxis\":{\"gridcolor\":\"white\",\"linecolor\":\"white\",\"ticks\":\"\"},\"baxis\":{\"gridcolor\":\"white\",\"linecolor\":\"white\",\"ticks\":\"\"},\"bgcolor\":\"#E5ECF6\",\"caxis\":{\"gridcolor\":\"white\",\"linecolor\":\"white\",\"ticks\":\"\"}},\"title\":{\"x\":0.05},\"xaxis\":{\"automargin\":true,\"gridcolor\":\"white\",\"linecolor\":\"white\",\"ticks\":\"\",\"title\":{\"standoff\":15},\"zerolinecolor\":\"white\",\"zerolinewidth\":2},\"yaxis\":{\"automargin\":true,\"gridcolor\":\"white\",\"linecolor\":\"white\",\"ticks\":\"\",\"title\":{\"standoff\":15},\"zerolinecolor\":\"white\",\"zerolinewidth\":2}}},\"title\":{\"text\":\"Mode Choice Calibration Constants\"},\"width\":800,\"xaxis\":{\"title\":{\"text\":\"Iteration\"}},\"yaxis\":{\"title\":{\"text\":\"Constant Value\"}}},                        {\"responsive\": true}                    ).then(function(){\n",
       "                            \n",
       "var gd = document.getElementById('6398dfc5-e626-480d-87ad-b084b6977d59');\n",
       "var x = new MutationObserver(function (mutations, observer) {{\n",
       "        var display = window.getComputedStyle(gd).display;\n",
       "        if (!display || display === 'none') {{\n",
       "            console.log([gd, 'removed!']);\n",
       "            Plotly.purge(gd);\n",
       "            observer.disconnect();\n",
       "        }}\n",
       "}});\n",
       "\n",
       "// Listen for the removal of the full notebook cells\n",
       "var notebookContainer = gd.closest('#notebook-container');\n",
       "if (notebookContainer) {{\n",
       "    x.observe(notebookContainer, {childList: true});\n",
       "}}\n",
       "\n",
       "// Listen for the clearing of the current output cell\n",
       "var outputEl = gd.closest('.output');\n",
       "if (outputEl) {{\n",
       "    x.observe(outputEl, {childList: true});\n",
       "}}\n",
       "\n",
       "                        })                };                });            </script>        </div>"
      ]
     },
     "metadata": {},
     "output_type": "display_data"
    },
    {
     "data": {
      "application/vnd.plotly.v1+json": {
       "config": {
        "linkText": "Export to plot.ly",
        "plotlyServerURL": "https://plot.ly",
        "showLink": false
       },
       "data": [
        {
         "mode": "lines+markers",
         "name": "HBW Ok asc_nonmotor_0veh",
         "type": "scatter",
         "x": [
          40,
          39,
          38,
          37,
          36,
          35,
          34,
          33,
          32,
          31,
          30,
          29,
          28,
          27,
          26,
          25,
          24,
          23,
          22,
          21,
          20,
          19,
          18,
          17,
          16,
          15,
          14,
          13,
          12,
          11,
          10,
          9,
          8,
          7,
          6,
          5,
          4,
          3,
          2,
          1,
          0
         ],
         "y": [
          3.696199893951416,
          3.6763999462127686,
          3.655100107192993,
          3.6322999000549316,
          3.607800006866455,
          3.5815000534057617,
          3.5532000064849854,
          3.5227999687194824,
          3.4902000427246094,
          3.4551000595092773,
          3.4173998832702637,
          3.3768999576568604,
          3.3333001136779785,
          3.286400079727173,
          3.2360000610351562,
          3.18179988861084,
          3.1233999729156494,
          3.0606000423431396,
          2.993000030517578,
          2.9202001094818115,
          2.8417999744415283,
          2.7574000358581543,
          2.6665000915527344,
          2.568700075149536,
          2.463399887084961,
          2.350100040435791,
          2.228300094604492,
          2.097399950027466,
          1.9567999839782715,
          1.8061000108718872,
          1.6449999809265137,
          1.4732999801635742,
          1.2913000583648682,
          1.1002000570297241,
          0.9023000001907349,
          0.7019000053405762,
          0.5062999725341797,
          0.326200008392334,
          0.17499999701976776,
          0.06530000269412994,
          0
         ]
        },
        {
         "mode": "lines+markers",
         "name": "HBW Ok asc_nonmotor_1veh",
         "type": "scatter",
         "x": [
          40,
          39,
          38,
          37,
          36,
          35,
          34,
          33,
          32,
          31,
          30,
          29,
          28,
          27,
          26,
          25,
          24,
          23,
          22,
          21,
          20,
          19,
          18,
          17,
          16,
          15,
          14,
          13,
          12,
          11,
          10,
          9,
          8,
          7,
          6,
          5,
          4,
          3,
          2,
          1,
          0
         ],
         "y": [
          0.8729000091552734,
          0.8711000084877014,
          0.8690999746322632,
          0.8669000267982483,
          0.8644000291824341,
          0.8615999817848206,
          0.8583999872207642,
          0.8547999858856201,
          0.8507999777793884,
          0.8461999893188477,
          0.8410000205039978,
          0.835099995136261,
          0.8282999992370605,
          0.8205999732017517,
          0.8118000030517578,
          0.8016999959945679,
          0.7900000214576721,
          0.7764999866485596,
          0.7609999775886536,
          0.7429999709129333,
          0.7221999764442444,
          0.6980999708175659,
          0.6703000068664551,
          0.6381000280380249,
          0.6008999943733215,
          0.5580999851226807,
          0.5088000297546387,
          0.45239999890327454,
          0.3882000148296356,
          0.3158000111579895,
          0.23499999940395355,
          0.14650000631809235,
          0.051899999380111694,
          -0.045499999076128006,
          -0.1396999955177307,
          -0.22169999778270721,
          -0.2786000072956085,
          -0.2946999967098236,
          -0.2547999918460846,
          -0.15230000019073486,
          0
         ]
        },
        {
         "mode": "lines+markers",
         "name": "HBW Ok asc_nonmotor_2veh",
         "type": "scatter",
         "x": [
          40,
          39,
          38,
          37,
          36,
          35,
          34,
          33,
          32,
          31,
          30,
          29,
          28,
          27,
          26,
          25,
          24,
          23,
          22,
          21,
          20,
          19,
          18,
          17,
          16,
          15,
          14,
          13,
          12,
          11,
          10,
          9,
          8,
          7,
          6,
          5,
          4,
          3,
          2,
          1,
          0
         ],
         "y": [
          -0.43689998984336853,
          -0.43790000677108765,
          -0.4390000104904175,
          -0.44020000100135803,
          -0.4415000081062317,
          -0.4429999887943268,
          -0.444599986076355,
          -0.446399986743927,
          -0.44850000739097595,
          -0.45089998841285706,
          -0.4535999894142151,
          -0.45669999718666077,
          -0.4602999985218048,
          -0.4643999934196472,
          -0.4691999852657318,
          -0.474700003862381,
          -0.4810999929904938,
          -0.4885999858379364,
          -0.4973999857902527,
          -0.5077999830245972,
          -0.5200999975204468,
          -0.534600019454956,
          -0.5516999959945679,
          -0.5720000267028809,
          -0.5960000157356262,
          -0.6241999864578247,
          -0.6572999954223633,
          -0.6959999799728394,
          -0.7407000064849854,
          -0.791700005531311,
          -0.8486999869346619,
          -0.9104999899864197,
          -0.9742000102996826,
          -1.0343999862670898,
          -1.0817999839782715,
          -1.1017999649047852,
          -1.073199987411499,
          -0.9685999751091003,
          -0.7595000267028809,
          -0.43059998750686646,
          0
         ]
        },
        {
         "mode": "lines+markers",
         "name": "HBW Ok asc_transit_0veh",
         "type": "scatter",
         "x": [
          40,
          39,
          38,
          37,
          36,
          35,
          34,
          33,
          32,
          31,
          30,
          29,
          28,
          27,
          26,
          25,
          24,
          23,
          22,
          21,
          20,
          19,
          18,
          17,
          16,
          15,
          14,
          13,
          12,
          11,
          10,
          9,
          8,
          7,
          6,
          5,
          4,
          3,
          2,
          1,
          0
         ],
         "y": [
          3.901599884033203,
          3.8940000534057617,
          3.8859000205993652,
          3.87719988822937,
          3.867799997329712,
          3.8577001094818115,
          3.8468000888824463,
          3.835099935531616,
          3.8224000930786133,
          3.8087000846862793,
          3.7939000129699707,
          3.777899980545044,
          3.7606000900268555,
          3.7418999671936035,
          3.72160005569458,
          3.69950008392334,
          3.67549991607666,
          3.649399995803833,
          3.6208999156951904,
          3.5897998809814453,
          3.5557000637054443,
          3.5183000564575195,
          3.4772000312805176,
          3.431999921798706,
          3.3821001052856445,
          3.3268001079559326,
          3.265399932861328,
          3.197000026702881,
          3.1203999519348145,
          3.0343000888824463,
          2.937000036239624,
          2.8264000415802,
          2.6998000144958496,
          2.553800106048584,
          2.3838000297546387,
          2.183500051498413,
          1.94350004196167,
          1.648800015449524,
          1.2719000577926636,
          0.7581999897956848,
          0
         ]
        },
        {
         "mode": "lines+markers",
         "name": "HBW Ok asc_transit_1veh",
         "type": "scatter",
         "x": [
          40,
          39,
          38,
          37,
          36,
          35,
          34,
          33,
          32,
          31,
          30,
          29,
          28,
          27,
          26,
          25,
          24,
          23,
          22,
          21,
          20,
          19,
          18,
          17,
          16,
          15,
          14,
          13,
          12,
          11,
          10,
          9,
          8,
          7,
          6,
          5,
          4,
          3,
          2,
          1,
          0
         ],
         "y": [
          0.010099999606609344,
          0.009399999864399433,
          0.00860000029206276,
          0.007799999788403511,
          0.007000000216066837,
          0.006200000178068876,
          0.005400000140070915,
          0.004600000102072954,
          0.003700000001117587,
          0.00279999990016222,
          0.0019000000320374966,
          0.0010999999940395355,
          0.0003000000142492354,
          -0.00039999998989515007,
          -0.0010000000474974513,
          -0.00139999995008111,
          -0.0017000000225380063,
          -0.0017000000225380063,
          -0.00139999995008111,
          -0.0007999999797903001,
          0.0003000000142492354,
          0.0019000000320374966,
          0.004100000020116568,
          0.007000000216066837,
          0.010700000450015068,
          0.015399999916553497,
          0.0210999995470047,
          0.027899999171495438,
          0.03590000048279762,
          0.045099999755620956,
          0.05559999868273735,
          0.06719999760389328,
          0.07980000227689743,
          0.09309999644756317,
          0.10649999976158142,
          0.11919999867677689,
          0.12960000336170197,
          0.13449999690055847,
          0.12729999423027039,
          0.09290000051259995,
          0
         ]
        },
        {
         "mode": "lines+markers",
         "name": "HBW Ok asc_transit_2veh",
         "type": "scatter",
         "x": [
          40,
          39,
          38,
          37,
          36,
          35,
          34,
          33,
          32,
          31,
          30,
          29,
          28,
          27,
          26,
          25,
          24,
          23,
          22,
          21,
          20,
          19,
          18,
          17,
          16,
          15,
          14,
          13,
          12,
          11,
          10,
          9,
          8,
          7,
          6,
          5,
          4,
          3,
          2,
          1,
          0
         ],
         "y": [
          -1.0436999797821045,
          -1.044700026512146,
          -1.045699954032898,
          -1.0467000007629395,
          -1.0477999448776245,
          -1.0490000247955322,
          -1.0501999855041504,
          -1.0514999628067017,
          -1.0528000593185425,
          -1.0541000366210938,
          -1.0555000305175781,
          -1.0568000078201294,
          -1.0580999851226807,
          -1.059399962425232,
          -1.0606000423431396,
          -1.0616999864578247,
          -1.0628000497817993,
          -1.0636999607086182,
          -1.0643999576568604,
          -1.0649000406265259,
          -1.065000057220459,
          -1.0648000240325928,
          -1.0640000104904175,
          -1.0627000331878662,
          -1.0606000423431396,
          -1.0576000213623047,
          -1.0535000562667847,
          -1.0479999780654907,
          -1.0405999422073364,
          -1.0306999683380127,
          -1.0175000429153442,
          -0.9997000098228455,
          -0.9753000140190125,
          -0.9415000081062317,
          -0.8938999772071838,
          -0.8263000249862671,
          -0.7300000190734863,
          -0.5946000218391418,
          -0.4124999940395355,
          -0.1949000060558319,
          0
         ]
        },
        {
         "mode": "lines+markers",
         "name": "HBW Ok asc_shared_1veh",
         "type": "scatter",
         "x": [
          40,
          39,
          38,
          37,
          36,
          35,
          34,
          33,
          32,
          31,
          30,
          29,
          28,
          27,
          26,
          25,
          24,
          23,
          22,
          21,
          20,
          19,
          18,
          17,
          16,
          15,
          14,
          13,
          12,
          11,
          10,
          9,
          8,
          7,
          6,
          5,
          4,
          3,
          2,
          1,
          0
         ],
         "y": [
          -1.1642999649047852,
          -1.1642999649047852,
          -1.1642999649047852,
          -1.1642999649047852,
          -1.1642999649047852,
          -1.1642999649047852,
          -1.1642999649047852,
          -1.1642999649047852,
          -1.164199948310852,
          -1.164199948310852,
          -1.164199948310852,
          -1.164199948310852,
          -1.164199948310852,
          -1.1641000509262085,
          -1.1641000509262085,
          -1.1641000509262085,
          -1.1640000343322754,
          -1.1640000343322754,
          -1.1639000177383423,
          -1.1638000011444092,
          -1.163699984550476,
          -1.163599967956543,
          -1.1634999513626099,
          -1.1634000539779663,
          -1.1632000207901,
          -1.1628999710083008,
          -1.162500023841858,
          -1.1619000434875488,
          -1.1608999967575073,
          -1.1593999862670898,
          -1.1568000316619873,
          -1.152400016784668,
          -1.1447999477386475,
          -1.131600022315979,
          -1.1088000535964966,
          -1.069200038909912,
          -1.001099944114685,
          -0.885699987411499,
          -0.6963000297546387,
          -0.40459999442100525,
          0
         ]
        },
        {
         "mode": "lines+markers",
         "name": "HBW Ok asc_shared_2veh",
         "type": "scatter",
         "x": [
          40,
          39,
          38,
          37,
          36,
          35,
          34,
          33,
          32,
          31,
          30,
          29,
          28,
          27,
          26,
          25,
          24,
          23,
          22,
          21,
          20,
          19,
          18,
          17,
          16,
          15,
          14,
          13,
          12,
          11,
          10,
          9,
          8,
          7,
          6,
          5,
          4,
          3,
          2,
          1,
          0
         ],
         "y": [
          -1.4860999584197998,
          -1.4860999584197998,
          -1.4860999584197998,
          -1.4860999584197998,
          -1.4860999584197998,
          -1.4860999584197998,
          -1.4860999584197998,
          -1.4860999584197998,
          -1.4860999584197998,
          -1.4860999584197998,
          -1.4860999584197998,
          -1.4860999584197998,
          -1.4860999584197998,
          -1.4860999584197998,
          -1.4860999584197998,
          -1.4860999584197998,
          -1.4860999584197998,
          -1.4860999584197998,
          -1.4860999584197998,
          -1.4860999584197998,
          -1.4859999418258667,
          -1.4859999418258667,
          -1.4859999418258667,
          -1.4859000444412231,
          -1.48580002784729,
          -1.485700011253357,
          -1.4854999780654907,
          -1.485200047492981,
          -1.4845999479293823,
          -1.4835000038146973,
          -1.481600046157837,
          -1.4780000448226929,
          -1.4714000225067139,
          -1.4592000246047974,
          -1.4365999698638916,
          -1.3948999643325806,
          -1.3181999921798706,
          -1.1792999505996704,
          -0.9368000030517578,
          -0.5460000038146973,
          0
         ]
        },
        {
         "mode": "lines+markers",
         "name": "HBW Ok asc_sr3_all",
         "type": "scatter",
         "x": [
          40,
          39,
          38,
          37,
          36,
          35,
          34,
          33,
          32,
          31,
          30,
          29,
          28,
          27,
          26,
          25,
          24,
          23,
          22,
          21,
          20,
          19,
          18,
          17,
          16,
          15,
          14,
          13,
          12,
          11,
          10,
          9,
          8,
          7,
          6,
          5,
          4,
          3,
          2,
          1,
          0
         ],
         "y": [
          -0.2840999960899353,
          -0.2840999960899353,
          -0.2840999960899353,
          -0.2840999960899353,
          -0.2840999960899353,
          -0.2840999960899353,
          -0.2840999960899353,
          -0.2840999960899353,
          -0.2840999960899353,
          -0.2840999960899353,
          -0.2840999960899353,
          -0.2840999960899353,
          -0.2840999960899353,
          -0.2840999960899353,
          -0.2840999960899353,
          -0.2840999960899353,
          -0.2840999960899353,
          -0.2840999960899353,
          -0.2840999960899353,
          -0.2840999960899353,
          -0.2840999960899353,
          -0.2840999960899353,
          -0.2840999960899353,
          -0.2840999960899353,
          -0.2840999960899353,
          -0.2840999960899353,
          -0.2840999960899353,
          -0.2840999960899353,
          -0.2840999960899353,
          -0.2840999960899353,
          -0.2840999960899353,
          -0.2840000092983246,
          -0.28380000591278076,
          -0.2833000123500824,
          -0.28209999203681946,
          -0.2793000042438507,
          -0.2727000117301941,
          -0.25699999928474426,
          -0.22130000591278076,
          -0.14480000734329224,
          0
         ]
        },
        {
         "mode": "lines+markers",
         "name": "HBW Ok asc_hov_all",
         "type": "scatter",
         "x": [
          40,
          39,
          38,
          37,
          36,
          35,
          34,
          33,
          32,
          31,
          30,
          29,
          28,
          27,
          26,
          25,
          24,
          23,
          22,
          21,
          20,
          19,
          18,
          17,
          16,
          15,
          14,
          13,
          12,
          11,
          10,
          9,
          8,
          7,
          6,
          5,
          4,
          3,
          2,
          1,
          0
         ],
         "y": [
          0.11249999701976776,
          0.11249999701976776,
          0.11249999701976776,
          0.11249999701976776,
          0.11249999701976776,
          0.11249999701976776,
          0.11249999701976776,
          0.11249999701976776,
          0.11249999701976776,
          0.11249999701976776,
          0.11249999701976776,
          0.11249999701976776,
          0.11249999701976776,
          0.11249999701976776,
          0.11249999701976776,
          0.11249999701976776,
          0.11249999701976776,
          0.11249999701976776,
          0.11249999701976776,
          0.11249999701976776,
          0.11249999701976776,
          0.11249999701976776,
          0.11249999701976776,
          0.11249999701976776,
          0.11249999701976776,
          0.11249999701976776,
          0.11249999701976776,
          0.11249999701976776,
          0.11249999701976776,
          0.11249999701976776,
          0.11249999701976776,
          0.11249999701976776,
          0.11249999701976776,
          0.11249999701976776,
          0.11249999701976776,
          0.11249999701976776,
          0.11249999701976776,
          0.11249999701976776,
          0.11249999701976776,
          0.11249999701976776,
          0.11249999701976776
         ]
        },
        {
         "mode": "lines+markers",
         "name": "HBW Ok asc_toll_all",
         "type": "scatter",
         "x": [
          40,
          39,
          38,
          37,
          36,
          35,
          34,
          33,
          32,
          31,
          30,
          29,
          28,
          27,
          26,
          25,
          24,
          23,
          22,
          21,
          20,
          19,
          18,
          17,
          16,
          15,
          14,
          13,
          12,
          11,
          10,
          9,
          8,
          7,
          6,
          5,
          4,
          3,
          2,
          1,
          0
         ],
         "y": [
          -0.44999998807907104,
          -0.44999998807907104,
          -0.44999998807907104,
          -0.44999998807907104,
          -0.44999998807907104,
          -0.44999998807907104,
          -0.44999998807907104,
          -0.44999998807907104,
          -0.44999998807907104,
          -0.44999998807907104,
          -0.44999998807907104,
          -0.44999998807907104,
          -0.44999998807907104,
          -0.44999998807907104,
          -0.44999998807907104,
          -0.44999998807907104,
          -0.44999998807907104,
          -0.44999998807907104,
          -0.44999998807907104,
          -0.44999998807907104,
          -0.44999998807907104,
          -0.44999998807907104,
          -0.44999998807907104,
          -0.44999998807907104,
          -0.44999998807907104,
          -0.44999998807907104,
          -0.44999998807907104,
          -0.44999998807907104,
          -0.44999998807907104,
          -0.44999998807907104,
          -0.44999998807907104,
          -0.44999998807907104,
          -0.44999998807907104,
          -0.44999998807907104,
          -0.44999998807907104,
          -0.44999998807907104,
          -0.44999998807907104,
          -0.44999998807907104,
          -0.44999998807907104,
          -0.44999998807907104,
          -0.44999998807907104
         ]
        },
        {
         "mode": "lines+markers",
         "name": "HBW Ok asc_BRT_all",
         "type": "scatter",
         "x": [
          40,
          39,
          38,
          37,
          36,
          35,
          34,
          33,
          32,
          31,
          30,
          29,
          28,
          27,
          26,
          25,
          24,
          23,
          22,
          21,
          20,
          19,
          18,
          17,
          16,
          15,
          14,
          13,
          12,
          11,
          10,
          9,
          8,
          7,
          6,
          5,
          4,
          3,
          2,
          1,
          0
         ],
         "y": [
          1.5132999420166016,
          1.4886000156402588,
          1.4638999700546265,
          1.4392000436782837,
          1.4144999980926514,
          1.3897000551223755,
          1.36489999294281,
          1.3401000499725342,
          1.3151999711990356,
          1.2903000116348267,
          1.2653000354766846,
          1.2402000427246094,
          1.215000033378601,
          1.1897000074386597,
          1.164199948310852,
          1.1385999917984009,
          1.1126999855041504,
          1.0865000486373901,
          1.059999942779541,
          1.0332000255584717,
          1.0059000253677368,
          0.9781000018119812,
          0.9496999979019165,
          0.9205999970436096,
          0.8906000256538391,
          0.8597000241279602,
          0.8277000188827515,
          0.7944999933242798,
          0.7601000070571899,
          0.7242000102996826,
          0.6868000030517578,
          0.6478999853134155,
          0.6072999835014343,
          0.5648999810218811,
          0.5202000141143799,
          0.4724000096321106,
          0.41909998655319214,
          0.3549000024795532,
          0.26820001006126404,
          0.1421000063419342,
          0
         ]
        },
        {
         "mode": "lines+markers",
         "name": "HBW Ok asc_LRT_all",
         "type": "scatter",
         "x": [
          40,
          39,
          38,
          37,
          36,
          35,
          34,
          33,
          32,
          31,
          30,
          29,
          28,
          27,
          26,
          25,
          24,
          23,
          22,
          21,
          20,
          19,
          18,
          17,
          16,
          15,
          14,
          13,
          12,
          11,
          10,
          9,
          8,
          7,
          6,
          5,
          4,
          3,
          2,
          1,
          0
         ],
         "y": [
          0.16279999911785126,
          0.16290000081062317,
          0.16300000250339508,
          0.163100004196167,
          0.1632000058889389,
          0.16329999268054962,
          0.16339999437332153,
          0.16349999606609344,
          0.16359999775886536,
          0.16359999775886536,
          0.16359999775886536,
          0.16359999775886536,
          0.16349999606609344,
          0.16339999437332153,
          0.1632000058889389,
          0.16290000081062317,
          0.16249999403953552,
          0.16200000047683716,
          0.16130000352859497,
          0.16050000488758087,
          0.15940000116825104,
          0.15809999406337738,
          0.15639999508857727,
          0.1543000042438507,
          0.1517000049352646,
          0.1485999971628189,
          0.14480000734329224,
          0.14020000398159027,
          0.1347000002861023,
          0.12809999287128448,
          0.12030000239610672,
          0.11110000312328339,
          0.10019999742507935,
          0.08730000257492065,
          0.07209999859333038,
          0.05389999970793724,
          0.03189999982714653,
          0.004900000058114529,
          -0.027000000700354576,
          -0.050599999725818634,
          0
         ]
        },
        {
         "mode": "lines+markers",
         "name": "HBW Ok asc_CRT_all",
         "type": "scatter",
         "x": [
          40,
          39,
          38,
          37,
          36,
          35,
          34,
          33,
          32,
          31,
          30,
          29,
          28,
          27,
          26,
          25,
          24,
          23,
          22,
          21,
          20,
          19,
          18,
          17,
          16,
          15,
          14,
          13,
          12,
          11,
          10,
          9,
          8,
          7,
          6,
          5,
          4,
          3,
          2,
          1,
          0
         ],
         "y": [
          -0.16899999976158142,
          -0.15610000491142273,
          -0.14319999516010284,
          -0.13040000200271606,
          -0.11760000139474869,
          -0.10480000078678131,
          -0.09200000017881393,
          -0.07930000126361847,
          -0.066600002348423,
          -0.05400000140070915,
          -0.0414000004529953,
          -0.02889999933540821,
          -0.01640000008046627,
          -0.004000000189989805,
          0.008299999870359898,
          0.020500000566244125,
          0.032600000500679016,
          0.044599998742341995,
          0.05640000104904175,
          0.06800000369548798,
          0.07940000295639038,
          0.09049999713897705,
          0.10140000283718109,
          0.11190000176429749,
          0.12200000137090683,
          0.1316000074148178,
          0.14069999754428864,
          0.14910000562667847,
          0.15680000185966492,
          0.16369999945163727,
          0.1696999967098236,
          0.17479999363422394,
          0.17910000681877136,
          0.18299999833106995,
          0.18719999492168427,
          0.1931000053882599,
          0.20319999754428864,
          0.22139999270439148,
          0.24940000474452972,
          0.26260000467300415,
          0
         ]
        },
        {
         "mode": "lines+markers",
         "name": "HBW Ok asc_driveacc_1veh",
         "type": "scatter",
         "x": [
          40,
          39,
          38,
          37,
          36,
          35,
          34,
          33,
          32,
          31,
          30,
          29,
          28,
          27,
          26,
          25,
          24,
          23,
          22,
          21,
          20,
          19,
          18,
          17,
          16,
          15,
          14,
          13,
          12,
          11,
          10,
          9,
          8,
          7,
          6,
          5,
          4,
          3,
          2,
          1,
          0
         ],
         "y": [
          -1.725000023841858,
          -1.7223999500274658,
          -1.719599962234497,
          -1.716599941253662,
          -1.7132999897003174,
          -1.7098000049591064,
          -1.7059999704360962,
          -1.7020000219345093,
          -1.697700023651123,
          -1.6930999755859375,
          -1.688099980354309,
          -1.682800054550171,
          -1.6770999431610107,
          -1.6710000038146973,
          -1.6643999814987183,
          -1.6572999954223633,
          -1.6497000455856323,
          -1.6416000127792358,
          -1.6327999830245972,
          -1.6233999729156494,
          -1.6132999658584595,
          -1.6023999452590942,
          -1.5907000303268433,
          -1.5780999660491943,
          -1.5643999576568604,
          -1.5496000051498413,
          -1.533400058746338,
          -1.5155999660491943,
          -1.49590003490448,
          -1.4737000465393066,
          -1.4483000040054321,
          -1.4184999465942383,
          -1.3823000192642212,
          -1.3367999792099,
          -1.277400016784668,
          -1.1969000101089478,
          -1.0844999551773071,
          -0.925000011920929,
          -0.6998000144958496,
          -0.39259999990463257,
          0
         ]
        },
        {
         "mode": "lines+markers",
         "name": "HBW Ok asc_driveacc_2veh",
         "type": "scatter",
         "x": [
          40,
          39,
          38,
          37,
          36,
          35,
          34,
          33,
          32,
          31,
          30,
          29,
          28,
          27,
          26,
          25,
          24,
          23,
          22,
          21,
          20,
          19,
          18,
          17,
          16,
          15,
          14,
          13,
          12,
          11,
          10,
          9,
          8,
          7,
          6,
          5,
          4,
          3,
          2,
          1,
          0
         ],
         "y": [
          -0.9721999764442444,
          -0.9693999886512756,
          -0.9664000272750854,
          -0.9631999731063843,
          -0.9598000049591064,
          -0.9562000036239624,
          -0.9523000121116638,
          -0.9480999708175659,
          -0.9435999989509583,
          -0.9388999938964844,
          -0.9337999820709229,
          -0.9283000230789185,
          -0.9223999977111816,
          -0.916100025177002,
          -0.9093999862670898,
          -0.9021999835968018,
          -0.8945000171661377,
          -0.8862000107765198,
          -0.8773000240325928,
          -0.8676999807357788,
          -0.8574000000953674,
          -0.8463000059127808,
          -0.8342000246047974,
          -0.8210999965667725,
          -0.8069000244140625,
          -0.7914000153541565,
          -0.774399995803833,
          -0.7556999921798706,
          -0.7350000143051147,
          -0.7120000123977661,
          -0.6863999962806702,
          -0.6575999855995178,
          -0.6248999834060669,
          -0.5875999927520752,
          -0.5443000197410583,
          -0.4934000074863434,
          -0.43220001459121704,
          -0.3571000099182129,
          -0.2630000114440918,
          -0.14499999582767487,
          0
         ]
        },
        {
         "mode": "lines+markers",
         "name": "HBW Ok asc_wBRT_all",
         "type": "scatter",
         "x": [
          40,
          39,
          38,
          37,
          36,
          35,
          34,
          33,
          32,
          31,
          30,
          29,
          28,
          27,
          26,
          25,
          24,
          23,
          22,
          21,
          20,
          19,
          18,
          17,
          16,
          15,
          14,
          13,
          12,
          11,
          10,
          9,
          8,
          7,
          6,
          5,
          4,
          3,
          2,
          1,
          0
         ],
         "y": [
          -1.1361000537872314,
          -1.1110999584197998,
          -1.0860999822616577,
          -1.0611000061035156,
          -1.0361000299453735,
          -1.0111000537872314,
          -0.9861000180244446,
          -0.9610999822616577,
          -0.9361000061035156,
          -0.9110999703407288,
          -0.8862000107765198,
          -0.861299991607666,
          -0.8363999724388123,
          -0.8116000294685364,
          -0.786899983882904,
          -0.7621999979019165,
          -0.7376000285148621,
          -0.7131999731063843,
          -0.6888999938964844,
          -0.6647999882698059,
          -0.6409000158309937,
          -0.6172999739646912,
          -0.593999981880188,
          -0.570900022983551,
          -0.5482000112533569,
          -0.5257999897003174,
          -0.5037000179290771,
          -0.48190000653266907,
          -0.460099995136261,
          -0.4383000135421753,
          -0.41600000858306885,
          -0.3928000032901764,
          -0.367900013923645,
          -0.3400999903678894,
          -0.3077999949455261,
          -0.26899999380111694,
          -0.22120000422000885,
          -0.16269999742507935,
          -0.09570000320672989,
          -0.033900000154972076,
          0
         ]
        },
        {
         "mode": "lines+markers",
         "name": "HBW Ok asc_wLRT_all",
         "type": "scatter",
         "x": [
          40,
          39,
          38,
          37,
          36,
          35,
          34,
          33,
          32,
          31,
          30,
          29,
          28,
          27,
          26,
          25,
          24,
          23,
          22,
          21,
          20,
          19,
          18,
          17,
          16,
          15,
          14,
          13,
          12,
          11,
          10,
          9,
          8,
          7,
          6,
          5,
          4,
          3,
          2,
          1,
          0
         ],
         "y": [
          0.36730000376701355,
          0.36800000071525574,
          0.3686999976634979,
          0.3695000112056732,
          0.3702999949455261,
          0.37119999527931213,
          0.37209999561309814,
          0.37299999594688416,
          0.37400001287460327,
          0.3750999867916107,
          0.37619999051094055,
          0.3772999942302704,
          0.3785000145435333,
          0.3797000050544739,
          0.38089999556541443,
          0.382099986076355,
          0.3833000063896179,
          0.38449999690055847,
          0.3856000006198883,
          0.38659998774528503,
          0.38749998807907104,
          0.38830000162124634,
          0.3887999951839447,
          0.3889999985694885,
          0.3889000117778778,
          0.38839998841285706,
          0.3873000144958496,
          0.3856000006198883,
          0.3831000030040741,
          0.3797000050544739,
          0.3752000033855438,
          0.3691999912261963,
          0.36149999499320984,
          0.3513999879360199,
          0.33799999952316284,
          0.3197000026702881,
          0.2937000095844269,
          0.2549999952316284,
          0.19529999792575836,
          0.10620000213384628,
          0
         ]
        },
        {
         "mode": "lines+markers",
         "name": "HBW Ok asc_wCRT_all",
         "type": "scatter",
         "x": [
          40,
          39,
          38,
          37,
          36,
          35,
          34,
          33,
          32,
          31,
          30,
          29,
          28,
          27,
          26,
          25,
          24,
          23,
          22,
          21,
          20,
          19,
          18,
          17,
          16,
          15,
          14,
          13,
          12,
          11,
          10,
          9,
          8,
          7,
          6,
          5,
          4,
          3,
          2,
          1,
          0
         ],
         "y": [
          2.3910999298095703,
          2.3801000118255615,
          2.3691999912261963,
          2.3584001064300537,
          2.3477001190185547,
          2.337100028991699,
          2.3266000747680664,
          2.3162999153137207,
          2.3060998916625977,
          2.2959001064300537,
          2.285799980163574,
          2.2757999897003174,
          2.2657999992370605,
          2.25570011138916,
          2.2455999851226807,
          2.2353999614715576,
          2.2249999046325684,
          2.2142999172210693,
          2.203200101852417,
          2.191499948501587,
          2.1791000366210938,
          2.1656999588012695,
          2.1510000228881836,
          2.134700059890747,
          2.1164000034332275,
          2.0954999923706055,
          2.0713000297546387,
          2.043100118637085,
          2.009700059890747,
          1.9699000120162964,
          1.9220000505447388,
          1.8640999794006348,
          1.7934999465942383,
          1.7072999477386475,
          1.6015000343322754,
          1.47160005569458,
          1.3118000030517578,
          1.1154999732971191,
          0.873199999332428,
          0.5604000091552734,
          0
         ]
        },
        {
         "mode": "lines+markers",
         "name": "HBW Ok asc_dBRT_all",
         "type": "scatter",
         "x": [
          40,
          39,
          38,
          37,
          36,
          35,
          34,
          33,
          32,
          31,
          30,
          29,
          28,
          27,
          26,
          25,
          24,
          23,
          22,
          21,
          20,
          19,
          18,
          17,
          16,
          15,
          14,
          13,
          12,
          11,
          10,
          9,
          8,
          7,
          6,
          5,
          4,
          3,
          2,
          1,
          0
         ],
         "y": [
          -2.669100046157837,
          -2.6459999084472656,
          -2.6231000423431396,
          -2.6003000736236572,
          -2.5776000022888184,
          -2.5550999641418457,
          -2.5327000617980957,
          -2.5104000568389893,
          -2.488300085067749,
          -2.466399908065796,
          -2.4446001052856445,
          -2.423099994659424,
          -2.401700019836426,
          -2.3805999755859375,
          -2.3596999645233154,
          -2.3389999866485596,
          -2.31850004196167,
          -2.29830002784729,
          -2.27839994430542,
          -2.258699893951416,
          -2.2393999099731445,
          -2.220400094985962,
          -2.2018001079559326,
          -2.183500051498413,
          -2.1656999588012695,
          -2.1482999324798584,
          -2.131500005722046,
          -2.115299940109253,
          -2.099600076675415,
          -2.0843000411987305,
          -2.0690999031066895,
          -2.052999973297119,
          -2.0339999198913574,
          -2.0085999965667725,
          -1.9701000452041626,
          -1.9067000150680542,
          -1.7984999418258667,
          -1.6129000186920166,
          -1.3006000518798828,
          -0.7940000295639038,
          0
         ]
        },
        {
         "mode": "lines+markers",
         "name": "HBW Ok asc_dLRT_all",
         "type": "scatter",
         "x": [
          40,
          39,
          38,
          37,
          36,
          35,
          34,
          33,
          32,
          31,
          30,
          29,
          28,
          27,
          26,
          25,
          24,
          23,
          22,
          21,
          20,
          19,
          18,
          17,
          16,
          15,
          14,
          13,
          12,
          11,
          10,
          9,
          8,
          7,
          6,
          5,
          4,
          3,
          2,
          1,
          0
         ],
         "y": [
          0.19140000641345978,
          0.18950000405311584,
          0.1875,
          0.18539999425411224,
          0.18310000002384186,
          0.18060000240802765,
          0.17790000140666962,
          0.17499999701976776,
          0.1720000058412552,
          0.16869999468326569,
          0.16519999504089355,
          0.1615000069141388,
          0.1573999971151352,
          0.15299999713897705,
          0.14830000698566437,
          0.14319999516010284,
          0.13770000636577606,
          0.13179999589920044,
          0.12540000677108765,
          0.1185000017285347,
          0.11100000143051147,
          0.10289999842643738,
          0.0940999984741211,
          0.08449999988079071,
          0.07410000264644623,
          0.06279999762773514,
          0.05040000006556511,
          0.03689999878406525,
          0.022199999541044235,
          0.006099999882280827,
          -0.011300000362098217,
          -0.029899999499320984,
          -0.0494999997317791,
          -0.06960000097751617,
          -0.0892999991774559,
          -0.10729999840259552,
          -0.12219999730587006,
          -0.1324000060558319,
          -0.1348000019788742,
          -0.11299999803304672,
          0
         ]
        },
        {
         "mode": "lines+markers",
         "name": "HBW Ok asc_dCRT_all",
         "type": "scatter",
         "x": [
          40,
          39,
          38,
          37,
          36,
          35,
          34,
          33,
          32,
          31,
          30,
          29,
          28,
          27,
          26,
          25,
          24,
          23,
          22,
          21,
          20,
          19,
          18,
          17,
          16,
          15,
          14,
          13,
          12,
          11,
          10,
          9,
          8,
          7,
          6,
          5,
          4,
          3,
          2,
          1,
          0
         ],
         "y": [
          1.9249999523162842,
          1.9105000495910645,
          1.895799994468689,
          1.88100004196167,
          1.8660999536514282,
          1.8509999513626099,
          1.835800051689148,
          1.8203999996185303,
          1.804800033569336,
          1.7890000343322754,
          1.7730000019073486,
          1.756700038909912,
          1.7402000427246094,
          1.7232999801635742,
          1.7060999870300293,
          1.6885000467300415,
          1.6705000400543213,
          1.6520999670028687,
          1.6332000494003296,
          1.613700032234192,
          1.593500018119812,
          1.57260000705719,
          1.5508999824523926,
          1.5282000303268433,
          1.5044000148773193,
          1.4793000221252441,
          1.4527000188827515,
          1.424399971961975,
          1.3940000534057617,
          1.3609999418258667,
          1.3249000310897827,
          1.2848000526428223,
          1.2395999431610107,
          1.1877000331878662,
          1.1267999410629272,
          1.0540000200271606,
          0.965399980545044,
          0.8564000129699707,
          0.7193999886512756,
          0.5224000215530396,
          0
         ]
        },
        {
         "mode": "lines+markers",
         "name": "HBW Ok asc_bike_all",
         "type": "scatter",
         "x": [
          40,
          39,
          38,
          37,
          36,
          35,
          34,
          33,
          32,
          31,
          30,
          29,
          28,
          27,
          26,
          25,
          24,
          23,
          22,
          21,
          20,
          19,
          18,
          17,
          16,
          15,
          14,
          13,
          12,
          11,
          10,
          9,
          8,
          7,
          6,
          5,
          4,
          3,
          2,
          1,
          0
         ],
         "y": [
          -2.69950008392334,
          -2.697700023651123,
          -2.69569993019104,
          -2.69350004196167,
          -2.6910998821258545,
          -2.688499927520752,
          -2.685699939727783,
          -2.6826000213623047,
          -2.6791000366210938,
          -2.675299882888794,
          -2.671099901199341,
          -2.6663999557495117,
          -2.6612000465393066,
          -2.6552999019622803,
          -2.648699998855591,
          -2.641200065612793,
          -2.632699966430664,
          -2.6231000423431396,
          -2.6120998859405518,
          -2.599400043487549,
          -2.5848000049591064,
          -2.5678000450134277,
          -2.5478999614715576,
          -2.524600028991699,
          -2.496999979019165,
          -2.464200019836426,
          -2.425100088119507,
          -2.378200054168701,
          -2.321700096130371,
          -2.2534000873565674,
          -2.1707000732421875,
          -2.0706000328063965,
          -1.9498000144958496,
          -1.804900050163269,
          -1.632599949836731,
          -1.4305000305175781,
          -1.1974999904632568,
          -0.9344000220298767,
          -0.6439999938011169,
          -0.33070001006126404,
          0
         ]
        }
       ],
       "layout": {
        "height": 400,
        "template": {
         "data": {
          "bar": [
           {
            "error_x": {
             "color": "#2a3f5f"
            },
            "error_y": {
             "color": "#2a3f5f"
            },
            "marker": {
             "line": {
              "color": "#E5ECF6",
              "width": 0.5
             },
             "pattern": {
              "fillmode": "overlay",
              "size": 10,
              "solidity": 0.2
             }
            },
            "type": "bar"
           }
          ],
          "barpolar": [
           {
            "marker": {
             "line": {
              "color": "#E5ECF6",
              "width": 0.5
             },
             "pattern": {
              "fillmode": "overlay",
              "size": 10,
              "solidity": 0.2
             }
            },
            "type": "barpolar"
           }
          ],
          "carpet": [
           {
            "aaxis": {
             "endlinecolor": "#2a3f5f",
             "gridcolor": "white",
             "linecolor": "white",
             "minorgridcolor": "white",
             "startlinecolor": "#2a3f5f"
            },
            "baxis": {
             "endlinecolor": "#2a3f5f",
             "gridcolor": "white",
             "linecolor": "white",
             "minorgridcolor": "white",
             "startlinecolor": "#2a3f5f"
            },
            "type": "carpet"
           }
          ],
          "choropleth": [
           {
            "colorbar": {
             "outlinewidth": 0,
             "ticks": ""
            },
            "type": "choropleth"
           }
          ],
          "contour": [
           {
            "colorbar": {
             "outlinewidth": 0,
             "ticks": ""
            },
            "colorscale": [
             [
              0,
              "#0d0887"
             ],
             [
              0.1111111111111111,
              "#46039f"
             ],
             [
              0.2222222222222222,
              "#7201a8"
             ],
             [
              0.3333333333333333,
              "#9c179e"
             ],
             [
              0.4444444444444444,
              "#bd3786"
             ],
             [
              0.5555555555555556,
              "#d8576b"
             ],
             [
              0.6666666666666666,
              "#ed7953"
             ],
             [
              0.7777777777777778,
              "#fb9f3a"
             ],
             [
              0.8888888888888888,
              "#fdca26"
             ],
             [
              1,
              "#f0f921"
             ]
            ],
            "type": "contour"
           }
          ],
          "contourcarpet": [
           {
            "colorbar": {
             "outlinewidth": 0,
             "ticks": ""
            },
            "type": "contourcarpet"
           }
          ],
          "heatmap": [
           {
            "colorbar": {
             "outlinewidth": 0,
             "ticks": ""
            },
            "colorscale": [
             [
              0,
              "#0d0887"
             ],
             [
              0.1111111111111111,
              "#46039f"
             ],
             [
              0.2222222222222222,
              "#7201a8"
             ],
             [
              0.3333333333333333,
              "#9c179e"
             ],
             [
              0.4444444444444444,
              "#bd3786"
             ],
             [
              0.5555555555555556,
              "#d8576b"
             ],
             [
              0.6666666666666666,
              "#ed7953"
             ],
             [
              0.7777777777777778,
              "#fb9f3a"
             ],
             [
              0.8888888888888888,
              "#fdca26"
             ],
             [
              1,
              "#f0f921"
             ]
            ],
            "type": "heatmap"
           }
          ],
          "heatmapgl": [
           {
            "colorbar": {
             "outlinewidth": 0,
             "ticks": ""
            },
            "colorscale": [
             [
              0,
              "#0d0887"
             ],
             [
              0.1111111111111111,
              "#46039f"
             ],
             [
              0.2222222222222222,
              "#7201a8"
             ],
             [
              0.3333333333333333,
              "#9c179e"
             ],
             [
              0.4444444444444444,
              "#bd3786"
             ],
             [
              0.5555555555555556,
              "#d8576b"
             ],
             [
              0.6666666666666666,
              "#ed7953"
             ],
             [
              0.7777777777777778,
              "#fb9f3a"
             ],
             [
              0.8888888888888888,
              "#fdca26"
             ],
             [
              1,
              "#f0f921"
             ]
            ],
            "type": "heatmapgl"
           }
          ],
          "histogram": [
           {
            "marker": {
             "pattern": {
              "fillmode": "overlay",
              "size": 10,
              "solidity": 0.2
             }
            },
            "type": "histogram"
           }
          ],
          "histogram2d": [
           {
            "colorbar": {
             "outlinewidth": 0,
             "ticks": ""
            },
            "colorscale": [
             [
              0,
              "#0d0887"
             ],
             [
              0.1111111111111111,
              "#46039f"
             ],
             [
              0.2222222222222222,
              "#7201a8"
             ],
             [
              0.3333333333333333,
              "#9c179e"
             ],
             [
              0.4444444444444444,
              "#bd3786"
             ],
             [
              0.5555555555555556,
              "#d8576b"
             ],
             [
              0.6666666666666666,
              "#ed7953"
             ],
             [
              0.7777777777777778,
              "#fb9f3a"
             ],
             [
              0.8888888888888888,
              "#fdca26"
             ],
             [
              1,
              "#f0f921"
             ]
            ],
            "type": "histogram2d"
           }
          ],
          "histogram2dcontour": [
           {
            "colorbar": {
             "outlinewidth": 0,
             "ticks": ""
            },
            "colorscale": [
             [
              0,
              "#0d0887"
             ],
             [
              0.1111111111111111,
              "#46039f"
             ],
             [
              0.2222222222222222,
              "#7201a8"
             ],
             [
              0.3333333333333333,
              "#9c179e"
             ],
             [
              0.4444444444444444,
              "#bd3786"
             ],
             [
              0.5555555555555556,
              "#d8576b"
             ],
             [
              0.6666666666666666,
              "#ed7953"
             ],
             [
              0.7777777777777778,
              "#fb9f3a"
             ],
             [
              0.8888888888888888,
              "#fdca26"
             ],
             [
              1,
              "#f0f921"
             ]
            ],
            "type": "histogram2dcontour"
           }
          ],
          "mesh3d": [
           {
            "colorbar": {
             "outlinewidth": 0,
             "ticks": ""
            },
            "type": "mesh3d"
           }
          ],
          "parcoords": [
           {
            "line": {
             "colorbar": {
              "outlinewidth": 0,
              "ticks": ""
             }
            },
            "type": "parcoords"
           }
          ],
          "pie": [
           {
            "automargin": true,
            "type": "pie"
           }
          ],
          "scatter": [
           {
            "fillpattern": {
             "fillmode": "overlay",
             "size": 10,
             "solidity": 0.2
            },
            "type": "scatter"
           }
          ],
          "scatter3d": [
           {
            "line": {
             "colorbar": {
              "outlinewidth": 0,
              "ticks": ""
             }
            },
            "marker": {
             "colorbar": {
              "outlinewidth": 0,
              "ticks": ""
             }
            },
            "type": "scatter3d"
           }
          ],
          "scattercarpet": [
           {
            "marker": {
             "colorbar": {
              "outlinewidth": 0,
              "ticks": ""
             }
            },
            "type": "scattercarpet"
           }
          ],
          "scattergeo": [
           {
            "marker": {
             "colorbar": {
              "outlinewidth": 0,
              "ticks": ""
             }
            },
            "type": "scattergeo"
           }
          ],
          "scattergl": [
           {
            "marker": {
             "colorbar": {
              "outlinewidth": 0,
              "ticks": ""
             }
            },
            "type": "scattergl"
           }
          ],
          "scattermapbox": [
           {
            "marker": {
             "colorbar": {
              "outlinewidth": 0,
              "ticks": ""
             }
            },
            "type": "scattermapbox"
           }
          ],
          "scatterpolar": [
           {
            "marker": {
             "colorbar": {
              "outlinewidth": 0,
              "ticks": ""
             }
            },
            "type": "scatterpolar"
           }
          ],
          "scatterpolargl": [
           {
            "marker": {
             "colorbar": {
              "outlinewidth": 0,
              "ticks": ""
             }
            },
            "type": "scatterpolargl"
           }
          ],
          "scatterternary": [
           {
            "marker": {
             "colorbar": {
              "outlinewidth": 0,
              "ticks": ""
             }
            },
            "type": "scatterternary"
           }
          ],
          "surface": [
           {
            "colorbar": {
             "outlinewidth": 0,
             "ticks": ""
            },
            "colorscale": [
             [
              0,
              "#0d0887"
             ],
             [
              0.1111111111111111,
              "#46039f"
             ],
             [
              0.2222222222222222,
              "#7201a8"
             ],
             [
              0.3333333333333333,
              "#9c179e"
             ],
             [
              0.4444444444444444,
              "#bd3786"
             ],
             [
              0.5555555555555556,
              "#d8576b"
             ],
             [
              0.6666666666666666,
              "#ed7953"
             ],
             [
              0.7777777777777778,
              "#fb9f3a"
             ],
             [
              0.8888888888888888,
              "#fdca26"
             ],
             [
              1,
              "#f0f921"
             ]
            ],
            "type": "surface"
           }
          ],
          "table": [
           {
            "cells": {
             "fill": {
              "color": "#EBF0F8"
             },
             "line": {
              "color": "white"
             }
            },
            "header": {
             "fill": {
              "color": "#C8D4E3"
             },
             "line": {
              "color": "white"
             }
            },
            "type": "table"
           }
          ]
         },
         "layout": {
          "annotationdefaults": {
           "arrowcolor": "#2a3f5f",
           "arrowhead": 0,
           "arrowwidth": 1
          },
          "autotypenumbers": "strict",
          "coloraxis": {
           "colorbar": {
            "outlinewidth": 0,
            "ticks": ""
           }
          },
          "colorscale": {
           "diverging": [
            [
             0,
             "#8e0152"
            ],
            [
             0.1,
             "#c51b7d"
            ],
            [
             0.2,
             "#de77ae"
            ],
            [
             0.3,
             "#f1b6da"
            ],
            [
             0.4,
             "#fde0ef"
            ],
            [
             0.5,
             "#f7f7f7"
            ],
            [
             0.6,
             "#e6f5d0"
            ],
            [
             0.7,
             "#b8e186"
            ],
            [
             0.8,
             "#7fbc41"
            ],
            [
             0.9,
             "#4d9221"
            ],
            [
             1,
             "#276419"
            ]
           ],
           "sequential": [
            [
             0,
             "#0d0887"
            ],
            [
             0.1111111111111111,
             "#46039f"
            ],
            [
             0.2222222222222222,
             "#7201a8"
            ],
            [
             0.3333333333333333,
             "#9c179e"
            ],
            [
             0.4444444444444444,
             "#bd3786"
            ],
            [
             0.5555555555555556,
             "#d8576b"
            ],
            [
             0.6666666666666666,
             "#ed7953"
            ],
            [
             0.7777777777777778,
             "#fb9f3a"
            ],
            [
             0.8888888888888888,
             "#fdca26"
            ],
            [
             1,
             "#f0f921"
            ]
           ],
           "sequentialminus": [
            [
             0,
             "#0d0887"
            ],
            [
             0.1111111111111111,
             "#46039f"
            ],
            [
             0.2222222222222222,
             "#7201a8"
            ],
            [
             0.3333333333333333,
             "#9c179e"
            ],
            [
             0.4444444444444444,
             "#bd3786"
            ],
            [
             0.5555555555555556,
             "#d8576b"
            ],
            [
             0.6666666666666666,
             "#ed7953"
            ],
            [
             0.7777777777777778,
             "#fb9f3a"
            ],
            [
             0.8888888888888888,
             "#fdca26"
            ],
            [
             1,
             "#f0f921"
            ]
           ]
          },
          "colorway": [
           "#636efa",
           "#EF553B",
           "#00cc96",
           "#ab63fa",
           "#FFA15A",
           "#19d3f3",
           "#FF6692",
           "#B6E880",
           "#FF97FF",
           "#FECB52"
          ],
          "font": {
           "color": "#2a3f5f"
          },
          "geo": {
           "bgcolor": "white",
           "lakecolor": "white",
           "landcolor": "#E5ECF6",
           "showlakes": true,
           "showland": true,
           "subunitcolor": "white"
          },
          "hoverlabel": {
           "align": "left"
          },
          "hovermode": "closest",
          "mapbox": {
           "style": "light"
          },
          "paper_bgcolor": "white",
          "plot_bgcolor": "#E5ECF6",
          "polar": {
           "angularaxis": {
            "gridcolor": "white",
            "linecolor": "white",
            "ticks": ""
           },
           "bgcolor": "#E5ECF6",
           "radialaxis": {
            "gridcolor": "white",
            "linecolor": "white",
            "ticks": ""
           }
          },
          "scene": {
           "xaxis": {
            "backgroundcolor": "#E5ECF6",
            "gridcolor": "white",
            "gridwidth": 2,
            "linecolor": "white",
            "showbackground": true,
            "ticks": "",
            "zerolinecolor": "white"
           },
           "yaxis": {
            "backgroundcolor": "#E5ECF6",
            "gridcolor": "white",
            "gridwidth": 2,
            "linecolor": "white",
            "showbackground": true,
            "ticks": "",
            "zerolinecolor": "white"
           },
           "zaxis": {
            "backgroundcolor": "#E5ECF6",
            "gridcolor": "white",
            "gridwidth": 2,
            "linecolor": "white",
            "showbackground": true,
            "ticks": "",
            "zerolinecolor": "white"
           }
          },
          "shapedefaults": {
           "line": {
            "color": "#2a3f5f"
           }
          },
          "ternary": {
           "aaxis": {
            "gridcolor": "white",
            "linecolor": "white",
            "ticks": ""
           },
           "baxis": {
            "gridcolor": "white",
            "linecolor": "white",
            "ticks": ""
           },
           "bgcolor": "#E5ECF6",
           "caxis": {
            "gridcolor": "white",
            "linecolor": "white",
            "ticks": ""
           }
          },
          "title": {
           "x": 0.05
          },
          "xaxis": {
           "automargin": true,
           "gridcolor": "white",
           "linecolor": "white",
           "ticks": "",
           "title": {
            "standoff": 15
           },
           "zerolinecolor": "white",
           "zerolinewidth": 2
          },
          "yaxis": {
           "automargin": true,
           "gridcolor": "white",
           "linecolor": "white",
           "ticks": "",
           "title": {
            "standoff": 15
           },
           "zerolinecolor": "white",
           "zerolinewidth": 2
          }
         }
        },
        "title": {
         "text": "Mode Choice Calibration Constants"
        },
        "width": 800,
        "xaxis": {
         "title": {
          "text": "Iteration"
         }
        },
        "yaxis": {
         "title": {
          "text": "Constant Value"
         }
        }
       }
      },
      "text/html": [
       "<div>                            <div id=\"27dde3da-bc78-4757-a8dd-e2bb15219576\" class=\"plotly-graph-div\" style=\"height:400px; width:800px;\"></div>            <script type=\"text/javascript\">                require([\"plotly\"], function(Plotly) {                    window.PLOTLYENV=window.PLOTLYENV || {};                                    if (document.getElementById(\"27dde3da-bc78-4757-a8dd-e2bb15219576\")) {                    Plotly.newPlot(                        \"27dde3da-bc78-4757-a8dd-e2bb15219576\",                        [{\"mode\":\"lines+markers\",\"name\":\"HBW Ok asc_nonmotor_0veh\",\"x\":[40,39,38,37,36,35,34,33,32,31,30,29,28,27,26,25,24,23,22,21,20,19,18,17,16,15,14,13,12,11,10,9,8,7,6,5,4,3,2,1,0],\"y\":[3.696199893951416,3.6763999462127686,3.655100107192993,3.6322999000549316,3.607800006866455,3.5815000534057617,3.5532000064849854,3.5227999687194824,3.4902000427246094,3.4551000595092773,3.4173998832702637,3.3768999576568604,3.3333001136779785,3.286400079727173,3.2360000610351562,3.18179988861084,3.1233999729156494,3.0606000423431396,2.993000030517578,2.9202001094818115,2.8417999744415283,2.7574000358581543,2.6665000915527344,2.568700075149536,2.463399887084961,2.350100040435791,2.228300094604492,2.097399950027466,1.9567999839782715,1.8061000108718872,1.6449999809265137,1.4732999801635742,1.2913000583648682,1.1002000570297241,0.9023000001907349,0.7019000053405762,0.5062999725341797,0.326200008392334,0.17499999701976776,0.06530000269412994,0.0],\"type\":\"scatter\"},{\"mode\":\"lines+markers\",\"name\":\"HBW Ok asc_nonmotor_1veh\",\"x\":[40,39,38,37,36,35,34,33,32,31,30,29,28,27,26,25,24,23,22,21,20,19,18,17,16,15,14,13,12,11,10,9,8,7,6,5,4,3,2,1,0],\"y\":[0.8729000091552734,0.8711000084877014,0.8690999746322632,0.8669000267982483,0.8644000291824341,0.8615999817848206,0.8583999872207642,0.8547999858856201,0.8507999777793884,0.8461999893188477,0.8410000205039978,0.835099995136261,0.8282999992370605,0.8205999732017517,0.8118000030517578,0.8016999959945679,0.7900000214576721,0.7764999866485596,0.7609999775886536,0.7429999709129333,0.7221999764442444,0.6980999708175659,0.6703000068664551,0.6381000280380249,0.6008999943733215,0.5580999851226807,0.5088000297546387,0.45239999890327454,0.3882000148296356,0.3158000111579895,0.23499999940395355,0.14650000631809235,0.051899999380111694,-0.045499999076128006,-0.1396999955177307,-0.22169999778270721,-0.2786000072956085,-0.2946999967098236,-0.2547999918460846,-0.15230000019073486,0.0],\"type\":\"scatter\"},{\"mode\":\"lines+markers\",\"name\":\"HBW Ok asc_nonmotor_2veh\",\"x\":[40,39,38,37,36,35,34,33,32,31,30,29,28,27,26,25,24,23,22,21,20,19,18,17,16,15,14,13,12,11,10,9,8,7,6,5,4,3,2,1,0],\"y\":[-0.43689998984336853,-0.43790000677108765,-0.4390000104904175,-0.44020000100135803,-0.4415000081062317,-0.4429999887943268,-0.444599986076355,-0.446399986743927,-0.44850000739097595,-0.45089998841285706,-0.4535999894142151,-0.45669999718666077,-0.4602999985218048,-0.4643999934196472,-0.4691999852657318,-0.474700003862381,-0.4810999929904938,-0.4885999858379364,-0.4973999857902527,-0.5077999830245972,-0.5200999975204468,-0.534600019454956,-0.5516999959945679,-0.5720000267028809,-0.5960000157356262,-0.6241999864578247,-0.6572999954223633,-0.6959999799728394,-0.7407000064849854,-0.791700005531311,-0.8486999869346619,-0.9104999899864197,-0.9742000102996826,-1.0343999862670898,-1.0817999839782715,-1.1017999649047852,-1.073199987411499,-0.9685999751091003,-0.7595000267028809,-0.43059998750686646,0.0],\"type\":\"scatter\"},{\"mode\":\"lines+markers\",\"name\":\"HBW Ok asc_transit_0veh\",\"x\":[40,39,38,37,36,35,34,33,32,31,30,29,28,27,26,25,24,23,22,21,20,19,18,17,16,15,14,13,12,11,10,9,8,7,6,5,4,3,2,1,0],\"y\":[3.901599884033203,3.8940000534057617,3.8859000205993652,3.87719988822937,3.867799997329712,3.8577001094818115,3.8468000888824463,3.835099935531616,3.8224000930786133,3.8087000846862793,3.7939000129699707,3.777899980545044,3.7606000900268555,3.7418999671936035,3.72160005569458,3.69950008392334,3.67549991607666,3.649399995803833,3.6208999156951904,3.5897998809814453,3.5557000637054443,3.5183000564575195,3.4772000312805176,3.431999921798706,3.3821001052856445,3.3268001079559326,3.265399932861328,3.197000026702881,3.1203999519348145,3.0343000888824463,2.937000036239624,2.8264000415802,2.6998000144958496,2.553800106048584,2.3838000297546387,2.183500051498413,1.94350004196167,1.648800015449524,1.2719000577926636,0.7581999897956848,0.0],\"type\":\"scatter\"},{\"mode\":\"lines+markers\",\"name\":\"HBW Ok asc_transit_1veh\",\"x\":[40,39,38,37,36,35,34,33,32,31,30,29,28,27,26,25,24,23,22,21,20,19,18,17,16,15,14,13,12,11,10,9,8,7,6,5,4,3,2,1,0],\"y\":[0.010099999606609344,0.009399999864399433,0.00860000029206276,0.007799999788403511,0.007000000216066837,0.006200000178068876,0.005400000140070915,0.004600000102072954,0.003700000001117587,0.00279999990016222,0.0019000000320374966,0.0010999999940395355,0.0003000000142492354,-0.00039999998989515007,-0.0010000000474974513,-0.00139999995008111,-0.0017000000225380063,-0.0017000000225380063,-0.00139999995008111,-0.0007999999797903001,0.0003000000142492354,0.0019000000320374966,0.004100000020116568,0.007000000216066837,0.010700000450015068,0.015399999916553497,0.0210999995470047,0.027899999171495438,0.03590000048279762,0.045099999755620956,0.05559999868273735,0.06719999760389328,0.07980000227689743,0.09309999644756317,0.10649999976158142,0.11919999867677689,0.12960000336170197,0.13449999690055847,0.12729999423027039,0.09290000051259995,0.0],\"type\":\"scatter\"},{\"mode\":\"lines+markers\",\"name\":\"HBW Ok asc_transit_2veh\",\"x\":[40,39,38,37,36,35,34,33,32,31,30,29,28,27,26,25,24,23,22,21,20,19,18,17,16,15,14,13,12,11,10,9,8,7,6,5,4,3,2,1,0],\"y\":[-1.0436999797821045,-1.044700026512146,-1.045699954032898,-1.0467000007629395,-1.0477999448776245,-1.0490000247955322,-1.0501999855041504,-1.0514999628067017,-1.0528000593185425,-1.0541000366210938,-1.0555000305175781,-1.0568000078201294,-1.0580999851226807,-1.059399962425232,-1.0606000423431396,-1.0616999864578247,-1.0628000497817993,-1.0636999607086182,-1.0643999576568604,-1.0649000406265259,-1.065000057220459,-1.0648000240325928,-1.0640000104904175,-1.0627000331878662,-1.0606000423431396,-1.0576000213623047,-1.0535000562667847,-1.0479999780654907,-1.0405999422073364,-1.0306999683380127,-1.0175000429153442,-0.9997000098228455,-0.9753000140190125,-0.9415000081062317,-0.8938999772071838,-0.8263000249862671,-0.7300000190734863,-0.5946000218391418,-0.4124999940395355,-0.1949000060558319,0.0],\"type\":\"scatter\"},{\"mode\":\"lines+markers\",\"name\":\"HBW Ok asc_shared_1veh\",\"x\":[40,39,38,37,36,35,34,33,32,31,30,29,28,27,26,25,24,23,22,21,20,19,18,17,16,15,14,13,12,11,10,9,8,7,6,5,4,3,2,1,0],\"y\":[-1.1642999649047852,-1.1642999649047852,-1.1642999649047852,-1.1642999649047852,-1.1642999649047852,-1.1642999649047852,-1.1642999649047852,-1.1642999649047852,-1.164199948310852,-1.164199948310852,-1.164199948310852,-1.164199948310852,-1.164199948310852,-1.1641000509262085,-1.1641000509262085,-1.1641000509262085,-1.1640000343322754,-1.1640000343322754,-1.1639000177383423,-1.1638000011444092,-1.163699984550476,-1.163599967956543,-1.1634999513626099,-1.1634000539779663,-1.1632000207901,-1.1628999710083008,-1.162500023841858,-1.1619000434875488,-1.1608999967575073,-1.1593999862670898,-1.1568000316619873,-1.152400016784668,-1.1447999477386475,-1.131600022315979,-1.1088000535964966,-1.069200038909912,-1.001099944114685,-0.885699987411499,-0.6963000297546387,-0.40459999442100525,0.0],\"type\":\"scatter\"},{\"mode\":\"lines+markers\",\"name\":\"HBW Ok asc_shared_2veh\",\"x\":[40,39,38,37,36,35,34,33,32,31,30,29,28,27,26,25,24,23,22,21,20,19,18,17,16,15,14,13,12,11,10,9,8,7,6,5,4,3,2,1,0],\"y\":[-1.4860999584197998,-1.4860999584197998,-1.4860999584197998,-1.4860999584197998,-1.4860999584197998,-1.4860999584197998,-1.4860999584197998,-1.4860999584197998,-1.4860999584197998,-1.4860999584197998,-1.4860999584197998,-1.4860999584197998,-1.4860999584197998,-1.4860999584197998,-1.4860999584197998,-1.4860999584197998,-1.4860999584197998,-1.4860999584197998,-1.4860999584197998,-1.4860999584197998,-1.4859999418258667,-1.4859999418258667,-1.4859999418258667,-1.4859000444412231,-1.48580002784729,-1.485700011253357,-1.4854999780654907,-1.485200047492981,-1.4845999479293823,-1.4835000038146973,-1.481600046157837,-1.4780000448226929,-1.4714000225067139,-1.4592000246047974,-1.4365999698638916,-1.3948999643325806,-1.3181999921798706,-1.1792999505996704,-0.9368000030517578,-0.5460000038146973,0.0],\"type\":\"scatter\"},{\"mode\":\"lines+markers\",\"name\":\"HBW Ok asc_sr3_all\",\"x\":[40,39,38,37,36,35,34,33,32,31,30,29,28,27,26,25,24,23,22,21,20,19,18,17,16,15,14,13,12,11,10,9,8,7,6,5,4,3,2,1,0],\"y\":[-0.2840999960899353,-0.2840999960899353,-0.2840999960899353,-0.2840999960899353,-0.2840999960899353,-0.2840999960899353,-0.2840999960899353,-0.2840999960899353,-0.2840999960899353,-0.2840999960899353,-0.2840999960899353,-0.2840999960899353,-0.2840999960899353,-0.2840999960899353,-0.2840999960899353,-0.2840999960899353,-0.2840999960899353,-0.2840999960899353,-0.2840999960899353,-0.2840999960899353,-0.2840999960899353,-0.2840999960899353,-0.2840999960899353,-0.2840999960899353,-0.2840999960899353,-0.2840999960899353,-0.2840999960899353,-0.2840999960899353,-0.2840999960899353,-0.2840999960899353,-0.2840999960899353,-0.2840000092983246,-0.28380000591278076,-0.2833000123500824,-0.28209999203681946,-0.2793000042438507,-0.2727000117301941,-0.25699999928474426,-0.22130000591278076,-0.14480000734329224,0.0],\"type\":\"scatter\"},{\"mode\":\"lines+markers\",\"name\":\"HBW Ok asc_hov_all\",\"x\":[40,39,38,37,36,35,34,33,32,31,30,29,28,27,26,25,24,23,22,21,20,19,18,17,16,15,14,13,12,11,10,9,8,7,6,5,4,3,2,1,0],\"y\":[0.11249999701976776,0.11249999701976776,0.11249999701976776,0.11249999701976776,0.11249999701976776,0.11249999701976776,0.11249999701976776,0.11249999701976776,0.11249999701976776,0.11249999701976776,0.11249999701976776,0.11249999701976776,0.11249999701976776,0.11249999701976776,0.11249999701976776,0.11249999701976776,0.11249999701976776,0.11249999701976776,0.11249999701976776,0.11249999701976776,0.11249999701976776,0.11249999701976776,0.11249999701976776,0.11249999701976776,0.11249999701976776,0.11249999701976776,0.11249999701976776,0.11249999701976776,0.11249999701976776,0.11249999701976776,0.11249999701976776,0.11249999701976776,0.11249999701976776,0.11249999701976776,0.11249999701976776,0.11249999701976776,0.11249999701976776,0.11249999701976776,0.11249999701976776,0.11249999701976776,0.11249999701976776],\"type\":\"scatter\"},{\"mode\":\"lines+markers\",\"name\":\"HBW Ok asc_toll_all\",\"x\":[40,39,38,37,36,35,34,33,32,31,30,29,28,27,26,25,24,23,22,21,20,19,18,17,16,15,14,13,12,11,10,9,8,7,6,5,4,3,2,1,0],\"y\":[-0.44999998807907104,-0.44999998807907104,-0.44999998807907104,-0.44999998807907104,-0.44999998807907104,-0.44999998807907104,-0.44999998807907104,-0.44999998807907104,-0.44999998807907104,-0.44999998807907104,-0.44999998807907104,-0.44999998807907104,-0.44999998807907104,-0.44999998807907104,-0.44999998807907104,-0.44999998807907104,-0.44999998807907104,-0.44999998807907104,-0.44999998807907104,-0.44999998807907104,-0.44999998807907104,-0.44999998807907104,-0.44999998807907104,-0.44999998807907104,-0.44999998807907104,-0.44999998807907104,-0.44999998807907104,-0.44999998807907104,-0.44999998807907104,-0.44999998807907104,-0.44999998807907104,-0.44999998807907104,-0.44999998807907104,-0.44999998807907104,-0.44999998807907104,-0.44999998807907104,-0.44999998807907104,-0.44999998807907104,-0.44999998807907104,-0.44999998807907104,-0.44999998807907104],\"type\":\"scatter\"},{\"mode\":\"lines+markers\",\"name\":\"HBW Ok asc_BRT_all\",\"x\":[40,39,38,37,36,35,34,33,32,31,30,29,28,27,26,25,24,23,22,21,20,19,18,17,16,15,14,13,12,11,10,9,8,7,6,5,4,3,2,1,0],\"y\":[1.5132999420166016,1.4886000156402588,1.4638999700546265,1.4392000436782837,1.4144999980926514,1.3897000551223755,1.36489999294281,1.3401000499725342,1.3151999711990356,1.2903000116348267,1.2653000354766846,1.2402000427246094,1.215000033378601,1.1897000074386597,1.164199948310852,1.1385999917984009,1.1126999855041504,1.0865000486373901,1.059999942779541,1.0332000255584717,1.0059000253677368,0.9781000018119812,0.9496999979019165,0.9205999970436096,0.8906000256538391,0.8597000241279602,0.8277000188827515,0.7944999933242798,0.7601000070571899,0.7242000102996826,0.6868000030517578,0.6478999853134155,0.6072999835014343,0.5648999810218811,0.5202000141143799,0.4724000096321106,0.41909998655319214,0.3549000024795532,0.26820001006126404,0.1421000063419342,0.0],\"type\":\"scatter\"},{\"mode\":\"lines+markers\",\"name\":\"HBW Ok asc_LRT_all\",\"x\":[40,39,38,37,36,35,34,33,32,31,30,29,28,27,26,25,24,23,22,21,20,19,18,17,16,15,14,13,12,11,10,9,8,7,6,5,4,3,2,1,0],\"y\":[0.16279999911785126,0.16290000081062317,0.16300000250339508,0.163100004196167,0.1632000058889389,0.16329999268054962,0.16339999437332153,0.16349999606609344,0.16359999775886536,0.16359999775886536,0.16359999775886536,0.16359999775886536,0.16349999606609344,0.16339999437332153,0.1632000058889389,0.16290000081062317,0.16249999403953552,0.16200000047683716,0.16130000352859497,0.16050000488758087,0.15940000116825104,0.15809999406337738,0.15639999508857727,0.1543000042438507,0.1517000049352646,0.1485999971628189,0.14480000734329224,0.14020000398159027,0.1347000002861023,0.12809999287128448,0.12030000239610672,0.11110000312328339,0.10019999742507935,0.08730000257492065,0.07209999859333038,0.05389999970793724,0.03189999982714653,0.004900000058114529,-0.027000000700354576,-0.050599999725818634,0.0],\"type\":\"scatter\"},{\"mode\":\"lines+markers\",\"name\":\"HBW Ok asc_CRT_all\",\"x\":[40,39,38,37,36,35,34,33,32,31,30,29,28,27,26,25,24,23,22,21,20,19,18,17,16,15,14,13,12,11,10,9,8,7,6,5,4,3,2,1,0],\"y\":[-0.16899999976158142,-0.15610000491142273,-0.14319999516010284,-0.13040000200271606,-0.11760000139474869,-0.10480000078678131,-0.09200000017881393,-0.07930000126361847,-0.066600002348423,-0.05400000140070915,-0.0414000004529953,-0.02889999933540821,-0.01640000008046627,-0.004000000189989805,0.008299999870359898,0.020500000566244125,0.032600000500679016,0.044599998742341995,0.05640000104904175,0.06800000369548798,0.07940000295639038,0.09049999713897705,0.10140000283718109,0.11190000176429749,0.12200000137090683,0.1316000074148178,0.14069999754428864,0.14910000562667847,0.15680000185966492,0.16369999945163727,0.1696999967098236,0.17479999363422394,0.17910000681877136,0.18299999833106995,0.18719999492168427,0.1931000053882599,0.20319999754428864,0.22139999270439148,0.24940000474452972,0.26260000467300415,0.0],\"type\":\"scatter\"},{\"mode\":\"lines+markers\",\"name\":\"HBW Ok asc_driveacc_1veh\",\"x\":[40,39,38,37,36,35,34,33,32,31,30,29,28,27,26,25,24,23,22,21,20,19,18,17,16,15,14,13,12,11,10,9,8,7,6,5,4,3,2,1,0],\"y\":[-1.725000023841858,-1.7223999500274658,-1.719599962234497,-1.716599941253662,-1.7132999897003174,-1.7098000049591064,-1.7059999704360962,-1.7020000219345093,-1.697700023651123,-1.6930999755859375,-1.688099980354309,-1.682800054550171,-1.6770999431610107,-1.6710000038146973,-1.6643999814987183,-1.6572999954223633,-1.6497000455856323,-1.6416000127792358,-1.6327999830245972,-1.6233999729156494,-1.6132999658584595,-1.6023999452590942,-1.5907000303268433,-1.5780999660491943,-1.5643999576568604,-1.5496000051498413,-1.533400058746338,-1.5155999660491943,-1.49590003490448,-1.4737000465393066,-1.4483000040054321,-1.4184999465942383,-1.3823000192642212,-1.3367999792099,-1.277400016784668,-1.1969000101089478,-1.0844999551773071,-0.925000011920929,-0.6998000144958496,-0.39259999990463257,0.0],\"type\":\"scatter\"},{\"mode\":\"lines+markers\",\"name\":\"HBW Ok asc_driveacc_2veh\",\"x\":[40,39,38,37,36,35,34,33,32,31,30,29,28,27,26,25,24,23,22,21,20,19,18,17,16,15,14,13,12,11,10,9,8,7,6,5,4,3,2,1,0],\"y\":[-0.9721999764442444,-0.9693999886512756,-0.9664000272750854,-0.9631999731063843,-0.9598000049591064,-0.9562000036239624,-0.9523000121116638,-0.9480999708175659,-0.9435999989509583,-0.9388999938964844,-0.9337999820709229,-0.9283000230789185,-0.9223999977111816,-0.916100025177002,-0.9093999862670898,-0.9021999835968018,-0.8945000171661377,-0.8862000107765198,-0.8773000240325928,-0.8676999807357788,-0.8574000000953674,-0.8463000059127808,-0.8342000246047974,-0.8210999965667725,-0.8069000244140625,-0.7914000153541565,-0.774399995803833,-0.7556999921798706,-0.7350000143051147,-0.7120000123977661,-0.6863999962806702,-0.6575999855995178,-0.6248999834060669,-0.5875999927520752,-0.5443000197410583,-0.4934000074863434,-0.43220001459121704,-0.3571000099182129,-0.2630000114440918,-0.14499999582767487,0.0],\"type\":\"scatter\"},{\"mode\":\"lines+markers\",\"name\":\"HBW Ok asc_wBRT_all\",\"x\":[40,39,38,37,36,35,34,33,32,31,30,29,28,27,26,25,24,23,22,21,20,19,18,17,16,15,14,13,12,11,10,9,8,7,6,5,4,3,2,1,0],\"y\":[-1.1361000537872314,-1.1110999584197998,-1.0860999822616577,-1.0611000061035156,-1.0361000299453735,-1.0111000537872314,-0.9861000180244446,-0.9610999822616577,-0.9361000061035156,-0.9110999703407288,-0.8862000107765198,-0.861299991607666,-0.8363999724388123,-0.8116000294685364,-0.786899983882904,-0.7621999979019165,-0.7376000285148621,-0.7131999731063843,-0.6888999938964844,-0.6647999882698059,-0.6409000158309937,-0.6172999739646912,-0.593999981880188,-0.570900022983551,-0.5482000112533569,-0.5257999897003174,-0.5037000179290771,-0.48190000653266907,-0.460099995136261,-0.4383000135421753,-0.41600000858306885,-0.3928000032901764,-0.367900013923645,-0.3400999903678894,-0.3077999949455261,-0.26899999380111694,-0.22120000422000885,-0.16269999742507935,-0.09570000320672989,-0.033900000154972076,0.0],\"type\":\"scatter\"},{\"mode\":\"lines+markers\",\"name\":\"HBW Ok asc_wLRT_all\",\"x\":[40,39,38,37,36,35,34,33,32,31,30,29,28,27,26,25,24,23,22,21,20,19,18,17,16,15,14,13,12,11,10,9,8,7,6,5,4,3,2,1,0],\"y\":[0.36730000376701355,0.36800000071525574,0.3686999976634979,0.3695000112056732,0.3702999949455261,0.37119999527931213,0.37209999561309814,0.37299999594688416,0.37400001287460327,0.3750999867916107,0.37619999051094055,0.3772999942302704,0.3785000145435333,0.3797000050544739,0.38089999556541443,0.382099986076355,0.3833000063896179,0.38449999690055847,0.3856000006198883,0.38659998774528503,0.38749998807907104,0.38830000162124634,0.3887999951839447,0.3889999985694885,0.3889000117778778,0.38839998841285706,0.3873000144958496,0.3856000006198883,0.3831000030040741,0.3797000050544739,0.3752000033855438,0.3691999912261963,0.36149999499320984,0.3513999879360199,0.33799999952316284,0.3197000026702881,0.2937000095844269,0.2549999952316284,0.19529999792575836,0.10620000213384628,0.0],\"type\":\"scatter\"},{\"mode\":\"lines+markers\",\"name\":\"HBW Ok asc_wCRT_all\",\"x\":[40,39,38,37,36,35,34,33,32,31,30,29,28,27,26,25,24,23,22,21,20,19,18,17,16,15,14,13,12,11,10,9,8,7,6,5,4,3,2,1,0],\"y\":[2.3910999298095703,2.3801000118255615,2.3691999912261963,2.3584001064300537,2.3477001190185547,2.337100028991699,2.3266000747680664,2.3162999153137207,2.3060998916625977,2.2959001064300537,2.285799980163574,2.2757999897003174,2.2657999992370605,2.25570011138916,2.2455999851226807,2.2353999614715576,2.2249999046325684,2.2142999172210693,2.203200101852417,2.191499948501587,2.1791000366210938,2.1656999588012695,2.1510000228881836,2.134700059890747,2.1164000034332275,2.0954999923706055,2.0713000297546387,2.043100118637085,2.009700059890747,1.9699000120162964,1.9220000505447388,1.8640999794006348,1.7934999465942383,1.7072999477386475,1.6015000343322754,1.47160005569458,1.3118000030517578,1.1154999732971191,0.873199999332428,0.5604000091552734,0.0],\"type\":\"scatter\"},{\"mode\":\"lines+markers\",\"name\":\"HBW Ok asc_dBRT_all\",\"x\":[40,39,38,37,36,35,34,33,32,31,30,29,28,27,26,25,24,23,22,21,20,19,18,17,16,15,14,13,12,11,10,9,8,7,6,5,4,3,2,1,0],\"y\":[-2.669100046157837,-2.6459999084472656,-2.6231000423431396,-2.6003000736236572,-2.5776000022888184,-2.5550999641418457,-2.5327000617980957,-2.5104000568389893,-2.488300085067749,-2.466399908065796,-2.4446001052856445,-2.423099994659424,-2.401700019836426,-2.3805999755859375,-2.3596999645233154,-2.3389999866485596,-2.31850004196167,-2.29830002784729,-2.27839994430542,-2.258699893951416,-2.2393999099731445,-2.220400094985962,-2.2018001079559326,-2.183500051498413,-2.1656999588012695,-2.1482999324798584,-2.131500005722046,-2.115299940109253,-2.099600076675415,-2.0843000411987305,-2.0690999031066895,-2.052999973297119,-2.0339999198913574,-2.0085999965667725,-1.9701000452041626,-1.9067000150680542,-1.7984999418258667,-1.6129000186920166,-1.3006000518798828,-0.7940000295639038,0.0],\"type\":\"scatter\"},{\"mode\":\"lines+markers\",\"name\":\"HBW Ok asc_dLRT_all\",\"x\":[40,39,38,37,36,35,34,33,32,31,30,29,28,27,26,25,24,23,22,21,20,19,18,17,16,15,14,13,12,11,10,9,8,7,6,5,4,3,2,1,0],\"y\":[0.19140000641345978,0.18950000405311584,0.1875,0.18539999425411224,0.18310000002384186,0.18060000240802765,0.17790000140666962,0.17499999701976776,0.1720000058412552,0.16869999468326569,0.16519999504089355,0.1615000069141388,0.1573999971151352,0.15299999713897705,0.14830000698566437,0.14319999516010284,0.13770000636577606,0.13179999589920044,0.12540000677108765,0.1185000017285347,0.11100000143051147,0.10289999842643738,0.0940999984741211,0.08449999988079071,0.07410000264644623,0.06279999762773514,0.05040000006556511,0.03689999878406525,0.022199999541044235,0.006099999882280827,-0.011300000362098217,-0.029899999499320984,-0.0494999997317791,-0.06960000097751617,-0.0892999991774559,-0.10729999840259552,-0.12219999730587006,-0.1324000060558319,-0.1348000019788742,-0.11299999803304672,0.0],\"type\":\"scatter\"},{\"mode\":\"lines+markers\",\"name\":\"HBW Ok asc_dCRT_all\",\"x\":[40,39,38,37,36,35,34,33,32,31,30,29,28,27,26,25,24,23,22,21,20,19,18,17,16,15,14,13,12,11,10,9,8,7,6,5,4,3,2,1,0],\"y\":[1.9249999523162842,1.9105000495910645,1.895799994468689,1.88100004196167,1.8660999536514282,1.8509999513626099,1.835800051689148,1.8203999996185303,1.804800033569336,1.7890000343322754,1.7730000019073486,1.756700038909912,1.7402000427246094,1.7232999801635742,1.7060999870300293,1.6885000467300415,1.6705000400543213,1.6520999670028687,1.6332000494003296,1.613700032234192,1.593500018119812,1.57260000705719,1.5508999824523926,1.5282000303268433,1.5044000148773193,1.4793000221252441,1.4527000188827515,1.424399971961975,1.3940000534057617,1.3609999418258667,1.3249000310897827,1.2848000526428223,1.2395999431610107,1.1877000331878662,1.1267999410629272,1.0540000200271606,0.965399980545044,0.8564000129699707,0.7193999886512756,0.5224000215530396,0.0],\"type\":\"scatter\"},{\"mode\":\"lines+markers\",\"name\":\"HBW Ok asc_bike_all\",\"x\":[40,39,38,37,36,35,34,33,32,31,30,29,28,27,26,25,24,23,22,21,20,19,18,17,16,15,14,13,12,11,10,9,8,7,6,5,4,3,2,1,0],\"y\":[-2.69950008392334,-2.697700023651123,-2.69569993019104,-2.69350004196167,-2.6910998821258545,-2.688499927520752,-2.685699939727783,-2.6826000213623047,-2.6791000366210938,-2.675299882888794,-2.671099901199341,-2.6663999557495117,-2.6612000465393066,-2.6552999019622803,-2.648699998855591,-2.641200065612793,-2.632699966430664,-2.6231000423431396,-2.6120998859405518,-2.599400043487549,-2.5848000049591064,-2.5678000450134277,-2.5478999614715576,-2.524600028991699,-2.496999979019165,-2.464200019836426,-2.425100088119507,-2.378200054168701,-2.321700096130371,-2.2534000873565674,-2.1707000732421875,-2.0706000328063965,-1.9498000144958496,-1.804900050163269,-1.632599949836731,-1.4305000305175781,-1.1974999904632568,-0.9344000220298767,-0.6439999938011169,-0.33070001006126404,0.0],\"type\":\"scatter\"}],                        {\"height\":400,\"template\":{\"data\":{\"barpolar\":[{\"marker\":{\"line\":{\"color\":\"#E5ECF6\",\"width\":0.5},\"pattern\":{\"fillmode\":\"overlay\",\"size\":10,\"solidity\":0.2}},\"type\":\"barpolar\"}],\"bar\":[{\"error_x\":{\"color\":\"#2a3f5f\"},\"error_y\":{\"color\":\"#2a3f5f\"},\"marker\":{\"line\":{\"color\":\"#E5ECF6\",\"width\":0.5},\"pattern\":{\"fillmode\":\"overlay\",\"size\":10,\"solidity\":0.2}},\"type\":\"bar\"}],\"carpet\":[{\"aaxis\":{\"endlinecolor\":\"#2a3f5f\",\"gridcolor\":\"white\",\"linecolor\":\"white\",\"minorgridcolor\":\"white\",\"startlinecolor\":\"#2a3f5f\"},\"baxis\":{\"endlinecolor\":\"#2a3f5f\",\"gridcolor\":\"white\",\"linecolor\":\"white\",\"minorgridcolor\":\"white\",\"startlinecolor\":\"#2a3f5f\"},\"type\":\"carpet\"}],\"choropleth\":[{\"colorbar\":{\"outlinewidth\":0,\"ticks\":\"\"},\"type\":\"choropleth\"}],\"contourcarpet\":[{\"colorbar\":{\"outlinewidth\":0,\"ticks\":\"\"},\"type\":\"contourcarpet\"}],\"contour\":[{\"colorbar\":{\"outlinewidth\":0,\"ticks\":\"\"},\"colorscale\":[[0.0,\"#0d0887\"],[0.1111111111111111,\"#46039f\"],[0.2222222222222222,\"#7201a8\"],[0.3333333333333333,\"#9c179e\"],[0.4444444444444444,\"#bd3786\"],[0.5555555555555556,\"#d8576b\"],[0.6666666666666666,\"#ed7953\"],[0.7777777777777778,\"#fb9f3a\"],[0.8888888888888888,\"#fdca26\"],[1.0,\"#f0f921\"]],\"type\":\"contour\"}],\"heatmapgl\":[{\"colorbar\":{\"outlinewidth\":0,\"ticks\":\"\"},\"colorscale\":[[0.0,\"#0d0887\"],[0.1111111111111111,\"#46039f\"],[0.2222222222222222,\"#7201a8\"],[0.3333333333333333,\"#9c179e\"],[0.4444444444444444,\"#bd3786\"],[0.5555555555555556,\"#d8576b\"],[0.6666666666666666,\"#ed7953\"],[0.7777777777777778,\"#fb9f3a\"],[0.8888888888888888,\"#fdca26\"],[1.0,\"#f0f921\"]],\"type\":\"heatmapgl\"}],\"heatmap\":[{\"colorbar\":{\"outlinewidth\":0,\"ticks\":\"\"},\"colorscale\":[[0.0,\"#0d0887\"],[0.1111111111111111,\"#46039f\"],[0.2222222222222222,\"#7201a8\"],[0.3333333333333333,\"#9c179e\"],[0.4444444444444444,\"#bd3786\"],[0.5555555555555556,\"#d8576b\"],[0.6666666666666666,\"#ed7953\"],[0.7777777777777778,\"#fb9f3a\"],[0.8888888888888888,\"#fdca26\"],[1.0,\"#f0f921\"]],\"type\":\"heatmap\"}],\"histogram2dcontour\":[{\"colorbar\":{\"outlinewidth\":0,\"ticks\":\"\"},\"colorscale\":[[0.0,\"#0d0887\"],[0.1111111111111111,\"#46039f\"],[0.2222222222222222,\"#7201a8\"],[0.3333333333333333,\"#9c179e\"],[0.4444444444444444,\"#bd3786\"],[0.5555555555555556,\"#d8576b\"],[0.6666666666666666,\"#ed7953\"],[0.7777777777777778,\"#fb9f3a\"],[0.8888888888888888,\"#fdca26\"],[1.0,\"#f0f921\"]],\"type\":\"histogram2dcontour\"}],\"histogram2d\":[{\"colorbar\":{\"outlinewidth\":0,\"ticks\":\"\"},\"colorscale\":[[0.0,\"#0d0887\"],[0.1111111111111111,\"#46039f\"],[0.2222222222222222,\"#7201a8\"],[0.3333333333333333,\"#9c179e\"],[0.4444444444444444,\"#bd3786\"],[0.5555555555555556,\"#d8576b\"],[0.6666666666666666,\"#ed7953\"],[0.7777777777777778,\"#fb9f3a\"],[0.8888888888888888,\"#fdca26\"],[1.0,\"#f0f921\"]],\"type\":\"histogram2d\"}],\"histogram\":[{\"marker\":{\"pattern\":{\"fillmode\":\"overlay\",\"size\":10,\"solidity\":0.2}},\"type\":\"histogram\"}],\"mesh3d\":[{\"colorbar\":{\"outlinewidth\":0,\"ticks\":\"\"},\"type\":\"mesh3d\"}],\"parcoords\":[{\"line\":{\"colorbar\":{\"outlinewidth\":0,\"ticks\":\"\"}},\"type\":\"parcoords\"}],\"pie\":[{\"automargin\":true,\"type\":\"pie\"}],\"scatter3d\":[{\"line\":{\"colorbar\":{\"outlinewidth\":0,\"ticks\":\"\"}},\"marker\":{\"colorbar\":{\"outlinewidth\":0,\"ticks\":\"\"}},\"type\":\"scatter3d\"}],\"scattercarpet\":[{\"marker\":{\"colorbar\":{\"outlinewidth\":0,\"ticks\":\"\"}},\"type\":\"scattercarpet\"}],\"scattergeo\":[{\"marker\":{\"colorbar\":{\"outlinewidth\":0,\"ticks\":\"\"}},\"type\":\"scattergeo\"}],\"scattergl\":[{\"marker\":{\"colorbar\":{\"outlinewidth\":0,\"ticks\":\"\"}},\"type\":\"scattergl\"}],\"scattermapbox\":[{\"marker\":{\"colorbar\":{\"outlinewidth\":0,\"ticks\":\"\"}},\"type\":\"scattermapbox\"}],\"scatterpolargl\":[{\"marker\":{\"colorbar\":{\"outlinewidth\":0,\"ticks\":\"\"}},\"type\":\"scatterpolargl\"}],\"scatterpolar\":[{\"marker\":{\"colorbar\":{\"outlinewidth\":0,\"ticks\":\"\"}},\"type\":\"scatterpolar\"}],\"scatter\":[{\"fillpattern\":{\"fillmode\":\"overlay\",\"size\":10,\"solidity\":0.2},\"type\":\"scatter\"}],\"scatterternary\":[{\"marker\":{\"colorbar\":{\"outlinewidth\":0,\"ticks\":\"\"}},\"type\":\"scatterternary\"}],\"surface\":[{\"colorbar\":{\"outlinewidth\":0,\"ticks\":\"\"},\"colorscale\":[[0.0,\"#0d0887\"],[0.1111111111111111,\"#46039f\"],[0.2222222222222222,\"#7201a8\"],[0.3333333333333333,\"#9c179e\"],[0.4444444444444444,\"#bd3786\"],[0.5555555555555556,\"#d8576b\"],[0.6666666666666666,\"#ed7953\"],[0.7777777777777778,\"#fb9f3a\"],[0.8888888888888888,\"#fdca26\"],[1.0,\"#f0f921\"]],\"type\":\"surface\"}],\"table\":[{\"cells\":{\"fill\":{\"color\":\"#EBF0F8\"},\"line\":{\"color\":\"white\"}},\"header\":{\"fill\":{\"color\":\"#C8D4E3\"},\"line\":{\"color\":\"white\"}},\"type\":\"table\"}]},\"layout\":{\"annotationdefaults\":{\"arrowcolor\":\"#2a3f5f\",\"arrowhead\":0,\"arrowwidth\":1},\"autotypenumbers\":\"strict\",\"coloraxis\":{\"colorbar\":{\"outlinewidth\":0,\"ticks\":\"\"}},\"colorscale\":{\"diverging\":[[0,\"#8e0152\"],[0.1,\"#c51b7d\"],[0.2,\"#de77ae\"],[0.3,\"#f1b6da\"],[0.4,\"#fde0ef\"],[0.5,\"#f7f7f7\"],[0.6,\"#e6f5d0\"],[0.7,\"#b8e186\"],[0.8,\"#7fbc41\"],[0.9,\"#4d9221\"],[1,\"#276419\"]],\"sequential\":[[0.0,\"#0d0887\"],[0.1111111111111111,\"#46039f\"],[0.2222222222222222,\"#7201a8\"],[0.3333333333333333,\"#9c179e\"],[0.4444444444444444,\"#bd3786\"],[0.5555555555555556,\"#d8576b\"],[0.6666666666666666,\"#ed7953\"],[0.7777777777777778,\"#fb9f3a\"],[0.8888888888888888,\"#fdca26\"],[1.0,\"#f0f921\"]],\"sequentialminus\":[[0.0,\"#0d0887\"],[0.1111111111111111,\"#46039f\"],[0.2222222222222222,\"#7201a8\"],[0.3333333333333333,\"#9c179e\"],[0.4444444444444444,\"#bd3786\"],[0.5555555555555556,\"#d8576b\"],[0.6666666666666666,\"#ed7953\"],[0.7777777777777778,\"#fb9f3a\"],[0.8888888888888888,\"#fdca26\"],[1.0,\"#f0f921\"]]},\"colorway\":[\"#636efa\",\"#EF553B\",\"#00cc96\",\"#ab63fa\",\"#FFA15A\",\"#19d3f3\",\"#FF6692\",\"#B6E880\",\"#FF97FF\",\"#FECB52\"],\"font\":{\"color\":\"#2a3f5f\"},\"geo\":{\"bgcolor\":\"white\",\"lakecolor\":\"white\",\"landcolor\":\"#E5ECF6\",\"showlakes\":true,\"showland\":true,\"subunitcolor\":\"white\"},\"hoverlabel\":{\"align\":\"left\"},\"hovermode\":\"closest\",\"mapbox\":{\"style\":\"light\"},\"paper_bgcolor\":\"white\",\"plot_bgcolor\":\"#E5ECF6\",\"polar\":{\"angularaxis\":{\"gridcolor\":\"white\",\"linecolor\":\"white\",\"ticks\":\"\"},\"bgcolor\":\"#E5ECF6\",\"radialaxis\":{\"gridcolor\":\"white\",\"linecolor\":\"white\",\"ticks\":\"\"}},\"scene\":{\"xaxis\":{\"backgroundcolor\":\"#E5ECF6\",\"gridcolor\":\"white\",\"gridwidth\":2,\"linecolor\":\"white\",\"showbackground\":true,\"ticks\":\"\",\"zerolinecolor\":\"white\"},\"yaxis\":{\"backgroundcolor\":\"#E5ECF6\",\"gridcolor\":\"white\",\"gridwidth\":2,\"linecolor\":\"white\",\"showbackground\":true,\"ticks\":\"\",\"zerolinecolor\":\"white\"},\"zaxis\":{\"backgroundcolor\":\"#E5ECF6\",\"gridcolor\":\"white\",\"gridwidth\":2,\"linecolor\":\"white\",\"showbackground\":true,\"ticks\":\"\",\"zerolinecolor\":\"white\"}},\"shapedefaults\":{\"line\":{\"color\":\"#2a3f5f\"}},\"ternary\":{\"aaxis\":{\"gridcolor\":\"white\",\"linecolor\":\"white\",\"ticks\":\"\"},\"baxis\":{\"gridcolor\":\"white\",\"linecolor\":\"white\",\"ticks\":\"\"},\"bgcolor\":\"#E5ECF6\",\"caxis\":{\"gridcolor\":\"white\",\"linecolor\":\"white\",\"ticks\":\"\"}},\"title\":{\"x\":0.05},\"xaxis\":{\"automargin\":true,\"gridcolor\":\"white\",\"linecolor\":\"white\",\"ticks\":\"\",\"title\":{\"standoff\":15},\"zerolinecolor\":\"white\",\"zerolinewidth\":2},\"yaxis\":{\"automargin\":true,\"gridcolor\":\"white\",\"linecolor\":\"white\",\"ticks\":\"\",\"title\":{\"standoff\":15},\"zerolinecolor\":\"white\",\"zerolinewidth\":2}}},\"title\":{\"text\":\"Mode Choice Calibration Constants\"},\"width\":800,\"xaxis\":{\"title\":{\"text\":\"Iteration\"}},\"yaxis\":{\"title\":{\"text\":\"Constant Value\"}}},                        {\"responsive\": true}                    ).then(function(){\n",
       "                            \n",
       "var gd = document.getElementById('27dde3da-bc78-4757-a8dd-e2bb15219576');\n",
       "var x = new MutationObserver(function (mutations, observer) {{\n",
       "        var display = window.getComputedStyle(gd).display;\n",
       "        if (!display || display === 'none') {{\n",
       "            console.log([gd, 'removed!']);\n",
       "            Plotly.purge(gd);\n",
       "            observer.disconnect();\n",
       "        }}\n",
       "}});\n",
       "\n",
       "// Listen for the removal of the full notebook cells\n",
       "var notebookContainer = gd.closest('#notebook-container');\n",
       "if (notebookContainer) {{\n",
       "    x.observe(notebookContainer, {childList: true});\n",
       "}}\n",
       "\n",
       "// Listen for the clearing of the current output cell\n",
       "var outputEl = gd.closest('.output');\n",
       "if (outputEl) {{\n",
       "    x.observe(outputEl, {childList: true});\n",
       "}}\n",
       "\n",
       "                        })                };                });            </script>        </div>"
      ]
     },
     "metadata": {},
     "output_type": "display_data"
    },
    {
     "data": {
      "application/vnd.plotly.v1+json": {
       "config": {
        "linkText": "Export to plot.ly",
        "plotlyServerURL": "https://plot.ly",
        "showLink": false
       },
       "data": [
        {
         "mode": "lines+markers",
         "name": "HBO Ok asc_nonmotor_0veh",
         "type": "scatter",
         "x": [
          40,
          39,
          38,
          37,
          36,
          35,
          34,
          33,
          32,
          31,
          30,
          29,
          28,
          27,
          26,
          25,
          24,
          23,
          22,
          21,
          20,
          19,
          18,
          17,
          16,
          15,
          14,
          13,
          12,
          11,
          10,
          9,
          8,
          7,
          6,
          5,
          4,
          3,
          2,
          1,
          0
         ],
         "y": [
          2.974900007247925,
          2.9686999320983887,
          2.961899995803833,
          2.954400062561035,
          2.946199893951416,
          2.9370999336242676,
          2.9270999431610107,
          2.916100025177002,
          2.9040000438690186,
          2.8905999660491943,
          2.8757998943328857,
          2.859499931335449,
          2.8415000438690186,
          2.8215999603271484,
          2.799499988555908,
          2.775099992752075,
          2.747999906539917,
          2.717900037765503,
          2.684499979019165,
          2.64739990234375,
          2.6061999797821045,
          2.56030011177063,
          2.509200096130371,
          2.452199935913086,
          2.3886001110076904,
          2.3176000118255615,
          2.238300085067749,
          2.149600028991699,
          2.050299882888794,
          1.9391000270843506,
          1.8144999742507935,
          1.6749000549316406,
          1.5187000036239624,
          1.3443000316619873,
          1.1505999565124512,
          0.9381999969482422,
          0.7110000252723694,
          0.47940000891685486,
          0.263700008392334,
          0.0940999984741211,
          0
         ]
        },
        {
         "mode": "lines+markers",
         "name": "HBO Ok asc_nonmotor_1veh",
         "type": "scatter",
         "x": [
          40,
          39,
          38,
          37,
          36,
          35,
          34,
          33,
          32,
          31,
          30,
          29,
          28,
          27,
          26,
          25,
          24,
          23,
          22,
          21,
          20,
          19,
          18,
          17,
          16,
          15,
          14,
          13,
          12,
          11,
          10,
          9,
          8,
          7,
          6,
          5,
          4,
          3,
          2,
          1,
          0
         ],
         "y": [
          0.3084000051021576,
          0.30820000171661377,
          0.30799999833106995,
          0.3077000081539154,
          0.3073999881744385,
          0.30709999799728394,
          0.3066999912261963,
          0.30630001425743103,
          0.3057999908924103,
          0.3052999973297119,
          0.30469998717308044,
          0.30399999022483826,
          0.30320000648498535,
          0.30230000615119934,
          0.3012000024318695,
          0.29989999532699585,
          0.29829999804496765,
          0.2964000105857849,
          0.29409998655319214,
          0.2912999987602234,
          0.28780001401901245,
          0.2833999991416931,
          0.27799999713897705,
          0.2712000012397766,
          0.26260000467300415,
          0.251800000667572,
          0.23810000717639923,
          0.22089999914169312,
          0.19920000433921814,
          0.1720000058412552,
          0.1378999948501587,
          0.09570000320672989,
          0.04390000179409981,
          -0.018300000578165054,
          -0.09080000221729279,
          -0.1704999953508377,
          -0.24899999797344208,
          -0.30809998512268066,
          -0.31529998779296875,
          -0.22589999437332153,
          0
         ]
        },
        {
         "mode": "lines+markers",
         "name": "HBO Ok asc_nonmotor_2veh",
         "type": "scatter",
         "x": [
          40,
          39,
          38,
          37,
          36,
          35,
          34,
          33,
          32,
          31,
          30,
          29,
          28,
          27,
          26,
          25,
          24,
          23,
          22,
          21,
          20,
          19,
          18,
          17,
          16,
          15,
          14,
          13,
          12,
          11,
          10,
          9,
          8,
          7,
          6,
          5,
          4,
          3,
          2,
          1,
          0
         ],
         "y": [
          -0.05090000107884407,
          -0.051100000739097595,
          -0.05130000039935112,
          -0.051500000059604645,
          -0.05169999971985817,
          -0.051899999380111694,
          -0.05220000073313713,
          -0.05249999836087227,
          -0.05290000140666962,
          -0.053300000727176666,
          -0.05380000174045563,
          -0.0544000007212162,
          -0.05510000139474869,
          -0.05590000003576279,
          -0.0568000003695488,
          -0.05790000036358833,
          -0.05920000001788139,
          -0.0608999989926815,
          -0.06300000101327896,
          -0.06549999862909317,
          -0.06870000064373016,
          -0.07270000129938126,
          -0.07779999822378159,
          -0.08429999649524689,
          -0.09260000288486481,
          -0.10320000350475311,
          -0.11670000106096268,
          -0.1339000016450882,
          -0.15569999814033508,
          -0.18320000171661377,
          -0.21770000457763672,
          -0.2605000138282776,
          -0.3127000033855438,
          -0.37459999322891235,
          -0.4449999928474426,
          -0.5187000036239624,
          -0.5831000208854675,
          -0.6129000186920166,
          -0.5641999840736389,
          -0.3767000138759613,
          0
         ]
        },
        {
         "mode": "lines+markers",
         "name": "HBO Ok asc_transit_0veh",
         "type": "scatter",
         "x": [
          40,
          39,
          38,
          37,
          36,
          35,
          34,
          33,
          32,
          31,
          30,
          29,
          28,
          27,
          26,
          25,
          24,
          23,
          22,
          21,
          20,
          19,
          18,
          17,
          16,
          15,
          14,
          13,
          12,
          11,
          10,
          9,
          8,
          7,
          6,
          5,
          4,
          3,
          2,
          1,
          0
         ],
         "y": [
          2.077699899673462,
          2.0778000354766846,
          2.077899932861328,
          2.0780999660491943,
          2.0782999992370605,
          2.0785999298095703,
          2.078900098800659,
          2.0792999267578125,
          2.0797998905181885,
          2.0803000926971436,
          2.080899953842163,
          2.0815999507904053,
          2.08240008354187,
          2.0833001136779785,
          2.0843000411987305,
          2.085400104522705,
          2.0866000652313232,
          2.0878000259399414,
          2.0889999866485596,
          2.0899999141693115,
          2.0906999111175537,
          2.09089994430542,
          2.090399980545044,
          2.0887999534606934,
          2.085599899291992,
          2.0803000926971436,
          2.0720999240875244,
          2.0601000785827637,
          2.043100118637085,
          2.019700050354004,
          1.9880000352859497,
          1.9457000494003296,
          1.8898999691009521,
          1.8167999982833862,
          1.72160005569458,
          1.598099946975708,
          1.4378999471664429,
          1.229099988937378,
          0.9523000121116638,
          0.5698999762535095,
          0
         ]
        },
        {
         "mode": "lines+markers",
         "name": "HBO Ok asc_transit_1veh",
         "type": "scatter",
         "x": [
          40,
          39,
          38,
          37,
          36,
          35,
          34,
          33,
          32,
          31,
          30,
          29,
          28,
          27,
          26,
          25,
          24,
          23,
          22,
          21,
          20,
          19,
          18,
          17,
          16,
          15,
          14,
          13,
          12,
          11,
          10,
          9,
          8,
          7,
          6,
          5,
          4,
          3,
          2,
          1,
          0
         ],
         "y": [
          -1.517199993133545,
          -1.5189000368118286,
          -1.520799994468689,
          -1.5227999687194824,
          -1.5250999927520752,
          -1.527500033378601,
          -1.5300999879837036,
          -1.5329999923706055,
          -1.5361000299453735,
          -1.5393999814987183,
          -1.5428999662399292,
          -1.5465999841690063,
          -1.5505000352859497,
          -1.5544999837875366,
          -1.558500051498413,
          -1.562399983406067,
          -1.566100001335144,
          -1.5693999528884888,
          -1.5721999406814575,
          -1.5743000507354736,
          -1.5752999782562256,
          -1.5749000310897827,
          -1.5729000568389893,
          -1.5687999725341797,
          -1.5621000528335571,
          -1.55239999294281,
          -1.539199948310852,
          -1.5220999717712402,
          -1.500499963760376,
          -1.4739999771118164,
          -1.4419000148773193,
          -1.4035999774932861,
          -1.3581000566482544,
          -1.3041000366210938,
          -1.2390999794006348,
          -1.1588000059127808,
          -1.055999994277954,
          -0.9182000160217285,
          -0.7253000140190125,
          -0.44290000200271606,
          0
         ]
        },
        {
         "mode": "lines+markers",
         "name": "HBO Ok asc_transit_2veh",
         "type": "scatter",
         "x": [
          40,
          39,
          38,
          37,
          36,
          35,
          34,
          33,
          32,
          31,
          30,
          29,
          28,
          27,
          26,
          25,
          24,
          23,
          22,
          21,
          20,
          19,
          18,
          17,
          16,
          15,
          14,
          13,
          12,
          11,
          10,
          9,
          8,
          7,
          6,
          5,
          4,
          3,
          2,
          1,
          0
         ],
         "y": [
          -2.2302000522613525,
          -2.2321999073028564,
          -2.2344000339508057,
          -2.2367000579833984,
          -2.239300012588501,
          -2.2421000003814697,
          -2.2451999187469482,
          -2.248500108718872,
          -2.2520999908447266,
          -2.25600004196167,
          -2.2600998878479004,
          -2.2644999027252197,
          -2.2690999507904053,
          -2.273900032043457,
          -2.2788000106811523,
          -2.283799886703491,
          -2.2887001037597656,
          -2.2934999465942383,
          -2.2978999614715576,
          -2.301800012588501,
          -2.305000066757202,
          -2.3071999549865723,
          -2.3080999851226807,
          -2.3073999881744385,
          -2.304800033569336,
          -2.2999000549316406,
          -2.2923998832702637,
          -2.281899929046631,
          -2.267899990081787,
          -2.25,
          -2.227400064468384,
          -2.1989998817443848,
          -2.1631999015808105,
          -2.11680006980896,
          -2.054500102996826,
          -1.9666999578475952,
          -1.8366999626159668,
          -1.636299967765808,
          -1.3193999528884888,
          -0.8127999901771545,
          0
         ]
        },
        {
         "mode": "lines+markers",
         "name": "HBO Ok asc_shared_1veh",
         "type": "scatter",
         "x": [
          40,
          39,
          38,
          37,
          36,
          35,
          34,
          33,
          32,
          31,
          30,
          29,
          28,
          27,
          26,
          25,
          24,
          23,
          22,
          21,
          20,
          19,
          18,
          17,
          16,
          15,
          14,
          13,
          12,
          11,
          10,
          9,
          8,
          7,
          6,
          5,
          4,
          3,
          2,
          1,
          0
         ],
         "y": [
          -0.28850001096725464,
          -0.28850001096725464,
          -0.28850001096725464,
          -0.28850001096725464,
          -0.28850001096725464,
          -0.28850001096725464,
          -0.28850001096725464,
          -0.28850001096725464,
          -0.28850001096725464,
          -0.28850001096725464,
          -0.28850001096725464,
          -0.28850001096725464,
          -0.28850001096725464,
          -0.28839999437332153,
          -0.2883000075817108,
          -0.2881999909877777,
          -0.2879999876022339,
          -0.28780001401901245,
          -0.2874999940395355,
          -0.2870999872684479,
          -0.2865999937057495,
          -0.2858999967575073,
          -0.2849999964237213,
          -0.2838999927043915,
          -0.2824000120162964,
          -0.28049999475479126,
          -0.27799999713897705,
          -0.27469998598098755,
          -0.2705000042915344,
          -0.26499998569488525,
          -0.257999986410141,
          -0.24899999797344208,
          -0.23759999871253967,
          -0.2231999933719635,
          -0.2053000032901764,
          -0.18320000171661377,
          -0.15629999339580536,
          -0.1242000013589859,
          -0.0869000032544136,
          -0.04490000009536743,
          0
         ]
        },
        {
         "mode": "lines+markers",
         "name": "HBO Ok asc_shared_2veh",
         "type": "scatter",
         "x": [
          40,
          39,
          38,
          37,
          36,
          35,
          34,
          33,
          32,
          31,
          30,
          29,
          28,
          27,
          26,
          25,
          24,
          23,
          22,
          21,
          20,
          19,
          18,
          17,
          16,
          15,
          14,
          13,
          12,
          11,
          10,
          9,
          8,
          7,
          6,
          5,
          4,
          3,
          2,
          1,
          0
         ],
         "y": [
          0.0877000018954277,
          0.0877000018954277,
          0.0877000018954277,
          0.0877000018954277,
          0.0877000018954277,
          0.0877000018954277,
          0.0877000018954277,
          0.0877000018954277,
          0.0877000018954277,
          0.0877000018954277,
          0.0877000018954277,
          0.0877000018954277,
          0.0877000018954277,
          0.0877000018954277,
          0.0877000018954277,
          0.0877000018954277,
          0.0877000018954277,
          0.0877000018954277,
          0.0877000018954277,
          0.0877000018954277,
          0.0877000018954277,
          0.0877000018954277,
          0.0877000018954277,
          0.0877000018954277,
          0.0877000018954277,
          0.0877000018954277,
          0.0877000018954277,
          0.08760000020265579,
          0.08739999681711197,
          0.08720000088214874,
          0.0868000015616417,
          0.08619999885559082,
          0.08529999852180481,
          0.08380000293254852,
          0.08160000294446945,
          0.07819999754428864,
          0.07289999723434448,
          0.06480000168085098,
          0.05209999904036522,
          0.032099999487400055,
          0
         ]
        },
        {
         "mode": "lines+markers",
         "name": "HBO Ok asc_sr3_all",
         "type": "scatter",
         "x": [
          40,
          39,
          38,
          37,
          36,
          35,
          34,
          33,
          32,
          31,
          30,
          29,
          28,
          27,
          26,
          25,
          24,
          23,
          22,
          21,
          20,
          19,
          18,
          17,
          16,
          15,
          14,
          13,
          12,
          11,
          10,
          9,
          8,
          7,
          6,
          5,
          4,
          3,
          2,
          1,
          0
         ],
         "y": [
          0.16200000047683716,
          0.16200000047683716,
          0.16200000047683716,
          0.16200000047683716,
          0.16200000047683716,
          0.16200000047683716,
          0.16200000047683716,
          0.16200000047683716,
          0.16200000047683716,
          0.16200000047683716,
          0.16200000047683716,
          0.16200000047683716,
          0.16200000047683716,
          0.16200000047683716,
          0.16200000047683716,
          0.16200000047683716,
          0.16200000047683716,
          0.16200000047683716,
          0.16200000047683716,
          0.16200000047683716,
          0.16200000047683716,
          0.16200000047683716,
          0.16200000047683716,
          0.16200000047683716,
          0.16189999878406525,
          0.16179999709129333,
          0.16169999539852142,
          0.1615000069141388,
          0.16120000183582306,
          0.1606999933719635,
          0.1599999964237213,
          0.15889999270439148,
          0.15729999542236328,
          0.15479999780654907,
          0.1509999930858612,
          0.14509999752044678,
          0.13600000739097595,
          0.121799997985363,
          0.09929999709129333,
          0.06260000169277191,
          0
         ]
        },
        {
         "mode": "lines+markers",
         "name": "HBO Ok asc_hov_all",
         "type": "scatter",
         "x": [
          40,
          39,
          38,
          37,
          36,
          35,
          34,
          33,
          32,
          31,
          30,
          29,
          28,
          27,
          26,
          25,
          24,
          23,
          22,
          21,
          20,
          19,
          18,
          17,
          16,
          15,
          14,
          13,
          12,
          11,
          10,
          9,
          8,
          7,
          6,
          5,
          4,
          3,
          2,
          1,
          0
         ],
         "y": [
          0.08749999850988388,
          0.08749999850988388,
          0.08749999850988388,
          0.08749999850988388,
          0.08749999850988388,
          0.08749999850988388,
          0.08749999850988388,
          0.08749999850988388,
          0.08749999850988388,
          0.08749999850988388,
          0.08749999850988388,
          0.08749999850988388,
          0.08749999850988388,
          0.08749999850988388,
          0.08749999850988388,
          0.08749999850988388,
          0.08749999850988388,
          0.08749999850988388,
          0.08749999850988388,
          0.08749999850988388,
          0.08749999850988388,
          0.08749999850988388,
          0.08749999850988388,
          0.08749999850988388,
          0.08749999850988388,
          0.08749999850988388,
          0.08749999850988388,
          0.08749999850988388,
          0.08749999850988388,
          0.08749999850988388,
          0.08749999850988388,
          0.08749999850988388,
          0.08749999850988388,
          0.08749999850988388,
          0.08749999850988388,
          0.08749999850988388,
          0.08749999850988388,
          0.08749999850988388,
          0.08749999850988388,
          0.08749999850988388,
          0.08749999850988388
         ]
        },
        {
         "mode": "lines+markers",
         "name": "HBO Ok asc_toll_all",
         "type": "scatter",
         "x": [
          40,
          39,
          38,
          37,
          36,
          35,
          34,
          33,
          32,
          31,
          30,
          29,
          28,
          27,
          26,
          25,
          24,
          23,
          22,
          21,
          20,
          19,
          18,
          17,
          16,
          15,
          14,
          13,
          12,
          11,
          10,
          9,
          8,
          7,
          6,
          5,
          4,
          3,
          2,
          1,
          0
         ],
         "y": [
          -0.3499999940395355,
          -0.3499999940395355,
          -0.3499999940395355,
          -0.3499999940395355,
          -0.3499999940395355,
          -0.3499999940395355,
          -0.3499999940395355,
          -0.3499999940395355,
          -0.3499999940395355,
          -0.3499999940395355,
          -0.3499999940395355,
          -0.3499999940395355,
          -0.3499999940395355,
          -0.3499999940395355,
          -0.3499999940395355,
          -0.3499999940395355,
          -0.3499999940395355,
          -0.3499999940395355,
          -0.3499999940395355,
          -0.3499999940395355,
          -0.3499999940395355,
          -0.3499999940395355,
          -0.3499999940395355,
          -0.3499999940395355,
          -0.3499999940395355,
          -0.3499999940395355,
          -0.3499999940395355,
          -0.3499999940395355,
          -0.3499999940395355,
          -0.3499999940395355,
          -0.3499999940395355,
          -0.3499999940395355,
          -0.3499999940395355,
          -0.3499999940395355,
          -0.3499999940395355,
          -0.3499999940395355,
          -0.3499999940395355,
          -0.3499999940395355,
          -0.3499999940395355,
          -0.3499999940395355,
          -0.3499999940395355
         ]
        },
        {
         "mode": "lines+markers",
         "name": "HBO Ok asc_BRT_all",
         "type": "scatter",
         "x": [
          40,
          39,
          38,
          37,
          36,
          35,
          34,
          33,
          32,
          31,
          30,
          29,
          28,
          27,
          26,
          25,
          24,
          23,
          22,
          21,
          20,
          19,
          18,
          17,
          16,
          15,
          14,
          13,
          12,
          11,
          10,
          9,
          8,
          7,
          6,
          5,
          4,
          3,
          2,
          1,
          0
         ],
         "y": [
          -0.28529998660087585,
          -0.2815000116825104,
          -0.2777000069618225,
          -0.27390000224113464,
          -0.2700999975204468,
          -0.2662999927997589,
          -0.2624000012874603,
          -0.25859999656677246,
          -0.2547000050544739,
          -0.250900000333786,
          -0.24699999392032623,
          -0.24320000410079956,
          -0.2393999993801117,
          -0.23559999465942383,
          -0.23190000653266907,
          -0.22830000519752502,
          -0.2248000055551529,
          -0.22139999270439148,
          -0.21819999814033508,
          -0.2152000069618225,
          -0.21250000596046448,
          -0.210099995136261,
          -0.20810000598430634,
          -0.20659999549388885,
          -0.20559999346733093,
          -0.20509999990463257,
          -0.20520000159740448,
          -0.20589999854564667,
          -0.20720000565052032,
          -0.20909999310970306,
          -0.21140000224113464,
          -0.21379999816417694,
          -0.2160000056028366,
          -0.2175000011920929,
          -0.21770000457763672,
          -0.21619999408721924,
          -0.21320000290870667,
          -0.21070000529289246,
          -0.21070000529289246,
          -0.18649999797344208,
          0
         ]
        },
        {
         "mode": "lines+markers",
         "name": "HBO Ok asc_LRT_all",
         "type": "scatter",
         "x": [
          40,
          39,
          38,
          37,
          36,
          35,
          34,
          33,
          32,
          31,
          30,
          29,
          28,
          27,
          26,
          25,
          24,
          23,
          22,
          21,
          20,
          19,
          18,
          17,
          16,
          15,
          14,
          13,
          12,
          11,
          10,
          9,
          8,
          7,
          6,
          5,
          4,
          3,
          2,
          1,
          0
         ],
         "y": [
          0.3140000104904175,
          0.3147999942302704,
          0.3156999945640564,
          0.3167000114917755,
          0.31779998540878296,
          0.3190000057220459,
          0.32030001282691956,
          0.32179999351501465,
          0.32339999079704285,
          0.32519999146461487,
          0.32710000872612,
          0.32919999957084656,
          0.33149999380111694,
          0.33399999141693115,
          0.3366999924182892,
          0.3395000100135803,
          0.3425000011920929,
          0.3456000089645386,
          0.34869998693466187,
          0.35179999470710754,
          0.3547999858856201,
          0.35760000348091125,
          0.36000001430511475,
          0.3619000017642975,
          0.3630000054836273,
          0.36309999227523804,
          0.3619999885559082,
          0.35929998755455017,
          0.3549000024795532,
          0.3483999967575073,
          0.33959999680519104,
          0.32829999923706055,
          0.31439998745918274,
          0.29789999127388,
          0.27900001406669617,
          0.25780001282691956,
          0.23420000076293945,
          0.20640000700950623,
          0.16840000450611115,
          0.10509999841451645,
          0
         ]
        },
        {
         "mode": "lines+markers",
         "name": "HBO Ok asc_CRT_all",
         "type": "scatter",
         "x": [
          40,
          39,
          38,
          37,
          36,
          35,
          34,
          33,
          32,
          31,
          30,
          29,
          28,
          27,
          26,
          25,
          24,
          23,
          22,
          21,
          20,
          19,
          18,
          17,
          16,
          15,
          14,
          13,
          12,
          11,
          10,
          9,
          8,
          7,
          6,
          5,
          4,
          3,
          2,
          1,
          0
         ],
         "y": [
          1.4869999885559082,
          1.468400001525879,
          1.4499000310897827,
          1.43149995803833,
          1.413100004196167,
          1.3947999477386475,
          1.3766000270843506,
          1.3585000038146973,
          1.340399980545044,
          1.3223999738693237,
          1.3044999837875366,
          1.2865999937057495,
          1.2688000202178955,
          1.2510000467300415,
          1.233199954032898,
          1.2152999639511108,
          1.1972999572753906,
          1.1790000200271606,
          1.1603000164031982,
          1.1411999464035034,
          1.121399998664856,
          1.1008000373840332,
          1.0789999961853027,
          1.055899977684021,
          1.0311000347137451,
          1.0041999816894531,
          0.9747999906539917,
          0.9424999952316284,
          0.9065999984741211,
          0.866599977016449,
          0.8217999935150146,
          0.771399974822998,
          0.7146999835968018,
          0.651199996471405,
          0.5809000134468079,
          0.5047000050544739,
          0.4253999888896942,
          0.34769999980926514,
          0.2752000093460083,
          0.19370000064373016,
          0
         ]
        },
        {
         "mode": "lines+markers",
         "name": "HBO Ok asc_driveacc_1veh",
         "type": "scatter",
         "x": [
          40,
          39,
          38,
          37,
          36,
          35,
          34,
          33,
          32,
          31,
          30,
          29,
          28,
          27,
          26,
          25,
          24,
          23,
          22,
          21,
          20,
          19,
          18,
          17,
          16,
          15,
          14,
          13,
          12,
          11,
          10,
          9,
          8,
          7,
          6,
          5,
          4,
          3,
          2,
          1,
          0
         ],
         "y": [
          -1.7310999631881714,
          -1.7252000570297241,
          -1.718999981880188,
          -1.712499976158142,
          -1.7057000398635864,
          -1.6985000371932983,
          -1.690999984741211,
          -1.6829999685287476,
          -1.6746000051498413,
          -1.6657999753952026,
          -1.6563999652862549,
          -1.6464999914169312,
          -1.6361000537872314,
          -1.625100016593933,
          -1.6134999990463257,
          -1.601199984550476,
          -1.5881999731063843,
          -1.5744999647140503,
          -1.559999942779541,
          -1.544700026512146,
          -1.528499960899353,
          -1.5113999843597412,
          -1.4931999444961548,
          -1.4738999605178833,
          -1.4532999992370605,
          -1.4311000108718872,
          -1.407099962234497,
          -1.38100004196167,
          -1.3523000478744507,
          -1.3203999996185303,
          -1.2848000526428223,
          -1.2445000410079956,
          -1.1986000537872314,
          -1.1455999612808228,
          -1.0835000276565552,
          -1.0089000463485718,
          -0.9158999919891357,
          -0.7930999994277954,
          -0.6198999881744385,
          -0.36480000615119934,
          0
         ]
        },
        {
         "mode": "lines+markers",
         "name": "HBO Ok asc_driveacc_2veh",
         "type": "scatter",
         "x": [
          40,
          39,
          38,
          37,
          36,
          35,
          34,
          33,
          32,
          31,
          30,
          29,
          28,
          27,
          26,
          25,
          24,
          23,
          22,
          21,
          20,
          19,
          18,
          17,
          16,
          15,
          14,
          13,
          12,
          11,
          10,
          9,
          8,
          7,
          6,
          5,
          4,
          3,
          2,
          1,
          0
         ],
         "y": [
          -1.249400019645691,
          -1.243399977684021,
          -1.2371000051498413,
          -1.2303999662399292,
          -1.2233999967575073,
          -1.215999960899353,
          -1.208299994468689,
          -1.2001999616622925,
          -1.19159996509552,
          -1.1825000047683716,
          -1.1728999614715576,
          -1.1628999710083008,
          -1.1523000001907349,
          -1.1411000490188599,
          -1.1292999982833862,
          -1.1167999505996704,
          -1.103700041770935,
          -1.089900016784668,
          -1.0752999782562256,
          -1.0599000453948975,
          -1.0436999797821045,
          -1.0264999866485596,
          -1.0082999467849731,
          -0.9889000058174133,
          -0.9682000279426575,
          -0.9459999799728394,
          -0.9218999743461609,
          -0.8956000208854675,
          -0.866599977016449,
          -0.8343999981880188,
          -0.79830002784729,
          -0.7577000260353088,
          -0.7120000123977661,
          -0.6606000065803528,
          -0.6029999852180481,
          -0.5389000177383423,
          -0.4675999879837036,
          -0.38690000772476196,
          -0.290800005197525,
          -0.1671999990940094,
          0
         ]
        },
        {
         "mode": "lines+markers",
         "name": "HBO Ok asc_wBRT_all",
         "type": "scatter",
         "x": [
          40,
          39,
          38,
          37,
          36,
          35,
          34,
          33,
          32,
          31,
          30,
          29,
          28,
          27,
          26,
          25,
          24,
          23,
          22,
          21,
          20,
          19,
          18,
          17,
          16,
          15,
          14,
          13,
          12,
          11,
          10,
          9,
          8,
          7,
          6,
          5,
          4,
          3,
          2,
          1,
          0
         ],
         "y": [
          -0.2061000019311905,
          -0.20990000665187836,
          -0.21369999647140503,
          -0.2175000011920929,
          -0.22139999270439148,
          -0.22529999911785126,
          -0.22920000553131104,
          -0.23319999873638153,
          -0.23720000684261322,
          -0.24120000004768372,
          -0.24529999494552612,
          -0.24950000643730164,
          -0.25380000472068787,
          -0.2581000030040741,
          -0.26260000467300415,
          -0.2671999931335449,
          -0.2720000147819519,
          -0.27709999680519104,
          -0.2824000120162964,
          -0.2879999876022339,
          -0.2939000129699707,
          -0.3001999855041504,
          -0.3070000112056732,
          -0.314300000667572,
          -0.32199999690055847,
          -0.3303000032901764,
          -0.33899998664855957,
          -0.3481000065803528,
          -0.35749998688697815,
          -0.3668999969959259,
          -0.37610000371932983,
          -0.3846000134944916,
          -0.39169999957084656,
          -0.39640000462532043,
          -0.39739999175071716,
          -0.39320001006126404,
          -0.382099986076355,
          -0.3625999987125397,
          -0.3312000036239624,
          -0.2547000050544739,
          0
         ]
        },
        {
         "mode": "lines+markers",
         "name": "HBO Ok asc_wLRT_all",
         "type": "scatter",
         "x": [
          40,
          39,
          38,
          37,
          36,
          35,
          34,
          33,
          32,
          31,
          30,
          29,
          28,
          27,
          26,
          25,
          24,
          23,
          22,
          21,
          20,
          19,
          18,
          17,
          16,
          15,
          14,
          13,
          12,
          11,
          10,
          9,
          8,
          7,
          6,
          5,
          4,
          3,
          2,
          1,
          0
         ],
         "y": [
          0.4936999976634979,
          0.49470001459121704,
          0.4957999885082245,
          0.4970000088214874,
          0.4984000027179718,
          0.4999000132083893,
          0.5016000270843506,
          0.5034000277519226,
          0.5054000020027161,
          0.5076000094413757,
          0.5099999904632568,
          0.5127000212669373,
          0.5156000256538391,
          0.5187000036239624,
          0.5220999717712402,
          0.5256999731063843,
          0.5295000076293945,
          0.5335000157356262,
          0.5375999808311462,
          0.541700005531311,
          0.5457000136375427,
          0.5496000051498413,
          0.5532000064849854,
          0.5562999844551086,
          0.5587000250816345,
          0.5601999759674072,
          0.5605000257492065,
          0.5594000220298767,
          0.5565999746322632,
          0.5519000291824341,
          0.5450999736785889,
          0.5360999703407288,
          0.5248000025749207,
          0.5112000107765198,
          0.49549999833106995,
          0.47769999504089355,
          0.4569999873638153,
          0.4302000105381012,
          0.3853999972343445,
          0.2831999957561493,
          0
         ]
        },
        {
         "mode": "lines+markers",
         "name": "HBO Ok asc_wCRT_all",
         "type": "scatter",
         "x": [
          40,
          39,
          38,
          37,
          36,
          35,
          34,
          33,
          32,
          31,
          30,
          29,
          28,
          27,
          26,
          25,
          24,
          23,
          22,
          21,
          20,
          19,
          18,
          17,
          16,
          15,
          14,
          13,
          12,
          11,
          10,
          9,
          8,
          7,
          6,
          5,
          4,
          3,
          2,
          1,
          0
         ],
         "y": [
          1.5827000141143799,
          1.6062999963760376,
          1.6303000450134277,
          1.6548000574111938,
          1.679800033569336,
          1.705399990081787,
          1.731600046157837,
          1.7583999633789062,
          1.7858999967575073,
          1.8142000436782837,
          1.8431999683380127,
          1.8730000257492065,
          1.9035999774932861,
          1.934999942779541,
          1.9672000408172607,
          2.0000998973846436,
          2.033600091934204,
          2.067500114440918,
          2.1017000675201416,
          2.1359000205993652,
          2.169800043106079,
          2.2030999660491943,
          2.235100030899048,
          2.2653000354766846,
          2.292799949645996,
          2.316800117492676,
          2.3359999656677246,
          2.349100112915039,
          2.354300022125244,
          2.349600076675415,
          2.332200050354004,
          2.2990000247955322,
          2.2458999156951904,
          2.168100118637085,
          2.059999942779541,
          1.9151999950408936,
          1.726199984550476,
          1.483199954032898,
          1.1686999797821045,
          0.7343000173568726,
          0
         ]
        },
        {
         "mode": "lines+markers",
         "name": "HBO Ok asc_dBRT_all",
         "type": "scatter",
         "x": [
          40,
          39,
          38,
          37,
          36,
          35,
          34,
          33,
          32,
          31,
          30,
          29,
          28,
          27,
          26,
          25,
          24,
          23,
          22,
          21,
          20,
          19,
          18,
          17,
          16,
          15,
          14,
          13,
          12,
          11,
          10,
          9,
          8,
          7,
          6,
          5,
          4,
          3,
          2,
          1,
          0
         ],
         "y": [
          0.048700001090765,
          0.04089999943971634,
          0.032999999821186066,
          0.024900000542402267,
          0.016599999740719795,
          0.008200000040233135,
          -0.0003000000142492354,
          -0.008999999612569809,
          -0.017899999395012856,
          -0.027000000700354576,
          -0.03620000183582306,
          -0.04569999873638153,
          -0.055399999022483826,
          -0.06530000269412994,
          -0.07559999823570251,
          -0.08619999885559082,
          -0.09730000048875809,
          -0.10890000313520432,
          -0.12110000103712082,
          -0.13410000503063202,
          -0.14800000190734863,
          -0.16290000081062317,
          -0.17919999361038208,
          -0.19709999859333038,
          -0.21690000593662262,
          -0.23909999430179596,
          -0.26409998536109924,
          -0.2924000024795532,
          -0.3246000111103058,
          -0.3612000048160553,
          -0.40299999713897705,
          -0.45019999146461487,
          -0.5026999711990356,
          -0.559499979019165,
          -0.6177999973297119,
          -0.6718000173568726,
          -0.7110000252723694,
          -0.7182999849319458,
          -0.6644999980926514,
          -0.4790000021457672,
          0
         ]
        },
        {
         "mode": "lines+markers",
         "name": "HBO Ok asc_dLRT_all",
         "type": "scatter",
         "x": [
          40,
          39,
          38,
          37,
          36,
          35,
          34,
          33,
          32,
          31,
          30,
          29,
          28,
          27,
          26,
          25,
          24,
          23,
          22,
          21,
          20,
          19,
          18,
          17,
          16,
          15,
          14,
          13,
          12,
          11,
          10,
          9,
          8,
          7,
          6,
          5,
          4,
          3,
          2,
          1,
          0
         ],
         "y": [
          0.6384999752044678,
          0.633400022983551,
          0.6280999779701233,
          0.6226000189781189,
          0.6168000102043152,
          0.61080002784729,
          0.6044999957084656,
          0.5978999733924866,
          0.5910000205039978,
          0.5838000178337097,
          0.576200008392334,
          0.5681999921798706,
          0.5598000288009644,
          0.5508999824523926,
          0.5414999723434448,
          0.5315999984741211,
          0.5210999846458435,
          0.5098999738693237,
          0.49790000915527344,
          0.48510000109672546,
          0.47130000591278076,
          0.45649999380111694,
          0.4404999911785126,
          0.42309999465942383,
          0.4041999876499176,
          0.38339999318122864,
          0.3605000078678131,
          0.3352000117301941,
          0.30709999799728394,
          0.27570000290870667,
          0.24070000648498535,
          0.20190000534057617,
          0.1590999960899353,
          0.11299999803304672,
          0.06499999761581421,
          0.017899999395012856,
          -0.023399999365210533,
          -0.052400000393390656,
          -0.06159999966621399,
          -0.04490000009536743,
          0
         ]
        },
        {
         "mode": "lines+markers",
         "name": "HBO Ok asc_dCRT_all",
         "type": "scatter",
         "x": [
          40,
          39,
          38,
          37,
          36,
          35,
          34,
          33,
          32,
          31,
          30,
          29,
          28,
          27,
          26,
          25,
          24,
          23,
          22,
          21,
          20,
          19,
          18,
          17,
          16,
          15,
          14,
          13,
          12,
          11,
          10,
          9,
          8,
          7,
          6,
          5,
          4,
          3,
          2,
          1,
          0
         ],
         "y": [
          0.6958000063896179,
          0.7103000283241272,
          0.7246000170707703,
          0.7387999892234802,
          0.7527999877929688,
          0.7666000127792358,
          0.7802000045776367,
          0.7936999797821045,
          0.8069999814033508,
          0.8201000094413757,
          0.8330000042915344,
          0.8457000255584717,
          0.858299970626831,
          0.8707000017166138,
          0.8828999996185303,
          0.8949999809265137,
          0.9068999886512756,
          0.9186000227928162,
          0.9301999807357788,
          0.9416000247001648,
          0.9527999758720398,
          0.9638000130653381,
          0.9745000004768372,
          0.9850000143051147,
          0.9951000213623047,
          1.0047999620437622,
          1.0139000415802002,
          1.0223000049591064,
          1.0296000242233276,
          1.035599946975708,
          1.0396000146865845,
          1.0407999753952026,
          1.0378999710083008,
          1.0285999774932861,
          1.009600043296814,
          0.975600004196167,
          0.9186000227928162,
          0.8260999917984009,
          0.6782000064849854,
          0.43799999356269836,
          0
         ]
        },
        {
         "mode": "lines+markers",
         "name": "HBO Ok asc_bike_all",
         "type": "scatter",
         "x": [
          40,
          39,
          38,
          37,
          36,
          35,
          34,
          33,
          32,
          31,
          30,
          29,
          28,
          27,
          26,
          25,
          24,
          23,
          22,
          21,
          20,
          19,
          18,
          17,
          16,
          15,
          14,
          13,
          12,
          11,
          10,
          9,
          8,
          7,
          6,
          5,
          4,
          3,
          2,
          1,
          0
         ],
         "y": [
          -2.840100049972534,
          -2.8394999504089355,
          -2.8387999534606934,
          -2.838099956512451,
          -2.8373000621795654,
          -2.836400032043457,
          -2.835400104522705,
          -2.8343000411987305,
          -2.8331000804901123,
          -2.8317999839782715,
          -2.8303000926971436,
          -2.828700065612793,
          -2.826900005340576,
          -2.824899911880493,
          -2.822700023651123,
          -2.8203001022338867,
          -2.8176000118255615,
          -2.8145999908447266,
          -2.8111000061035156,
          -2.8071000576019287,
          -2.8025999069213867,
          -2.797300100326538,
          -2.7909998893737793,
          -2.783400058746338,
          -2.774199962615967,
          -2.762700080871582,
          -2.748199939727783,
          -2.7295000553131104,
          -2.7049999237060547,
          -2.672499895095825,
          -2.6289000511169434,
          -2.5697999000549316,
          -2.489300012588501,
          -2.3796000480651855,
          -2.2304999828338623,
          -2.029900074005127,
          -1.7654000520706177,
          -1.42739999294281,
          -1.0135999917984009,
          -0.5322999954223633,
          0
         ]
        }
       ],
       "layout": {
        "height": 400,
        "template": {
         "data": {
          "bar": [
           {
            "error_x": {
             "color": "#2a3f5f"
            },
            "error_y": {
             "color": "#2a3f5f"
            },
            "marker": {
             "line": {
              "color": "#E5ECF6",
              "width": 0.5
             },
             "pattern": {
              "fillmode": "overlay",
              "size": 10,
              "solidity": 0.2
             }
            },
            "type": "bar"
           }
          ],
          "barpolar": [
           {
            "marker": {
             "line": {
              "color": "#E5ECF6",
              "width": 0.5
             },
             "pattern": {
              "fillmode": "overlay",
              "size": 10,
              "solidity": 0.2
             }
            },
            "type": "barpolar"
           }
          ],
          "carpet": [
           {
            "aaxis": {
             "endlinecolor": "#2a3f5f",
             "gridcolor": "white",
             "linecolor": "white",
             "minorgridcolor": "white",
             "startlinecolor": "#2a3f5f"
            },
            "baxis": {
             "endlinecolor": "#2a3f5f",
             "gridcolor": "white",
             "linecolor": "white",
             "minorgridcolor": "white",
             "startlinecolor": "#2a3f5f"
            },
            "type": "carpet"
           }
          ],
          "choropleth": [
           {
            "colorbar": {
             "outlinewidth": 0,
             "ticks": ""
            },
            "type": "choropleth"
           }
          ],
          "contour": [
           {
            "colorbar": {
             "outlinewidth": 0,
             "ticks": ""
            },
            "colorscale": [
             [
              0,
              "#0d0887"
             ],
             [
              0.1111111111111111,
              "#46039f"
             ],
             [
              0.2222222222222222,
              "#7201a8"
             ],
             [
              0.3333333333333333,
              "#9c179e"
             ],
             [
              0.4444444444444444,
              "#bd3786"
             ],
             [
              0.5555555555555556,
              "#d8576b"
             ],
             [
              0.6666666666666666,
              "#ed7953"
             ],
             [
              0.7777777777777778,
              "#fb9f3a"
             ],
             [
              0.8888888888888888,
              "#fdca26"
             ],
             [
              1,
              "#f0f921"
             ]
            ],
            "type": "contour"
           }
          ],
          "contourcarpet": [
           {
            "colorbar": {
             "outlinewidth": 0,
             "ticks": ""
            },
            "type": "contourcarpet"
           }
          ],
          "heatmap": [
           {
            "colorbar": {
             "outlinewidth": 0,
             "ticks": ""
            },
            "colorscale": [
             [
              0,
              "#0d0887"
             ],
             [
              0.1111111111111111,
              "#46039f"
             ],
             [
              0.2222222222222222,
              "#7201a8"
             ],
             [
              0.3333333333333333,
              "#9c179e"
             ],
             [
              0.4444444444444444,
              "#bd3786"
             ],
             [
              0.5555555555555556,
              "#d8576b"
             ],
             [
              0.6666666666666666,
              "#ed7953"
             ],
             [
              0.7777777777777778,
              "#fb9f3a"
             ],
             [
              0.8888888888888888,
              "#fdca26"
             ],
             [
              1,
              "#f0f921"
             ]
            ],
            "type": "heatmap"
           }
          ],
          "heatmapgl": [
           {
            "colorbar": {
             "outlinewidth": 0,
             "ticks": ""
            },
            "colorscale": [
             [
              0,
              "#0d0887"
             ],
             [
              0.1111111111111111,
              "#46039f"
             ],
             [
              0.2222222222222222,
              "#7201a8"
             ],
             [
              0.3333333333333333,
              "#9c179e"
             ],
             [
              0.4444444444444444,
              "#bd3786"
             ],
             [
              0.5555555555555556,
              "#d8576b"
             ],
             [
              0.6666666666666666,
              "#ed7953"
             ],
             [
              0.7777777777777778,
              "#fb9f3a"
             ],
             [
              0.8888888888888888,
              "#fdca26"
             ],
             [
              1,
              "#f0f921"
             ]
            ],
            "type": "heatmapgl"
           }
          ],
          "histogram": [
           {
            "marker": {
             "pattern": {
              "fillmode": "overlay",
              "size": 10,
              "solidity": 0.2
             }
            },
            "type": "histogram"
           }
          ],
          "histogram2d": [
           {
            "colorbar": {
             "outlinewidth": 0,
             "ticks": ""
            },
            "colorscale": [
             [
              0,
              "#0d0887"
             ],
             [
              0.1111111111111111,
              "#46039f"
             ],
             [
              0.2222222222222222,
              "#7201a8"
             ],
             [
              0.3333333333333333,
              "#9c179e"
             ],
             [
              0.4444444444444444,
              "#bd3786"
             ],
             [
              0.5555555555555556,
              "#d8576b"
             ],
             [
              0.6666666666666666,
              "#ed7953"
             ],
             [
              0.7777777777777778,
              "#fb9f3a"
             ],
             [
              0.8888888888888888,
              "#fdca26"
             ],
             [
              1,
              "#f0f921"
             ]
            ],
            "type": "histogram2d"
           }
          ],
          "histogram2dcontour": [
           {
            "colorbar": {
             "outlinewidth": 0,
             "ticks": ""
            },
            "colorscale": [
             [
              0,
              "#0d0887"
             ],
             [
              0.1111111111111111,
              "#46039f"
             ],
             [
              0.2222222222222222,
              "#7201a8"
             ],
             [
              0.3333333333333333,
              "#9c179e"
             ],
             [
              0.4444444444444444,
              "#bd3786"
             ],
             [
              0.5555555555555556,
              "#d8576b"
             ],
             [
              0.6666666666666666,
              "#ed7953"
             ],
             [
              0.7777777777777778,
              "#fb9f3a"
             ],
             [
              0.8888888888888888,
              "#fdca26"
             ],
             [
              1,
              "#f0f921"
             ]
            ],
            "type": "histogram2dcontour"
           }
          ],
          "mesh3d": [
           {
            "colorbar": {
             "outlinewidth": 0,
             "ticks": ""
            },
            "type": "mesh3d"
           }
          ],
          "parcoords": [
           {
            "line": {
             "colorbar": {
              "outlinewidth": 0,
              "ticks": ""
             }
            },
            "type": "parcoords"
           }
          ],
          "pie": [
           {
            "automargin": true,
            "type": "pie"
           }
          ],
          "scatter": [
           {
            "fillpattern": {
             "fillmode": "overlay",
             "size": 10,
             "solidity": 0.2
            },
            "type": "scatter"
           }
          ],
          "scatter3d": [
           {
            "line": {
             "colorbar": {
              "outlinewidth": 0,
              "ticks": ""
             }
            },
            "marker": {
             "colorbar": {
              "outlinewidth": 0,
              "ticks": ""
             }
            },
            "type": "scatter3d"
           }
          ],
          "scattercarpet": [
           {
            "marker": {
             "colorbar": {
              "outlinewidth": 0,
              "ticks": ""
             }
            },
            "type": "scattercarpet"
           }
          ],
          "scattergeo": [
           {
            "marker": {
             "colorbar": {
              "outlinewidth": 0,
              "ticks": ""
             }
            },
            "type": "scattergeo"
           }
          ],
          "scattergl": [
           {
            "marker": {
             "colorbar": {
              "outlinewidth": 0,
              "ticks": ""
             }
            },
            "type": "scattergl"
           }
          ],
          "scattermapbox": [
           {
            "marker": {
             "colorbar": {
              "outlinewidth": 0,
              "ticks": ""
             }
            },
            "type": "scattermapbox"
           }
          ],
          "scatterpolar": [
           {
            "marker": {
             "colorbar": {
              "outlinewidth": 0,
              "ticks": ""
             }
            },
            "type": "scatterpolar"
           }
          ],
          "scatterpolargl": [
           {
            "marker": {
             "colorbar": {
              "outlinewidth": 0,
              "ticks": ""
             }
            },
            "type": "scatterpolargl"
           }
          ],
          "scatterternary": [
           {
            "marker": {
             "colorbar": {
              "outlinewidth": 0,
              "ticks": ""
             }
            },
            "type": "scatterternary"
           }
          ],
          "surface": [
           {
            "colorbar": {
             "outlinewidth": 0,
             "ticks": ""
            },
            "colorscale": [
             [
              0,
              "#0d0887"
             ],
             [
              0.1111111111111111,
              "#46039f"
             ],
             [
              0.2222222222222222,
              "#7201a8"
             ],
             [
              0.3333333333333333,
              "#9c179e"
             ],
             [
              0.4444444444444444,
              "#bd3786"
             ],
             [
              0.5555555555555556,
              "#d8576b"
             ],
             [
              0.6666666666666666,
              "#ed7953"
             ],
             [
              0.7777777777777778,
              "#fb9f3a"
             ],
             [
              0.8888888888888888,
              "#fdca26"
             ],
             [
              1,
              "#f0f921"
             ]
            ],
            "type": "surface"
           }
          ],
          "table": [
           {
            "cells": {
             "fill": {
              "color": "#EBF0F8"
             },
             "line": {
              "color": "white"
             }
            },
            "header": {
             "fill": {
              "color": "#C8D4E3"
             },
             "line": {
              "color": "white"
             }
            },
            "type": "table"
           }
          ]
         },
         "layout": {
          "annotationdefaults": {
           "arrowcolor": "#2a3f5f",
           "arrowhead": 0,
           "arrowwidth": 1
          },
          "autotypenumbers": "strict",
          "coloraxis": {
           "colorbar": {
            "outlinewidth": 0,
            "ticks": ""
           }
          },
          "colorscale": {
           "diverging": [
            [
             0,
             "#8e0152"
            ],
            [
             0.1,
             "#c51b7d"
            ],
            [
             0.2,
             "#de77ae"
            ],
            [
             0.3,
             "#f1b6da"
            ],
            [
             0.4,
             "#fde0ef"
            ],
            [
             0.5,
             "#f7f7f7"
            ],
            [
             0.6,
             "#e6f5d0"
            ],
            [
             0.7,
             "#b8e186"
            ],
            [
             0.8,
             "#7fbc41"
            ],
            [
             0.9,
             "#4d9221"
            ],
            [
             1,
             "#276419"
            ]
           ],
           "sequential": [
            [
             0,
             "#0d0887"
            ],
            [
             0.1111111111111111,
             "#46039f"
            ],
            [
             0.2222222222222222,
             "#7201a8"
            ],
            [
             0.3333333333333333,
             "#9c179e"
            ],
            [
             0.4444444444444444,
             "#bd3786"
            ],
            [
             0.5555555555555556,
             "#d8576b"
            ],
            [
             0.6666666666666666,
             "#ed7953"
            ],
            [
             0.7777777777777778,
             "#fb9f3a"
            ],
            [
             0.8888888888888888,
             "#fdca26"
            ],
            [
             1,
             "#f0f921"
            ]
           ],
           "sequentialminus": [
            [
             0,
             "#0d0887"
            ],
            [
             0.1111111111111111,
             "#46039f"
            ],
            [
             0.2222222222222222,
             "#7201a8"
            ],
            [
             0.3333333333333333,
             "#9c179e"
            ],
            [
             0.4444444444444444,
             "#bd3786"
            ],
            [
             0.5555555555555556,
             "#d8576b"
            ],
            [
             0.6666666666666666,
             "#ed7953"
            ],
            [
             0.7777777777777778,
             "#fb9f3a"
            ],
            [
             0.8888888888888888,
             "#fdca26"
            ],
            [
             1,
             "#f0f921"
            ]
           ]
          },
          "colorway": [
           "#636efa",
           "#EF553B",
           "#00cc96",
           "#ab63fa",
           "#FFA15A",
           "#19d3f3",
           "#FF6692",
           "#B6E880",
           "#FF97FF",
           "#FECB52"
          ],
          "font": {
           "color": "#2a3f5f"
          },
          "geo": {
           "bgcolor": "white",
           "lakecolor": "white",
           "landcolor": "#E5ECF6",
           "showlakes": true,
           "showland": true,
           "subunitcolor": "white"
          },
          "hoverlabel": {
           "align": "left"
          },
          "hovermode": "closest",
          "mapbox": {
           "style": "light"
          },
          "paper_bgcolor": "white",
          "plot_bgcolor": "#E5ECF6",
          "polar": {
           "angularaxis": {
            "gridcolor": "white",
            "linecolor": "white",
            "ticks": ""
           },
           "bgcolor": "#E5ECF6",
           "radialaxis": {
            "gridcolor": "white",
            "linecolor": "white",
            "ticks": ""
           }
          },
          "scene": {
           "xaxis": {
            "backgroundcolor": "#E5ECF6",
            "gridcolor": "white",
            "gridwidth": 2,
            "linecolor": "white",
            "showbackground": true,
            "ticks": "",
            "zerolinecolor": "white"
           },
           "yaxis": {
            "backgroundcolor": "#E5ECF6",
            "gridcolor": "white",
            "gridwidth": 2,
            "linecolor": "white",
            "showbackground": true,
            "ticks": "",
            "zerolinecolor": "white"
           },
           "zaxis": {
            "backgroundcolor": "#E5ECF6",
            "gridcolor": "white",
            "gridwidth": 2,
            "linecolor": "white",
            "showbackground": true,
            "ticks": "",
            "zerolinecolor": "white"
           }
          },
          "shapedefaults": {
           "line": {
            "color": "#2a3f5f"
           }
          },
          "ternary": {
           "aaxis": {
            "gridcolor": "white",
            "linecolor": "white",
            "ticks": ""
           },
           "baxis": {
            "gridcolor": "white",
            "linecolor": "white",
            "ticks": ""
           },
           "bgcolor": "#E5ECF6",
           "caxis": {
            "gridcolor": "white",
            "linecolor": "white",
            "ticks": ""
           }
          },
          "title": {
           "x": 0.05
          },
          "xaxis": {
           "automargin": true,
           "gridcolor": "white",
           "linecolor": "white",
           "ticks": "",
           "title": {
            "standoff": 15
           },
           "zerolinecolor": "white",
           "zerolinewidth": 2
          },
          "yaxis": {
           "automargin": true,
           "gridcolor": "white",
           "linecolor": "white",
           "ticks": "",
           "title": {
            "standoff": 15
           },
           "zerolinecolor": "white",
           "zerolinewidth": 2
          }
         }
        },
        "title": {
         "text": "Mode Choice Calibration Constants"
        },
        "width": 800,
        "xaxis": {
         "title": {
          "text": "Iteration"
         }
        },
        "yaxis": {
         "title": {
          "text": "Constant Value"
         }
        }
       }
      },
      "text/html": [
       "<div>                            <div id=\"6c8c7af2-30b3-4eeb-b064-324738241113\" class=\"plotly-graph-div\" style=\"height:400px; width:800px;\"></div>            <script type=\"text/javascript\">                require([\"plotly\"], function(Plotly) {                    window.PLOTLYENV=window.PLOTLYENV || {};                                    if (document.getElementById(\"6c8c7af2-30b3-4eeb-b064-324738241113\")) {                    Plotly.newPlot(                        \"6c8c7af2-30b3-4eeb-b064-324738241113\",                        [{\"mode\":\"lines+markers\",\"name\":\"HBO Ok asc_nonmotor_0veh\",\"x\":[40,39,38,37,36,35,34,33,32,31,30,29,28,27,26,25,24,23,22,21,20,19,18,17,16,15,14,13,12,11,10,9,8,7,6,5,4,3,2,1,0],\"y\":[2.974900007247925,2.9686999320983887,2.961899995803833,2.954400062561035,2.946199893951416,2.9370999336242676,2.9270999431610107,2.916100025177002,2.9040000438690186,2.8905999660491943,2.8757998943328857,2.859499931335449,2.8415000438690186,2.8215999603271484,2.799499988555908,2.775099992752075,2.747999906539917,2.717900037765503,2.684499979019165,2.64739990234375,2.6061999797821045,2.56030011177063,2.509200096130371,2.452199935913086,2.3886001110076904,2.3176000118255615,2.238300085067749,2.149600028991699,2.050299882888794,1.9391000270843506,1.8144999742507935,1.6749000549316406,1.5187000036239624,1.3443000316619873,1.1505999565124512,0.9381999969482422,0.7110000252723694,0.47940000891685486,0.263700008392334,0.0940999984741211,0.0],\"type\":\"scatter\"},{\"mode\":\"lines+markers\",\"name\":\"HBO Ok asc_nonmotor_1veh\",\"x\":[40,39,38,37,36,35,34,33,32,31,30,29,28,27,26,25,24,23,22,21,20,19,18,17,16,15,14,13,12,11,10,9,8,7,6,5,4,3,2,1,0],\"y\":[0.3084000051021576,0.30820000171661377,0.30799999833106995,0.3077000081539154,0.3073999881744385,0.30709999799728394,0.3066999912261963,0.30630001425743103,0.3057999908924103,0.3052999973297119,0.30469998717308044,0.30399999022483826,0.30320000648498535,0.30230000615119934,0.3012000024318695,0.29989999532699585,0.29829999804496765,0.2964000105857849,0.29409998655319214,0.2912999987602234,0.28780001401901245,0.2833999991416931,0.27799999713897705,0.2712000012397766,0.26260000467300415,0.251800000667572,0.23810000717639923,0.22089999914169312,0.19920000433921814,0.1720000058412552,0.1378999948501587,0.09570000320672989,0.04390000179409981,-0.018300000578165054,-0.09080000221729279,-0.1704999953508377,-0.24899999797344208,-0.30809998512268066,-0.31529998779296875,-0.22589999437332153,0.0],\"type\":\"scatter\"},{\"mode\":\"lines+markers\",\"name\":\"HBO Ok asc_nonmotor_2veh\",\"x\":[40,39,38,37,36,35,34,33,32,31,30,29,28,27,26,25,24,23,22,21,20,19,18,17,16,15,14,13,12,11,10,9,8,7,6,5,4,3,2,1,0],\"y\":[-0.05090000107884407,-0.051100000739097595,-0.05130000039935112,-0.051500000059604645,-0.05169999971985817,-0.051899999380111694,-0.05220000073313713,-0.05249999836087227,-0.05290000140666962,-0.053300000727176666,-0.05380000174045563,-0.0544000007212162,-0.05510000139474869,-0.05590000003576279,-0.0568000003695488,-0.05790000036358833,-0.05920000001788139,-0.0608999989926815,-0.06300000101327896,-0.06549999862909317,-0.06870000064373016,-0.07270000129938126,-0.07779999822378159,-0.08429999649524689,-0.09260000288486481,-0.10320000350475311,-0.11670000106096268,-0.1339000016450882,-0.15569999814033508,-0.18320000171661377,-0.21770000457763672,-0.2605000138282776,-0.3127000033855438,-0.37459999322891235,-0.4449999928474426,-0.5187000036239624,-0.5831000208854675,-0.6129000186920166,-0.5641999840736389,-0.3767000138759613,0.0],\"type\":\"scatter\"},{\"mode\":\"lines+markers\",\"name\":\"HBO Ok asc_transit_0veh\",\"x\":[40,39,38,37,36,35,34,33,32,31,30,29,28,27,26,25,24,23,22,21,20,19,18,17,16,15,14,13,12,11,10,9,8,7,6,5,4,3,2,1,0],\"y\":[2.077699899673462,2.0778000354766846,2.077899932861328,2.0780999660491943,2.0782999992370605,2.0785999298095703,2.078900098800659,2.0792999267578125,2.0797998905181885,2.0803000926971436,2.080899953842163,2.0815999507904053,2.08240008354187,2.0833001136779785,2.0843000411987305,2.085400104522705,2.0866000652313232,2.0878000259399414,2.0889999866485596,2.0899999141693115,2.0906999111175537,2.09089994430542,2.090399980545044,2.0887999534606934,2.085599899291992,2.0803000926971436,2.0720999240875244,2.0601000785827637,2.043100118637085,2.019700050354004,1.9880000352859497,1.9457000494003296,1.8898999691009521,1.8167999982833862,1.72160005569458,1.598099946975708,1.4378999471664429,1.229099988937378,0.9523000121116638,0.5698999762535095,0.0],\"type\":\"scatter\"},{\"mode\":\"lines+markers\",\"name\":\"HBO Ok asc_transit_1veh\",\"x\":[40,39,38,37,36,35,34,33,32,31,30,29,28,27,26,25,24,23,22,21,20,19,18,17,16,15,14,13,12,11,10,9,8,7,6,5,4,3,2,1,0],\"y\":[-1.517199993133545,-1.5189000368118286,-1.520799994468689,-1.5227999687194824,-1.5250999927520752,-1.527500033378601,-1.5300999879837036,-1.5329999923706055,-1.5361000299453735,-1.5393999814987183,-1.5428999662399292,-1.5465999841690063,-1.5505000352859497,-1.5544999837875366,-1.558500051498413,-1.562399983406067,-1.566100001335144,-1.5693999528884888,-1.5721999406814575,-1.5743000507354736,-1.5752999782562256,-1.5749000310897827,-1.5729000568389893,-1.5687999725341797,-1.5621000528335571,-1.55239999294281,-1.539199948310852,-1.5220999717712402,-1.500499963760376,-1.4739999771118164,-1.4419000148773193,-1.4035999774932861,-1.3581000566482544,-1.3041000366210938,-1.2390999794006348,-1.1588000059127808,-1.055999994277954,-0.9182000160217285,-0.7253000140190125,-0.44290000200271606,0.0],\"type\":\"scatter\"},{\"mode\":\"lines+markers\",\"name\":\"HBO Ok asc_transit_2veh\",\"x\":[40,39,38,37,36,35,34,33,32,31,30,29,28,27,26,25,24,23,22,21,20,19,18,17,16,15,14,13,12,11,10,9,8,7,6,5,4,3,2,1,0],\"y\":[-2.2302000522613525,-2.2321999073028564,-2.2344000339508057,-2.2367000579833984,-2.239300012588501,-2.2421000003814697,-2.2451999187469482,-2.248500108718872,-2.2520999908447266,-2.25600004196167,-2.2600998878479004,-2.2644999027252197,-2.2690999507904053,-2.273900032043457,-2.2788000106811523,-2.283799886703491,-2.2887001037597656,-2.2934999465942383,-2.2978999614715576,-2.301800012588501,-2.305000066757202,-2.3071999549865723,-2.3080999851226807,-2.3073999881744385,-2.304800033569336,-2.2999000549316406,-2.2923998832702637,-2.281899929046631,-2.267899990081787,-2.25,-2.227400064468384,-2.1989998817443848,-2.1631999015808105,-2.11680006980896,-2.054500102996826,-1.9666999578475952,-1.8366999626159668,-1.636299967765808,-1.3193999528884888,-0.8127999901771545,0.0],\"type\":\"scatter\"},{\"mode\":\"lines+markers\",\"name\":\"HBO Ok asc_shared_1veh\",\"x\":[40,39,38,37,36,35,34,33,32,31,30,29,28,27,26,25,24,23,22,21,20,19,18,17,16,15,14,13,12,11,10,9,8,7,6,5,4,3,2,1,0],\"y\":[-0.28850001096725464,-0.28850001096725464,-0.28850001096725464,-0.28850001096725464,-0.28850001096725464,-0.28850001096725464,-0.28850001096725464,-0.28850001096725464,-0.28850001096725464,-0.28850001096725464,-0.28850001096725464,-0.28850001096725464,-0.28850001096725464,-0.28839999437332153,-0.2883000075817108,-0.2881999909877777,-0.2879999876022339,-0.28780001401901245,-0.2874999940395355,-0.2870999872684479,-0.2865999937057495,-0.2858999967575073,-0.2849999964237213,-0.2838999927043915,-0.2824000120162964,-0.28049999475479126,-0.27799999713897705,-0.27469998598098755,-0.2705000042915344,-0.26499998569488525,-0.257999986410141,-0.24899999797344208,-0.23759999871253967,-0.2231999933719635,-0.2053000032901764,-0.18320000171661377,-0.15629999339580536,-0.1242000013589859,-0.0869000032544136,-0.04490000009536743,0.0],\"type\":\"scatter\"},{\"mode\":\"lines+markers\",\"name\":\"HBO Ok asc_shared_2veh\",\"x\":[40,39,38,37,36,35,34,33,32,31,30,29,28,27,26,25,24,23,22,21,20,19,18,17,16,15,14,13,12,11,10,9,8,7,6,5,4,3,2,1,0],\"y\":[0.0877000018954277,0.0877000018954277,0.0877000018954277,0.0877000018954277,0.0877000018954277,0.0877000018954277,0.0877000018954277,0.0877000018954277,0.0877000018954277,0.0877000018954277,0.0877000018954277,0.0877000018954277,0.0877000018954277,0.0877000018954277,0.0877000018954277,0.0877000018954277,0.0877000018954277,0.0877000018954277,0.0877000018954277,0.0877000018954277,0.0877000018954277,0.0877000018954277,0.0877000018954277,0.0877000018954277,0.0877000018954277,0.0877000018954277,0.0877000018954277,0.08760000020265579,0.08739999681711197,0.08720000088214874,0.0868000015616417,0.08619999885559082,0.08529999852180481,0.08380000293254852,0.08160000294446945,0.07819999754428864,0.07289999723434448,0.06480000168085098,0.05209999904036522,0.032099999487400055,0.0],\"type\":\"scatter\"},{\"mode\":\"lines+markers\",\"name\":\"HBO Ok asc_sr3_all\",\"x\":[40,39,38,37,36,35,34,33,32,31,30,29,28,27,26,25,24,23,22,21,20,19,18,17,16,15,14,13,12,11,10,9,8,7,6,5,4,3,2,1,0],\"y\":[0.16200000047683716,0.16200000047683716,0.16200000047683716,0.16200000047683716,0.16200000047683716,0.16200000047683716,0.16200000047683716,0.16200000047683716,0.16200000047683716,0.16200000047683716,0.16200000047683716,0.16200000047683716,0.16200000047683716,0.16200000047683716,0.16200000047683716,0.16200000047683716,0.16200000047683716,0.16200000047683716,0.16200000047683716,0.16200000047683716,0.16200000047683716,0.16200000047683716,0.16200000047683716,0.16200000047683716,0.16189999878406525,0.16179999709129333,0.16169999539852142,0.1615000069141388,0.16120000183582306,0.1606999933719635,0.1599999964237213,0.15889999270439148,0.15729999542236328,0.15479999780654907,0.1509999930858612,0.14509999752044678,0.13600000739097595,0.121799997985363,0.09929999709129333,0.06260000169277191,0.0],\"type\":\"scatter\"},{\"mode\":\"lines+markers\",\"name\":\"HBO Ok asc_hov_all\",\"x\":[40,39,38,37,36,35,34,33,32,31,30,29,28,27,26,25,24,23,22,21,20,19,18,17,16,15,14,13,12,11,10,9,8,7,6,5,4,3,2,1,0],\"y\":[0.08749999850988388,0.08749999850988388,0.08749999850988388,0.08749999850988388,0.08749999850988388,0.08749999850988388,0.08749999850988388,0.08749999850988388,0.08749999850988388,0.08749999850988388,0.08749999850988388,0.08749999850988388,0.08749999850988388,0.08749999850988388,0.08749999850988388,0.08749999850988388,0.08749999850988388,0.08749999850988388,0.08749999850988388,0.08749999850988388,0.08749999850988388,0.08749999850988388,0.08749999850988388,0.08749999850988388,0.08749999850988388,0.08749999850988388,0.08749999850988388,0.08749999850988388,0.08749999850988388,0.08749999850988388,0.08749999850988388,0.08749999850988388,0.08749999850988388,0.08749999850988388,0.08749999850988388,0.08749999850988388,0.08749999850988388,0.08749999850988388,0.08749999850988388,0.08749999850988388,0.08749999850988388],\"type\":\"scatter\"},{\"mode\":\"lines+markers\",\"name\":\"HBO Ok asc_toll_all\",\"x\":[40,39,38,37,36,35,34,33,32,31,30,29,28,27,26,25,24,23,22,21,20,19,18,17,16,15,14,13,12,11,10,9,8,7,6,5,4,3,2,1,0],\"y\":[-0.3499999940395355,-0.3499999940395355,-0.3499999940395355,-0.3499999940395355,-0.3499999940395355,-0.3499999940395355,-0.3499999940395355,-0.3499999940395355,-0.3499999940395355,-0.3499999940395355,-0.3499999940395355,-0.3499999940395355,-0.3499999940395355,-0.3499999940395355,-0.3499999940395355,-0.3499999940395355,-0.3499999940395355,-0.3499999940395355,-0.3499999940395355,-0.3499999940395355,-0.3499999940395355,-0.3499999940395355,-0.3499999940395355,-0.3499999940395355,-0.3499999940395355,-0.3499999940395355,-0.3499999940395355,-0.3499999940395355,-0.3499999940395355,-0.3499999940395355,-0.3499999940395355,-0.3499999940395355,-0.3499999940395355,-0.3499999940395355,-0.3499999940395355,-0.3499999940395355,-0.3499999940395355,-0.3499999940395355,-0.3499999940395355,-0.3499999940395355,-0.3499999940395355],\"type\":\"scatter\"},{\"mode\":\"lines+markers\",\"name\":\"HBO Ok asc_BRT_all\",\"x\":[40,39,38,37,36,35,34,33,32,31,30,29,28,27,26,25,24,23,22,21,20,19,18,17,16,15,14,13,12,11,10,9,8,7,6,5,4,3,2,1,0],\"y\":[-0.28529998660087585,-0.2815000116825104,-0.2777000069618225,-0.27390000224113464,-0.2700999975204468,-0.2662999927997589,-0.2624000012874603,-0.25859999656677246,-0.2547000050544739,-0.250900000333786,-0.24699999392032623,-0.24320000410079956,-0.2393999993801117,-0.23559999465942383,-0.23190000653266907,-0.22830000519752502,-0.2248000055551529,-0.22139999270439148,-0.21819999814033508,-0.2152000069618225,-0.21250000596046448,-0.210099995136261,-0.20810000598430634,-0.20659999549388885,-0.20559999346733093,-0.20509999990463257,-0.20520000159740448,-0.20589999854564667,-0.20720000565052032,-0.20909999310970306,-0.21140000224113464,-0.21379999816417694,-0.2160000056028366,-0.2175000011920929,-0.21770000457763672,-0.21619999408721924,-0.21320000290870667,-0.21070000529289246,-0.21070000529289246,-0.18649999797344208,0.0],\"type\":\"scatter\"},{\"mode\":\"lines+markers\",\"name\":\"HBO Ok asc_LRT_all\",\"x\":[40,39,38,37,36,35,34,33,32,31,30,29,28,27,26,25,24,23,22,21,20,19,18,17,16,15,14,13,12,11,10,9,8,7,6,5,4,3,2,1,0],\"y\":[0.3140000104904175,0.3147999942302704,0.3156999945640564,0.3167000114917755,0.31779998540878296,0.3190000057220459,0.32030001282691956,0.32179999351501465,0.32339999079704285,0.32519999146461487,0.32710000872612,0.32919999957084656,0.33149999380111694,0.33399999141693115,0.3366999924182892,0.3395000100135803,0.3425000011920929,0.3456000089645386,0.34869998693466187,0.35179999470710754,0.3547999858856201,0.35760000348091125,0.36000001430511475,0.3619000017642975,0.3630000054836273,0.36309999227523804,0.3619999885559082,0.35929998755455017,0.3549000024795532,0.3483999967575073,0.33959999680519104,0.32829999923706055,0.31439998745918274,0.29789999127388,0.27900001406669617,0.25780001282691956,0.23420000076293945,0.20640000700950623,0.16840000450611115,0.10509999841451645,0.0],\"type\":\"scatter\"},{\"mode\":\"lines+markers\",\"name\":\"HBO Ok asc_CRT_all\",\"x\":[40,39,38,37,36,35,34,33,32,31,30,29,28,27,26,25,24,23,22,21,20,19,18,17,16,15,14,13,12,11,10,9,8,7,6,5,4,3,2,1,0],\"y\":[1.4869999885559082,1.468400001525879,1.4499000310897827,1.43149995803833,1.413100004196167,1.3947999477386475,1.3766000270843506,1.3585000038146973,1.340399980545044,1.3223999738693237,1.3044999837875366,1.2865999937057495,1.2688000202178955,1.2510000467300415,1.233199954032898,1.2152999639511108,1.1972999572753906,1.1790000200271606,1.1603000164031982,1.1411999464035034,1.121399998664856,1.1008000373840332,1.0789999961853027,1.055899977684021,1.0311000347137451,1.0041999816894531,0.9747999906539917,0.9424999952316284,0.9065999984741211,0.866599977016449,0.8217999935150146,0.771399974822998,0.7146999835968018,0.651199996471405,0.5809000134468079,0.5047000050544739,0.4253999888896942,0.34769999980926514,0.2752000093460083,0.19370000064373016,0.0],\"type\":\"scatter\"},{\"mode\":\"lines+markers\",\"name\":\"HBO Ok asc_driveacc_1veh\",\"x\":[40,39,38,37,36,35,34,33,32,31,30,29,28,27,26,25,24,23,22,21,20,19,18,17,16,15,14,13,12,11,10,9,8,7,6,5,4,3,2,1,0],\"y\":[-1.7310999631881714,-1.7252000570297241,-1.718999981880188,-1.712499976158142,-1.7057000398635864,-1.6985000371932983,-1.690999984741211,-1.6829999685287476,-1.6746000051498413,-1.6657999753952026,-1.6563999652862549,-1.6464999914169312,-1.6361000537872314,-1.625100016593933,-1.6134999990463257,-1.601199984550476,-1.5881999731063843,-1.5744999647140503,-1.559999942779541,-1.544700026512146,-1.528499960899353,-1.5113999843597412,-1.4931999444961548,-1.4738999605178833,-1.4532999992370605,-1.4311000108718872,-1.407099962234497,-1.38100004196167,-1.3523000478744507,-1.3203999996185303,-1.2848000526428223,-1.2445000410079956,-1.1986000537872314,-1.1455999612808228,-1.0835000276565552,-1.0089000463485718,-0.9158999919891357,-0.7930999994277954,-0.6198999881744385,-0.36480000615119934,0.0],\"type\":\"scatter\"},{\"mode\":\"lines+markers\",\"name\":\"HBO Ok asc_driveacc_2veh\",\"x\":[40,39,38,37,36,35,34,33,32,31,30,29,28,27,26,25,24,23,22,21,20,19,18,17,16,15,14,13,12,11,10,9,8,7,6,5,4,3,2,1,0],\"y\":[-1.249400019645691,-1.243399977684021,-1.2371000051498413,-1.2303999662399292,-1.2233999967575073,-1.215999960899353,-1.208299994468689,-1.2001999616622925,-1.19159996509552,-1.1825000047683716,-1.1728999614715576,-1.1628999710083008,-1.1523000001907349,-1.1411000490188599,-1.1292999982833862,-1.1167999505996704,-1.103700041770935,-1.089900016784668,-1.0752999782562256,-1.0599000453948975,-1.0436999797821045,-1.0264999866485596,-1.0082999467849731,-0.9889000058174133,-0.9682000279426575,-0.9459999799728394,-0.9218999743461609,-0.8956000208854675,-0.866599977016449,-0.8343999981880188,-0.79830002784729,-0.7577000260353088,-0.7120000123977661,-0.6606000065803528,-0.6029999852180481,-0.5389000177383423,-0.4675999879837036,-0.38690000772476196,-0.290800005197525,-0.1671999990940094,0.0],\"type\":\"scatter\"},{\"mode\":\"lines+markers\",\"name\":\"HBO Ok asc_wBRT_all\",\"x\":[40,39,38,37,36,35,34,33,32,31,30,29,28,27,26,25,24,23,22,21,20,19,18,17,16,15,14,13,12,11,10,9,8,7,6,5,4,3,2,1,0],\"y\":[-0.2061000019311905,-0.20990000665187836,-0.21369999647140503,-0.2175000011920929,-0.22139999270439148,-0.22529999911785126,-0.22920000553131104,-0.23319999873638153,-0.23720000684261322,-0.24120000004768372,-0.24529999494552612,-0.24950000643730164,-0.25380000472068787,-0.2581000030040741,-0.26260000467300415,-0.2671999931335449,-0.2720000147819519,-0.27709999680519104,-0.2824000120162964,-0.2879999876022339,-0.2939000129699707,-0.3001999855041504,-0.3070000112056732,-0.314300000667572,-0.32199999690055847,-0.3303000032901764,-0.33899998664855957,-0.3481000065803528,-0.35749998688697815,-0.3668999969959259,-0.37610000371932983,-0.3846000134944916,-0.39169999957084656,-0.39640000462532043,-0.39739999175071716,-0.39320001006126404,-0.382099986076355,-0.3625999987125397,-0.3312000036239624,-0.2547000050544739,0.0],\"type\":\"scatter\"},{\"mode\":\"lines+markers\",\"name\":\"HBO Ok asc_wLRT_all\",\"x\":[40,39,38,37,36,35,34,33,32,31,30,29,28,27,26,25,24,23,22,21,20,19,18,17,16,15,14,13,12,11,10,9,8,7,6,5,4,3,2,1,0],\"y\":[0.4936999976634979,0.49470001459121704,0.4957999885082245,0.4970000088214874,0.4984000027179718,0.4999000132083893,0.5016000270843506,0.5034000277519226,0.5054000020027161,0.5076000094413757,0.5099999904632568,0.5127000212669373,0.5156000256538391,0.5187000036239624,0.5220999717712402,0.5256999731063843,0.5295000076293945,0.5335000157356262,0.5375999808311462,0.541700005531311,0.5457000136375427,0.5496000051498413,0.5532000064849854,0.5562999844551086,0.5587000250816345,0.5601999759674072,0.5605000257492065,0.5594000220298767,0.5565999746322632,0.5519000291824341,0.5450999736785889,0.5360999703407288,0.5248000025749207,0.5112000107765198,0.49549999833106995,0.47769999504089355,0.4569999873638153,0.4302000105381012,0.3853999972343445,0.2831999957561493,0.0],\"type\":\"scatter\"},{\"mode\":\"lines+markers\",\"name\":\"HBO Ok asc_wCRT_all\",\"x\":[40,39,38,37,36,35,34,33,32,31,30,29,28,27,26,25,24,23,22,21,20,19,18,17,16,15,14,13,12,11,10,9,8,7,6,5,4,3,2,1,0],\"y\":[1.5827000141143799,1.6062999963760376,1.6303000450134277,1.6548000574111938,1.679800033569336,1.705399990081787,1.731600046157837,1.7583999633789062,1.7858999967575073,1.8142000436782837,1.8431999683380127,1.8730000257492065,1.9035999774932861,1.934999942779541,1.9672000408172607,2.0000998973846436,2.033600091934204,2.067500114440918,2.1017000675201416,2.1359000205993652,2.169800043106079,2.2030999660491943,2.235100030899048,2.2653000354766846,2.292799949645996,2.316800117492676,2.3359999656677246,2.349100112915039,2.354300022125244,2.349600076675415,2.332200050354004,2.2990000247955322,2.2458999156951904,2.168100118637085,2.059999942779541,1.9151999950408936,1.726199984550476,1.483199954032898,1.1686999797821045,0.7343000173568726,0.0],\"type\":\"scatter\"},{\"mode\":\"lines+markers\",\"name\":\"HBO Ok asc_dBRT_all\",\"x\":[40,39,38,37,36,35,34,33,32,31,30,29,28,27,26,25,24,23,22,21,20,19,18,17,16,15,14,13,12,11,10,9,8,7,6,5,4,3,2,1,0],\"y\":[0.048700001090765,0.04089999943971634,0.032999999821186066,0.024900000542402267,0.016599999740719795,0.008200000040233135,-0.0003000000142492354,-0.008999999612569809,-0.017899999395012856,-0.027000000700354576,-0.03620000183582306,-0.04569999873638153,-0.055399999022483826,-0.06530000269412994,-0.07559999823570251,-0.08619999885559082,-0.09730000048875809,-0.10890000313520432,-0.12110000103712082,-0.13410000503063202,-0.14800000190734863,-0.16290000081062317,-0.17919999361038208,-0.19709999859333038,-0.21690000593662262,-0.23909999430179596,-0.26409998536109924,-0.2924000024795532,-0.3246000111103058,-0.3612000048160553,-0.40299999713897705,-0.45019999146461487,-0.5026999711990356,-0.559499979019165,-0.6177999973297119,-0.6718000173568726,-0.7110000252723694,-0.7182999849319458,-0.6644999980926514,-0.4790000021457672,0.0],\"type\":\"scatter\"},{\"mode\":\"lines+markers\",\"name\":\"HBO Ok asc_dLRT_all\",\"x\":[40,39,38,37,36,35,34,33,32,31,30,29,28,27,26,25,24,23,22,21,20,19,18,17,16,15,14,13,12,11,10,9,8,7,6,5,4,3,2,1,0],\"y\":[0.6384999752044678,0.633400022983551,0.6280999779701233,0.6226000189781189,0.6168000102043152,0.61080002784729,0.6044999957084656,0.5978999733924866,0.5910000205039978,0.5838000178337097,0.576200008392334,0.5681999921798706,0.5598000288009644,0.5508999824523926,0.5414999723434448,0.5315999984741211,0.5210999846458435,0.5098999738693237,0.49790000915527344,0.48510000109672546,0.47130000591278076,0.45649999380111694,0.4404999911785126,0.42309999465942383,0.4041999876499176,0.38339999318122864,0.3605000078678131,0.3352000117301941,0.30709999799728394,0.27570000290870667,0.24070000648498535,0.20190000534057617,0.1590999960899353,0.11299999803304672,0.06499999761581421,0.017899999395012856,-0.023399999365210533,-0.052400000393390656,-0.06159999966621399,-0.04490000009536743,0.0],\"type\":\"scatter\"},{\"mode\":\"lines+markers\",\"name\":\"HBO Ok asc_dCRT_all\",\"x\":[40,39,38,37,36,35,34,33,32,31,30,29,28,27,26,25,24,23,22,21,20,19,18,17,16,15,14,13,12,11,10,9,8,7,6,5,4,3,2,1,0],\"y\":[0.6958000063896179,0.7103000283241272,0.7246000170707703,0.7387999892234802,0.7527999877929688,0.7666000127792358,0.7802000045776367,0.7936999797821045,0.8069999814033508,0.8201000094413757,0.8330000042915344,0.8457000255584717,0.858299970626831,0.8707000017166138,0.8828999996185303,0.8949999809265137,0.9068999886512756,0.9186000227928162,0.9301999807357788,0.9416000247001648,0.9527999758720398,0.9638000130653381,0.9745000004768372,0.9850000143051147,0.9951000213623047,1.0047999620437622,1.0139000415802002,1.0223000049591064,1.0296000242233276,1.035599946975708,1.0396000146865845,1.0407999753952026,1.0378999710083008,1.0285999774932861,1.009600043296814,0.975600004196167,0.9186000227928162,0.8260999917984009,0.6782000064849854,0.43799999356269836,0.0],\"type\":\"scatter\"},{\"mode\":\"lines+markers\",\"name\":\"HBO Ok asc_bike_all\",\"x\":[40,39,38,37,36,35,34,33,32,31,30,29,28,27,26,25,24,23,22,21,20,19,18,17,16,15,14,13,12,11,10,9,8,7,6,5,4,3,2,1,0],\"y\":[-2.840100049972534,-2.8394999504089355,-2.8387999534606934,-2.838099956512451,-2.8373000621795654,-2.836400032043457,-2.835400104522705,-2.8343000411987305,-2.8331000804901123,-2.8317999839782715,-2.8303000926971436,-2.828700065612793,-2.826900005340576,-2.824899911880493,-2.822700023651123,-2.8203001022338867,-2.8176000118255615,-2.8145999908447266,-2.8111000061035156,-2.8071000576019287,-2.8025999069213867,-2.797300100326538,-2.7909998893737793,-2.783400058746338,-2.774199962615967,-2.762700080871582,-2.748199939727783,-2.7295000553131104,-2.7049999237060547,-2.672499895095825,-2.6289000511169434,-2.5697999000549316,-2.489300012588501,-2.3796000480651855,-2.2304999828338623,-2.029900074005127,-1.7654000520706177,-1.42739999294281,-1.0135999917984009,-0.5322999954223633,0.0],\"type\":\"scatter\"}],                        {\"height\":400,\"template\":{\"data\":{\"barpolar\":[{\"marker\":{\"line\":{\"color\":\"#E5ECF6\",\"width\":0.5},\"pattern\":{\"fillmode\":\"overlay\",\"size\":10,\"solidity\":0.2}},\"type\":\"barpolar\"}],\"bar\":[{\"error_x\":{\"color\":\"#2a3f5f\"},\"error_y\":{\"color\":\"#2a3f5f\"},\"marker\":{\"line\":{\"color\":\"#E5ECF6\",\"width\":0.5},\"pattern\":{\"fillmode\":\"overlay\",\"size\":10,\"solidity\":0.2}},\"type\":\"bar\"}],\"carpet\":[{\"aaxis\":{\"endlinecolor\":\"#2a3f5f\",\"gridcolor\":\"white\",\"linecolor\":\"white\",\"minorgridcolor\":\"white\",\"startlinecolor\":\"#2a3f5f\"},\"baxis\":{\"endlinecolor\":\"#2a3f5f\",\"gridcolor\":\"white\",\"linecolor\":\"white\",\"minorgridcolor\":\"white\",\"startlinecolor\":\"#2a3f5f\"},\"type\":\"carpet\"}],\"choropleth\":[{\"colorbar\":{\"outlinewidth\":0,\"ticks\":\"\"},\"type\":\"choropleth\"}],\"contourcarpet\":[{\"colorbar\":{\"outlinewidth\":0,\"ticks\":\"\"},\"type\":\"contourcarpet\"}],\"contour\":[{\"colorbar\":{\"outlinewidth\":0,\"ticks\":\"\"},\"colorscale\":[[0.0,\"#0d0887\"],[0.1111111111111111,\"#46039f\"],[0.2222222222222222,\"#7201a8\"],[0.3333333333333333,\"#9c179e\"],[0.4444444444444444,\"#bd3786\"],[0.5555555555555556,\"#d8576b\"],[0.6666666666666666,\"#ed7953\"],[0.7777777777777778,\"#fb9f3a\"],[0.8888888888888888,\"#fdca26\"],[1.0,\"#f0f921\"]],\"type\":\"contour\"}],\"heatmapgl\":[{\"colorbar\":{\"outlinewidth\":0,\"ticks\":\"\"},\"colorscale\":[[0.0,\"#0d0887\"],[0.1111111111111111,\"#46039f\"],[0.2222222222222222,\"#7201a8\"],[0.3333333333333333,\"#9c179e\"],[0.4444444444444444,\"#bd3786\"],[0.5555555555555556,\"#d8576b\"],[0.6666666666666666,\"#ed7953\"],[0.7777777777777778,\"#fb9f3a\"],[0.8888888888888888,\"#fdca26\"],[1.0,\"#f0f921\"]],\"type\":\"heatmapgl\"}],\"heatmap\":[{\"colorbar\":{\"outlinewidth\":0,\"ticks\":\"\"},\"colorscale\":[[0.0,\"#0d0887\"],[0.1111111111111111,\"#46039f\"],[0.2222222222222222,\"#7201a8\"],[0.3333333333333333,\"#9c179e\"],[0.4444444444444444,\"#bd3786\"],[0.5555555555555556,\"#d8576b\"],[0.6666666666666666,\"#ed7953\"],[0.7777777777777778,\"#fb9f3a\"],[0.8888888888888888,\"#fdca26\"],[1.0,\"#f0f921\"]],\"type\":\"heatmap\"}],\"histogram2dcontour\":[{\"colorbar\":{\"outlinewidth\":0,\"ticks\":\"\"},\"colorscale\":[[0.0,\"#0d0887\"],[0.1111111111111111,\"#46039f\"],[0.2222222222222222,\"#7201a8\"],[0.3333333333333333,\"#9c179e\"],[0.4444444444444444,\"#bd3786\"],[0.5555555555555556,\"#d8576b\"],[0.6666666666666666,\"#ed7953\"],[0.7777777777777778,\"#fb9f3a\"],[0.8888888888888888,\"#fdca26\"],[1.0,\"#f0f921\"]],\"type\":\"histogram2dcontour\"}],\"histogram2d\":[{\"colorbar\":{\"outlinewidth\":0,\"ticks\":\"\"},\"colorscale\":[[0.0,\"#0d0887\"],[0.1111111111111111,\"#46039f\"],[0.2222222222222222,\"#7201a8\"],[0.3333333333333333,\"#9c179e\"],[0.4444444444444444,\"#bd3786\"],[0.5555555555555556,\"#d8576b\"],[0.6666666666666666,\"#ed7953\"],[0.7777777777777778,\"#fb9f3a\"],[0.8888888888888888,\"#fdca26\"],[1.0,\"#f0f921\"]],\"type\":\"histogram2d\"}],\"histogram\":[{\"marker\":{\"pattern\":{\"fillmode\":\"overlay\",\"size\":10,\"solidity\":0.2}},\"type\":\"histogram\"}],\"mesh3d\":[{\"colorbar\":{\"outlinewidth\":0,\"ticks\":\"\"},\"type\":\"mesh3d\"}],\"parcoords\":[{\"line\":{\"colorbar\":{\"outlinewidth\":0,\"ticks\":\"\"}},\"type\":\"parcoords\"}],\"pie\":[{\"automargin\":true,\"type\":\"pie\"}],\"scatter3d\":[{\"line\":{\"colorbar\":{\"outlinewidth\":0,\"ticks\":\"\"}},\"marker\":{\"colorbar\":{\"outlinewidth\":0,\"ticks\":\"\"}},\"type\":\"scatter3d\"}],\"scattercarpet\":[{\"marker\":{\"colorbar\":{\"outlinewidth\":0,\"ticks\":\"\"}},\"type\":\"scattercarpet\"}],\"scattergeo\":[{\"marker\":{\"colorbar\":{\"outlinewidth\":0,\"ticks\":\"\"}},\"type\":\"scattergeo\"}],\"scattergl\":[{\"marker\":{\"colorbar\":{\"outlinewidth\":0,\"ticks\":\"\"}},\"type\":\"scattergl\"}],\"scattermapbox\":[{\"marker\":{\"colorbar\":{\"outlinewidth\":0,\"ticks\":\"\"}},\"type\":\"scattermapbox\"}],\"scatterpolargl\":[{\"marker\":{\"colorbar\":{\"outlinewidth\":0,\"ticks\":\"\"}},\"type\":\"scatterpolargl\"}],\"scatterpolar\":[{\"marker\":{\"colorbar\":{\"outlinewidth\":0,\"ticks\":\"\"}},\"type\":\"scatterpolar\"}],\"scatter\":[{\"fillpattern\":{\"fillmode\":\"overlay\",\"size\":10,\"solidity\":0.2},\"type\":\"scatter\"}],\"scatterternary\":[{\"marker\":{\"colorbar\":{\"outlinewidth\":0,\"ticks\":\"\"}},\"type\":\"scatterternary\"}],\"surface\":[{\"colorbar\":{\"outlinewidth\":0,\"ticks\":\"\"},\"colorscale\":[[0.0,\"#0d0887\"],[0.1111111111111111,\"#46039f\"],[0.2222222222222222,\"#7201a8\"],[0.3333333333333333,\"#9c179e\"],[0.4444444444444444,\"#bd3786\"],[0.5555555555555556,\"#d8576b\"],[0.6666666666666666,\"#ed7953\"],[0.7777777777777778,\"#fb9f3a\"],[0.8888888888888888,\"#fdca26\"],[1.0,\"#f0f921\"]],\"type\":\"surface\"}],\"table\":[{\"cells\":{\"fill\":{\"color\":\"#EBF0F8\"},\"line\":{\"color\":\"white\"}},\"header\":{\"fill\":{\"color\":\"#C8D4E3\"},\"line\":{\"color\":\"white\"}},\"type\":\"table\"}]},\"layout\":{\"annotationdefaults\":{\"arrowcolor\":\"#2a3f5f\",\"arrowhead\":0,\"arrowwidth\":1},\"autotypenumbers\":\"strict\",\"coloraxis\":{\"colorbar\":{\"outlinewidth\":0,\"ticks\":\"\"}},\"colorscale\":{\"diverging\":[[0,\"#8e0152\"],[0.1,\"#c51b7d\"],[0.2,\"#de77ae\"],[0.3,\"#f1b6da\"],[0.4,\"#fde0ef\"],[0.5,\"#f7f7f7\"],[0.6,\"#e6f5d0\"],[0.7,\"#b8e186\"],[0.8,\"#7fbc41\"],[0.9,\"#4d9221\"],[1,\"#276419\"]],\"sequential\":[[0.0,\"#0d0887\"],[0.1111111111111111,\"#46039f\"],[0.2222222222222222,\"#7201a8\"],[0.3333333333333333,\"#9c179e\"],[0.4444444444444444,\"#bd3786\"],[0.5555555555555556,\"#d8576b\"],[0.6666666666666666,\"#ed7953\"],[0.7777777777777778,\"#fb9f3a\"],[0.8888888888888888,\"#fdca26\"],[1.0,\"#f0f921\"]],\"sequentialminus\":[[0.0,\"#0d0887\"],[0.1111111111111111,\"#46039f\"],[0.2222222222222222,\"#7201a8\"],[0.3333333333333333,\"#9c179e\"],[0.4444444444444444,\"#bd3786\"],[0.5555555555555556,\"#d8576b\"],[0.6666666666666666,\"#ed7953\"],[0.7777777777777778,\"#fb9f3a\"],[0.8888888888888888,\"#fdca26\"],[1.0,\"#f0f921\"]]},\"colorway\":[\"#636efa\",\"#EF553B\",\"#00cc96\",\"#ab63fa\",\"#FFA15A\",\"#19d3f3\",\"#FF6692\",\"#B6E880\",\"#FF97FF\",\"#FECB52\"],\"font\":{\"color\":\"#2a3f5f\"},\"geo\":{\"bgcolor\":\"white\",\"lakecolor\":\"white\",\"landcolor\":\"#E5ECF6\",\"showlakes\":true,\"showland\":true,\"subunitcolor\":\"white\"},\"hoverlabel\":{\"align\":\"left\"},\"hovermode\":\"closest\",\"mapbox\":{\"style\":\"light\"},\"paper_bgcolor\":\"white\",\"plot_bgcolor\":\"#E5ECF6\",\"polar\":{\"angularaxis\":{\"gridcolor\":\"white\",\"linecolor\":\"white\",\"ticks\":\"\"},\"bgcolor\":\"#E5ECF6\",\"radialaxis\":{\"gridcolor\":\"white\",\"linecolor\":\"white\",\"ticks\":\"\"}},\"scene\":{\"xaxis\":{\"backgroundcolor\":\"#E5ECF6\",\"gridcolor\":\"white\",\"gridwidth\":2,\"linecolor\":\"white\",\"showbackground\":true,\"ticks\":\"\",\"zerolinecolor\":\"white\"},\"yaxis\":{\"backgroundcolor\":\"#E5ECF6\",\"gridcolor\":\"white\",\"gridwidth\":2,\"linecolor\":\"white\",\"showbackground\":true,\"ticks\":\"\",\"zerolinecolor\":\"white\"},\"zaxis\":{\"backgroundcolor\":\"#E5ECF6\",\"gridcolor\":\"white\",\"gridwidth\":2,\"linecolor\":\"white\",\"showbackground\":true,\"ticks\":\"\",\"zerolinecolor\":\"white\"}},\"shapedefaults\":{\"line\":{\"color\":\"#2a3f5f\"}},\"ternary\":{\"aaxis\":{\"gridcolor\":\"white\",\"linecolor\":\"white\",\"ticks\":\"\"},\"baxis\":{\"gridcolor\":\"white\",\"linecolor\":\"white\",\"ticks\":\"\"},\"bgcolor\":\"#E5ECF6\",\"caxis\":{\"gridcolor\":\"white\",\"linecolor\":\"white\",\"ticks\":\"\"}},\"title\":{\"x\":0.05},\"xaxis\":{\"automargin\":true,\"gridcolor\":\"white\",\"linecolor\":\"white\",\"ticks\":\"\",\"title\":{\"standoff\":15},\"zerolinecolor\":\"white\",\"zerolinewidth\":2},\"yaxis\":{\"automargin\":true,\"gridcolor\":\"white\",\"linecolor\":\"white\",\"ticks\":\"\",\"title\":{\"standoff\":15},\"zerolinecolor\":\"white\",\"zerolinewidth\":2}}},\"title\":{\"text\":\"Mode Choice Calibration Constants\"},\"width\":800,\"xaxis\":{\"title\":{\"text\":\"Iteration\"}},\"yaxis\":{\"title\":{\"text\":\"Constant Value\"}}},                        {\"responsive\": true}                    ).then(function(){\n",
       "                            \n",
       "var gd = document.getElementById('6c8c7af2-30b3-4eeb-b064-324738241113');\n",
       "var x = new MutationObserver(function (mutations, observer) {{\n",
       "        var display = window.getComputedStyle(gd).display;\n",
       "        if (!display || display === 'none') {{\n",
       "            console.log([gd, 'removed!']);\n",
       "            Plotly.purge(gd);\n",
       "            observer.disconnect();\n",
       "        }}\n",
       "}});\n",
       "\n",
       "// Listen for the removal of the full notebook cells\n",
       "var notebookContainer = gd.closest('#notebook-container');\n",
       "if (notebookContainer) {{\n",
       "    x.observe(notebookContainer, {childList: true});\n",
       "}}\n",
       "\n",
       "// Listen for the clearing of the current output cell\n",
       "var outputEl = gd.closest('.output');\n",
       "if (outputEl) {{\n",
       "    x.observe(outputEl, {childList: true});\n",
       "}}\n",
       "\n",
       "                        })                };                });            </script>        </div>"
      ]
     },
     "metadata": {},
     "output_type": "display_data"
    },
    {
     "data": {
      "application/vnd.plotly.v1+json": {
       "config": {
        "linkText": "Export to plot.ly",
        "plotlyServerURL": "https://plot.ly",
        "showLink": false
       },
       "data": [
        {
         "mode": "lines+markers",
         "name": "HBO Pk asc_nonmotor_0veh",
         "type": "scatter",
         "x": [
          40,
          39,
          38,
          37,
          36,
          35,
          34,
          33,
          32,
          31,
          30,
          29,
          28,
          27,
          26,
          25,
          24,
          23,
          22,
          21,
          20,
          19,
          18,
          17,
          16,
          15,
          14,
          13,
          12,
          11,
          10,
          9,
          8,
          7,
          6,
          5,
          4,
          3,
          2,
          1,
          0
         ],
         "y": [
          2.567500114440918,
          2.5638999938964844,
          2.5599000453948975,
          2.5553998947143555,
          2.550299882888794,
          2.544600009918213,
          2.538300037384033,
          2.5311999320983887,
          2.523200035095215,
          2.5143001079559326,
          2.504300117492676,
          2.4930999279022217,
          2.4804999828338623,
          2.4663000106811523,
          2.4502999782562256,
          2.432300090789795,
          2.412100076675415,
          2.3893001079559326,
          2.3636999130249023,
          2.3348000049591064,
          2.3022000789642334,
          2.265399932861328,
          2.223900079727173,
          2.177000045776367,
          2.1240999698638916,
          2.064300060272217,
          1.9967000484466553,
          1.920199990272522,
          1.8336000442504883,
          1.7355999946594238,
          1.6246999502182007,
          1.4990999698638916,
          1.357100009918213,
          1.1970000267028809,
          1.0176000595092773,
          0.8194000124931335,
          0.6065000295639038,
          0.3903999924659729,
          0.19419999420642853,
          0.05299999937415123,
          0
         ]
        },
        {
         "mode": "lines+markers",
         "name": "HBO Pk asc_nonmotor_1veh",
         "type": "scatter",
         "x": [
          40,
          39,
          38,
          37,
          36,
          35,
          34,
          33,
          32,
          31,
          30,
          29,
          28,
          27,
          26,
          25,
          24,
          23,
          22,
          21,
          20,
          19,
          18,
          17,
          16,
          15,
          14,
          13,
          12,
          11,
          10,
          9,
          8,
          7,
          6,
          5,
          4,
          3,
          2,
          1,
          0
         ],
         "y": [
          -0.26350000500679016,
          -0.2635999917984009,
          -0.263700008392334,
          -0.2637999951839447,
          -0.2639000117778778,
          -0.26409998536109924,
          -0.26429998874664307,
          -0.2644999921321869,
          -0.2646999955177307,
          -0.26489999890327454,
          -0.2651999890804291,
          -0.265500009059906,
          -0.26589998602867126,
          -0.2662999927997589,
          -0.2667999863624573,
          -0.26739999651908875,
          -0.26809999346733093,
          -0.2689000070095062,
          -0.27000001072883606,
          -0.27140000462532043,
          -0.27309998869895935,
          -0.275299996137619,
          -0.2782000005245209,
          -0.28200000524520874,
          -0.28690001368522644,
          -0.29339998960494995,
          -0.3019999861717224,
          -0.3131999969482422,
          -0.3278000056743622,
          -0.3467999994754791,
          -0.3711000084877014,
          -0.4020000100135803,
          -0.44040000438690186,
          -0.4867999851703644,
          -0.5400000214576721,
          -0.5953999757766724,
          -0.6413999795913696,
          -0.6535000205039978,
          -0.5885999798774719,
          -0.3869999945163727,
          0
         ]
        },
        {
         "mode": "lines+markers",
         "name": "HBO Pk asc_nonmotor_2veh",
         "type": "scatter",
         "x": [
          40,
          39,
          38,
          37,
          36,
          35,
          34,
          33,
          32,
          31,
          30,
          29,
          28,
          27,
          26,
          25,
          24,
          23,
          22,
          21,
          20,
          19,
          18,
          17,
          16,
          15,
          14,
          13,
          12,
          11,
          10,
          9,
          8,
          7,
          6,
          5,
          4,
          3,
          2,
          1,
          0
         ],
         "y": [
          -0.14180000126361847,
          -0.14190000295639038,
          -0.1420000046491623,
          -0.14219999313354492,
          -0.14239999651908875,
          -0.14259999990463257,
          -0.1428000032901764,
          -0.14309999346733093,
          -0.14339999854564667,
          -0.14380000531673431,
          -0.14419999718666077,
          -0.14470000565052032,
          -0.1453000009059906,
          -0.1459999978542328,
          -0.1468999981880188,
          -0.14800000190734863,
          -0.1492999941110611,
          -0.1509000062942505,
          -0.15289999544620514,
          -0.15539999306201935,
          -0.15850000083446503,
          -0.1624000072479248,
          -0.1673000007867813,
          -0.17350000143051147,
          -0.18140000104904175,
          -0.1914999932050705,
          -0.20440000295639038,
          -0.2207999974489212,
          -0.24160000681877136,
          -0.2678999900817871,
          -0.3009999990463257,
          -0.34209999442100525,
          -0.39239999651908875,
          -0.4523000121116638,
          -0.5206000208854675,
          -0.5922999978065491,
          -0.6545000076293945,
          -0.6804999709129333,
          -0.6226999759674072,
          -0.41429999470710754,
          0
         ]
        },
        {
         "mode": "lines+markers",
         "name": "HBO Pk asc_transit_0veh",
         "type": "scatter",
         "x": [
          40,
          39,
          38,
          37,
          36,
          35,
          34,
          33,
          32,
          31,
          30,
          29,
          28,
          27,
          26,
          25,
          24,
          23,
          22,
          21,
          20,
          19,
          18,
          17,
          16,
          15,
          14,
          13,
          12,
          11,
          10,
          9,
          8,
          7,
          6,
          5,
          4,
          3,
          2,
          1,
          0
         ],
         "y": [
          1.8408000469207764,
          1.840999960899353,
          1.8413000106811523,
          1.8416999578475952,
          1.8421000242233276,
          1.8425999879837036,
          1.8431999683380127,
          1.8438999652862549,
          1.8446999788284302,
          1.8456000089645386,
          1.8466999530792236,
          1.8479000329971313,
          1.8493000268936157,
          1.8509000539779663,
          1.8526999950408936,
          1.854699969291687,
          1.8567999601364136,
          1.8589999675750732,
          1.861299991607666,
          1.8636000156402588,
          1.8658000230789185,
          1.8676999807357788,
          1.8690999746322632,
          1.8696000576019287,
          1.868899941444397,
          1.8664000034332275,
          1.8615000247955322,
          1.8531999588012695,
          1.840499997138977,
          1.8220000267028809,
          1.7960000038146973,
          1.7604000568389893,
          1.712399959564209,
          1.6484999656677246,
          1.5642999410629272,
          1.4541000127792358,
          1.3102999925613403,
          1.121999979019165,
          0.8718000054359436,
          0.5248000025749207,
          0
         ]
        },
        {
         "mode": "lines+markers",
         "name": "HBO Pk asc_transit_1veh",
         "type": "scatter",
         "x": [
          40,
          39,
          38,
          37,
          36,
          35,
          34,
          33,
          32,
          31,
          30,
          29,
          28,
          27,
          26,
          25,
          24,
          23,
          22,
          21,
          20,
          19,
          18,
          17,
          16,
          15,
          14,
          13,
          12,
          11,
          10,
          9,
          8,
          7,
          6,
          5,
          4,
          3,
          2,
          1,
          0
         ],
         "y": [
          -1.440000057220459,
          -1.4414000511169434,
          -1.4428999423980713,
          -1.444599986076355,
          -1.4464000463485718,
          -1.4484000205993652,
          -1.450600028038025,
          -1.4529000520706177,
          -1.4555000066757202,
          -1.4581999778747559,
          -1.4610999822616577,
          -1.4641000032424927,
          -1.4673000574111938,
          -1.4704999923706055,
          -1.4737000465393066,
          -1.4768999814987183,
          -1.4799000024795532,
          -1.4824999570846558,
          -1.4845999479293823,
          -1.4860999584197998,
          -1.4867000579833984,
          -1.4860999584197998,
          -1.4839999675750732,
          -1.4802000522613525,
          -1.4742000102996826,
          -1.4656000137329102,
          -1.4539999961853027,
          -1.4390000104904175,
          -1.4200999736785889,
          -1.3966000080108643,
          -1.367900013923645,
          -1.333299994468689,
          -1.2914999723434448,
          -1.2408000230789185,
          -1.1783000230789185,
          -1.0994999408721924,
          -0.9973000288009644,
          -0.8604000210762024,
          -0.671500027179718,
          -0.40299999713897705,
          0
         ]
        },
        {
         "mode": "lines+markers",
         "name": "HBO Pk asc_transit_2veh",
         "type": "scatter",
         "x": [
          40,
          39,
          38,
          37,
          36,
          35,
          34,
          33,
          32,
          31,
          30,
          29,
          28,
          27,
          26,
          25,
          24,
          23,
          22,
          21,
          20,
          19,
          18,
          17,
          16,
          15,
          14,
          13,
          12,
          11,
          10,
          9,
          8,
          7,
          6,
          5,
          4,
          3,
          2,
          1,
          0
         ],
         "y": [
          -2.106800079345703,
          -2.1084001064300537,
          -2.1101999282836914,
          -2.1122000217437744,
          -2.114300012588501,
          -2.1166000366210938,
          -2.1191999912261963,
          -2.121999979019165,
          -2.1250998973846436,
          -2.128499984741211,
          -2.1321001052856445,
          -2.1359000205993652,
          -2.139899969100952,
          -2.1440999507904053,
          -2.148400068283081,
          -2.1528000831604004,
          -2.1572000980377197,
          -2.161600112915039,
          -2.1656999588012695,
          -2.1695001125335693,
          -2.1726999282836914,
          -2.1751999855041504,
          -2.1767001152038574,
          -2.177000045776367,
          -2.1756999492645264,
          -2.172499895095825,
          -2.167099952697754,
          -2.1589999198913574,
          -2.147599935531616,
          -2.1322999000549316,
          -2.111999988555908,
          -2.085400104522705,
          -2.050299882888794,
          -2.0032999515533447,
          -1.938599944114685,
          -1.847000002861023,
          -1.7131999731063843,
          -1.5125000476837158,
          -1.2062000036239624,
          -0.734000027179718,
          0
         ]
        },
        {
         "mode": "lines+markers",
         "name": "HBO Pk asc_shared_1veh",
         "type": "scatter",
         "x": [
          40,
          39,
          38,
          37,
          36,
          35,
          34,
          33,
          32,
          31,
          30,
          29,
          28,
          27,
          26,
          25,
          24,
          23,
          22,
          21,
          20,
          19,
          18,
          17,
          16,
          15,
          14,
          13,
          12,
          11,
          10,
          9,
          8,
          7,
          6,
          5,
          4,
          3,
          2,
          1,
          0
         ],
         "y": [
          -0.1704999953508377,
          -0.1704999953508377,
          -0.1704999953508377,
          -0.1704999953508377,
          -0.1704999953508377,
          -0.1704999953508377,
          -0.1704999953508377,
          -0.1704999953508377,
          -0.1704999953508377,
          -0.1704999953508377,
          -0.1704999953508377,
          -0.1703999936580658,
          -0.17030000686645508,
          -0.17020000517368317,
          -0.17010000348091125,
          -0.17000000178813934,
          -0.16979999840259552,
          -0.1695999950170517,
          -0.16930000483989716,
          -0.1688999980688095,
          -0.16840000450611115,
          -0.16779999434947968,
          -0.16699999570846558,
          -0.16599999368190765,
          -0.1647000014781952,
          -0.163100004196167,
          -0.16099999845027924,
          -0.15839999914169312,
          -0.1551000028848648,
          -0.1509999930858612,
          -0.14589999616146088,
          -0.13950000703334808,
          -0.1316000074148178,
          -0.12189999967813492,
          -0.11020000278949738,
          -0.09619999676942825,
          -0.07980000227689743,
          -0.06109999865293503,
          -0.0406000018119812,
          -0.019500000402331352,
          0
         ]
        },
        {
         "mode": "lines+markers",
         "name": "HBO Pk asc_shared_2veh",
         "type": "scatter",
         "x": [
          40,
          39,
          38,
          37,
          36,
          35,
          34,
          33,
          32,
          31,
          30,
          29,
          28,
          27,
          26,
          25,
          24,
          23,
          22,
          21,
          20,
          19,
          18,
          17,
          16,
          15,
          14,
          13,
          12,
          11,
          10,
          9,
          8,
          7,
          6,
          5,
          4,
          3,
          2,
          1,
          0
         ],
         "y": [
          0.14350000023841858,
          0.14350000023841858,
          0.14350000023841858,
          0.14350000023841858,
          0.14350000023841858,
          0.14350000023841858,
          0.14350000023841858,
          0.14350000023841858,
          0.14350000023841858,
          0.14350000023841858,
          0.14339999854564667,
          0.14329999685287476,
          0.14319999516010284,
          0.14309999346733093,
          0.14300000667572021,
          0.1429000049829483,
          0.1428000032901764,
          0.14259999990463257,
          0.14239999651908875,
          0.1421000063419342,
          0.14180000126361847,
          0.14139999449253082,
          0.14090000092983246,
          0.1404000073671341,
          0.1396999955177307,
          0.1388999968767166,
          0.1379999965429306,
          0.13680000603199005,
          0.13539999723434448,
          0.13369999825954437,
          0.1316000074148178,
          0.12890000641345978,
          0.12549999356269836,
          0.12120000272989273,
          0.11559999734163284,
          0.10830000042915344,
          0.09849999845027924,
          0.08510000258684158,
          0.06639999896287918,
          0.03959999978542328,
          0
         ]
        },
        {
         "mode": "lines+markers",
         "name": "HBO Pk asc_sr3_all",
         "type": "scatter",
         "x": [
          40,
          39,
          38,
          37,
          36,
          35,
          34,
          33,
          32,
          31,
          30,
          29,
          28,
          27,
          26,
          25,
          24,
          23,
          22,
          21,
          20,
          19,
          18,
          17,
          16,
          15,
          14,
          13,
          12,
          11,
          10,
          9,
          8,
          7,
          6,
          5,
          4,
          3,
          2,
          1,
          0
         ],
         "y": [
          0.14910000562667847,
          0.14910000562667847,
          0.14910000562667847,
          0.14910000562667847,
          0.14910000562667847,
          0.14910000562667847,
          0.14910000562667847,
          0.14910000562667847,
          0.14910000562667847,
          0.14910000562667847,
          0.14910000562667847,
          0.14910000562667847,
          0.14910000562667847,
          0.14910000562667847,
          0.14910000562667847,
          0.14910000562667847,
          0.14910000562667847,
          0.14910000562667847,
          0.14910000562667847,
          0.14910000562667847,
          0.14910000562667847,
          0.14910000562667847,
          0.14910000562667847,
          0.14910000562667847,
          0.14910000562667847,
          0.14900000393390656,
          0.14890000224113464,
          0.14869999885559082,
          0.14839999377727509,
          0.14800000190734863,
          0.14740000665187836,
          0.14650000631809235,
          0.14509999752044678,
          0.1429000049829483,
          0.13950000703334808,
          0.13420000672340393,
          0.125900000333786,
          0.11289999634027481,
          0.09210000187158585,
          0.05810000002384186,
          0
         ]
        },
        {
         "mode": "lines+markers",
         "name": "HBO Pk asc_hov_all",
         "type": "scatter",
         "x": [
          40,
          39,
          38,
          37,
          36,
          35,
          34,
          33,
          32,
          31,
          30,
          29,
          28,
          27,
          26,
          25,
          24,
          23,
          22,
          21,
          20,
          19,
          18,
          17,
          16,
          15,
          14,
          13,
          12,
          11,
          10,
          9,
          8,
          7,
          6,
          5,
          4,
          3,
          2,
          1,
          0
         ],
         "y": [
          0.08749999850988388,
          0.08749999850988388,
          0.08749999850988388,
          0.08749999850988388,
          0.08749999850988388,
          0.08749999850988388,
          0.08749999850988388,
          0.08749999850988388,
          0.08749999850988388,
          0.08749999850988388,
          0.08749999850988388,
          0.08749999850988388,
          0.08749999850988388,
          0.08749999850988388,
          0.08749999850988388,
          0.08749999850988388,
          0.08749999850988388,
          0.08749999850988388,
          0.08749999850988388,
          0.08749999850988388,
          0.08749999850988388,
          0.08749999850988388,
          0.08749999850988388,
          0.08749999850988388,
          0.08749999850988388,
          0.08749999850988388,
          0.08749999850988388,
          0.08749999850988388,
          0.08749999850988388,
          0.08749999850988388,
          0.08749999850988388,
          0.08749999850988388,
          0.08749999850988388,
          0.08749999850988388,
          0.08749999850988388,
          0.08749999850988388,
          0.08749999850988388,
          0.08749999850988388,
          0.08749999850988388,
          0.08749999850988388,
          0.08749999850988388
         ]
        },
        {
         "mode": "lines+markers",
         "name": "HBO Pk asc_toll_all",
         "type": "scatter",
         "x": [
          40,
          39,
          38,
          37,
          36,
          35,
          34,
          33,
          32,
          31,
          30,
          29,
          28,
          27,
          26,
          25,
          24,
          23,
          22,
          21,
          20,
          19,
          18,
          17,
          16,
          15,
          14,
          13,
          12,
          11,
          10,
          9,
          8,
          7,
          6,
          5,
          4,
          3,
          2,
          1,
          0
         ],
         "y": [
          -0.3499999940395355,
          -0.3499999940395355,
          -0.3499999940395355,
          -0.3499999940395355,
          -0.3499999940395355,
          -0.3499999940395355,
          -0.3499999940395355,
          -0.3499999940395355,
          -0.3499999940395355,
          -0.3499999940395355,
          -0.3499999940395355,
          -0.3499999940395355,
          -0.3499999940395355,
          -0.3499999940395355,
          -0.3499999940395355,
          -0.3499999940395355,
          -0.3499999940395355,
          -0.3499999940395355,
          -0.3499999940395355,
          -0.3499999940395355,
          -0.3499999940395355,
          -0.3499999940395355,
          -0.3499999940395355,
          -0.3499999940395355,
          -0.3499999940395355,
          -0.3499999940395355,
          -0.3499999940395355,
          -0.3499999940395355,
          -0.3499999940395355,
          -0.3499999940395355,
          -0.3499999940395355,
          -0.3499999940395355,
          -0.3499999940395355,
          -0.3499999940395355,
          -0.3499999940395355,
          -0.3499999940395355,
          -0.3499999940395355,
          -0.3499999940395355,
          -0.3499999940395355,
          -0.3499999940395355,
          -0.3499999940395355
         ]
        },
        {
         "mode": "lines+markers",
         "name": "HBO Pk asc_EXP_all",
         "type": "scatter",
         "x": [
          40,
          39,
          38,
          37,
          36,
          35,
          34,
          33,
          32,
          31,
          30,
          29,
          28,
          27,
          26,
          25,
          24,
          23,
          22,
          21,
          20,
          19,
          18,
          17,
          16,
          15,
          14,
          13,
          12,
          11,
          10,
          9,
          8,
          7,
          6,
          5,
          4,
          3,
          2,
          1,
          0
         ],
         "y": [
          0.2630000114440918,
          0.26159998774528503,
          0.26030001044273376,
          0.2590999901294708,
          0.257999986410141,
          0.25690001249313354,
          0.25589999556541443,
          0.2551000118255615,
          0.25440001487731934,
          0.25380000472068787,
          0.2533000111579895,
          0.2529999911785126,
          0.25279998779296875,
          0.25279998779296875,
          0.25279998779296875,
          0.2529999911785126,
          0.2533000111579895,
          0.25360000133514404,
          0.2538999915122986,
          0.2540999948978424,
          0.2542000114917755,
          0.2540000081062317,
          0.2535000145435333,
          0.2524000108242035,
          0.2506999969482422,
          0.24799999594688416,
          0.24420000612735748,
          0.23899999260902405,
          0.23199999332427979,
          0.22290000319480896,
          0.21130000054836273,
          0.19660000503063202,
          0.17810000479221344,
          0.1550000011920929,
          0.12639999389648438,
          0.0885000005364418,
          0.04690000042319298,
          -0.037300001829862595,
          -0.05559999868273735,
          -0.38519999384880066,
          0
         ]
        },
        {
         "mode": "lines+markers",
         "name": "HBO Pk asc_BRT_all",
         "type": "scatter",
         "x": [
          40,
          39,
          38,
          37,
          36,
          35,
          34,
          33,
          32,
          31,
          30,
          29,
          28,
          27,
          26,
          25,
          24,
          23,
          22,
          21,
          20,
          19,
          18,
          17,
          16,
          15,
          14,
          13,
          12,
          11,
          10,
          9,
          8,
          7,
          6,
          5,
          4,
          3,
          2,
          1,
          0
         ],
         "y": [
          -0.1599999964237213,
          -0.1518000066280365,
          -0.14350000023841858,
          -0.13519999384880066,
          -0.12680000066757202,
          -0.11840000003576279,
          -0.10999999940395355,
          -0.1014999970793724,
          -0.09300000220537186,
          -0.0843999981880188,
          -0.07569999992847443,
          -0.06700000166893005,
          -0.05829999968409538,
          -0.04960000142455101,
          -0.040800001472234726,
          -0.03200000151991844,
          -0.02319999970495701,
          -0.014499999582767487,
          -0.006000000052154064,
          0.002400000113993883,
          0.010499999858438969,
          0.018300000578165054,
          0.025699999183416367,
          0.032499998807907104,
          0.03869999945163727,
          0.04399999976158142,
          0.04839999973773956,
          0.05169999971985817,
          0.05389999970793724,
          0.05480000004172325,
          0.0544000007212162,
          0.05270000174641609,
          0.049800001084804535,
          0.04580000042915344,
          0.040800001472234726,
          0.034699998795986176,
          0.026799999177455902,
          0.01510000042617321,
          -0.002899999963119626,
          -0.021299999207258224,
          0
         ]
        },
        {
         "mode": "lines+markers",
         "name": "HBO Pk asc_LRT_all",
         "type": "scatter",
         "x": [
          40,
          39,
          38,
          37,
          36,
          35,
          34,
          33,
          32,
          31,
          30,
          29,
          28,
          27,
          26,
          25,
          24,
          23,
          22,
          21,
          20,
          19,
          18,
          17,
          16,
          15,
          14,
          13,
          12,
          11,
          10,
          9,
          8,
          7,
          6,
          5,
          4,
          3,
          2,
          1,
          0
         ],
         "y": [
          0.35659998655319214,
          0.3578000068664551,
          0.35899999737739563,
          0.3603000044822693,
          0.36169999837875366,
          0.36320000886917114,
          0.36469998955726624,
          0.36640000343322754,
          0.36820000410079956,
          0.3700999915599823,
          0.37209999561309814,
          0.3743000030517578,
          0.3765999972820282,
          0.3790000081062317,
          0.3815999925136566,
          0.38429999351501465,
          0.3871000111103058,
          0.38999998569488525,
          0.3928999900817871,
          0.39570000767707825,
          0.3984000086784363,
          0.4009000062942505,
          0.40299999713897705,
          0.40459999442100525,
          0.40560001134872437,
          0.4056999981403351,
          0.40470001101493835,
          0.40230000019073486,
          0.3982999920845032,
          0.39239999651908875,
          0.38440001010894775,
          0.37400001287460327,
          0.3610999882221222,
          0.34540000557899475,
          0.32690000534057617,
          0.305400013923645,
          0.2800000011920929,
          0.2483000010251999,
          0.20309999585151672,
          0.12809999287128448,
          0
         ]
        },
        {
         "mode": "lines+markers",
         "name": "HBO Pk asc_CRT_all",
         "type": "scatter",
         "x": [
          40,
          39,
          38,
          37,
          36,
          35,
          34,
          33,
          32,
          31,
          30,
          29,
          28,
          27,
          26,
          25,
          24,
          23,
          22,
          21,
          20,
          19,
          18,
          17,
          16,
          15,
          14,
          13,
          12,
          11,
          10,
          9,
          8,
          7,
          6,
          5,
          4,
          3,
          2,
          1,
          0
         ],
         "y": [
          1.44350004196167,
          1.4192999601364136,
          1.3950999975204468,
          1.37090003490448,
          1.3466999530792236,
          1.3224999904632568,
          1.29830002784729,
          1.2740999460220337,
          1.249899983406067,
          1.2257000207901,
          1.2015000581741333,
          1.1771999597549438,
          1.152899980545044,
          1.128600001335144,
          1.104099988937378,
          1.0794999599456787,
          1.0547000169754028,
          1.0296000242233276,
          1.0041999816894531,
          0.9783999919891357,
          0.9520999789237976,
          0.9251000285148621,
          0.8973000049591064,
          0.8686000108718872,
          0.8388000130653381,
          0.807699978351593,
          0.7749999761581421,
          0.7405999898910522,
          0.704200029373169,
          0.6654999852180481,
          0.6243000030517578,
          0.580299973487854,
          0.5332000255584717,
          0.4830000102519989,
          0.42989999055862427,
          0.37450000643730164,
          0.31790000200271606,
          0.26159998774528503,
          0.20340000092983246,
          0.13410000503063202,
          0
         ]
        },
        {
         "mode": "lines+markers",
         "name": "HBO Pk asc_driveacc_1veh",
         "type": "scatter",
         "x": [
          40,
          39,
          38,
          37,
          36,
          35,
          34,
          33,
          32,
          31,
          30,
          29,
          28,
          27,
          26,
          25,
          24,
          23,
          22,
          21,
          20,
          19,
          18,
          17,
          16,
          15,
          14,
          13,
          12,
          11,
          10,
          9,
          8,
          7,
          6,
          5,
          4,
          3,
          2,
          1,
          0
         ],
         "y": [
          -1.0800000429153442,
          -1.0764000415802002,
          -1.0724999904632568,
          -1.0683000087738037,
          -1.0638999938964844,
          -1.0591000318527222,
          -1.0540000200271606,
          -1.0484999418258667,
          -1.0426000356674194,
          -1.0362000465393066,
          -1.0293999910354614,
          -1.0220999717712402,
          -1.01419997215271,
          -1.0056999921798706,
          -0.9966999888420105,
          -0.9871000051498413,
          -0.9768000245094299,
          -0.9659000039100647,
          -0.9542999863624573,
          -0.9420999884605408,
          -0.9291999936103821,
          -0.9154999852180481,
          -0.9010999798774719,
          -0.8859999775886536,
          -0.8701000213623047,
          -0.8532999753952026,
          -0.8356000185012817,
          -0.8167999982833862,
          -0.7967000007629395,
          -0.7750999927520752,
          -0.7516000270843506,
          -0.7257999777793884,
          -0.6972000002861023,
          -0.6650000214576721,
          -0.6280999779701233,
          -0.5849000215530396,
          -0.5324000120162964,
          -0.46470001339912415,
          -0.3700000047683716,
          -0.22579999268054962,
          0
         ]
        },
        {
         "mode": "lines+markers",
         "name": "HBO Pk asc_driveacc_2veh",
         "type": "scatter",
         "x": [
          40,
          39,
          38,
          37,
          36,
          35,
          34,
          33,
          32,
          31,
          30,
          29,
          28,
          27,
          26,
          25,
          24,
          23,
          22,
          21,
          20,
          19,
          18,
          17,
          16,
          15,
          14,
          13,
          12,
          11,
          10,
          9,
          8,
          7,
          6,
          5,
          4,
          3,
          2,
          1,
          0
         ],
         "y": [
          -0.7804999947547913,
          -0.7767000198364258,
          -0.772599995136261,
          -0.7682999968528748,
          -0.7635999917984009,
          -0.7585999965667725,
          -0.7531999945640564,
          -0.7475000023841858,
          -0.7412999868392944,
          -0.7347000241279602,
          -0.7275999784469604,
          -0.7200000286102295,
          -0.7117999792098999,
          -0.7031000256538391,
          -0.6937000155448914,
          -0.6837000250816345,
          -0.6730999946594238,
          -0.6618000268936157,
          -0.6498000025749207,
          -0.6370000243186951,
          -0.6233999729156494,
          -0.609000027179718,
          -0.5936999917030334,
          -0.5774999856948853,
          -0.5602999925613403,
          -0.5419999957084656,
          -0.5224999785423279,
          -0.5016999840736389,
          -0.47940000891685486,
          -0.4553999900817871,
          -0.4296000003814697,
          -0.4018000066280365,
          -0.3718000054359436,
          -0.33959999680519104,
          -0.3052000105381012,
          -0.2689000070095062,
          -0.23080000281333923,
          -0.19030000269412994,
          -0.14480000734329224,
          -0.08659999817609787,
          0
         ]
        },
        {
         "mode": "lines+markers",
         "name": "HBO Pk asc_wEXP_all",
         "type": "scatter",
         "x": [
          40,
          39,
          38,
          37,
          36,
          35,
          34,
          33,
          32,
          31,
          30,
          29,
          28,
          27,
          26,
          25,
          24,
          23,
          22,
          21,
          20,
          19,
          18,
          17,
          16,
          15,
          14,
          13,
          12,
          11,
          10,
          9,
          8,
          7,
          6,
          5,
          4,
          3,
          2,
          1,
          0
         ],
         "y": [
          0.718999981880188,
          0.7218999862670898,
          0.7249000072479248,
          0.7281000018119812,
          0.7315000295639038,
          0.7348999977111816,
          0.7384999990463257,
          0.7422999739646912,
          0.7462999820709229,
          0.7505000233650208,
          0.754800021648407,
          0.7594000101089478,
          0.76419997215271,
          0.7692000269889832,
          0.774399995803833,
          0.7797999978065491,
          0.7853999733924866,
          0.791100025177002,
          0.7968999743461609,
          0.8026999831199646,
          0.8083000183105469,
          0.8137999773025513,
          0.8190000057220459,
          0.8235999941825867,
          0.8277000188827515,
          0.8307999968528748,
          0.8327999711036682,
          0.8334000110626221,
          0.8321999907493591,
          0.8288999795913696,
          0.8230000138282776,
          0.8137999773025513,
          0.800599992275238,
          0.7822999954223633,
          0.7576000094413757,
          0.7224000096321106,
          0.6779999732971191,
          0.5895000100135803,
          0.515500009059906,
          0.1395999938249588,
          0
         ]
        },
        {
         "mode": "lines+markers",
         "name": "HBO Pk asc_wBRT_all",
         "type": "scatter",
         "x": [
          40,
          39,
          38,
          37,
          36,
          35,
          34,
          33,
          32,
          31,
          30,
          29,
          28,
          27,
          26,
          25,
          24,
          23,
          22,
          21,
          20,
          19,
          18,
          17,
          16,
          15,
          14,
          13,
          12,
          11,
          10,
          9,
          8,
          7,
          6,
          5,
          4,
          3,
          2,
          1,
          0
         ],
         "y": [
          0.21089999377727509,
          0.20319999754428864,
          0.19550000131130219,
          0.18780000507831573,
          0.18019999563694,
          0.17260000109672546,
          0.16500000655651093,
          0.1573999971151352,
          0.14980000257492065,
          0.14229999482631683,
          0.1348000019788742,
          0.12729999423027039,
          0.11980000138282776,
          0.11219999939203262,
          0.10459999740123749,
          0.09690000116825104,
          0.08910000324249268,
          0.08110000193119049,
          0.07289999723434448,
          0.06440000236034393,
          0.05559999868273735,
          0.046300001442432404,
          0.0364999994635582,
          0.026100000366568565,
          0.01510000042617321,
          0.0032999999821186066,
          -0.00930000003427267,
          -0.022700000554323196,
          -0.03689999878406525,
          -0.05180000141263008,
          -0.06719999760389328,
          -0.08269999921321869,
          -0.09780000150203705,
          -0.11159999668598175,
          -0.12300000339746475,
          -0.13050000369548798,
          -0.13230000436306,
          -0.1265999972820282,
          -0.11060000211000443,
          -0.07559999823570251,
          0
         ]
        },
        {
         "mode": "lines+markers",
         "name": "HBO Pk asc_wLRT_all",
         "type": "scatter",
         "x": [
          40,
          39,
          38,
          37,
          36,
          35,
          34,
          33,
          32,
          31,
          30,
          29,
          28,
          27,
          26,
          25,
          24,
          23,
          22,
          21,
          20,
          19,
          18,
          17,
          16,
          15,
          14,
          13,
          12,
          11,
          10,
          9,
          8,
          7,
          6,
          5,
          4,
          3,
          2,
          1,
          0
         ],
         "y": [
          0.5985000133514404,
          0.5986999869346619,
          0.5989999771118164,
          0.599399983882904,
          0.5999000072479248,
          0.600600004196167,
          0.6014000177383423,
          0.602400004863739,
          0.6035000085830688,
          0.6047999858856201,
          0.6062999963760376,
          0.6079999804496765,
          0.6098999977111816,
          0.6121000051498413,
          0.6144999861717224,
          0.6171000003814697,
          0.6198999881744385,
          0.6229000091552734,
          0.6259999871253967,
          0.6291000247001648,
          0.6322000026702881,
          0.6351000070571899,
          0.6377999782562256,
          0.6399999856948853,
          0.6416000127792358,
          0.6424000263214111,
          0.6421999931335449,
          0.6406999826431274,
          0.6376000046730042,
          0.6327000260353088,
          0.6258000135421753,
          0.616599977016449,
          0.6050000190734863,
          0.5907999873161316,
          0.5738000273704529,
          0.553600013256073,
          0.5285000205039978,
          0.4936999976634979,
          0.4348999857902527,
          0.310699999332428,
          0
         ]
        },
        {
         "mode": "lines+markers",
         "name": "HBO Pk asc_wCRT_all",
         "type": "scatter",
         "x": [
          40,
          39,
          38,
          37,
          36,
          35,
          34,
          33,
          32,
          31,
          30,
          29,
          28,
          27,
          26,
          25,
          24,
          23,
          22,
          21,
          20,
          19,
          18,
          17,
          16,
          15,
          14,
          13,
          12,
          11,
          10,
          9,
          8,
          7,
          6,
          5,
          4,
          3,
          2,
          1,
          0
         ],
         "y": [
          0.8758999705314636,
          0.902899980545044,
          0.9301999807357788,
          0.9577999711036682,
          0.98580002784729,
          1.01419997215271,
          1.0430999994277954,
          1.0723999738693237,
          1.1023000478744507,
          1.1327999830245972,
          1.1639000177383423,
          1.1956000328063965,
          1.2280000448226929,
          1.2611000537872314,
          1.2948999404907227,
          1.329300045967102,
          1.364400029182434,
          1.399999976158142,
          1.4361000061035156,
          1.472499966621399,
          1.5089999437332153,
          1.545300006866455,
          1.5809999704360962,
          1.6158000230789185,
          1.6490000486373901,
          1.6799999475479126,
          1.707900047302246,
          1.731600046157837,
          1.7497999668121338,
          1.760699987411499,
          1.7623000144958496,
          1.7518999576568604,
          1.726099967956543,
          1.6806999444961548,
          1.6104999780654907,
          1.5090999603271484,
          1.368499994277954,
          1.1785999536514282,
          0.9212999939918518,
          0.5641000270843506,
          0
         ]
        },
        {
         "mode": "lines+markers",
         "name": "HBO Pk asc_dEXP_all",
         "type": "scatter",
         "x": [
          40,
          39,
          38,
          37,
          36,
          35,
          34,
          33,
          32,
          31,
          30,
          29,
          28,
          27,
          26,
          25,
          24,
          23,
          22,
          21,
          20,
          19,
          18,
          17,
          16,
          15,
          14,
          13,
          12,
          11,
          10,
          9,
          8,
          7,
          6,
          5,
          4,
          3,
          2,
          1,
          0
         ],
         "y": [
          -0.13050000369548798,
          -0.13120000064373016,
          -0.13210000097751617,
          -0.1331000030040741,
          -0.13429999351501465,
          -0.13570000231266022,
          -0.13740000128746033,
          -0.13930000364780426,
          -0.14139999449253082,
          -0.14380000531673431,
          -0.14659999310970306,
          -0.14959999918937683,
          -0.15299999713897705,
          -0.156700000166893,
          -0.16089999675750732,
          -0.1655000001192093,
          -0.17059999704360962,
          -0.1761000007390976,
          -0.18219999969005585,
          -0.18889999389648438,
          -0.19619999825954437,
          -0.20440000295639038,
          -0.21320000290870667,
          -0.22290000319480896,
          -0.23350000381469727,
          -0.2451999932527542,
          -0.2578999996185303,
          -0.2718000113964081,
          -0.2870999872684479,
          -0.30379998683929443,
          -0.32199999690055847,
          -0.3416999876499176,
          -0.3628999888896942,
          -0.3853999972343445,
          -0.4074999988079071,
          -0.4316999912261963,
          -0.4390999972820282,
          -0.486299991607666,
          -0.3781000077724457,
          -0.6177999973297119,
          0
         ]
        },
        {
         "mode": "lines+markers",
         "name": "HBO Pk asc_dBRT_all",
         "type": "scatter",
         "x": [
          40,
          39,
          38,
          37,
          36,
          35,
          34,
          33,
          32,
          31,
          30,
          29,
          28,
          27,
          26,
          25,
          24,
          23,
          22,
          21,
          20,
          19,
          18,
          17,
          16,
          15,
          14,
          13,
          12,
          11,
          10,
          9,
          8,
          7,
          6,
          5,
          4,
          3,
          2,
          1,
          0
         ],
         "y": [
          -0.4846999943256378,
          -0.4950999915599823,
          -0.5056999921798706,
          -0.5164999961853027,
          -0.527400016784668,
          -0.5385000109672546,
          -0.5497999787330627,
          -0.5612999796867371,
          -0.5730000138282776,
          -0.5849999785423279,
          -0.5971999764442444,
          -0.6097000241279602,
          -0.6226000189781189,
          -0.6358000040054321,
          -0.6495000123977661,
          -0.6635000109672546,
          -0.6779999732971191,
          -0.6929000020027161,
          -0.7084000110626221,
          -0.7245000004768372,
          -0.7414000034332275,
          -0.7590000033378601,
          -0.7774999737739563,
          -0.796999990940094,
          -0.8176000118255615,
          -0.8395000100135803,
          -0.8628000020980835,
          -0.8878999948501587,
          -0.914900004863739,
          -0.944100022315979,
          -0.975600004196167,
          -1.0094000101089478,
          -1.044800043106079,
          -1.080199956893921,
          -1.111899971961975,
          -1.1325000524520874,
          -1.1282000541687012,
          -1.073799967765808,
          -0.9233999848365784,
          -0.5968999862670898,
          0
         ]
        },
        {
         "mode": "lines+markers",
         "name": "HBO Pk asc_dLRT_all",
         "type": "scatter",
         "x": [
          40,
          39,
          38,
          37,
          36,
          35,
          34,
          33,
          32,
          31,
          30,
          29,
          28,
          27,
          26,
          25,
          24,
          23,
          22,
          21,
          20,
          19,
          18,
          17,
          16,
          15,
          14,
          13,
          12,
          11,
          10,
          9,
          8,
          7,
          6,
          5,
          4,
          3,
          2,
          1,
          0
         ],
         "y": [
          0.4422000050544739,
          0.43869999051094055,
          0.4350000023841858,
          0.4311000108718872,
          0.4269999861717224,
          0.4226999878883362,
          0.4180999994277954,
          0.4133000075817108,
          0.4081999957561493,
          0.4027999937534332,
          0.3970000147819519,
          0.39089998602867126,
          0.38440001010894775,
          0.3774000108242035,
          0.3698999881744385,
          0.3619000017642975,
          0.35339999198913574,
          0.3443000018596649,
          0.3346000015735626,
          0.32409998774528503,
          0.31290000677108765,
          0.30090001225471497,
          0.28790000081062317,
          0.27390000224113464,
          0.2587999999523163,
          0.2425999939441681,
          0.22499999403953552,
          0.20600000023841858,
          0.18539999425411224,
          0.16300000250339508,
          0.1386999934911728,
          0.11240000277757645,
          0.08429999649524689,
          0.05490000173449516,
          0.025100000202655792,
          -0.003100000089034438,
          -0.026499999687075615,
          -0.040800001472234726,
          -0.041200000792741776,
          -0.02590000070631504,
          0
         ]
        },
        {
         "mode": "lines+markers",
         "name": "HBO Pk asc_dCRT_all",
         "type": "scatter",
         "x": [
          40,
          39,
          38,
          37,
          36,
          35,
          34,
          33,
          32,
          31,
          30,
          29,
          28,
          27,
          26,
          25,
          24,
          23,
          22,
          21,
          20,
          19,
          18,
          17,
          16,
          15,
          14,
          13,
          12,
          11,
          10,
          9,
          8,
          7,
          6,
          5,
          4,
          3,
          2,
          1,
          0
         ],
         "y": [
          0.28049999475479126,
          0.3025999963283539,
          0.3246000111103058,
          0.3465999960899353,
          0.3684000074863434,
          0.39010000228881836,
          0.4117000102996826,
          0.43320000171661377,
          0.4546000063419342,
          0.47589999437332153,
          0.49709999561309814,
          0.5181000232696533,
          0.5389999747276306,
          0.5598000288009644,
          0.5803999900817871,
          0.6007999777793884,
          0.6209999918937683,
          0.640999972820282,
          0.6607999801635742,
          0.6802999973297119,
          0.699400007724762,
          0.7181000113487244,
          0.7361999750137329,
          0.7537000179290771,
          0.7703999876976013,
          0.7860999703407288,
          0.8004999756813049,
          0.8133999705314636,
          0.824400007724762,
          0.8330000042915344,
          0.8385999798774719,
          0.8403000235557556,
          0.836899995803833,
          0.82669997215271,
          0.8069999814033508,
          0.7738999724388123,
          0.7214000225067139,
          0.6402999758720398,
          0.5148000121116638,
          0.32170000672340393,
          0
         ]
        },
        {
         "mode": "lines+markers",
         "name": "HBO Pk asc_bike_all",
         "type": "scatter",
         "x": [
          40,
          39,
          38,
          37,
          36,
          35,
          34,
          33,
          32,
          31,
          30,
          29,
          28,
          27,
          26,
          25,
          24,
          23,
          22,
          21,
          20,
          19,
          18,
          17,
          16,
          15,
          14,
          13,
          12,
          11,
          10,
          9,
          8,
          7,
          6,
          5,
          4,
          3,
          2,
          1,
          0
         ],
         "y": [
          -2.9242000579833984,
          -2.923799991607666,
          -2.9233999252319336,
          -2.9228999614715576,
          -2.9223999977111816,
          -2.921799898147583,
          -2.921099901199341,
          -2.920300006866455,
          -2.9193999767303467,
          -2.9184000492095947,
          -2.91729998588562,
          -2.916100025177002,
          -2.9147000312805176,
          -2.9131999015808105,
          -2.9114999771118164,
          -2.909600019454956,
          -2.907399892807007,
          -2.904900074005127,
          -2.902100086212158,
          -2.8987998962402344,
          -2.8949999809265137,
          -2.890500068664551,
          -2.885200023651123,
          -2.8787999153137207,
          -2.870800018310547,
          -2.86080002784729,
          -2.8480000495910645,
          -2.8313000202178955,
          -2.8090999126434326,
          -2.779099941253662,
          -2.738300085067749,
          -2.6821000576019287,
          -2.604300022125244,
          -2.4964001178741455,
          -2.347399950027466,
          -2.143699884414673,
          -1.87090003490448,
          -1.517300009727478,
          -1.079699993133545,
          -0.5674999952316284,
          0
         ]
        }
       ],
       "layout": {
        "height": 400,
        "template": {
         "data": {
          "bar": [
           {
            "error_x": {
             "color": "#2a3f5f"
            },
            "error_y": {
             "color": "#2a3f5f"
            },
            "marker": {
             "line": {
              "color": "#E5ECF6",
              "width": 0.5
             },
             "pattern": {
              "fillmode": "overlay",
              "size": 10,
              "solidity": 0.2
             }
            },
            "type": "bar"
           }
          ],
          "barpolar": [
           {
            "marker": {
             "line": {
              "color": "#E5ECF6",
              "width": 0.5
             },
             "pattern": {
              "fillmode": "overlay",
              "size": 10,
              "solidity": 0.2
             }
            },
            "type": "barpolar"
           }
          ],
          "carpet": [
           {
            "aaxis": {
             "endlinecolor": "#2a3f5f",
             "gridcolor": "white",
             "linecolor": "white",
             "minorgridcolor": "white",
             "startlinecolor": "#2a3f5f"
            },
            "baxis": {
             "endlinecolor": "#2a3f5f",
             "gridcolor": "white",
             "linecolor": "white",
             "minorgridcolor": "white",
             "startlinecolor": "#2a3f5f"
            },
            "type": "carpet"
           }
          ],
          "choropleth": [
           {
            "colorbar": {
             "outlinewidth": 0,
             "ticks": ""
            },
            "type": "choropleth"
           }
          ],
          "contour": [
           {
            "colorbar": {
             "outlinewidth": 0,
             "ticks": ""
            },
            "colorscale": [
             [
              0,
              "#0d0887"
             ],
             [
              0.1111111111111111,
              "#46039f"
             ],
             [
              0.2222222222222222,
              "#7201a8"
             ],
             [
              0.3333333333333333,
              "#9c179e"
             ],
             [
              0.4444444444444444,
              "#bd3786"
             ],
             [
              0.5555555555555556,
              "#d8576b"
             ],
             [
              0.6666666666666666,
              "#ed7953"
             ],
             [
              0.7777777777777778,
              "#fb9f3a"
             ],
             [
              0.8888888888888888,
              "#fdca26"
             ],
             [
              1,
              "#f0f921"
             ]
            ],
            "type": "contour"
           }
          ],
          "contourcarpet": [
           {
            "colorbar": {
             "outlinewidth": 0,
             "ticks": ""
            },
            "type": "contourcarpet"
           }
          ],
          "heatmap": [
           {
            "colorbar": {
             "outlinewidth": 0,
             "ticks": ""
            },
            "colorscale": [
             [
              0,
              "#0d0887"
             ],
             [
              0.1111111111111111,
              "#46039f"
             ],
             [
              0.2222222222222222,
              "#7201a8"
             ],
             [
              0.3333333333333333,
              "#9c179e"
             ],
             [
              0.4444444444444444,
              "#bd3786"
             ],
             [
              0.5555555555555556,
              "#d8576b"
             ],
             [
              0.6666666666666666,
              "#ed7953"
             ],
             [
              0.7777777777777778,
              "#fb9f3a"
             ],
             [
              0.8888888888888888,
              "#fdca26"
             ],
             [
              1,
              "#f0f921"
             ]
            ],
            "type": "heatmap"
           }
          ],
          "heatmapgl": [
           {
            "colorbar": {
             "outlinewidth": 0,
             "ticks": ""
            },
            "colorscale": [
             [
              0,
              "#0d0887"
             ],
             [
              0.1111111111111111,
              "#46039f"
             ],
             [
              0.2222222222222222,
              "#7201a8"
             ],
             [
              0.3333333333333333,
              "#9c179e"
             ],
             [
              0.4444444444444444,
              "#bd3786"
             ],
             [
              0.5555555555555556,
              "#d8576b"
             ],
             [
              0.6666666666666666,
              "#ed7953"
             ],
             [
              0.7777777777777778,
              "#fb9f3a"
             ],
             [
              0.8888888888888888,
              "#fdca26"
             ],
             [
              1,
              "#f0f921"
             ]
            ],
            "type": "heatmapgl"
           }
          ],
          "histogram": [
           {
            "marker": {
             "pattern": {
              "fillmode": "overlay",
              "size": 10,
              "solidity": 0.2
             }
            },
            "type": "histogram"
           }
          ],
          "histogram2d": [
           {
            "colorbar": {
             "outlinewidth": 0,
             "ticks": ""
            },
            "colorscale": [
             [
              0,
              "#0d0887"
             ],
             [
              0.1111111111111111,
              "#46039f"
             ],
             [
              0.2222222222222222,
              "#7201a8"
             ],
             [
              0.3333333333333333,
              "#9c179e"
             ],
             [
              0.4444444444444444,
              "#bd3786"
             ],
             [
              0.5555555555555556,
              "#d8576b"
             ],
             [
              0.6666666666666666,
              "#ed7953"
             ],
             [
              0.7777777777777778,
              "#fb9f3a"
             ],
             [
              0.8888888888888888,
              "#fdca26"
             ],
             [
              1,
              "#f0f921"
             ]
            ],
            "type": "histogram2d"
           }
          ],
          "histogram2dcontour": [
           {
            "colorbar": {
             "outlinewidth": 0,
             "ticks": ""
            },
            "colorscale": [
             [
              0,
              "#0d0887"
             ],
             [
              0.1111111111111111,
              "#46039f"
             ],
             [
              0.2222222222222222,
              "#7201a8"
             ],
             [
              0.3333333333333333,
              "#9c179e"
             ],
             [
              0.4444444444444444,
              "#bd3786"
             ],
             [
              0.5555555555555556,
              "#d8576b"
             ],
             [
              0.6666666666666666,
              "#ed7953"
             ],
             [
              0.7777777777777778,
              "#fb9f3a"
             ],
             [
              0.8888888888888888,
              "#fdca26"
             ],
             [
              1,
              "#f0f921"
             ]
            ],
            "type": "histogram2dcontour"
           }
          ],
          "mesh3d": [
           {
            "colorbar": {
             "outlinewidth": 0,
             "ticks": ""
            },
            "type": "mesh3d"
           }
          ],
          "parcoords": [
           {
            "line": {
             "colorbar": {
              "outlinewidth": 0,
              "ticks": ""
             }
            },
            "type": "parcoords"
           }
          ],
          "pie": [
           {
            "automargin": true,
            "type": "pie"
           }
          ],
          "scatter": [
           {
            "fillpattern": {
             "fillmode": "overlay",
             "size": 10,
             "solidity": 0.2
            },
            "type": "scatter"
           }
          ],
          "scatter3d": [
           {
            "line": {
             "colorbar": {
              "outlinewidth": 0,
              "ticks": ""
             }
            },
            "marker": {
             "colorbar": {
              "outlinewidth": 0,
              "ticks": ""
             }
            },
            "type": "scatter3d"
           }
          ],
          "scattercarpet": [
           {
            "marker": {
             "colorbar": {
              "outlinewidth": 0,
              "ticks": ""
             }
            },
            "type": "scattercarpet"
           }
          ],
          "scattergeo": [
           {
            "marker": {
             "colorbar": {
              "outlinewidth": 0,
              "ticks": ""
             }
            },
            "type": "scattergeo"
           }
          ],
          "scattergl": [
           {
            "marker": {
             "colorbar": {
              "outlinewidth": 0,
              "ticks": ""
             }
            },
            "type": "scattergl"
           }
          ],
          "scattermapbox": [
           {
            "marker": {
             "colorbar": {
              "outlinewidth": 0,
              "ticks": ""
             }
            },
            "type": "scattermapbox"
           }
          ],
          "scatterpolar": [
           {
            "marker": {
             "colorbar": {
              "outlinewidth": 0,
              "ticks": ""
             }
            },
            "type": "scatterpolar"
           }
          ],
          "scatterpolargl": [
           {
            "marker": {
             "colorbar": {
              "outlinewidth": 0,
              "ticks": ""
             }
            },
            "type": "scatterpolargl"
           }
          ],
          "scatterternary": [
           {
            "marker": {
             "colorbar": {
              "outlinewidth": 0,
              "ticks": ""
             }
            },
            "type": "scatterternary"
           }
          ],
          "surface": [
           {
            "colorbar": {
             "outlinewidth": 0,
             "ticks": ""
            },
            "colorscale": [
             [
              0,
              "#0d0887"
             ],
             [
              0.1111111111111111,
              "#46039f"
             ],
             [
              0.2222222222222222,
              "#7201a8"
             ],
             [
              0.3333333333333333,
              "#9c179e"
             ],
             [
              0.4444444444444444,
              "#bd3786"
             ],
             [
              0.5555555555555556,
              "#d8576b"
             ],
             [
              0.6666666666666666,
              "#ed7953"
             ],
             [
              0.7777777777777778,
              "#fb9f3a"
             ],
             [
              0.8888888888888888,
              "#fdca26"
             ],
             [
              1,
              "#f0f921"
             ]
            ],
            "type": "surface"
           }
          ],
          "table": [
           {
            "cells": {
             "fill": {
              "color": "#EBF0F8"
             },
             "line": {
              "color": "white"
             }
            },
            "header": {
             "fill": {
              "color": "#C8D4E3"
             },
             "line": {
              "color": "white"
             }
            },
            "type": "table"
           }
          ]
         },
         "layout": {
          "annotationdefaults": {
           "arrowcolor": "#2a3f5f",
           "arrowhead": 0,
           "arrowwidth": 1
          },
          "autotypenumbers": "strict",
          "coloraxis": {
           "colorbar": {
            "outlinewidth": 0,
            "ticks": ""
           }
          },
          "colorscale": {
           "diverging": [
            [
             0,
             "#8e0152"
            ],
            [
             0.1,
             "#c51b7d"
            ],
            [
             0.2,
             "#de77ae"
            ],
            [
             0.3,
             "#f1b6da"
            ],
            [
             0.4,
             "#fde0ef"
            ],
            [
             0.5,
             "#f7f7f7"
            ],
            [
             0.6,
             "#e6f5d0"
            ],
            [
             0.7,
             "#b8e186"
            ],
            [
             0.8,
             "#7fbc41"
            ],
            [
             0.9,
             "#4d9221"
            ],
            [
             1,
             "#276419"
            ]
           ],
           "sequential": [
            [
             0,
             "#0d0887"
            ],
            [
             0.1111111111111111,
             "#46039f"
            ],
            [
             0.2222222222222222,
             "#7201a8"
            ],
            [
             0.3333333333333333,
             "#9c179e"
            ],
            [
             0.4444444444444444,
             "#bd3786"
            ],
            [
             0.5555555555555556,
             "#d8576b"
            ],
            [
             0.6666666666666666,
             "#ed7953"
            ],
            [
             0.7777777777777778,
             "#fb9f3a"
            ],
            [
             0.8888888888888888,
             "#fdca26"
            ],
            [
             1,
             "#f0f921"
            ]
           ],
           "sequentialminus": [
            [
             0,
             "#0d0887"
            ],
            [
             0.1111111111111111,
             "#46039f"
            ],
            [
             0.2222222222222222,
             "#7201a8"
            ],
            [
             0.3333333333333333,
             "#9c179e"
            ],
            [
             0.4444444444444444,
             "#bd3786"
            ],
            [
             0.5555555555555556,
             "#d8576b"
            ],
            [
             0.6666666666666666,
             "#ed7953"
            ],
            [
             0.7777777777777778,
             "#fb9f3a"
            ],
            [
             0.8888888888888888,
             "#fdca26"
            ],
            [
             1,
             "#f0f921"
            ]
           ]
          },
          "colorway": [
           "#636efa",
           "#EF553B",
           "#00cc96",
           "#ab63fa",
           "#FFA15A",
           "#19d3f3",
           "#FF6692",
           "#B6E880",
           "#FF97FF",
           "#FECB52"
          ],
          "font": {
           "color": "#2a3f5f"
          },
          "geo": {
           "bgcolor": "white",
           "lakecolor": "white",
           "landcolor": "#E5ECF6",
           "showlakes": true,
           "showland": true,
           "subunitcolor": "white"
          },
          "hoverlabel": {
           "align": "left"
          },
          "hovermode": "closest",
          "mapbox": {
           "style": "light"
          },
          "paper_bgcolor": "white",
          "plot_bgcolor": "#E5ECF6",
          "polar": {
           "angularaxis": {
            "gridcolor": "white",
            "linecolor": "white",
            "ticks": ""
           },
           "bgcolor": "#E5ECF6",
           "radialaxis": {
            "gridcolor": "white",
            "linecolor": "white",
            "ticks": ""
           }
          },
          "scene": {
           "xaxis": {
            "backgroundcolor": "#E5ECF6",
            "gridcolor": "white",
            "gridwidth": 2,
            "linecolor": "white",
            "showbackground": true,
            "ticks": "",
            "zerolinecolor": "white"
           },
           "yaxis": {
            "backgroundcolor": "#E5ECF6",
            "gridcolor": "white",
            "gridwidth": 2,
            "linecolor": "white",
            "showbackground": true,
            "ticks": "",
            "zerolinecolor": "white"
           },
           "zaxis": {
            "backgroundcolor": "#E5ECF6",
            "gridcolor": "white",
            "gridwidth": 2,
            "linecolor": "white",
            "showbackground": true,
            "ticks": "",
            "zerolinecolor": "white"
           }
          },
          "shapedefaults": {
           "line": {
            "color": "#2a3f5f"
           }
          },
          "ternary": {
           "aaxis": {
            "gridcolor": "white",
            "linecolor": "white",
            "ticks": ""
           },
           "baxis": {
            "gridcolor": "white",
            "linecolor": "white",
            "ticks": ""
           },
           "bgcolor": "#E5ECF6",
           "caxis": {
            "gridcolor": "white",
            "linecolor": "white",
            "ticks": ""
           }
          },
          "title": {
           "x": 0.05
          },
          "xaxis": {
           "automargin": true,
           "gridcolor": "white",
           "linecolor": "white",
           "ticks": "",
           "title": {
            "standoff": 15
           },
           "zerolinecolor": "white",
           "zerolinewidth": 2
          },
          "yaxis": {
           "automargin": true,
           "gridcolor": "white",
           "linecolor": "white",
           "ticks": "",
           "title": {
            "standoff": 15
           },
           "zerolinecolor": "white",
           "zerolinewidth": 2
          }
         }
        },
        "title": {
         "text": "Mode Choice Calibration Constants"
        },
        "width": 800,
        "xaxis": {
         "title": {
          "text": "Iteration"
         }
        },
        "yaxis": {
         "title": {
          "text": "Constant Value"
         }
        }
       }
      },
      "text/html": [
       "<div>                            <div id=\"691ab44c-89ca-4045-86b5-4bb92bcaec05\" class=\"plotly-graph-div\" style=\"height:400px; width:800px;\"></div>            <script type=\"text/javascript\">                require([\"plotly\"], function(Plotly) {                    window.PLOTLYENV=window.PLOTLYENV || {};                                    if (document.getElementById(\"691ab44c-89ca-4045-86b5-4bb92bcaec05\")) {                    Plotly.newPlot(                        \"691ab44c-89ca-4045-86b5-4bb92bcaec05\",                        [{\"mode\":\"lines+markers\",\"name\":\"HBO Pk asc_nonmotor_0veh\",\"x\":[40,39,38,37,36,35,34,33,32,31,30,29,28,27,26,25,24,23,22,21,20,19,18,17,16,15,14,13,12,11,10,9,8,7,6,5,4,3,2,1,0],\"y\":[2.567500114440918,2.5638999938964844,2.5599000453948975,2.5553998947143555,2.550299882888794,2.544600009918213,2.538300037384033,2.5311999320983887,2.523200035095215,2.5143001079559326,2.504300117492676,2.4930999279022217,2.4804999828338623,2.4663000106811523,2.4502999782562256,2.432300090789795,2.412100076675415,2.3893001079559326,2.3636999130249023,2.3348000049591064,2.3022000789642334,2.265399932861328,2.223900079727173,2.177000045776367,2.1240999698638916,2.064300060272217,1.9967000484466553,1.920199990272522,1.8336000442504883,1.7355999946594238,1.6246999502182007,1.4990999698638916,1.357100009918213,1.1970000267028809,1.0176000595092773,0.8194000124931335,0.6065000295639038,0.3903999924659729,0.19419999420642853,0.05299999937415123,0.0],\"type\":\"scatter\"},{\"mode\":\"lines+markers\",\"name\":\"HBO Pk asc_nonmotor_1veh\",\"x\":[40,39,38,37,36,35,34,33,32,31,30,29,28,27,26,25,24,23,22,21,20,19,18,17,16,15,14,13,12,11,10,9,8,7,6,5,4,3,2,1,0],\"y\":[-0.26350000500679016,-0.2635999917984009,-0.263700008392334,-0.2637999951839447,-0.2639000117778778,-0.26409998536109924,-0.26429998874664307,-0.2644999921321869,-0.2646999955177307,-0.26489999890327454,-0.2651999890804291,-0.265500009059906,-0.26589998602867126,-0.2662999927997589,-0.2667999863624573,-0.26739999651908875,-0.26809999346733093,-0.2689000070095062,-0.27000001072883606,-0.27140000462532043,-0.27309998869895935,-0.275299996137619,-0.2782000005245209,-0.28200000524520874,-0.28690001368522644,-0.29339998960494995,-0.3019999861717224,-0.3131999969482422,-0.3278000056743622,-0.3467999994754791,-0.3711000084877014,-0.4020000100135803,-0.44040000438690186,-0.4867999851703644,-0.5400000214576721,-0.5953999757766724,-0.6413999795913696,-0.6535000205039978,-0.5885999798774719,-0.3869999945163727,0.0],\"type\":\"scatter\"},{\"mode\":\"lines+markers\",\"name\":\"HBO Pk asc_nonmotor_2veh\",\"x\":[40,39,38,37,36,35,34,33,32,31,30,29,28,27,26,25,24,23,22,21,20,19,18,17,16,15,14,13,12,11,10,9,8,7,6,5,4,3,2,1,0],\"y\":[-0.14180000126361847,-0.14190000295639038,-0.1420000046491623,-0.14219999313354492,-0.14239999651908875,-0.14259999990463257,-0.1428000032901764,-0.14309999346733093,-0.14339999854564667,-0.14380000531673431,-0.14419999718666077,-0.14470000565052032,-0.1453000009059906,-0.1459999978542328,-0.1468999981880188,-0.14800000190734863,-0.1492999941110611,-0.1509000062942505,-0.15289999544620514,-0.15539999306201935,-0.15850000083446503,-0.1624000072479248,-0.1673000007867813,-0.17350000143051147,-0.18140000104904175,-0.1914999932050705,-0.20440000295639038,-0.2207999974489212,-0.24160000681877136,-0.2678999900817871,-0.3009999990463257,-0.34209999442100525,-0.39239999651908875,-0.4523000121116638,-0.5206000208854675,-0.5922999978065491,-0.6545000076293945,-0.6804999709129333,-0.6226999759674072,-0.41429999470710754,0.0],\"type\":\"scatter\"},{\"mode\":\"lines+markers\",\"name\":\"HBO Pk asc_transit_0veh\",\"x\":[40,39,38,37,36,35,34,33,32,31,30,29,28,27,26,25,24,23,22,21,20,19,18,17,16,15,14,13,12,11,10,9,8,7,6,5,4,3,2,1,0],\"y\":[1.8408000469207764,1.840999960899353,1.8413000106811523,1.8416999578475952,1.8421000242233276,1.8425999879837036,1.8431999683380127,1.8438999652862549,1.8446999788284302,1.8456000089645386,1.8466999530792236,1.8479000329971313,1.8493000268936157,1.8509000539779663,1.8526999950408936,1.854699969291687,1.8567999601364136,1.8589999675750732,1.861299991607666,1.8636000156402588,1.8658000230789185,1.8676999807357788,1.8690999746322632,1.8696000576019287,1.868899941444397,1.8664000034332275,1.8615000247955322,1.8531999588012695,1.840499997138977,1.8220000267028809,1.7960000038146973,1.7604000568389893,1.712399959564209,1.6484999656677246,1.5642999410629272,1.4541000127792358,1.3102999925613403,1.121999979019165,0.8718000054359436,0.5248000025749207,0.0],\"type\":\"scatter\"},{\"mode\":\"lines+markers\",\"name\":\"HBO Pk asc_transit_1veh\",\"x\":[40,39,38,37,36,35,34,33,32,31,30,29,28,27,26,25,24,23,22,21,20,19,18,17,16,15,14,13,12,11,10,9,8,7,6,5,4,3,2,1,0],\"y\":[-1.440000057220459,-1.4414000511169434,-1.4428999423980713,-1.444599986076355,-1.4464000463485718,-1.4484000205993652,-1.450600028038025,-1.4529000520706177,-1.4555000066757202,-1.4581999778747559,-1.4610999822616577,-1.4641000032424927,-1.4673000574111938,-1.4704999923706055,-1.4737000465393066,-1.4768999814987183,-1.4799000024795532,-1.4824999570846558,-1.4845999479293823,-1.4860999584197998,-1.4867000579833984,-1.4860999584197998,-1.4839999675750732,-1.4802000522613525,-1.4742000102996826,-1.4656000137329102,-1.4539999961853027,-1.4390000104904175,-1.4200999736785889,-1.3966000080108643,-1.367900013923645,-1.333299994468689,-1.2914999723434448,-1.2408000230789185,-1.1783000230789185,-1.0994999408721924,-0.9973000288009644,-0.8604000210762024,-0.671500027179718,-0.40299999713897705,0.0],\"type\":\"scatter\"},{\"mode\":\"lines+markers\",\"name\":\"HBO Pk asc_transit_2veh\",\"x\":[40,39,38,37,36,35,34,33,32,31,30,29,28,27,26,25,24,23,22,21,20,19,18,17,16,15,14,13,12,11,10,9,8,7,6,5,4,3,2,1,0],\"y\":[-2.106800079345703,-2.1084001064300537,-2.1101999282836914,-2.1122000217437744,-2.114300012588501,-2.1166000366210938,-2.1191999912261963,-2.121999979019165,-2.1250998973846436,-2.128499984741211,-2.1321001052856445,-2.1359000205993652,-2.139899969100952,-2.1440999507904053,-2.148400068283081,-2.1528000831604004,-2.1572000980377197,-2.161600112915039,-2.1656999588012695,-2.1695001125335693,-2.1726999282836914,-2.1751999855041504,-2.1767001152038574,-2.177000045776367,-2.1756999492645264,-2.172499895095825,-2.167099952697754,-2.1589999198913574,-2.147599935531616,-2.1322999000549316,-2.111999988555908,-2.085400104522705,-2.050299882888794,-2.0032999515533447,-1.938599944114685,-1.847000002861023,-1.7131999731063843,-1.5125000476837158,-1.2062000036239624,-0.734000027179718,0.0],\"type\":\"scatter\"},{\"mode\":\"lines+markers\",\"name\":\"HBO Pk asc_shared_1veh\",\"x\":[40,39,38,37,36,35,34,33,32,31,30,29,28,27,26,25,24,23,22,21,20,19,18,17,16,15,14,13,12,11,10,9,8,7,6,5,4,3,2,1,0],\"y\":[-0.1704999953508377,-0.1704999953508377,-0.1704999953508377,-0.1704999953508377,-0.1704999953508377,-0.1704999953508377,-0.1704999953508377,-0.1704999953508377,-0.1704999953508377,-0.1704999953508377,-0.1704999953508377,-0.1703999936580658,-0.17030000686645508,-0.17020000517368317,-0.17010000348091125,-0.17000000178813934,-0.16979999840259552,-0.1695999950170517,-0.16930000483989716,-0.1688999980688095,-0.16840000450611115,-0.16779999434947968,-0.16699999570846558,-0.16599999368190765,-0.1647000014781952,-0.163100004196167,-0.16099999845027924,-0.15839999914169312,-0.1551000028848648,-0.1509999930858612,-0.14589999616146088,-0.13950000703334808,-0.1316000074148178,-0.12189999967813492,-0.11020000278949738,-0.09619999676942825,-0.07980000227689743,-0.06109999865293503,-0.0406000018119812,-0.019500000402331352,0.0],\"type\":\"scatter\"},{\"mode\":\"lines+markers\",\"name\":\"HBO Pk asc_shared_2veh\",\"x\":[40,39,38,37,36,35,34,33,32,31,30,29,28,27,26,25,24,23,22,21,20,19,18,17,16,15,14,13,12,11,10,9,8,7,6,5,4,3,2,1,0],\"y\":[0.14350000023841858,0.14350000023841858,0.14350000023841858,0.14350000023841858,0.14350000023841858,0.14350000023841858,0.14350000023841858,0.14350000023841858,0.14350000023841858,0.14350000023841858,0.14339999854564667,0.14329999685287476,0.14319999516010284,0.14309999346733093,0.14300000667572021,0.1429000049829483,0.1428000032901764,0.14259999990463257,0.14239999651908875,0.1421000063419342,0.14180000126361847,0.14139999449253082,0.14090000092983246,0.1404000073671341,0.1396999955177307,0.1388999968767166,0.1379999965429306,0.13680000603199005,0.13539999723434448,0.13369999825954437,0.1316000074148178,0.12890000641345978,0.12549999356269836,0.12120000272989273,0.11559999734163284,0.10830000042915344,0.09849999845027924,0.08510000258684158,0.06639999896287918,0.03959999978542328,0.0],\"type\":\"scatter\"},{\"mode\":\"lines+markers\",\"name\":\"HBO Pk asc_sr3_all\",\"x\":[40,39,38,37,36,35,34,33,32,31,30,29,28,27,26,25,24,23,22,21,20,19,18,17,16,15,14,13,12,11,10,9,8,7,6,5,4,3,2,1,0],\"y\":[0.14910000562667847,0.14910000562667847,0.14910000562667847,0.14910000562667847,0.14910000562667847,0.14910000562667847,0.14910000562667847,0.14910000562667847,0.14910000562667847,0.14910000562667847,0.14910000562667847,0.14910000562667847,0.14910000562667847,0.14910000562667847,0.14910000562667847,0.14910000562667847,0.14910000562667847,0.14910000562667847,0.14910000562667847,0.14910000562667847,0.14910000562667847,0.14910000562667847,0.14910000562667847,0.14910000562667847,0.14910000562667847,0.14900000393390656,0.14890000224113464,0.14869999885559082,0.14839999377727509,0.14800000190734863,0.14740000665187836,0.14650000631809235,0.14509999752044678,0.1429000049829483,0.13950000703334808,0.13420000672340393,0.125900000333786,0.11289999634027481,0.09210000187158585,0.05810000002384186,0.0],\"type\":\"scatter\"},{\"mode\":\"lines+markers\",\"name\":\"HBO Pk asc_hov_all\",\"x\":[40,39,38,37,36,35,34,33,32,31,30,29,28,27,26,25,24,23,22,21,20,19,18,17,16,15,14,13,12,11,10,9,8,7,6,5,4,3,2,1,0],\"y\":[0.08749999850988388,0.08749999850988388,0.08749999850988388,0.08749999850988388,0.08749999850988388,0.08749999850988388,0.08749999850988388,0.08749999850988388,0.08749999850988388,0.08749999850988388,0.08749999850988388,0.08749999850988388,0.08749999850988388,0.08749999850988388,0.08749999850988388,0.08749999850988388,0.08749999850988388,0.08749999850988388,0.08749999850988388,0.08749999850988388,0.08749999850988388,0.08749999850988388,0.08749999850988388,0.08749999850988388,0.08749999850988388,0.08749999850988388,0.08749999850988388,0.08749999850988388,0.08749999850988388,0.08749999850988388,0.08749999850988388,0.08749999850988388,0.08749999850988388,0.08749999850988388,0.08749999850988388,0.08749999850988388,0.08749999850988388,0.08749999850988388,0.08749999850988388,0.08749999850988388,0.08749999850988388],\"type\":\"scatter\"},{\"mode\":\"lines+markers\",\"name\":\"HBO Pk asc_toll_all\",\"x\":[40,39,38,37,36,35,34,33,32,31,30,29,28,27,26,25,24,23,22,21,20,19,18,17,16,15,14,13,12,11,10,9,8,7,6,5,4,3,2,1,0],\"y\":[-0.3499999940395355,-0.3499999940395355,-0.3499999940395355,-0.3499999940395355,-0.3499999940395355,-0.3499999940395355,-0.3499999940395355,-0.3499999940395355,-0.3499999940395355,-0.3499999940395355,-0.3499999940395355,-0.3499999940395355,-0.3499999940395355,-0.3499999940395355,-0.3499999940395355,-0.3499999940395355,-0.3499999940395355,-0.3499999940395355,-0.3499999940395355,-0.3499999940395355,-0.3499999940395355,-0.3499999940395355,-0.3499999940395355,-0.3499999940395355,-0.3499999940395355,-0.3499999940395355,-0.3499999940395355,-0.3499999940395355,-0.3499999940395355,-0.3499999940395355,-0.3499999940395355,-0.3499999940395355,-0.3499999940395355,-0.3499999940395355,-0.3499999940395355,-0.3499999940395355,-0.3499999940395355,-0.3499999940395355,-0.3499999940395355,-0.3499999940395355,-0.3499999940395355],\"type\":\"scatter\"},{\"mode\":\"lines+markers\",\"name\":\"HBO Pk asc_EXP_all\",\"x\":[40,39,38,37,36,35,34,33,32,31,30,29,28,27,26,25,24,23,22,21,20,19,18,17,16,15,14,13,12,11,10,9,8,7,6,5,4,3,2,1,0],\"y\":[0.2630000114440918,0.26159998774528503,0.26030001044273376,0.2590999901294708,0.257999986410141,0.25690001249313354,0.25589999556541443,0.2551000118255615,0.25440001487731934,0.25380000472068787,0.2533000111579895,0.2529999911785126,0.25279998779296875,0.25279998779296875,0.25279998779296875,0.2529999911785126,0.2533000111579895,0.25360000133514404,0.2538999915122986,0.2540999948978424,0.2542000114917755,0.2540000081062317,0.2535000145435333,0.2524000108242035,0.2506999969482422,0.24799999594688416,0.24420000612735748,0.23899999260902405,0.23199999332427979,0.22290000319480896,0.21130000054836273,0.19660000503063202,0.17810000479221344,0.1550000011920929,0.12639999389648438,0.0885000005364418,0.04690000042319298,-0.037300001829862595,-0.05559999868273735,-0.38519999384880066,0.0],\"type\":\"scatter\"},{\"mode\":\"lines+markers\",\"name\":\"HBO Pk asc_BRT_all\",\"x\":[40,39,38,37,36,35,34,33,32,31,30,29,28,27,26,25,24,23,22,21,20,19,18,17,16,15,14,13,12,11,10,9,8,7,6,5,4,3,2,1,0],\"y\":[-0.1599999964237213,-0.1518000066280365,-0.14350000023841858,-0.13519999384880066,-0.12680000066757202,-0.11840000003576279,-0.10999999940395355,-0.1014999970793724,-0.09300000220537186,-0.0843999981880188,-0.07569999992847443,-0.06700000166893005,-0.05829999968409538,-0.04960000142455101,-0.040800001472234726,-0.03200000151991844,-0.02319999970495701,-0.014499999582767487,-0.006000000052154064,0.002400000113993883,0.010499999858438969,0.018300000578165054,0.025699999183416367,0.032499998807907104,0.03869999945163727,0.04399999976158142,0.04839999973773956,0.05169999971985817,0.05389999970793724,0.05480000004172325,0.0544000007212162,0.05270000174641609,0.049800001084804535,0.04580000042915344,0.040800001472234726,0.034699998795986176,0.026799999177455902,0.01510000042617321,-0.002899999963119626,-0.021299999207258224,0.0],\"type\":\"scatter\"},{\"mode\":\"lines+markers\",\"name\":\"HBO Pk asc_LRT_all\",\"x\":[40,39,38,37,36,35,34,33,32,31,30,29,28,27,26,25,24,23,22,21,20,19,18,17,16,15,14,13,12,11,10,9,8,7,6,5,4,3,2,1,0],\"y\":[0.35659998655319214,0.3578000068664551,0.35899999737739563,0.3603000044822693,0.36169999837875366,0.36320000886917114,0.36469998955726624,0.36640000343322754,0.36820000410079956,0.3700999915599823,0.37209999561309814,0.3743000030517578,0.3765999972820282,0.3790000081062317,0.3815999925136566,0.38429999351501465,0.3871000111103058,0.38999998569488525,0.3928999900817871,0.39570000767707825,0.3984000086784363,0.4009000062942505,0.40299999713897705,0.40459999442100525,0.40560001134872437,0.4056999981403351,0.40470001101493835,0.40230000019073486,0.3982999920845032,0.39239999651908875,0.38440001010894775,0.37400001287460327,0.3610999882221222,0.34540000557899475,0.32690000534057617,0.305400013923645,0.2800000011920929,0.2483000010251999,0.20309999585151672,0.12809999287128448,0.0],\"type\":\"scatter\"},{\"mode\":\"lines+markers\",\"name\":\"HBO Pk asc_CRT_all\",\"x\":[40,39,38,37,36,35,34,33,32,31,30,29,28,27,26,25,24,23,22,21,20,19,18,17,16,15,14,13,12,11,10,9,8,7,6,5,4,3,2,1,0],\"y\":[1.44350004196167,1.4192999601364136,1.3950999975204468,1.37090003490448,1.3466999530792236,1.3224999904632568,1.29830002784729,1.2740999460220337,1.249899983406067,1.2257000207901,1.2015000581741333,1.1771999597549438,1.152899980545044,1.128600001335144,1.104099988937378,1.0794999599456787,1.0547000169754028,1.0296000242233276,1.0041999816894531,0.9783999919891357,0.9520999789237976,0.9251000285148621,0.8973000049591064,0.8686000108718872,0.8388000130653381,0.807699978351593,0.7749999761581421,0.7405999898910522,0.704200029373169,0.6654999852180481,0.6243000030517578,0.580299973487854,0.5332000255584717,0.4830000102519989,0.42989999055862427,0.37450000643730164,0.31790000200271606,0.26159998774528503,0.20340000092983246,0.13410000503063202,0.0],\"type\":\"scatter\"},{\"mode\":\"lines+markers\",\"name\":\"HBO Pk asc_driveacc_1veh\",\"x\":[40,39,38,37,36,35,34,33,32,31,30,29,28,27,26,25,24,23,22,21,20,19,18,17,16,15,14,13,12,11,10,9,8,7,6,5,4,3,2,1,0],\"y\":[-1.0800000429153442,-1.0764000415802002,-1.0724999904632568,-1.0683000087738037,-1.0638999938964844,-1.0591000318527222,-1.0540000200271606,-1.0484999418258667,-1.0426000356674194,-1.0362000465393066,-1.0293999910354614,-1.0220999717712402,-1.01419997215271,-1.0056999921798706,-0.9966999888420105,-0.9871000051498413,-0.9768000245094299,-0.9659000039100647,-0.9542999863624573,-0.9420999884605408,-0.9291999936103821,-0.9154999852180481,-0.9010999798774719,-0.8859999775886536,-0.8701000213623047,-0.8532999753952026,-0.8356000185012817,-0.8167999982833862,-0.7967000007629395,-0.7750999927520752,-0.7516000270843506,-0.7257999777793884,-0.6972000002861023,-0.6650000214576721,-0.6280999779701233,-0.5849000215530396,-0.5324000120162964,-0.46470001339912415,-0.3700000047683716,-0.22579999268054962,0.0],\"type\":\"scatter\"},{\"mode\":\"lines+markers\",\"name\":\"HBO Pk asc_driveacc_2veh\",\"x\":[40,39,38,37,36,35,34,33,32,31,30,29,28,27,26,25,24,23,22,21,20,19,18,17,16,15,14,13,12,11,10,9,8,7,6,5,4,3,2,1,0],\"y\":[-0.7804999947547913,-0.7767000198364258,-0.772599995136261,-0.7682999968528748,-0.7635999917984009,-0.7585999965667725,-0.7531999945640564,-0.7475000023841858,-0.7412999868392944,-0.7347000241279602,-0.7275999784469604,-0.7200000286102295,-0.7117999792098999,-0.7031000256538391,-0.6937000155448914,-0.6837000250816345,-0.6730999946594238,-0.6618000268936157,-0.6498000025749207,-0.6370000243186951,-0.6233999729156494,-0.609000027179718,-0.5936999917030334,-0.5774999856948853,-0.5602999925613403,-0.5419999957084656,-0.5224999785423279,-0.5016999840736389,-0.47940000891685486,-0.4553999900817871,-0.4296000003814697,-0.4018000066280365,-0.3718000054359436,-0.33959999680519104,-0.3052000105381012,-0.2689000070095062,-0.23080000281333923,-0.19030000269412994,-0.14480000734329224,-0.08659999817609787,0.0],\"type\":\"scatter\"},{\"mode\":\"lines+markers\",\"name\":\"HBO Pk asc_wEXP_all\",\"x\":[40,39,38,37,36,35,34,33,32,31,30,29,28,27,26,25,24,23,22,21,20,19,18,17,16,15,14,13,12,11,10,9,8,7,6,5,4,3,2,1,0],\"y\":[0.718999981880188,0.7218999862670898,0.7249000072479248,0.7281000018119812,0.7315000295639038,0.7348999977111816,0.7384999990463257,0.7422999739646912,0.7462999820709229,0.7505000233650208,0.754800021648407,0.7594000101089478,0.76419997215271,0.7692000269889832,0.774399995803833,0.7797999978065491,0.7853999733924866,0.791100025177002,0.7968999743461609,0.8026999831199646,0.8083000183105469,0.8137999773025513,0.8190000057220459,0.8235999941825867,0.8277000188827515,0.8307999968528748,0.8327999711036682,0.8334000110626221,0.8321999907493591,0.8288999795913696,0.8230000138282776,0.8137999773025513,0.800599992275238,0.7822999954223633,0.7576000094413757,0.7224000096321106,0.6779999732971191,0.5895000100135803,0.515500009059906,0.1395999938249588,0.0],\"type\":\"scatter\"},{\"mode\":\"lines+markers\",\"name\":\"HBO Pk asc_wBRT_all\",\"x\":[40,39,38,37,36,35,34,33,32,31,30,29,28,27,26,25,24,23,22,21,20,19,18,17,16,15,14,13,12,11,10,9,8,7,6,5,4,3,2,1,0],\"y\":[0.21089999377727509,0.20319999754428864,0.19550000131130219,0.18780000507831573,0.18019999563694,0.17260000109672546,0.16500000655651093,0.1573999971151352,0.14980000257492065,0.14229999482631683,0.1348000019788742,0.12729999423027039,0.11980000138282776,0.11219999939203262,0.10459999740123749,0.09690000116825104,0.08910000324249268,0.08110000193119049,0.07289999723434448,0.06440000236034393,0.05559999868273735,0.046300001442432404,0.0364999994635582,0.026100000366568565,0.01510000042617321,0.0032999999821186066,-0.00930000003427267,-0.022700000554323196,-0.03689999878406525,-0.05180000141263008,-0.06719999760389328,-0.08269999921321869,-0.09780000150203705,-0.11159999668598175,-0.12300000339746475,-0.13050000369548798,-0.13230000436306,-0.1265999972820282,-0.11060000211000443,-0.07559999823570251,0.0],\"type\":\"scatter\"},{\"mode\":\"lines+markers\",\"name\":\"HBO Pk asc_wLRT_all\",\"x\":[40,39,38,37,36,35,34,33,32,31,30,29,28,27,26,25,24,23,22,21,20,19,18,17,16,15,14,13,12,11,10,9,8,7,6,5,4,3,2,1,0],\"y\":[0.5985000133514404,0.5986999869346619,0.5989999771118164,0.599399983882904,0.5999000072479248,0.600600004196167,0.6014000177383423,0.602400004863739,0.6035000085830688,0.6047999858856201,0.6062999963760376,0.6079999804496765,0.6098999977111816,0.6121000051498413,0.6144999861717224,0.6171000003814697,0.6198999881744385,0.6229000091552734,0.6259999871253967,0.6291000247001648,0.6322000026702881,0.6351000070571899,0.6377999782562256,0.6399999856948853,0.6416000127792358,0.6424000263214111,0.6421999931335449,0.6406999826431274,0.6376000046730042,0.6327000260353088,0.6258000135421753,0.616599977016449,0.6050000190734863,0.5907999873161316,0.5738000273704529,0.553600013256073,0.5285000205039978,0.4936999976634979,0.4348999857902527,0.310699999332428,0.0],\"type\":\"scatter\"},{\"mode\":\"lines+markers\",\"name\":\"HBO Pk asc_wCRT_all\",\"x\":[40,39,38,37,36,35,34,33,32,31,30,29,28,27,26,25,24,23,22,21,20,19,18,17,16,15,14,13,12,11,10,9,8,7,6,5,4,3,2,1,0],\"y\":[0.8758999705314636,0.902899980545044,0.9301999807357788,0.9577999711036682,0.98580002784729,1.01419997215271,1.0430999994277954,1.0723999738693237,1.1023000478744507,1.1327999830245972,1.1639000177383423,1.1956000328063965,1.2280000448226929,1.2611000537872314,1.2948999404907227,1.329300045967102,1.364400029182434,1.399999976158142,1.4361000061035156,1.472499966621399,1.5089999437332153,1.545300006866455,1.5809999704360962,1.6158000230789185,1.6490000486373901,1.6799999475479126,1.707900047302246,1.731600046157837,1.7497999668121338,1.760699987411499,1.7623000144958496,1.7518999576568604,1.726099967956543,1.6806999444961548,1.6104999780654907,1.5090999603271484,1.368499994277954,1.1785999536514282,0.9212999939918518,0.5641000270843506,0.0],\"type\":\"scatter\"},{\"mode\":\"lines+markers\",\"name\":\"HBO Pk asc_dEXP_all\",\"x\":[40,39,38,37,36,35,34,33,32,31,30,29,28,27,26,25,24,23,22,21,20,19,18,17,16,15,14,13,12,11,10,9,8,7,6,5,4,3,2,1,0],\"y\":[-0.13050000369548798,-0.13120000064373016,-0.13210000097751617,-0.1331000030040741,-0.13429999351501465,-0.13570000231266022,-0.13740000128746033,-0.13930000364780426,-0.14139999449253082,-0.14380000531673431,-0.14659999310970306,-0.14959999918937683,-0.15299999713897705,-0.156700000166893,-0.16089999675750732,-0.1655000001192093,-0.17059999704360962,-0.1761000007390976,-0.18219999969005585,-0.18889999389648438,-0.19619999825954437,-0.20440000295639038,-0.21320000290870667,-0.22290000319480896,-0.23350000381469727,-0.2451999932527542,-0.2578999996185303,-0.2718000113964081,-0.2870999872684479,-0.30379998683929443,-0.32199999690055847,-0.3416999876499176,-0.3628999888896942,-0.3853999972343445,-0.4074999988079071,-0.4316999912261963,-0.4390999972820282,-0.486299991607666,-0.3781000077724457,-0.6177999973297119,0.0],\"type\":\"scatter\"},{\"mode\":\"lines+markers\",\"name\":\"HBO Pk asc_dBRT_all\",\"x\":[40,39,38,37,36,35,34,33,32,31,30,29,28,27,26,25,24,23,22,21,20,19,18,17,16,15,14,13,12,11,10,9,8,7,6,5,4,3,2,1,0],\"y\":[-0.4846999943256378,-0.4950999915599823,-0.5056999921798706,-0.5164999961853027,-0.527400016784668,-0.5385000109672546,-0.5497999787330627,-0.5612999796867371,-0.5730000138282776,-0.5849999785423279,-0.5971999764442444,-0.6097000241279602,-0.6226000189781189,-0.6358000040054321,-0.6495000123977661,-0.6635000109672546,-0.6779999732971191,-0.6929000020027161,-0.7084000110626221,-0.7245000004768372,-0.7414000034332275,-0.7590000033378601,-0.7774999737739563,-0.796999990940094,-0.8176000118255615,-0.8395000100135803,-0.8628000020980835,-0.8878999948501587,-0.914900004863739,-0.944100022315979,-0.975600004196167,-1.0094000101089478,-1.044800043106079,-1.080199956893921,-1.111899971961975,-1.1325000524520874,-1.1282000541687012,-1.073799967765808,-0.9233999848365784,-0.5968999862670898,0.0],\"type\":\"scatter\"},{\"mode\":\"lines+markers\",\"name\":\"HBO Pk asc_dLRT_all\",\"x\":[40,39,38,37,36,35,34,33,32,31,30,29,28,27,26,25,24,23,22,21,20,19,18,17,16,15,14,13,12,11,10,9,8,7,6,5,4,3,2,1,0],\"y\":[0.4422000050544739,0.43869999051094055,0.4350000023841858,0.4311000108718872,0.4269999861717224,0.4226999878883362,0.4180999994277954,0.4133000075817108,0.4081999957561493,0.4027999937534332,0.3970000147819519,0.39089998602867126,0.38440001010894775,0.3774000108242035,0.3698999881744385,0.3619000017642975,0.35339999198913574,0.3443000018596649,0.3346000015735626,0.32409998774528503,0.31290000677108765,0.30090001225471497,0.28790000081062317,0.27390000224113464,0.2587999999523163,0.2425999939441681,0.22499999403953552,0.20600000023841858,0.18539999425411224,0.16300000250339508,0.1386999934911728,0.11240000277757645,0.08429999649524689,0.05490000173449516,0.025100000202655792,-0.003100000089034438,-0.026499999687075615,-0.040800001472234726,-0.041200000792741776,-0.02590000070631504,0.0],\"type\":\"scatter\"},{\"mode\":\"lines+markers\",\"name\":\"HBO Pk asc_dCRT_all\",\"x\":[40,39,38,37,36,35,34,33,32,31,30,29,28,27,26,25,24,23,22,21,20,19,18,17,16,15,14,13,12,11,10,9,8,7,6,5,4,3,2,1,0],\"y\":[0.28049999475479126,0.3025999963283539,0.3246000111103058,0.3465999960899353,0.3684000074863434,0.39010000228881836,0.4117000102996826,0.43320000171661377,0.4546000063419342,0.47589999437332153,0.49709999561309814,0.5181000232696533,0.5389999747276306,0.5598000288009644,0.5803999900817871,0.6007999777793884,0.6209999918937683,0.640999972820282,0.6607999801635742,0.6802999973297119,0.699400007724762,0.7181000113487244,0.7361999750137329,0.7537000179290771,0.7703999876976013,0.7860999703407288,0.8004999756813049,0.8133999705314636,0.824400007724762,0.8330000042915344,0.8385999798774719,0.8403000235557556,0.836899995803833,0.82669997215271,0.8069999814033508,0.7738999724388123,0.7214000225067139,0.6402999758720398,0.5148000121116638,0.32170000672340393,0.0],\"type\":\"scatter\"},{\"mode\":\"lines+markers\",\"name\":\"HBO Pk asc_bike_all\",\"x\":[40,39,38,37,36,35,34,33,32,31,30,29,28,27,26,25,24,23,22,21,20,19,18,17,16,15,14,13,12,11,10,9,8,7,6,5,4,3,2,1,0],\"y\":[-2.9242000579833984,-2.923799991607666,-2.9233999252319336,-2.9228999614715576,-2.9223999977111816,-2.921799898147583,-2.921099901199341,-2.920300006866455,-2.9193999767303467,-2.9184000492095947,-2.91729998588562,-2.916100025177002,-2.9147000312805176,-2.9131999015808105,-2.9114999771118164,-2.909600019454956,-2.907399892807007,-2.904900074005127,-2.902100086212158,-2.8987998962402344,-2.8949999809265137,-2.890500068664551,-2.885200023651123,-2.8787999153137207,-2.870800018310547,-2.86080002784729,-2.8480000495910645,-2.8313000202178955,-2.8090999126434326,-2.779099941253662,-2.738300085067749,-2.6821000576019287,-2.604300022125244,-2.4964001178741455,-2.347399950027466,-2.143699884414673,-1.87090003490448,-1.517300009727478,-1.079699993133545,-0.5674999952316284,0.0],\"type\":\"scatter\"}],                        {\"height\":400,\"template\":{\"data\":{\"barpolar\":[{\"marker\":{\"line\":{\"color\":\"#E5ECF6\",\"width\":0.5},\"pattern\":{\"fillmode\":\"overlay\",\"size\":10,\"solidity\":0.2}},\"type\":\"barpolar\"}],\"bar\":[{\"error_x\":{\"color\":\"#2a3f5f\"},\"error_y\":{\"color\":\"#2a3f5f\"},\"marker\":{\"line\":{\"color\":\"#E5ECF6\",\"width\":0.5},\"pattern\":{\"fillmode\":\"overlay\",\"size\":10,\"solidity\":0.2}},\"type\":\"bar\"}],\"carpet\":[{\"aaxis\":{\"endlinecolor\":\"#2a3f5f\",\"gridcolor\":\"white\",\"linecolor\":\"white\",\"minorgridcolor\":\"white\",\"startlinecolor\":\"#2a3f5f\"},\"baxis\":{\"endlinecolor\":\"#2a3f5f\",\"gridcolor\":\"white\",\"linecolor\":\"white\",\"minorgridcolor\":\"white\",\"startlinecolor\":\"#2a3f5f\"},\"type\":\"carpet\"}],\"choropleth\":[{\"colorbar\":{\"outlinewidth\":0,\"ticks\":\"\"},\"type\":\"choropleth\"}],\"contourcarpet\":[{\"colorbar\":{\"outlinewidth\":0,\"ticks\":\"\"},\"type\":\"contourcarpet\"}],\"contour\":[{\"colorbar\":{\"outlinewidth\":0,\"ticks\":\"\"},\"colorscale\":[[0.0,\"#0d0887\"],[0.1111111111111111,\"#46039f\"],[0.2222222222222222,\"#7201a8\"],[0.3333333333333333,\"#9c179e\"],[0.4444444444444444,\"#bd3786\"],[0.5555555555555556,\"#d8576b\"],[0.6666666666666666,\"#ed7953\"],[0.7777777777777778,\"#fb9f3a\"],[0.8888888888888888,\"#fdca26\"],[1.0,\"#f0f921\"]],\"type\":\"contour\"}],\"heatmapgl\":[{\"colorbar\":{\"outlinewidth\":0,\"ticks\":\"\"},\"colorscale\":[[0.0,\"#0d0887\"],[0.1111111111111111,\"#46039f\"],[0.2222222222222222,\"#7201a8\"],[0.3333333333333333,\"#9c179e\"],[0.4444444444444444,\"#bd3786\"],[0.5555555555555556,\"#d8576b\"],[0.6666666666666666,\"#ed7953\"],[0.7777777777777778,\"#fb9f3a\"],[0.8888888888888888,\"#fdca26\"],[1.0,\"#f0f921\"]],\"type\":\"heatmapgl\"}],\"heatmap\":[{\"colorbar\":{\"outlinewidth\":0,\"ticks\":\"\"},\"colorscale\":[[0.0,\"#0d0887\"],[0.1111111111111111,\"#46039f\"],[0.2222222222222222,\"#7201a8\"],[0.3333333333333333,\"#9c179e\"],[0.4444444444444444,\"#bd3786\"],[0.5555555555555556,\"#d8576b\"],[0.6666666666666666,\"#ed7953\"],[0.7777777777777778,\"#fb9f3a\"],[0.8888888888888888,\"#fdca26\"],[1.0,\"#f0f921\"]],\"type\":\"heatmap\"}],\"histogram2dcontour\":[{\"colorbar\":{\"outlinewidth\":0,\"ticks\":\"\"},\"colorscale\":[[0.0,\"#0d0887\"],[0.1111111111111111,\"#46039f\"],[0.2222222222222222,\"#7201a8\"],[0.3333333333333333,\"#9c179e\"],[0.4444444444444444,\"#bd3786\"],[0.5555555555555556,\"#d8576b\"],[0.6666666666666666,\"#ed7953\"],[0.7777777777777778,\"#fb9f3a\"],[0.8888888888888888,\"#fdca26\"],[1.0,\"#f0f921\"]],\"type\":\"histogram2dcontour\"}],\"histogram2d\":[{\"colorbar\":{\"outlinewidth\":0,\"ticks\":\"\"},\"colorscale\":[[0.0,\"#0d0887\"],[0.1111111111111111,\"#46039f\"],[0.2222222222222222,\"#7201a8\"],[0.3333333333333333,\"#9c179e\"],[0.4444444444444444,\"#bd3786\"],[0.5555555555555556,\"#d8576b\"],[0.6666666666666666,\"#ed7953\"],[0.7777777777777778,\"#fb9f3a\"],[0.8888888888888888,\"#fdca26\"],[1.0,\"#f0f921\"]],\"type\":\"histogram2d\"}],\"histogram\":[{\"marker\":{\"pattern\":{\"fillmode\":\"overlay\",\"size\":10,\"solidity\":0.2}},\"type\":\"histogram\"}],\"mesh3d\":[{\"colorbar\":{\"outlinewidth\":0,\"ticks\":\"\"},\"type\":\"mesh3d\"}],\"parcoords\":[{\"line\":{\"colorbar\":{\"outlinewidth\":0,\"ticks\":\"\"}},\"type\":\"parcoords\"}],\"pie\":[{\"automargin\":true,\"type\":\"pie\"}],\"scatter3d\":[{\"line\":{\"colorbar\":{\"outlinewidth\":0,\"ticks\":\"\"}},\"marker\":{\"colorbar\":{\"outlinewidth\":0,\"ticks\":\"\"}},\"type\":\"scatter3d\"}],\"scattercarpet\":[{\"marker\":{\"colorbar\":{\"outlinewidth\":0,\"ticks\":\"\"}},\"type\":\"scattercarpet\"}],\"scattergeo\":[{\"marker\":{\"colorbar\":{\"outlinewidth\":0,\"ticks\":\"\"}},\"type\":\"scattergeo\"}],\"scattergl\":[{\"marker\":{\"colorbar\":{\"outlinewidth\":0,\"ticks\":\"\"}},\"type\":\"scattergl\"}],\"scattermapbox\":[{\"marker\":{\"colorbar\":{\"outlinewidth\":0,\"ticks\":\"\"}},\"type\":\"scattermapbox\"}],\"scatterpolargl\":[{\"marker\":{\"colorbar\":{\"outlinewidth\":0,\"ticks\":\"\"}},\"type\":\"scatterpolargl\"}],\"scatterpolar\":[{\"marker\":{\"colorbar\":{\"outlinewidth\":0,\"ticks\":\"\"}},\"type\":\"scatterpolar\"}],\"scatter\":[{\"fillpattern\":{\"fillmode\":\"overlay\",\"size\":10,\"solidity\":0.2},\"type\":\"scatter\"}],\"scatterternary\":[{\"marker\":{\"colorbar\":{\"outlinewidth\":0,\"ticks\":\"\"}},\"type\":\"scatterternary\"}],\"surface\":[{\"colorbar\":{\"outlinewidth\":0,\"ticks\":\"\"},\"colorscale\":[[0.0,\"#0d0887\"],[0.1111111111111111,\"#46039f\"],[0.2222222222222222,\"#7201a8\"],[0.3333333333333333,\"#9c179e\"],[0.4444444444444444,\"#bd3786\"],[0.5555555555555556,\"#d8576b\"],[0.6666666666666666,\"#ed7953\"],[0.7777777777777778,\"#fb9f3a\"],[0.8888888888888888,\"#fdca26\"],[1.0,\"#f0f921\"]],\"type\":\"surface\"}],\"table\":[{\"cells\":{\"fill\":{\"color\":\"#EBF0F8\"},\"line\":{\"color\":\"white\"}},\"header\":{\"fill\":{\"color\":\"#C8D4E3\"},\"line\":{\"color\":\"white\"}},\"type\":\"table\"}]},\"layout\":{\"annotationdefaults\":{\"arrowcolor\":\"#2a3f5f\",\"arrowhead\":0,\"arrowwidth\":1},\"autotypenumbers\":\"strict\",\"coloraxis\":{\"colorbar\":{\"outlinewidth\":0,\"ticks\":\"\"}},\"colorscale\":{\"diverging\":[[0,\"#8e0152\"],[0.1,\"#c51b7d\"],[0.2,\"#de77ae\"],[0.3,\"#f1b6da\"],[0.4,\"#fde0ef\"],[0.5,\"#f7f7f7\"],[0.6,\"#e6f5d0\"],[0.7,\"#b8e186\"],[0.8,\"#7fbc41\"],[0.9,\"#4d9221\"],[1,\"#276419\"]],\"sequential\":[[0.0,\"#0d0887\"],[0.1111111111111111,\"#46039f\"],[0.2222222222222222,\"#7201a8\"],[0.3333333333333333,\"#9c179e\"],[0.4444444444444444,\"#bd3786\"],[0.5555555555555556,\"#d8576b\"],[0.6666666666666666,\"#ed7953\"],[0.7777777777777778,\"#fb9f3a\"],[0.8888888888888888,\"#fdca26\"],[1.0,\"#f0f921\"]],\"sequentialminus\":[[0.0,\"#0d0887\"],[0.1111111111111111,\"#46039f\"],[0.2222222222222222,\"#7201a8\"],[0.3333333333333333,\"#9c179e\"],[0.4444444444444444,\"#bd3786\"],[0.5555555555555556,\"#d8576b\"],[0.6666666666666666,\"#ed7953\"],[0.7777777777777778,\"#fb9f3a\"],[0.8888888888888888,\"#fdca26\"],[1.0,\"#f0f921\"]]},\"colorway\":[\"#636efa\",\"#EF553B\",\"#00cc96\",\"#ab63fa\",\"#FFA15A\",\"#19d3f3\",\"#FF6692\",\"#B6E880\",\"#FF97FF\",\"#FECB52\"],\"font\":{\"color\":\"#2a3f5f\"},\"geo\":{\"bgcolor\":\"white\",\"lakecolor\":\"white\",\"landcolor\":\"#E5ECF6\",\"showlakes\":true,\"showland\":true,\"subunitcolor\":\"white\"},\"hoverlabel\":{\"align\":\"left\"},\"hovermode\":\"closest\",\"mapbox\":{\"style\":\"light\"},\"paper_bgcolor\":\"white\",\"plot_bgcolor\":\"#E5ECF6\",\"polar\":{\"angularaxis\":{\"gridcolor\":\"white\",\"linecolor\":\"white\",\"ticks\":\"\"},\"bgcolor\":\"#E5ECF6\",\"radialaxis\":{\"gridcolor\":\"white\",\"linecolor\":\"white\",\"ticks\":\"\"}},\"scene\":{\"xaxis\":{\"backgroundcolor\":\"#E5ECF6\",\"gridcolor\":\"white\",\"gridwidth\":2,\"linecolor\":\"white\",\"showbackground\":true,\"ticks\":\"\",\"zerolinecolor\":\"white\"},\"yaxis\":{\"backgroundcolor\":\"#E5ECF6\",\"gridcolor\":\"white\",\"gridwidth\":2,\"linecolor\":\"white\",\"showbackground\":true,\"ticks\":\"\",\"zerolinecolor\":\"white\"},\"zaxis\":{\"backgroundcolor\":\"#E5ECF6\",\"gridcolor\":\"white\",\"gridwidth\":2,\"linecolor\":\"white\",\"showbackground\":true,\"ticks\":\"\",\"zerolinecolor\":\"white\"}},\"shapedefaults\":{\"line\":{\"color\":\"#2a3f5f\"}},\"ternary\":{\"aaxis\":{\"gridcolor\":\"white\",\"linecolor\":\"white\",\"ticks\":\"\"},\"baxis\":{\"gridcolor\":\"white\",\"linecolor\":\"white\",\"ticks\":\"\"},\"bgcolor\":\"#E5ECF6\",\"caxis\":{\"gridcolor\":\"white\",\"linecolor\":\"white\",\"ticks\":\"\"}},\"title\":{\"x\":0.05},\"xaxis\":{\"automargin\":true,\"gridcolor\":\"white\",\"linecolor\":\"white\",\"ticks\":\"\",\"title\":{\"standoff\":15},\"zerolinecolor\":\"white\",\"zerolinewidth\":2},\"yaxis\":{\"automargin\":true,\"gridcolor\":\"white\",\"linecolor\":\"white\",\"ticks\":\"\",\"title\":{\"standoff\":15},\"zerolinecolor\":\"white\",\"zerolinewidth\":2}}},\"title\":{\"text\":\"Mode Choice Calibration Constants\"},\"width\":800,\"xaxis\":{\"title\":{\"text\":\"Iteration\"}},\"yaxis\":{\"title\":{\"text\":\"Constant Value\"}}},                        {\"responsive\": true}                    ).then(function(){\n",
       "                            \n",
       "var gd = document.getElementById('691ab44c-89ca-4045-86b5-4bb92bcaec05');\n",
       "var x = new MutationObserver(function (mutations, observer) {{\n",
       "        var display = window.getComputedStyle(gd).display;\n",
       "        if (!display || display === 'none') {{\n",
       "            console.log([gd, 'removed!']);\n",
       "            Plotly.purge(gd);\n",
       "            observer.disconnect();\n",
       "        }}\n",
       "}});\n",
       "\n",
       "// Listen for the removal of the full notebook cells\n",
       "var notebookContainer = gd.closest('#notebook-container');\n",
       "if (notebookContainer) {{\n",
       "    x.observe(notebookContainer, {childList: true});\n",
       "}}\n",
       "\n",
       "// Listen for the clearing of the current output cell\n",
       "var outputEl = gd.closest('.output');\n",
       "if (outputEl) {{\n",
       "    x.observe(outputEl, {childList: true});\n",
       "}}\n",
       "\n",
       "                        })                };                });            </script>        </div>"
      ]
     },
     "metadata": {},
     "output_type": "display_data"
    },
    {
     "data": {
      "application/vnd.plotly.v1+json": {
       "config": {
        "linkText": "Export to plot.ly",
        "plotlyServerURL": "https://plot.ly",
        "showLink": false
       },
       "data": [
        {
         "mode": "lines+markers",
         "name": "NHB Pk asc_nonmotor",
         "type": "scatter",
         "x": [
          34,
          33,
          32,
          31,
          30,
          29,
          28,
          27,
          26,
          25,
          24,
          23,
          22,
          21,
          20,
          19,
          18,
          17,
          16,
          15,
          14,
          13,
          12,
          11,
          10,
          9,
          8,
          7,
          6,
          5,
          4,
          3,
          2,
          1,
          0
         ],
         "y": [
          -1.1634000539779663,
          -1.1634000539779663,
          -1.1634000539779663,
          -1.1634000539779663,
          -1.1634000539779663,
          -1.1634000539779663,
          -1.1634000539779663,
          -1.1634000539779663,
          -1.1634000539779663,
          -1.1634000539779663,
          -1.1634999513626099,
          -1.163699984550476,
          -1.1640000343322754,
          -1.1643999814987183,
          -1.1649999618530273,
          -1.1658999919891357,
          -1.167199969291687,
          -1.1690000295639038,
          -1.1714999675750732,
          -1.1749999523162842,
          -1.1797000169754028,
          -1.1861000061035156,
          -1.194599986076355,
          -1.2057000398635864,
          -1.2200000286102295,
          -1.2376999855041504,
          -1.2588000297546387,
          -1.2819000482559204,
          -1.3034000396728516,
          -1.3147000074386597,
          -1.298200011253357,
          -1.2202999591827393,
          -1.0246000289916992,
          -0.6358000040054321,
          0
         ]
        },
        {
         "mode": "lines+markers",
         "name": "NHB Pk asc_transit",
         "type": "scatter",
         "x": [
          34,
          33,
          32,
          31,
          30,
          29,
          28,
          27,
          26,
          25,
          24,
          23,
          22,
          21,
          20,
          19,
          18,
          17,
          16,
          15,
          14,
          13,
          12,
          11,
          10,
          9,
          8,
          7,
          6,
          5,
          4,
          3,
          2,
          1,
          0
         ],
         "y": [
          -1.894700050354004,
          -1.8947999477386475,
          -1.8948999643325806,
          -1.8949999809265137,
          -1.8950999975204468,
          -1.8952000141143799,
          -1.8952000141143799,
          -1.895300030708313,
          -1.895300030708313,
          -1.8952000141143799,
          -1.8950999975204468,
          -1.8948999643325806,
          -1.8946000337600708,
          -1.8940999507904053,
          -1.8933000564575195,
          -1.8920999765396118,
          -1.8904000520706177,
          -1.888100028038025,
          -1.8847999572753906,
          -1.8803000450134277,
          -1.8740999698638916,
          -1.8654999732971191,
          -1.8538000583648682,
          -1.8379000425338745,
          -1.8164000511169434,
          -1.7872999906539917,
          -1.7480000257492065,
          -1.6949000358581543,
          -1.6230000257492065,
          -1.5255000591278076,
          -1.3926000595092773,
          -1.2099000215530396,
          -0.9545999765396118,
          -0.5839999914169312,
          0
         ]
        },
        {
         "mode": "lines+markers",
         "name": "NHB Pk asc_shared",
         "type": "scatter",
         "x": [
          34,
          33,
          32,
          31,
          30,
          29,
          28,
          27,
          26,
          25,
          24,
          23,
          22,
          21,
          20,
          19,
          18,
          17,
          16,
          15,
          14,
          13,
          12,
          11,
          10,
          9,
          8,
          7,
          6,
          5,
          4,
          3,
          2,
          1,
          0
         ],
         "y": [
          -0.1923999935388565,
          -0.1923999935388565,
          -0.1923999935388565,
          -0.1923999935388565,
          -0.1923999935388565,
          -0.1923999935388565,
          -0.1923999935388565,
          -0.1923000067472458,
          -0.19220000505447388,
          -0.19210000336170197,
          -0.19189999997615814,
          -0.19169999659061432,
          -0.19140000641345978,
          -0.19110000133514404,
          -0.1906999945640564,
          -0.19020000100135803,
          -0.18950000405311584,
          -0.18860000371932983,
          -0.1875,
          -0.18610000610351562,
          -0.1843000054359436,
          -0.18199999630451202,
          -0.17900000512599945,
          -0.17520000040531158,
          -0.1703999936580658,
          -0.16429999470710754,
          -0.1565999984741211,
          -0.14710000157356262,
          -0.13529999554157257,
          -0.12080000340938568,
          -0.10329999774694443,
          -0.08250000327825546,
          -0.05820000171661377,
          -0.03060000017285347,
          0
         ]
        },
        {
         "mode": "lines+markers",
         "name": "NHB Pk asc_hov",
         "type": "scatter",
         "x": [
          34,
          33,
          32,
          31,
          30,
          29,
          28,
          27,
          26,
          25,
          24,
          23,
          22,
          21,
          20,
          19,
          18,
          17,
          16,
          15,
          14,
          13,
          12,
          11,
          10,
          9,
          8,
          7,
          6,
          5,
          4,
          3,
          2,
          1,
          0
         ],
         "y": [
          0.10000000149011612,
          0.10000000149011612,
          0.10000000149011612,
          0.10000000149011612,
          0.10000000149011612,
          0.10000000149011612,
          0.10000000149011612,
          0.10000000149011612,
          0.10000000149011612,
          0.10000000149011612,
          0.10000000149011612,
          0.10000000149011612,
          0.10000000149011612,
          0.10000000149011612,
          0.10000000149011612,
          0.10000000149011612,
          0.10000000149011612,
          0.10000000149011612,
          0.10000000149011612,
          0.10000000149011612,
          0.10000000149011612,
          0.10000000149011612,
          0.10000000149011612,
          0.10000000149011612,
          0.10000000149011612,
          0.10000000149011612,
          0.10000000149011612,
          0.10000000149011612,
          0.10000000149011612,
          0.10000000149011612,
          0.10000000149011612,
          0.10000000149011612,
          0.10000000149011612,
          0.10000000149011612,
          0.10000000149011612
         ]
        },
        {
         "mode": "lines+markers",
         "name": "NHB Pk asc_toll",
         "type": "scatter",
         "x": [
          34,
          33,
          32,
          31,
          30,
          29,
          28,
          27,
          26,
          25,
          24,
          23,
          22,
          21,
          20,
          19,
          18,
          17,
          16,
          15,
          14,
          13,
          12,
          11,
          10,
          9,
          8,
          7,
          6,
          5,
          4,
          3,
          2,
          1,
          0
         ],
         "y": [
          -0.4000000059604645,
          -0.4000000059604645,
          -0.4000000059604645,
          -0.4000000059604645,
          -0.4000000059604645,
          -0.4000000059604645,
          -0.4000000059604645,
          -0.4000000059604645,
          -0.4000000059604645,
          -0.4000000059604645,
          -0.4000000059604645,
          -0.4000000059604645,
          -0.4000000059604645,
          -0.4000000059604645,
          -0.4000000059604645,
          -0.4000000059604645,
          -0.4000000059604645,
          -0.4000000059604645,
          -0.4000000059604645,
          -0.4000000059604645,
          -0.4000000059604645,
          -0.4000000059604645,
          -0.4000000059604645,
          -0.4000000059604645,
          -0.4000000059604645,
          -0.4000000059604645,
          -0.4000000059604645,
          -0.4000000059604645,
          -0.4000000059604645,
          -0.4000000059604645,
          -0.4000000059604645,
          -0.4000000059604645,
          -0.4000000059604645,
          -0.4000000059604645,
          -0.4000000059604645
         ]
        },
        {
         "mode": "lines+markers",
         "name": "NHB Pk asc_sr3",
         "type": "scatter",
         "x": [
          34,
          33,
          32,
          31,
          30,
          29,
          28,
          27,
          26,
          25,
          24,
          23,
          22,
          21,
          20,
          19,
          18,
          17,
          16,
          15,
          14,
          13,
          12,
          11,
          10,
          9,
          8,
          7,
          6,
          5,
          4,
          3,
          2,
          1,
          0
         ],
         "y": [
          0.1071000024676323,
          0.1071000024676323,
          0.1071000024676323,
          0.1071000024676323,
          0.1071000024676323,
          0.1071000024676323,
          0.1071000024676323,
          0.1071000024676323,
          0.1071000024676323,
          0.1071000024676323,
          0.1071000024676323,
          0.1071000024676323,
          0.1071000024676323,
          0.1071000024676323,
          0.1071000024676323,
          0.1071000024676323,
          0.1071000024676323,
          0.1071000024676323,
          0.1071000024676323,
          0.1071000024676323,
          0.10700000077486038,
          0.10689999908208847,
          0.10679999738931656,
          0.10660000145435333,
          0.1062999963760376,
          0.10570000112056732,
          0.10490000247955322,
          0.10350000113248825,
          0.10130000114440918,
          0.09780000150203705,
          0.09210000187158585,
          0.08299999684095383,
          0.06800000369548798,
          0.0430000014603138,
          0
         ]
        },
        {
         "mode": "lines+markers",
         "name": "NHB Pk asc_EXP",
         "type": "scatter",
         "x": [
          34,
          33,
          32,
          31,
          30,
          29,
          28,
          27,
          26,
          25,
          24,
          23,
          22,
          21,
          20,
          19,
          18,
          17,
          16,
          15,
          14,
          13,
          12,
          11,
          10,
          9,
          8,
          7,
          6,
          5,
          4,
          3,
          2,
          1,
          0
         ],
         "y": [
          0.12240000069141388,
          0.11789999902248383,
          0.11339999735355377,
          0.10890000313520432,
          0.10440000146627426,
          0.09989999979734421,
          0.09539999812841415,
          0.0908999964594841,
          0.08640000224113464,
          0.08190000057220459,
          0.07739999890327454,
          0.07280000299215317,
          0.06840000301599503,
          0.06379999965429306,
          0.059300001710653305,
          0.05469999834895134,
          0.05009999871253967,
          0.04540000110864639,
          0.0406000018119812,
          0.0357000008225441,
          0.03060000017285347,
          0.025200000032782555,
          0.019500000402331352,
          0.013199999928474426,
          0.006099999882280827,
          -0.002099999925121665,
          -0.012000000104308128,
          -0.024299999698996544,
          -0.04010000079870224,
          -0.061900001019239426,
          -0.09070000052452087,
          -0.1412000060081482,
          -0.18019999563694,
          -0.3240000009536743,
          0
         ]
        },
        {
         "mode": "lines+markers",
         "name": "NHB Pk asc_BRT",
         "type": "scatter",
         "x": [
          34,
          33,
          32,
          31,
          30,
          29,
          28,
          27,
          26,
          25,
          24,
          23,
          22,
          21,
          20,
          19,
          18,
          17,
          16,
          15,
          14,
          13,
          12,
          11,
          10,
          9,
          8,
          7,
          6,
          5,
          4,
          3,
          2,
          1,
          0
         ],
         "y": [
          0.12430000305175781,
          0.1242000013589859,
          0.12409999966621399,
          0.12399999797344208,
          0.12389999628067017,
          0.12370000034570694,
          0.12349999696016312,
          0.12330000102519989,
          0.12309999763965607,
          0.12290000170469284,
          0.12269999831914902,
          0.12250000238418579,
          0.12219999730587006,
          0.12189999967813492,
          0.12160000205039978,
          0.12120000272989273,
          0.12070000171661377,
          0.1200999990105629,
          0.11940000206232071,
          0.1185000017285347,
          0.11729999631643295,
          0.11569999903440475,
          0.1136000007390976,
          0.11079999804496765,
          0.10700000077486038,
          0.10189999639987946,
          0.09489999711513519,
          0.0851999968290329,
          0.07190000265836716,
          0.05400000140070915,
          0.030400000512599945,
          0.002400000113993883,
          -0.021400000900030136,
          -0.018799999728798866,
          0
         ]
        },
        {
         "mode": "lines+markers",
         "name": "NHB Pk asc_LRT",
         "type": "scatter",
         "x": [
          34,
          33,
          32,
          31,
          30,
          29,
          28,
          27,
          26,
          25,
          24,
          23,
          22,
          21,
          20,
          19,
          18,
          17,
          16,
          15,
          14,
          13,
          12,
          11,
          10,
          9,
          8,
          7,
          6,
          5,
          4,
          3,
          2,
          1,
          0
         ],
         "y": [
          0.4009000062942505,
          0.4007999897003174,
          0.40070000290870667,
          0.40059998631477356,
          0.40049999952316284,
          0.4004000127315521,
          0.400299996137619,
          0.4002000093460083,
          0.4000999927520752,
          0.39989998936653137,
          0.39969998598098755,
          0.3995000123977661,
          0.3993000090122223,
          0.39910000562667847,
          0.39879998564720154,
          0.398499995470047,
          0.39809998869895935,
          0.397599995136261,
          0.3970000147819519,
          0.39629998803138733,
          0.3953000009059906,
          0.39399999380111694,
          0.392300009727478,
          0.38999998569488525,
          0.38690000772476196,
          0.38260000944137573,
          0.3767000138759613,
          0.3684999942779541,
          0.3571000099182129,
          0.34119999408721924,
          0.31869998574256897,
          0.2858999967575073,
          0.23479999601840973,
          0.14710000157356262,
          0
         ]
        },
        {
         "mode": "lines+markers",
         "name": "NHB Pk asc_CRT",
         "type": "scatter",
         "x": [
          34,
          33,
          32,
          31,
          30,
          29,
          28,
          27,
          26,
          25,
          24,
          23,
          22,
          21,
          20,
          19,
          18,
          17,
          16,
          15,
          14,
          13,
          12,
          11,
          10,
          9,
          8,
          7,
          6,
          5,
          4,
          3,
          2,
          1,
          0
         ],
         "y": [
          0.4666999876499176,
          0.4666999876499176,
          0.4666999876499176,
          0.4666999876499176,
          0.4666999876499176,
          0.4666999876499176,
          0.4666000008583069,
          0.4666000008583069,
          0.46650001406669617,
          0.46650001406669617,
          0.46639999747276306,
          0.46639999747276306,
          0.46630001068115234,
          0.46630001068115234,
          0.46619999408721924,
          0.4661000072956085,
          0.4659000039100647,
          0.4657000005245209,
          0.46540001034736633,
          0.4650000035762787,
          0.4643999934196472,
          0.4636000096797943,
          0.46239998936653137,
          0.46059998869895935,
          0.4580000042915344,
          0.45419999957084656,
          0.44839999079704285,
          0.43970000743865967,
          0.4262999892234802,
          0.40529999136924744,
          0.37130001187324524,
          0.31610000133514404,
          0.22859999537467957,
          0.11150000244379044,
          0
         ]
        },
        {
         "mode": "lines+markers",
         "name": "NHB Pk asc_driveacc",
         "type": "scatter",
         "x": [
          34,
          33,
          32,
          31,
          30,
          29,
          28,
          27,
          26,
          25,
          24,
          23,
          22,
          21,
          20,
          19,
          18,
          17,
          16,
          15,
          14,
          13,
          12,
          11,
          10,
          9,
          8,
          7,
          6,
          5,
          4,
          3,
          2,
          1,
          0
         ],
         "y": [
          -1.6821000576019287,
          -1.6785999536514282,
          -1.6748000383377075,
          -1.670699954032898,
          -1.6663000583648682,
          -1.6617000102996826,
          -1.6568000316619873,
          -1.6514999866485596,
          -1.645900011062622,
          -1.639799952507019,
          -1.6332999467849731,
          -1.6262999773025513,
          -1.618899941444397,
          -1.6109000444412231,
          -1.6023000478744507,
          -1.5930999517440796,
          -1.583299994468689,
          -1.572700023651123,
          -1.561400055885315,
          -1.549299955368042,
          -1.5362000465393066,
          -1.5220999717712402,
          -1.5068999528884888,
          -1.4902000427246094,
          -1.4716999530792236,
          -1.450700044631958,
          -1.4259999990463257,
          -1.3954999446868896,
          -1.3553999662399292,
          -1.299399971961975,
          -1.216599941253662,
          -1.0884000062942505,
          -0.8819000124931335,
          -0.5404999852180481,
          0
         ]
        },
        {
         "mode": "lines+markers",
         "name": "NHB Pk asc_wEXP",
         "type": "scatter",
         "x": [
          34,
          33,
          32,
          31,
          30,
          29,
          28,
          27,
          26,
          25,
          24,
          23,
          22,
          21,
          20,
          19,
          18,
          17,
          16,
          15,
          14,
          13,
          12,
          11,
          10,
          9,
          8,
          7,
          6,
          5,
          4,
          3,
          2,
          1,
          0
         ],
         "y": [
          0.24330000579357147,
          0.24789999425411224,
          0.2524000108242035,
          0.25699999928474426,
          0.26159998774528503,
          0.2662000060081482,
          0.27079999446868896,
          0.2754000127315521,
          0.2800000011920929,
          0.28459998965263367,
          0.28929999470710754,
          0.2939000129699707,
          0.2987000048160553,
          0.30329999327659607,
          0.30799999833106995,
          0.3125999867916107,
          0.3172000050544739,
          0.32179999351501465,
          0.3262999951839447,
          0.33070001006126404,
          0.33480000495910645,
          0.3384999930858612,
          0.3418000042438507,
          0.3443000018596649,
          0.34540000557899475,
          0.34459999203681946,
          0.3407000005245209,
          0.33180001378059387,
          0.31520000100135803,
          0.2854999899864197,
          0.23659999668598175,
          0.14749999344348907,
          0.03660000115633011,
          -0.18970000743865967,
          0
         ]
        },
        {
         "mode": "lines+markers",
         "name": "NHB Pk asc_wBRT",
         "type": "scatter",
         "x": [
          34,
          33,
          32,
          31,
          30,
          29,
          28,
          27,
          26,
          25,
          24,
          23,
          22,
          21,
          20,
          19,
          18,
          17,
          16,
          15,
          14,
          13,
          12,
          11,
          10,
          9,
          8,
          7,
          6,
          5,
          4,
          3,
          2,
          1,
          0
         ],
         "y": [
          -0.07739999890327454,
          -0.07720000296831131,
          -0.07699999958276749,
          -0.07680000364780426,
          -0.07660000026226044,
          -0.0763000026345253,
          -0.07599999755620956,
          -0.07569999992847443,
          -0.07540000230073929,
          -0.07509999722242355,
          -0.07479999959468842,
          -0.07450000196695328,
          -0.07410000264644623,
          -0.07370000332593918,
          -0.07329999655485153,
          -0.0729999989271164,
          -0.07270000129938126,
          -0.07240000367164612,
          -0.0722000002861023,
          -0.07209999859333038,
          -0.0723000019788742,
          -0.07270000129938126,
          -0.07360000163316727,
          -0.07509999722242355,
          -0.07750000059604645,
          -0.0812000036239624,
          -0.08659999817609787,
          -0.09430000185966492,
          -0.10509999841451645,
          -0.11980000138282776,
          -0.1386999934911728,
          -0.15889999270439148,
          -0.16769999265670776,
          -0.12860000133514404,
          0
         ]
        },
        {
         "mode": "lines+markers",
         "name": "NHB Pk asc_wLRT",
         "type": "scatter",
         "x": [
          34,
          33,
          32,
          31,
          30,
          29,
          28,
          27,
          26,
          25,
          24,
          23,
          22,
          21,
          20,
          19,
          18,
          17,
          16,
          15,
          14,
          13,
          12,
          11,
          10,
          9,
          8,
          7,
          6,
          5,
          4,
          3,
          2,
          1,
          0
         ],
         "y": [
          0.4325999915599823,
          0.4327999949455261,
          0.43299999833106995,
          0.43320000171661377,
          0.4334000051021576,
          0.4336000084877014,
          0.43380001187324524,
          0.4339999854564667,
          0.4343000054359436,
          0.43459999561309814,
          0.4348999857902527,
          0.4352000057697296,
          0.43549999594688416,
          0.4359000027179718,
          0.43630000948905945,
          0.4366999864578247,
          0.43709999322891235,
          0.4374000132083893,
          0.4377000033855438,
          0.43790000677108765,
          0.43790000677108765,
          0.4377000033855438,
          0.43709999322891235,
          0.4361000061035156,
          0.4343000054359436,
          0.43149998784065247,
          0.42730000615119934,
          0.421099990606308,
          0.41200000047683716,
          0.39890000224113464,
          0.3799999952316284,
          0.3513999879360199,
          0.30390000343322754,
          0.21130000054836273,
          0
         ]
        },
        {
         "mode": "lines+markers",
         "name": "NHB Pk asc_wCRT",
         "type": "scatter",
         "x": [
          34,
          33,
          32,
          31,
          30,
          29,
          28,
          27,
          26,
          25,
          24,
          23,
          22,
          21,
          20,
          19,
          18,
          17,
          16,
          15,
          14,
          13,
          12,
          11,
          10,
          9,
          8,
          7,
          6,
          5,
          4,
          3,
          2,
          1,
          0
         ],
         "y": [
          1.4436999559402466,
          1.4437999725341797,
          1.4438999891281128,
          1.444000005722046,
          1.444100022315979,
          1.444200038909912,
          1.4443000555038452,
          1.4444999694824219,
          1.444700002670288,
          1.4449000358581543,
          1.445099949836731,
          1.4452999830245972,
          1.4456000328063965,
          1.4458999633789062,
          1.4462000131607056,
          1.4464999437332153,
          1.4467999935150146,
          1.447100043296814,
          1.4473999738693237,
          1.44760000705719,
          1.44760000705719,
          1.4473999738693237,
          1.4466999769210815,
          1.4452999830245972,
          1.4426000118255615,
          1.4378999471664429,
          1.4296000003814697,
          1.4154000282287598,
          1.3912999629974365,
          1.3499000072479248,
          1.2782000303268433,
          1.1531000137329102,
          0.9351000189781189,
          0.5716000199317932,
          0
         ]
        },
        {
         "mode": "lines+markers",
         "name": "NHB Pk asc_dEXP",
         "type": "scatter",
         "x": [
          34,
          33,
          32,
          31,
          30,
          29,
          28,
          27,
          26,
          25,
          24,
          23,
          22,
          21,
          20,
          19,
          18,
          17,
          16,
          15,
          14,
          13,
          12,
          11,
          10,
          9,
          8,
          7,
          6,
          5,
          4,
          3,
          2,
          1,
          0
         ],
         "y": [
          0.8406999707221985,
          0.8417999744415283,
          0.8428000211715698,
          0.843500018119812,
          0.8439000248908997,
          0.843999981880188,
          0.8439000248908997,
          0.8434000015258789,
          0.8425999879837036,
          0.8414000272750854,
          0.839900016784668,
          0.8378000259399414,
          0.8353999853134155,
          0.8324000239372253,
          0.8288999795913696,
          0.8248000144958496,
          0.8199999928474426,
          0.8145999908447266,
          0.8083999752998352,
          0.8014000058174133,
          0.79339998960495,
          0.7843000292778015,
          0.7739999890327454,
          0.7623000144958496,
          0.7488999962806702,
          0.7333999872207642,
          0.7149999737739563,
          0.6926000118255615,
          0.6640999913215637,
          0.6248000264167786,
          0.5694000124931335,
          0.47189998626708984,
          0.34599998593330383,
          0.007300000172108412,
          0
         ]
        },
        {
         "mode": "lines+markers",
         "name": "NHB Pk asc_dBRT",
         "type": "scatter",
         "x": [
          34,
          33,
          32,
          31,
          30,
          29,
          28,
          27,
          26,
          25,
          24,
          23,
          22,
          21,
          20,
          19,
          18,
          17,
          16,
          15,
          14,
          13,
          12,
          11,
          10,
          9,
          8,
          7,
          6,
          5,
          4,
          3,
          2,
          1,
          0
         ],
         "y": [
          0.9904000163078308,
          0.9871000051498413,
          0.9836999773979187,
          0.9800000190734863,
          0.9761000275611877,
          0.9718999862670898,
          0.9674000144004822,
          0.9625999927520752,
          0.9574000239372253,
          0.9519000053405762,
          0.9459999799728394,
          0.9397000074386597,
          0.9329000115394592,
          0.925599992275238,
          0.9178000092506409,
          0.9093999862670898,
          0.9003999829292297,
          0.8906999826431274,
          0.880299985408783,
          0.8690000176429749,
          0.8567000031471252,
          0.8432999849319458,
          0.8287000060081482,
          0.8126000165939331,
          0.7944999933242798,
          0.7741000056266785,
          0.7504000067710876,
          0.7221999764442444,
          0.6873000264167786,
          0.6424999833106995,
          0.583299994468689,
          0.5037999749183655,
          0.3977000117301941,
          0.25279998779296875,
          0
         ]
        },
        {
         "mode": "lines+markers",
         "name": "NHB Pk asc_dLRT",
         "type": "scatter",
         "x": [
          34,
          33,
          32,
          31,
          30,
          29,
          28,
          27,
          26,
          25,
          24,
          23,
          22,
          21,
          20,
          19,
          18,
          17,
          16,
          15,
          14,
          13,
          12,
          11,
          10,
          9,
          8,
          7,
          6,
          5,
          4,
          3,
          2,
          1,
          0
         ],
         "y": [
          0.22910000383853912,
          0.22589999437332153,
          0.2223999947309494,
          0.21870000660419464,
          0.21469999849796295,
          0.21040000021457672,
          0.20589999854564667,
          0.20100000500679016,
          0.19589999318122864,
          0.19030000269412994,
          0.18440000712871552,
          0.17800000309944153,
          0.1712000072002411,
          0.1639000028371811,
          0.15610000491142273,
          0.1476999968290329,
          0.13860000669956207,
          0.12880000472068787,
          0.11819999665021896,
          0.10679999738931656,
          0.09440000355243683,
          0.08089999854564667,
          0.06610000133514404,
          0.049800001084804535,
          0.031700000166893005,
          0.01140000019222498,
          -0.011500000022351742,
          -0.03739999979734421,
          -0.06650000065565109,
          -0.09790000319480896,
          -0.12770000100135803,
          -0.14640000462532043,
          -0.13680000603199005,
          -0.08429999649524689,
          0
         ]
        },
        {
         "mode": "lines+markers",
         "name": "NHB Pk asc_dCRT",
         "type": "scatter",
         "x": [
          34,
          33,
          32,
          31,
          30,
          29,
          28,
          27,
          26,
          25,
          24,
          23,
          22,
          21,
          20,
          19,
          18,
          17,
          16,
          15,
          14,
          13,
          12,
          11,
          10,
          9,
          8,
          7,
          6,
          5,
          4,
          3,
          2,
          1,
          0
         ],
         "y": [
          1.1374000310897827,
          1.1339999437332153,
          1.1303999423980713,
          1.1265000104904175,
          1.1224000453948975,
          1.1180000305175781,
          1.1132999658584595,
          1.108299970626831,
          1.1029000282287598,
          1.0972000360488892,
          1.090999960899353,
          1.0844000577926636,
          1.077299952507019,
          1.069700002670288,
          1.0614999532699585,
          1.0527000427246094,
          1.0432000160217285,
          1.0329999923706055,
          1.0219999551773071,
          1.01010000705719,
          0.9972000122070312,
          0.9830999970436096,
          0.9678000211715698,
          0.9510999917984009,
          0.9327999949455261,
          0.9126999974250793,
          0.8902999758720398,
          0.8651999831199646,
          0.8361999988555908,
          0.8008999824523926,
          0.7538999915122986,
          0.6829000115394592,
          0.5609999895095825,
          0.3458000123500824,
          0
         ]
        },
        {
         "mode": "lines+markers",
         "name": "NHB Pk asc_bike",
         "type": "scatter",
         "x": [
          34,
          33,
          32,
          31,
          30,
          29,
          28,
          27,
          26,
          25,
          24,
          23,
          22,
          21,
          20,
          19,
          18,
          17,
          16,
          15,
          14,
          13,
          12,
          11,
          10,
          9,
          8,
          7,
          6,
          5,
          4,
          3,
          2,
          1,
          0
         ],
         "y": [
          -2.8362998962402344,
          -2.8362998962402344,
          -2.8362998962402344,
          -2.8362998962402344,
          -2.8362998962402344,
          -2.8362998962402344,
          -2.836199998855591,
          -2.8361001014709473,
          -2.8359999656677246,
          -2.8357999324798584,
          -2.835599899291992,
          -2.835200071334839,
          -2.834700107574463,
          -2.8340001106262207,
          -2.8329999446868896,
          -2.8315000534057617,
          -2.829400062561035,
          -2.8264000415802,
          -2.8220999240875244,
          -2.815999984741211,
          -2.807300090789795,
          -2.7948999404907227,
          -2.777100086212158,
          -2.7516000270843506,
          -2.7151999473571777,
          -2.6631999015808105,
          -2.589400053024292,
          -2.484999895095825,
          -2.338900089263916,
          -2.137399911880493,
          -1.8661999702453613,
          -1.513800024986267,
          -1.0773999691009521,
          -0.5662999749183655,
          0
         ]
        }
       ],
       "layout": {
        "height": 400,
        "template": {
         "data": {
          "bar": [
           {
            "error_x": {
             "color": "#2a3f5f"
            },
            "error_y": {
             "color": "#2a3f5f"
            },
            "marker": {
             "line": {
              "color": "#E5ECF6",
              "width": 0.5
             },
             "pattern": {
              "fillmode": "overlay",
              "size": 10,
              "solidity": 0.2
             }
            },
            "type": "bar"
           }
          ],
          "barpolar": [
           {
            "marker": {
             "line": {
              "color": "#E5ECF6",
              "width": 0.5
             },
             "pattern": {
              "fillmode": "overlay",
              "size": 10,
              "solidity": 0.2
             }
            },
            "type": "barpolar"
           }
          ],
          "carpet": [
           {
            "aaxis": {
             "endlinecolor": "#2a3f5f",
             "gridcolor": "white",
             "linecolor": "white",
             "minorgridcolor": "white",
             "startlinecolor": "#2a3f5f"
            },
            "baxis": {
             "endlinecolor": "#2a3f5f",
             "gridcolor": "white",
             "linecolor": "white",
             "minorgridcolor": "white",
             "startlinecolor": "#2a3f5f"
            },
            "type": "carpet"
           }
          ],
          "choropleth": [
           {
            "colorbar": {
             "outlinewidth": 0,
             "ticks": ""
            },
            "type": "choropleth"
           }
          ],
          "contour": [
           {
            "colorbar": {
             "outlinewidth": 0,
             "ticks": ""
            },
            "colorscale": [
             [
              0,
              "#0d0887"
             ],
             [
              0.1111111111111111,
              "#46039f"
             ],
             [
              0.2222222222222222,
              "#7201a8"
             ],
             [
              0.3333333333333333,
              "#9c179e"
             ],
             [
              0.4444444444444444,
              "#bd3786"
             ],
             [
              0.5555555555555556,
              "#d8576b"
             ],
             [
              0.6666666666666666,
              "#ed7953"
             ],
             [
              0.7777777777777778,
              "#fb9f3a"
             ],
             [
              0.8888888888888888,
              "#fdca26"
             ],
             [
              1,
              "#f0f921"
             ]
            ],
            "type": "contour"
           }
          ],
          "contourcarpet": [
           {
            "colorbar": {
             "outlinewidth": 0,
             "ticks": ""
            },
            "type": "contourcarpet"
           }
          ],
          "heatmap": [
           {
            "colorbar": {
             "outlinewidth": 0,
             "ticks": ""
            },
            "colorscale": [
             [
              0,
              "#0d0887"
             ],
             [
              0.1111111111111111,
              "#46039f"
             ],
             [
              0.2222222222222222,
              "#7201a8"
             ],
             [
              0.3333333333333333,
              "#9c179e"
             ],
             [
              0.4444444444444444,
              "#bd3786"
             ],
             [
              0.5555555555555556,
              "#d8576b"
             ],
             [
              0.6666666666666666,
              "#ed7953"
             ],
             [
              0.7777777777777778,
              "#fb9f3a"
             ],
             [
              0.8888888888888888,
              "#fdca26"
             ],
             [
              1,
              "#f0f921"
             ]
            ],
            "type": "heatmap"
           }
          ],
          "heatmapgl": [
           {
            "colorbar": {
             "outlinewidth": 0,
             "ticks": ""
            },
            "colorscale": [
             [
              0,
              "#0d0887"
             ],
             [
              0.1111111111111111,
              "#46039f"
             ],
             [
              0.2222222222222222,
              "#7201a8"
             ],
             [
              0.3333333333333333,
              "#9c179e"
             ],
             [
              0.4444444444444444,
              "#bd3786"
             ],
             [
              0.5555555555555556,
              "#d8576b"
             ],
             [
              0.6666666666666666,
              "#ed7953"
             ],
             [
              0.7777777777777778,
              "#fb9f3a"
             ],
             [
              0.8888888888888888,
              "#fdca26"
             ],
             [
              1,
              "#f0f921"
             ]
            ],
            "type": "heatmapgl"
           }
          ],
          "histogram": [
           {
            "marker": {
             "pattern": {
              "fillmode": "overlay",
              "size": 10,
              "solidity": 0.2
             }
            },
            "type": "histogram"
           }
          ],
          "histogram2d": [
           {
            "colorbar": {
             "outlinewidth": 0,
             "ticks": ""
            },
            "colorscale": [
             [
              0,
              "#0d0887"
             ],
             [
              0.1111111111111111,
              "#46039f"
             ],
             [
              0.2222222222222222,
              "#7201a8"
             ],
             [
              0.3333333333333333,
              "#9c179e"
             ],
             [
              0.4444444444444444,
              "#bd3786"
             ],
             [
              0.5555555555555556,
              "#d8576b"
             ],
             [
              0.6666666666666666,
              "#ed7953"
             ],
             [
              0.7777777777777778,
              "#fb9f3a"
             ],
             [
              0.8888888888888888,
              "#fdca26"
             ],
             [
              1,
              "#f0f921"
             ]
            ],
            "type": "histogram2d"
           }
          ],
          "histogram2dcontour": [
           {
            "colorbar": {
             "outlinewidth": 0,
             "ticks": ""
            },
            "colorscale": [
             [
              0,
              "#0d0887"
             ],
             [
              0.1111111111111111,
              "#46039f"
             ],
             [
              0.2222222222222222,
              "#7201a8"
             ],
             [
              0.3333333333333333,
              "#9c179e"
             ],
             [
              0.4444444444444444,
              "#bd3786"
             ],
             [
              0.5555555555555556,
              "#d8576b"
             ],
             [
              0.6666666666666666,
              "#ed7953"
             ],
             [
              0.7777777777777778,
              "#fb9f3a"
             ],
             [
              0.8888888888888888,
              "#fdca26"
             ],
             [
              1,
              "#f0f921"
             ]
            ],
            "type": "histogram2dcontour"
           }
          ],
          "mesh3d": [
           {
            "colorbar": {
             "outlinewidth": 0,
             "ticks": ""
            },
            "type": "mesh3d"
           }
          ],
          "parcoords": [
           {
            "line": {
             "colorbar": {
              "outlinewidth": 0,
              "ticks": ""
             }
            },
            "type": "parcoords"
           }
          ],
          "pie": [
           {
            "automargin": true,
            "type": "pie"
           }
          ],
          "scatter": [
           {
            "fillpattern": {
             "fillmode": "overlay",
             "size": 10,
             "solidity": 0.2
            },
            "type": "scatter"
           }
          ],
          "scatter3d": [
           {
            "line": {
             "colorbar": {
              "outlinewidth": 0,
              "ticks": ""
             }
            },
            "marker": {
             "colorbar": {
              "outlinewidth": 0,
              "ticks": ""
             }
            },
            "type": "scatter3d"
           }
          ],
          "scattercarpet": [
           {
            "marker": {
             "colorbar": {
              "outlinewidth": 0,
              "ticks": ""
             }
            },
            "type": "scattercarpet"
           }
          ],
          "scattergeo": [
           {
            "marker": {
             "colorbar": {
              "outlinewidth": 0,
              "ticks": ""
             }
            },
            "type": "scattergeo"
           }
          ],
          "scattergl": [
           {
            "marker": {
             "colorbar": {
              "outlinewidth": 0,
              "ticks": ""
             }
            },
            "type": "scattergl"
           }
          ],
          "scattermapbox": [
           {
            "marker": {
             "colorbar": {
              "outlinewidth": 0,
              "ticks": ""
             }
            },
            "type": "scattermapbox"
           }
          ],
          "scatterpolar": [
           {
            "marker": {
             "colorbar": {
              "outlinewidth": 0,
              "ticks": ""
             }
            },
            "type": "scatterpolar"
           }
          ],
          "scatterpolargl": [
           {
            "marker": {
             "colorbar": {
              "outlinewidth": 0,
              "ticks": ""
             }
            },
            "type": "scatterpolargl"
           }
          ],
          "scatterternary": [
           {
            "marker": {
             "colorbar": {
              "outlinewidth": 0,
              "ticks": ""
             }
            },
            "type": "scatterternary"
           }
          ],
          "surface": [
           {
            "colorbar": {
             "outlinewidth": 0,
             "ticks": ""
            },
            "colorscale": [
             [
              0,
              "#0d0887"
             ],
             [
              0.1111111111111111,
              "#46039f"
             ],
             [
              0.2222222222222222,
              "#7201a8"
             ],
             [
              0.3333333333333333,
              "#9c179e"
             ],
             [
              0.4444444444444444,
              "#bd3786"
             ],
             [
              0.5555555555555556,
              "#d8576b"
             ],
             [
              0.6666666666666666,
              "#ed7953"
             ],
             [
              0.7777777777777778,
              "#fb9f3a"
             ],
             [
              0.8888888888888888,
              "#fdca26"
             ],
             [
              1,
              "#f0f921"
             ]
            ],
            "type": "surface"
           }
          ],
          "table": [
           {
            "cells": {
             "fill": {
              "color": "#EBF0F8"
             },
             "line": {
              "color": "white"
             }
            },
            "header": {
             "fill": {
              "color": "#C8D4E3"
             },
             "line": {
              "color": "white"
             }
            },
            "type": "table"
           }
          ]
         },
         "layout": {
          "annotationdefaults": {
           "arrowcolor": "#2a3f5f",
           "arrowhead": 0,
           "arrowwidth": 1
          },
          "autotypenumbers": "strict",
          "coloraxis": {
           "colorbar": {
            "outlinewidth": 0,
            "ticks": ""
           }
          },
          "colorscale": {
           "diverging": [
            [
             0,
             "#8e0152"
            ],
            [
             0.1,
             "#c51b7d"
            ],
            [
             0.2,
             "#de77ae"
            ],
            [
             0.3,
             "#f1b6da"
            ],
            [
             0.4,
             "#fde0ef"
            ],
            [
             0.5,
             "#f7f7f7"
            ],
            [
             0.6,
             "#e6f5d0"
            ],
            [
             0.7,
             "#b8e186"
            ],
            [
             0.8,
             "#7fbc41"
            ],
            [
             0.9,
             "#4d9221"
            ],
            [
             1,
             "#276419"
            ]
           ],
           "sequential": [
            [
             0,
             "#0d0887"
            ],
            [
             0.1111111111111111,
             "#46039f"
            ],
            [
             0.2222222222222222,
             "#7201a8"
            ],
            [
             0.3333333333333333,
             "#9c179e"
            ],
            [
             0.4444444444444444,
             "#bd3786"
            ],
            [
             0.5555555555555556,
             "#d8576b"
            ],
            [
             0.6666666666666666,
             "#ed7953"
            ],
            [
             0.7777777777777778,
             "#fb9f3a"
            ],
            [
             0.8888888888888888,
             "#fdca26"
            ],
            [
             1,
             "#f0f921"
            ]
           ],
           "sequentialminus": [
            [
             0,
             "#0d0887"
            ],
            [
             0.1111111111111111,
             "#46039f"
            ],
            [
             0.2222222222222222,
             "#7201a8"
            ],
            [
             0.3333333333333333,
             "#9c179e"
            ],
            [
             0.4444444444444444,
             "#bd3786"
            ],
            [
             0.5555555555555556,
             "#d8576b"
            ],
            [
             0.6666666666666666,
             "#ed7953"
            ],
            [
             0.7777777777777778,
             "#fb9f3a"
            ],
            [
             0.8888888888888888,
             "#fdca26"
            ],
            [
             1,
             "#f0f921"
            ]
           ]
          },
          "colorway": [
           "#636efa",
           "#EF553B",
           "#00cc96",
           "#ab63fa",
           "#FFA15A",
           "#19d3f3",
           "#FF6692",
           "#B6E880",
           "#FF97FF",
           "#FECB52"
          ],
          "font": {
           "color": "#2a3f5f"
          },
          "geo": {
           "bgcolor": "white",
           "lakecolor": "white",
           "landcolor": "#E5ECF6",
           "showlakes": true,
           "showland": true,
           "subunitcolor": "white"
          },
          "hoverlabel": {
           "align": "left"
          },
          "hovermode": "closest",
          "mapbox": {
           "style": "light"
          },
          "paper_bgcolor": "white",
          "plot_bgcolor": "#E5ECF6",
          "polar": {
           "angularaxis": {
            "gridcolor": "white",
            "linecolor": "white",
            "ticks": ""
           },
           "bgcolor": "#E5ECF6",
           "radialaxis": {
            "gridcolor": "white",
            "linecolor": "white",
            "ticks": ""
           }
          },
          "scene": {
           "xaxis": {
            "backgroundcolor": "#E5ECF6",
            "gridcolor": "white",
            "gridwidth": 2,
            "linecolor": "white",
            "showbackground": true,
            "ticks": "",
            "zerolinecolor": "white"
           },
           "yaxis": {
            "backgroundcolor": "#E5ECF6",
            "gridcolor": "white",
            "gridwidth": 2,
            "linecolor": "white",
            "showbackground": true,
            "ticks": "",
            "zerolinecolor": "white"
           },
           "zaxis": {
            "backgroundcolor": "#E5ECF6",
            "gridcolor": "white",
            "gridwidth": 2,
            "linecolor": "white",
            "showbackground": true,
            "ticks": "",
            "zerolinecolor": "white"
           }
          },
          "shapedefaults": {
           "line": {
            "color": "#2a3f5f"
           }
          },
          "ternary": {
           "aaxis": {
            "gridcolor": "white",
            "linecolor": "white",
            "ticks": ""
           },
           "baxis": {
            "gridcolor": "white",
            "linecolor": "white",
            "ticks": ""
           },
           "bgcolor": "#E5ECF6",
           "caxis": {
            "gridcolor": "white",
            "linecolor": "white",
            "ticks": ""
           }
          },
          "title": {
           "x": 0.05
          },
          "xaxis": {
           "automargin": true,
           "gridcolor": "white",
           "linecolor": "white",
           "ticks": "",
           "title": {
            "standoff": 15
           },
           "zerolinecolor": "white",
           "zerolinewidth": 2
          },
          "yaxis": {
           "automargin": true,
           "gridcolor": "white",
           "linecolor": "white",
           "ticks": "",
           "title": {
            "standoff": 15
           },
           "zerolinecolor": "white",
           "zerolinewidth": 2
          }
         }
        },
        "title": {
         "text": "Mode Choice Calibration Constants"
        },
        "width": 800,
        "xaxis": {
         "title": {
          "text": "Iteration"
         }
        },
        "yaxis": {
         "title": {
          "text": "Constant Value"
         }
        }
       }
      },
      "text/html": [
       "<div>                            <div id=\"f4f0d601-31d9-4837-bea6-9eae64d86c6c\" class=\"plotly-graph-div\" style=\"height:400px; width:800px;\"></div>            <script type=\"text/javascript\">                require([\"plotly\"], function(Plotly) {                    window.PLOTLYENV=window.PLOTLYENV || {};                                    if (document.getElementById(\"f4f0d601-31d9-4837-bea6-9eae64d86c6c\")) {                    Plotly.newPlot(                        \"f4f0d601-31d9-4837-bea6-9eae64d86c6c\",                        [{\"mode\":\"lines+markers\",\"name\":\"NHB Pk asc_nonmotor\",\"x\":[34,33,32,31,30,29,28,27,26,25,24,23,22,21,20,19,18,17,16,15,14,13,12,11,10,9,8,7,6,5,4,3,2,1,0],\"y\":[-1.1634000539779663,-1.1634000539779663,-1.1634000539779663,-1.1634000539779663,-1.1634000539779663,-1.1634000539779663,-1.1634000539779663,-1.1634000539779663,-1.1634000539779663,-1.1634000539779663,-1.1634999513626099,-1.163699984550476,-1.1640000343322754,-1.1643999814987183,-1.1649999618530273,-1.1658999919891357,-1.167199969291687,-1.1690000295639038,-1.1714999675750732,-1.1749999523162842,-1.1797000169754028,-1.1861000061035156,-1.194599986076355,-1.2057000398635864,-1.2200000286102295,-1.2376999855041504,-1.2588000297546387,-1.2819000482559204,-1.3034000396728516,-1.3147000074386597,-1.298200011253357,-1.2202999591827393,-1.0246000289916992,-0.6358000040054321,0.0],\"type\":\"scatter\"},{\"mode\":\"lines+markers\",\"name\":\"NHB Pk asc_transit\",\"x\":[34,33,32,31,30,29,28,27,26,25,24,23,22,21,20,19,18,17,16,15,14,13,12,11,10,9,8,7,6,5,4,3,2,1,0],\"y\":[-1.894700050354004,-1.8947999477386475,-1.8948999643325806,-1.8949999809265137,-1.8950999975204468,-1.8952000141143799,-1.8952000141143799,-1.895300030708313,-1.895300030708313,-1.8952000141143799,-1.8950999975204468,-1.8948999643325806,-1.8946000337600708,-1.8940999507904053,-1.8933000564575195,-1.8920999765396118,-1.8904000520706177,-1.888100028038025,-1.8847999572753906,-1.8803000450134277,-1.8740999698638916,-1.8654999732971191,-1.8538000583648682,-1.8379000425338745,-1.8164000511169434,-1.7872999906539917,-1.7480000257492065,-1.6949000358581543,-1.6230000257492065,-1.5255000591278076,-1.3926000595092773,-1.2099000215530396,-0.9545999765396118,-0.5839999914169312,0.0],\"type\":\"scatter\"},{\"mode\":\"lines+markers\",\"name\":\"NHB Pk asc_shared\",\"x\":[34,33,32,31,30,29,28,27,26,25,24,23,22,21,20,19,18,17,16,15,14,13,12,11,10,9,8,7,6,5,4,3,2,1,0],\"y\":[-0.1923999935388565,-0.1923999935388565,-0.1923999935388565,-0.1923999935388565,-0.1923999935388565,-0.1923999935388565,-0.1923999935388565,-0.1923000067472458,-0.19220000505447388,-0.19210000336170197,-0.19189999997615814,-0.19169999659061432,-0.19140000641345978,-0.19110000133514404,-0.1906999945640564,-0.19020000100135803,-0.18950000405311584,-0.18860000371932983,-0.1875,-0.18610000610351562,-0.1843000054359436,-0.18199999630451202,-0.17900000512599945,-0.17520000040531158,-0.1703999936580658,-0.16429999470710754,-0.1565999984741211,-0.14710000157356262,-0.13529999554157257,-0.12080000340938568,-0.10329999774694443,-0.08250000327825546,-0.05820000171661377,-0.03060000017285347,0.0],\"type\":\"scatter\"},{\"mode\":\"lines+markers\",\"name\":\"NHB Pk asc_hov\",\"x\":[34,33,32,31,30,29,28,27,26,25,24,23,22,21,20,19,18,17,16,15,14,13,12,11,10,9,8,7,6,5,4,3,2,1,0],\"y\":[0.10000000149011612,0.10000000149011612,0.10000000149011612,0.10000000149011612,0.10000000149011612,0.10000000149011612,0.10000000149011612,0.10000000149011612,0.10000000149011612,0.10000000149011612,0.10000000149011612,0.10000000149011612,0.10000000149011612,0.10000000149011612,0.10000000149011612,0.10000000149011612,0.10000000149011612,0.10000000149011612,0.10000000149011612,0.10000000149011612,0.10000000149011612,0.10000000149011612,0.10000000149011612,0.10000000149011612,0.10000000149011612,0.10000000149011612,0.10000000149011612,0.10000000149011612,0.10000000149011612,0.10000000149011612,0.10000000149011612,0.10000000149011612,0.10000000149011612,0.10000000149011612,0.10000000149011612],\"type\":\"scatter\"},{\"mode\":\"lines+markers\",\"name\":\"NHB Pk asc_toll\",\"x\":[34,33,32,31,30,29,28,27,26,25,24,23,22,21,20,19,18,17,16,15,14,13,12,11,10,9,8,7,6,5,4,3,2,1,0],\"y\":[-0.4000000059604645,-0.4000000059604645,-0.4000000059604645,-0.4000000059604645,-0.4000000059604645,-0.4000000059604645,-0.4000000059604645,-0.4000000059604645,-0.4000000059604645,-0.4000000059604645,-0.4000000059604645,-0.4000000059604645,-0.4000000059604645,-0.4000000059604645,-0.4000000059604645,-0.4000000059604645,-0.4000000059604645,-0.4000000059604645,-0.4000000059604645,-0.4000000059604645,-0.4000000059604645,-0.4000000059604645,-0.4000000059604645,-0.4000000059604645,-0.4000000059604645,-0.4000000059604645,-0.4000000059604645,-0.4000000059604645,-0.4000000059604645,-0.4000000059604645,-0.4000000059604645,-0.4000000059604645,-0.4000000059604645,-0.4000000059604645,-0.4000000059604645],\"type\":\"scatter\"},{\"mode\":\"lines+markers\",\"name\":\"NHB Pk asc_sr3\",\"x\":[34,33,32,31,30,29,28,27,26,25,24,23,22,21,20,19,18,17,16,15,14,13,12,11,10,9,8,7,6,5,4,3,2,1,0],\"y\":[0.1071000024676323,0.1071000024676323,0.1071000024676323,0.1071000024676323,0.1071000024676323,0.1071000024676323,0.1071000024676323,0.1071000024676323,0.1071000024676323,0.1071000024676323,0.1071000024676323,0.1071000024676323,0.1071000024676323,0.1071000024676323,0.1071000024676323,0.1071000024676323,0.1071000024676323,0.1071000024676323,0.1071000024676323,0.1071000024676323,0.10700000077486038,0.10689999908208847,0.10679999738931656,0.10660000145435333,0.1062999963760376,0.10570000112056732,0.10490000247955322,0.10350000113248825,0.10130000114440918,0.09780000150203705,0.09210000187158585,0.08299999684095383,0.06800000369548798,0.0430000014603138,0.0],\"type\":\"scatter\"},{\"mode\":\"lines+markers\",\"name\":\"NHB Pk asc_EXP\",\"x\":[34,33,32,31,30,29,28,27,26,25,24,23,22,21,20,19,18,17,16,15,14,13,12,11,10,9,8,7,6,5,4,3,2,1,0],\"y\":[0.12240000069141388,0.11789999902248383,0.11339999735355377,0.10890000313520432,0.10440000146627426,0.09989999979734421,0.09539999812841415,0.0908999964594841,0.08640000224113464,0.08190000057220459,0.07739999890327454,0.07280000299215317,0.06840000301599503,0.06379999965429306,0.059300001710653305,0.05469999834895134,0.05009999871253967,0.04540000110864639,0.0406000018119812,0.0357000008225441,0.03060000017285347,0.025200000032782555,0.019500000402331352,0.013199999928474426,0.006099999882280827,-0.002099999925121665,-0.012000000104308128,-0.024299999698996544,-0.04010000079870224,-0.061900001019239426,-0.09070000052452087,-0.1412000060081482,-0.18019999563694,-0.3240000009536743,0.0],\"type\":\"scatter\"},{\"mode\":\"lines+markers\",\"name\":\"NHB Pk asc_BRT\",\"x\":[34,33,32,31,30,29,28,27,26,25,24,23,22,21,20,19,18,17,16,15,14,13,12,11,10,9,8,7,6,5,4,3,2,1,0],\"y\":[0.12430000305175781,0.1242000013589859,0.12409999966621399,0.12399999797344208,0.12389999628067017,0.12370000034570694,0.12349999696016312,0.12330000102519989,0.12309999763965607,0.12290000170469284,0.12269999831914902,0.12250000238418579,0.12219999730587006,0.12189999967813492,0.12160000205039978,0.12120000272989273,0.12070000171661377,0.1200999990105629,0.11940000206232071,0.1185000017285347,0.11729999631643295,0.11569999903440475,0.1136000007390976,0.11079999804496765,0.10700000077486038,0.10189999639987946,0.09489999711513519,0.0851999968290329,0.07190000265836716,0.05400000140070915,0.030400000512599945,0.002400000113993883,-0.021400000900030136,-0.018799999728798866,0.0],\"type\":\"scatter\"},{\"mode\":\"lines+markers\",\"name\":\"NHB Pk asc_LRT\",\"x\":[34,33,32,31,30,29,28,27,26,25,24,23,22,21,20,19,18,17,16,15,14,13,12,11,10,9,8,7,6,5,4,3,2,1,0],\"y\":[0.4009000062942505,0.4007999897003174,0.40070000290870667,0.40059998631477356,0.40049999952316284,0.4004000127315521,0.400299996137619,0.4002000093460083,0.4000999927520752,0.39989998936653137,0.39969998598098755,0.3995000123977661,0.3993000090122223,0.39910000562667847,0.39879998564720154,0.398499995470047,0.39809998869895935,0.397599995136261,0.3970000147819519,0.39629998803138733,0.3953000009059906,0.39399999380111694,0.392300009727478,0.38999998569488525,0.38690000772476196,0.38260000944137573,0.3767000138759613,0.3684999942779541,0.3571000099182129,0.34119999408721924,0.31869998574256897,0.2858999967575073,0.23479999601840973,0.14710000157356262,0.0],\"type\":\"scatter\"},{\"mode\":\"lines+markers\",\"name\":\"NHB Pk asc_CRT\",\"x\":[34,33,32,31,30,29,28,27,26,25,24,23,22,21,20,19,18,17,16,15,14,13,12,11,10,9,8,7,6,5,4,3,2,1,0],\"y\":[0.4666999876499176,0.4666999876499176,0.4666999876499176,0.4666999876499176,0.4666999876499176,0.4666999876499176,0.4666000008583069,0.4666000008583069,0.46650001406669617,0.46650001406669617,0.46639999747276306,0.46639999747276306,0.46630001068115234,0.46630001068115234,0.46619999408721924,0.4661000072956085,0.4659000039100647,0.4657000005245209,0.46540001034736633,0.4650000035762787,0.4643999934196472,0.4636000096797943,0.46239998936653137,0.46059998869895935,0.4580000042915344,0.45419999957084656,0.44839999079704285,0.43970000743865967,0.4262999892234802,0.40529999136924744,0.37130001187324524,0.31610000133514404,0.22859999537467957,0.11150000244379044,0.0],\"type\":\"scatter\"},{\"mode\":\"lines+markers\",\"name\":\"NHB Pk asc_driveacc\",\"x\":[34,33,32,31,30,29,28,27,26,25,24,23,22,21,20,19,18,17,16,15,14,13,12,11,10,9,8,7,6,5,4,3,2,1,0],\"y\":[-1.6821000576019287,-1.6785999536514282,-1.6748000383377075,-1.670699954032898,-1.6663000583648682,-1.6617000102996826,-1.6568000316619873,-1.6514999866485596,-1.645900011062622,-1.639799952507019,-1.6332999467849731,-1.6262999773025513,-1.618899941444397,-1.6109000444412231,-1.6023000478744507,-1.5930999517440796,-1.583299994468689,-1.572700023651123,-1.561400055885315,-1.549299955368042,-1.5362000465393066,-1.5220999717712402,-1.5068999528884888,-1.4902000427246094,-1.4716999530792236,-1.450700044631958,-1.4259999990463257,-1.3954999446868896,-1.3553999662399292,-1.299399971961975,-1.216599941253662,-1.0884000062942505,-0.8819000124931335,-0.5404999852180481,0.0],\"type\":\"scatter\"},{\"mode\":\"lines+markers\",\"name\":\"NHB Pk asc_wEXP\",\"x\":[34,33,32,31,30,29,28,27,26,25,24,23,22,21,20,19,18,17,16,15,14,13,12,11,10,9,8,7,6,5,4,3,2,1,0],\"y\":[0.24330000579357147,0.24789999425411224,0.2524000108242035,0.25699999928474426,0.26159998774528503,0.2662000060081482,0.27079999446868896,0.2754000127315521,0.2800000011920929,0.28459998965263367,0.28929999470710754,0.2939000129699707,0.2987000048160553,0.30329999327659607,0.30799999833106995,0.3125999867916107,0.3172000050544739,0.32179999351501465,0.3262999951839447,0.33070001006126404,0.33480000495910645,0.3384999930858612,0.3418000042438507,0.3443000018596649,0.34540000557899475,0.34459999203681946,0.3407000005245209,0.33180001378059387,0.31520000100135803,0.2854999899864197,0.23659999668598175,0.14749999344348907,0.03660000115633011,-0.18970000743865967,0.0],\"type\":\"scatter\"},{\"mode\":\"lines+markers\",\"name\":\"NHB Pk asc_wBRT\",\"x\":[34,33,32,31,30,29,28,27,26,25,24,23,22,21,20,19,18,17,16,15,14,13,12,11,10,9,8,7,6,5,4,3,2,1,0],\"y\":[-0.07739999890327454,-0.07720000296831131,-0.07699999958276749,-0.07680000364780426,-0.07660000026226044,-0.0763000026345253,-0.07599999755620956,-0.07569999992847443,-0.07540000230073929,-0.07509999722242355,-0.07479999959468842,-0.07450000196695328,-0.07410000264644623,-0.07370000332593918,-0.07329999655485153,-0.0729999989271164,-0.07270000129938126,-0.07240000367164612,-0.0722000002861023,-0.07209999859333038,-0.0723000019788742,-0.07270000129938126,-0.07360000163316727,-0.07509999722242355,-0.07750000059604645,-0.0812000036239624,-0.08659999817609787,-0.09430000185966492,-0.10509999841451645,-0.11980000138282776,-0.1386999934911728,-0.15889999270439148,-0.16769999265670776,-0.12860000133514404,0.0],\"type\":\"scatter\"},{\"mode\":\"lines+markers\",\"name\":\"NHB Pk asc_wLRT\",\"x\":[34,33,32,31,30,29,28,27,26,25,24,23,22,21,20,19,18,17,16,15,14,13,12,11,10,9,8,7,6,5,4,3,2,1,0],\"y\":[0.4325999915599823,0.4327999949455261,0.43299999833106995,0.43320000171661377,0.4334000051021576,0.4336000084877014,0.43380001187324524,0.4339999854564667,0.4343000054359436,0.43459999561309814,0.4348999857902527,0.4352000057697296,0.43549999594688416,0.4359000027179718,0.43630000948905945,0.4366999864578247,0.43709999322891235,0.4374000132083893,0.4377000033855438,0.43790000677108765,0.43790000677108765,0.4377000033855438,0.43709999322891235,0.4361000061035156,0.4343000054359436,0.43149998784065247,0.42730000615119934,0.421099990606308,0.41200000047683716,0.39890000224113464,0.3799999952316284,0.3513999879360199,0.30390000343322754,0.21130000054836273,0.0],\"type\":\"scatter\"},{\"mode\":\"lines+markers\",\"name\":\"NHB Pk asc_wCRT\",\"x\":[34,33,32,31,30,29,28,27,26,25,24,23,22,21,20,19,18,17,16,15,14,13,12,11,10,9,8,7,6,5,4,3,2,1,0],\"y\":[1.4436999559402466,1.4437999725341797,1.4438999891281128,1.444000005722046,1.444100022315979,1.444200038909912,1.4443000555038452,1.4444999694824219,1.444700002670288,1.4449000358581543,1.445099949836731,1.4452999830245972,1.4456000328063965,1.4458999633789062,1.4462000131607056,1.4464999437332153,1.4467999935150146,1.447100043296814,1.4473999738693237,1.44760000705719,1.44760000705719,1.4473999738693237,1.4466999769210815,1.4452999830245972,1.4426000118255615,1.4378999471664429,1.4296000003814697,1.4154000282287598,1.3912999629974365,1.3499000072479248,1.2782000303268433,1.1531000137329102,0.9351000189781189,0.5716000199317932,0.0],\"type\":\"scatter\"},{\"mode\":\"lines+markers\",\"name\":\"NHB Pk asc_dEXP\",\"x\":[34,33,32,31,30,29,28,27,26,25,24,23,22,21,20,19,18,17,16,15,14,13,12,11,10,9,8,7,6,5,4,3,2,1,0],\"y\":[0.8406999707221985,0.8417999744415283,0.8428000211715698,0.843500018119812,0.8439000248908997,0.843999981880188,0.8439000248908997,0.8434000015258789,0.8425999879837036,0.8414000272750854,0.839900016784668,0.8378000259399414,0.8353999853134155,0.8324000239372253,0.8288999795913696,0.8248000144958496,0.8199999928474426,0.8145999908447266,0.8083999752998352,0.8014000058174133,0.79339998960495,0.7843000292778015,0.7739999890327454,0.7623000144958496,0.7488999962806702,0.7333999872207642,0.7149999737739563,0.6926000118255615,0.6640999913215637,0.6248000264167786,0.5694000124931335,0.47189998626708984,0.34599998593330383,0.007300000172108412,0.0],\"type\":\"scatter\"},{\"mode\":\"lines+markers\",\"name\":\"NHB Pk asc_dBRT\",\"x\":[34,33,32,31,30,29,28,27,26,25,24,23,22,21,20,19,18,17,16,15,14,13,12,11,10,9,8,7,6,5,4,3,2,1,0],\"y\":[0.9904000163078308,0.9871000051498413,0.9836999773979187,0.9800000190734863,0.9761000275611877,0.9718999862670898,0.9674000144004822,0.9625999927520752,0.9574000239372253,0.9519000053405762,0.9459999799728394,0.9397000074386597,0.9329000115394592,0.925599992275238,0.9178000092506409,0.9093999862670898,0.9003999829292297,0.8906999826431274,0.880299985408783,0.8690000176429749,0.8567000031471252,0.8432999849319458,0.8287000060081482,0.8126000165939331,0.7944999933242798,0.7741000056266785,0.7504000067710876,0.7221999764442444,0.6873000264167786,0.6424999833106995,0.583299994468689,0.5037999749183655,0.3977000117301941,0.25279998779296875,0.0],\"type\":\"scatter\"},{\"mode\":\"lines+markers\",\"name\":\"NHB Pk asc_dLRT\",\"x\":[34,33,32,31,30,29,28,27,26,25,24,23,22,21,20,19,18,17,16,15,14,13,12,11,10,9,8,7,6,5,4,3,2,1,0],\"y\":[0.22910000383853912,0.22589999437332153,0.2223999947309494,0.21870000660419464,0.21469999849796295,0.21040000021457672,0.20589999854564667,0.20100000500679016,0.19589999318122864,0.19030000269412994,0.18440000712871552,0.17800000309944153,0.1712000072002411,0.1639000028371811,0.15610000491142273,0.1476999968290329,0.13860000669956207,0.12880000472068787,0.11819999665021896,0.10679999738931656,0.09440000355243683,0.08089999854564667,0.06610000133514404,0.049800001084804535,0.031700000166893005,0.01140000019222498,-0.011500000022351742,-0.03739999979734421,-0.06650000065565109,-0.09790000319480896,-0.12770000100135803,-0.14640000462532043,-0.13680000603199005,-0.08429999649524689,0.0],\"type\":\"scatter\"},{\"mode\":\"lines+markers\",\"name\":\"NHB Pk asc_dCRT\",\"x\":[34,33,32,31,30,29,28,27,26,25,24,23,22,21,20,19,18,17,16,15,14,13,12,11,10,9,8,7,6,5,4,3,2,1,0],\"y\":[1.1374000310897827,1.1339999437332153,1.1303999423980713,1.1265000104904175,1.1224000453948975,1.1180000305175781,1.1132999658584595,1.108299970626831,1.1029000282287598,1.0972000360488892,1.090999960899353,1.0844000577926636,1.077299952507019,1.069700002670288,1.0614999532699585,1.0527000427246094,1.0432000160217285,1.0329999923706055,1.0219999551773071,1.01010000705719,0.9972000122070312,0.9830999970436096,0.9678000211715698,0.9510999917984009,0.9327999949455261,0.9126999974250793,0.8902999758720398,0.8651999831199646,0.8361999988555908,0.8008999824523926,0.7538999915122986,0.6829000115394592,0.5609999895095825,0.3458000123500824,0.0],\"type\":\"scatter\"},{\"mode\":\"lines+markers\",\"name\":\"NHB Pk asc_bike\",\"x\":[34,33,32,31,30,29,28,27,26,25,24,23,22,21,20,19,18,17,16,15,14,13,12,11,10,9,8,7,6,5,4,3,2,1,0],\"y\":[-2.8362998962402344,-2.8362998962402344,-2.8362998962402344,-2.8362998962402344,-2.8362998962402344,-2.8362998962402344,-2.836199998855591,-2.8361001014709473,-2.8359999656677246,-2.8357999324798584,-2.835599899291992,-2.835200071334839,-2.834700107574463,-2.8340001106262207,-2.8329999446868896,-2.8315000534057617,-2.829400062561035,-2.8264000415802,-2.8220999240875244,-2.815999984741211,-2.807300090789795,-2.7948999404907227,-2.777100086212158,-2.7516000270843506,-2.7151999473571777,-2.6631999015808105,-2.589400053024292,-2.484999895095825,-2.338900089263916,-2.137399911880493,-1.8661999702453613,-1.513800024986267,-1.0773999691009521,-0.5662999749183655,0.0],\"type\":\"scatter\"}],                        {\"height\":400,\"template\":{\"data\":{\"barpolar\":[{\"marker\":{\"line\":{\"color\":\"#E5ECF6\",\"width\":0.5},\"pattern\":{\"fillmode\":\"overlay\",\"size\":10,\"solidity\":0.2}},\"type\":\"barpolar\"}],\"bar\":[{\"error_x\":{\"color\":\"#2a3f5f\"},\"error_y\":{\"color\":\"#2a3f5f\"},\"marker\":{\"line\":{\"color\":\"#E5ECF6\",\"width\":0.5},\"pattern\":{\"fillmode\":\"overlay\",\"size\":10,\"solidity\":0.2}},\"type\":\"bar\"}],\"carpet\":[{\"aaxis\":{\"endlinecolor\":\"#2a3f5f\",\"gridcolor\":\"white\",\"linecolor\":\"white\",\"minorgridcolor\":\"white\",\"startlinecolor\":\"#2a3f5f\"},\"baxis\":{\"endlinecolor\":\"#2a3f5f\",\"gridcolor\":\"white\",\"linecolor\":\"white\",\"minorgridcolor\":\"white\",\"startlinecolor\":\"#2a3f5f\"},\"type\":\"carpet\"}],\"choropleth\":[{\"colorbar\":{\"outlinewidth\":0,\"ticks\":\"\"},\"type\":\"choropleth\"}],\"contourcarpet\":[{\"colorbar\":{\"outlinewidth\":0,\"ticks\":\"\"},\"type\":\"contourcarpet\"}],\"contour\":[{\"colorbar\":{\"outlinewidth\":0,\"ticks\":\"\"},\"colorscale\":[[0.0,\"#0d0887\"],[0.1111111111111111,\"#46039f\"],[0.2222222222222222,\"#7201a8\"],[0.3333333333333333,\"#9c179e\"],[0.4444444444444444,\"#bd3786\"],[0.5555555555555556,\"#d8576b\"],[0.6666666666666666,\"#ed7953\"],[0.7777777777777778,\"#fb9f3a\"],[0.8888888888888888,\"#fdca26\"],[1.0,\"#f0f921\"]],\"type\":\"contour\"}],\"heatmapgl\":[{\"colorbar\":{\"outlinewidth\":0,\"ticks\":\"\"},\"colorscale\":[[0.0,\"#0d0887\"],[0.1111111111111111,\"#46039f\"],[0.2222222222222222,\"#7201a8\"],[0.3333333333333333,\"#9c179e\"],[0.4444444444444444,\"#bd3786\"],[0.5555555555555556,\"#d8576b\"],[0.6666666666666666,\"#ed7953\"],[0.7777777777777778,\"#fb9f3a\"],[0.8888888888888888,\"#fdca26\"],[1.0,\"#f0f921\"]],\"type\":\"heatmapgl\"}],\"heatmap\":[{\"colorbar\":{\"outlinewidth\":0,\"ticks\":\"\"},\"colorscale\":[[0.0,\"#0d0887\"],[0.1111111111111111,\"#46039f\"],[0.2222222222222222,\"#7201a8\"],[0.3333333333333333,\"#9c179e\"],[0.4444444444444444,\"#bd3786\"],[0.5555555555555556,\"#d8576b\"],[0.6666666666666666,\"#ed7953\"],[0.7777777777777778,\"#fb9f3a\"],[0.8888888888888888,\"#fdca26\"],[1.0,\"#f0f921\"]],\"type\":\"heatmap\"}],\"histogram2dcontour\":[{\"colorbar\":{\"outlinewidth\":0,\"ticks\":\"\"},\"colorscale\":[[0.0,\"#0d0887\"],[0.1111111111111111,\"#46039f\"],[0.2222222222222222,\"#7201a8\"],[0.3333333333333333,\"#9c179e\"],[0.4444444444444444,\"#bd3786\"],[0.5555555555555556,\"#d8576b\"],[0.6666666666666666,\"#ed7953\"],[0.7777777777777778,\"#fb9f3a\"],[0.8888888888888888,\"#fdca26\"],[1.0,\"#f0f921\"]],\"type\":\"histogram2dcontour\"}],\"histogram2d\":[{\"colorbar\":{\"outlinewidth\":0,\"ticks\":\"\"},\"colorscale\":[[0.0,\"#0d0887\"],[0.1111111111111111,\"#46039f\"],[0.2222222222222222,\"#7201a8\"],[0.3333333333333333,\"#9c179e\"],[0.4444444444444444,\"#bd3786\"],[0.5555555555555556,\"#d8576b\"],[0.6666666666666666,\"#ed7953\"],[0.7777777777777778,\"#fb9f3a\"],[0.8888888888888888,\"#fdca26\"],[1.0,\"#f0f921\"]],\"type\":\"histogram2d\"}],\"histogram\":[{\"marker\":{\"pattern\":{\"fillmode\":\"overlay\",\"size\":10,\"solidity\":0.2}},\"type\":\"histogram\"}],\"mesh3d\":[{\"colorbar\":{\"outlinewidth\":0,\"ticks\":\"\"},\"type\":\"mesh3d\"}],\"parcoords\":[{\"line\":{\"colorbar\":{\"outlinewidth\":0,\"ticks\":\"\"}},\"type\":\"parcoords\"}],\"pie\":[{\"automargin\":true,\"type\":\"pie\"}],\"scatter3d\":[{\"line\":{\"colorbar\":{\"outlinewidth\":0,\"ticks\":\"\"}},\"marker\":{\"colorbar\":{\"outlinewidth\":0,\"ticks\":\"\"}},\"type\":\"scatter3d\"}],\"scattercarpet\":[{\"marker\":{\"colorbar\":{\"outlinewidth\":0,\"ticks\":\"\"}},\"type\":\"scattercarpet\"}],\"scattergeo\":[{\"marker\":{\"colorbar\":{\"outlinewidth\":0,\"ticks\":\"\"}},\"type\":\"scattergeo\"}],\"scattergl\":[{\"marker\":{\"colorbar\":{\"outlinewidth\":0,\"ticks\":\"\"}},\"type\":\"scattergl\"}],\"scattermapbox\":[{\"marker\":{\"colorbar\":{\"outlinewidth\":0,\"ticks\":\"\"}},\"type\":\"scattermapbox\"}],\"scatterpolargl\":[{\"marker\":{\"colorbar\":{\"outlinewidth\":0,\"ticks\":\"\"}},\"type\":\"scatterpolargl\"}],\"scatterpolar\":[{\"marker\":{\"colorbar\":{\"outlinewidth\":0,\"ticks\":\"\"}},\"type\":\"scatterpolar\"}],\"scatter\":[{\"fillpattern\":{\"fillmode\":\"overlay\",\"size\":10,\"solidity\":0.2},\"type\":\"scatter\"}],\"scatterternary\":[{\"marker\":{\"colorbar\":{\"outlinewidth\":0,\"ticks\":\"\"}},\"type\":\"scatterternary\"}],\"surface\":[{\"colorbar\":{\"outlinewidth\":0,\"ticks\":\"\"},\"colorscale\":[[0.0,\"#0d0887\"],[0.1111111111111111,\"#46039f\"],[0.2222222222222222,\"#7201a8\"],[0.3333333333333333,\"#9c179e\"],[0.4444444444444444,\"#bd3786\"],[0.5555555555555556,\"#d8576b\"],[0.6666666666666666,\"#ed7953\"],[0.7777777777777778,\"#fb9f3a\"],[0.8888888888888888,\"#fdca26\"],[1.0,\"#f0f921\"]],\"type\":\"surface\"}],\"table\":[{\"cells\":{\"fill\":{\"color\":\"#EBF0F8\"},\"line\":{\"color\":\"white\"}},\"header\":{\"fill\":{\"color\":\"#C8D4E3\"},\"line\":{\"color\":\"white\"}},\"type\":\"table\"}]},\"layout\":{\"annotationdefaults\":{\"arrowcolor\":\"#2a3f5f\",\"arrowhead\":0,\"arrowwidth\":1},\"autotypenumbers\":\"strict\",\"coloraxis\":{\"colorbar\":{\"outlinewidth\":0,\"ticks\":\"\"}},\"colorscale\":{\"diverging\":[[0,\"#8e0152\"],[0.1,\"#c51b7d\"],[0.2,\"#de77ae\"],[0.3,\"#f1b6da\"],[0.4,\"#fde0ef\"],[0.5,\"#f7f7f7\"],[0.6,\"#e6f5d0\"],[0.7,\"#b8e186\"],[0.8,\"#7fbc41\"],[0.9,\"#4d9221\"],[1,\"#276419\"]],\"sequential\":[[0.0,\"#0d0887\"],[0.1111111111111111,\"#46039f\"],[0.2222222222222222,\"#7201a8\"],[0.3333333333333333,\"#9c179e\"],[0.4444444444444444,\"#bd3786\"],[0.5555555555555556,\"#d8576b\"],[0.6666666666666666,\"#ed7953\"],[0.7777777777777778,\"#fb9f3a\"],[0.8888888888888888,\"#fdca26\"],[1.0,\"#f0f921\"]],\"sequentialminus\":[[0.0,\"#0d0887\"],[0.1111111111111111,\"#46039f\"],[0.2222222222222222,\"#7201a8\"],[0.3333333333333333,\"#9c179e\"],[0.4444444444444444,\"#bd3786\"],[0.5555555555555556,\"#d8576b\"],[0.6666666666666666,\"#ed7953\"],[0.7777777777777778,\"#fb9f3a\"],[0.8888888888888888,\"#fdca26\"],[1.0,\"#f0f921\"]]},\"colorway\":[\"#636efa\",\"#EF553B\",\"#00cc96\",\"#ab63fa\",\"#FFA15A\",\"#19d3f3\",\"#FF6692\",\"#B6E880\",\"#FF97FF\",\"#FECB52\"],\"font\":{\"color\":\"#2a3f5f\"},\"geo\":{\"bgcolor\":\"white\",\"lakecolor\":\"white\",\"landcolor\":\"#E5ECF6\",\"showlakes\":true,\"showland\":true,\"subunitcolor\":\"white\"},\"hoverlabel\":{\"align\":\"left\"},\"hovermode\":\"closest\",\"mapbox\":{\"style\":\"light\"},\"paper_bgcolor\":\"white\",\"plot_bgcolor\":\"#E5ECF6\",\"polar\":{\"angularaxis\":{\"gridcolor\":\"white\",\"linecolor\":\"white\",\"ticks\":\"\"},\"bgcolor\":\"#E5ECF6\",\"radialaxis\":{\"gridcolor\":\"white\",\"linecolor\":\"white\",\"ticks\":\"\"}},\"scene\":{\"xaxis\":{\"backgroundcolor\":\"#E5ECF6\",\"gridcolor\":\"white\",\"gridwidth\":2,\"linecolor\":\"white\",\"showbackground\":true,\"ticks\":\"\",\"zerolinecolor\":\"white\"},\"yaxis\":{\"backgroundcolor\":\"#E5ECF6\",\"gridcolor\":\"white\",\"gridwidth\":2,\"linecolor\":\"white\",\"showbackground\":true,\"ticks\":\"\",\"zerolinecolor\":\"white\"},\"zaxis\":{\"backgroundcolor\":\"#E5ECF6\",\"gridcolor\":\"white\",\"gridwidth\":2,\"linecolor\":\"white\",\"showbackground\":true,\"ticks\":\"\",\"zerolinecolor\":\"white\"}},\"shapedefaults\":{\"line\":{\"color\":\"#2a3f5f\"}},\"ternary\":{\"aaxis\":{\"gridcolor\":\"white\",\"linecolor\":\"white\",\"ticks\":\"\"},\"baxis\":{\"gridcolor\":\"white\",\"linecolor\":\"white\",\"ticks\":\"\"},\"bgcolor\":\"#E5ECF6\",\"caxis\":{\"gridcolor\":\"white\",\"linecolor\":\"white\",\"ticks\":\"\"}},\"title\":{\"x\":0.05},\"xaxis\":{\"automargin\":true,\"gridcolor\":\"white\",\"linecolor\":\"white\",\"ticks\":\"\",\"title\":{\"standoff\":15},\"zerolinecolor\":\"white\",\"zerolinewidth\":2},\"yaxis\":{\"automargin\":true,\"gridcolor\":\"white\",\"linecolor\":\"white\",\"ticks\":\"\",\"title\":{\"standoff\":15},\"zerolinecolor\":\"white\",\"zerolinewidth\":2}}},\"title\":{\"text\":\"Mode Choice Calibration Constants\"},\"width\":800,\"xaxis\":{\"title\":{\"text\":\"Iteration\"}},\"yaxis\":{\"title\":{\"text\":\"Constant Value\"}}},                        {\"responsive\": true}                    ).then(function(){\n",
       "                            \n",
       "var gd = document.getElementById('f4f0d601-31d9-4837-bea6-9eae64d86c6c');\n",
       "var x = new MutationObserver(function (mutations, observer) {{\n",
       "        var display = window.getComputedStyle(gd).display;\n",
       "        if (!display || display === 'none') {{\n",
       "            console.log([gd, 'removed!']);\n",
       "            Plotly.purge(gd);\n",
       "            observer.disconnect();\n",
       "        }}\n",
       "}});\n",
       "\n",
       "// Listen for the removal of the full notebook cells\n",
       "var notebookContainer = gd.closest('#notebook-container');\n",
       "if (notebookContainer) {{\n",
       "    x.observe(notebookContainer, {childList: true});\n",
       "}}\n",
       "\n",
       "// Listen for the clearing of the current output cell\n",
       "var outputEl = gd.closest('.output');\n",
       "if (outputEl) {{\n",
       "    x.observe(outputEl, {childList: true});\n",
       "}}\n",
       "\n",
       "                        })                };                });            </script>        </div>"
      ]
     },
     "metadata": {},
     "output_type": "display_data"
    },
    {
     "data": {
      "application/vnd.plotly.v1+json": {
       "config": {
        "linkText": "Export to plot.ly",
        "plotlyServerURL": "https://plot.ly",
        "showLink": false
       },
       "data": [
        {
         "mode": "lines+markers",
         "name": "NHB Ok asc_nonmotor",
         "type": "scatter",
         "x": [
          18,
          17,
          16,
          15,
          14,
          13,
          12,
          11,
          10,
          9,
          8,
          7,
          6,
          5,
          4,
          3,
          2,
          1,
          0
         ],
         "y": [
          -0.41909998655319214,
          -0.4214000105857849,
          -0.4246000051498413,
          -0.42890000343322754,
          -0.43479999899864197,
          -0.44279998540878296,
          -0.45339998602867126,
          -0.4675000011920929,
          -0.4860000014305115,
          -0.5101000070571899,
          -0.5407999753952026,
          -0.5791000127792358,
          -0.6247000098228455,
          -0.6747999787330627,
          -0.7199000120162964,
          -0.7360000014305115,
          -0.6729999780654907,
          -0.45080000162124634,
          0
         ]
        },
        {
         "mode": "lines+markers",
         "name": "NHB Ok asc_transit",
         "type": "scatter",
         "x": [
          18,
          17,
          16,
          15,
          14,
          13,
          12,
          11,
          10,
          9,
          8,
          7,
          6,
          5,
          4,
          3,
          2,
          1,
          0
         ],
         "y": [
          -1.8740999698638916,
          -1.871399998664856,
          -1.8676999807357788,
          -1.8626999855041504,
          -1.8559000492095947,
          -1.8467999696731567,
          -1.8344000577926636,
          -1.8177000284194946,
          -1.795300006866455,
          -1.7652000188827515,
          -1.7246999740600586,
          -1.6700999736785889,
          -1.596500039100647,
          -1.496899962425232,
          -1.361799955368042,
          -1.1776000261306763,
          -0.9235000014305115,
          -0.5618000030517578,
          0
         ]
        },
        {
         "mode": "lines+markers",
         "name": "NHB Ok asc_shared",
         "type": "scatter",
         "x": [
          18,
          17,
          16,
          15,
          14,
          13,
          12,
          11,
          10,
          9,
          8,
          7,
          6,
          5,
          4,
          3,
          2,
          1,
          0
         ],
         "y": [
          -0.1356000006198883,
          -0.13500000536441803,
          -0.13420000672340393,
          -0.1331000030040741,
          -0.13169999420642853,
          -0.12999999523162842,
          -0.12780000269412994,
          -0.1251000016927719,
          -0.12160000205039978,
          -0.11720000207424164,
          -0.11169999837875366,
          -0.10490000247955322,
          -0.09640000015497208,
          -0.0860000029206276,
          -0.07349999994039536,
          -0.05860000103712082,
          -0.04129999876022339,
          -0.021700000390410423,
          0
         ]
        },
        {
         "mode": "lines+markers",
         "name": "NHB Ok asc_hov",
         "type": "scatter",
         "x": [
          18,
          17,
          16,
          15,
          14,
          13,
          12,
          11,
          10,
          9,
          8,
          7,
          6,
          5,
          4,
          3,
          2,
          1,
          0
         ],
         "y": [
          0.10000000149011612,
          0.10000000149011612,
          0.10000000149011612,
          0.10000000149011612,
          0.10000000149011612,
          0.10000000149011612,
          0.10000000149011612,
          0.10000000149011612,
          0.10000000149011612,
          0.10000000149011612,
          0.10000000149011612,
          0.10000000149011612,
          0.10000000149011612,
          0.10000000149011612,
          0.10000000149011612,
          0.10000000149011612,
          0.10000000149011612,
          0.10000000149011612,
          0.10000000149011612
         ]
        },
        {
         "mode": "lines+markers",
         "name": "NHB Ok asc_toll",
         "type": "scatter",
         "x": [
          18,
          17,
          16,
          15,
          14,
          13,
          12,
          11,
          10,
          9,
          8,
          7,
          6,
          5,
          4,
          3,
          2,
          1,
          0
         ],
         "y": [
          -0.4000000059604645,
          -0.4000000059604645,
          -0.4000000059604645,
          -0.4000000059604645,
          -0.4000000059604645,
          -0.4000000059604645,
          -0.4000000059604645,
          -0.4000000059604645,
          -0.4000000059604645,
          -0.4000000059604645,
          -0.4000000059604645,
          -0.4000000059604645,
          -0.4000000059604645,
          -0.4000000059604645,
          -0.4000000059604645,
          -0.4000000059604645,
          -0.4000000059604645,
          -0.4000000059604645,
          -0.4000000059604645
         ]
        },
        {
         "mode": "lines+markers",
         "name": "NHB Ok asc_sr3",
         "type": "scatter",
         "x": [
          18,
          17,
          16,
          15,
          14,
          13,
          12,
          11,
          10,
          9,
          8,
          7,
          6,
          5,
          4,
          3,
          2,
          1,
          0
         ],
         "y": [
          0.07840000092983246,
          0.07840000092983246,
          0.07840000092983246,
          0.07840000092983246,
          0.07840000092983246,
          0.07829999923706055,
          0.07819999754428864,
          0.07810000330209732,
          0.0778999999165535,
          0.07760000228881836,
          0.0771000012755394,
          0.07620000094175339,
          0.0746999979019165,
          0.0723000019788742,
          0.06830000132322311,
          0.0617000013589859,
          0.050700001418590546,
          0.032099999487400055,
          0
         ]
        },
        {
         "mode": "lines+markers",
         "name": "NHB Ok asc_BRT",
         "type": "scatter",
         "x": [
          18,
          17,
          16,
          15,
          14,
          13,
          12,
          11,
          10,
          9,
          8,
          7,
          6,
          5,
          4,
          3,
          2,
          1,
          0
         ],
         "y": [
          0.1615999937057495,
          0.16110000014305115,
          0.16040000319480896,
          0.15950000286102295,
          0.1581999957561493,
          0.1565999984741211,
          0.15440000593662262,
          0.15129999816417694,
          0.14710000157356262,
          0.14149999618530273,
          0.1339000016450882,
          0.12349999696016312,
          0.10939999669790268,
          0.09040000289678574,
          0.06530000269412994,
          0.0348999984562397,
          0.006300000008195639,
          -0.00019999999494757503,
          0
         ]
        },
        {
         "mode": "lines+markers",
         "name": "NHB Ok asc_LRT",
         "type": "scatter",
         "x": [
          18,
          17,
          16,
          15,
          14,
          13,
          12,
          11,
          10,
          9,
          8,
          7,
          6,
          5,
          4,
          3,
          2,
          1,
          0
         ],
         "y": [
          0.38760000467300415,
          0.3871000111103058,
          0.3864000141620636,
          0.3855000138282776,
          0.38429999351501465,
          0.38280001282691956,
          0.3808000087738037,
          0.3781000077724457,
          0.37439998984336853,
          0.3693999946117401,
          0.3626999855041504,
          0.35359999537467957,
          0.3411000072956085,
          0.3239000141620636,
          0.29989999532699585,
          0.2653999924659729,
          0.2125999927520752,
          0.12530000507831573,
          0
         ]
        },
        {
         "mode": "lines+markers",
         "name": "NHB Ok asc_CRT",
         "type": "scatter",
         "x": [
          18,
          17,
          16,
          15,
          14,
          13,
          12,
          11,
          10,
          9,
          8,
          7,
          6,
          5,
          4,
          3,
          2,
          1,
          0
         ],
         "y": [
          0.7035999894142151,
          0.7034000158309937,
          0.7031000256538391,
          0.7026000022888184,
          0.7019000053405762,
          0.7009000182151794,
          0.699400007724762,
          0.6972000002861023,
          0.6940000057220459,
          0.6894000172615051,
          0.682699978351593,
          0.6726999878883362,
          0.6572999954223633,
          0.6330000162124634,
          0.5936999917030334,
          0.5289000272750854,
          0.4242999851703644,
          0.26600000262260437,
          0
         ]
        },
        {
         "mode": "lines+markers",
         "name": "NHB Ok asc_driveacc",
         "type": "scatter",
         "x": [
          18,
          17,
          16,
          15,
          14,
          13,
          12,
          11,
          10,
          9,
          8,
          7,
          6,
          5,
          4,
          3,
          2,
          1,
          0
         ],
         "y": [
          -1.541599988937378,
          -1.535099983215332,
          -1.527999997138977,
          -1.520400047302246,
          -1.5120999813079834,
          -1.503000020980835,
          -1.4930000305175781,
          -1.4817999601364136,
          -1.469099998474121,
          -1.4539999961853027,
          -1.4352999925613403,
          -1.4108999967575073,
          -1.3768999576568604,
          -1.3269000053405762,
          -1.2496999502182007,
          -1.1261999607086182,
          -0.9212999939918518,
          -0.5717999935150146,
          0
         ]
        },
        {
         "mode": "lines+markers",
         "name": "NHB Ok asc_wBRT",
         "type": "scatter",
         "x": [
          18,
          17,
          16,
          15,
          14,
          13,
          12,
          11,
          10,
          9,
          8,
          7,
          6,
          5,
          4,
          3,
          2,
          1,
          0
         ],
         "y": [
          0.004699999932199717,
          0.0044999998062849045,
          0.004100000020116568,
          0.003599999938160181,
          0.0027000000700354576,
          0.001500000013038516,
          -0.0003000000142492354,
          -0.002899999963119626,
          -0.006500000134110451,
          -0.011500000022351742,
          -0.018400000408291817,
          -0.027899999171495438,
          -0.04089999943971634,
          -0.05820000171661377,
          -0.08049999922513962,
          -0.10589999705553055,
          -0.12380000203847885,
          -0.10090000182390213,
          0
         ]
        },
        {
         "mode": "lines+markers",
         "name": "NHB Ok asc_wLRT",
         "type": "scatter",
         "x": [
          18,
          17,
          16,
          15,
          14,
          13,
          12,
          11,
          10,
          9,
          8,
          7,
          6,
          5,
          4,
          3,
          2,
          1,
          0
         ],
         "y": [
          0.43689998984336853,
          0.43689998984336853,
          0.4368000030517578,
          0.43650001287460327,
          0.4359999895095825,
          0.4350999891757965,
          0.43380001187324524,
          0.4318999946117401,
          0.42910000681877136,
          0.4250999987125397,
          0.4194999933242798,
          0.4117000102996826,
          0.4007999897003174,
          0.385699987411499,
          0.3643999993801117,
          0.33329999446868896,
          0.28360000252723694,
          0.1915999948978424,
          0
         ]
        },
        {
         "mode": "lines+markers",
         "name": "NHB Ok asc_wCRT",
         "type": "scatter",
         "x": [
          18,
          17,
          16,
          15,
          14,
          13,
          12,
          11,
          10,
          9,
          8,
          7,
          6,
          5,
          4,
          3,
          2,
          1,
          0
         ],
         "y": [
          1.6979999542236328,
          1.6979000568389893,
          1.697700023651123,
          1.6972999572753906,
          1.6966999769210815,
          1.6957000494003296,
          1.694100022315979,
          1.69159996509552,
          1.687600016593933,
          1.6812000274658203,
          1.6708999872207642,
          1.654099941253662,
          1.6265000104904175,
          1.5801000595092773,
          1.5010000467300415,
          1.3639999628067017,
          1.1258000135421753,
          0.7170000076293945,
          0
         ]
        },
        {
         "mode": "lines+markers",
         "name": "NHB Ok asc_dBRT",
         "type": "scatter",
         "x": [
          18,
          17,
          16,
          15,
          14,
          13,
          12,
          11,
          10,
          9,
          8,
          7,
          6,
          5,
          4,
          3,
          2,
          1,
          0
         ],
         "y": [
          1.082200050354004,
          1.0759999752044678,
          1.069200038909912,
          1.0618000030517578,
          1.0535999536514282,
          1.0444999933242798,
          1.0343999862670898,
          1.0228999853134155,
          1.009600043296814,
          0.9937999844551086,
          0.9745000004768372,
          0.9498000144958496,
          0.9171000123023987,
          0.8719000220298767,
          0.8075000047683716,
          0.7142999768257141,
          0.5784000158309937,
          0.37279999256134033,
          0
         ]
        },
        {
         "mode": "lines+markers",
         "name": "NHB Ok asc_dLRT",
         "type": "scatter",
         "x": [
          18,
          17,
          16,
          15,
          14,
          13,
          12,
          11,
          10,
          9,
          8,
          7,
          6,
          5,
          4,
          3,
          2,
          1,
          0
         ],
         "y": [
          -0.02239999920129776,
          -0.02850000001490116,
          -0.03519999980926514,
          -0.04259999841451645,
          -0.05079999938607216,
          -0.05990000069141388,
          -0.07010000199079514,
          -0.08160000294446945,
          -0.09470000118017197,
          -0.10980000346899033,
          -0.1273999959230423,
          -0.14820000529289246,
          -0.17239999771118164,
          -0.19900000095367432,
          -0.22419999539852142,
          -0.23729999363422394,
          -0.21809999644756317,
          -0.14309999346733093,
          0
         ]
        },
        {
         "mode": "lines+markers",
         "name": "NHB Ok asc_dCRT",
         "type": "scatter",
         "x": [
          18,
          17,
          16,
          15,
          14,
          13,
          12,
          11,
          10,
          9,
          8,
          7,
          6,
          5,
          4,
          3,
          2,
          1,
          0
         ],
         "y": [
          1.1204999685287476,
          1.113800048828125,
          1.1065000295639038,
          1.0985000133514404,
          1.0896999835968018,
          1.0800000429153442,
          1.0693000555038452,
          1.0575000047683716,
          1.0444999933242798,
          1.0302000045776367,
          1.014299988746643,
          0.9965999722480774,
          0.9761000275611877,
          0.9506000280380249,
          0.9146000146865845,
          0.8543000221252441,
          0.7383999824523926,
          0.5012000203132629,
          0
         ]
        },
        {
         "mode": "lines+markers",
         "name": "NHB Ok asc_bike",
         "type": "scatter",
         "x": [
          18,
          17,
          16,
          15,
          14,
          13,
          12,
          11,
          10,
          9,
          8,
          7,
          6,
          5,
          4,
          3,
          2,
          1,
          0
         ],
         "y": [
          -3.3585000038146973,
          -3.355799913406372,
          -3.3519999980926514,
          -3.3464999198913574,
          -3.338599920272827,
          -3.327199935913086,
          -3.310699939727783,
          -3.286799907684326,
          -3.2520999908447266,
          -3.2016000747680664,
          -3.1280999183654785,
          -3.0213000774383545,
          -2.8668999671936035,
          -2.645900011062622,
          -2.3355000019073486,
          -1.9139000177383423,
          -1.371500015258789,
          -0.7221999764442444,
          0
         ]
        }
       ],
       "layout": {
        "height": 400,
        "template": {
         "data": {
          "bar": [
           {
            "error_x": {
             "color": "#2a3f5f"
            },
            "error_y": {
             "color": "#2a3f5f"
            },
            "marker": {
             "line": {
              "color": "#E5ECF6",
              "width": 0.5
             },
             "pattern": {
              "fillmode": "overlay",
              "size": 10,
              "solidity": 0.2
             }
            },
            "type": "bar"
           }
          ],
          "barpolar": [
           {
            "marker": {
             "line": {
              "color": "#E5ECF6",
              "width": 0.5
             },
             "pattern": {
              "fillmode": "overlay",
              "size": 10,
              "solidity": 0.2
             }
            },
            "type": "barpolar"
           }
          ],
          "carpet": [
           {
            "aaxis": {
             "endlinecolor": "#2a3f5f",
             "gridcolor": "white",
             "linecolor": "white",
             "minorgridcolor": "white",
             "startlinecolor": "#2a3f5f"
            },
            "baxis": {
             "endlinecolor": "#2a3f5f",
             "gridcolor": "white",
             "linecolor": "white",
             "minorgridcolor": "white",
             "startlinecolor": "#2a3f5f"
            },
            "type": "carpet"
           }
          ],
          "choropleth": [
           {
            "colorbar": {
             "outlinewidth": 0,
             "ticks": ""
            },
            "type": "choropleth"
           }
          ],
          "contour": [
           {
            "colorbar": {
             "outlinewidth": 0,
             "ticks": ""
            },
            "colorscale": [
             [
              0,
              "#0d0887"
             ],
             [
              0.1111111111111111,
              "#46039f"
             ],
             [
              0.2222222222222222,
              "#7201a8"
             ],
             [
              0.3333333333333333,
              "#9c179e"
             ],
             [
              0.4444444444444444,
              "#bd3786"
             ],
             [
              0.5555555555555556,
              "#d8576b"
             ],
             [
              0.6666666666666666,
              "#ed7953"
             ],
             [
              0.7777777777777778,
              "#fb9f3a"
             ],
             [
              0.8888888888888888,
              "#fdca26"
             ],
             [
              1,
              "#f0f921"
             ]
            ],
            "type": "contour"
           }
          ],
          "contourcarpet": [
           {
            "colorbar": {
             "outlinewidth": 0,
             "ticks": ""
            },
            "type": "contourcarpet"
           }
          ],
          "heatmap": [
           {
            "colorbar": {
             "outlinewidth": 0,
             "ticks": ""
            },
            "colorscale": [
             [
              0,
              "#0d0887"
             ],
             [
              0.1111111111111111,
              "#46039f"
             ],
             [
              0.2222222222222222,
              "#7201a8"
             ],
             [
              0.3333333333333333,
              "#9c179e"
             ],
             [
              0.4444444444444444,
              "#bd3786"
             ],
             [
              0.5555555555555556,
              "#d8576b"
             ],
             [
              0.6666666666666666,
              "#ed7953"
             ],
             [
              0.7777777777777778,
              "#fb9f3a"
             ],
             [
              0.8888888888888888,
              "#fdca26"
             ],
             [
              1,
              "#f0f921"
             ]
            ],
            "type": "heatmap"
           }
          ],
          "heatmapgl": [
           {
            "colorbar": {
             "outlinewidth": 0,
             "ticks": ""
            },
            "colorscale": [
             [
              0,
              "#0d0887"
             ],
             [
              0.1111111111111111,
              "#46039f"
             ],
             [
              0.2222222222222222,
              "#7201a8"
             ],
             [
              0.3333333333333333,
              "#9c179e"
             ],
             [
              0.4444444444444444,
              "#bd3786"
             ],
             [
              0.5555555555555556,
              "#d8576b"
             ],
             [
              0.6666666666666666,
              "#ed7953"
             ],
             [
              0.7777777777777778,
              "#fb9f3a"
             ],
             [
              0.8888888888888888,
              "#fdca26"
             ],
             [
              1,
              "#f0f921"
             ]
            ],
            "type": "heatmapgl"
           }
          ],
          "histogram": [
           {
            "marker": {
             "pattern": {
              "fillmode": "overlay",
              "size": 10,
              "solidity": 0.2
             }
            },
            "type": "histogram"
           }
          ],
          "histogram2d": [
           {
            "colorbar": {
             "outlinewidth": 0,
             "ticks": ""
            },
            "colorscale": [
             [
              0,
              "#0d0887"
             ],
             [
              0.1111111111111111,
              "#46039f"
             ],
             [
              0.2222222222222222,
              "#7201a8"
             ],
             [
              0.3333333333333333,
              "#9c179e"
             ],
             [
              0.4444444444444444,
              "#bd3786"
             ],
             [
              0.5555555555555556,
              "#d8576b"
             ],
             [
              0.6666666666666666,
              "#ed7953"
             ],
             [
              0.7777777777777778,
              "#fb9f3a"
             ],
             [
              0.8888888888888888,
              "#fdca26"
             ],
             [
              1,
              "#f0f921"
             ]
            ],
            "type": "histogram2d"
           }
          ],
          "histogram2dcontour": [
           {
            "colorbar": {
             "outlinewidth": 0,
             "ticks": ""
            },
            "colorscale": [
             [
              0,
              "#0d0887"
             ],
             [
              0.1111111111111111,
              "#46039f"
             ],
             [
              0.2222222222222222,
              "#7201a8"
             ],
             [
              0.3333333333333333,
              "#9c179e"
             ],
             [
              0.4444444444444444,
              "#bd3786"
             ],
             [
              0.5555555555555556,
              "#d8576b"
             ],
             [
              0.6666666666666666,
              "#ed7953"
             ],
             [
              0.7777777777777778,
              "#fb9f3a"
             ],
             [
              0.8888888888888888,
              "#fdca26"
             ],
             [
              1,
              "#f0f921"
             ]
            ],
            "type": "histogram2dcontour"
           }
          ],
          "mesh3d": [
           {
            "colorbar": {
             "outlinewidth": 0,
             "ticks": ""
            },
            "type": "mesh3d"
           }
          ],
          "parcoords": [
           {
            "line": {
             "colorbar": {
              "outlinewidth": 0,
              "ticks": ""
             }
            },
            "type": "parcoords"
           }
          ],
          "pie": [
           {
            "automargin": true,
            "type": "pie"
           }
          ],
          "scatter": [
           {
            "fillpattern": {
             "fillmode": "overlay",
             "size": 10,
             "solidity": 0.2
            },
            "type": "scatter"
           }
          ],
          "scatter3d": [
           {
            "line": {
             "colorbar": {
              "outlinewidth": 0,
              "ticks": ""
             }
            },
            "marker": {
             "colorbar": {
              "outlinewidth": 0,
              "ticks": ""
             }
            },
            "type": "scatter3d"
           }
          ],
          "scattercarpet": [
           {
            "marker": {
             "colorbar": {
              "outlinewidth": 0,
              "ticks": ""
             }
            },
            "type": "scattercarpet"
           }
          ],
          "scattergeo": [
           {
            "marker": {
             "colorbar": {
              "outlinewidth": 0,
              "ticks": ""
             }
            },
            "type": "scattergeo"
           }
          ],
          "scattergl": [
           {
            "marker": {
             "colorbar": {
              "outlinewidth": 0,
              "ticks": ""
             }
            },
            "type": "scattergl"
           }
          ],
          "scattermapbox": [
           {
            "marker": {
             "colorbar": {
              "outlinewidth": 0,
              "ticks": ""
             }
            },
            "type": "scattermapbox"
           }
          ],
          "scatterpolar": [
           {
            "marker": {
             "colorbar": {
              "outlinewidth": 0,
              "ticks": ""
             }
            },
            "type": "scatterpolar"
           }
          ],
          "scatterpolargl": [
           {
            "marker": {
             "colorbar": {
              "outlinewidth": 0,
              "ticks": ""
             }
            },
            "type": "scatterpolargl"
           }
          ],
          "scatterternary": [
           {
            "marker": {
             "colorbar": {
              "outlinewidth": 0,
              "ticks": ""
             }
            },
            "type": "scatterternary"
           }
          ],
          "surface": [
           {
            "colorbar": {
             "outlinewidth": 0,
             "ticks": ""
            },
            "colorscale": [
             [
              0,
              "#0d0887"
             ],
             [
              0.1111111111111111,
              "#46039f"
             ],
             [
              0.2222222222222222,
              "#7201a8"
             ],
             [
              0.3333333333333333,
              "#9c179e"
             ],
             [
              0.4444444444444444,
              "#bd3786"
             ],
             [
              0.5555555555555556,
              "#d8576b"
             ],
             [
              0.6666666666666666,
              "#ed7953"
             ],
             [
              0.7777777777777778,
              "#fb9f3a"
             ],
             [
              0.8888888888888888,
              "#fdca26"
             ],
             [
              1,
              "#f0f921"
             ]
            ],
            "type": "surface"
           }
          ],
          "table": [
           {
            "cells": {
             "fill": {
              "color": "#EBF0F8"
             },
             "line": {
              "color": "white"
             }
            },
            "header": {
             "fill": {
              "color": "#C8D4E3"
             },
             "line": {
              "color": "white"
             }
            },
            "type": "table"
           }
          ]
         },
         "layout": {
          "annotationdefaults": {
           "arrowcolor": "#2a3f5f",
           "arrowhead": 0,
           "arrowwidth": 1
          },
          "autotypenumbers": "strict",
          "coloraxis": {
           "colorbar": {
            "outlinewidth": 0,
            "ticks": ""
           }
          },
          "colorscale": {
           "diverging": [
            [
             0,
             "#8e0152"
            ],
            [
             0.1,
             "#c51b7d"
            ],
            [
             0.2,
             "#de77ae"
            ],
            [
             0.3,
             "#f1b6da"
            ],
            [
             0.4,
             "#fde0ef"
            ],
            [
             0.5,
             "#f7f7f7"
            ],
            [
             0.6,
             "#e6f5d0"
            ],
            [
             0.7,
             "#b8e186"
            ],
            [
             0.8,
             "#7fbc41"
            ],
            [
             0.9,
             "#4d9221"
            ],
            [
             1,
             "#276419"
            ]
           ],
           "sequential": [
            [
             0,
             "#0d0887"
            ],
            [
             0.1111111111111111,
             "#46039f"
            ],
            [
             0.2222222222222222,
             "#7201a8"
            ],
            [
             0.3333333333333333,
             "#9c179e"
            ],
            [
             0.4444444444444444,
             "#bd3786"
            ],
            [
             0.5555555555555556,
             "#d8576b"
            ],
            [
             0.6666666666666666,
             "#ed7953"
            ],
            [
             0.7777777777777778,
             "#fb9f3a"
            ],
            [
             0.8888888888888888,
             "#fdca26"
            ],
            [
             1,
             "#f0f921"
            ]
           ],
           "sequentialminus": [
            [
             0,
             "#0d0887"
            ],
            [
             0.1111111111111111,
             "#46039f"
            ],
            [
             0.2222222222222222,
             "#7201a8"
            ],
            [
             0.3333333333333333,
             "#9c179e"
            ],
            [
             0.4444444444444444,
             "#bd3786"
            ],
            [
             0.5555555555555556,
             "#d8576b"
            ],
            [
             0.6666666666666666,
             "#ed7953"
            ],
            [
             0.7777777777777778,
             "#fb9f3a"
            ],
            [
             0.8888888888888888,
             "#fdca26"
            ],
            [
             1,
             "#f0f921"
            ]
           ]
          },
          "colorway": [
           "#636efa",
           "#EF553B",
           "#00cc96",
           "#ab63fa",
           "#FFA15A",
           "#19d3f3",
           "#FF6692",
           "#B6E880",
           "#FF97FF",
           "#FECB52"
          ],
          "font": {
           "color": "#2a3f5f"
          },
          "geo": {
           "bgcolor": "white",
           "lakecolor": "white",
           "landcolor": "#E5ECF6",
           "showlakes": true,
           "showland": true,
           "subunitcolor": "white"
          },
          "hoverlabel": {
           "align": "left"
          },
          "hovermode": "closest",
          "mapbox": {
           "style": "light"
          },
          "paper_bgcolor": "white",
          "plot_bgcolor": "#E5ECF6",
          "polar": {
           "angularaxis": {
            "gridcolor": "white",
            "linecolor": "white",
            "ticks": ""
           },
           "bgcolor": "#E5ECF6",
           "radialaxis": {
            "gridcolor": "white",
            "linecolor": "white",
            "ticks": ""
           }
          },
          "scene": {
           "xaxis": {
            "backgroundcolor": "#E5ECF6",
            "gridcolor": "white",
            "gridwidth": 2,
            "linecolor": "white",
            "showbackground": true,
            "ticks": "",
            "zerolinecolor": "white"
           },
           "yaxis": {
            "backgroundcolor": "#E5ECF6",
            "gridcolor": "white",
            "gridwidth": 2,
            "linecolor": "white",
            "showbackground": true,
            "ticks": "",
            "zerolinecolor": "white"
           },
           "zaxis": {
            "backgroundcolor": "#E5ECF6",
            "gridcolor": "white",
            "gridwidth": 2,
            "linecolor": "white",
            "showbackground": true,
            "ticks": "",
            "zerolinecolor": "white"
           }
          },
          "shapedefaults": {
           "line": {
            "color": "#2a3f5f"
           }
          },
          "ternary": {
           "aaxis": {
            "gridcolor": "white",
            "linecolor": "white",
            "ticks": ""
           },
           "baxis": {
            "gridcolor": "white",
            "linecolor": "white",
            "ticks": ""
           },
           "bgcolor": "#E5ECF6",
           "caxis": {
            "gridcolor": "white",
            "linecolor": "white",
            "ticks": ""
           }
          },
          "title": {
           "x": 0.05
          },
          "xaxis": {
           "automargin": true,
           "gridcolor": "white",
           "linecolor": "white",
           "ticks": "",
           "title": {
            "standoff": 15
           },
           "zerolinecolor": "white",
           "zerolinewidth": 2
          },
          "yaxis": {
           "automargin": true,
           "gridcolor": "white",
           "linecolor": "white",
           "ticks": "",
           "title": {
            "standoff": 15
           },
           "zerolinecolor": "white",
           "zerolinewidth": 2
          }
         }
        },
        "title": {
         "text": "Mode Choice Calibration Constants"
        },
        "width": 800,
        "xaxis": {
         "title": {
          "text": "Iteration"
         }
        },
        "yaxis": {
         "title": {
          "text": "Constant Value"
         }
        }
       }
      },
      "text/html": [
       "<div>                            <div id=\"f5e26cbe-c226-427d-a52e-a30a7a260636\" class=\"plotly-graph-div\" style=\"height:400px; width:800px;\"></div>            <script type=\"text/javascript\">                require([\"plotly\"], function(Plotly) {                    window.PLOTLYENV=window.PLOTLYENV || {};                                    if (document.getElementById(\"f5e26cbe-c226-427d-a52e-a30a7a260636\")) {                    Plotly.newPlot(                        \"f5e26cbe-c226-427d-a52e-a30a7a260636\",                        [{\"mode\":\"lines+markers\",\"name\":\"NHB Ok asc_nonmotor\",\"x\":[18,17,16,15,14,13,12,11,10,9,8,7,6,5,4,3,2,1,0],\"y\":[-0.41909998655319214,-0.4214000105857849,-0.4246000051498413,-0.42890000343322754,-0.43479999899864197,-0.44279998540878296,-0.45339998602867126,-0.4675000011920929,-0.4860000014305115,-0.5101000070571899,-0.5407999753952026,-0.5791000127792358,-0.6247000098228455,-0.6747999787330627,-0.7199000120162964,-0.7360000014305115,-0.6729999780654907,-0.45080000162124634,0.0],\"type\":\"scatter\"},{\"mode\":\"lines+markers\",\"name\":\"NHB Ok asc_transit\",\"x\":[18,17,16,15,14,13,12,11,10,9,8,7,6,5,4,3,2,1,0],\"y\":[-1.8740999698638916,-1.871399998664856,-1.8676999807357788,-1.8626999855041504,-1.8559000492095947,-1.8467999696731567,-1.8344000577926636,-1.8177000284194946,-1.795300006866455,-1.7652000188827515,-1.7246999740600586,-1.6700999736785889,-1.596500039100647,-1.496899962425232,-1.361799955368042,-1.1776000261306763,-0.9235000014305115,-0.5618000030517578,0.0],\"type\":\"scatter\"},{\"mode\":\"lines+markers\",\"name\":\"NHB Ok asc_shared\",\"x\":[18,17,16,15,14,13,12,11,10,9,8,7,6,5,4,3,2,1,0],\"y\":[-0.1356000006198883,-0.13500000536441803,-0.13420000672340393,-0.1331000030040741,-0.13169999420642853,-0.12999999523162842,-0.12780000269412994,-0.1251000016927719,-0.12160000205039978,-0.11720000207424164,-0.11169999837875366,-0.10490000247955322,-0.09640000015497208,-0.0860000029206276,-0.07349999994039536,-0.05860000103712082,-0.04129999876022339,-0.021700000390410423,0.0],\"type\":\"scatter\"},{\"mode\":\"lines+markers\",\"name\":\"NHB Ok asc_hov\",\"x\":[18,17,16,15,14,13,12,11,10,9,8,7,6,5,4,3,2,1,0],\"y\":[0.10000000149011612,0.10000000149011612,0.10000000149011612,0.10000000149011612,0.10000000149011612,0.10000000149011612,0.10000000149011612,0.10000000149011612,0.10000000149011612,0.10000000149011612,0.10000000149011612,0.10000000149011612,0.10000000149011612,0.10000000149011612,0.10000000149011612,0.10000000149011612,0.10000000149011612,0.10000000149011612,0.10000000149011612],\"type\":\"scatter\"},{\"mode\":\"lines+markers\",\"name\":\"NHB Ok asc_toll\",\"x\":[18,17,16,15,14,13,12,11,10,9,8,7,6,5,4,3,2,1,0],\"y\":[-0.4000000059604645,-0.4000000059604645,-0.4000000059604645,-0.4000000059604645,-0.4000000059604645,-0.4000000059604645,-0.4000000059604645,-0.4000000059604645,-0.4000000059604645,-0.4000000059604645,-0.4000000059604645,-0.4000000059604645,-0.4000000059604645,-0.4000000059604645,-0.4000000059604645,-0.4000000059604645,-0.4000000059604645,-0.4000000059604645,-0.4000000059604645],\"type\":\"scatter\"},{\"mode\":\"lines+markers\",\"name\":\"NHB Ok asc_sr3\",\"x\":[18,17,16,15,14,13,12,11,10,9,8,7,6,5,4,3,2,1,0],\"y\":[0.07840000092983246,0.07840000092983246,0.07840000092983246,0.07840000092983246,0.07840000092983246,0.07829999923706055,0.07819999754428864,0.07810000330209732,0.0778999999165535,0.07760000228881836,0.0771000012755394,0.07620000094175339,0.0746999979019165,0.0723000019788742,0.06830000132322311,0.0617000013589859,0.050700001418590546,0.032099999487400055,0.0],\"type\":\"scatter\"},{\"mode\":\"lines+markers\",\"name\":\"NHB Ok asc_BRT\",\"x\":[18,17,16,15,14,13,12,11,10,9,8,7,6,5,4,3,2,1,0],\"y\":[0.1615999937057495,0.16110000014305115,0.16040000319480896,0.15950000286102295,0.1581999957561493,0.1565999984741211,0.15440000593662262,0.15129999816417694,0.14710000157356262,0.14149999618530273,0.1339000016450882,0.12349999696016312,0.10939999669790268,0.09040000289678574,0.06530000269412994,0.0348999984562397,0.006300000008195639,-0.00019999999494757503,0.0],\"type\":\"scatter\"},{\"mode\":\"lines+markers\",\"name\":\"NHB Ok asc_LRT\",\"x\":[18,17,16,15,14,13,12,11,10,9,8,7,6,5,4,3,2,1,0],\"y\":[0.38760000467300415,0.3871000111103058,0.3864000141620636,0.3855000138282776,0.38429999351501465,0.38280001282691956,0.3808000087738037,0.3781000077724457,0.37439998984336853,0.3693999946117401,0.3626999855041504,0.35359999537467957,0.3411000072956085,0.3239000141620636,0.29989999532699585,0.2653999924659729,0.2125999927520752,0.12530000507831573,0.0],\"type\":\"scatter\"},{\"mode\":\"lines+markers\",\"name\":\"NHB Ok asc_CRT\",\"x\":[18,17,16,15,14,13,12,11,10,9,8,7,6,5,4,3,2,1,0],\"y\":[0.7035999894142151,0.7034000158309937,0.7031000256538391,0.7026000022888184,0.7019000053405762,0.7009000182151794,0.699400007724762,0.6972000002861023,0.6940000057220459,0.6894000172615051,0.682699978351593,0.6726999878883362,0.6572999954223633,0.6330000162124634,0.5936999917030334,0.5289000272750854,0.4242999851703644,0.26600000262260437,0.0],\"type\":\"scatter\"},{\"mode\":\"lines+markers\",\"name\":\"NHB Ok asc_driveacc\",\"x\":[18,17,16,15,14,13,12,11,10,9,8,7,6,5,4,3,2,1,0],\"y\":[-1.541599988937378,-1.535099983215332,-1.527999997138977,-1.520400047302246,-1.5120999813079834,-1.503000020980835,-1.4930000305175781,-1.4817999601364136,-1.469099998474121,-1.4539999961853027,-1.4352999925613403,-1.4108999967575073,-1.3768999576568604,-1.3269000053405762,-1.2496999502182007,-1.1261999607086182,-0.9212999939918518,-0.5717999935150146,0.0],\"type\":\"scatter\"},{\"mode\":\"lines+markers\",\"name\":\"NHB Ok asc_wBRT\",\"x\":[18,17,16,15,14,13,12,11,10,9,8,7,6,5,4,3,2,1,0],\"y\":[0.004699999932199717,0.0044999998062849045,0.004100000020116568,0.003599999938160181,0.0027000000700354576,0.001500000013038516,-0.0003000000142492354,-0.002899999963119626,-0.006500000134110451,-0.011500000022351742,-0.018400000408291817,-0.027899999171495438,-0.04089999943971634,-0.05820000171661377,-0.08049999922513962,-0.10589999705553055,-0.12380000203847885,-0.10090000182390213,0.0],\"type\":\"scatter\"},{\"mode\":\"lines+markers\",\"name\":\"NHB Ok asc_wLRT\",\"x\":[18,17,16,15,14,13,12,11,10,9,8,7,6,5,4,3,2,1,0],\"y\":[0.43689998984336853,0.43689998984336853,0.4368000030517578,0.43650001287460327,0.4359999895095825,0.4350999891757965,0.43380001187324524,0.4318999946117401,0.42910000681877136,0.4250999987125397,0.4194999933242798,0.4117000102996826,0.4007999897003174,0.385699987411499,0.3643999993801117,0.33329999446868896,0.28360000252723694,0.1915999948978424,0.0],\"type\":\"scatter\"},{\"mode\":\"lines+markers\",\"name\":\"NHB Ok asc_wCRT\",\"x\":[18,17,16,15,14,13,12,11,10,9,8,7,6,5,4,3,2,1,0],\"y\":[1.6979999542236328,1.6979000568389893,1.697700023651123,1.6972999572753906,1.6966999769210815,1.6957000494003296,1.694100022315979,1.69159996509552,1.687600016593933,1.6812000274658203,1.6708999872207642,1.654099941253662,1.6265000104904175,1.5801000595092773,1.5010000467300415,1.3639999628067017,1.1258000135421753,0.7170000076293945,0.0],\"type\":\"scatter\"},{\"mode\":\"lines+markers\",\"name\":\"NHB Ok asc_dBRT\",\"x\":[18,17,16,15,14,13,12,11,10,9,8,7,6,5,4,3,2,1,0],\"y\":[1.082200050354004,1.0759999752044678,1.069200038909912,1.0618000030517578,1.0535999536514282,1.0444999933242798,1.0343999862670898,1.0228999853134155,1.009600043296814,0.9937999844551086,0.9745000004768372,0.9498000144958496,0.9171000123023987,0.8719000220298767,0.8075000047683716,0.7142999768257141,0.5784000158309937,0.37279999256134033,0.0],\"type\":\"scatter\"},{\"mode\":\"lines+markers\",\"name\":\"NHB Ok asc_dLRT\",\"x\":[18,17,16,15,14,13,12,11,10,9,8,7,6,5,4,3,2,1,0],\"y\":[-0.02239999920129776,-0.02850000001490116,-0.03519999980926514,-0.04259999841451645,-0.05079999938607216,-0.05990000069141388,-0.07010000199079514,-0.08160000294446945,-0.09470000118017197,-0.10980000346899033,-0.1273999959230423,-0.14820000529289246,-0.17239999771118164,-0.19900000095367432,-0.22419999539852142,-0.23729999363422394,-0.21809999644756317,-0.14309999346733093,0.0],\"type\":\"scatter\"},{\"mode\":\"lines+markers\",\"name\":\"NHB Ok asc_dCRT\",\"x\":[18,17,16,15,14,13,12,11,10,9,8,7,6,5,4,3,2,1,0],\"y\":[1.1204999685287476,1.113800048828125,1.1065000295639038,1.0985000133514404,1.0896999835968018,1.0800000429153442,1.0693000555038452,1.0575000047683716,1.0444999933242798,1.0302000045776367,1.014299988746643,0.9965999722480774,0.9761000275611877,0.9506000280380249,0.9146000146865845,0.8543000221252441,0.7383999824523926,0.5012000203132629,0.0],\"type\":\"scatter\"},{\"mode\":\"lines+markers\",\"name\":\"NHB Ok asc_bike\",\"x\":[18,17,16,15,14,13,12,11,10,9,8,7,6,5,4,3,2,1,0],\"y\":[-3.3585000038146973,-3.355799913406372,-3.3519999980926514,-3.3464999198913574,-3.338599920272827,-3.327199935913086,-3.310699939727783,-3.286799907684326,-3.2520999908447266,-3.2016000747680664,-3.1280999183654785,-3.0213000774383545,-2.8668999671936035,-2.645900011062622,-2.3355000019073486,-1.9139000177383423,-1.371500015258789,-0.7221999764442444,0.0],\"type\":\"scatter\"}],                        {\"height\":400,\"template\":{\"data\":{\"barpolar\":[{\"marker\":{\"line\":{\"color\":\"#E5ECF6\",\"width\":0.5},\"pattern\":{\"fillmode\":\"overlay\",\"size\":10,\"solidity\":0.2}},\"type\":\"barpolar\"}],\"bar\":[{\"error_x\":{\"color\":\"#2a3f5f\"},\"error_y\":{\"color\":\"#2a3f5f\"},\"marker\":{\"line\":{\"color\":\"#E5ECF6\",\"width\":0.5},\"pattern\":{\"fillmode\":\"overlay\",\"size\":10,\"solidity\":0.2}},\"type\":\"bar\"}],\"carpet\":[{\"aaxis\":{\"endlinecolor\":\"#2a3f5f\",\"gridcolor\":\"white\",\"linecolor\":\"white\",\"minorgridcolor\":\"white\",\"startlinecolor\":\"#2a3f5f\"},\"baxis\":{\"endlinecolor\":\"#2a3f5f\",\"gridcolor\":\"white\",\"linecolor\":\"white\",\"minorgridcolor\":\"white\",\"startlinecolor\":\"#2a3f5f\"},\"type\":\"carpet\"}],\"choropleth\":[{\"colorbar\":{\"outlinewidth\":0,\"ticks\":\"\"},\"type\":\"choropleth\"}],\"contourcarpet\":[{\"colorbar\":{\"outlinewidth\":0,\"ticks\":\"\"},\"type\":\"contourcarpet\"}],\"contour\":[{\"colorbar\":{\"outlinewidth\":0,\"ticks\":\"\"},\"colorscale\":[[0.0,\"#0d0887\"],[0.1111111111111111,\"#46039f\"],[0.2222222222222222,\"#7201a8\"],[0.3333333333333333,\"#9c179e\"],[0.4444444444444444,\"#bd3786\"],[0.5555555555555556,\"#d8576b\"],[0.6666666666666666,\"#ed7953\"],[0.7777777777777778,\"#fb9f3a\"],[0.8888888888888888,\"#fdca26\"],[1.0,\"#f0f921\"]],\"type\":\"contour\"}],\"heatmapgl\":[{\"colorbar\":{\"outlinewidth\":0,\"ticks\":\"\"},\"colorscale\":[[0.0,\"#0d0887\"],[0.1111111111111111,\"#46039f\"],[0.2222222222222222,\"#7201a8\"],[0.3333333333333333,\"#9c179e\"],[0.4444444444444444,\"#bd3786\"],[0.5555555555555556,\"#d8576b\"],[0.6666666666666666,\"#ed7953\"],[0.7777777777777778,\"#fb9f3a\"],[0.8888888888888888,\"#fdca26\"],[1.0,\"#f0f921\"]],\"type\":\"heatmapgl\"}],\"heatmap\":[{\"colorbar\":{\"outlinewidth\":0,\"ticks\":\"\"},\"colorscale\":[[0.0,\"#0d0887\"],[0.1111111111111111,\"#46039f\"],[0.2222222222222222,\"#7201a8\"],[0.3333333333333333,\"#9c179e\"],[0.4444444444444444,\"#bd3786\"],[0.5555555555555556,\"#d8576b\"],[0.6666666666666666,\"#ed7953\"],[0.7777777777777778,\"#fb9f3a\"],[0.8888888888888888,\"#fdca26\"],[1.0,\"#f0f921\"]],\"type\":\"heatmap\"}],\"histogram2dcontour\":[{\"colorbar\":{\"outlinewidth\":0,\"ticks\":\"\"},\"colorscale\":[[0.0,\"#0d0887\"],[0.1111111111111111,\"#46039f\"],[0.2222222222222222,\"#7201a8\"],[0.3333333333333333,\"#9c179e\"],[0.4444444444444444,\"#bd3786\"],[0.5555555555555556,\"#d8576b\"],[0.6666666666666666,\"#ed7953\"],[0.7777777777777778,\"#fb9f3a\"],[0.8888888888888888,\"#fdca26\"],[1.0,\"#f0f921\"]],\"type\":\"histogram2dcontour\"}],\"histogram2d\":[{\"colorbar\":{\"outlinewidth\":0,\"ticks\":\"\"},\"colorscale\":[[0.0,\"#0d0887\"],[0.1111111111111111,\"#46039f\"],[0.2222222222222222,\"#7201a8\"],[0.3333333333333333,\"#9c179e\"],[0.4444444444444444,\"#bd3786\"],[0.5555555555555556,\"#d8576b\"],[0.6666666666666666,\"#ed7953\"],[0.7777777777777778,\"#fb9f3a\"],[0.8888888888888888,\"#fdca26\"],[1.0,\"#f0f921\"]],\"type\":\"histogram2d\"}],\"histogram\":[{\"marker\":{\"pattern\":{\"fillmode\":\"overlay\",\"size\":10,\"solidity\":0.2}},\"type\":\"histogram\"}],\"mesh3d\":[{\"colorbar\":{\"outlinewidth\":0,\"ticks\":\"\"},\"type\":\"mesh3d\"}],\"parcoords\":[{\"line\":{\"colorbar\":{\"outlinewidth\":0,\"ticks\":\"\"}},\"type\":\"parcoords\"}],\"pie\":[{\"automargin\":true,\"type\":\"pie\"}],\"scatter3d\":[{\"line\":{\"colorbar\":{\"outlinewidth\":0,\"ticks\":\"\"}},\"marker\":{\"colorbar\":{\"outlinewidth\":0,\"ticks\":\"\"}},\"type\":\"scatter3d\"}],\"scattercarpet\":[{\"marker\":{\"colorbar\":{\"outlinewidth\":0,\"ticks\":\"\"}},\"type\":\"scattercarpet\"}],\"scattergeo\":[{\"marker\":{\"colorbar\":{\"outlinewidth\":0,\"ticks\":\"\"}},\"type\":\"scattergeo\"}],\"scattergl\":[{\"marker\":{\"colorbar\":{\"outlinewidth\":0,\"ticks\":\"\"}},\"type\":\"scattergl\"}],\"scattermapbox\":[{\"marker\":{\"colorbar\":{\"outlinewidth\":0,\"ticks\":\"\"}},\"type\":\"scattermapbox\"}],\"scatterpolargl\":[{\"marker\":{\"colorbar\":{\"outlinewidth\":0,\"ticks\":\"\"}},\"type\":\"scatterpolargl\"}],\"scatterpolar\":[{\"marker\":{\"colorbar\":{\"outlinewidth\":0,\"ticks\":\"\"}},\"type\":\"scatterpolar\"}],\"scatter\":[{\"fillpattern\":{\"fillmode\":\"overlay\",\"size\":10,\"solidity\":0.2},\"type\":\"scatter\"}],\"scatterternary\":[{\"marker\":{\"colorbar\":{\"outlinewidth\":0,\"ticks\":\"\"}},\"type\":\"scatterternary\"}],\"surface\":[{\"colorbar\":{\"outlinewidth\":0,\"ticks\":\"\"},\"colorscale\":[[0.0,\"#0d0887\"],[0.1111111111111111,\"#46039f\"],[0.2222222222222222,\"#7201a8\"],[0.3333333333333333,\"#9c179e\"],[0.4444444444444444,\"#bd3786\"],[0.5555555555555556,\"#d8576b\"],[0.6666666666666666,\"#ed7953\"],[0.7777777777777778,\"#fb9f3a\"],[0.8888888888888888,\"#fdca26\"],[1.0,\"#f0f921\"]],\"type\":\"surface\"}],\"table\":[{\"cells\":{\"fill\":{\"color\":\"#EBF0F8\"},\"line\":{\"color\":\"white\"}},\"header\":{\"fill\":{\"color\":\"#C8D4E3\"},\"line\":{\"color\":\"white\"}},\"type\":\"table\"}]},\"layout\":{\"annotationdefaults\":{\"arrowcolor\":\"#2a3f5f\",\"arrowhead\":0,\"arrowwidth\":1},\"autotypenumbers\":\"strict\",\"coloraxis\":{\"colorbar\":{\"outlinewidth\":0,\"ticks\":\"\"}},\"colorscale\":{\"diverging\":[[0,\"#8e0152\"],[0.1,\"#c51b7d\"],[0.2,\"#de77ae\"],[0.3,\"#f1b6da\"],[0.4,\"#fde0ef\"],[0.5,\"#f7f7f7\"],[0.6,\"#e6f5d0\"],[0.7,\"#b8e186\"],[0.8,\"#7fbc41\"],[0.9,\"#4d9221\"],[1,\"#276419\"]],\"sequential\":[[0.0,\"#0d0887\"],[0.1111111111111111,\"#46039f\"],[0.2222222222222222,\"#7201a8\"],[0.3333333333333333,\"#9c179e\"],[0.4444444444444444,\"#bd3786\"],[0.5555555555555556,\"#d8576b\"],[0.6666666666666666,\"#ed7953\"],[0.7777777777777778,\"#fb9f3a\"],[0.8888888888888888,\"#fdca26\"],[1.0,\"#f0f921\"]],\"sequentialminus\":[[0.0,\"#0d0887\"],[0.1111111111111111,\"#46039f\"],[0.2222222222222222,\"#7201a8\"],[0.3333333333333333,\"#9c179e\"],[0.4444444444444444,\"#bd3786\"],[0.5555555555555556,\"#d8576b\"],[0.6666666666666666,\"#ed7953\"],[0.7777777777777778,\"#fb9f3a\"],[0.8888888888888888,\"#fdca26\"],[1.0,\"#f0f921\"]]},\"colorway\":[\"#636efa\",\"#EF553B\",\"#00cc96\",\"#ab63fa\",\"#FFA15A\",\"#19d3f3\",\"#FF6692\",\"#B6E880\",\"#FF97FF\",\"#FECB52\"],\"font\":{\"color\":\"#2a3f5f\"},\"geo\":{\"bgcolor\":\"white\",\"lakecolor\":\"white\",\"landcolor\":\"#E5ECF6\",\"showlakes\":true,\"showland\":true,\"subunitcolor\":\"white\"},\"hoverlabel\":{\"align\":\"left\"},\"hovermode\":\"closest\",\"mapbox\":{\"style\":\"light\"},\"paper_bgcolor\":\"white\",\"plot_bgcolor\":\"#E5ECF6\",\"polar\":{\"angularaxis\":{\"gridcolor\":\"white\",\"linecolor\":\"white\",\"ticks\":\"\"},\"bgcolor\":\"#E5ECF6\",\"radialaxis\":{\"gridcolor\":\"white\",\"linecolor\":\"white\",\"ticks\":\"\"}},\"scene\":{\"xaxis\":{\"backgroundcolor\":\"#E5ECF6\",\"gridcolor\":\"white\",\"gridwidth\":2,\"linecolor\":\"white\",\"showbackground\":true,\"ticks\":\"\",\"zerolinecolor\":\"white\"},\"yaxis\":{\"backgroundcolor\":\"#E5ECF6\",\"gridcolor\":\"white\",\"gridwidth\":2,\"linecolor\":\"white\",\"showbackground\":true,\"ticks\":\"\",\"zerolinecolor\":\"white\"},\"zaxis\":{\"backgroundcolor\":\"#E5ECF6\",\"gridcolor\":\"white\",\"gridwidth\":2,\"linecolor\":\"white\",\"showbackground\":true,\"ticks\":\"\",\"zerolinecolor\":\"white\"}},\"shapedefaults\":{\"line\":{\"color\":\"#2a3f5f\"}},\"ternary\":{\"aaxis\":{\"gridcolor\":\"white\",\"linecolor\":\"white\",\"ticks\":\"\"},\"baxis\":{\"gridcolor\":\"white\",\"linecolor\":\"white\",\"ticks\":\"\"},\"bgcolor\":\"#E5ECF6\",\"caxis\":{\"gridcolor\":\"white\",\"linecolor\":\"white\",\"ticks\":\"\"}},\"title\":{\"x\":0.05},\"xaxis\":{\"automargin\":true,\"gridcolor\":\"white\",\"linecolor\":\"white\",\"ticks\":\"\",\"title\":{\"standoff\":15},\"zerolinecolor\":\"white\",\"zerolinewidth\":2},\"yaxis\":{\"automargin\":true,\"gridcolor\":\"white\",\"linecolor\":\"white\",\"ticks\":\"\",\"title\":{\"standoff\":15},\"zerolinecolor\":\"white\",\"zerolinewidth\":2}}},\"title\":{\"text\":\"Mode Choice Calibration Constants\"},\"width\":800,\"xaxis\":{\"title\":{\"text\":\"Iteration\"}},\"yaxis\":{\"title\":{\"text\":\"Constant Value\"}}},                        {\"responsive\": true}                    ).then(function(){\n",
       "                            \n",
       "var gd = document.getElementById('f5e26cbe-c226-427d-a52e-a30a7a260636');\n",
       "var x = new MutationObserver(function (mutations, observer) {{\n",
       "        var display = window.getComputedStyle(gd).display;\n",
       "        if (!display || display === 'none') {{\n",
       "            console.log([gd, 'removed!']);\n",
       "            Plotly.purge(gd);\n",
       "            observer.disconnect();\n",
       "        }}\n",
       "}});\n",
       "\n",
       "// Listen for the removal of the full notebook cells\n",
       "var notebookContainer = gd.closest('#notebook-container');\n",
       "if (notebookContainer) {{\n",
       "    x.observe(notebookContainer, {childList: true});\n",
       "}}\n",
       "\n",
       "// Listen for the clearing of the current output cell\n",
       "var outputEl = gd.closest('.output');\n",
       "if (outputEl) {{\n",
       "    x.observe(outputEl, {childList: true});\n",
       "}}\n",
       "\n",
       "                        })                };                });            </script>        </div>"
      ]
     },
     "metadata": {},
     "output_type": "display_data"
    },
    {
     "data": {
      "application/vnd.plotly.v1+json": {
       "config": {
        "linkText": "Export to plot.ly",
        "plotlyServerURL": "https://plot.ly",
        "showLink": false
       },
       "data": [],
       "layout": {
        "height": 400,
        "template": {
         "data": {
          "bar": [
           {
            "error_x": {
             "color": "#2a3f5f"
            },
            "error_y": {
             "color": "#2a3f5f"
            },
            "marker": {
             "line": {
              "color": "#E5ECF6",
              "width": 0.5
             },
             "pattern": {
              "fillmode": "overlay",
              "size": 10,
              "solidity": 0.2
             }
            },
            "type": "bar"
           }
          ],
          "barpolar": [
           {
            "marker": {
             "line": {
              "color": "#E5ECF6",
              "width": 0.5
             },
             "pattern": {
              "fillmode": "overlay",
              "size": 10,
              "solidity": 0.2
             }
            },
            "type": "barpolar"
           }
          ],
          "carpet": [
           {
            "aaxis": {
             "endlinecolor": "#2a3f5f",
             "gridcolor": "white",
             "linecolor": "white",
             "minorgridcolor": "white",
             "startlinecolor": "#2a3f5f"
            },
            "baxis": {
             "endlinecolor": "#2a3f5f",
             "gridcolor": "white",
             "linecolor": "white",
             "minorgridcolor": "white",
             "startlinecolor": "#2a3f5f"
            },
            "type": "carpet"
           }
          ],
          "choropleth": [
           {
            "colorbar": {
             "outlinewidth": 0,
             "ticks": ""
            },
            "type": "choropleth"
           }
          ],
          "contour": [
           {
            "colorbar": {
             "outlinewidth": 0,
             "ticks": ""
            },
            "colorscale": [
             [
              0,
              "#0d0887"
             ],
             [
              0.1111111111111111,
              "#46039f"
             ],
             [
              0.2222222222222222,
              "#7201a8"
             ],
             [
              0.3333333333333333,
              "#9c179e"
             ],
             [
              0.4444444444444444,
              "#bd3786"
             ],
             [
              0.5555555555555556,
              "#d8576b"
             ],
             [
              0.6666666666666666,
              "#ed7953"
             ],
             [
              0.7777777777777778,
              "#fb9f3a"
             ],
             [
              0.8888888888888888,
              "#fdca26"
             ],
             [
              1,
              "#f0f921"
             ]
            ],
            "type": "contour"
           }
          ],
          "contourcarpet": [
           {
            "colorbar": {
             "outlinewidth": 0,
             "ticks": ""
            },
            "type": "contourcarpet"
           }
          ],
          "heatmap": [
           {
            "colorbar": {
             "outlinewidth": 0,
             "ticks": ""
            },
            "colorscale": [
             [
              0,
              "#0d0887"
             ],
             [
              0.1111111111111111,
              "#46039f"
             ],
             [
              0.2222222222222222,
              "#7201a8"
             ],
             [
              0.3333333333333333,
              "#9c179e"
             ],
             [
              0.4444444444444444,
              "#bd3786"
             ],
             [
              0.5555555555555556,
              "#d8576b"
             ],
             [
              0.6666666666666666,
              "#ed7953"
             ],
             [
              0.7777777777777778,
              "#fb9f3a"
             ],
             [
              0.8888888888888888,
              "#fdca26"
             ],
             [
              1,
              "#f0f921"
             ]
            ],
            "type": "heatmap"
           }
          ],
          "heatmapgl": [
           {
            "colorbar": {
             "outlinewidth": 0,
             "ticks": ""
            },
            "colorscale": [
             [
              0,
              "#0d0887"
             ],
             [
              0.1111111111111111,
              "#46039f"
             ],
             [
              0.2222222222222222,
              "#7201a8"
             ],
             [
              0.3333333333333333,
              "#9c179e"
             ],
             [
              0.4444444444444444,
              "#bd3786"
             ],
             [
              0.5555555555555556,
              "#d8576b"
             ],
             [
              0.6666666666666666,
              "#ed7953"
             ],
             [
              0.7777777777777778,
              "#fb9f3a"
             ],
             [
              0.8888888888888888,
              "#fdca26"
             ],
             [
              1,
              "#f0f921"
             ]
            ],
            "type": "heatmapgl"
           }
          ],
          "histogram": [
           {
            "marker": {
             "pattern": {
              "fillmode": "overlay",
              "size": 10,
              "solidity": 0.2
             }
            },
            "type": "histogram"
           }
          ],
          "histogram2d": [
           {
            "colorbar": {
             "outlinewidth": 0,
             "ticks": ""
            },
            "colorscale": [
             [
              0,
              "#0d0887"
             ],
             [
              0.1111111111111111,
              "#46039f"
             ],
             [
              0.2222222222222222,
              "#7201a8"
             ],
             [
              0.3333333333333333,
              "#9c179e"
             ],
             [
              0.4444444444444444,
              "#bd3786"
             ],
             [
              0.5555555555555556,
              "#d8576b"
             ],
             [
              0.6666666666666666,
              "#ed7953"
             ],
             [
              0.7777777777777778,
              "#fb9f3a"
             ],
             [
              0.8888888888888888,
              "#fdca26"
             ],
             [
              1,
              "#f0f921"
             ]
            ],
            "type": "histogram2d"
           }
          ],
          "histogram2dcontour": [
           {
            "colorbar": {
             "outlinewidth": 0,
             "ticks": ""
            },
            "colorscale": [
             [
              0,
              "#0d0887"
             ],
             [
              0.1111111111111111,
              "#46039f"
             ],
             [
              0.2222222222222222,
              "#7201a8"
             ],
             [
              0.3333333333333333,
              "#9c179e"
             ],
             [
              0.4444444444444444,
              "#bd3786"
             ],
             [
              0.5555555555555556,
              "#d8576b"
             ],
             [
              0.6666666666666666,
              "#ed7953"
             ],
             [
              0.7777777777777778,
              "#fb9f3a"
             ],
             [
              0.8888888888888888,
              "#fdca26"
             ],
             [
              1,
              "#f0f921"
             ]
            ],
            "type": "histogram2dcontour"
           }
          ],
          "mesh3d": [
           {
            "colorbar": {
             "outlinewidth": 0,
             "ticks": ""
            },
            "type": "mesh3d"
           }
          ],
          "parcoords": [
           {
            "line": {
             "colorbar": {
              "outlinewidth": 0,
              "ticks": ""
             }
            },
            "type": "parcoords"
           }
          ],
          "pie": [
           {
            "automargin": true,
            "type": "pie"
           }
          ],
          "scatter": [
           {
            "fillpattern": {
             "fillmode": "overlay",
             "size": 10,
             "solidity": 0.2
            },
            "type": "scatter"
           }
          ],
          "scatter3d": [
           {
            "line": {
             "colorbar": {
              "outlinewidth": 0,
              "ticks": ""
             }
            },
            "marker": {
             "colorbar": {
              "outlinewidth": 0,
              "ticks": ""
             }
            },
            "type": "scatter3d"
           }
          ],
          "scattercarpet": [
           {
            "marker": {
             "colorbar": {
              "outlinewidth": 0,
              "ticks": ""
             }
            },
            "type": "scattercarpet"
           }
          ],
          "scattergeo": [
           {
            "marker": {
             "colorbar": {
              "outlinewidth": 0,
              "ticks": ""
             }
            },
            "type": "scattergeo"
           }
          ],
          "scattergl": [
           {
            "marker": {
             "colorbar": {
              "outlinewidth": 0,
              "ticks": ""
             }
            },
            "type": "scattergl"
           }
          ],
          "scattermapbox": [
           {
            "marker": {
             "colorbar": {
              "outlinewidth": 0,
              "ticks": ""
             }
            },
            "type": "scattermapbox"
           }
          ],
          "scatterpolar": [
           {
            "marker": {
             "colorbar": {
              "outlinewidth": 0,
              "ticks": ""
             }
            },
            "type": "scatterpolar"
           }
          ],
          "scatterpolargl": [
           {
            "marker": {
             "colorbar": {
              "outlinewidth": 0,
              "ticks": ""
             }
            },
            "type": "scatterpolargl"
           }
          ],
          "scatterternary": [
           {
            "marker": {
             "colorbar": {
              "outlinewidth": 0,
              "ticks": ""
             }
            },
            "type": "scatterternary"
           }
          ],
          "surface": [
           {
            "colorbar": {
             "outlinewidth": 0,
             "ticks": ""
            },
            "colorscale": [
             [
              0,
              "#0d0887"
             ],
             [
              0.1111111111111111,
              "#46039f"
             ],
             [
              0.2222222222222222,
              "#7201a8"
             ],
             [
              0.3333333333333333,
              "#9c179e"
             ],
             [
              0.4444444444444444,
              "#bd3786"
             ],
             [
              0.5555555555555556,
              "#d8576b"
             ],
             [
              0.6666666666666666,
              "#ed7953"
             ],
             [
              0.7777777777777778,
              "#fb9f3a"
             ],
             [
              0.8888888888888888,
              "#fdca26"
             ],
             [
              1,
              "#f0f921"
             ]
            ],
            "type": "surface"
           }
          ],
          "table": [
           {
            "cells": {
             "fill": {
              "color": "#EBF0F8"
             },
             "line": {
              "color": "white"
             }
            },
            "header": {
             "fill": {
              "color": "#C8D4E3"
             },
             "line": {
              "color": "white"
             }
            },
            "type": "table"
           }
          ]
         },
         "layout": {
          "annotationdefaults": {
           "arrowcolor": "#2a3f5f",
           "arrowhead": 0,
           "arrowwidth": 1
          },
          "autotypenumbers": "strict",
          "coloraxis": {
           "colorbar": {
            "outlinewidth": 0,
            "ticks": ""
           }
          },
          "colorscale": {
           "diverging": [
            [
             0,
             "#8e0152"
            ],
            [
             0.1,
             "#c51b7d"
            ],
            [
             0.2,
             "#de77ae"
            ],
            [
             0.3,
             "#f1b6da"
            ],
            [
             0.4,
             "#fde0ef"
            ],
            [
             0.5,
             "#f7f7f7"
            ],
            [
             0.6,
             "#e6f5d0"
            ],
            [
             0.7,
             "#b8e186"
            ],
            [
             0.8,
             "#7fbc41"
            ],
            [
             0.9,
             "#4d9221"
            ],
            [
             1,
             "#276419"
            ]
           ],
           "sequential": [
            [
             0,
             "#0d0887"
            ],
            [
             0.1111111111111111,
             "#46039f"
            ],
            [
             0.2222222222222222,
             "#7201a8"
            ],
            [
             0.3333333333333333,
             "#9c179e"
            ],
            [
             0.4444444444444444,
             "#bd3786"
            ],
            [
             0.5555555555555556,
             "#d8576b"
            ],
            [
             0.6666666666666666,
             "#ed7953"
            ],
            [
             0.7777777777777778,
             "#fb9f3a"
            ],
            [
             0.8888888888888888,
             "#fdca26"
            ],
            [
             1,
             "#f0f921"
            ]
           ],
           "sequentialminus": [
            [
             0,
             "#0d0887"
            ],
            [
             0.1111111111111111,
             "#46039f"
            ],
            [
             0.2222222222222222,
             "#7201a8"
            ],
            [
             0.3333333333333333,
             "#9c179e"
            ],
            [
             0.4444444444444444,
             "#bd3786"
            ],
            [
             0.5555555555555556,
             "#d8576b"
            ],
            [
             0.6666666666666666,
             "#ed7953"
            ],
            [
             0.7777777777777778,
             "#fb9f3a"
            ],
            [
             0.8888888888888888,
             "#fdca26"
            ],
            [
             1,
             "#f0f921"
            ]
           ]
          },
          "colorway": [
           "#636efa",
           "#EF553B",
           "#00cc96",
           "#ab63fa",
           "#FFA15A",
           "#19d3f3",
           "#FF6692",
           "#B6E880",
           "#FF97FF",
           "#FECB52"
          ],
          "font": {
           "color": "#2a3f5f"
          },
          "geo": {
           "bgcolor": "white",
           "lakecolor": "white",
           "landcolor": "#E5ECF6",
           "showlakes": true,
           "showland": true,
           "subunitcolor": "white"
          },
          "hoverlabel": {
           "align": "left"
          },
          "hovermode": "closest",
          "mapbox": {
           "style": "light"
          },
          "paper_bgcolor": "white",
          "plot_bgcolor": "#E5ECF6",
          "polar": {
           "angularaxis": {
            "gridcolor": "white",
            "linecolor": "white",
            "ticks": ""
           },
           "bgcolor": "#E5ECF6",
           "radialaxis": {
            "gridcolor": "white",
            "linecolor": "white",
            "ticks": ""
           }
          },
          "scene": {
           "xaxis": {
            "backgroundcolor": "#E5ECF6",
            "gridcolor": "white",
            "gridwidth": 2,
            "linecolor": "white",
            "showbackground": true,
            "ticks": "",
            "zerolinecolor": "white"
           },
           "yaxis": {
            "backgroundcolor": "#E5ECF6",
            "gridcolor": "white",
            "gridwidth": 2,
            "linecolor": "white",
            "showbackground": true,
            "ticks": "",
            "zerolinecolor": "white"
           },
           "zaxis": {
            "backgroundcolor": "#E5ECF6",
            "gridcolor": "white",
            "gridwidth": 2,
            "linecolor": "white",
            "showbackground": true,
            "ticks": "",
            "zerolinecolor": "white"
           }
          },
          "shapedefaults": {
           "line": {
            "color": "#2a3f5f"
           }
          },
          "ternary": {
           "aaxis": {
            "gridcolor": "white",
            "linecolor": "white",
            "ticks": ""
           },
           "baxis": {
            "gridcolor": "white",
            "linecolor": "white",
            "ticks": ""
           },
           "bgcolor": "#E5ECF6",
           "caxis": {
            "gridcolor": "white",
            "linecolor": "white",
            "ticks": ""
           }
          },
          "title": {
           "x": 0.05
          },
          "xaxis": {
           "automargin": true,
           "gridcolor": "white",
           "linecolor": "white",
           "ticks": "",
           "title": {
            "standoff": 15
           },
           "zerolinecolor": "white",
           "zerolinewidth": 2
          },
          "yaxis": {
           "automargin": true,
           "gridcolor": "white",
           "linecolor": "white",
           "ticks": "",
           "title": {
            "standoff": 15
           },
           "zerolinecolor": "white",
           "zerolinewidth": 2
          }
         }
        },
        "title": {
         "text": "Mode Choice Calibration Constants"
        },
        "width": 800,
        "xaxis": {
         "title": {
          "text": "Iteration"
         }
        },
        "yaxis": {
         "title": {
          "text": "Constant Value"
         }
        }
       }
      },
      "text/html": [
       "<div>                            <div id=\"e00772d7-06e5-4345-80d9-f4420a497205\" class=\"plotly-graph-div\" style=\"height:400px; width:800px;\"></div>            <script type=\"text/javascript\">                require([\"plotly\"], function(Plotly) {                    window.PLOTLYENV=window.PLOTLYENV || {};                                    if (document.getElementById(\"e00772d7-06e5-4345-80d9-f4420a497205\")) {                    Plotly.newPlot(                        \"e00772d7-06e5-4345-80d9-f4420a497205\",                        [],                        {\"height\":400,\"template\":{\"data\":{\"barpolar\":[{\"marker\":{\"line\":{\"color\":\"#E5ECF6\",\"width\":0.5},\"pattern\":{\"fillmode\":\"overlay\",\"size\":10,\"solidity\":0.2}},\"type\":\"barpolar\"}],\"bar\":[{\"error_x\":{\"color\":\"#2a3f5f\"},\"error_y\":{\"color\":\"#2a3f5f\"},\"marker\":{\"line\":{\"color\":\"#E5ECF6\",\"width\":0.5},\"pattern\":{\"fillmode\":\"overlay\",\"size\":10,\"solidity\":0.2}},\"type\":\"bar\"}],\"carpet\":[{\"aaxis\":{\"endlinecolor\":\"#2a3f5f\",\"gridcolor\":\"white\",\"linecolor\":\"white\",\"minorgridcolor\":\"white\",\"startlinecolor\":\"#2a3f5f\"},\"baxis\":{\"endlinecolor\":\"#2a3f5f\",\"gridcolor\":\"white\",\"linecolor\":\"white\",\"minorgridcolor\":\"white\",\"startlinecolor\":\"#2a3f5f\"},\"type\":\"carpet\"}],\"choropleth\":[{\"colorbar\":{\"outlinewidth\":0,\"ticks\":\"\"},\"type\":\"choropleth\"}],\"contourcarpet\":[{\"colorbar\":{\"outlinewidth\":0,\"ticks\":\"\"},\"type\":\"contourcarpet\"}],\"contour\":[{\"colorbar\":{\"outlinewidth\":0,\"ticks\":\"\"},\"colorscale\":[[0.0,\"#0d0887\"],[0.1111111111111111,\"#46039f\"],[0.2222222222222222,\"#7201a8\"],[0.3333333333333333,\"#9c179e\"],[0.4444444444444444,\"#bd3786\"],[0.5555555555555556,\"#d8576b\"],[0.6666666666666666,\"#ed7953\"],[0.7777777777777778,\"#fb9f3a\"],[0.8888888888888888,\"#fdca26\"],[1.0,\"#f0f921\"]],\"type\":\"contour\"}],\"heatmapgl\":[{\"colorbar\":{\"outlinewidth\":0,\"ticks\":\"\"},\"colorscale\":[[0.0,\"#0d0887\"],[0.1111111111111111,\"#46039f\"],[0.2222222222222222,\"#7201a8\"],[0.3333333333333333,\"#9c179e\"],[0.4444444444444444,\"#bd3786\"],[0.5555555555555556,\"#d8576b\"],[0.6666666666666666,\"#ed7953\"],[0.7777777777777778,\"#fb9f3a\"],[0.8888888888888888,\"#fdca26\"],[1.0,\"#f0f921\"]],\"type\":\"heatmapgl\"}],\"heatmap\":[{\"colorbar\":{\"outlinewidth\":0,\"ticks\":\"\"},\"colorscale\":[[0.0,\"#0d0887\"],[0.1111111111111111,\"#46039f\"],[0.2222222222222222,\"#7201a8\"],[0.3333333333333333,\"#9c179e\"],[0.4444444444444444,\"#bd3786\"],[0.5555555555555556,\"#d8576b\"],[0.6666666666666666,\"#ed7953\"],[0.7777777777777778,\"#fb9f3a\"],[0.8888888888888888,\"#fdca26\"],[1.0,\"#f0f921\"]],\"type\":\"heatmap\"}],\"histogram2dcontour\":[{\"colorbar\":{\"outlinewidth\":0,\"ticks\":\"\"},\"colorscale\":[[0.0,\"#0d0887\"],[0.1111111111111111,\"#46039f\"],[0.2222222222222222,\"#7201a8\"],[0.3333333333333333,\"#9c179e\"],[0.4444444444444444,\"#bd3786\"],[0.5555555555555556,\"#d8576b\"],[0.6666666666666666,\"#ed7953\"],[0.7777777777777778,\"#fb9f3a\"],[0.8888888888888888,\"#fdca26\"],[1.0,\"#f0f921\"]],\"type\":\"histogram2dcontour\"}],\"histogram2d\":[{\"colorbar\":{\"outlinewidth\":0,\"ticks\":\"\"},\"colorscale\":[[0.0,\"#0d0887\"],[0.1111111111111111,\"#46039f\"],[0.2222222222222222,\"#7201a8\"],[0.3333333333333333,\"#9c179e\"],[0.4444444444444444,\"#bd3786\"],[0.5555555555555556,\"#d8576b\"],[0.6666666666666666,\"#ed7953\"],[0.7777777777777778,\"#fb9f3a\"],[0.8888888888888888,\"#fdca26\"],[1.0,\"#f0f921\"]],\"type\":\"histogram2d\"}],\"histogram\":[{\"marker\":{\"pattern\":{\"fillmode\":\"overlay\",\"size\":10,\"solidity\":0.2}},\"type\":\"histogram\"}],\"mesh3d\":[{\"colorbar\":{\"outlinewidth\":0,\"ticks\":\"\"},\"type\":\"mesh3d\"}],\"parcoords\":[{\"line\":{\"colorbar\":{\"outlinewidth\":0,\"ticks\":\"\"}},\"type\":\"parcoords\"}],\"pie\":[{\"automargin\":true,\"type\":\"pie\"}],\"scatter3d\":[{\"line\":{\"colorbar\":{\"outlinewidth\":0,\"ticks\":\"\"}},\"marker\":{\"colorbar\":{\"outlinewidth\":0,\"ticks\":\"\"}},\"type\":\"scatter3d\"}],\"scattercarpet\":[{\"marker\":{\"colorbar\":{\"outlinewidth\":0,\"ticks\":\"\"}},\"type\":\"scattercarpet\"}],\"scattergeo\":[{\"marker\":{\"colorbar\":{\"outlinewidth\":0,\"ticks\":\"\"}},\"type\":\"scattergeo\"}],\"scattergl\":[{\"marker\":{\"colorbar\":{\"outlinewidth\":0,\"ticks\":\"\"}},\"type\":\"scattergl\"}],\"scattermapbox\":[{\"marker\":{\"colorbar\":{\"outlinewidth\":0,\"ticks\":\"\"}},\"type\":\"scattermapbox\"}],\"scatterpolargl\":[{\"marker\":{\"colorbar\":{\"outlinewidth\":0,\"ticks\":\"\"}},\"type\":\"scatterpolargl\"}],\"scatterpolar\":[{\"marker\":{\"colorbar\":{\"outlinewidth\":0,\"ticks\":\"\"}},\"type\":\"scatterpolar\"}],\"scatter\":[{\"fillpattern\":{\"fillmode\":\"overlay\",\"size\":10,\"solidity\":0.2},\"type\":\"scatter\"}],\"scatterternary\":[{\"marker\":{\"colorbar\":{\"outlinewidth\":0,\"ticks\":\"\"}},\"type\":\"scatterternary\"}],\"surface\":[{\"colorbar\":{\"outlinewidth\":0,\"ticks\":\"\"},\"colorscale\":[[0.0,\"#0d0887\"],[0.1111111111111111,\"#46039f\"],[0.2222222222222222,\"#7201a8\"],[0.3333333333333333,\"#9c179e\"],[0.4444444444444444,\"#bd3786\"],[0.5555555555555556,\"#d8576b\"],[0.6666666666666666,\"#ed7953\"],[0.7777777777777778,\"#fb9f3a\"],[0.8888888888888888,\"#fdca26\"],[1.0,\"#f0f921\"]],\"type\":\"surface\"}],\"table\":[{\"cells\":{\"fill\":{\"color\":\"#EBF0F8\"},\"line\":{\"color\":\"white\"}},\"header\":{\"fill\":{\"color\":\"#C8D4E3\"},\"line\":{\"color\":\"white\"}},\"type\":\"table\"}]},\"layout\":{\"annotationdefaults\":{\"arrowcolor\":\"#2a3f5f\",\"arrowhead\":0,\"arrowwidth\":1},\"autotypenumbers\":\"strict\",\"coloraxis\":{\"colorbar\":{\"outlinewidth\":0,\"ticks\":\"\"}},\"colorscale\":{\"diverging\":[[0,\"#8e0152\"],[0.1,\"#c51b7d\"],[0.2,\"#de77ae\"],[0.3,\"#f1b6da\"],[0.4,\"#fde0ef\"],[0.5,\"#f7f7f7\"],[0.6,\"#e6f5d0\"],[0.7,\"#b8e186\"],[0.8,\"#7fbc41\"],[0.9,\"#4d9221\"],[1,\"#276419\"]],\"sequential\":[[0.0,\"#0d0887\"],[0.1111111111111111,\"#46039f\"],[0.2222222222222222,\"#7201a8\"],[0.3333333333333333,\"#9c179e\"],[0.4444444444444444,\"#bd3786\"],[0.5555555555555556,\"#d8576b\"],[0.6666666666666666,\"#ed7953\"],[0.7777777777777778,\"#fb9f3a\"],[0.8888888888888888,\"#fdca26\"],[1.0,\"#f0f921\"]],\"sequentialminus\":[[0.0,\"#0d0887\"],[0.1111111111111111,\"#46039f\"],[0.2222222222222222,\"#7201a8\"],[0.3333333333333333,\"#9c179e\"],[0.4444444444444444,\"#bd3786\"],[0.5555555555555556,\"#d8576b\"],[0.6666666666666666,\"#ed7953\"],[0.7777777777777778,\"#fb9f3a\"],[0.8888888888888888,\"#fdca26\"],[1.0,\"#f0f921\"]]},\"colorway\":[\"#636efa\",\"#EF553B\",\"#00cc96\",\"#ab63fa\",\"#FFA15A\",\"#19d3f3\",\"#FF6692\",\"#B6E880\",\"#FF97FF\",\"#FECB52\"],\"font\":{\"color\":\"#2a3f5f\"},\"geo\":{\"bgcolor\":\"white\",\"lakecolor\":\"white\",\"landcolor\":\"#E5ECF6\",\"showlakes\":true,\"showland\":true,\"subunitcolor\":\"white\"},\"hoverlabel\":{\"align\":\"left\"},\"hovermode\":\"closest\",\"mapbox\":{\"style\":\"light\"},\"paper_bgcolor\":\"white\",\"plot_bgcolor\":\"#E5ECF6\",\"polar\":{\"angularaxis\":{\"gridcolor\":\"white\",\"linecolor\":\"white\",\"ticks\":\"\"},\"bgcolor\":\"#E5ECF6\",\"radialaxis\":{\"gridcolor\":\"white\",\"linecolor\":\"white\",\"ticks\":\"\"}},\"scene\":{\"xaxis\":{\"backgroundcolor\":\"#E5ECF6\",\"gridcolor\":\"white\",\"gridwidth\":2,\"linecolor\":\"white\",\"showbackground\":true,\"ticks\":\"\",\"zerolinecolor\":\"white\"},\"yaxis\":{\"backgroundcolor\":\"#E5ECF6\",\"gridcolor\":\"white\",\"gridwidth\":2,\"linecolor\":\"white\",\"showbackground\":true,\"ticks\":\"\",\"zerolinecolor\":\"white\"},\"zaxis\":{\"backgroundcolor\":\"#E5ECF6\",\"gridcolor\":\"white\",\"gridwidth\":2,\"linecolor\":\"white\",\"showbackground\":true,\"ticks\":\"\",\"zerolinecolor\":\"white\"}},\"shapedefaults\":{\"line\":{\"color\":\"#2a3f5f\"}},\"ternary\":{\"aaxis\":{\"gridcolor\":\"white\",\"linecolor\":\"white\",\"ticks\":\"\"},\"baxis\":{\"gridcolor\":\"white\",\"linecolor\":\"white\",\"ticks\":\"\"},\"bgcolor\":\"#E5ECF6\",\"caxis\":{\"gridcolor\":\"white\",\"linecolor\":\"white\",\"ticks\":\"\"}},\"title\":{\"x\":0.05},\"xaxis\":{\"automargin\":true,\"gridcolor\":\"white\",\"linecolor\":\"white\",\"ticks\":\"\",\"title\":{\"standoff\":15},\"zerolinecolor\":\"white\",\"zerolinewidth\":2},\"yaxis\":{\"automargin\":true,\"gridcolor\":\"white\",\"linecolor\":\"white\",\"ticks\":\"\",\"title\":{\"standoff\":15},\"zerolinecolor\":\"white\",\"zerolinewidth\":2}}},\"title\":{\"text\":\"Mode Choice Calibration Constants\"},\"width\":800,\"xaxis\":{\"title\":{\"text\":\"Iteration\"}},\"yaxis\":{\"title\":{\"text\":\"Constant Value\"}}},                        {\"responsive\": true}                    ).then(function(){\n",
       "                            \n",
       "var gd = document.getElementById('e00772d7-06e5-4345-80d9-f4420a497205');\n",
       "var x = new MutationObserver(function (mutations, observer) {{\n",
       "        var display = window.getComputedStyle(gd).display;\n",
       "        if (!display || display === 'none') {{\n",
       "            console.log([gd, 'removed!']);\n",
       "            Plotly.purge(gd);\n",
       "            observer.disconnect();\n",
       "        }}\n",
       "}});\n",
       "\n",
       "// Listen for the removal of the full notebook cells\n",
       "var notebookContainer = gd.closest('#notebook-container');\n",
       "if (notebookContainer) {{\n",
       "    x.observe(notebookContainer, {childList: true});\n",
       "}}\n",
       "\n",
       "// Listen for the clearing of the current output cell\n",
       "var outputEl = gd.closest('.output');\n",
       "if (outputEl) {{\n",
       "    x.observe(outputEl, {childList: true});\n",
       "}}\n",
       "\n",
       "                        })                };                });            </script>        </div>"
      ]
     },
     "metadata": {},
     "output_type": "display_data"
    },
    {
     "data": {
      "application/vnd.plotly.v1+json": {
       "config": {
        "linkText": "Export to plot.ly",
        "plotlyServerURL": "https://plot.ly",
        "showLink": false
       },
       "data": [
        {
         "mode": "lines+markers",
         "name": "HBC Pk asc_nonmotor",
         "type": "scatter",
         "x": [
          25,
          24,
          23,
          22,
          21,
          20,
          19,
          18,
          17,
          16,
          15,
          14,
          13,
          12,
          11,
          10,
          9,
          8,
          7,
          6,
          5,
          4,
          3,
          2,
          1,
          0
         ],
         "y": [
          0.16329999268054962,
          0.1597999930381775,
          0.15569999814033508,
          0.1509000062942505,
          0.1453000009059906,
          0.1387999951839447,
          0.13120000064373016,
          0.12240000069141388,
          0.11209999769926071,
          0.10010000318288803,
          0.08619999885559082,
          0.07010000199079514,
          0.051500000059604645,
          0.030300000682473183,
          0.006099999882280827,
          -0.020999999716877937,
          -0.050999999046325684,
          -0.08340000361204147,
          -0.11699999868869781,
          -0.14970000088214874,
          -0.17790000140666962,
          -0.19599999487400055,
          -0.19609999656677246,
          -0.16859999299049377,
          -0.10450000315904617,
          0
         ]
        },
        {
         "mode": "lines+markers",
         "name": "HBC Pk asc_transit",
         "type": "scatter",
         "x": [
          25,
          24,
          23,
          22,
          21,
          20,
          19,
          18,
          17,
          16,
          15,
          14,
          13,
          12,
          11,
          10,
          9,
          8,
          7,
          6,
          5,
          4,
          3,
          2,
          1,
          0
         ],
         "y": [
          -0.5059000253677368,
          -0.5083000063896179,
          -0.5109000205993652,
          -0.5138000249862671,
          -0.5169000029563904,
          -0.5202000141143799,
          -0.5236999988555908,
          -0.5273000001907349,
          -0.5309000015258789,
          -0.5343000292778015,
          -0.5372999906539917,
          -0.5394999980926514,
          -0.5404999852180481,
          -0.5397999882698059,
          -0.5364000201225281,
          -0.5295000076293945,
          -0.5177000164985657,
          -0.49950000643730164,
          -0.4731000065803528,
          -0.43639999628067017,
          -0.3874000012874603,
          -0.32440000772476196,
          -0.24690000712871552,
          -0.1573999971151352,
          -0.06639999896287918,
          0
         ]
        },
        {
         "mode": "lines+markers",
         "name": "HBC Pk asc_shared",
         "type": "scatter",
         "x": [
          25,
          24,
          23,
          22,
          21,
          20,
          19,
          18,
          17,
          16,
          15,
          14,
          13,
          12,
          11,
          10,
          9,
          8,
          7,
          6,
          5,
          4,
          3,
          2,
          1,
          0
         ],
         "y": [
          -0.9194999933242798,
          -0.9193999767303467,
          -0.9193000197410583,
          -0.9192000031471252,
          -0.9190999865531921,
          -0.9190000295639038,
          -0.9187999963760376,
          -0.9186000227928162,
          -0.9182999730110168,
          -0.917900025844574,
          -0.9172999858856201,
          -0.9165999889373779,
          -0.9154999852180481,
          -0.9139000177383423,
          -0.9114999771118164,
          -0.907800018787384,
          -0.9020000100135803,
          -0.892799973487854,
          -0.8780999779701233,
          -0.8544999957084656,
          -0.8166000247001648,
          -0.7560999989509583,
          -0.6604999899864197,
          -0.5131999850273132,
          -0.2964000105857849,
          0
         ]
        },
        {
         "mode": "lines+markers",
         "name": "HBC Pk asc_hov",
         "type": "scatter",
         "x": [
          25,
          24,
          23,
          22,
          21,
          20,
          19,
          18,
          17,
          16,
          15,
          14,
          13,
          12,
          11,
          10,
          9,
          8,
          7,
          6,
          5,
          4,
          3,
          2,
          1,
          0
         ],
         "y": [
          0.0625,
          0.0625,
          0.0625,
          0.0625,
          0.0625,
          0.0625,
          0.0625,
          0.0625,
          0.0625,
          0.0625,
          0.0625,
          0.0625,
          0.0625,
          0.0625,
          0.0625,
          0.0625,
          0.0625,
          0.0625,
          0.0625,
          0.0625,
          0.0625,
          0.0625,
          0.0625,
          0.0625,
          0.0625,
          0.0625
         ]
        },
        {
         "mode": "lines+markers",
         "name": "HBC Pk asc_toll",
         "type": "scatter",
         "x": [
          25,
          24,
          23,
          22,
          21,
          20,
          19,
          18,
          17,
          16,
          15,
          14,
          13,
          12,
          11,
          10,
          9,
          8,
          7,
          6,
          5,
          4,
          3,
          2,
          1,
          0
         ],
         "y": [
          -0.25,
          -0.25,
          -0.25,
          -0.25,
          -0.25,
          -0.25,
          -0.25,
          -0.25,
          -0.25,
          -0.25,
          -0.25,
          -0.25,
          -0.25,
          -0.25,
          -0.25,
          -0.25,
          -0.25,
          -0.25,
          -0.25,
          -0.25,
          -0.25,
          -0.25,
          -0.25,
          -0.25,
          -0.25,
          -0.25
         ]
        },
        {
         "mode": "lines+markers",
         "name": "HBC Pk asc_sr3",
         "type": "scatter",
         "x": [
          25,
          24,
          23,
          22,
          21,
          20,
          19,
          18,
          17,
          16,
          15,
          14,
          13,
          12,
          11,
          10,
          9,
          8,
          7,
          6,
          5,
          4,
          3,
          2,
          1,
          0
         ],
         "y": [
          -0.23929999768733978,
          -0.23929999768733978,
          -0.23929999768733978,
          -0.23929999768733978,
          -0.23929999768733978,
          -0.23929999768733978,
          -0.23929999768733978,
          -0.23929999768733978,
          -0.23929999768733978,
          -0.23929999768733978,
          -0.23929999768733978,
          -0.23929999768733978,
          -0.23929999768733978,
          -0.23929999768733978,
          -0.23929999768733978,
          -0.23919999599456787,
          -0.23909999430179596,
          -0.23890000581741333,
          -0.23829999566078186,
          -0.2371000051498413,
          -0.23430000245571136,
          -0.2280000001192093,
          -0.21379999816417694,
          -0.18289999663829803,
          -0.11909999698400497,
          0
         ]
        },
        {
         "mode": "lines+markers",
         "name": "HBC Pk asc_EXP",
         "type": "scatter",
         "x": [
          25,
          24,
          23,
          22,
          21,
          20,
          19,
          18,
          17,
          16,
          15,
          14,
          13,
          12,
          11,
          10,
          9,
          8,
          7,
          6,
          5,
          4,
          3,
          2,
          1,
          0
         ],
         "y": [
          -0.41429999470710754,
          -0.41339999437332153,
          -0.4124999940395355,
          -0.4113999903202057,
          -0.41029998660087585,
          -0.4090999960899353,
          -0.4077000021934509,
          -0.40630000829696655,
          -0.40470001101493835,
          -0.40290001034736633,
          -0.4009999930858612,
          -0.39890000224113464,
          -0.3968999981880188,
          -0.39419999718666077,
          -0.3926999866962433,
          -0.3889000117778778,
          -0.38989999890327454,
          -0.3831000030040741,
          -0.3919000029563904,
          -0.37540000677108765,
          -0.40709999203681946,
          -0.3587000072002411,
          -0.453000009059906,
          -0.3059999942779541,
          -0.5662000179290771,
          0
         ]
        },
        {
         "mode": "lines+markers",
         "name": "HBC Pk asc_BRT",
         "type": "scatter",
         "x": [
          25,
          24,
          23,
          22,
          21,
          20,
          19,
          18,
          17,
          16,
          15,
          14,
          13,
          12,
          11,
          10,
          9,
          8,
          7,
          6,
          5,
          4,
          3,
          2,
          1,
          0
         ],
         "y": [
          0.2903999984264374,
          0.28870001435279846,
          0.28690001368522644,
          0.2849000096321106,
          0.2827000021934509,
          0.28029999136924744,
          0.2775999903678894,
          0.27469998598098755,
          0.27140000462532043,
          0.2678000032901764,
          0.263700008392334,
          0.2590999901294708,
          0.25380000472068787,
          0.24770000576972961,
          0.24060000479221344,
          0.23229999840259552,
          0.22259999811649323,
          0.21119999885559082,
          0.19779999554157257,
          0.18209999799728394,
          0.1639000028371811,
          0.1429000049829483,
          0.11860000342130661,
          0.08969999849796295,
          0.05310000106692314,
          0
         ]
        },
        {
         "mode": "lines+markers",
         "name": "HBC Pk asc_LRT",
         "type": "scatter",
         "x": [
          25,
          24,
          23,
          22,
          21,
          20,
          19,
          18,
          17,
          16,
          15,
          14,
          13,
          12,
          11,
          10,
          9,
          8,
          7,
          6,
          5,
          4,
          3,
          2,
          1,
          0
         ],
         "y": [
          0.21950000524520874,
          0.21899999678134918,
          0.2184000015258789,
          0.21780000627040863,
          0.21729999780654907,
          0.2168000042438507,
          0.21629999577999115,
          0.2159000039100647,
          0.21559999883174896,
          0.21529999375343323,
          0.2151000052690506,
          0.2150000035762787,
          0.2150000035762787,
          0.2151000052690506,
          0.2152000069618225,
          0.2152000069618225,
          0.21480000019073486,
          0.21359999477863312,
          0.2110999971628189,
          0.20630000531673431,
          0.19779999554157257,
          0.18369999527931213,
          0.16110000014305115,
          0.12630000710487366,
          0.07440000027418137,
          0
         ]
        },
        {
         "mode": "lines+markers",
         "name": "HBC Pk asc_CRT",
         "type": "scatter",
         "x": [
          25,
          24,
          23,
          22,
          21,
          20,
          19,
          18,
          17,
          16,
          15,
          14,
          13,
          12,
          11,
          10,
          9,
          8,
          7,
          6,
          5,
          4,
          3,
          2,
          1,
          0
         ],
         "y": [
          0.0017999999690800905,
          0.0026000000070780516,
          0.0035000001080334187,
          0.0044999998062849045,
          0.00570000009611249,
          0.0071000000461936,
          0.008700000122189522,
          0.010499999858438969,
          0.012600000016391277,
          0.014999999664723873,
          0.01769999973475933,
          0.02070000022649765,
          0.024000000208616257,
          0.02759999968111515,
          0.03139999881386757,
          0.03530000150203705,
          0.03909999877214432,
          0.042500000447034836,
          0.04529999941587448,
          0.04670000076293945,
          0.04699999839067459,
          0.04450000077486038,
          0.04129999876022339,
          0.03370000049471855,
          0.02810000069439411,
          0
         ]
        },
        {
         "mode": "lines+markers",
         "name": "HBC Pk asc_driveacc",
         "type": "scatter",
         "x": [
          25,
          24,
          23,
          22,
          21,
          20,
          19,
          18,
          17,
          16,
          15,
          14,
          13,
          12,
          11,
          10,
          9,
          8,
          7,
          6,
          5,
          4,
          3,
          2,
          1,
          0
         ],
         "y": [
          -1.1713000535964966,
          -1.1620999574661255,
          -1.1520999670028687,
          -1.1411999464035034,
          -1.1291999816894531,
          -1.1160000562667847,
          -1.1015000343322754,
          -1.0856000185012817,
          -1.0680999755859375,
          -1.048699975013733,
          -1.0273000001907349,
          -1.003600001335144,
          -0.9772999882698059,
          -0.9480000138282776,
          -0.9153000116348267,
          -0.8787000179290771,
          -0.8374999761581421,
          -0.7908999919891357,
          -0.7378000020980835,
          -0.676800012588501,
          -0.6061999797821045,
          -0.5235000252723694,
          -0.42579999566078186,
          -0.3091999888420105,
          -0.16899999976158142,
          0
         ]
        },
        {
         "mode": "lines+markers",
         "name": "HBC Pk asc_wEXP",
         "type": "scatter",
         "x": [
          25,
          24,
          23,
          22,
          21,
          20,
          19,
          18,
          17,
          16,
          15,
          14,
          13,
          12,
          11,
          10,
          9,
          8,
          7,
          6,
          5,
          4,
          3,
          2,
          1,
          0
         ],
         "y": [
          0.11010000109672546,
          0.11020000278949738,
          0.11029999703168869,
          0.11050000041723251,
          0.11089999973773956,
          0.11140000075101852,
          0.11209999769926071,
          0.11299999803304672,
          0.11410000175237656,
          0.11540000140666962,
          0.1168999969959259,
          0.11869999766349792,
          0.12049999833106995,
          0.12280000001192093,
          0.12430000305175781,
          0.12680000066757202,
          0.125900000333786,
          0.1282999962568283,
          0.1200999990105629,
          0.12290000170469284,
          0.09430000185966492,
          0.10249999910593033,
          0.0215000007301569,
          0.05609999969601631,
          -0.17059999704360962,
          0
         ]
        },
        {
         "mode": "lines+markers",
         "name": "HBC Pk asc_wBRT",
         "type": "scatter",
         "x": [
          25,
          24,
          23,
          22,
          21,
          20,
          19,
          18,
          17,
          16,
          15,
          14,
          13,
          12,
          11,
          10,
          9,
          8,
          7,
          6,
          5,
          4,
          3,
          2,
          1,
          0
         ],
         "y": [
          -0.3736000061035156,
          -0.3716999888420105,
          -0.36970001459121704,
          -0.3675000071525574,
          -0.3650999963283539,
          -0.36250001192092896,
          -0.3596999943256378,
          -0.35670000314712524,
          -0.35350000858306885,
          -0.35010001063346863,
          -0.3465000092983246,
          -0.3425999879837036,
          -0.3384999930858612,
          -0.334199994802475,
          -0.3296000063419342,
          -0.3246999979019165,
          -0.31929999589920044,
          -0.31310001015663147,
          -0.30559998750686646,
          -0.2955999970436096,
          -0.28139999508857727,
          -0.26019999384880066,
          -0.2281000018119812,
          -0.17960000038146973,
          -0.10689999908208847,
          0
         ]
        },
        {
         "mode": "lines+markers",
         "name": "HBC Pk asc_wLRT",
         "type": "scatter",
         "x": [
          25,
          24,
          23,
          22,
          21,
          20,
          19,
          18,
          17,
          16,
          15,
          14,
          13,
          12,
          11,
          10,
          9,
          8,
          7,
          6,
          5,
          4,
          3,
          2,
          1,
          0
         ],
         "y": [
          0.4246000051498413,
          0.4259999990463257,
          0.4275999963283539,
          0.4293999969959259,
          0.43140000104904175,
          0.43369999527931213,
          0.43630000948905945,
          0.439300000667572,
          0.44269999861717224,
          0.4465999901294708,
          0.45100000500679016,
          0.4560000002384186,
          0.46160000562667847,
          0.46779999136924744,
          0.47450000047683716,
          0.4814999997615814,
          0.48840001225471497,
          0.4945000112056732,
          0.4986000061035156,
          0.49880000948905945,
          0.49219998717308044,
          0.4742000102996826,
          0.4377000033855438,
          0.3700999915599823,
          0.2467000037431717,
          0
         ]
        },
        {
         "mode": "lines+markers",
         "name": "HBC Pk asc_wCRT",
         "type": "scatter",
         "x": [
          25,
          24,
          23,
          22,
          21,
          20,
          19,
          18,
          17,
          16,
          15,
          14,
          13,
          12,
          11,
          10,
          9,
          8,
          7,
          6,
          5,
          4,
          3,
          2,
          1,
          0
         ],
         "y": [
          0.9624999761581421,
          0.9625999927520752,
          0.9628000259399414,
          0.9629999995231628,
          0.9632999897003174,
          0.9638000130653381,
          0.9643999934196472,
          0.9652000069618225,
          0.9661999940872192,
          0.9672999978065491,
          0.9685999751091003,
          0.9700000286102295,
          0.9713000059127808,
          0.9721999764442444,
          0.9722999930381775,
          0.97079998254776,
          0.96670001745224,
          0.9581999778747559,
          0.9430000185966492,
          0.9172999858856201,
          0.8766000270843506,
          0.8130000233650208,
          0.7178000211715698,
          0.5727999806404114,
          0.3562999963760376,
          0
         ]
        },
        {
         "mode": "lines+markers",
         "name": "HBC Pk asc_dEXP",
         "type": "scatter",
         "x": [
          25,
          24,
          23,
          22,
          21,
          20,
          19,
          18,
          17,
          16,
          15,
          14,
          13,
          12,
          11,
          10,
          9,
          8,
          7,
          6,
          5,
          4,
          3,
          2,
          1,
          0
         ],
         "y": [
          0.10400000214576721,
          0.0982000008225441,
          0.09189999848604202,
          0.0851999968290329,
          0.0778999999165535,
          0.07000000029802322,
          0.06159999966621399,
          0.052299998700618744,
          0.04230000078678131,
          0.03139999881386757,
          0.01940000057220459,
          0.006399999838322401,
          -0.008200000040233135,
          -0.023499999195337296,
          -0.0421999990940094,
          -0.05959999933838844,
          -0.08529999852180481,
          -0.10270000249147415,
          -0.14270000159740448,
          -0.15150000154972076,
          -0.22499999403953552,
          -0.1981000006198883,
          -0.3538999855518341,
          -0.21819999814033508,
          -0.5698000192642212,
          0
         ]
        },
        {
         "mode": "lines+markers",
         "name": "HBC Pk asc_dBRT",
         "type": "scatter",
         "x": [
          25,
          24,
          23,
          22,
          21,
          20,
          19,
          18,
          17,
          16,
          15,
          14,
          13,
          12,
          11,
          10,
          9,
          8,
          7,
          6,
          5,
          4,
          3,
          2,
          1,
          0
         ],
         "y": [
          1.0728000402450562,
          1.0681999921798706,
          1.0634000301361084,
          1.0583000183105469,
          1.052899956703186,
          1.0470999479293823,
          1.0410000085830688,
          1.034600019454956,
          1.027899980545044,
          1.020900011062622,
          1.0134999752044678,
          1.0058000087738037,
          0.9976000189781189,
          0.9887999892234802,
          0.9790999889373779,
          0.9681000113487244,
          0.9549999833106995,
          0.9386000037193298,
          0.9172000288963318,
          0.8878999948501587,
          0.8465999960899353,
          0.7870000004768372,
          0.6995000243186951,
          0.5683000087738037,
          0.36309999227523804,
          0
         ]
        },
        {
         "mode": "lines+markers",
         "name": "HBC Pk asc_dLRT",
         "type": "scatter",
         "x": [
          25,
          24,
          23,
          22,
          21,
          20,
          19,
          18,
          17,
          16,
          15,
          14,
          13,
          12,
          11,
          10,
          9,
          8,
          7,
          6,
          5,
          4,
          3,
          2,
          1,
          0
         ],
         "y": [
          0.396699994802475,
          0.3912000060081482,
          0.38530001044273376,
          0.3788999915122986,
          0.3720000088214874,
          0.3644999861717224,
          0.3562999963760376,
          0.3474999964237213,
          0.3379000127315521,
          0.32749998569488525,
          0.31619998812675476,
          0.30390000343322754,
          0.2904999852180481,
          0.2759000062942505,
          0.26010000705718994,
          0.24289999902248383,
          0.22429999709129333,
          0.20430000126361847,
          0.18279999494552612,
          0.1598999947309494,
          0.1354999989271164,
          0.10970000177621841,
          0.08219999819993973,
          0.053199999034404755,
          0.024000000208616257,
          0
         ]
        },
        {
         "mode": "lines+markers",
         "name": "HBC Pk asc_dCRT",
         "type": "scatter",
         "x": [
          25,
          24,
          23,
          22,
          21,
          20,
          19,
          18,
          17,
          16,
          15,
          14,
          13,
          12,
          11,
          10,
          9,
          8,
          7,
          6,
          5,
          4,
          3,
          2,
          1,
          0
         ],
         "y": [
          0.8472999930381775,
          0.840399980545044,
          0.8328999876976013,
          0.8246999979019165,
          0.8158000111579895,
          0.8061000108718872,
          0.7955999970436096,
          0.7839999794960022,
          0.7713000178337097,
          0.7573999762535095,
          0.7421000003814697,
          0.7251999974250793,
          0.7064999938011169,
          0.685699999332428,
          0.6625000238418579,
          0.6363999843597412,
          0.6069999933242798,
          0.5734999775886536,
          0.5353999733924866,
          0.4912000000476837,
          0.4404999911785126,
          0.3806000053882599,
          0.31209999322891235,
          0.2290000021457672,
          0.1347000002861023,
          0
         ]
        },
        {
         "mode": "lines+markers",
         "name": "HBC Pk asc_bike",
         "type": "scatter",
         "x": [
          25,
          24,
          23,
          22,
          21,
          20,
          19,
          18,
          17,
          16,
          15,
          14,
          13,
          12,
          11,
          10,
          9,
          8,
          7,
          6,
          5,
          4,
          3,
          2,
          1,
          0
         ],
         "y": [
          -2.069000005722046,
          -2.0673999786376953,
          -2.0653998851776123,
          -2.062999963760376,
          -2.059999942779541,
          -2.056299924850464,
          -2.0517001152038574,
          -2.0460000038146973,
          -2.038800001144409,
          -2.0297000408172607,
          -2.0179998874664307,
          -2.003000020980835,
          -1.9837000370025635,
          -1.9586999416351318,
          -1.926200032234192,
          -1.8839000463485718,
          -1.8287999629974365,
          -1.7569999694824219,
          -1.663699984550476,
          -1.5434000492095947,
          -1.3901000022888184,
          -1.1979000568389893,
          -0.9623000025749207,
          -0.6819000244140625,
          -0.35910001397132874,
          0
         ]
        }
       ],
       "layout": {
        "height": 400,
        "template": {
         "data": {
          "bar": [
           {
            "error_x": {
             "color": "#2a3f5f"
            },
            "error_y": {
             "color": "#2a3f5f"
            },
            "marker": {
             "line": {
              "color": "#E5ECF6",
              "width": 0.5
             },
             "pattern": {
              "fillmode": "overlay",
              "size": 10,
              "solidity": 0.2
             }
            },
            "type": "bar"
           }
          ],
          "barpolar": [
           {
            "marker": {
             "line": {
              "color": "#E5ECF6",
              "width": 0.5
             },
             "pattern": {
              "fillmode": "overlay",
              "size": 10,
              "solidity": 0.2
             }
            },
            "type": "barpolar"
           }
          ],
          "carpet": [
           {
            "aaxis": {
             "endlinecolor": "#2a3f5f",
             "gridcolor": "white",
             "linecolor": "white",
             "minorgridcolor": "white",
             "startlinecolor": "#2a3f5f"
            },
            "baxis": {
             "endlinecolor": "#2a3f5f",
             "gridcolor": "white",
             "linecolor": "white",
             "minorgridcolor": "white",
             "startlinecolor": "#2a3f5f"
            },
            "type": "carpet"
           }
          ],
          "choropleth": [
           {
            "colorbar": {
             "outlinewidth": 0,
             "ticks": ""
            },
            "type": "choropleth"
           }
          ],
          "contour": [
           {
            "colorbar": {
             "outlinewidth": 0,
             "ticks": ""
            },
            "colorscale": [
             [
              0,
              "#0d0887"
             ],
             [
              0.1111111111111111,
              "#46039f"
             ],
             [
              0.2222222222222222,
              "#7201a8"
             ],
             [
              0.3333333333333333,
              "#9c179e"
             ],
             [
              0.4444444444444444,
              "#bd3786"
             ],
             [
              0.5555555555555556,
              "#d8576b"
             ],
             [
              0.6666666666666666,
              "#ed7953"
             ],
             [
              0.7777777777777778,
              "#fb9f3a"
             ],
             [
              0.8888888888888888,
              "#fdca26"
             ],
             [
              1,
              "#f0f921"
             ]
            ],
            "type": "contour"
           }
          ],
          "contourcarpet": [
           {
            "colorbar": {
             "outlinewidth": 0,
             "ticks": ""
            },
            "type": "contourcarpet"
           }
          ],
          "heatmap": [
           {
            "colorbar": {
             "outlinewidth": 0,
             "ticks": ""
            },
            "colorscale": [
             [
              0,
              "#0d0887"
             ],
             [
              0.1111111111111111,
              "#46039f"
             ],
             [
              0.2222222222222222,
              "#7201a8"
             ],
             [
              0.3333333333333333,
              "#9c179e"
             ],
             [
              0.4444444444444444,
              "#bd3786"
             ],
             [
              0.5555555555555556,
              "#d8576b"
             ],
             [
              0.6666666666666666,
              "#ed7953"
             ],
             [
              0.7777777777777778,
              "#fb9f3a"
             ],
             [
              0.8888888888888888,
              "#fdca26"
             ],
             [
              1,
              "#f0f921"
             ]
            ],
            "type": "heatmap"
           }
          ],
          "heatmapgl": [
           {
            "colorbar": {
             "outlinewidth": 0,
             "ticks": ""
            },
            "colorscale": [
             [
              0,
              "#0d0887"
             ],
             [
              0.1111111111111111,
              "#46039f"
             ],
             [
              0.2222222222222222,
              "#7201a8"
             ],
             [
              0.3333333333333333,
              "#9c179e"
             ],
             [
              0.4444444444444444,
              "#bd3786"
             ],
             [
              0.5555555555555556,
              "#d8576b"
             ],
             [
              0.6666666666666666,
              "#ed7953"
             ],
             [
              0.7777777777777778,
              "#fb9f3a"
             ],
             [
              0.8888888888888888,
              "#fdca26"
             ],
             [
              1,
              "#f0f921"
             ]
            ],
            "type": "heatmapgl"
           }
          ],
          "histogram": [
           {
            "marker": {
             "pattern": {
              "fillmode": "overlay",
              "size": 10,
              "solidity": 0.2
             }
            },
            "type": "histogram"
           }
          ],
          "histogram2d": [
           {
            "colorbar": {
             "outlinewidth": 0,
             "ticks": ""
            },
            "colorscale": [
             [
              0,
              "#0d0887"
             ],
             [
              0.1111111111111111,
              "#46039f"
             ],
             [
              0.2222222222222222,
              "#7201a8"
             ],
             [
              0.3333333333333333,
              "#9c179e"
             ],
             [
              0.4444444444444444,
              "#bd3786"
             ],
             [
              0.5555555555555556,
              "#d8576b"
             ],
             [
              0.6666666666666666,
              "#ed7953"
             ],
             [
              0.7777777777777778,
              "#fb9f3a"
             ],
             [
              0.8888888888888888,
              "#fdca26"
             ],
             [
              1,
              "#f0f921"
             ]
            ],
            "type": "histogram2d"
           }
          ],
          "histogram2dcontour": [
           {
            "colorbar": {
             "outlinewidth": 0,
             "ticks": ""
            },
            "colorscale": [
             [
              0,
              "#0d0887"
             ],
             [
              0.1111111111111111,
              "#46039f"
             ],
             [
              0.2222222222222222,
              "#7201a8"
             ],
             [
              0.3333333333333333,
              "#9c179e"
             ],
             [
              0.4444444444444444,
              "#bd3786"
             ],
             [
              0.5555555555555556,
              "#d8576b"
             ],
             [
              0.6666666666666666,
              "#ed7953"
             ],
             [
              0.7777777777777778,
              "#fb9f3a"
             ],
             [
              0.8888888888888888,
              "#fdca26"
             ],
             [
              1,
              "#f0f921"
             ]
            ],
            "type": "histogram2dcontour"
           }
          ],
          "mesh3d": [
           {
            "colorbar": {
             "outlinewidth": 0,
             "ticks": ""
            },
            "type": "mesh3d"
           }
          ],
          "parcoords": [
           {
            "line": {
             "colorbar": {
              "outlinewidth": 0,
              "ticks": ""
             }
            },
            "type": "parcoords"
           }
          ],
          "pie": [
           {
            "automargin": true,
            "type": "pie"
           }
          ],
          "scatter": [
           {
            "fillpattern": {
             "fillmode": "overlay",
             "size": 10,
             "solidity": 0.2
            },
            "type": "scatter"
           }
          ],
          "scatter3d": [
           {
            "line": {
             "colorbar": {
              "outlinewidth": 0,
              "ticks": ""
             }
            },
            "marker": {
             "colorbar": {
              "outlinewidth": 0,
              "ticks": ""
             }
            },
            "type": "scatter3d"
           }
          ],
          "scattercarpet": [
           {
            "marker": {
             "colorbar": {
              "outlinewidth": 0,
              "ticks": ""
             }
            },
            "type": "scattercarpet"
           }
          ],
          "scattergeo": [
           {
            "marker": {
             "colorbar": {
              "outlinewidth": 0,
              "ticks": ""
             }
            },
            "type": "scattergeo"
           }
          ],
          "scattergl": [
           {
            "marker": {
             "colorbar": {
              "outlinewidth": 0,
              "ticks": ""
             }
            },
            "type": "scattergl"
           }
          ],
          "scattermapbox": [
           {
            "marker": {
             "colorbar": {
              "outlinewidth": 0,
              "ticks": ""
             }
            },
            "type": "scattermapbox"
           }
          ],
          "scatterpolar": [
           {
            "marker": {
             "colorbar": {
              "outlinewidth": 0,
              "ticks": ""
             }
            },
            "type": "scatterpolar"
           }
          ],
          "scatterpolargl": [
           {
            "marker": {
             "colorbar": {
              "outlinewidth": 0,
              "ticks": ""
             }
            },
            "type": "scatterpolargl"
           }
          ],
          "scatterternary": [
           {
            "marker": {
             "colorbar": {
              "outlinewidth": 0,
              "ticks": ""
             }
            },
            "type": "scatterternary"
           }
          ],
          "surface": [
           {
            "colorbar": {
             "outlinewidth": 0,
             "ticks": ""
            },
            "colorscale": [
             [
              0,
              "#0d0887"
             ],
             [
              0.1111111111111111,
              "#46039f"
             ],
             [
              0.2222222222222222,
              "#7201a8"
             ],
             [
              0.3333333333333333,
              "#9c179e"
             ],
             [
              0.4444444444444444,
              "#bd3786"
             ],
             [
              0.5555555555555556,
              "#d8576b"
             ],
             [
              0.6666666666666666,
              "#ed7953"
             ],
             [
              0.7777777777777778,
              "#fb9f3a"
             ],
             [
              0.8888888888888888,
              "#fdca26"
             ],
             [
              1,
              "#f0f921"
             ]
            ],
            "type": "surface"
           }
          ],
          "table": [
           {
            "cells": {
             "fill": {
              "color": "#EBF0F8"
             },
             "line": {
              "color": "white"
             }
            },
            "header": {
             "fill": {
              "color": "#C8D4E3"
             },
             "line": {
              "color": "white"
             }
            },
            "type": "table"
           }
          ]
         },
         "layout": {
          "annotationdefaults": {
           "arrowcolor": "#2a3f5f",
           "arrowhead": 0,
           "arrowwidth": 1
          },
          "autotypenumbers": "strict",
          "coloraxis": {
           "colorbar": {
            "outlinewidth": 0,
            "ticks": ""
           }
          },
          "colorscale": {
           "diverging": [
            [
             0,
             "#8e0152"
            ],
            [
             0.1,
             "#c51b7d"
            ],
            [
             0.2,
             "#de77ae"
            ],
            [
             0.3,
             "#f1b6da"
            ],
            [
             0.4,
             "#fde0ef"
            ],
            [
             0.5,
             "#f7f7f7"
            ],
            [
             0.6,
             "#e6f5d0"
            ],
            [
             0.7,
             "#b8e186"
            ],
            [
             0.8,
             "#7fbc41"
            ],
            [
             0.9,
             "#4d9221"
            ],
            [
             1,
             "#276419"
            ]
           ],
           "sequential": [
            [
             0,
             "#0d0887"
            ],
            [
             0.1111111111111111,
             "#46039f"
            ],
            [
             0.2222222222222222,
             "#7201a8"
            ],
            [
             0.3333333333333333,
             "#9c179e"
            ],
            [
             0.4444444444444444,
             "#bd3786"
            ],
            [
             0.5555555555555556,
             "#d8576b"
            ],
            [
             0.6666666666666666,
             "#ed7953"
            ],
            [
             0.7777777777777778,
             "#fb9f3a"
            ],
            [
             0.8888888888888888,
             "#fdca26"
            ],
            [
             1,
             "#f0f921"
            ]
           ],
           "sequentialminus": [
            [
             0,
             "#0d0887"
            ],
            [
             0.1111111111111111,
             "#46039f"
            ],
            [
             0.2222222222222222,
             "#7201a8"
            ],
            [
             0.3333333333333333,
             "#9c179e"
            ],
            [
             0.4444444444444444,
             "#bd3786"
            ],
            [
             0.5555555555555556,
             "#d8576b"
            ],
            [
             0.6666666666666666,
             "#ed7953"
            ],
            [
             0.7777777777777778,
             "#fb9f3a"
            ],
            [
             0.8888888888888888,
             "#fdca26"
            ],
            [
             1,
             "#f0f921"
            ]
           ]
          },
          "colorway": [
           "#636efa",
           "#EF553B",
           "#00cc96",
           "#ab63fa",
           "#FFA15A",
           "#19d3f3",
           "#FF6692",
           "#B6E880",
           "#FF97FF",
           "#FECB52"
          ],
          "font": {
           "color": "#2a3f5f"
          },
          "geo": {
           "bgcolor": "white",
           "lakecolor": "white",
           "landcolor": "#E5ECF6",
           "showlakes": true,
           "showland": true,
           "subunitcolor": "white"
          },
          "hoverlabel": {
           "align": "left"
          },
          "hovermode": "closest",
          "mapbox": {
           "style": "light"
          },
          "paper_bgcolor": "white",
          "plot_bgcolor": "#E5ECF6",
          "polar": {
           "angularaxis": {
            "gridcolor": "white",
            "linecolor": "white",
            "ticks": ""
           },
           "bgcolor": "#E5ECF6",
           "radialaxis": {
            "gridcolor": "white",
            "linecolor": "white",
            "ticks": ""
           }
          },
          "scene": {
           "xaxis": {
            "backgroundcolor": "#E5ECF6",
            "gridcolor": "white",
            "gridwidth": 2,
            "linecolor": "white",
            "showbackground": true,
            "ticks": "",
            "zerolinecolor": "white"
           },
           "yaxis": {
            "backgroundcolor": "#E5ECF6",
            "gridcolor": "white",
            "gridwidth": 2,
            "linecolor": "white",
            "showbackground": true,
            "ticks": "",
            "zerolinecolor": "white"
           },
           "zaxis": {
            "backgroundcolor": "#E5ECF6",
            "gridcolor": "white",
            "gridwidth": 2,
            "linecolor": "white",
            "showbackground": true,
            "ticks": "",
            "zerolinecolor": "white"
           }
          },
          "shapedefaults": {
           "line": {
            "color": "#2a3f5f"
           }
          },
          "ternary": {
           "aaxis": {
            "gridcolor": "white",
            "linecolor": "white",
            "ticks": ""
           },
           "baxis": {
            "gridcolor": "white",
            "linecolor": "white",
            "ticks": ""
           },
           "bgcolor": "#E5ECF6",
           "caxis": {
            "gridcolor": "white",
            "linecolor": "white",
            "ticks": ""
           }
          },
          "title": {
           "x": 0.05
          },
          "xaxis": {
           "automargin": true,
           "gridcolor": "white",
           "linecolor": "white",
           "ticks": "",
           "title": {
            "standoff": 15
           },
           "zerolinecolor": "white",
           "zerolinewidth": 2
          },
          "yaxis": {
           "automargin": true,
           "gridcolor": "white",
           "linecolor": "white",
           "ticks": "",
           "title": {
            "standoff": 15
           },
           "zerolinecolor": "white",
           "zerolinewidth": 2
          }
         }
        },
        "title": {
         "text": "Mode Choice Calibration Constants"
        },
        "width": 800,
        "xaxis": {
         "title": {
          "text": "Iteration"
         }
        },
        "yaxis": {
         "title": {
          "text": "Constant Value"
         }
        }
       }
      },
      "text/html": [
       "<div>                            <div id=\"0aafa59e-e69c-4c0f-93d5-486cf7a8aead\" class=\"plotly-graph-div\" style=\"height:400px; width:800px;\"></div>            <script type=\"text/javascript\">                require([\"plotly\"], function(Plotly) {                    window.PLOTLYENV=window.PLOTLYENV || {};                                    if (document.getElementById(\"0aafa59e-e69c-4c0f-93d5-486cf7a8aead\")) {                    Plotly.newPlot(                        \"0aafa59e-e69c-4c0f-93d5-486cf7a8aead\",                        [{\"mode\":\"lines+markers\",\"name\":\"HBC Pk asc_nonmotor\",\"x\":[25,24,23,22,21,20,19,18,17,16,15,14,13,12,11,10,9,8,7,6,5,4,3,2,1,0],\"y\":[0.16329999268054962,0.1597999930381775,0.15569999814033508,0.1509000062942505,0.1453000009059906,0.1387999951839447,0.13120000064373016,0.12240000069141388,0.11209999769926071,0.10010000318288803,0.08619999885559082,0.07010000199079514,0.051500000059604645,0.030300000682473183,0.006099999882280827,-0.020999999716877937,-0.050999999046325684,-0.08340000361204147,-0.11699999868869781,-0.14970000088214874,-0.17790000140666962,-0.19599999487400055,-0.19609999656677246,-0.16859999299049377,-0.10450000315904617,0.0],\"type\":\"scatter\"},{\"mode\":\"lines+markers\",\"name\":\"HBC Pk asc_transit\",\"x\":[25,24,23,22,21,20,19,18,17,16,15,14,13,12,11,10,9,8,7,6,5,4,3,2,1,0],\"y\":[-0.5059000253677368,-0.5083000063896179,-0.5109000205993652,-0.5138000249862671,-0.5169000029563904,-0.5202000141143799,-0.5236999988555908,-0.5273000001907349,-0.5309000015258789,-0.5343000292778015,-0.5372999906539917,-0.5394999980926514,-0.5404999852180481,-0.5397999882698059,-0.5364000201225281,-0.5295000076293945,-0.5177000164985657,-0.49950000643730164,-0.4731000065803528,-0.43639999628067017,-0.3874000012874603,-0.32440000772476196,-0.24690000712871552,-0.1573999971151352,-0.06639999896287918,0.0],\"type\":\"scatter\"},{\"mode\":\"lines+markers\",\"name\":\"HBC Pk asc_shared\",\"x\":[25,24,23,22,21,20,19,18,17,16,15,14,13,12,11,10,9,8,7,6,5,4,3,2,1,0],\"y\":[-0.9194999933242798,-0.9193999767303467,-0.9193000197410583,-0.9192000031471252,-0.9190999865531921,-0.9190000295639038,-0.9187999963760376,-0.9186000227928162,-0.9182999730110168,-0.917900025844574,-0.9172999858856201,-0.9165999889373779,-0.9154999852180481,-0.9139000177383423,-0.9114999771118164,-0.907800018787384,-0.9020000100135803,-0.892799973487854,-0.8780999779701233,-0.8544999957084656,-0.8166000247001648,-0.7560999989509583,-0.6604999899864197,-0.5131999850273132,-0.2964000105857849,0.0],\"type\":\"scatter\"},{\"mode\":\"lines+markers\",\"name\":\"HBC Pk asc_hov\",\"x\":[25,24,23,22,21,20,19,18,17,16,15,14,13,12,11,10,9,8,7,6,5,4,3,2,1,0],\"y\":[0.0625,0.0625,0.0625,0.0625,0.0625,0.0625,0.0625,0.0625,0.0625,0.0625,0.0625,0.0625,0.0625,0.0625,0.0625,0.0625,0.0625,0.0625,0.0625,0.0625,0.0625,0.0625,0.0625,0.0625,0.0625,0.0625],\"type\":\"scatter\"},{\"mode\":\"lines+markers\",\"name\":\"HBC Pk asc_toll\",\"x\":[25,24,23,22,21,20,19,18,17,16,15,14,13,12,11,10,9,8,7,6,5,4,3,2,1,0],\"y\":[-0.25,-0.25,-0.25,-0.25,-0.25,-0.25,-0.25,-0.25,-0.25,-0.25,-0.25,-0.25,-0.25,-0.25,-0.25,-0.25,-0.25,-0.25,-0.25,-0.25,-0.25,-0.25,-0.25,-0.25,-0.25,-0.25],\"type\":\"scatter\"},{\"mode\":\"lines+markers\",\"name\":\"HBC Pk asc_sr3\",\"x\":[25,24,23,22,21,20,19,18,17,16,15,14,13,12,11,10,9,8,7,6,5,4,3,2,1,0],\"y\":[-0.23929999768733978,-0.23929999768733978,-0.23929999768733978,-0.23929999768733978,-0.23929999768733978,-0.23929999768733978,-0.23929999768733978,-0.23929999768733978,-0.23929999768733978,-0.23929999768733978,-0.23929999768733978,-0.23929999768733978,-0.23929999768733978,-0.23929999768733978,-0.23929999768733978,-0.23919999599456787,-0.23909999430179596,-0.23890000581741333,-0.23829999566078186,-0.2371000051498413,-0.23430000245571136,-0.2280000001192093,-0.21379999816417694,-0.18289999663829803,-0.11909999698400497,0.0],\"type\":\"scatter\"},{\"mode\":\"lines+markers\",\"name\":\"HBC Pk asc_EXP\",\"x\":[25,24,23,22,21,20,19,18,17,16,15,14,13,12,11,10,9,8,7,6,5,4,3,2,1,0],\"y\":[-0.41429999470710754,-0.41339999437332153,-0.4124999940395355,-0.4113999903202057,-0.41029998660087585,-0.4090999960899353,-0.4077000021934509,-0.40630000829696655,-0.40470001101493835,-0.40290001034736633,-0.4009999930858612,-0.39890000224113464,-0.3968999981880188,-0.39419999718666077,-0.3926999866962433,-0.3889000117778778,-0.38989999890327454,-0.3831000030040741,-0.3919000029563904,-0.37540000677108765,-0.40709999203681946,-0.3587000072002411,-0.453000009059906,-0.3059999942779541,-0.5662000179290771,0.0],\"type\":\"scatter\"},{\"mode\":\"lines+markers\",\"name\":\"HBC Pk asc_BRT\",\"x\":[25,24,23,22,21,20,19,18,17,16,15,14,13,12,11,10,9,8,7,6,5,4,3,2,1,0],\"y\":[0.2903999984264374,0.28870001435279846,0.28690001368522644,0.2849000096321106,0.2827000021934509,0.28029999136924744,0.2775999903678894,0.27469998598098755,0.27140000462532043,0.2678000032901764,0.263700008392334,0.2590999901294708,0.25380000472068787,0.24770000576972961,0.24060000479221344,0.23229999840259552,0.22259999811649323,0.21119999885559082,0.19779999554157257,0.18209999799728394,0.1639000028371811,0.1429000049829483,0.11860000342130661,0.08969999849796295,0.05310000106692314,0.0],\"type\":\"scatter\"},{\"mode\":\"lines+markers\",\"name\":\"HBC Pk asc_LRT\",\"x\":[25,24,23,22,21,20,19,18,17,16,15,14,13,12,11,10,9,8,7,6,5,4,3,2,1,0],\"y\":[0.21950000524520874,0.21899999678134918,0.2184000015258789,0.21780000627040863,0.21729999780654907,0.2168000042438507,0.21629999577999115,0.2159000039100647,0.21559999883174896,0.21529999375343323,0.2151000052690506,0.2150000035762787,0.2150000035762787,0.2151000052690506,0.2152000069618225,0.2152000069618225,0.21480000019073486,0.21359999477863312,0.2110999971628189,0.20630000531673431,0.19779999554157257,0.18369999527931213,0.16110000014305115,0.12630000710487366,0.07440000027418137,0.0],\"type\":\"scatter\"},{\"mode\":\"lines+markers\",\"name\":\"HBC Pk asc_CRT\",\"x\":[25,24,23,22,21,20,19,18,17,16,15,14,13,12,11,10,9,8,7,6,5,4,3,2,1,0],\"y\":[0.0017999999690800905,0.0026000000070780516,0.0035000001080334187,0.0044999998062849045,0.00570000009611249,0.0071000000461936,0.008700000122189522,0.010499999858438969,0.012600000016391277,0.014999999664723873,0.01769999973475933,0.02070000022649765,0.024000000208616257,0.02759999968111515,0.03139999881386757,0.03530000150203705,0.03909999877214432,0.042500000447034836,0.04529999941587448,0.04670000076293945,0.04699999839067459,0.04450000077486038,0.04129999876022339,0.03370000049471855,0.02810000069439411,0.0],\"type\":\"scatter\"},{\"mode\":\"lines+markers\",\"name\":\"HBC Pk asc_driveacc\",\"x\":[25,24,23,22,21,20,19,18,17,16,15,14,13,12,11,10,9,8,7,6,5,4,3,2,1,0],\"y\":[-1.1713000535964966,-1.1620999574661255,-1.1520999670028687,-1.1411999464035034,-1.1291999816894531,-1.1160000562667847,-1.1015000343322754,-1.0856000185012817,-1.0680999755859375,-1.048699975013733,-1.0273000001907349,-1.003600001335144,-0.9772999882698059,-0.9480000138282776,-0.9153000116348267,-0.8787000179290771,-0.8374999761581421,-0.7908999919891357,-0.7378000020980835,-0.676800012588501,-0.6061999797821045,-0.5235000252723694,-0.42579999566078186,-0.3091999888420105,-0.16899999976158142,0.0],\"type\":\"scatter\"},{\"mode\":\"lines+markers\",\"name\":\"HBC Pk asc_wEXP\",\"x\":[25,24,23,22,21,20,19,18,17,16,15,14,13,12,11,10,9,8,7,6,5,4,3,2,1,0],\"y\":[0.11010000109672546,0.11020000278949738,0.11029999703168869,0.11050000041723251,0.11089999973773956,0.11140000075101852,0.11209999769926071,0.11299999803304672,0.11410000175237656,0.11540000140666962,0.1168999969959259,0.11869999766349792,0.12049999833106995,0.12280000001192093,0.12430000305175781,0.12680000066757202,0.125900000333786,0.1282999962568283,0.1200999990105629,0.12290000170469284,0.09430000185966492,0.10249999910593033,0.0215000007301569,0.05609999969601631,-0.17059999704360962,0.0],\"type\":\"scatter\"},{\"mode\":\"lines+markers\",\"name\":\"HBC Pk asc_wBRT\",\"x\":[25,24,23,22,21,20,19,18,17,16,15,14,13,12,11,10,9,8,7,6,5,4,3,2,1,0],\"y\":[-0.3736000061035156,-0.3716999888420105,-0.36970001459121704,-0.3675000071525574,-0.3650999963283539,-0.36250001192092896,-0.3596999943256378,-0.35670000314712524,-0.35350000858306885,-0.35010001063346863,-0.3465000092983246,-0.3425999879837036,-0.3384999930858612,-0.334199994802475,-0.3296000063419342,-0.3246999979019165,-0.31929999589920044,-0.31310001015663147,-0.30559998750686646,-0.2955999970436096,-0.28139999508857727,-0.26019999384880066,-0.2281000018119812,-0.17960000038146973,-0.10689999908208847,0.0],\"type\":\"scatter\"},{\"mode\":\"lines+markers\",\"name\":\"HBC Pk asc_wLRT\",\"x\":[25,24,23,22,21,20,19,18,17,16,15,14,13,12,11,10,9,8,7,6,5,4,3,2,1,0],\"y\":[0.4246000051498413,0.4259999990463257,0.4275999963283539,0.4293999969959259,0.43140000104904175,0.43369999527931213,0.43630000948905945,0.439300000667572,0.44269999861717224,0.4465999901294708,0.45100000500679016,0.4560000002384186,0.46160000562667847,0.46779999136924744,0.47450000047683716,0.4814999997615814,0.48840001225471497,0.4945000112056732,0.4986000061035156,0.49880000948905945,0.49219998717308044,0.4742000102996826,0.4377000033855438,0.3700999915599823,0.2467000037431717,0.0],\"type\":\"scatter\"},{\"mode\":\"lines+markers\",\"name\":\"HBC Pk asc_wCRT\",\"x\":[25,24,23,22,21,20,19,18,17,16,15,14,13,12,11,10,9,8,7,6,5,4,3,2,1,0],\"y\":[0.9624999761581421,0.9625999927520752,0.9628000259399414,0.9629999995231628,0.9632999897003174,0.9638000130653381,0.9643999934196472,0.9652000069618225,0.9661999940872192,0.9672999978065491,0.9685999751091003,0.9700000286102295,0.9713000059127808,0.9721999764442444,0.9722999930381775,0.97079998254776,0.96670001745224,0.9581999778747559,0.9430000185966492,0.9172999858856201,0.8766000270843506,0.8130000233650208,0.7178000211715698,0.5727999806404114,0.3562999963760376,0.0],\"type\":\"scatter\"},{\"mode\":\"lines+markers\",\"name\":\"HBC Pk asc_dEXP\",\"x\":[25,24,23,22,21,20,19,18,17,16,15,14,13,12,11,10,9,8,7,6,5,4,3,2,1,0],\"y\":[0.10400000214576721,0.0982000008225441,0.09189999848604202,0.0851999968290329,0.0778999999165535,0.07000000029802322,0.06159999966621399,0.052299998700618744,0.04230000078678131,0.03139999881386757,0.01940000057220459,0.006399999838322401,-0.008200000040233135,-0.023499999195337296,-0.0421999990940094,-0.05959999933838844,-0.08529999852180481,-0.10270000249147415,-0.14270000159740448,-0.15150000154972076,-0.22499999403953552,-0.1981000006198883,-0.3538999855518341,-0.21819999814033508,-0.5698000192642212,0.0],\"type\":\"scatter\"},{\"mode\":\"lines+markers\",\"name\":\"HBC Pk asc_dBRT\",\"x\":[25,24,23,22,21,20,19,18,17,16,15,14,13,12,11,10,9,8,7,6,5,4,3,2,1,0],\"y\":[1.0728000402450562,1.0681999921798706,1.0634000301361084,1.0583000183105469,1.052899956703186,1.0470999479293823,1.0410000085830688,1.034600019454956,1.027899980545044,1.020900011062622,1.0134999752044678,1.0058000087738037,0.9976000189781189,0.9887999892234802,0.9790999889373779,0.9681000113487244,0.9549999833106995,0.9386000037193298,0.9172000288963318,0.8878999948501587,0.8465999960899353,0.7870000004768372,0.6995000243186951,0.5683000087738037,0.36309999227523804,0.0],\"type\":\"scatter\"},{\"mode\":\"lines+markers\",\"name\":\"HBC Pk asc_dLRT\",\"x\":[25,24,23,22,21,20,19,18,17,16,15,14,13,12,11,10,9,8,7,6,5,4,3,2,1,0],\"y\":[0.396699994802475,0.3912000060081482,0.38530001044273376,0.3788999915122986,0.3720000088214874,0.3644999861717224,0.3562999963760376,0.3474999964237213,0.3379000127315521,0.32749998569488525,0.31619998812675476,0.30390000343322754,0.2904999852180481,0.2759000062942505,0.26010000705718994,0.24289999902248383,0.22429999709129333,0.20430000126361847,0.18279999494552612,0.1598999947309494,0.1354999989271164,0.10970000177621841,0.08219999819993973,0.053199999034404755,0.024000000208616257,0.0],\"type\":\"scatter\"},{\"mode\":\"lines+markers\",\"name\":\"HBC Pk asc_dCRT\",\"x\":[25,24,23,22,21,20,19,18,17,16,15,14,13,12,11,10,9,8,7,6,5,4,3,2,1,0],\"y\":[0.8472999930381775,0.840399980545044,0.8328999876976013,0.8246999979019165,0.8158000111579895,0.8061000108718872,0.7955999970436096,0.7839999794960022,0.7713000178337097,0.7573999762535095,0.7421000003814697,0.7251999974250793,0.7064999938011169,0.685699999332428,0.6625000238418579,0.6363999843597412,0.6069999933242798,0.5734999775886536,0.5353999733924866,0.4912000000476837,0.4404999911785126,0.3806000053882599,0.31209999322891235,0.2290000021457672,0.1347000002861023,0.0],\"type\":\"scatter\"},{\"mode\":\"lines+markers\",\"name\":\"HBC Pk asc_bike\",\"x\":[25,24,23,22,21,20,19,18,17,16,15,14,13,12,11,10,9,8,7,6,5,4,3,2,1,0],\"y\":[-2.069000005722046,-2.0673999786376953,-2.0653998851776123,-2.062999963760376,-2.059999942779541,-2.056299924850464,-2.0517001152038574,-2.0460000038146973,-2.038800001144409,-2.0297000408172607,-2.0179998874664307,-2.003000020980835,-1.9837000370025635,-1.9586999416351318,-1.926200032234192,-1.8839000463485718,-1.8287999629974365,-1.7569999694824219,-1.663699984550476,-1.5434000492095947,-1.3901000022888184,-1.1979000568389893,-0.9623000025749207,-0.6819000244140625,-0.35910001397132874,0.0],\"type\":\"scatter\"}],                        {\"height\":400,\"template\":{\"data\":{\"barpolar\":[{\"marker\":{\"line\":{\"color\":\"#E5ECF6\",\"width\":0.5},\"pattern\":{\"fillmode\":\"overlay\",\"size\":10,\"solidity\":0.2}},\"type\":\"barpolar\"}],\"bar\":[{\"error_x\":{\"color\":\"#2a3f5f\"},\"error_y\":{\"color\":\"#2a3f5f\"},\"marker\":{\"line\":{\"color\":\"#E5ECF6\",\"width\":0.5},\"pattern\":{\"fillmode\":\"overlay\",\"size\":10,\"solidity\":0.2}},\"type\":\"bar\"}],\"carpet\":[{\"aaxis\":{\"endlinecolor\":\"#2a3f5f\",\"gridcolor\":\"white\",\"linecolor\":\"white\",\"minorgridcolor\":\"white\",\"startlinecolor\":\"#2a3f5f\"},\"baxis\":{\"endlinecolor\":\"#2a3f5f\",\"gridcolor\":\"white\",\"linecolor\":\"white\",\"minorgridcolor\":\"white\",\"startlinecolor\":\"#2a3f5f\"},\"type\":\"carpet\"}],\"choropleth\":[{\"colorbar\":{\"outlinewidth\":0,\"ticks\":\"\"},\"type\":\"choropleth\"}],\"contourcarpet\":[{\"colorbar\":{\"outlinewidth\":0,\"ticks\":\"\"},\"type\":\"contourcarpet\"}],\"contour\":[{\"colorbar\":{\"outlinewidth\":0,\"ticks\":\"\"},\"colorscale\":[[0.0,\"#0d0887\"],[0.1111111111111111,\"#46039f\"],[0.2222222222222222,\"#7201a8\"],[0.3333333333333333,\"#9c179e\"],[0.4444444444444444,\"#bd3786\"],[0.5555555555555556,\"#d8576b\"],[0.6666666666666666,\"#ed7953\"],[0.7777777777777778,\"#fb9f3a\"],[0.8888888888888888,\"#fdca26\"],[1.0,\"#f0f921\"]],\"type\":\"contour\"}],\"heatmapgl\":[{\"colorbar\":{\"outlinewidth\":0,\"ticks\":\"\"},\"colorscale\":[[0.0,\"#0d0887\"],[0.1111111111111111,\"#46039f\"],[0.2222222222222222,\"#7201a8\"],[0.3333333333333333,\"#9c179e\"],[0.4444444444444444,\"#bd3786\"],[0.5555555555555556,\"#d8576b\"],[0.6666666666666666,\"#ed7953\"],[0.7777777777777778,\"#fb9f3a\"],[0.8888888888888888,\"#fdca26\"],[1.0,\"#f0f921\"]],\"type\":\"heatmapgl\"}],\"heatmap\":[{\"colorbar\":{\"outlinewidth\":0,\"ticks\":\"\"},\"colorscale\":[[0.0,\"#0d0887\"],[0.1111111111111111,\"#46039f\"],[0.2222222222222222,\"#7201a8\"],[0.3333333333333333,\"#9c179e\"],[0.4444444444444444,\"#bd3786\"],[0.5555555555555556,\"#d8576b\"],[0.6666666666666666,\"#ed7953\"],[0.7777777777777778,\"#fb9f3a\"],[0.8888888888888888,\"#fdca26\"],[1.0,\"#f0f921\"]],\"type\":\"heatmap\"}],\"histogram2dcontour\":[{\"colorbar\":{\"outlinewidth\":0,\"ticks\":\"\"},\"colorscale\":[[0.0,\"#0d0887\"],[0.1111111111111111,\"#46039f\"],[0.2222222222222222,\"#7201a8\"],[0.3333333333333333,\"#9c179e\"],[0.4444444444444444,\"#bd3786\"],[0.5555555555555556,\"#d8576b\"],[0.6666666666666666,\"#ed7953\"],[0.7777777777777778,\"#fb9f3a\"],[0.8888888888888888,\"#fdca26\"],[1.0,\"#f0f921\"]],\"type\":\"histogram2dcontour\"}],\"histogram2d\":[{\"colorbar\":{\"outlinewidth\":0,\"ticks\":\"\"},\"colorscale\":[[0.0,\"#0d0887\"],[0.1111111111111111,\"#46039f\"],[0.2222222222222222,\"#7201a8\"],[0.3333333333333333,\"#9c179e\"],[0.4444444444444444,\"#bd3786\"],[0.5555555555555556,\"#d8576b\"],[0.6666666666666666,\"#ed7953\"],[0.7777777777777778,\"#fb9f3a\"],[0.8888888888888888,\"#fdca26\"],[1.0,\"#f0f921\"]],\"type\":\"histogram2d\"}],\"histogram\":[{\"marker\":{\"pattern\":{\"fillmode\":\"overlay\",\"size\":10,\"solidity\":0.2}},\"type\":\"histogram\"}],\"mesh3d\":[{\"colorbar\":{\"outlinewidth\":0,\"ticks\":\"\"},\"type\":\"mesh3d\"}],\"parcoords\":[{\"line\":{\"colorbar\":{\"outlinewidth\":0,\"ticks\":\"\"}},\"type\":\"parcoords\"}],\"pie\":[{\"automargin\":true,\"type\":\"pie\"}],\"scatter3d\":[{\"line\":{\"colorbar\":{\"outlinewidth\":0,\"ticks\":\"\"}},\"marker\":{\"colorbar\":{\"outlinewidth\":0,\"ticks\":\"\"}},\"type\":\"scatter3d\"}],\"scattercarpet\":[{\"marker\":{\"colorbar\":{\"outlinewidth\":0,\"ticks\":\"\"}},\"type\":\"scattercarpet\"}],\"scattergeo\":[{\"marker\":{\"colorbar\":{\"outlinewidth\":0,\"ticks\":\"\"}},\"type\":\"scattergeo\"}],\"scattergl\":[{\"marker\":{\"colorbar\":{\"outlinewidth\":0,\"ticks\":\"\"}},\"type\":\"scattergl\"}],\"scattermapbox\":[{\"marker\":{\"colorbar\":{\"outlinewidth\":0,\"ticks\":\"\"}},\"type\":\"scattermapbox\"}],\"scatterpolargl\":[{\"marker\":{\"colorbar\":{\"outlinewidth\":0,\"ticks\":\"\"}},\"type\":\"scatterpolargl\"}],\"scatterpolar\":[{\"marker\":{\"colorbar\":{\"outlinewidth\":0,\"ticks\":\"\"}},\"type\":\"scatterpolar\"}],\"scatter\":[{\"fillpattern\":{\"fillmode\":\"overlay\",\"size\":10,\"solidity\":0.2},\"type\":\"scatter\"}],\"scatterternary\":[{\"marker\":{\"colorbar\":{\"outlinewidth\":0,\"ticks\":\"\"}},\"type\":\"scatterternary\"}],\"surface\":[{\"colorbar\":{\"outlinewidth\":0,\"ticks\":\"\"},\"colorscale\":[[0.0,\"#0d0887\"],[0.1111111111111111,\"#46039f\"],[0.2222222222222222,\"#7201a8\"],[0.3333333333333333,\"#9c179e\"],[0.4444444444444444,\"#bd3786\"],[0.5555555555555556,\"#d8576b\"],[0.6666666666666666,\"#ed7953\"],[0.7777777777777778,\"#fb9f3a\"],[0.8888888888888888,\"#fdca26\"],[1.0,\"#f0f921\"]],\"type\":\"surface\"}],\"table\":[{\"cells\":{\"fill\":{\"color\":\"#EBF0F8\"},\"line\":{\"color\":\"white\"}},\"header\":{\"fill\":{\"color\":\"#C8D4E3\"},\"line\":{\"color\":\"white\"}},\"type\":\"table\"}]},\"layout\":{\"annotationdefaults\":{\"arrowcolor\":\"#2a3f5f\",\"arrowhead\":0,\"arrowwidth\":1},\"autotypenumbers\":\"strict\",\"coloraxis\":{\"colorbar\":{\"outlinewidth\":0,\"ticks\":\"\"}},\"colorscale\":{\"diverging\":[[0,\"#8e0152\"],[0.1,\"#c51b7d\"],[0.2,\"#de77ae\"],[0.3,\"#f1b6da\"],[0.4,\"#fde0ef\"],[0.5,\"#f7f7f7\"],[0.6,\"#e6f5d0\"],[0.7,\"#b8e186\"],[0.8,\"#7fbc41\"],[0.9,\"#4d9221\"],[1,\"#276419\"]],\"sequential\":[[0.0,\"#0d0887\"],[0.1111111111111111,\"#46039f\"],[0.2222222222222222,\"#7201a8\"],[0.3333333333333333,\"#9c179e\"],[0.4444444444444444,\"#bd3786\"],[0.5555555555555556,\"#d8576b\"],[0.6666666666666666,\"#ed7953\"],[0.7777777777777778,\"#fb9f3a\"],[0.8888888888888888,\"#fdca26\"],[1.0,\"#f0f921\"]],\"sequentialminus\":[[0.0,\"#0d0887\"],[0.1111111111111111,\"#46039f\"],[0.2222222222222222,\"#7201a8\"],[0.3333333333333333,\"#9c179e\"],[0.4444444444444444,\"#bd3786\"],[0.5555555555555556,\"#d8576b\"],[0.6666666666666666,\"#ed7953\"],[0.7777777777777778,\"#fb9f3a\"],[0.8888888888888888,\"#fdca26\"],[1.0,\"#f0f921\"]]},\"colorway\":[\"#636efa\",\"#EF553B\",\"#00cc96\",\"#ab63fa\",\"#FFA15A\",\"#19d3f3\",\"#FF6692\",\"#B6E880\",\"#FF97FF\",\"#FECB52\"],\"font\":{\"color\":\"#2a3f5f\"},\"geo\":{\"bgcolor\":\"white\",\"lakecolor\":\"white\",\"landcolor\":\"#E5ECF6\",\"showlakes\":true,\"showland\":true,\"subunitcolor\":\"white\"},\"hoverlabel\":{\"align\":\"left\"},\"hovermode\":\"closest\",\"mapbox\":{\"style\":\"light\"},\"paper_bgcolor\":\"white\",\"plot_bgcolor\":\"#E5ECF6\",\"polar\":{\"angularaxis\":{\"gridcolor\":\"white\",\"linecolor\":\"white\",\"ticks\":\"\"},\"bgcolor\":\"#E5ECF6\",\"radialaxis\":{\"gridcolor\":\"white\",\"linecolor\":\"white\",\"ticks\":\"\"}},\"scene\":{\"xaxis\":{\"backgroundcolor\":\"#E5ECF6\",\"gridcolor\":\"white\",\"gridwidth\":2,\"linecolor\":\"white\",\"showbackground\":true,\"ticks\":\"\",\"zerolinecolor\":\"white\"},\"yaxis\":{\"backgroundcolor\":\"#E5ECF6\",\"gridcolor\":\"white\",\"gridwidth\":2,\"linecolor\":\"white\",\"showbackground\":true,\"ticks\":\"\",\"zerolinecolor\":\"white\"},\"zaxis\":{\"backgroundcolor\":\"#E5ECF6\",\"gridcolor\":\"white\",\"gridwidth\":2,\"linecolor\":\"white\",\"showbackground\":true,\"ticks\":\"\",\"zerolinecolor\":\"white\"}},\"shapedefaults\":{\"line\":{\"color\":\"#2a3f5f\"}},\"ternary\":{\"aaxis\":{\"gridcolor\":\"white\",\"linecolor\":\"white\",\"ticks\":\"\"},\"baxis\":{\"gridcolor\":\"white\",\"linecolor\":\"white\",\"ticks\":\"\"},\"bgcolor\":\"#E5ECF6\",\"caxis\":{\"gridcolor\":\"white\",\"linecolor\":\"white\",\"ticks\":\"\"}},\"title\":{\"x\":0.05},\"xaxis\":{\"automargin\":true,\"gridcolor\":\"white\",\"linecolor\":\"white\",\"ticks\":\"\",\"title\":{\"standoff\":15},\"zerolinecolor\":\"white\",\"zerolinewidth\":2},\"yaxis\":{\"automargin\":true,\"gridcolor\":\"white\",\"linecolor\":\"white\",\"ticks\":\"\",\"title\":{\"standoff\":15},\"zerolinecolor\":\"white\",\"zerolinewidth\":2}}},\"title\":{\"text\":\"Mode Choice Calibration Constants\"},\"width\":800,\"xaxis\":{\"title\":{\"text\":\"Iteration\"}},\"yaxis\":{\"title\":{\"text\":\"Constant Value\"}}},                        {\"responsive\": true}                    ).then(function(){\n",
       "                            \n",
       "var gd = document.getElementById('0aafa59e-e69c-4c0f-93d5-486cf7a8aead');\n",
       "var x = new MutationObserver(function (mutations, observer) {{\n",
       "        var display = window.getComputedStyle(gd).display;\n",
       "        if (!display || display === 'none') {{\n",
       "            console.log([gd, 'removed!']);\n",
       "            Plotly.purge(gd);\n",
       "            observer.disconnect();\n",
       "        }}\n",
       "}});\n",
       "\n",
       "// Listen for the removal of the full notebook cells\n",
       "var notebookContainer = gd.closest('#notebook-container');\n",
       "if (notebookContainer) {{\n",
       "    x.observe(notebookContainer, {childList: true});\n",
       "}}\n",
       "\n",
       "// Listen for the clearing of the current output cell\n",
       "var outputEl = gd.closest('.output');\n",
       "if (outputEl) {{\n",
       "    x.observe(outputEl, {childList: true});\n",
       "}}\n",
       "\n",
       "                        })                };                });            </script>        </div>"
      ]
     },
     "metadata": {},
     "output_type": "display_data"
    }
   ],
   "source": [
    "# MAKE INTERACTIVE CHART\n",
    "py.offline.init_notebook_mode(connected=True)\n",
    "\n",
    "lstTripPurp  = df_Constants['Purp'     ].unique().tolist()\n",
    "lstPkOk      = df_Constants['PkOk'     ].unique().tolist()\n",
    "lstConstName = df_Constants['ConstName'].unique().tolist()\n",
    "    \n",
    "selectTripPurp     = widgets.SelectMultiple(options=lstTripPurp, value=('HBW',), description='Trip Purposes')\n",
    "selectPkOk         = widgets.SelectMultiple(options=lstPkOk, value=('Pk',), description='Peak/Off-Peak')\n",
    "selectConstName    = widgets.SelectMultiple(options=lstConstName, value= ('asc_nonmotor_0veh',), description='Constants')\n",
    "\n",
    "widgets.interactive(update_plot, trippurps=selectTripPurp, pkoks=selectPkOk, constnames=selectConstName)\n"
   ]
  },
  {
   "cell_type": "code",
   "execution_count": 29,
   "metadata": {},
   "outputs": [],
   "source": [
    "def fnPlotConstant(plotPurp, plotPkOk, plotConstName, sTitle):\n",
    "    \n",
    "    df_plot = df_Constants.copy()\n",
    "    \n",
    "\n",
    "\n",
    "    df_plot = df_plot[(df_plot.Purp  == plotPurp) & (df_plot.PkOk == plotPkOk) & (df_plot.ConstName == plotConstName)]\n",
    "                           \n",
    "    #display(df_plot)\n",
    "\n",
    "\n",
    "    #ax = df_plot.plot.line(figsize=aFigureSize, fontsize=iAxisItemSize, zorder=10)\n",
    "\n",
    "    ax = df_plot.plot.scatter(figsize=(18,6), fontsize=18, x='Iter', y='ConstValue')\n",
    "    \n",
    "   \n",
    "    #set title\n",
    "    ax.set_title(sTitle, fontsize=36)\n",
    "\n",
    "    ax.yaxis.set_major_formatter(mtick.StrMethodFormatter('{x:0.3f}'))\n"
   ]
  },
  {
   "cell_type": "code",
   "execution_count": 30,
   "metadata": {
    "scrolled": false
   },
   "outputs": [
    {
     "name": "stderr",
     "output_type": "stream",
     "text": [
      "C:\\Users\\cday\\AppData\\Local\\Temp\\ipykernel_32916\\1947286878.py:8: FutureWarning:\n",
      "\n",
      "The provided callable <function max at 0x000001F5AE0EEC10> is currently using SeriesGroupBy.max. In a future version of pandas, the provided callable will be used directly. To keep current behavior pass the string \"max\" instead.\n",
      "\n"
     ]
    }
   ],
   "source": [
    "FILTERPURPOSE = ''\n",
    "FILTERPEAK    = ''\n",
    "FILTERSTRING  = ''\n",
    "\n",
    "\n",
    "df_Constants['ConstValueAbs'] = df_Constants['ConstValue'].abs()\n",
    "\n",
    "df_toPlot = df_Constants.groupby(['Purp','PkOk','ConstName'], as_index=False).agg({'ConstValueAbs': [np.max]})\n",
    "df_toPlot.columns = ('Purp','PkOk','ConstName','MaxValue')\n",
    "\n",
    "df_toPlot = df_toPlot[df_toPlot['MaxValue'].abs()!=0].copy()\n",
    "\n",
    "df_toPlot = df_toPlot[df_toPlot['Purp'].str.contains(FILTERPURPOSE)]\n",
    "df_toPlot = df_toPlot[df_toPlot['PkOk'].str.contains(FILTERPEAK)]\n",
    "df_toPlot = df_toPlot[df_toPlot['ConstName'].str.contains(FILTERSTRING)]\n",
    "\n",
    "df_toPlotSorted = pd.DataFrame.merge(df_toPlot, df_ConstOrder, on='ConstName',how='left')\n",
    "df_toPlotSorted = df_toPlotSorted.fillna(0)\n",
    "df_toPlotSorted = df_toPlotSorted.sort_values(by=['Purp','PkOk','SortOrder'])\n",
    "\n",
    "##df_toPlot = pd.DataFrame.merge(df_toPlot, df_Constants_Step_Status, on=('Purp','PkOk','ConstName'))\n",
    "\n",
    "#for index, row in df_toPlotSorted.iterrows():\n",
    "\n",
    "    #sTitle = row['Purp'] + \" \" + row['PkOk'] + \" \" + row['ConstName'] # + \": \" + row['Status']\n",
    "   \n",
    "    #fnPlotConstant(row['Purp'],row['PkOk'],row['ConstName'], sTitle)"
   ]
  },
  {
   "cell_type": "code",
   "execution_count": null,
   "metadata": {},
   "outputs": [],
   "source": []
  }
 ],
 "metadata": {
  "kernelspec": {
   "display_name": "base",
   "language": "python",
   "name": "python3"
  },
  "language_info": {
   "codemirror_mode": {
    "name": "ipython",
    "version": 3
   },
   "file_extension": ".py",
   "mimetype": "text/x-python",
   "name": "python",
   "nbconvert_exporter": "python",
   "pygments_lexer": "ipython3",
   "version": "3.9.19"
  }
 },
 "nbformat": 4,
 "nbformat_minor": 4
}
